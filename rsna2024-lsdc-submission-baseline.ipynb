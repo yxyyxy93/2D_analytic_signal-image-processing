{
 "cells": [
  {
   "cell_type": "markdown",
   "id": "2ea78b9c",
   "metadata": {
    "_cell_guid": "b1076dfc-b9ad-4769-8c92-a6c4dae69d19",
    "_uuid": "8f2839f25d086af736a60e9eeb907d3b93b6e0e5",
    "papermill": {
     "duration": 0.008593,
     "end_time": "2024-09-24T03:20:58.253002",
     "exception": false,
     "start_time": "2024-09-24T03:20:58.244409",
     "status": "completed"
    },
    "tags": []
   },
   "source": [
    "Adopted from https://www.kaggle.com/code/yxyyxy/rsna2024-training-baseline-2nd-stage/edit\n",
    "\n",
    "# RSNA2024 LSDC Submission Baseline\n",
    "\n",
    "This notebook will Let the model infer and make a submission.\n",
    "\n",
    "### My other Notebooks\n",
    "- [RSNA2024 LSDC Making Dataset](https://www.kaggle.com/code/itsuki9180/rsna2024-lsdc-making-dataset) \n",
    "- [RSNA2024 LSDC Training Baseline](https://www.kaggle.com/code/itsuki9180/rsna2024-lsdc-training-baseline) \n",
    "- [RSNA2024 LSDC Submission Baseline](https://www.kaggle.com/code/itsuki9180/rsna2024-lsdc-submission-baseline) <- you're reading now"
   ]
  },
  {
   "cell_type": "markdown",
   "id": "69707e35",
   "metadata": {
    "papermill": {
     "duration": 0.007656,
     "end_time": "2024-09-24T03:20:58.268738",
     "exception": false,
     "start_time": "2024-09-24T03:20:58.261082",
     "status": "completed"
    },
    "tags": []
   },
   "source": [
    "# Import Libralies"
   ]
  },
  {
   "cell_type": "code",
   "execution_count": 1,
   "id": "7463b3a2",
   "metadata": {
    "execution": {
     "iopub.execute_input": "2024-09-24T03:20:58.285775Z",
     "iopub.status.busy": "2024-09-24T03:20:58.285415Z",
     "iopub.status.idle": "2024-09-24T03:21:52.518819Z",
     "shell.execute_reply": "2024-09-24T03:21:52.517340Z"
    },
    "papermill": {
     "duration": 54.245175,
     "end_time": "2024-09-24T03:21:52.521651",
     "exception": false,
     "start_time": "2024-09-24T03:20:58.276476",
     "status": "completed"
    },
    "tags": []
   },
   "outputs": [
    {
     "name": "stdout",
     "output_type": "stream",
     "text": [
      "Collecting segmentation_models_pytorch\r\n",
      "  Downloading segmentation_models_pytorch-0.3.4-py3-none-any.whl.metadata (30 kB)\r\n",
      "Collecting efficientnet-pytorch==0.7.1 (from segmentation_models_pytorch)\r\n",
      "  Downloading efficientnet_pytorch-0.7.1.tar.gz (21 kB)\r\n",
      "  Preparing metadata (setup.py) ... \u001b[?25l-\b \bdone\r\n",
      "\u001b[?25hCollecting huggingface-hub>=0.24.6 (from segmentation_models_pytorch)\r\n",
      "  Downloading huggingface_hub-0.25.1-py3-none-any.whl.metadata (13 kB)\r\n",
      "Requirement already satisfied: pillow in /opt/conda/lib/python3.10/site-packages (from segmentation_models_pytorch) (9.5.0)\r\n",
      "Collecting pretrainedmodels==0.7.4 (from segmentation_models_pytorch)\r\n",
      "  Downloading pretrainedmodels-0.7.4.tar.gz (58 kB)\r\n",
      "\u001b[2K     \u001b[90m━━━━━━━━━━━━━━━━━━━━━━━━━━━━━━━━━━━━━━━━\u001b[0m \u001b[32m58.8/58.8 kB\u001b[0m \u001b[31m3.9 MB/s\u001b[0m eta \u001b[36m0:00:00\u001b[0m\r\n",
      "\u001b[?25h  Preparing metadata (setup.py) ... \u001b[?25l-\b \b\\\b \bdone\r\n",
      "\u001b[?25hRequirement already satisfied: six in /opt/conda/lib/python3.10/site-packages (from segmentation_models_pytorch) (1.16.0)\r\n",
      "Collecting timm==0.9.7 (from segmentation_models_pytorch)\r\n",
      "  Downloading timm-0.9.7-py3-none-any.whl.metadata (58 kB)\r\n",
      "\u001b[2K     \u001b[90m━━━━━━━━━━━━━━━━━━━━━━━━━━━━━━━━━━━━━━━━\u001b[0m \u001b[32m58.8/58.8 kB\u001b[0m \u001b[31m4.1 MB/s\u001b[0m eta \u001b[36m0:00:00\u001b[0m\r\n",
      "\u001b[?25hRequirement already satisfied: torchvision>=0.5.0 in /opt/conda/lib/python3.10/site-packages (from segmentation_models_pytorch) (0.16.2)\r\n",
      "Requirement already satisfied: tqdm in /opt/conda/lib/python3.10/site-packages (from segmentation_models_pytorch) (4.66.4)\r\n",
      "Requirement already satisfied: torch in /opt/conda/lib/python3.10/site-packages (from efficientnet-pytorch==0.7.1->segmentation_models_pytorch) (2.1.2)\r\n",
      "Collecting munch (from pretrainedmodels==0.7.4->segmentation_models_pytorch)\r\n",
      "  Downloading munch-4.0.0-py2.py3-none-any.whl.metadata (5.9 kB)\r\n",
      "Requirement already satisfied: pyyaml in /opt/conda/lib/python3.10/site-packages (from timm==0.9.7->segmentation_models_pytorch) (6.0.1)\r\n",
      "Requirement already satisfied: safetensors in /opt/conda/lib/python3.10/site-packages (from timm==0.9.7->segmentation_models_pytorch) (0.4.3)\r\n",
      "Requirement already satisfied: filelock in /opt/conda/lib/python3.10/site-packages (from huggingface-hub>=0.24.6->segmentation_models_pytorch) (3.13.1)\r\n",
      "Requirement already satisfied: fsspec>=2023.5.0 in /opt/conda/lib/python3.10/site-packages (from huggingface-hub>=0.24.6->segmentation_models_pytorch) (2024.3.1)\r\n",
      "Requirement already satisfied: packaging>=20.9 in /opt/conda/lib/python3.10/site-packages (from huggingface-hub>=0.24.6->segmentation_models_pytorch) (21.3)\r\n",
      "Requirement already satisfied: requests in /opt/conda/lib/python3.10/site-packages (from huggingface-hub>=0.24.6->segmentation_models_pytorch) (2.32.3)\r\n",
      "Requirement already satisfied: typing-extensions>=3.7.4.3 in /opt/conda/lib/python3.10/site-packages (from huggingface-hub>=0.24.6->segmentation_models_pytorch) (4.9.0)\r\n",
      "Requirement already satisfied: numpy in /opt/conda/lib/python3.10/site-packages (from torchvision>=0.5.0->segmentation_models_pytorch) (1.26.4)\r\n",
      "Requirement already satisfied: pyparsing!=3.0.5,>=2.0.2 in /opt/conda/lib/python3.10/site-packages (from packaging>=20.9->huggingface-hub>=0.24.6->segmentation_models_pytorch) (3.1.1)\r\n",
      "Requirement already satisfied: sympy in /opt/conda/lib/python3.10/site-packages (from torch->efficientnet-pytorch==0.7.1->segmentation_models_pytorch) (1.12.1)\r\n",
      "Requirement already satisfied: networkx in /opt/conda/lib/python3.10/site-packages (from torch->efficientnet-pytorch==0.7.1->segmentation_models_pytorch) (3.2.1)\r\n",
      "Requirement already satisfied: jinja2 in /opt/conda/lib/python3.10/site-packages (from torch->efficientnet-pytorch==0.7.1->segmentation_models_pytorch) (3.1.2)\r\n",
      "Requirement already satisfied: charset-normalizer<4,>=2 in /opt/conda/lib/python3.10/site-packages (from requests->huggingface-hub>=0.24.6->segmentation_models_pytorch) (3.3.2)\r\n",
      "Requirement already satisfied: idna<4,>=2.5 in /opt/conda/lib/python3.10/site-packages (from requests->huggingface-hub>=0.24.6->segmentation_models_pytorch) (3.6)\r\n",
      "Requirement already satisfied: urllib3<3,>=1.21.1 in /opt/conda/lib/python3.10/site-packages (from requests->huggingface-hub>=0.24.6->segmentation_models_pytorch) (1.26.18)\r\n",
      "Requirement already satisfied: certifi>=2017.4.17 in /opt/conda/lib/python3.10/site-packages (from requests->huggingface-hub>=0.24.6->segmentation_models_pytorch) (2024.2.2)\r\n",
      "Requirement already satisfied: MarkupSafe>=2.0 in /opt/conda/lib/python3.10/site-packages (from jinja2->torch->efficientnet-pytorch==0.7.1->segmentation_models_pytorch) (2.1.3)\r\n",
      "Requirement already satisfied: mpmath<1.4.0,>=1.1.0 in /opt/conda/lib/python3.10/site-packages (from sympy->torch->efficientnet-pytorch==0.7.1->segmentation_models_pytorch) (1.3.0)\r\n",
      "Downloading segmentation_models_pytorch-0.3.4-py3-none-any.whl (109 kB)\r\n",
      "\u001b[2K   \u001b[90m━━━━━━━━━━━━━━━━━━━━━━━━━━━━━━━━━━━━━━━━\u001b[0m \u001b[32m109.5/109.5 kB\u001b[0m \u001b[31m7.0 MB/s\u001b[0m eta \u001b[36m0:00:00\u001b[0m\r\n",
      "\u001b[?25hDownloading timm-0.9.7-py3-none-any.whl (2.2 MB)\r\n",
      "\u001b[2K   \u001b[90m━━━━━━━━━━━━━━━━━━━━━━━━━━━━━━━━━━━━━━━━\u001b[0m \u001b[32m2.2/2.2 MB\u001b[0m \u001b[31m46.0 MB/s\u001b[0m eta \u001b[36m0:00:00\u001b[0m\r\n",
      "\u001b[?25hDownloading huggingface_hub-0.25.1-py3-none-any.whl (436 kB)\r\n",
      "\u001b[2K   \u001b[90m━━━━━━━━━━━━━━━━━━━━━━━━━━━━━━━━━━━━━━━━\u001b[0m \u001b[32m436.4/436.4 kB\u001b[0m \u001b[31m24.9 MB/s\u001b[0m eta \u001b[36m0:00:00\u001b[0m\r\n",
      "\u001b[?25hDownloading munch-4.0.0-py2.py3-none-any.whl (9.9 kB)\r\n",
      "Building wheels for collected packages: efficientnet-pytorch, pretrainedmodels\r\n",
      "  Building wheel for efficientnet-pytorch (setup.py) ... \u001b[?25l-\b \bdone\r\n",
      "\u001b[?25h  Created wheel for efficientnet-pytorch: filename=efficientnet_pytorch-0.7.1-py3-none-any.whl size=16428 sha256=feadc6c0bc9556b75ab1d31df2e958c326d49a0d7f67f8bce0505da850270f5d\r\n",
      "  Stored in directory: /root/.cache/pip/wheels/03/3f/e9/911b1bc46869644912bda90a56bcf7b960f20b5187feea3baf\r\n",
      "  Building wheel for pretrainedmodels (setup.py) ... \u001b[?25l-\b \b\\\b \b|\b \bdone\r\n",
      "\u001b[?25h  Created wheel for pretrainedmodels: filename=pretrainedmodels-0.7.4-py3-none-any.whl size=60945 sha256=98097fa65cc5b9fe65b2c75f1d4976e5b9eb99b1a13d8bf5e088dd6d6b4d16ae\r\n",
      "  Stored in directory: /root/.cache/pip/wheels/35/cb/a5/8f534c60142835bfc889f9a482e4a67e0b817032d9c6883b64\r\n",
      "Successfully built efficientnet-pytorch pretrainedmodels\r\n",
      "Installing collected packages: munch, huggingface-hub, efficientnet-pytorch, timm, pretrainedmodels, segmentation_models_pytorch\r\n",
      "  Attempting uninstall: huggingface-hub\r\n",
      "    Found existing installation: huggingface-hub 0.23.2\r\n",
      "    Uninstalling huggingface-hub-0.23.2:\r\n",
      "      Successfully uninstalled huggingface-hub-0.23.2\r\n",
      "  Attempting uninstall: timm\r\n",
      "    Found existing installation: timm 1.0.3\r\n",
      "    Uninstalling timm-1.0.3:\r\n",
      "      Successfully uninstalled timm-1.0.3\r\n",
      "Successfully installed efficientnet-pytorch-0.7.1 huggingface-hub-0.25.1 munch-4.0.0 pretrainedmodels-0.7.4 segmentation_models_pytorch-0.3.4 timm-0.9.7\r\n",
      "Collecting natsort\r\n",
      "  Downloading natsort-8.4.0-py3-none-any.whl.metadata (21 kB)\r\n",
      "Downloading natsort-8.4.0-py3-none-any.whl (38 kB)\r\n",
      "Installing collected packages: natsort\r\n",
      "Successfully installed natsort-8.4.0\r\n",
      "Using path: /kaggle/input/rsna-2024-lumbar-spine-degenerative-classification/test_series_descriptions.csv\r\n",
      "Using base path: /kaggle/input/rsna-2024-lumbar-spine-degenerative-classification/test_images\r\n",
      "Using path: /kaggle/input/2d-segmentation-of-sagittal-lumbar-spine-mri/simple_unet.pth\r\n",
      "Downloading: \"https://download.pytorch.org/models/resnet34-333f7ec4.pth\" to /root/.cache/torch/hub/checkpoints/resnet34-333f7ec4.pth\r\n",
      "100%|██████████████████████████████████████| 83.3M/83.3M [00:00<00:00, 92.5MB/s]\r\n",
      "Pipeline completed successfully!\r\n",
      "Processing studies: 100%|█████████████████████████| 1/1 [00:00<00:00,  1.40it/s]\r\n",
      "Axial dataset generation completed successfully!\r\n"
     ]
    }
   ],
   "source": [
    "!pip install segmentation_models_pytorch\n",
    "!pip install natsort\n",
    "!python /kaggle/input/deepspine-custom-dataset-preparation-process/main.py \\\n",
    "'/kaggle/input/rsna-2024-lumbar-spine-degenerative-classification/test_series_descriptions.csv' \\\n",
    "'/kaggle/input/rsna-2024-lumbar-spine-degenerative-classification/sample_submission.csv' \\\n",
    "'/kaggle/input/rsna-2024-lumbar-spine-degenerative-classification/test_images' \\\n",
    "'/kaggle/input/2d-segmentation-of-sagittal-lumbar-spine-mri/simple_unet.pth'\n"
   ]
  },
  {
   "cell_type": "code",
   "execution_count": 2,
   "id": "12f81a61",
   "metadata": {
    "execution": {
     "iopub.execute_input": "2024-09-24T03:21:52.555145Z",
     "iopub.status.busy": "2024-09-24T03:21:52.554719Z",
     "iopub.status.idle": "2024-09-24T03:21:56.910869Z",
     "shell.execute_reply": "2024-09-24T03:21:56.909928Z"
    },
    "papermill": {
     "duration": 4.375201,
     "end_time": "2024-09-24T03:21:56.913371",
     "exception": false,
     "start_time": "2024-09-24T03:21:52.538170",
     "status": "completed"
    },
    "tags": []
   },
   "outputs": [],
   "source": [
    "import os\n",
    "import gc\n",
    "import sys\n",
    "from PIL import Image\n",
    "import cv2\n",
    "import math, random\n",
    "import numpy as np\n",
    "import pandas as pd\n",
    "from glob import glob\n",
    "from tqdm import tqdm\n",
    "import matplotlib.pyplot as plt\n",
    "from sklearn.model_selection import StratifiedKFold\n",
    "from sklearn.metrics import log_loss\n",
    "\n",
    "from collections import OrderedDict\n",
    "\n",
    "import torch\n",
    "import torch.nn.functional as F\n",
    "from torch import nn\n",
    "from torch.utils.data import DataLoader, Dataset, Sampler\n",
    "from torch.optim import AdamW\n",
    "\n",
    "import timm\n",
    "from transformers import get_cosine_schedule_with_warmup\n",
    "\n",
    "import albumentations as A\n"
   ]
  },
  {
   "cell_type": "code",
   "execution_count": 3,
   "id": "f21fdee5",
   "metadata": {
    "execution": {
     "iopub.execute_input": "2024-09-24T03:21:56.940659Z",
     "iopub.status.busy": "2024-09-24T03:21:56.940241Z",
     "iopub.status.idle": "2024-09-24T03:21:56.945400Z",
     "shell.execute_reply": "2024-09-24T03:21:56.944618Z"
    },
    "papermill": {
     "duration": 0.020233,
     "end_time": "2024-09-24T03:21:56.947226",
     "exception": false,
     "start_time": "2024-09-24T03:21:56.926993",
     "status": "completed"
    },
    "tags": []
   },
   "outputs": [],
   "source": [
    "rd = '/kaggle/input/rsna-2024-lumbar-spine-degenerative-classification'\n",
    "\n",
    "# Define the directory path\n",
    "DATA_fromStage1 = '/kaggle/working'\n"
   ]
  },
  {
   "cell_type": "markdown",
   "id": "4de5e1d7",
   "metadata": {
    "papermill": {
     "duration": 0.012112,
     "end_time": "2024-09-24T03:21:56.971585",
     "exception": false,
     "start_time": "2024-09-24T03:21:56.959473",
     "status": "completed"
    },
    "tags": []
   },
   "source": [
    "# Config"
   ]
  },
  {
   "cell_type": "code",
   "execution_count": 4,
   "id": "e32677c6",
   "metadata": {
    "execution": {
     "iopub.execute_input": "2024-09-24T03:21:56.997184Z",
     "iopub.status.busy": "2024-09-24T03:21:56.996925Z",
     "iopub.status.idle": "2024-09-24T03:21:57.059016Z",
     "shell.execute_reply": "2024-09-24T03:21:57.058277Z"
    },
    "papermill": {
     "duration": 0.077087,
     "end_time": "2024-09-24T03:21:57.060973",
     "exception": false,
     "start_time": "2024-09-24T03:21:56.983886",
     "status": "completed"
    },
    "tags": []
   },
   "outputs": [],
   "source": [
    "OUTPUT_DIR = f'/kaggle/input/rsna2024-lsdc-training-baseline/rsna24-results'\n",
    "device = 'cuda:0' if torch.cuda.is_available() else 'cpu'\n",
    "N_WORKERS = os.cpu_count()\n",
    "USE_AMP = True\n",
    "SEED = 1\n",
    "\n",
    "IMG_SIZE = [256, 256]\n",
    "N_LABELS = 5\n",
    "N_CLASSES = 3 * N_LABELS\n",
    "\n",
    "model_name_sag = 'efficientnet_b0'\n",
    "model_name_axi = 'resnet34'\n",
    "# resnet34\n",
    "in_chans_sag = 15\n",
    "in_chans_axi = 4\n",
    "\n",
    "N_FOLDS = 5\n",
    "\n",
    "BATCH_SIZE = 1"
   ]
  },
  {
   "cell_type": "code",
   "execution_count": 5,
   "id": "afd48ffd",
   "metadata": {
    "execution": {
     "iopub.execute_input": "2024-09-24T03:21:57.086813Z",
     "iopub.status.busy": "2024-09-24T03:21:57.086526Z",
     "iopub.status.idle": "2024-09-24T03:21:57.093371Z",
     "shell.execute_reply": "2024-09-24T03:21:57.092556Z"
    },
    "papermill": {
     "duration": 0.021751,
     "end_time": "2024-09-24T03:21:57.095258",
     "exception": false,
     "start_time": "2024-09-24T03:21:57.073507",
     "status": "completed"
    },
    "tags": []
   },
   "outputs": [
    {
     "data": {
      "text/plain": [
       "device(type='cuda', index=0)"
      ]
     },
     "execution_count": 5,
     "metadata": {},
     "output_type": "execute_result"
    }
   ],
   "source": [
    "device = torch.device('cuda:0') if torch.cuda.is_available() else torch.device('cpu')\n",
    "device"
   ]
  },
  {
   "cell_type": "code",
   "execution_count": 6,
   "id": "62d77652",
   "metadata": {
    "execution": {
     "iopub.execute_input": "2024-09-24T03:21:57.121202Z",
     "iopub.status.busy": "2024-09-24T03:21:57.120960Z",
     "iopub.status.idle": "2024-09-24T03:21:57.127585Z",
     "shell.execute_reply": "2024-09-24T03:21:57.126951Z"
    },
    "papermill": {
     "duration": 0.021692,
     "end_time": "2024-09-24T03:21:57.129457",
     "exception": false,
     "start_time": "2024-09-24T03:21:57.107765",
     "status": "completed"
    },
    "tags": []
   },
   "outputs": [],
   "source": [
    "sample_sub = pd.read_csv(f'{rd}/sample_submission.csv')"
   ]
  },
  {
   "cell_type": "code",
   "execution_count": 7,
   "id": "e529a305",
   "metadata": {
    "execution": {
     "iopub.execute_input": "2024-09-24T03:21:57.155585Z",
     "iopub.status.busy": "2024-09-24T03:21:57.155329Z",
     "iopub.status.idle": "2024-09-24T03:21:57.160677Z",
     "shell.execute_reply": "2024-09-24T03:21:57.159835Z"
    },
    "papermill": {
     "duration": 0.020417,
     "end_time": "2024-09-24T03:21:57.162578",
     "exception": false,
     "start_time": "2024-09-24T03:21:57.142161",
     "status": "completed"
    },
    "tags": []
   },
   "outputs": [
    {
     "data": {
      "text/plain": [
       "['normal_mild', 'moderate', 'severe']"
      ]
     },
     "execution_count": 7,
     "metadata": {},
     "output_type": "execute_result"
    }
   ],
   "source": [
    "LABELS = list(sample_sub.columns[1:])\n",
    "LABELS"
   ]
  },
  {
   "cell_type": "code",
   "execution_count": 8,
   "id": "b478278e",
   "metadata": {
    "execution": {
     "iopub.execute_input": "2024-09-24T03:21:57.188640Z",
     "iopub.status.busy": "2024-09-24T03:21:57.188384Z",
     "iopub.status.idle": "2024-09-24T03:21:57.192774Z",
     "shell.execute_reply": "2024-09-24T03:21:57.192064Z"
    },
    "papermill": {
     "duration": 0.019502,
     "end_time": "2024-09-24T03:21:57.194648",
     "exception": false,
     "start_time": "2024-09-24T03:21:57.175146",
     "status": "completed"
    },
    "tags": []
   },
   "outputs": [],
   "source": [
    "CONDITIONS = [\n",
    "    'spinal_canal_stenosis', \n",
    "    'left_neural_foraminal_narrowing', \n",
    "    'right_neural_foraminal_narrowing',\n",
    "    'left_subarticular_stenosis',\n",
    "    'right_subarticular_stenosis'\n",
    "]\n",
    "\n",
    "# Define the mapping for each level\n",
    "level_mapping = {\n",
    "    'L1/L2': 'l1_l2',\n",
    "    'L2/L3': 'l2_l3',\n",
    "    'L3/L4': 'l3_l4',\n",
    "    'L4/L5': 'l4_l5',\n",
    "    'L5/S1': 'l5_s1'\n",
    "}\n"
   ]
  },
  {
   "cell_type": "code",
   "execution_count": 9,
   "id": "0816c9f2",
   "metadata": {
    "execution": {
     "iopub.execute_input": "2024-09-24T03:21:57.220918Z",
     "iopub.status.busy": "2024-09-24T03:21:57.220413Z",
     "iopub.status.idle": "2024-09-24T03:21:57.225078Z",
     "shell.execute_reply": "2024-09-24T03:21:57.224313Z"
    },
    "papermill": {
     "duration": 0.019672,
     "end_time": "2024-09-24T03:21:57.226950",
     "exception": false,
     "start_time": "2024-09-24T03:21:57.207278",
     "status": "completed"
    },
    "tags": []
   },
   "outputs": [],
   "source": [
    "def atoi(text):\n",
    "    return int(text) if text.isdigit() else text\n",
    "\n",
    "def natural_keys(text):\n",
    "    return [ atoi(c) for c in re.split(r'(\\d+)', text) ]"
   ]
  },
  {
   "cell_type": "code",
   "execution_count": 10,
   "id": "42df5f4d",
   "metadata": {
    "execution": {
     "iopub.execute_input": "2024-09-24T03:21:57.252996Z",
     "iopub.status.busy": "2024-09-24T03:21:57.252724Z",
     "iopub.status.idle": "2024-09-24T03:21:57.263492Z",
     "shell.execute_reply": "2024-09-24T03:21:57.262459Z"
    },
    "papermill": {
     "duration": 0.025886,
     "end_time": "2024-09-24T03:21:57.265435",
     "exception": false,
     "start_time": "2024-09-24T03:21:57.239549",
     "status": "completed"
    },
    "tags": []
   },
   "outputs": [
    {
     "name": "stdout",
     "output_type": "stream",
     "text": [
      "   Unnamed: 0                                          L4/L5  \\\n",
      "0    44036939  /kaggle/working/sagittalT2/44036939/L4_L5.npy   \n",
      "\n",
      "                                           L3/L4  \\\n",
      "0  /kaggle/working/sagittalT2/44036939/L3_L4.npy   \n",
      "\n",
      "                                           L2/L3  \\\n",
      "0  /kaggle/working/sagittalT2/44036939/L2_L3.npy   \n",
      "\n",
      "                                           L1/L2  \\\n",
      "0  /kaggle/working/sagittalT2/44036939/L1_L2.npy   \n",
      "\n",
      "                                           L5/S1  \n",
      "0  /kaggle/working/sagittalT2/44036939/L5_S1.npy  \n"
     ]
    }
   ],
   "source": [
    "# Define the path to CSV file\n",
    "csv_file_path = DATA_fromStage1 + '/sagittalT2/dataset_metadata.csv'\n",
    "# Read the CSV file\n",
    "dataset_metadata = pd.read_csv(csv_file_path)\n",
    "\n",
    "# Print the number of columns and rows in the DataFrame\n",
    "num_rows = dataset_metadata.shape[0]\n",
    "print(dataset_metadata)"
   ]
  },
  {
   "cell_type": "code",
   "execution_count": 11,
   "id": "bf92a5f5",
   "metadata": {
    "execution": {
     "iopub.execute_input": "2024-09-24T03:21:57.292242Z",
     "iopub.status.busy": "2024-09-24T03:21:57.291993Z",
     "iopub.status.idle": "2024-09-24T03:21:57.298772Z",
     "shell.execute_reply": "2024-09-24T03:21:57.297967Z"
    },
    "papermill": {
     "duration": 0.022511,
     "end_time": "2024-09-24T03:21:57.300688",
     "exception": false,
     "start_time": "2024-09-24T03:21:57.278177",
     "status": "completed"
    },
    "tags": []
   },
   "outputs": [
    {
     "data": {
      "text/plain": [
       "'# one npy file example\\nprint(\"--------------------- SagittalT2 samples -----------\")\\nexample_npy_fn = dataset_metadata[\\'L4/L5\\'][0]\\npath_split = example_npy_fn.split(\\'/\\')\\n\\npath = os.path.join(DATA_fromStage1, path_split[3], path_split[4], path_split[5])\\n# Saggital T2 ------------  Load the .npy file\\nnpy_sagT2_path = os.path.join(DATA_fromStage1 , path_split[3], path_split[4], path_split[5])\\nnpy_sagT2 = np.load(npy_sagT2_path).astype(np.float32)\\n\\n# Axial T2 ------------ Load the .npy file\\nnpy_AxiT2_path = os.path.join(DATA_fromStage1 , \"axialT2\", path_split[4], path_split[5])\\nnpy_AxiT2 = np.load(npy_AxiT2_path).astype(np.float32)\\n\\nprint(\"--------------------- SagittalT2 samples ----------\")\\n# Print the structure of the data\\nprint(f\"Shape of the data: {npy_sagT2.shape}\")\\nprint(f\"Data type: {npy_sagT2.dtype}\")\\n# Show the 15 slices one by one\\nfor i in range(15):\\n    plt.imshow(npy_sagT2[i], cmap=\\'gray\\')\\n    plt.title(f\\'Slice {i+1}\\')\\n    plt.axis(\\'off\\')\\n    plt.show()\\n\\nprint(\"--------------------- AxialT2 samples ----------\")\\nprint(f\"Shape of the data: {npy_AxiT2.shape}\")\\nprint(f\"Data type: {npy_AxiT2.dtype}\")\\nfor i in range(5):\\n    img = npy_AxiT2[i]\\n    plt.imshow(img, cmap=\\'gray\\')\\n    plt.title(f\\'Slice {i+1}\\')\\n    plt.axis(\\'off\\')\\n    plt.show()\\n'"
      ]
     },
     "execution_count": 11,
     "metadata": {},
     "output_type": "execute_result"
    }
   ],
   "source": [
    "'''# one npy file example\n",
    "print(\"--------------------- SagittalT2 samples -----------\")\n",
    "example_npy_fn = dataset_metadata['L4/L5'][0]\n",
    "path_split = example_npy_fn.split('/')\n",
    "\n",
    "path = os.path.join(DATA_fromStage1, path_split[3], path_split[4], path_split[5])\n",
    "# Saggital T2 ------------  Load the .npy file\n",
    "npy_sagT2_path = os.path.join(DATA_fromStage1 , path_split[3], path_split[4], path_split[5])\n",
    "npy_sagT2 = np.load(npy_sagT2_path).astype(np.float32)\n",
    "\n",
    "# Axial T2 ------------ Load the .npy file\n",
    "npy_AxiT2_path = os.path.join(DATA_fromStage1 , \"axialT2\", path_split[4], path_split[5])\n",
    "npy_AxiT2 = np.load(npy_AxiT2_path).astype(np.float32)\n",
    "\n",
    "print(\"--------------------- SagittalT2 samples ----------\")\n",
    "# Print the structure of the data\n",
    "print(f\"Shape of the data: {npy_sagT2.shape}\")\n",
    "print(f\"Data type: {npy_sagT2.dtype}\")\n",
    "# Show the 15 slices one by one\n",
    "for i in range(15):\n",
    "    plt.imshow(npy_sagT2[i], cmap='gray')\n",
    "    plt.title(f'Slice {i+1}')\n",
    "    plt.axis('off')\n",
    "    plt.show()\n",
    "\n",
    "print(\"--------------------- AxialT2 samples ----------\")\n",
    "print(f\"Shape of the data: {npy_AxiT2.shape}\")\n",
    "print(f\"Data type: {npy_AxiT2.dtype}\")\n",
    "for i in range(5):\n",
    "    img = npy_AxiT2[i]\n",
    "    plt.imshow(img, cmap='gray')\n",
    "    plt.title(f'Slice {i+1}')\n",
    "    plt.axis('off')\n",
    "    plt.show()\n",
    "'''"
   ]
  },
  {
   "cell_type": "markdown",
   "id": "b8629a64",
   "metadata": {
    "papermill": {
     "duration": 0.012464,
     "end_time": "2024-09-24T03:21:57.326111",
     "exception": false,
     "start_time": "2024-09-24T03:21:57.313647",
     "status": "completed"
    },
    "tags": []
   },
   "source": [
    "# Define Dataset"
   ]
  },
  {
   "cell_type": "code",
   "execution_count": 12,
   "id": "8d728d2a",
   "metadata": {
    "execution": {
     "iopub.execute_input": "2024-09-24T03:21:57.352594Z",
     "iopub.status.busy": "2024-09-24T03:21:57.352359Z",
     "iopub.status.idle": "2024-09-24T03:21:57.366823Z",
     "shell.execute_reply": "2024-09-24T03:21:57.366014Z"
    },
    "papermill": {
     "duration": 0.029681,
     "end_time": "2024-09-24T03:21:57.368615",
     "exception": false,
     "start_time": "2024-09-24T03:21:57.338934",
     "status": "completed"
    },
    "tags": []
   },
   "outputs": [],
   "source": [
    "class RSNA24TestDataset(Dataset):\n",
    "    def __init__(self, df_fn, Slice_len_Sag=15, Slice_len_Axi=4, transform=None, trainsform_axis=None):\n",
    "        self.df_fn = df_fn\n",
    "        self.transform = transform\n",
    "        self.trainsform_axis = trainsform_axis\n",
    "        self.Slice_len_Sag = Slice_len_Sag\n",
    "        self.Slice_len_Axi = Slice_len_Axi\n",
    "        # Select all rows where the 'Name' column has the value 'Alice'\n",
    "    def __len__(self):\n",
    "        return len(self.df_fn)\n",
    "\n",
    "    def __getitem__(self, idx):\n",
    "        row_idx = self.df_fn.iloc[idx]\n",
    "        # Extract the ID\n",
    "        st_id = row_idx['Unnamed: 0']\n",
    "        # Extract the column values and level names\n",
    "        Data_idx = []\n",
    "        for level in self.df_fn.columns[1:]:\n",
    "            filename = row_idx[level]\n",
    "            path_split = filename.split('/')\n",
    "            # Saggital T2 ------------  Load the .npy file\n",
    "            npy_sagT2_path = os.path.join(DATA_fromStage1 , path_split[3], path_split[4], path_split[5])\n",
    "            npy_sagT2 = np.load(npy_sagT2_path).astype(np.float32)\n",
    "            current_length = npy_sagT2.shape[0]\n",
    "            if current_length > self.Slice_len_Sag:\n",
    "                indices = np.linspace(0, current_length - 1, self.Slice_len_Sag, dtype=int)\n",
    "                npy_sagT2 = npy_sagT2[indices, :, :]\n",
    "            elif current_length < self.Slice_len_Sag:\n",
    "                indices = np.linspace(0, current_length - 1, self.Slice_len_Sag, dtype=int)\n",
    "                npy_sagT2 = npy_sagT2[indices, :, :]\n",
    "\n",
    "            # Axial T2 ------------ Load the .npy file\n",
    "            npy_AxiT2_path = os.path.join(DATA_fromStage1 , \"axialT2\", path_split[4], path_split[5])\n",
    "            npy_AxiT2 = np.load(npy_AxiT2_path).astype(np.float32)\n",
    "            current_length = npy_AxiT2.shape[0]\n",
    "            if current_length > self.Slice_len_Axi:\n",
    "                indices = np.linspace(0, current_length - 1, self.Slice_len_Axi, dtype=int)\n",
    "                npy_AxiT2 = npy_AxiT2[indices, :, :]\n",
    "            elif current_length < self.Slice_len_Axi:\n",
    "                indices = np.linspace(0, current_length - 1, self.Slice_len_Axi, dtype=int)\n",
    "                npy_AxiT2 = npy_AxiT2[indices, :, :]\n",
    "            #  npy_sagT2 and npy_AxiT2 are in the format [channels, height, width]\n",
    "            npy_sagT2 = np.transpose(npy_sagT2, (1, 2, 0))  # Transpose to [height, width, channels]\n",
    "            npy_AxiT2 = np.transpose(npy_AxiT2, (1, 2, 0)) \n",
    "            if self.transform is not None:\n",
    "                npy_sagT2 = self.transform(image=npy_sagT2)['image']\n",
    "                npy_AxiT2 = self.trainsform_axis(image=npy_AxiT2)['image']\n",
    "            # transpose back to the original format\n",
    "            npy_sagT2 = np.transpose(npy_sagT2, (2, 0, 1))  # Transpose back to [channels, height, width]\n",
    "            npy_AxiT2 = np.transpose(npy_AxiT2, (2, 0, 1)) \n",
    "            Data_idx.append((npy_sagT2, npy_AxiT2, level))\n",
    "        \n",
    "        return st_id, Data_idx\n"
   ]
  },
  {
   "cell_type": "code",
   "execution_count": 13,
   "id": "a69b37d6",
   "metadata": {
    "execution": {
     "iopub.execute_input": "2024-09-24T03:21:57.395289Z",
     "iopub.status.busy": "2024-09-24T03:21:57.395025Z",
     "iopub.status.idle": "2024-09-24T03:21:57.400376Z",
     "shell.execute_reply": "2024-09-24T03:21:57.399674Z"
    },
    "papermill": {
     "duration": 0.020787,
     "end_time": "2024-09-24T03:21:57.402104",
     "exception": false,
     "start_time": "2024-09-24T03:21:57.381317",
     "status": "completed"
    },
    "tags": []
   },
   "outputs": [],
   "source": [
    "transforms_test_Sag = A.Compose([\n",
    "    A.Resize(84, 160),\n",
    "    A.Normalize(mean=0.5, std=0.5)\n",
    "])\n",
    "\n",
    "transforms_test = A.Compose([\n",
    "    A.Resize(IMG_SIZE[0], IMG_SIZE[1]),\n",
    "    A.Normalize(mean=0.5, std=0.5)\n",
    "])\n"
   ]
  },
  {
   "cell_type": "code",
   "execution_count": 14,
   "id": "287f39c2",
   "metadata": {
    "execution": {
     "iopub.execute_input": "2024-09-24T03:21:57.428561Z",
     "iopub.status.busy": "2024-09-24T03:21:57.428327Z",
     "iopub.status.idle": "2024-09-24T03:21:57.432540Z",
     "shell.execute_reply": "2024-09-24T03:21:57.431768Z"
    },
    "papermill": {
     "duration": 0.019547,
     "end_time": "2024-09-24T03:21:57.434400",
     "exception": false,
     "start_time": "2024-09-24T03:21:57.414853",
     "status": "completed"
    },
    "tags": []
   },
   "outputs": [],
   "source": [
    "test_ds = RSNA24TestDataset(dataset_metadata, transform=transforms_test_Sag, trainsform_axis=transforms_test)\n",
    "test_dl = DataLoader(\n",
    "    test_ds, \n",
    "    batch_size=1, \n",
    "    shuffle=False,\n",
    "    num_workers=N_WORKERS,\n",
    "    pin_memory=True,\n",
    "    drop_last=False\n",
    ")\n"
   ]
  },
  {
   "cell_type": "code",
   "execution_count": 15,
   "id": "392a2383",
   "metadata": {
    "execution": {
     "iopub.execute_input": "2024-09-24T03:21:57.460821Z",
     "iopub.status.busy": "2024-09-24T03:21:57.460541Z",
     "iopub.status.idle": "2024-09-24T03:21:57.466687Z",
     "shell.execute_reply": "2024-09-24T03:21:57.465886Z"
    },
    "papermill": {
     "duration": 0.021507,
     "end_time": "2024-09-24T03:21:57.468596",
     "exception": false,
     "start_time": "2024-09-24T03:21:57.447089",
     "status": "completed"
    },
    "tags": []
   },
   "outputs": [
    {
     "data": {
      "text/plain": [
       "'from collections import Counter\\n\\nsagT2_slicenum = []\\nAxiT2_slicenum = []\\n\\nprint(test_dl.__len__())\\n\\n# Iterate through the data loader and append slice numbers\\nfor i, (st_id, data) in enumerate(test_dl):\\n    for npy_sagT2, npy_AxiT2, level in data:\\n        sagT2_slicenum.append(npy_sagT2.shape)\\n        AxiT2_slicenum.append(npy_AxiT2.shape)\\n        assert not torch.isnan(npy_sagT2).any(), \"NaN values found in npy_sagT2\"\\n        assert not torch.isnan(npy_AxiT2).any(), \"NaN values found in npy_AxiT2\"\\n        print(level)\\n\\n# Count the occurrences of each unique value in the lists\\nsagT2_counts = Counter(sagT2_slicenum)\\nAxiT2_counts = Counter(AxiT2_slicenum)\\n\\nprint(\"Occurrences of each unique value in sagT2_slicenum:\")\\nfor value, count in sagT2_counts.items():\\n    print(f\"Value: {value}, Count: {count}\")\\n\\nprint(\"Occurrences of each unique value in AxiT2_slicenum:\")\\nfor value, count in AxiT2_counts.items():\\n    print(f\"Value: {value}, Count: {count}\")'"
      ]
     },
     "execution_count": 15,
     "metadata": {},
     "output_type": "execute_result"
    }
   ],
   "source": [
    "'''from collections import Counter\n",
    "\n",
    "sagT2_slicenum = []\n",
    "AxiT2_slicenum = []\n",
    "\n",
    "print(test_dl.__len__())\n",
    "\n",
    "# Iterate through the data loader and append slice numbers\n",
    "for i, (st_id, data) in enumerate(test_dl):\n",
    "    for npy_sagT2, npy_AxiT2, level in data:\n",
    "        sagT2_slicenum.append(npy_sagT2.shape)\n",
    "        AxiT2_slicenum.append(npy_AxiT2.shape)\n",
    "        assert not torch.isnan(npy_sagT2).any(), \"NaN values found in npy_sagT2\"\n",
    "        assert not torch.isnan(npy_AxiT2).any(), \"NaN values found in npy_AxiT2\"\n",
    "        print(level)\n",
    "\n",
    "# Count the occurrences of each unique value in the lists\n",
    "sagT2_counts = Counter(sagT2_slicenum)\n",
    "AxiT2_counts = Counter(AxiT2_slicenum)\n",
    "\n",
    "print(\"Occurrences of each unique value in sagT2_slicenum:\")\n",
    "for value, count in sagT2_counts.items():\n",
    "    print(f\"Value: {value}, Count: {count}\")\n",
    "\n",
    "print(\"Occurrences of each unique value in AxiT2_slicenum:\")\n",
    "for value, count in AxiT2_counts.items():\n",
    "    print(f\"Value: {value}, Count: {count}\")'''\n"
   ]
  },
  {
   "cell_type": "markdown",
   "id": "8a683e09",
   "metadata": {
    "papermill": {
     "duration": 0.012649,
     "end_time": "2024-09-24T03:21:57.494109",
     "exception": false,
     "start_time": "2024-09-24T03:21:57.481460",
     "status": "completed"
    },
    "tags": []
   },
   "source": [
    "# Define Model"
   ]
  },
  {
   "cell_type": "code",
   "execution_count": 16,
   "id": "0a8ad916",
   "metadata": {
    "execution": {
     "iopub.execute_input": "2024-09-24T03:21:57.521067Z",
     "iopub.status.busy": "2024-09-24T03:21:57.520604Z",
     "iopub.status.idle": "2024-09-24T03:21:57.533357Z",
     "shell.execute_reply": "2024-09-24T03:21:57.532645Z"
    },
    "papermill": {
     "duration": 0.028217,
     "end_time": "2024-09-24T03:21:57.535201",
     "exception": false,
     "start_time": "2024-09-24T03:21:57.506984",
     "status": "completed"
    },
    "tags": []
   },
   "outputs": [],
   "source": [
    "class LevelHead(nn.Module):\n",
    "    def __init__(self, input_dim, num_classes):\n",
    "        super(LevelHead, self).__init__()\n",
    "        self.fc1 = nn.Linear(input_dim, 128)\n",
    "        self.fc2 = nn.Linear(128, num_classes)\n",
    "        self.dropout = nn.Dropout(0.5)\n",
    "\n",
    "    def forward(self, x):\n",
    "        x = torch.relu(self.fc1(x))\n",
    "        x = self.dropout(x)\n",
    "        x = self.fc2(x)\n",
    "        return x\n",
    "    \n",
    "class RSNA24Model_Hybrid(nn.Module):\n",
    "    def __init__(self, model_name_sag, model_name_axi, in_chans_sag, in_chans_axi, num_classes, level_names):\n",
    "        super(RSNA24Model_Hybrid, self).__init__()\n",
    "        self.model_sag = timm.create_model(model_name_sag, in_chans=in_chans_sag, global_pool='avg'\n",
    "                                           , pretrained=True, features_only=False)\n",
    "        self.model_axi = timm.create_model(model_name_axi, in_chans=in_chans_axi, global_pool='avg'\n",
    "                                           , pretrained=True, features_only=False)\n",
    "        \n",
    "        # Replace the last layer with an identity layer\n",
    "        if hasattr(self.model_sag, 'classifier'):\n",
    "            self.model_sag.classifier = nn.Identity()\n",
    "        elif hasattr(self.model_sag, 'fc'):\n",
    "            self.model_sag.fc = nn.Identity()\n",
    "        \n",
    "        if hasattr(self.model_axi, 'classifier'):\n",
    "            self.model_axi.classifier = nn.Identity()\n",
    "        elif hasattr(self.model_axi, 'fc'):\n",
    "            self.model_axi.fc = nn.Identity()\n",
    "        \n",
    "        # Get the output feature sizes\n",
    "        with torch.no_grad():\n",
    "            sample_input_sag = torch.randn(1, in_chans_sag, 84, 160)\n",
    "            sample_input_axi = torch.randn(1, in_chans_axi, 256, 256)\n",
    "            output_sag = self.model_sag(sample_input_sag)\n",
    "            output_axi = self.model_axi(sample_input_axi)\n",
    "        \n",
    "        # Define the final fully connected layers for each task\n",
    "        self.fc_heads = nn.ModuleDict({\n",
    "            level: LevelHead(output_sag.shape[1] + output_axi.shape[1], num_classes) for level in level_names\n",
    "        })\n",
    "        \n",
    "    def forward(self, x_sag, x_axi, level):\n",
    "        x_sag = self.model_sag(x_sag)\n",
    "        x_axi = self.model_axi(x_axi)\n",
    "        x = torch.cat((x_sag, x_axi), dim=1)\n",
    "        x = self.fc_heads[level[0]](x) # the input level is a array associated with batch size\n",
    "        return x\n"
   ]
  },
  {
   "cell_type": "markdown",
   "id": "d346b56e",
   "metadata": {
    "papermill": {
     "duration": 0.012666,
     "end_time": "2024-09-24T03:21:57.560682",
     "exception": false,
     "start_time": "2024-09-24T03:21:57.548016",
     "status": "completed"
    },
    "tags": []
   },
   "source": [
    "# Load Models"
   ]
  },
  {
   "cell_type": "code",
   "execution_count": 17,
   "id": "64fc66be",
   "metadata": {
    "execution": {
     "iopub.execute_input": "2024-09-24T03:21:57.588530Z",
     "iopub.status.busy": "2024-09-24T03:21:57.588286Z",
     "iopub.status.idle": "2024-09-24T03:21:57.598524Z",
     "shell.execute_reply": "2024-09-24T03:21:57.597708Z"
    },
    "papermill": {
     "duration": 0.026532,
     "end_time": "2024-09-24T03:21:57.600449",
     "exception": false,
     "start_time": "2024-09-24T03:21:57.573917",
     "status": "completed"
    },
    "tags": []
   },
   "outputs": [],
   "source": [
    "import glob\n",
    "CKPT_PATHS = glob.glob('/kaggle/input/rsna2024-training-baseline-2nd-stage/rsna24-results/best_wll_model_fold-*.pt')\n",
    "CKPT_PATHS = sorted(CKPT_PATHS)"
   ]
  },
  {
   "cell_type": "code",
   "execution_count": 18,
   "id": "25876313",
   "metadata": {
    "execution": {
     "iopub.execute_input": "2024-09-24T03:21:57.627117Z",
     "iopub.status.busy": "2024-09-24T03:21:57.626876Z",
     "iopub.status.idle": "2024-09-24T03:22:09.379417Z",
     "shell.execute_reply": "2024-09-24T03:22:09.378603Z"
    },
    "papermill": {
     "duration": 11.768485,
     "end_time": "2024-09-24T03:22:09.381765",
     "exception": false,
     "start_time": "2024-09-24T03:21:57.613280",
     "status": "completed"
    },
    "tags": []
   },
   "outputs": [
    {
     "name": "stdout",
     "output_type": "stream",
     "text": [
      "loading /kaggle/input/rsna2024-training-baseline-2nd-stage/rsna24-results/best_wll_model_fold-0.pt...\n"
     ]
    },
    {
     "data": {
      "application/vnd.jupyter.widget-view+json": {
       "model_id": "bffd524417ca474499717c91e4ccaa1a",
       "version_major": 2,
       "version_minor": 0
      },
      "text/plain": [
       "model.safetensors:   0%|          | 0.00/21.4M [00:00<?, ?B/s]"
      ]
     },
     "metadata": {},
     "output_type": "display_data"
    },
    {
     "data": {
      "application/vnd.jupyter.widget-view+json": {
       "model_id": "aa33c9cfc5684a188b0329b86f57ad05",
       "version_major": 2,
       "version_minor": 0
      },
      "text/plain": [
       "model.safetensors:   0%|          | 0.00/87.3M [00:00<?, ?B/s]"
      ]
     },
     "metadata": {},
     "output_type": "display_data"
    },
    {
     "name": "stdout",
     "output_type": "stream",
     "text": [
      "loading /kaggle/input/rsna2024-training-baseline-2nd-stage/rsna24-results/best_wll_model_fold-1.pt...\n",
      "loading /kaggle/input/rsna2024-training-baseline-2nd-stage/rsna24-results/best_wll_model_fold-2.pt...\n",
      "loading /kaggle/input/rsna2024-training-baseline-2nd-stage/rsna24-results/best_wll_model_fold-3.pt...\n",
      "loading /kaggle/input/rsna2024-training-baseline-2nd-stage/rsna24-results/best_wll_model_fold-4.pt...\n"
     ]
    }
   ],
   "source": [
    "# Ensure device is set correctly\n",
    "device = torch.device('cuda' if torch.cuda.is_available() else 'cpu')\n",
    "\n",
    "models = []\n",
    "for i, cp in enumerate(CKPT_PATHS):\n",
    "    print(f'loading {cp}...')\n",
    "    model = RSNA24Model_Hybrid(model_name_sag, model_name_axi,\n",
    "                               in_chans_sag, in_chans_axi, \n",
    "                               num_classes=N_CLASSES, level_names=level_mapping.keys())\n",
    "    model.load_state_dict(torch.load(cp, map_location=device))\n",
    "    model.eval()\n",
    "    model.to(device)\n",
    "    models.append(model)\n",
    "    "
   ]
  },
  {
   "cell_type": "markdown",
   "id": "d6c9f424",
   "metadata": {
    "papermill": {
     "duration": 0.013409,
     "end_time": "2024-09-24T03:22:09.409325",
     "exception": false,
     "start_time": "2024-09-24T03:22:09.395916",
     "status": "completed"
    },
    "tags": []
   },
   "source": [
    "# Inference loop"
   ]
  },
  {
   "cell_type": "code",
   "execution_count": 19,
   "id": "f872eb0c",
   "metadata": {
    "execution": {
     "iopub.execute_input": "2024-09-24T03:22:09.437837Z",
     "iopub.status.busy": "2024-09-24T03:22:09.437481Z",
     "iopub.status.idle": "2024-09-24T03:22:10.968124Z",
     "shell.execute_reply": "2024-09-24T03:22:10.967060Z"
    },
    "papermill": {
     "duration": 1.548342,
     "end_time": "2024-09-24T03:22:10.971305",
     "exception": false,
     "start_time": "2024-09-24T03:22:09.422963",
     "status": "completed"
    },
    "tags": []
   },
   "outputs": [
    {
     "name": "stderr",
     "output_type": "stream",
     "text": [
      "  0%|          | 0/1 [00:01<?, ?it/s]"
     ]
    },
    {
     "name": "stdout",
     "output_type": "stream",
     "text": [
      "25\n",
      "25\n"
     ]
    },
    {
     "name": "stderr",
     "output_type": "stream",
     "text": [
      "\n"
     ]
    }
   ],
   "source": [
    "autocast = torch.cuda.amp.autocast(enabled=USE_AMP, dtype=torch.half)\n",
    "y_preds = []\n",
    "row_names = []\n",
    "\n",
    "with tqdm(test_dl, leave=True) as pbar:\n",
    "    with torch.no_grad():\n",
    "        for i, (st_id, data) in enumerate(test_dl):\n",
    "            for npy_sagT2, npy_AxiT2, level in data:\n",
    "                pred_per_study = np.zeros((N_LABELS, 3))\n",
    "                npy_sagT2 = npy_sagT2.to(device)\n",
    "                npy_AxiT2 = npy_AxiT2.to(device)\n",
    "                with torch.cuda.amp.autocast():    \n",
    "                    for m in models:\n",
    "                        y = m(npy_sagT2, npy_AxiT2, level)[0]\n",
    "                        for col in range(N_LABELS):\n",
    "                            pred = y[col*3:col*3+3]\n",
    "                            y_pred = pred.float().softmax(0).cpu().numpy()\n",
    "                            pred_per_study[col] += y_pred / len(models)\n",
    "                    y_preds.append(pred_per_study)\n",
    "                    \n",
    "                for cond in CONDITIONS:\n",
    "                    row_name = f\"{str(st_id.item())}_{cond}_{level_mapping[''.join(level)]}\"\n",
    "                    row_names.append(row_name)\n",
    "\n",
    "y_preds = np.concatenate(y_preds, axis=0)\n",
    "                    \n",
    "print(len(row_names))\n",
    "print(len(y_preds))"
   ]
  },
  {
   "cell_type": "markdown",
   "id": "7298efd6",
   "metadata": {
    "papermill": {
     "duration": 0.013688,
     "end_time": "2024-09-24T03:22:10.999420",
     "exception": false,
     "start_time": "2024-09-24T03:22:10.985732",
     "status": "completed"
    },
    "tags": []
   },
   "source": [
    "# Make Submission"
   ]
  },
  {
   "cell_type": "code",
   "execution_count": 20,
   "id": "773ec3b3",
   "metadata": {
    "execution": {
     "iopub.execute_input": "2024-09-24T03:22:11.028578Z",
     "iopub.status.busy": "2024-09-24T03:22:11.028272Z",
     "iopub.status.idle": "2024-09-24T03:22:11.052661Z",
     "shell.execute_reply": "2024-09-24T03:22:11.051850Z"
    },
    "papermill": {
     "duration": 0.041302,
     "end_time": "2024-09-24T03:22:11.054618",
     "exception": false,
     "start_time": "2024-09-24T03:22:11.013316",
     "status": "completed"
    },
    "tags": []
   },
   "outputs": [
    {
     "data": {
      "text/html": [
       "<div>\n",
       "<style scoped>\n",
       "    .dataframe tbody tr th:only-of-type {\n",
       "        vertical-align: middle;\n",
       "    }\n",
       "\n",
       "    .dataframe tbody tr th {\n",
       "        vertical-align: top;\n",
       "    }\n",
       "\n",
       "    .dataframe thead th {\n",
       "        text-align: right;\n",
       "    }\n",
       "</style>\n",
       "<table border=\"1\" class=\"dataframe\">\n",
       "  <thead>\n",
       "    <tr style=\"text-align: right;\">\n",
       "      <th></th>\n",
       "      <th>row_id</th>\n",
       "      <th>normal_mild</th>\n",
       "      <th>moderate</th>\n",
       "      <th>severe</th>\n",
       "    </tr>\n",
       "  </thead>\n",
       "  <tbody>\n",
       "    <tr>\n",
       "      <th>0</th>\n",
       "      <td>44036939_spinal_canal_stenosis_l4_l5</td>\n",
       "      <td>0.355254</td>\n",
       "      <td>0.250128</td>\n",
       "      <td>0.394618</td>\n",
       "    </tr>\n",
       "    <tr>\n",
       "      <th>1</th>\n",
       "      <td>44036939_left_neural_foraminal_narrowing_l4_l5</td>\n",
       "      <td>0.308700</td>\n",
       "      <td>0.413929</td>\n",
       "      <td>0.277371</td>\n",
       "    </tr>\n",
       "    <tr>\n",
       "      <th>2</th>\n",
       "      <td>44036939_right_neural_foraminal_narrowing_l4_l5</td>\n",
       "      <td>0.331669</td>\n",
       "      <td>0.413591</td>\n",
       "      <td>0.254739</td>\n",
       "    </tr>\n",
       "    <tr>\n",
       "      <th>3</th>\n",
       "      <td>44036939_left_subarticular_stenosis_l4_l5</td>\n",
       "      <td>0.228818</td>\n",
       "      <td>0.316435</td>\n",
       "      <td>0.454747</td>\n",
       "    </tr>\n",
       "    <tr>\n",
       "      <th>4</th>\n",
       "      <td>44036939_right_subarticular_stenosis_l4_l5</td>\n",
       "      <td>0.220210</td>\n",
       "      <td>0.330893</td>\n",
       "      <td>0.448898</td>\n",
       "    </tr>\n",
       "    <tr>\n",
       "      <th>5</th>\n",
       "      <td>44036939_spinal_canal_stenosis_l3_l4</td>\n",
       "      <td>0.403202</td>\n",
       "      <td>0.289737</td>\n",
       "      <td>0.307061</td>\n",
       "    </tr>\n",
       "    <tr>\n",
       "      <th>6</th>\n",
       "      <td>44036939_left_neural_foraminal_narrowing_l3_l4</td>\n",
       "      <td>0.399095</td>\n",
       "      <td>0.407205</td>\n",
       "      <td>0.193700</td>\n",
       "    </tr>\n",
       "    <tr>\n",
       "      <th>7</th>\n",
       "      <td>44036939_right_neural_foraminal_narrowing_l3_l4</td>\n",
       "      <td>0.402412</td>\n",
       "      <td>0.404273</td>\n",
       "      <td>0.193315</td>\n",
       "    </tr>\n",
       "    <tr>\n",
       "      <th>8</th>\n",
       "      <td>44036939_left_subarticular_stenosis_l3_l4</td>\n",
       "      <td>0.294630</td>\n",
       "      <td>0.343371</td>\n",
       "      <td>0.361998</td>\n",
       "    </tr>\n",
       "    <tr>\n",
       "      <th>9</th>\n",
       "      <td>44036939_right_subarticular_stenosis_l3_l4</td>\n",
       "      <td>0.304565</td>\n",
       "      <td>0.330558</td>\n",
       "      <td>0.364876</td>\n",
       "    </tr>\n",
       "    <tr>\n",
       "      <th>10</th>\n",
       "      <td>44036939_spinal_canal_stenosis_l2_l3</td>\n",
       "      <td>0.499699</td>\n",
       "      <td>0.268554</td>\n",
       "      <td>0.231747</td>\n",
       "    </tr>\n",
       "    <tr>\n",
       "      <th>11</th>\n",
       "      <td>44036939_left_neural_foraminal_narrowing_l2_l3</td>\n",
       "      <td>0.546950</td>\n",
       "      <td>0.297275</td>\n",
       "      <td>0.155775</td>\n",
       "    </tr>\n",
       "    <tr>\n",
       "      <th>12</th>\n",
       "      <td>44036939_right_neural_foraminal_narrowing_l2_l3</td>\n",
       "      <td>0.554354</td>\n",
       "      <td>0.310737</td>\n",
       "      <td>0.134909</td>\n",
       "    </tr>\n",
       "    <tr>\n",
       "      <th>13</th>\n",
       "      <td>44036939_left_subarticular_stenosis_l2_l3</td>\n",
       "      <td>0.411453</td>\n",
       "      <td>0.326617</td>\n",
       "      <td>0.261930</td>\n",
       "    </tr>\n",
       "    <tr>\n",
       "      <th>14</th>\n",
       "      <td>44036939_right_subarticular_stenosis_l2_l3</td>\n",
       "      <td>0.425130</td>\n",
       "      <td>0.333232</td>\n",
       "      <td>0.241638</td>\n",
       "    </tr>\n",
       "    <tr>\n",
       "      <th>15</th>\n",
       "      <td>44036939_spinal_canal_stenosis_l1_l2</td>\n",
       "      <td>0.584152</td>\n",
       "      <td>0.220342</td>\n",
       "      <td>0.195507</td>\n",
       "    </tr>\n",
       "    <tr>\n",
       "      <th>16</th>\n",
       "      <td>44036939_left_neural_foraminal_narrowing_l1_l2</td>\n",
       "      <td>0.607971</td>\n",
       "      <td>0.226204</td>\n",
       "      <td>0.165825</td>\n",
       "    </tr>\n",
       "    <tr>\n",
       "      <th>17</th>\n",
       "      <td>44036939_right_neural_foraminal_narrowing_l1_l2</td>\n",
       "      <td>0.581204</td>\n",
       "      <td>0.230099</td>\n",
       "      <td>0.188698</td>\n",
       "    </tr>\n",
       "    <tr>\n",
       "      <th>18</th>\n",
       "      <td>44036939_left_subarticular_stenosis_l1_l2</td>\n",
       "      <td>0.510641</td>\n",
       "      <td>0.258884</td>\n",
       "      <td>0.230476</td>\n",
       "    </tr>\n",
       "    <tr>\n",
       "      <th>19</th>\n",
       "      <td>44036939_right_subarticular_stenosis_l1_l2</td>\n",
       "      <td>0.531219</td>\n",
       "      <td>0.259397</td>\n",
       "      <td>0.209384</td>\n",
       "    </tr>\n",
       "    <tr>\n",
       "      <th>20</th>\n",
       "      <td>44036939_spinal_canal_stenosis_l5_s1</td>\n",
       "      <td>0.667792</td>\n",
       "      <td>0.176399</td>\n",
       "      <td>0.155809</td>\n",
       "    </tr>\n",
       "    <tr>\n",
       "      <th>21</th>\n",
       "      <td>44036939_left_neural_foraminal_narrowing_l5_s1</td>\n",
       "      <td>0.326142</td>\n",
       "      <td>0.357011</td>\n",
       "      <td>0.316847</td>\n",
       "    </tr>\n",
       "    <tr>\n",
       "      <th>22</th>\n",
       "      <td>44036939_right_neural_foraminal_narrowing_l5_s1</td>\n",
       "      <td>0.331827</td>\n",
       "      <td>0.349032</td>\n",
       "      <td>0.319141</td>\n",
       "    </tr>\n",
       "    <tr>\n",
       "      <th>23</th>\n",
       "      <td>44036939_left_subarticular_stenosis_l5_s1</td>\n",
       "      <td>0.402073</td>\n",
       "      <td>0.331286</td>\n",
       "      <td>0.266640</td>\n",
       "    </tr>\n",
       "    <tr>\n",
       "      <th>24</th>\n",
       "      <td>44036939_right_subarticular_stenosis_l5_s1</td>\n",
       "      <td>0.370770</td>\n",
       "      <td>0.337964</td>\n",
       "      <td>0.291266</td>\n",
       "    </tr>\n",
       "  </tbody>\n",
       "</table>\n",
       "</div>"
      ],
      "text/plain": [
       "                                             row_id  normal_mild  moderate  \\\n",
       "0              44036939_spinal_canal_stenosis_l4_l5     0.355254  0.250128   \n",
       "1    44036939_left_neural_foraminal_narrowing_l4_l5     0.308700  0.413929   \n",
       "2   44036939_right_neural_foraminal_narrowing_l4_l5     0.331669  0.413591   \n",
       "3         44036939_left_subarticular_stenosis_l4_l5     0.228818  0.316435   \n",
       "4        44036939_right_subarticular_stenosis_l4_l5     0.220210  0.330893   \n",
       "5              44036939_spinal_canal_stenosis_l3_l4     0.403202  0.289737   \n",
       "6    44036939_left_neural_foraminal_narrowing_l3_l4     0.399095  0.407205   \n",
       "7   44036939_right_neural_foraminal_narrowing_l3_l4     0.402412  0.404273   \n",
       "8         44036939_left_subarticular_stenosis_l3_l4     0.294630  0.343371   \n",
       "9        44036939_right_subarticular_stenosis_l3_l4     0.304565  0.330558   \n",
       "10             44036939_spinal_canal_stenosis_l2_l3     0.499699  0.268554   \n",
       "11   44036939_left_neural_foraminal_narrowing_l2_l3     0.546950  0.297275   \n",
       "12  44036939_right_neural_foraminal_narrowing_l2_l3     0.554354  0.310737   \n",
       "13        44036939_left_subarticular_stenosis_l2_l3     0.411453  0.326617   \n",
       "14       44036939_right_subarticular_stenosis_l2_l3     0.425130  0.333232   \n",
       "15             44036939_spinal_canal_stenosis_l1_l2     0.584152  0.220342   \n",
       "16   44036939_left_neural_foraminal_narrowing_l1_l2     0.607971  0.226204   \n",
       "17  44036939_right_neural_foraminal_narrowing_l1_l2     0.581204  0.230099   \n",
       "18        44036939_left_subarticular_stenosis_l1_l2     0.510641  0.258884   \n",
       "19       44036939_right_subarticular_stenosis_l1_l2     0.531219  0.259397   \n",
       "20             44036939_spinal_canal_stenosis_l5_s1     0.667792  0.176399   \n",
       "21   44036939_left_neural_foraminal_narrowing_l5_s1     0.326142  0.357011   \n",
       "22  44036939_right_neural_foraminal_narrowing_l5_s1     0.331827  0.349032   \n",
       "23        44036939_left_subarticular_stenosis_l5_s1     0.402073  0.331286   \n",
       "24       44036939_right_subarticular_stenosis_l5_s1     0.370770  0.337964   \n",
       "\n",
       "      severe  \n",
       "0   0.394618  \n",
       "1   0.277371  \n",
       "2   0.254739  \n",
       "3   0.454747  \n",
       "4   0.448898  \n",
       "5   0.307061  \n",
       "6   0.193700  \n",
       "7   0.193315  \n",
       "8   0.361998  \n",
       "9   0.364876  \n",
       "10  0.231747  \n",
       "11  0.155775  \n",
       "12  0.134909  \n",
       "13  0.261930  \n",
       "14  0.241638  \n",
       "15  0.195507  \n",
       "16  0.165825  \n",
       "17  0.188698  \n",
       "18  0.230476  \n",
       "19  0.209384  \n",
       "20  0.155809  \n",
       "21  0.316847  \n",
       "22  0.319141  \n",
       "23  0.266640  \n",
       "24  0.291266  "
      ]
     },
     "execution_count": 20,
     "metadata": {},
     "output_type": "execute_result"
    }
   ],
   "source": [
    "sub = pd.DataFrame()\n",
    "sub['row_id'] = row_names\n",
    "sub[LABELS] = y_preds\n",
    "sub.head(25)"
   ]
  },
  {
   "cell_type": "code",
   "execution_count": 21,
   "id": "0ddce050",
   "metadata": {
    "execution": {
     "iopub.execute_input": "2024-09-24T03:22:11.085217Z",
     "iopub.status.busy": "2024-09-24T03:22:11.084734Z",
     "iopub.status.idle": "2024-09-24T03:22:11.098801Z",
     "shell.execute_reply": "2024-09-24T03:22:11.097987Z"
    },
    "papermill": {
     "duration": 0.031684,
     "end_time": "2024-09-24T03:22:11.100606",
     "exception": false,
     "start_time": "2024-09-24T03:22:11.068922",
     "status": "completed"
    },
    "tags": []
   },
   "outputs": [
    {
     "data": {
      "text/html": [
       "<div>\n",
       "<style scoped>\n",
       "    .dataframe tbody tr th:only-of-type {\n",
       "        vertical-align: middle;\n",
       "    }\n",
       "\n",
       "    .dataframe tbody tr th {\n",
       "        vertical-align: top;\n",
       "    }\n",
       "\n",
       "    .dataframe thead th {\n",
       "        text-align: right;\n",
       "    }\n",
       "</style>\n",
       "<table border=\"1\" class=\"dataframe\">\n",
       "  <thead>\n",
       "    <tr style=\"text-align: right;\">\n",
       "      <th></th>\n",
       "      <th>row_id</th>\n",
       "      <th>normal_mild</th>\n",
       "      <th>moderate</th>\n",
       "      <th>severe</th>\n",
       "    </tr>\n",
       "  </thead>\n",
       "  <tbody>\n",
       "    <tr>\n",
       "      <th>0</th>\n",
       "      <td>44036939_spinal_canal_stenosis_l4_l5</td>\n",
       "      <td>0.355254</td>\n",
       "      <td>0.250128</td>\n",
       "      <td>0.394618</td>\n",
       "    </tr>\n",
       "    <tr>\n",
       "      <th>1</th>\n",
       "      <td>44036939_left_neural_foraminal_narrowing_l4_l5</td>\n",
       "      <td>0.308700</td>\n",
       "      <td>0.413929</td>\n",
       "      <td>0.277371</td>\n",
       "    </tr>\n",
       "    <tr>\n",
       "      <th>2</th>\n",
       "      <td>44036939_right_neural_foraminal_narrowing_l4_l5</td>\n",
       "      <td>0.331669</td>\n",
       "      <td>0.413591</td>\n",
       "      <td>0.254739</td>\n",
       "    </tr>\n",
       "    <tr>\n",
       "      <th>3</th>\n",
       "      <td>44036939_left_subarticular_stenosis_l4_l5</td>\n",
       "      <td>0.228818</td>\n",
       "      <td>0.316435</td>\n",
       "      <td>0.454747</td>\n",
       "    </tr>\n",
       "    <tr>\n",
       "      <th>4</th>\n",
       "      <td>44036939_right_subarticular_stenosis_l4_l5</td>\n",
       "      <td>0.220210</td>\n",
       "      <td>0.330893</td>\n",
       "      <td>0.448898</td>\n",
       "    </tr>\n",
       "  </tbody>\n",
       "</table>\n",
       "</div>"
      ],
      "text/plain": [
       "                                            row_id  normal_mild  moderate  \\\n",
       "0             44036939_spinal_canal_stenosis_l4_l5     0.355254  0.250128   \n",
       "1   44036939_left_neural_foraminal_narrowing_l4_l5     0.308700  0.413929   \n",
       "2  44036939_right_neural_foraminal_narrowing_l4_l5     0.331669  0.413591   \n",
       "3        44036939_left_subarticular_stenosis_l4_l5     0.228818  0.316435   \n",
       "4       44036939_right_subarticular_stenosis_l4_l5     0.220210  0.330893   \n",
       "\n",
       "     severe  \n",
       "0  0.394618  \n",
       "1  0.277371  \n",
       "2  0.254739  \n",
       "3  0.454747  \n",
       "4  0.448898  "
      ]
     },
     "execution_count": 21,
     "metadata": {},
     "output_type": "execute_result"
    }
   ],
   "source": [
    "sub.to_csv('submission.csv', index=False)\n",
    "pd.read_csv('submission.csv').head()"
   ]
  },
  {
   "cell_type": "markdown",
   "id": "ccc04d91",
   "metadata": {
    "papermill": {
     "duration": 0.01429,
     "end_time": "2024-09-24T03:22:11.129579",
     "exception": false,
     "start_time": "2024-09-24T03:22:11.115289",
     "status": "completed"
    },
    "tags": []
   },
   "source": [
    "# Conclusion\n",
    "We created the dataset, performed training, and inference in this notebook. \n",
    "\n",
    "This competition is a bit complicated to handle the dataset, so there may be a better way.\n",
    "\n",
    "I think there are many other areas to improve in my notebook. I hope you can learn from my notebook and get a better score."
   ]
  },
  {
   "cell_type": "code",
   "execution_count": null,
   "id": "4f505c59",
   "metadata": {
    "papermill": {
     "duration": 0.014289,
     "end_time": "2024-09-24T03:22:11.158366",
     "exception": false,
     "start_time": "2024-09-24T03:22:11.144077",
     "status": "completed"
    },
    "tags": []
   },
   "outputs": [],
   "source": []
  }
 ],
 "metadata": {
  "kaggle": {
   "accelerator": "gpu",
   "dataSources": [
    {
     "databundleVersionId": 8561470,
     "sourceId": 71549,
     "sourceType": "competition"
    },
    {
     "sourceId": 196346332,
     "sourceType": "kernelVersion"
    },
    {
     "sourceId": 197606566,
     "sourceType": "kernelVersion"
    },
    {
     "sourceId": 197918356,
     "sourceType": "kernelVersion"
    }
   ],
   "dockerImageVersionId": 30733,
   "isGpuEnabled": true,
   "isInternetEnabled": true,
   "language": "python",
   "sourceType": "notebook"
  },
  "kernelspec": {
   "display_name": "Python 3",
   "language": "python",
   "name": "python3"
  },
  "language_info": {
   "codemirror_mode": {
    "name": "ipython",
    "version": 3
   },
   "file_extension": ".py",
   "mimetype": "text/x-python",
   "name": "python",
   "nbconvert_exporter": "python",
   "pygments_lexer": "ipython3",
   "version": "3.10.13"
  },
  "papermill": {
   "default_parameters": {},
   "duration": 77.081778,
   "end_time": "2024-09-24T03:22:12.496534",
   "environment_variables": {},
   "exception": null,
   "input_path": "__notebook__.ipynb",
   "output_path": "__notebook__.ipynb",
   "parameters": {},
   "start_time": "2024-09-24T03:20:55.414756",
   "version": "2.5.0"
  },
  "widgets": {
   "application/vnd.jupyter.widget-state+json": {
    "state": {
     "022f8c8f04b14ffe8fd2e0e7cd203b29": {
      "model_module": "@jupyter-widgets/base",
      "model_module_version": "1.2.0",
      "model_name": "LayoutModel",
      "state": {
       "_model_module": "@jupyter-widgets/base",
       "_model_module_version": "1.2.0",
       "_model_name": "LayoutModel",
       "_view_count": null,
       "_view_module": "@jupyter-widgets/base",
       "_view_module_version": "1.2.0",
       "_view_name": "LayoutView",
       "align_content": null,
       "align_items": null,
       "align_self": null,
       "border": null,
       "bottom": null,
       "display": null,
       "flex": null,
       "flex_flow": null,
       "grid_area": null,
       "grid_auto_columns": null,
       "grid_auto_flow": null,
       "grid_auto_rows": null,
       "grid_column": null,
       "grid_gap": null,
       "grid_row": null,
       "grid_template_areas": null,
       "grid_template_columns": null,
       "grid_template_rows": null,
       "height": null,
       "justify_content": null,
       "justify_items": null,
       "left": null,
       "margin": null,
       "max_height": null,
       "max_width": null,
       "min_height": null,
       "min_width": null,
       "object_fit": null,
       "object_position": null,
       "order": null,
       "overflow": null,
       "overflow_x": null,
       "overflow_y": null,
       "padding": null,
       "right": null,
       "top": null,
       "visibility": null,
       "width": null
      }
     },
     "0964f7b3efa847f9b77d6e3b5ef5ae67": {
      "model_module": "@jupyter-widgets/controls",
      "model_module_version": "1.5.0",
      "model_name": "ProgressStyleModel",
      "state": {
       "_model_module": "@jupyter-widgets/controls",
       "_model_module_version": "1.5.0",
       "_model_name": "ProgressStyleModel",
       "_view_count": null,
       "_view_module": "@jupyter-widgets/base",
       "_view_module_version": "1.2.0",
       "_view_name": "StyleView",
       "bar_color": null,
       "description_width": ""
      }
     },
     "1478943fc3f04753bd1062a915d47d8f": {
      "model_module": "@jupyter-widgets/controls",
      "model_module_version": "1.5.0",
      "model_name": "FloatProgressModel",
      "state": {
       "_dom_classes": [],
       "_model_module": "@jupyter-widgets/controls",
       "_model_module_version": "1.5.0",
       "_model_name": "FloatProgressModel",
       "_view_count": null,
       "_view_module": "@jupyter-widgets/controls",
       "_view_module_version": "1.5.0",
       "_view_name": "ProgressView",
       "bar_style": "success",
       "description": "",
       "description_tooltip": null,
       "layout": "IPY_MODEL_e96bc7074c114341b9a8f38b37ac0cc6",
       "max": 87278522.0,
       "min": 0.0,
       "orientation": "horizontal",
       "style": "IPY_MODEL_6a30d5e8521743929bbf8b3bb7e5982b",
       "value": 87278522.0
      }
     },
     "1c705110e2aa45328a15008a670b88c8": {
      "model_module": "@jupyter-widgets/controls",
      "model_module_version": "1.5.0",
      "model_name": "DescriptionStyleModel",
      "state": {
       "_model_module": "@jupyter-widgets/controls",
       "_model_module_version": "1.5.0",
       "_model_name": "DescriptionStyleModel",
       "_view_count": null,
       "_view_module": "@jupyter-widgets/base",
       "_view_module_version": "1.2.0",
       "_view_name": "StyleView",
       "description_width": ""
      }
     },
     "39904ee4c903472781930d41f3e189fd": {
      "model_module": "@jupyter-widgets/controls",
      "model_module_version": "1.5.0",
      "model_name": "FloatProgressModel",
      "state": {
       "_dom_classes": [],
       "_model_module": "@jupyter-widgets/controls",
       "_model_module_version": "1.5.0",
       "_model_name": "FloatProgressModel",
       "_view_count": null,
       "_view_module": "@jupyter-widgets/controls",
       "_view_module_version": "1.5.0",
       "_view_name": "ProgressView",
       "bar_style": "success",
       "description": "",
       "description_tooltip": null,
       "layout": "IPY_MODEL_8f321314f016447fb94c3d58d8e020f5",
       "max": 21355344.0,
       "min": 0.0,
       "orientation": "horizontal",
       "style": "IPY_MODEL_0964f7b3efa847f9b77d6e3b5ef5ae67",
       "value": 21355344.0
      }
     },
     "54a691d04c4d424db183a68ada050dce": {
      "model_module": "@jupyter-widgets/base",
      "model_module_version": "1.2.0",
      "model_name": "LayoutModel",
      "state": {
       "_model_module": "@jupyter-widgets/base",
       "_model_module_version": "1.2.0",
       "_model_name": "LayoutModel",
       "_view_count": null,
       "_view_module": "@jupyter-widgets/base",
       "_view_module_version": "1.2.0",
       "_view_name": "LayoutView",
       "align_content": null,
       "align_items": null,
       "align_self": null,
       "border": null,
       "bottom": null,
       "display": null,
       "flex": null,
       "flex_flow": null,
       "grid_area": null,
       "grid_auto_columns": null,
       "grid_auto_flow": null,
       "grid_auto_rows": null,
       "grid_column": null,
       "grid_gap": null,
       "grid_row": null,
       "grid_template_areas": null,
       "grid_template_columns": null,
       "grid_template_rows": null,
       "height": null,
       "justify_content": null,
       "justify_items": null,
       "left": null,
       "margin": null,
       "max_height": null,
       "max_width": null,
       "min_height": null,
       "min_width": null,
       "object_fit": null,
       "object_position": null,
       "order": null,
       "overflow": null,
       "overflow_x": null,
       "overflow_y": null,
       "padding": null,
       "right": null,
       "top": null,
       "visibility": null,
       "width": null
      }
     },
     "6a30d5e8521743929bbf8b3bb7e5982b": {
      "model_module": "@jupyter-widgets/controls",
      "model_module_version": "1.5.0",
      "model_name": "ProgressStyleModel",
      "state": {
       "_model_module": "@jupyter-widgets/controls",
       "_model_module_version": "1.5.0",
       "_model_name": "ProgressStyleModel",
       "_view_count": null,
       "_view_module": "@jupyter-widgets/base",
       "_view_module_version": "1.2.0",
       "_view_name": "StyleView",
       "bar_color": null,
       "description_width": ""
      }
     },
     "6f2f3efbb5474148af13248895e36d4e": {
      "model_module": "@jupyter-widgets/controls",
      "model_module_version": "1.5.0",
      "model_name": "DescriptionStyleModel",
      "state": {
       "_model_module": "@jupyter-widgets/controls",
       "_model_module_version": "1.5.0",
       "_model_name": "DescriptionStyleModel",
       "_view_count": null,
       "_view_module": "@jupyter-widgets/base",
       "_view_module_version": "1.2.0",
       "_view_name": "StyleView",
       "description_width": ""
      }
     },
     "886116b026ba4afba83665d75218d9c9": {
      "model_module": "@jupyter-widgets/controls",
      "model_module_version": "1.5.0",
      "model_name": "DescriptionStyleModel",
      "state": {
       "_model_module": "@jupyter-widgets/controls",
       "_model_module_version": "1.5.0",
       "_model_name": "DescriptionStyleModel",
       "_view_count": null,
       "_view_module": "@jupyter-widgets/base",
       "_view_module_version": "1.2.0",
       "_view_name": "StyleView",
       "description_width": ""
      }
     },
     "8a51d837d09441089084e69764109465": {
      "model_module": "@jupyter-widgets/controls",
      "model_module_version": "1.5.0",
      "model_name": "HTMLModel",
      "state": {
       "_dom_classes": [],
       "_model_module": "@jupyter-widgets/controls",
       "_model_module_version": "1.5.0",
       "_model_name": "HTMLModel",
       "_view_count": null,
       "_view_module": "@jupyter-widgets/controls",
       "_view_module_version": "1.5.0",
       "_view_name": "HTMLView",
       "description": "",
       "description_tooltip": null,
       "layout": "IPY_MODEL_022f8c8f04b14ffe8fd2e0e7cd203b29",
       "placeholder": "​",
       "style": "IPY_MODEL_6f2f3efbb5474148af13248895e36d4e",
       "value": "model.safetensors: 100%"
      }
     },
     "8c55f10b923344d68bf33b65fd8fd40f": {
      "model_module": "@jupyter-widgets/controls",
      "model_module_version": "1.5.0",
      "model_name": "HTMLModel",
      "state": {
       "_dom_classes": [],
       "_model_module": "@jupyter-widgets/controls",
       "_model_module_version": "1.5.0",
       "_model_name": "HTMLModel",
       "_view_count": null,
       "_view_module": "@jupyter-widgets/controls",
       "_view_module_version": "1.5.0",
       "_view_name": "HTMLView",
       "description": "",
       "description_tooltip": null,
       "layout": "IPY_MODEL_54a691d04c4d424db183a68ada050dce",
       "placeholder": "​",
       "style": "IPY_MODEL_886116b026ba4afba83665d75218d9c9",
       "value": " 21.4M/21.4M [00:00&lt;00:00, 150MB/s]"
      }
     },
     "8f321314f016447fb94c3d58d8e020f5": {
      "model_module": "@jupyter-widgets/base",
      "model_module_version": "1.2.0",
      "model_name": "LayoutModel",
      "state": {
       "_model_module": "@jupyter-widgets/base",
       "_model_module_version": "1.2.0",
       "_model_name": "LayoutModel",
       "_view_count": null,
       "_view_module": "@jupyter-widgets/base",
       "_view_module_version": "1.2.0",
       "_view_name": "LayoutView",
       "align_content": null,
       "align_items": null,
       "align_self": null,
       "border": null,
       "bottom": null,
       "display": null,
       "flex": null,
       "flex_flow": null,
       "grid_area": null,
       "grid_auto_columns": null,
       "grid_auto_flow": null,
       "grid_auto_rows": null,
       "grid_column": null,
       "grid_gap": null,
       "grid_row": null,
       "grid_template_areas": null,
       "grid_template_columns": null,
       "grid_template_rows": null,
       "height": null,
       "justify_content": null,
       "justify_items": null,
       "left": null,
       "margin": null,
       "max_height": null,
       "max_width": null,
       "min_height": null,
       "min_width": null,
       "object_fit": null,
       "object_position": null,
       "order": null,
       "overflow": null,
       "overflow_x": null,
       "overflow_y": null,
       "padding": null,
       "right": null,
       "top": null,
       "visibility": null,
       "width": null
      }
     },
     "9bbdfabaa14b48838595f35a46859150": {
      "model_module": "@jupyter-widgets/base",
      "model_module_version": "1.2.0",
      "model_name": "LayoutModel",
      "state": {
       "_model_module": "@jupyter-widgets/base",
       "_model_module_version": "1.2.0",
       "_model_name": "LayoutModel",
       "_view_count": null,
       "_view_module": "@jupyter-widgets/base",
       "_view_module_version": "1.2.0",
       "_view_name": "LayoutView",
       "align_content": null,
       "align_items": null,
       "align_self": null,
       "border": null,
       "bottom": null,
       "display": null,
       "flex": null,
       "flex_flow": null,
       "grid_area": null,
       "grid_auto_columns": null,
       "grid_auto_flow": null,
       "grid_auto_rows": null,
       "grid_column": null,
       "grid_gap": null,
       "grid_row": null,
       "grid_template_areas": null,
       "grid_template_columns": null,
       "grid_template_rows": null,
       "height": null,
       "justify_content": null,
       "justify_items": null,
       "left": null,
       "margin": null,
       "max_height": null,
       "max_width": null,
       "min_height": null,
       "min_width": null,
       "object_fit": null,
       "object_position": null,
       "order": null,
       "overflow": null,
       "overflow_x": null,
       "overflow_y": null,
       "padding": null,
       "right": null,
       "top": null,
       "visibility": null,
       "width": null
      }
     },
     "aa33c9cfc5684a188b0329b86f57ad05": {
      "model_module": "@jupyter-widgets/controls",
      "model_module_version": "1.5.0",
      "model_name": "HBoxModel",
      "state": {
       "_dom_classes": [],
       "_model_module": "@jupyter-widgets/controls",
       "_model_module_version": "1.5.0",
       "_model_name": "HBoxModel",
       "_view_count": null,
       "_view_module": "@jupyter-widgets/controls",
       "_view_module_version": "1.5.0",
       "_view_name": "HBoxView",
       "box_style": "",
       "children": [
        "IPY_MODEL_8a51d837d09441089084e69764109465",
        "IPY_MODEL_1478943fc3f04753bd1062a915d47d8f",
        "IPY_MODEL_c03dc9c7634442299a0c527df92a78e3"
       ],
       "layout": "IPY_MODEL_9bbdfabaa14b48838595f35a46859150"
      }
     },
     "b1a0f0fc66af4ec2b2d09e4c02c3ca2b": {
      "model_module": "@jupyter-widgets/base",
      "model_module_version": "1.2.0",
      "model_name": "LayoutModel",
      "state": {
       "_model_module": "@jupyter-widgets/base",
       "_model_module_version": "1.2.0",
       "_model_name": "LayoutModel",
       "_view_count": null,
       "_view_module": "@jupyter-widgets/base",
       "_view_module_version": "1.2.0",
       "_view_name": "LayoutView",
       "align_content": null,
       "align_items": null,
       "align_self": null,
       "border": null,
       "bottom": null,
       "display": null,
       "flex": null,
       "flex_flow": null,
       "grid_area": null,
       "grid_auto_columns": null,
       "grid_auto_flow": null,
       "grid_auto_rows": null,
       "grid_column": null,
       "grid_gap": null,
       "grid_row": null,
       "grid_template_areas": null,
       "grid_template_columns": null,
       "grid_template_rows": null,
       "height": null,
       "justify_content": null,
       "justify_items": null,
       "left": null,
       "margin": null,
       "max_height": null,
       "max_width": null,
       "min_height": null,
       "min_width": null,
       "object_fit": null,
       "object_position": null,
       "order": null,
       "overflow": null,
       "overflow_x": null,
       "overflow_y": null,
       "padding": null,
       "right": null,
       "top": null,
       "visibility": null,
       "width": null
      }
     },
     "bffd524417ca474499717c91e4ccaa1a": {
      "model_module": "@jupyter-widgets/controls",
      "model_module_version": "1.5.0",
      "model_name": "HBoxModel",
      "state": {
       "_dom_classes": [],
       "_model_module": "@jupyter-widgets/controls",
       "_model_module_version": "1.5.0",
       "_model_name": "HBoxModel",
       "_view_count": null,
       "_view_module": "@jupyter-widgets/controls",
       "_view_module_version": "1.5.0",
       "_view_name": "HBoxView",
       "box_style": "",
       "children": [
        "IPY_MODEL_c00594f7c9234256bea8aabc63f607be",
        "IPY_MODEL_39904ee4c903472781930d41f3e189fd",
        "IPY_MODEL_8c55f10b923344d68bf33b65fd8fd40f"
       ],
       "layout": "IPY_MODEL_d7ab7c40c3d84fb089f17759191a22de"
      }
     },
     "c00594f7c9234256bea8aabc63f607be": {
      "model_module": "@jupyter-widgets/controls",
      "model_module_version": "1.5.0",
      "model_name": "HTMLModel",
      "state": {
       "_dom_classes": [],
       "_model_module": "@jupyter-widgets/controls",
       "_model_module_version": "1.5.0",
       "_model_name": "HTMLModel",
       "_view_count": null,
       "_view_module": "@jupyter-widgets/controls",
       "_view_module_version": "1.5.0",
       "_view_name": "HTMLView",
       "description": "",
       "description_tooltip": null,
       "layout": "IPY_MODEL_fbd64171e8254c71a0c21c97825a306f",
       "placeholder": "​",
       "style": "IPY_MODEL_1c705110e2aa45328a15008a670b88c8",
       "value": "model.safetensors: 100%"
      }
     },
     "c03dc9c7634442299a0c527df92a78e3": {
      "model_module": "@jupyter-widgets/controls",
      "model_module_version": "1.5.0",
      "model_name": "HTMLModel",
      "state": {
       "_dom_classes": [],
       "_model_module": "@jupyter-widgets/controls",
       "_model_module_version": "1.5.0",
       "_model_name": "HTMLModel",
       "_view_count": null,
       "_view_module": "@jupyter-widgets/controls",
       "_view_module_version": "1.5.0",
       "_view_name": "HTMLView",
       "description": "",
       "description_tooltip": null,
       "layout": "IPY_MODEL_b1a0f0fc66af4ec2b2d09e4c02c3ca2b",
       "placeholder": "​",
       "style": "IPY_MODEL_c5c811f3b1f04d32a6c4bdc33631b8f6",
       "value": " 87.3M/87.3M [00:00&lt;00:00, 198MB/s]"
      }
     },
     "c5c811f3b1f04d32a6c4bdc33631b8f6": {
      "model_module": "@jupyter-widgets/controls",
      "model_module_version": "1.5.0",
      "model_name": "DescriptionStyleModel",
      "state": {
       "_model_module": "@jupyter-widgets/controls",
       "_model_module_version": "1.5.0",
       "_model_name": "DescriptionStyleModel",
       "_view_count": null,
       "_view_module": "@jupyter-widgets/base",
       "_view_module_version": "1.2.0",
       "_view_name": "StyleView",
       "description_width": ""
      }
     },
     "d7ab7c40c3d84fb089f17759191a22de": {
      "model_module": "@jupyter-widgets/base",
      "model_module_version": "1.2.0",
      "model_name": "LayoutModel",
      "state": {
       "_model_module": "@jupyter-widgets/base",
       "_model_module_version": "1.2.0",
       "_model_name": "LayoutModel",
       "_view_count": null,
       "_view_module": "@jupyter-widgets/base",
       "_view_module_version": "1.2.0",
       "_view_name": "LayoutView",
       "align_content": null,
       "align_items": null,
       "align_self": null,
       "border": null,
       "bottom": null,
       "display": null,
       "flex": null,
       "flex_flow": null,
       "grid_area": null,
       "grid_auto_columns": null,
       "grid_auto_flow": null,
       "grid_auto_rows": null,
       "grid_column": null,
       "grid_gap": null,
       "grid_row": null,
       "grid_template_areas": null,
       "grid_template_columns": null,
       "grid_template_rows": null,
       "height": null,
       "justify_content": null,
       "justify_items": null,
       "left": null,
       "margin": null,
       "max_height": null,
       "max_width": null,
       "min_height": null,
       "min_width": null,
       "object_fit": null,
       "object_position": null,
       "order": null,
       "overflow": null,
       "overflow_x": null,
       "overflow_y": null,
       "padding": null,
       "right": null,
       "top": null,
       "visibility": null,
       "width": null
      }
     },
     "e96bc7074c114341b9a8f38b37ac0cc6": {
      "model_module": "@jupyter-widgets/base",
      "model_module_version": "1.2.0",
      "model_name": "LayoutModel",
      "state": {
       "_model_module": "@jupyter-widgets/base",
       "_model_module_version": "1.2.0",
       "_model_name": "LayoutModel",
       "_view_count": null,
       "_view_module": "@jupyter-widgets/base",
       "_view_module_version": "1.2.0",
       "_view_name": "LayoutView",
       "align_content": null,
       "align_items": null,
       "align_self": null,
       "border": null,
       "bottom": null,
       "display": null,
       "flex": null,
       "flex_flow": null,
       "grid_area": null,
       "grid_auto_columns": null,
       "grid_auto_flow": null,
       "grid_auto_rows": null,
       "grid_column": null,
       "grid_gap": null,
       "grid_row": null,
       "grid_template_areas": null,
       "grid_template_columns": null,
       "grid_template_rows": null,
       "height": null,
       "justify_content": null,
       "justify_items": null,
       "left": null,
       "margin": null,
       "max_height": null,
       "max_width": null,
       "min_height": null,
       "min_width": null,
       "object_fit": null,
       "object_position": null,
       "order": null,
       "overflow": null,
       "overflow_x": null,
       "overflow_y": null,
       "padding": null,
       "right": null,
       "top": null,
       "visibility": null,
       "width": null
      }
     },
     "fbd64171e8254c71a0c21c97825a306f": {
      "model_module": "@jupyter-widgets/base",
      "model_module_version": "1.2.0",
      "model_name": "LayoutModel",
      "state": {
       "_model_module": "@jupyter-widgets/base",
       "_model_module_version": "1.2.0",
       "_model_name": "LayoutModel",
       "_view_count": null,
       "_view_module": "@jupyter-widgets/base",
       "_view_module_version": "1.2.0",
       "_view_name": "LayoutView",
       "align_content": null,
       "align_items": null,
       "align_self": null,
       "border": null,
       "bottom": null,
       "display": null,
       "flex": null,
       "flex_flow": null,
       "grid_area": null,
       "grid_auto_columns": null,
       "grid_auto_flow": null,
       "grid_auto_rows": null,
       "grid_column": null,
       "grid_gap": null,
       "grid_row": null,
       "grid_template_areas": null,
       "grid_template_columns": null,
       "grid_template_rows": null,
       "height": null,
       "justify_content": null,
       "justify_items": null,
       "left": null,
       "margin": null,
       "max_height": null,
       "max_width": null,
       "min_height": null,
       "min_width": null,
       "object_fit": null,
       "object_position": null,
       "order": null,
       "overflow": null,
       "overflow_x": null,
       "overflow_y": null,
       "padding": null,
       "right": null,
       "top": null,
       "visibility": null,
       "width": null
      }
     }
    },
    "version_major": 2,
    "version_minor": 0
   }
  }
 },
 "nbformat": 4,
 "nbformat_minor": 5
}

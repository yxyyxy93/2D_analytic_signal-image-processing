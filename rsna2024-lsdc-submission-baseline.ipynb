{
 "cells": [
  {
   "cell_type": "markdown",
   "id": "bddded1c",
   "metadata": {
    "_cell_guid": "b1076dfc-b9ad-4769-8c92-a6c4dae69d19",
    "_uuid": "8f2839f25d086af736a60e9eeb907d3b93b6e0e5",
    "papermill": {
     "duration": 0.008354,
     "end_time": "2024-10-07T01:10:13.765617",
     "exception": false,
     "start_time": "2024-10-07T01:10:13.757263",
     "status": "completed"
    },
    "tags": []
   },
   "source": [
    "Adopted from https://www.kaggle.com/code/yxyyxy/rsna2024-training-baseline-2nd-stage/edit\n",
    "\n",
    "# RSNA2024 LSDC Submission Baseline\n",
    "\n",
    "This notebook will Let the model infer and make a submission.\n",
    "\n",
    "### My other Notebooks\n",
    "- [RSNA2024 LSDC Making Dataset](https://www.kaggle.com/code/itsuki9180/rsna2024-lsdc-making-dataset) \n",
    "- [RSNA2024 LSDC Training Baseline](https://www.kaggle.com/code/itsuki9180/rsna2024-lsdc-training-baseline) \n",
    "- [RSNA2024 LSDC Submission Baseline](https://www.kaggle.com/code/itsuki9180/rsna2024-lsdc-submission-baseline) <- you're reading now"
   ]
  },
  {
   "cell_type": "markdown",
   "id": "a2efa991",
   "metadata": {
    "papermill": {
     "duration": 0.007549,
     "end_time": "2024-10-07T01:10:13.781064",
     "exception": false,
     "start_time": "2024-10-07T01:10:13.773515",
     "status": "completed"
    },
    "tags": []
   },
   "source": [
    "# Import Libralies"
   ]
  },
  {
   "cell_type": "code",
   "execution_count": 1,
   "id": "eddf3238",
   "metadata": {
    "execution": {
     "iopub.execute_input": "2024-10-07T01:10:13.798610Z",
     "iopub.status.busy": "2024-10-07T01:10:13.797854Z",
     "iopub.status.idle": "2024-10-07T01:10:13.809005Z",
     "shell.execute_reply": "2024-10-07T01:10:13.808175Z"
    },
    "papermill": {
     "duration": 0.022379,
     "end_time": "2024-10-07T01:10:13.811048",
     "exception": false,
     "start_time": "2024-10-07T01:10:13.788669",
     "status": "completed"
    },
    "tags": []
   },
   "outputs": [],
   "source": [
    "DEBUG = True\n",
    "\n",
    "if DEBUG == True:\n",
    "    rd = '/kaggle/input/rsna-lsdc-2024-submission-debug-dataset/debug'\n",
    "else:\n",
    "    rd = '/kaggle/input/rsna-2024-lumbar-spine-degenerative-classification'\n",
    "    \n",
    "# Define the directory path\n",
    "DATA_fromStage1 = '/kaggle/working'\n"
   ]
  },
  {
   "cell_type": "code",
   "execution_count": 2,
   "id": "63e68f84",
   "metadata": {
    "execution": {
     "iopub.execute_input": "2024-10-07T01:10:13.827960Z",
     "iopub.status.busy": "2024-10-07T01:10:13.827677Z",
     "iopub.status.idle": "2024-10-07T01:10:50.701559Z",
     "shell.execute_reply": "2024-10-07T01:10:50.700665Z"
    },
    "papermill": {
     "duration": 36.88497,
     "end_time": "2024-10-07T01:10:50.703853",
     "exception": false,
     "start_time": "2024-10-07T01:10:13.818883",
     "status": "completed"
    },
    "tags": []
   },
   "outputs": [
    {
     "name": "stdout",
     "output_type": "stream",
     "text": [
      "Using path: /kaggle/input/2d-segmentation-of-sagittal-lumbar-spine-mri/simple_unet.pth\r\n",
      "/opt/conda/lib/python3.10/site-packages/torchvision/models/_utils.py:208: UserWarning: The parameter 'pretrained' is deprecated since 0.13 and may be removed in the future, please use 'weights' instead.\r\n",
      "  warnings.warn(\r\n",
      "/opt/conda/lib/python3.10/site-packages/torchvision/models/_utils.py:223: UserWarning: Arguments other than a weight enum or `None` for 'weights' are deprecated since 0.13 and may be removed in the future. The current behavior is equivalent to passing `weights=None`.\r\n",
      "  warnings.warn(msg)\r\n",
      "Using path: /kaggle/input/rsna-lsdc-2024-submission-debug-dataset/debug/test_series_descriptions.csv\r\n",
      "Using base path: /kaggle/input/rsna-lsdc-2024-submission-debug-dataset/debug/test_images\r\n",
      "Processing studies: 100%|█████████████████████████| 6/6 [00:18<00:00,  3.09s/it]\r\n",
      "Pipeline completed successfully!\r\n",
      "Processing studies:  86%|█████████████████████▍   | 6/7 [00:06<00:00,  1.04it/s]Study 3429409220 was skipped due to error: 3429409220\r\n",
      "Traceback (most recent call last):\r\n",
      "  File \"/kaggle/input/script-deepspine-custom-dataset/main.py\", line 662, in create_axial_dataset\r\n",
      "    sagittal_slice = sag_middle(sagittal_series_paths_T2[study_id][0])\r\n",
      "KeyError: 3429409220\r\n",
      "\r\n",
      "Processing studies: 100%|█████████████████████████| 7/7 [00:06<00:00,  1.08it/s]\r\n",
      "Metadata saved to /kaggle/working/axialT2/dataset_metadata.csv\r\n",
      "Axial dataset generation completed successfully!\r\n"
     ]
    }
   ],
   "source": [
    "!python /kaggle/input/script-deepspine-custom-dataset/main.py \\\n",
    "\"{rd}/test_series_descriptions.csv\" \\\n",
    "\"{rd}/sample_submission.csv\" \\\n",
    "\"{rd}/test_images\" \\\n",
    "'/kaggle/input/2d-segmentation-of-sagittal-lumbar-spine-mri/simple_unet.pth'\n"
   ]
  },
  {
   "cell_type": "code",
   "execution_count": 3,
   "id": "af12214d",
   "metadata": {
    "execution": {
     "iopub.execute_input": "2024-10-07T01:10:50.723954Z",
     "iopub.status.busy": "2024-10-07T01:10:50.723638Z",
     "iopub.status.idle": "2024-10-07T01:10:55.795340Z",
     "shell.execute_reply": "2024-10-07T01:10:55.794563Z"
    },
    "papermill": {
     "duration": 5.084376,
     "end_time": "2024-10-07T01:10:55.797639",
     "exception": false,
     "start_time": "2024-10-07T01:10:50.713263",
     "status": "completed"
    },
    "tags": []
   },
   "outputs": [],
   "source": [
    "import os\n",
    "import gc\n",
    "import sys\n",
    "from PIL import Image\n",
    "import cv2\n",
    "import math, random\n",
    "import numpy as np\n",
    "import pandas as pd\n",
    "import glob\n",
    "from tqdm import tqdm\n",
    "import matplotlib.pyplot as plt\n",
    "from sklearn.model_selection import StratifiedKFold\n",
    "from sklearn.metrics import log_loss\n",
    "\n",
    "from collections import OrderedDict\n",
    "\n",
    "import torch\n",
    "import torch.nn.functional as F\n",
    "from torch import nn\n",
    "from torch.utils.data import DataLoader, Dataset, Sampler\n",
    "from torch.optim import AdamW\n",
    "\n",
    "import timm\n",
    "from transformers import get_cosine_schedule_with_warmup\n",
    "\n",
    "import albumentations as A\n"
   ]
  },
  {
   "cell_type": "markdown",
   "id": "e27f68cc",
   "metadata": {
    "papermill": {
     "duration": 0.010172,
     "end_time": "2024-10-07T01:10:55.817336",
     "exception": false,
     "start_time": "2024-10-07T01:10:55.807164",
     "status": "completed"
    },
    "tags": []
   },
   "source": [
    "# Config"
   ]
  },
  {
   "cell_type": "code",
   "execution_count": 4,
   "id": "d9cc8e86",
   "metadata": {
    "execution": {
     "iopub.execute_input": "2024-10-07T01:10:55.837441Z",
     "iopub.status.busy": "2024-10-07T01:10:55.836887Z",
     "iopub.status.idle": "2024-10-07T01:10:55.899990Z",
     "shell.execute_reply": "2024-10-07T01:10:55.899015Z"
    },
    "papermill": {
     "duration": 0.075303,
     "end_time": "2024-10-07T01:10:55.901927",
     "exception": false,
     "start_time": "2024-10-07T01:10:55.826624",
     "status": "completed"
    },
    "tags": []
   },
   "outputs": [],
   "source": [
    "device = 'cuda:0' if torch.cuda.is_available() else 'cpu'\n",
    "N_WORKERS = os.cpu_count()\n",
    "USE_AMP = True\n",
    "SEED = 1\n",
    "\n",
    "IMG_SIZE = [224, 224]\n",
    "N_LABELS = 5\n",
    "N_CLASSES = 3 * N_LABELS\n",
    "\n",
    "model_name_sag = 'efficientnet_b0'\n",
    "model_name_axi = 'resnet34'\n",
    "# resnet34\n",
    "in_chans_sag = 30\n",
    "in_chans_axi = 4\n",
    "\n",
    "N_FOLDS = 5\n",
    "\n",
    "BATCH_SIZE = 1"
   ]
  },
  {
   "cell_type": "code",
   "execution_count": 5,
   "id": "75fd489d",
   "metadata": {
    "execution": {
     "iopub.execute_input": "2024-10-07T01:10:55.922353Z",
     "iopub.status.busy": "2024-10-07T01:10:55.921637Z",
     "iopub.status.idle": "2024-10-07T01:10:55.928305Z",
     "shell.execute_reply": "2024-10-07T01:10:55.927534Z"
    },
    "papermill": {
     "duration": 0.018894,
     "end_time": "2024-10-07T01:10:55.930254",
     "exception": false,
     "start_time": "2024-10-07T01:10:55.911360",
     "status": "completed"
    },
    "tags": []
   },
   "outputs": [
    {
     "data": {
      "text/plain": [
       "device(type='cuda', index=0)"
      ]
     },
     "execution_count": 5,
     "metadata": {},
     "output_type": "execute_result"
    }
   ],
   "source": [
    "device = torch.device('cuda:0') if torch.cuda.is_available() else torch.device('cpu')\n",
    "device"
   ]
  },
  {
   "cell_type": "code",
   "execution_count": 6,
   "id": "cfc29acb",
   "metadata": {
    "execution": {
     "iopub.execute_input": "2024-10-07T01:10:55.950217Z",
     "iopub.status.busy": "2024-10-07T01:10:55.949596Z",
     "iopub.status.idle": "2024-10-07T01:10:55.954233Z",
     "shell.execute_reply": "2024-10-07T01:10:55.953379Z"
    },
    "papermill": {
     "duration": 0.016625,
     "end_time": "2024-10-07T01:10:55.956104",
     "exception": false,
     "start_time": "2024-10-07T01:10:55.939479",
     "status": "completed"
    },
    "tags": []
   },
   "outputs": [],
   "source": [
    "CONDITIONS = [\n",
    "    'spinal_canal_stenosis', \n",
    "    'left_neural_foraminal_narrowing', \n",
    "    'right_neural_foraminal_narrowing',\n",
    "    'left_subarticular_stenosis',\n",
    "    'right_subarticular_stenosis'\n",
    "]\n",
    "\n",
    "# Define the mapping for each level\n",
    "level_mapping = {\n",
    "    'L1/L2': 'l1_l2',\n",
    "    'L2/L3': 'l2_l3',\n",
    "    'L3/L4': 'l3_l4',\n",
    "    'L4/L5': 'l4_l5',\n",
    "    'L5/S1': 'l5_s1'\n",
    "}\n"
   ]
  },
  {
   "cell_type": "code",
   "execution_count": 7,
   "id": "fc63c312",
   "metadata": {
    "execution": {
     "iopub.execute_input": "2024-10-07T01:10:55.976386Z",
     "iopub.status.busy": "2024-10-07T01:10:55.975679Z",
     "iopub.status.idle": "2024-10-07T01:10:55.980713Z",
     "shell.execute_reply": "2024-10-07T01:10:55.979863Z"
    },
    "papermill": {
     "duration": 0.017036,
     "end_time": "2024-10-07T01:10:55.982589",
     "exception": false,
     "start_time": "2024-10-07T01:10:55.965553",
     "status": "completed"
    },
    "tags": []
   },
   "outputs": [],
   "source": [
    "def atoi(text):\n",
    "    return int(text) if text.isdigit() else text\n",
    "\n",
    "def natural_keys(text):\n",
    "    return [ atoi(c) for c in re.split(r'(\\d+)', text) ]"
   ]
  },
  {
   "cell_type": "code",
   "execution_count": 8,
   "id": "277bb0ba",
   "metadata": {
    "execution": {
     "iopub.execute_input": "2024-10-07T01:10:56.002858Z",
     "iopub.status.busy": "2024-10-07T01:10:56.002358Z",
     "iopub.status.idle": "2024-10-07T01:10:56.024138Z",
     "shell.execute_reply": "2024-10-07T01:10:56.022951Z"
    },
    "papermill": {
     "duration": 0.03395,
     "end_time": "2024-10-07T01:10:56.026112",
     "exception": false,
     "start_time": "2024-10-07T01:10:55.992162",
     "status": "completed"
    },
    "tags": []
   },
   "outputs": [
    {
     "name": "stdout",
     "output_type": "stream",
     "text": [
      "Sagittal T2 Metadata:\n",
      "                                                      L4/L5  \\\n",
      "st_id                                                         \n",
      "1176954132  /kaggle/working/sagittalT2/1176954132/L4_L5.npy   \n",
      "1737682527  /kaggle/working/sagittalT2/1737682527/L4_L5.npy   \n",
      "1891482189  /kaggle/working/sagittalT2/1891482189/L4_L5.npy   \n",
      "1972129014  /kaggle/working/sagittalT2/1972129014/L4_L5.npy   \n",
      "2676098721  /kaggle/working/sagittalT2/2676098721/L4_L5.npy   \n",
      "3004806533  /kaggle/working/sagittalT2/3004806533/L4_L5.npy   \n",
      "3429409220     /kaggle/working/axialT2/3429409220/L4_L5.npy   \n",
      "\n",
      "                                                      L3/L4  \\\n",
      "st_id                                                         \n",
      "1176954132  /kaggle/working/sagittalT2/1176954132/L3_L4.npy   \n",
      "1737682527  /kaggle/working/sagittalT2/1737682527/L3_L4.npy   \n",
      "1891482189  /kaggle/working/sagittalT2/1891482189/L3_L4.npy   \n",
      "1972129014  /kaggle/working/sagittalT2/1972129014/L3_L4.npy   \n",
      "2676098721  /kaggle/working/sagittalT2/2676098721/L3_L4.npy   \n",
      "3004806533  /kaggle/working/sagittalT2/3004806533/L3_L4.npy   \n",
      "3429409220     /kaggle/working/axialT2/3429409220/L3_L4.npy   \n",
      "\n",
      "                                                      L2/L3  \\\n",
      "st_id                                                         \n",
      "1176954132  /kaggle/working/sagittalT2/1176954132/L2_L3.npy   \n",
      "1737682527  /kaggle/working/sagittalT2/1737682527/L2_L3.npy   \n",
      "1891482189  /kaggle/working/sagittalT2/1891482189/L2_L3.npy   \n",
      "1972129014  /kaggle/working/sagittalT2/1972129014/L2_L3.npy   \n",
      "2676098721  /kaggle/working/sagittalT2/2676098721/L2_L3.npy   \n",
      "3004806533  /kaggle/working/sagittalT2/3004806533/L2_L3.npy   \n",
      "3429409220     /kaggle/working/axialT2/3429409220/L2_L3.npy   \n",
      "\n",
      "                                                      L1/L2  \\\n",
      "st_id                                                         \n",
      "1176954132  /kaggle/working/sagittalT2/1176954132/L1_L2.npy   \n",
      "1737682527  /kaggle/working/sagittalT2/1737682527/L1_L2.npy   \n",
      "1891482189  /kaggle/working/sagittalT2/1891482189/L1_L2.npy   \n",
      "1972129014  /kaggle/working/sagittalT2/1972129014/L1_L2.npy   \n",
      "2676098721  /kaggle/working/sagittalT2/2676098721/L1_L2.npy   \n",
      "3004806533  /kaggle/working/sagittalT2/3004806533/L1_L2.npy   \n",
      "3429409220     /kaggle/working/axialT2/3429409220/L1_L2.npy   \n",
      "\n",
      "                                                      L5/S1  \n",
      "st_id                                                        \n",
      "1176954132  /kaggle/working/sagittalT2/1176954132/L5_S1.npy  \n",
      "1737682527  /kaggle/working/sagittalT2/1737682527/L5_S1.npy  \n",
      "1891482189  /kaggle/working/sagittalT2/1891482189/L5_S1.npy  \n",
      "1972129014  /kaggle/working/sagittalT2/1972129014/L5_S1.npy  \n",
      "2676098721  /kaggle/working/sagittalT2/2676098721/L5_S1.npy  \n",
      "3004806533  /kaggle/working/sagittalT2/3004806533/L5_S1.npy  \n",
      "3429409220     /kaggle/working/axialT2/3429409220/L5_S1.npy  \n"
     ]
    }
   ],
   "source": [
    "# Define the paths to the CSV files\n",
    "csv_file_path_T2 = DATA_fromStage1 + '/sagittalT2/dataset_metadata.csv'\n",
    "csv_file_path_T1 = DATA_fromStage1 + '/sagittalT1/dataset_metadata.csv'\n",
    "csv_file_path_axial = DATA_fromStage1 + '/axialT2/dataset_metadata.csv'\n",
    "\n",
    "# Read the CSV files\n",
    "dataset_metadata_T2 = pd.read_csv(csv_file_path_T2)\n",
    "dataset_metadata_T1 = pd.read_csv(csv_file_path_T1)\n",
    "dataset_metadata_axial = pd.read_csv(csv_file_path_axial)\n",
    "\n",
    "\n",
    "# Rename columns and set index\n",
    "dataset_metadata_T2.rename(columns={'Unnamed: 0': 'st_id'}, inplace=True)\n",
    "dataset_metadata_T2.set_index('st_id', inplace=True)\n",
    "\n",
    "dataset_metadata_T1.rename(columns={'Unnamed: 0': 'st_id'}, inplace=True)\n",
    "dataset_metadata_T1.set_index('st_id', inplace=True)\n",
    "\n",
    "dataset_metadata_axial.rename(columns={'Unnamed: 0': 'st_id'}, inplace=True)\n",
    "dataset_metadata_axial.set_index('st_id', inplace=True)\n",
    "\n",
    "missing_st_id_axial = dataset_metadata_axial.index.difference(dataset_metadata_T2.index)\n",
    "missing_metadata_axial = dataset_metadata_axial.loc[missing_st_id_axial]\n",
    "# Concatenate the missing metadata to dataset_metadata_T2\n",
    "dataset_metadata_T2 = pd.concat([dataset_metadata_T2, missing_metadata_axial])\n",
    "\n",
    "# Print the DataFrames\n",
    "print(\"Sagittal T2 Metadata:\")\n",
    "print(dataset_metadata_T2)\n",
    "\n",
    "# print(\"\\nSagittal T1 Metadata:\")\n",
    "# print(dataset_metadata_T1)\n",
    "\n",
    "# print(\"\\nAxial T2 Metadata:\")\n",
    "# print(dataset_metadata_axial)\n"
   ]
  },
  {
   "cell_type": "code",
   "execution_count": 9,
   "id": "7587cd6d",
   "metadata": {
    "execution": {
     "iopub.execute_input": "2024-10-07T01:10:56.046668Z",
     "iopub.status.busy": "2024-10-07T01:10:56.046367Z",
     "iopub.status.idle": "2024-10-07T01:10:56.053604Z",
     "shell.execute_reply": "2024-10-07T01:10:56.052839Z"
    },
    "papermill": {
     "duration": 0.019981,
     "end_time": "2024-10-07T01:10:56.055586",
     "exception": false,
     "start_time": "2024-10-07T01:10:56.035605",
     "status": "completed"
    },
    "tags": []
   },
   "outputs": [
    {
     "data": {
      "text/plain": [
       "'# one npy file example\\nprint(\"--------------------- SagittalT2 samples -----------\")\\nexample_npy_fn = dataset_metadata[\\'L4/L5\\'][0]\\nexample_npy_fn = example_npy_fn.split(\\'/\\')\\n# Load the .npy file\\nexample_npy = np.load(os.path.join(DATA_fromStage1, *(example_npy_fn[-3:])))\\n# Print the structure of the data\\nprint(f\"Shape of the data: {example_npy.shape}\")\\nprint(f\"Data type: {example_npy.dtype}\")\\n# Show the 15 slices one by one\\nfor i in range(15):\\n    plt.imshow(example_npy[i], cmap=\\'gray\\')\\n    plt.title(f\\'Slice {i+1}\\')\\n    plt.axis(\\'off\\')\\n    plt.show()\\n\\nprint(\"--------------------- SagittalT1 samples -----------\")\\nexample_npy = np.load(os.path.join(DATA_fromStage1, \\'sagittalT1\\', *(example_npy_fn[-2:])))\\n# Print the structure of the data\\nprint(f\"Shape of the data: {example_npy.shape}\")\\nprint(f\"Data type: {example_npy.dtype}\")\\n# Show the 15 slices one by one\\nfor i in range(15):\\n    plt.imshow(example_npy[i], cmap=\\'gray\\')\\n    plt.title(f\\'Slice {i+1}\\')\\n    plt.axis(\\'off\\')\\n    plt.show()\\n\\nprint(\"--------------------- AxialT2 samples ----------\")\\n# Load the .npy file\\nexample_npy = np.load(os.path.join(DATA_fromStage1, \\'axialT2\\', *(example_npy_fn[-2:])))\\nprint(f\"Shape of the data: {example_npy.shape}\")\\nprint(f\"Data type: {example_npy.dtype}\")\\nfor i in range(6):\\n    img = example_npy[i]\\n    plt.imshow(img, cmap=\\'gray\\')\\n    plt.title(f\\'Slice {i+1}\\')\\n    plt.axis(\\'off\\')\\n    plt.show()\\n'"
      ]
     },
     "execution_count": 9,
     "metadata": {},
     "output_type": "execute_result"
    }
   ],
   "source": [
    "'''# one npy file example\n",
    "print(\"--------------------- SagittalT2 samples -----------\")\n",
    "example_npy_fn = dataset_metadata['L4/L5'][0]\n",
    "example_npy_fn = example_npy_fn.split('/')\n",
    "# Load the .npy file\n",
    "example_npy = np.load(os.path.join(DATA_fromStage1, *(example_npy_fn[-3:])))\n",
    "# Print the structure of the data\n",
    "print(f\"Shape of the data: {example_npy.shape}\")\n",
    "print(f\"Data type: {example_npy.dtype}\")\n",
    "# Show the 15 slices one by one\n",
    "for i in range(15):\n",
    "    plt.imshow(example_npy[i], cmap='gray')\n",
    "    plt.title(f'Slice {i+1}')\n",
    "    plt.axis('off')\n",
    "    plt.show()\n",
    "\n",
    "print(\"--------------------- SagittalT1 samples -----------\")\n",
    "example_npy = np.load(os.path.join(DATA_fromStage1, 'sagittalT1', *(example_npy_fn[-2:])))\n",
    "# Print the structure of the data\n",
    "print(f\"Shape of the data: {example_npy.shape}\")\n",
    "print(f\"Data type: {example_npy.dtype}\")\n",
    "# Show the 15 slices one by one\n",
    "for i in range(15):\n",
    "    plt.imshow(example_npy[i], cmap='gray')\n",
    "    plt.title(f'Slice {i+1}')\n",
    "    plt.axis('off')\n",
    "    plt.show()\n",
    "\n",
    "print(\"--------------------- AxialT2 samples ----------\")\n",
    "# Load the .npy file\n",
    "example_npy = np.load(os.path.join(DATA_fromStage1, 'axialT2', *(example_npy_fn[-2:])))\n",
    "print(f\"Shape of the data: {example_npy.shape}\")\n",
    "print(f\"Data type: {example_npy.dtype}\")\n",
    "for i in range(6):\n",
    "    img = example_npy[i]\n",
    "    plt.imshow(img, cmap='gray')\n",
    "    plt.title(f'Slice {i+1}')\n",
    "    plt.axis('off')\n",
    "    plt.show()\n",
    "'''\n"
   ]
  },
  {
   "cell_type": "markdown",
   "id": "4932fe52",
   "metadata": {
    "papermill": {
     "duration": 0.009479,
     "end_time": "2024-10-07T01:10:56.074806",
     "exception": false,
     "start_time": "2024-10-07T01:10:56.065327",
     "status": "completed"
    },
    "tags": []
   },
   "source": [
    "# Define Dataset"
   ]
  },
  {
   "cell_type": "code",
   "execution_count": 10,
   "id": "fc5bafce",
   "metadata": {
    "execution": {
     "iopub.execute_input": "2024-10-07T01:10:56.095334Z",
     "iopub.status.busy": "2024-10-07T01:10:56.095042Z",
     "iopub.status.idle": "2024-10-07T01:10:56.117741Z",
     "shell.execute_reply": "2024-10-07T01:10:56.116929Z"
    },
    "papermill": {
     "duration": 0.035203,
     "end_time": "2024-10-07T01:10:56.119621",
     "exception": false,
     "start_time": "2024-10-07T01:10:56.084418",
     "status": "completed"
    },
    "tags": []
   },
   "outputs": [],
   "source": [
    "class RSNA24TestDataset(Dataset):\n",
    "    def __init__(self, df_fn, Slice_len_Sag=15, Slice_len_Axi=4, transform=None, trainsform_axis=None):\n",
    "        self.df_fn = df_fn\n",
    "        self.transform = transform\n",
    "        self.trainsform_axis = trainsform_axis\n",
    "        self.Slice_len_Sag = Slice_len_Sag\n",
    "        self.Slice_len_Axi = Slice_len_Axi\n",
    "        # Select all rows where the 'Name' column has the value 'Alice'\n",
    "    def __len__(self):\n",
    "        return len(self.df_fn)\n",
    "\n",
    "    def __getitem__(self, idx):\n",
    "        st_id = self.df_fn.index[idx]\n",
    "        row_idx = self.df_fn.iloc[idx]\n",
    "        levels = ['L1/L2', 'L2/L3', 'L3/L4', 'L4/L5', 'L5/S1']\n",
    "        filenames = [row_idx[level] for level in levels]\n",
    "        \n",
    "        npy_sagT2_list = []\n",
    "        npy_sagT1_list = []\n",
    "        npy_AxiT2_list = []\n",
    "    \n",
    "        for filename in filenames:\n",
    "            path_split = filename.split('/')\n",
    "            # Saggital T2 ------------  Load the .npy file\n",
    "            try:\n",
    "                npy_sagT2_path = os.path.join(DATA_fromStage1, \"sagittalT2\", path_split[4], path_split[5])\n",
    "                npy_sagT2 = np.load(npy_sagT2_path).astype(np.float32)\n",
    "                current_length = npy_sagT2.shape[0]\n",
    "                if current_length > self.Slice_len_Sag:\n",
    "                    indices = np.linspace(0, current_length - 1, self.Slice_len_Sag, dtype=int)\n",
    "                    npy_sagT2 = npy_sagT2[indices, :, :]\n",
    "                elif current_length < self.Slice_len_Sag:\n",
    "                    indices = np.linspace(0, current_length - 1, self.Slice_len_Sag, dtype=int)\n",
    "                    npy_sagT2 = npy_sagT2[indices, :, :]\n",
    "            except FileNotFoundError:\n",
    "                # If the file does not exist, append an empty array\n",
    "                npy_sagT2 = np.zeros((self.Slice_len_Sag, 84, 160), dtype=np.float32)  # Adjust the shape as needed\n",
    "            npy_sagT2_list.append(npy_sagT2)\n",
    "            # Saggital T1 ------------  Load the .npy file\n",
    "            try:\n",
    "                npy_sagT1_path = os.path.join(DATA_fromStage1, \"sagittalT1\", path_split[4], path_split[5])\n",
    "                npy_sagT1 = np.load(npy_sagT1_path).astype(np.float32)\n",
    "                current_length = npy_sagT1.shape[0]\n",
    "                if current_length > self.Slice_len_Sag:\n",
    "                    indices = np.linspace(0, current_length - 1, self.Slice_len_Sag, dtype=int)\n",
    "                    npy_sagT1 = npy_sagT1[indices, :, :]\n",
    "                elif current_length < self.Slice_len_Sag:\n",
    "                    indices = np.linspace(0, current_length - 1, self.Slice_len_Sag, dtype=int)\n",
    "                    npy_sagT1 = npy_sagT1[indices, :, :]\n",
    "            except FileNotFoundError:\n",
    "                # If the file does not exist, append an empty array\n",
    "                npy_sagT1 = np.zeros((self.Slice_len_Sag, 84, 160), dtype=np.float32)  # Adjust the shape as needed\n",
    "            npy_sagT1_list.append(npy_sagT1)\n",
    "            # Axial T2 ------------ Load the .npy file\n",
    "            try:\n",
    "                npy_AxiT2_path = os.path.join(DATA_fromStage1 , \"axialT2\", path_split[4], path_split[5])\n",
    "                npy_AxiT2 = np.load(npy_AxiT2_path).astype(np.float32)\n",
    "                current_length = npy_AxiT2.shape[0]\n",
    "                if current_length > self.Slice_len_Axi:\n",
    "                    indices = np.linspace(0, current_length - 1, self.Slice_len_Axi, dtype=int)\n",
    "                    npy_AxiT2 = npy_AxiT2[indices, :, :]\n",
    "                elif current_length < self.Slice_len_Axi:\n",
    "                    indices = np.linspace(0, current_length - 1, self.Slice_len_Axi, dtype=int)\n",
    "                    npy_AxiT2 = npy_AxiT2[indices, :, :]\n",
    "            except FileNotFoundError:\n",
    "                # If the file does not exist, append an empty array\n",
    "                npy_AxiT2 = np.zeros((self.Slice_len_Sag, 224, 224), dtype=np.float32)  # Adjust the shape as needed\n",
    "            npy_AxiT2_list.append(npy_AxiT2)\n",
    "            \n",
    "        # Transpose and transform the data\n",
    "        npy_sagT1_list = [np.transpose(npy, (1, 2, 0)) for npy in npy_sagT1_list]\n",
    "        npy_sagT2_list = [np.transpose(npy, (1, 2, 0)) for npy in npy_sagT2_list]\n",
    "        npy_AxiT2_list = [np.transpose(npy, (1, 2, 0)) for npy in npy_AxiT2_list]\n",
    "\n",
    "        if self.transform is not None:\n",
    "            npy_sagT1_list = [self.transform(image=npy)['image'] for npy in npy_sagT1_list]\n",
    "            npy_sagT2_list = [self.transform(image=npy)['image'] for npy in npy_sagT2_list]\n",
    "            npy_AxiT2_list = [self.trainsform_axis(image=npy)['image'] for npy in npy_AxiT2_list]\n",
    "\n",
    "        # Transpose back to the original format\n",
    "        npy_sagT1_list = [np.transpose(npy, (2, 0, 1)) for npy in npy_sagT1_list]\n",
    "        npy_sagT2_list = [np.transpose(npy, (2, 0, 1)) for npy in npy_sagT2_list]\n",
    "        npy_AxiT2_list = [np.transpose(npy, (2, 0, 1)) for npy in npy_AxiT2_list]\n",
    "\n",
    "        return st_id, npy_sagT1_list, npy_sagT2_list, npy_AxiT2_list, levels\n"
   ]
  },
  {
   "cell_type": "code",
   "execution_count": 11,
   "id": "2027e7a3",
   "metadata": {
    "execution": {
     "iopub.execute_input": "2024-10-07T01:10:56.140269Z",
     "iopub.status.busy": "2024-10-07T01:10:56.139718Z",
     "iopub.status.idle": "2024-10-07T01:10:56.144943Z",
     "shell.execute_reply": "2024-10-07T01:10:56.144148Z"
    },
    "papermill": {
     "duration": 0.01748,
     "end_time": "2024-10-07T01:10:56.146751",
     "exception": false,
     "start_time": "2024-10-07T01:10:56.129271",
     "status": "completed"
    },
    "tags": []
   },
   "outputs": [],
   "source": [
    "transforms_test_Sag = A.Compose([\n",
    "    A.Resize(84, 160),\n",
    "    A.Normalize(mean=0.5, std=0.5)\n",
    "])\n",
    "\n",
    "transforms_test = A.Compose([\n",
    "    A.Resize(IMG_SIZE[0], IMG_SIZE[1]),\n",
    "    A.Normalize(mean=0.5, std=0.5)\n",
    "])\n"
   ]
  },
  {
   "cell_type": "code",
   "execution_count": 12,
   "id": "15b01133",
   "metadata": {
    "execution": {
     "iopub.execute_input": "2024-10-07T01:10:56.167413Z",
     "iopub.status.busy": "2024-10-07T01:10:56.166682Z",
     "iopub.status.idle": "2024-10-07T01:10:56.171659Z",
     "shell.execute_reply": "2024-10-07T01:10:56.170832Z"
    },
    "papermill": {
     "duration": 0.017287,
     "end_time": "2024-10-07T01:10:56.173551",
     "exception": false,
     "start_time": "2024-10-07T01:10:56.156264",
     "status": "completed"
    },
    "tags": []
   },
   "outputs": [],
   "source": [
    "test_ds = RSNA24TestDataset(dataset_metadata_T2, transform=transforms_test_Sag, trainsform_axis=transforms_test)\n",
    "test_dl = DataLoader(\n",
    "    test_ds, \n",
    "    batch_size=1, \n",
    "    shuffle=False,\n",
    "    num_workers=N_WORKERS,\n",
    "    pin_memory=True,\n",
    "    drop_last=False\n",
    ")\n"
   ]
  },
  {
   "cell_type": "code",
   "execution_count": 13,
   "id": "fa0e92ab",
   "metadata": {
    "execution": {
     "iopub.execute_input": "2024-10-07T01:10:56.194177Z",
     "iopub.status.busy": "2024-10-07T01:10:56.193663Z",
     "iopub.status.idle": "2024-10-07T01:10:56.200078Z",
     "shell.execute_reply": "2024-10-07T01:10:56.199251Z"
    },
    "papermill": {
     "duration": 0.018714,
     "end_time": "2024-10-07T01:10:56.202016",
     "exception": false,
     "start_time": "2024-10-07T01:10:56.183302",
     "status": "completed"
    },
    "tags": []
   },
   "outputs": [
    {
     "data": {
      "text/plain": [
       "'from collections import Counter\\n\\nsagT2_slicenum = []\\nAxiT2_slicenum = []\\n\\nprint(test_dl.__len__())\\n\\n# Iterate through the data loader and append slice numbers\\nfor idx, (st_id, npy_sagT1_list, npy_sagT2_list, npy_AxiT2_list, levels) in enumerate(test_dl):\\n    for npy_sagT2 in npy_sagT2_list:\\n        sagT2_slicenum.append(npy_sagT2.shape)\\n        assert not torch.isnan(npy_sagT2).any(), \"NaN values found in npy_sagT2\"\\n    \\n    for npy_AxiT2 in npy_AxiT2_list:\\n        AxiT2_slicenum.append(npy_AxiT2.shape)\\n        assert not torch.isnan(npy_AxiT2).any(), \"NaN values found in npy_AxiT2\"\\n    \\n    print(f\"Batch {idx + 1}: Levels - {levels}\")\\n\\n# Count the occurrences of each unique value in the lists\\nsagT2_counts = Counter(sagT2_slicenum)\\nAxiT2_counts = Counter(AxiT2_slicenum)\\n\\nprint(\"Occurrences of each unique value in sagT2_slicenum:\")\\nfor value, count in sagT2_counts.items():\\n    print(f\"Value: {value}, Count: {count}\")\\n\\nprint(\"Occurrences of each unique value in AxiT2_slicenum:\")\\nfor value, count in AxiT2_counts.items():\\n    print(f\"Value: {value}, Count: {count}\")'"
      ]
     },
     "execution_count": 13,
     "metadata": {},
     "output_type": "execute_result"
    }
   ],
   "source": [
    "'''from collections import Counter\n",
    "\n",
    "sagT2_slicenum = []\n",
    "AxiT2_slicenum = []\n",
    "\n",
    "print(test_dl.__len__())\n",
    "\n",
    "# Iterate through the data loader and append slice numbers\n",
    "for idx, (st_id, npy_sagT1_list, npy_sagT2_list, npy_AxiT2_list, levels) in enumerate(test_dl):\n",
    "    for npy_sagT2 in npy_sagT2_list:\n",
    "        sagT2_slicenum.append(npy_sagT2.shape)\n",
    "        assert not torch.isnan(npy_sagT2).any(), \"NaN values found in npy_sagT2\"\n",
    "    \n",
    "    for npy_AxiT2 in npy_AxiT2_list:\n",
    "        AxiT2_slicenum.append(npy_AxiT2.shape)\n",
    "        assert not torch.isnan(npy_AxiT2).any(), \"NaN values found in npy_AxiT2\"\n",
    "    \n",
    "    print(f\"Batch {idx + 1}: Levels - {levels}\")\n",
    "\n",
    "# Count the occurrences of each unique value in the lists\n",
    "sagT2_counts = Counter(sagT2_slicenum)\n",
    "AxiT2_counts = Counter(AxiT2_slicenum)\n",
    "\n",
    "print(\"Occurrences of each unique value in sagT2_slicenum:\")\n",
    "for value, count in sagT2_counts.items():\n",
    "    print(f\"Value: {value}, Count: {count}\")\n",
    "\n",
    "print(\"Occurrences of each unique value in AxiT2_slicenum:\")\n",
    "for value, count in AxiT2_counts.items():\n",
    "    print(f\"Value: {value}, Count: {count}\")'''\n"
   ]
  },
  {
   "cell_type": "markdown",
   "id": "5a6b448e",
   "metadata": {
    "papermill": {
     "duration": 0.009498,
     "end_time": "2024-10-07T01:10:56.221471",
     "exception": false,
     "start_time": "2024-10-07T01:10:56.211973",
     "status": "completed"
    },
    "tags": []
   },
   "source": [
    "# Define Model"
   ]
  },
  {
   "cell_type": "code",
   "execution_count": 14,
   "id": "c431ce6c",
   "metadata": {
    "execution": {
     "iopub.execute_input": "2024-10-07T01:10:56.246521Z",
     "iopub.status.busy": "2024-10-07T01:10:56.246250Z",
     "iopub.status.idle": "2024-10-07T01:10:56.264975Z",
     "shell.execute_reply": "2024-10-07T01:10:56.263971Z"
    },
    "papermill": {
     "duration": 0.033651,
     "end_time": "2024-10-07T01:10:56.267036",
     "exception": false,
     "start_time": "2024-10-07T01:10:56.233385",
     "status": "completed"
    },
    "tags": []
   },
   "outputs": [],
   "source": [
    "class LevelHead(nn.Module):\n",
    "    def __init__(self, input_dim, num_classes):\n",
    "        super(LevelHead, self).__init__()\n",
    "        self.fc1 = nn.Linear(input_dim, 512)\n",
    "        self.fc2 = nn.Linear(512, 128)\n",
    "        self.fc3 = nn.Linear(128, num_classes)\n",
    "        self.dropout = nn.Dropout(0.5)\n",
    "\n",
    "    def forward(self, x):\n",
    "        x = torch.relu(self.fc1(x))\n",
    "        x = self.dropout(x)\n",
    "        x = self.fc2(x)\n",
    "        x = self.dropout(x)\n",
    "        x = self.fc3(x)\n",
    "        return x\n",
    "\n",
    "class RSNA24Model_Hybrid(nn.Module):\n",
    "    def __init__(self, model_name_sag, model_name_axi, in_chans_sag, in_chans_axi, num_classes, level_names):\n",
    "        super(RSNA24Model_Hybrid, self).__init__()\n",
    "        self.model_sag = timm.create_model(model_name_sag, in_chans=in_chans_sag, global_pool='avg'\n",
    "                                           , pretrained=False, features_only=False)\n",
    "        self.model_axi = timm.create_model(model_name_axi, in_chans=in_chans_axi, global_pool='avg'\n",
    "                                           , pretrained=False, features_only=False)\n",
    "        \n",
    "        # Replace the last layer with an identity layer\n",
    "        if hasattr(self.model_sag, 'classifier'):\n",
    "            self.model_sag.classifier = nn.Identity()\n",
    "        elif hasattr(self.model_sag, 'fc'):\n",
    "            self.model_sag.fc = nn.Identity()\n",
    "        \n",
    "        if hasattr(self.model_axi, 'classifier'):\n",
    "            self.model_axi.classifier = nn.Identity()\n",
    "        elif hasattr(self.model_axi, 'fc'):\n",
    "            self.model_axi.fc = nn.Identity()\n",
    "        \n",
    "        # Get the output feature sizes\n",
    "        with torch.no_grad():\n",
    "            sample_input_sag = torch.randn(1, in_chans_sag, 84, 160)\n",
    "            sample_input_axi = torch.randn(1, in_chans_axi, 224, 224)\n",
    "            output_sag = self.model_sag(sample_input_sag)\n",
    "            output_axi = self.model_axi(sample_input_axi)\n",
    "        \n",
    "        # Define the final fully connected layers for each task\n",
    "        self.fc_heads = nn.ModuleDict({\n",
    "            level: LevelHead(output_sag.shape[1] + output_axi.shape[1], num_classes) for level in level_names\n",
    "        })\n",
    "        \n",
    "    def forward(self, x_sag, x_axi, level):\n",
    "        x_sag = self.model_sag(x_sag)\n",
    "        x_axi = self.model_axi(x_axi)\n",
    "        x = torch.cat((x_sag, x_axi), dim=1)\n",
    "        x = self.fc_heads[level[0]](x) # the input level is a array associated with batch size\n",
    "        return x\n"
   ]
  },
  {
   "cell_type": "markdown",
   "id": "8f449719",
   "metadata": {
    "papermill": {
     "duration": 0.014883,
     "end_time": "2024-10-07T01:10:56.294397",
     "exception": false,
     "start_time": "2024-10-07T01:10:56.279514",
     "status": "completed"
    },
    "tags": []
   },
   "source": [
    "# Load Models"
   ]
  },
  {
   "cell_type": "code",
   "execution_count": 15,
   "id": "e0b65140",
   "metadata": {
    "execution": {
     "iopub.execute_input": "2024-10-07T01:10:56.320588Z",
     "iopub.status.busy": "2024-10-07T01:10:56.320250Z",
     "iopub.status.idle": "2024-10-07T01:10:56.339092Z",
     "shell.execute_reply": "2024-10-07T01:10:56.338305Z"
    },
    "papermill": {
     "duration": 0.033842,
     "end_time": "2024-10-07T01:10:56.341442",
     "exception": false,
     "start_time": "2024-10-07T01:10:56.307600",
     "status": "completed"
    },
    "tags": []
   },
   "outputs": [],
   "source": [
    "CKPT_PATHS = glob.glob('/kaggle/input/tpu-rsna2024-training-baseline-2nd-stage/rsna24-results/best_wll_model_fold-*.pt')\n",
    "CKPT_PATHS = sorted(CKPT_PATHS)\n"
   ]
  },
  {
   "cell_type": "code",
   "execution_count": 16,
   "id": "fabebd07",
   "metadata": {
    "execution": {
     "iopub.execute_input": "2024-10-07T01:10:56.370104Z",
     "iopub.status.busy": "2024-10-07T01:10:56.369814Z",
     "iopub.status.idle": "2024-10-07T01:11:05.558372Z",
     "shell.execute_reply": "2024-10-07T01:11:05.557413Z"
    },
    "papermill": {
     "duration": 9.205006,
     "end_time": "2024-10-07T01:11:05.560451",
     "exception": false,
     "start_time": "2024-10-07T01:10:56.355445",
     "status": "completed"
    },
    "tags": []
   },
   "outputs": [
    {
     "name": "stdout",
     "output_type": "stream",
     "text": [
      "loading /kaggle/input/tpu-rsna2024-training-baseline-2nd-stage/rsna24-results/best_wll_model_fold-0.pt...\n",
      "loading /kaggle/input/tpu-rsna2024-training-baseline-2nd-stage/rsna24-results/best_wll_model_fold-1.pt...\n",
      "loading /kaggle/input/tpu-rsna2024-training-baseline-2nd-stage/rsna24-results/best_wll_model_fold-2.pt...\n",
      "loading /kaggle/input/tpu-rsna2024-training-baseline-2nd-stage/rsna24-results/best_wll_model_fold-3.pt...\n",
      "loading /kaggle/input/tpu-rsna2024-training-baseline-2nd-stage/rsna24-results/best_wll_model_fold-4.pt...\n"
     ]
    },
    {
     "data": {
      "text/plain": [
       "'print(models)'"
      ]
     },
     "execution_count": 16,
     "metadata": {},
     "output_type": "execute_result"
    }
   ],
   "source": [
    "# Ensure device is set correctly\n",
    "device = torch.device('cuda' if torch.cuda.is_available() else 'cpu')\n",
    "\n",
    "models = []\n",
    "for i, cp in enumerate(CKPT_PATHS):\n",
    "    print(f'loading {cp}...')\n",
    "    model = RSNA24Model_Hybrid(model_name_sag, model_name_axi,\n",
    "                               in_chans_sag, in_chans_axi, \n",
    "                               num_classes=N_CLASSES, level_names=level_mapping.keys())\n",
    "    model.load_state_dict(torch.load(cp, map_location=device))\n",
    "    model.eval()\n",
    "    model.to(device)\n",
    "    models.append(model)\n",
    "\n",
    "'''print(models)'''\n",
    "    "
   ]
  },
  {
   "cell_type": "markdown",
   "id": "c95ea654",
   "metadata": {
    "papermill": {
     "duration": 0.010034,
     "end_time": "2024-10-07T01:11:05.581057",
     "exception": false,
     "start_time": "2024-10-07T01:11:05.571023",
     "status": "completed"
    },
    "tags": []
   },
   "source": [
    "# Inference loop"
   ]
  },
  {
   "cell_type": "code",
   "execution_count": 17,
   "id": "85547aa4",
   "metadata": {
    "execution": {
     "iopub.execute_input": "2024-10-07T01:11:05.602722Z",
     "iopub.status.busy": "2024-10-07T01:11:05.602419Z",
     "iopub.status.idle": "2024-10-07T01:11:10.304411Z",
     "shell.execute_reply": "2024-10-07T01:11:10.303299Z"
    },
    "papermill": {
     "duration": 4.715695,
     "end_time": "2024-10-07T01:11:10.306719",
     "exception": false,
     "start_time": "2024-10-07T01:11:05.591024",
     "status": "completed"
    },
    "tags": []
   },
   "outputs": [
    {
     "name": "stderr",
     "output_type": "stream",
     "text": [
      "100%|██████████| 7/7 [00:04<00:00,  1.49it/s]"
     ]
    },
    {
     "name": "stdout",
     "output_type": "stream",
     "text": [
      "175\n",
      "175\n"
     ]
    },
    {
     "name": "stderr",
     "output_type": "stream",
     "text": [
      "\n"
     ]
    }
   ],
   "source": [
    "autocast = torch.cuda.amp.autocast(enabled=USE_AMP, dtype=torch.half)\n",
    "y_preds = []\n",
    "row_names = []\n",
    "\n",
    "seq_cond = [1, 3, 2, 4, 0]\n",
    "with tqdm(test_dl, leave=True) as pbar:\n",
    "    with torch.no_grad():\n",
    "        for idx, (st_id, npy_sagT1_list, npy_sagT2_list, npy_AxiT2_list, levels) in enumerate(pbar):\n",
    "            pred_per_study = np.zeros((25, 3))\n",
    "            index = 0  # Initialize the index counter\n",
    "            for npy_sagT1, npy_sagT2, npy_AxiT2, level in zip(npy_sagT1_list, npy_sagT2_list, npy_AxiT2_list, levels):        \n",
    "                pred_per_study_level = np.zeros((5, 3))  \n",
    "                npy_sagT1 = npy_sagT1.to(device)\n",
    "                npy_sagT2 = npy_sagT2.to(device)\n",
    "                npy_AxiT2 = npy_AxiT2.to(device)\n",
    "                with torch.cuda.amp.autocast(): \n",
    "                    for m in models:    \n",
    "                        y = m(torch.cat((npy_sagT1, npy_sagT2), axis=1), npy_AxiT2, level)[0]\n",
    "                        for col in range(N_LABELS):\n",
    "                            pred = y[col*3:col*3+3]\n",
    "                            y_pred = pred.float().softmax(0).cpu().numpy()\n",
    "                            pred_per_study_level[col] += y_pred / len(models)\n",
    "                    # pred_per_study_level (5, 3)\n",
    "                for i in range(5):\n",
    "                    pred_per_study[index + i*5, :] = pred_per_study_level[seq_cond[i], :]\n",
    "                index += 1  # Increment the index for the next iteration\n",
    "\n",
    "            # Add row names following the new sequence\n",
    "            for cond_idx in seq_cond:\n",
    "                cond = CONDITIONS[cond_idx]\n",
    "                for i in range(5):\n",
    "                    row_name = f\"{str(st_id.item())}_{cond}_{level_mapping[''.join(levels[i])]}\"\n",
    "                    row_names.append(row_name)\n",
    "            \n",
    "            y_preds.append(pred_per_study)\n",
    "        \n",
    "y_preds = np.concatenate(y_preds, axis=0)\n",
    "                    \n",
    "print(len(row_names))\n",
    "print(len(y_preds))\n",
    "\n",
    "CONDITIONS = [\n",
    "    'spinal_canal_stenosis', \n",
    "    'left_neural_foraminal_narrowing', \n",
    "    'right_neural_foraminal_narrowing',\n",
    "    'left_subarticular_stenosis',\n",
    "    'right_subarticular_stenosis'\n",
    "]\n"
   ]
  },
  {
   "cell_type": "code",
   "execution_count": 18,
   "id": "dd525ee6",
   "metadata": {
    "execution": {
     "iopub.execute_input": "2024-10-07T01:11:10.330672Z",
     "iopub.status.busy": "2024-10-07T01:11:10.330357Z",
     "iopub.status.idle": "2024-10-07T01:11:10.341414Z",
     "shell.execute_reply": "2024-10-07T01:11:10.340598Z"
    },
    "papermill": {
     "duration": 0.025448,
     "end_time": "2024-10-07T01:11:10.343402",
     "exception": false,
     "start_time": "2024-10-07T01:11:10.317954",
     "status": "completed"
    },
    "tags": []
   },
   "outputs": [],
   "source": [
    "sample_sub = pd.read_csv(f'{rd}/sample_submission.csv')\n",
    "LABELS = list(sample_sub.columns[1:])\n",
    "# print(sample_sub)"
   ]
  },
  {
   "cell_type": "markdown",
   "id": "c04a01c2",
   "metadata": {
    "papermill": {
     "duration": 0.010779,
     "end_time": "2024-10-07T01:11:10.365192",
     "exception": false,
     "start_time": "2024-10-07T01:11:10.354413",
     "status": "completed"
    },
    "tags": []
   },
   "source": [
    "# Make Submission"
   ]
  },
  {
   "cell_type": "code",
   "execution_count": 19,
   "id": "a8826506",
   "metadata": {
    "execution": {
     "iopub.execute_input": "2024-10-07T01:11:10.388346Z",
     "iopub.status.busy": "2024-10-07T01:11:10.387951Z",
     "iopub.status.idle": "2024-10-07T01:11:10.402087Z",
     "shell.execute_reply": "2024-10-07T01:11:10.401203Z"
    },
    "papermill": {
     "duration": 0.028187,
     "end_time": "2024-10-07T01:11:10.404468",
     "exception": false,
     "start_time": "2024-10-07T01:11:10.376281",
     "status": "completed"
    },
    "tags": []
   },
   "outputs": [
    {
     "name": "stdout",
     "output_type": "stream",
     "text": [
      "                                               row_id  normal_mild  moderate  \\\n",
      "0    1176954132_left_neural_foraminal_narrowing_l1_l2     0.994171  0.005557   \n",
      "1    1176954132_left_neural_foraminal_narrowing_l2_l3     0.982910  0.016485   \n",
      "2    1176954132_left_neural_foraminal_narrowing_l3_l4     0.837307  0.156532   \n",
      "3    1176954132_left_neural_foraminal_narrowing_l4_l5     0.304500  0.443060   \n",
      "4    1176954132_left_neural_foraminal_narrowing_l5_s1     0.296858  0.361121   \n",
      "..                                                ...          ...       ...   \n",
      "170            3429409220_spinal_canal_stenosis_l1_l2     0.942231  0.038076   \n",
      "171            3429409220_spinal_canal_stenosis_l2_l3     0.823346  0.107323   \n",
      "172            3429409220_spinal_canal_stenosis_l3_l4     0.674437  0.165216   \n",
      "173            3429409220_spinal_canal_stenosis_l4_l5     0.524874  0.161087   \n",
      "174            3429409220_spinal_canal_stenosis_l5_s1     0.909814  0.049664   \n",
      "\n",
      "       severe  \n",
      "0    0.000273  \n",
      "1    0.000605  \n",
      "2    0.006161  \n",
      "3    0.252439  \n",
      "4    0.342021  \n",
      "..        ...  \n",
      "170  0.019693  \n",
      "171  0.069331  \n",
      "172  0.160346  \n",
      "173  0.314040  \n",
      "174  0.040521  \n",
      "\n",
      "[175 rows x 4 columns]\n"
     ]
    }
   ],
   "source": [
    "sub = pd.DataFrame()\n",
    "sub['row_id'] = row_names\n",
    "sub[LABELS] = y_preds\n",
    "# print(sub.index)\n",
    "print(sub)\n"
   ]
  },
  {
   "cell_type": "code",
   "execution_count": 20,
   "id": "a3506b74",
   "metadata": {
    "execution": {
     "iopub.execute_input": "2024-10-07T01:11:10.428795Z",
     "iopub.status.busy": "2024-10-07T01:11:10.428530Z",
     "iopub.status.idle": "2024-10-07T01:11:10.593651Z",
     "shell.execute_reply": "2024-10-07T01:11:10.592716Z"
    },
    "papermill": {
     "duration": 0.179871,
     "end_time": "2024-10-07T01:11:10.596048",
     "exception": false,
     "start_time": "2024-10-07T01:11:10.416177",
     "status": "completed"
    },
    "tags": []
   },
   "outputs": [
    {
     "name": "stdout",
     "output_type": "stream",
     "text": [
      "Updated DataFrame:\n",
      "                                               row_id  normal_mild  moderate  \\\n",
      "0    1176954132_left_neural_foraminal_narrowing_l1_l2     0.994171  0.005557   \n",
      "1    1176954132_left_neural_foraminal_narrowing_l2_l3     0.982910  0.016485   \n",
      "2    1176954132_left_neural_foraminal_narrowing_l3_l4     0.837307  0.156532   \n",
      "3    1176954132_left_neural_foraminal_narrowing_l4_l5     0.304500  0.443060   \n",
      "4    1176954132_left_neural_foraminal_narrowing_l5_s1     0.296858  0.361121   \n",
      "..                                                ...          ...       ...   \n",
      "170            3429409220_spinal_canal_stenosis_l1_l2     0.942231  0.038076   \n",
      "171            3429409220_spinal_canal_stenosis_l2_l3     0.823346  0.107323   \n",
      "172            3429409220_spinal_canal_stenosis_l3_l4     0.674437  0.165216   \n",
      "173            3429409220_spinal_canal_stenosis_l4_l5     0.524874  0.161087   \n",
      "174            3429409220_spinal_canal_stenosis_l5_s1     0.909814  0.049664   \n",
      "\n",
      "       severe  \n",
      "0    0.000273  \n",
      "1    0.000605  \n",
      "2    0.006161  \n",
      "3    0.252439  \n",
      "4    0.342021  \n",
      "..        ...  \n",
      "170  0.019693  \n",
      "171  0.069331  \n",
      "172  0.160346  \n",
      "173  0.314040  \n",
      "174  0.040521  \n",
      "\n",
      "[175 rows x 4 columns]\n"
     ]
    }
   ],
   "source": [
    "for index, row in sample_sub.iterrows():\n",
    "    if row['row_id'] == sub.loc[index, 'row_id']:\n",
    "        sample_sub.loc[index] = sub.loc[index]\n",
    "\n",
    "# Print the updated DataFrame\n",
    "print(\"Updated DataFrame:\")\n",
    "print(sample_sub)"
   ]
  },
  {
   "cell_type": "code",
   "execution_count": 21,
   "id": "f97cd62c",
   "metadata": {
    "execution": {
     "iopub.execute_input": "2024-10-07T01:11:10.620856Z",
     "iopub.status.busy": "2024-10-07T01:11:10.620575Z",
     "iopub.status.idle": "2024-10-07T01:11:10.631807Z",
     "shell.execute_reply": "2024-10-07T01:11:10.630682Z"
    },
    "papermill": {
     "duration": 0.025773,
     "end_time": "2024-10-07T01:11:10.633777",
     "exception": false,
     "start_time": "2024-10-07T01:11:10.608004",
     "status": "completed"
    },
    "tags": []
   },
   "outputs": [
    {
     "name": "stdout",
     "output_type": "stream",
     "text": [
      "                                               row_id  normal_mild  moderate  \\\n",
      "0    1176954132_left_neural_foraminal_narrowing_l1_l2     0.994171  0.005557   \n",
      "1    1176954132_left_neural_foraminal_narrowing_l2_l3     0.982910  0.016485   \n",
      "2    1176954132_left_neural_foraminal_narrowing_l3_l4     0.837307  0.156532   \n",
      "3    1176954132_left_neural_foraminal_narrowing_l4_l5     0.304500  0.443060   \n",
      "4    1176954132_left_neural_foraminal_narrowing_l5_s1     0.296858  0.361121   \n",
      "..                                                ...          ...       ...   \n",
      "170            3429409220_spinal_canal_stenosis_l1_l2     0.942231  0.038076   \n",
      "171            3429409220_spinal_canal_stenosis_l2_l3     0.823346  0.107323   \n",
      "172            3429409220_spinal_canal_stenosis_l3_l4     0.674437  0.165216   \n",
      "173            3429409220_spinal_canal_stenosis_l4_l5     0.524874  0.161087   \n",
      "174            3429409220_spinal_canal_stenosis_l5_s1     0.909814  0.049664   \n",
      "\n",
      "       severe  \n",
      "0    0.000273  \n",
      "1    0.000605  \n",
      "2    0.006161  \n",
      "3    0.252439  \n",
      "4    0.342021  \n",
      "..        ...  \n",
      "170  0.019693  \n",
      "171  0.069331  \n",
      "172  0.160346  \n",
      "173  0.314040  \n",
      "174  0.040521  \n",
      "\n",
      "[175 rows x 4 columns]\n"
     ]
    }
   ],
   "source": [
    "sub.to_csv('submission.csv', index=False)\n",
    "print(sub)\n"
   ]
  }
 ],
 "metadata": {
  "kaggle": {
   "accelerator": "gpu",
   "dataSources": [
    {
     "databundleVersionId": 8561470,
     "sourceId": 71549,
     "sourceType": "competition"
    },
    {
     "datasetId": 5471909,
     "sourceId": 9529005,
     "sourceType": "datasetVersion"
    },
    {
     "sourceId": 198313435,
     "sourceType": "kernelVersion"
    },
    {
     "sourceId": 199192833,
     "sourceType": "kernelVersion"
    },
    {
     "sourceId": 199735585,
     "sourceType": "kernelVersion"
    }
   ],
   "dockerImageVersionId": 30733,
   "isGpuEnabled": true,
   "isInternetEnabled": false,
   "language": "python",
   "sourceType": "notebook"
  },
  "kernelspec": {
   "display_name": "Python 3",
   "language": "python",
   "name": "python3"
  },
  "language_info": {
   "codemirror_mode": {
    "name": "ipython",
    "version": 3
   },
   "file_extension": ".py",
   "mimetype": "text/x-python",
   "name": "python",
   "nbconvert_exporter": "python",
   "pygments_lexer": "ipython3",
   "version": "3.10.13"
  },
  "papermill": {
   "default_parameters": {},
   "duration": 61.08396,
   "end_time": "2024-10-07T01:11:12.067194",
   "environment_variables": {},
   "exception": null,
   "input_path": "__notebook__.ipynb",
   "output_path": "__notebook__.ipynb",
   "parameters": {},
   "start_time": "2024-10-07T01:10:10.983234",
   "version": "2.5.0"
  }
 },
 "nbformat": 4,
 "nbformat_minor": 5
}

{
 "cells": [
  {
   "cell_type": "markdown",
   "id": "5507bfaf",
   "metadata": {
    "_cell_guid": "b1076dfc-b9ad-4769-8c92-a6c4dae69d19",
    "_uuid": "8f2839f25d086af736a60e9eeb907d3b93b6e0e5",
    "papermill": {
     "duration": 0.008679,
     "end_time": "2024-10-07T01:22:32.609331",
     "exception": false,
     "start_time": "2024-10-07T01:22:32.600652",
     "status": "completed"
    },
    "tags": []
   },
   "source": [
    "Adopted from https://www.kaggle.com/code/yxyyxy/rsna2024-training-baseline-2nd-stage/edit\n",
    "\n",
    "# RSNA2024 LSDC Submission Baseline\n",
    "\n",
    "This notebook will Let the model infer and make a submission.\n",
    "\n",
    "### My other Notebooks\n",
    "- [RSNA2024 LSDC Making Dataset](https://www.kaggle.com/code/itsuki9180/rsna2024-lsdc-making-dataset) \n",
    "- [RSNA2024 LSDC Training Baseline](https://www.kaggle.com/code/itsuki9180/rsna2024-lsdc-training-baseline) \n",
    "- [RSNA2024 LSDC Submission Baseline](https://www.kaggle.com/code/itsuki9180/rsna2024-lsdc-submission-baseline) <- you're reading now"
   ]
  },
  {
   "cell_type": "markdown",
   "id": "e0e8ea90",
   "metadata": {
    "papermill": {
     "duration": 0.00759,
     "end_time": "2024-10-07T01:22:32.624942",
     "exception": false,
     "start_time": "2024-10-07T01:22:32.617352",
     "status": "completed"
    },
    "tags": []
   },
   "source": [
    "# Import Libralies"
   ]
  },
  {
   "cell_type": "code",
   "execution_count": 1,
   "id": "039b885d",
   "metadata": {
    "execution": {
     "iopub.execute_input": "2024-10-07T01:22:32.641894Z",
     "iopub.status.busy": "2024-10-07T01:22:32.641554Z",
     "iopub.status.idle": "2024-10-07T01:22:32.653370Z",
     "shell.execute_reply": "2024-10-07T01:22:32.652178Z"
    },
    "papermill": {
     "duration": 0.022834,
     "end_time": "2024-10-07T01:22:32.655516",
     "exception": false,
     "start_time": "2024-10-07T01:22:32.632682",
     "status": "completed"
    },
    "tags": []
   },
   "outputs": [],
   "source": [
    "DEBUG = True\n",
    "\n",
    "if DEBUG == True:\n",
    "    rd = '/kaggle/input/rsna-lsdc-2024-submission-debug-dataset/debug'\n",
    "else:\n",
    "    rd = '/kaggle/input/rsna-2024-lumbar-spine-degenerative-classification'\n",
    "    \n",
    "# Define the directory path\n",
    "DATA_fromStage1 = '/kaggle/working'\n"
   ]
  },
  {
   "cell_type": "code",
   "execution_count": 2,
   "id": "17775dfd",
   "metadata": {
    "execution": {
     "iopub.execute_input": "2024-10-07T01:22:32.673381Z",
     "iopub.status.busy": "2024-10-07T01:22:32.673049Z",
     "iopub.status.idle": "2024-10-07T01:23:09.657020Z",
     "shell.execute_reply": "2024-10-07T01:23:09.655884Z"
    },
    "papermill": {
     "duration": 36.995738,
     "end_time": "2024-10-07T01:23:09.659453",
     "exception": false,
     "start_time": "2024-10-07T01:22:32.663715",
     "status": "completed"
    },
    "tags": []
   },
   "outputs": [
    {
     "name": "stdout",
     "output_type": "stream",
     "text": [
      "Using path: /kaggle/input/2d-segmentation-of-sagittal-lumbar-spine-mri/simple_unet.pth\r\n",
      "/opt/conda/lib/python3.10/site-packages/torchvision/models/_utils.py:208: UserWarning: The parameter 'pretrained' is deprecated since 0.13 and may be removed in the future, please use 'weights' instead.\r\n",
      "  warnings.warn(\r\n",
      "/opt/conda/lib/python3.10/site-packages/torchvision/models/_utils.py:223: UserWarning: Arguments other than a weight enum or `None` for 'weights' are deprecated since 0.13 and may be removed in the future. The current behavior is equivalent to passing `weights=None`.\r\n",
      "  warnings.warn(msg)\r\n",
      "Using path: /kaggle/input/rsna-lsdc-2024-submission-debug-dataset/debug/test_series_descriptions.csv\r\n",
      "Using base path: /kaggle/input/rsna-lsdc-2024-submission-debug-dataset/debug/test_images\r\n",
      "Processing studies: 100%|█████████████████████████| 6/6 [00:18<00:00,  3.10s/it]\r\n",
      "Pipeline completed successfully!\r\n",
      "Processing studies:  86%|█████████████████████▍   | 6/7 [00:06<00:00,  1.07it/s]Study 3429409220 was skipped due to error: 3429409220\r\n",
      "Traceback (most recent call last):\r\n",
      "  File \"/kaggle/input/script-deepspine-custom-dataset/main.py\", line 662, in create_axial_dataset\r\n",
      "    sagittal_slice = sag_middle(sagittal_series_paths_T2[study_id][0])\r\n",
      "KeyError: 3429409220\r\n",
      "\r\n",
      "Processing studies: 100%|█████████████████████████| 7/7 [00:06<00:00,  1.11it/s]\r\n",
      "Metadata saved to /kaggle/working/axialT2/dataset_metadata.csv\r\n",
      "Axial dataset generation completed successfully!\r\n"
     ]
    }
   ],
   "source": [
    "!python /kaggle/input/script-deepspine-custom-dataset/main.py \\\n",
    "\"{rd}/test_series_descriptions.csv\" \\\n",
    "\"{rd}/sample_submission.csv\" \\\n",
    "\"{rd}/test_images\" \\\n",
    "'/kaggle/input/2d-segmentation-of-sagittal-lumbar-spine-mri/simple_unet.pth'\n"
   ]
  },
  {
   "cell_type": "code",
   "execution_count": 3,
   "id": "81a89fe7",
   "metadata": {
    "execution": {
     "iopub.execute_input": "2024-10-07T01:23:09.679841Z",
     "iopub.status.busy": "2024-10-07T01:23:09.679266Z",
     "iopub.status.idle": "2024-10-07T01:23:14.730447Z",
     "shell.execute_reply": "2024-10-07T01:23:14.729620Z"
    },
    "papermill": {
     "duration": 5.063851,
     "end_time": "2024-10-07T01:23:14.732752",
     "exception": false,
     "start_time": "2024-10-07T01:23:09.668901",
     "status": "completed"
    },
    "tags": []
   },
   "outputs": [],
   "source": [
    "import os\n",
    "import gc\n",
    "import sys\n",
    "from PIL import Image\n",
    "import cv2\n",
    "import math, random\n",
    "import numpy as np\n",
    "import pandas as pd\n",
    "import glob\n",
    "from tqdm import tqdm\n",
    "import matplotlib.pyplot as plt\n",
    "from sklearn.model_selection import StratifiedKFold\n",
    "from sklearn.metrics import log_loss\n",
    "\n",
    "from collections import OrderedDict\n",
    "\n",
    "import torch\n",
    "import torch.nn.functional as F\n",
    "from torch import nn\n",
    "from torch.utils.data import DataLoader, Dataset, Sampler\n",
    "from torch.optim import AdamW\n",
    "\n",
    "import timm\n",
    "from transformers import get_cosine_schedule_with_warmup\n",
    "\n",
    "import albumentations as A\n"
   ]
  },
  {
   "cell_type": "markdown",
   "id": "327708c9",
   "metadata": {
    "papermill": {
     "duration": 0.010091,
     "end_time": "2024-10-07T01:23:14.752380",
     "exception": false,
     "start_time": "2024-10-07T01:23:14.742289",
     "status": "completed"
    },
    "tags": []
   },
   "source": [
    "# Config"
   ]
  },
  {
   "cell_type": "code",
   "execution_count": 4,
   "id": "5b57b988",
   "metadata": {
    "execution": {
     "iopub.execute_input": "2024-10-07T01:23:14.772651Z",
     "iopub.status.busy": "2024-10-07T01:23:14.771834Z",
     "iopub.status.idle": "2024-10-07T01:23:14.838331Z",
     "shell.execute_reply": "2024-10-07T01:23:14.837264Z"
    },
    "papermill": {
     "duration": 0.07886,
     "end_time": "2024-10-07T01:23:14.840355",
     "exception": false,
     "start_time": "2024-10-07T01:23:14.761495",
     "status": "completed"
    },
    "tags": []
   },
   "outputs": [],
   "source": [
    "device = 'cuda:0' if torch.cuda.is_available() else 'cpu'\n",
    "N_WORKERS = os.cpu_count()\n",
    "USE_AMP = True\n",
    "SEED = 1\n",
    "\n",
    "IMG_SIZE = [224, 224]\n",
    "N_LABELS = 5\n",
    "N_CLASSES = 3 * N_LABELS\n",
    "\n",
    "model_name_sag = 'efficientnet_b0'\n",
    "model_name_axi = 'resnet34'\n",
    "# resnet34\n",
    "in_chans_sag = 30\n",
    "in_chans_axi = 4\n",
    "\n",
    "N_FOLDS = 5\n",
    "\n",
    "BATCH_SIZE = 1"
   ]
  },
  {
   "cell_type": "code",
   "execution_count": 5,
   "id": "e2365d92",
   "metadata": {
    "execution": {
     "iopub.execute_input": "2024-10-07T01:23:14.860503Z",
     "iopub.status.busy": "2024-10-07T01:23:14.859775Z",
     "iopub.status.idle": "2024-10-07T01:23:14.866695Z",
     "shell.execute_reply": "2024-10-07T01:23:14.865848Z"
    },
    "papermill": {
     "duration": 0.019021,
     "end_time": "2024-10-07T01:23:14.868758",
     "exception": false,
     "start_time": "2024-10-07T01:23:14.849737",
     "status": "completed"
    },
    "tags": []
   },
   "outputs": [
    {
     "data": {
      "text/plain": [
       "device(type='cuda', index=0)"
      ]
     },
     "execution_count": 5,
     "metadata": {},
     "output_type": "execute_result"
    }
   ],
   "source": [
    "device = torch.device('cuda:0') if torch.cuda.is_available() else torch.device('cpu')\n",
    "device"
   ]
  },
  {
   "cell_type": "code",
   "execution_count": 6,
   "id": "6d999179",
   "metadata": {
    "execution": {
     "iopub.execute_input": "2024-10-07T01:23:14.887964Z",
     "iopub.status.busy": "2024-10-07T01:23:14.887693Z",
     "iopub.status.idle": "2024-10-07T01:23:14.892443Z",
     "shell.execute_reply": "2024-10-07T01:23:14.891546Z"
    },
    "papermill": {
     "duration": 0.016639,
     "end_time": "2024-10-07T01:23:14.894462",
     "exception": false,
     "start_time": "2024-10-07T01:23:14.877823",
     "status": "completed"
    },
    "tags": []
   },
   "outputs": [],
   "source": [
    "CONDITIONS = [\n",
    "    'spinal_canal_stenosis', \n",
    "    'left_neural_foraminal_narrowing', \n",
    "    'right_neural_foraminal_narrowing',\n",
    "    'left_subarticular_stenosis',\n",
    "    'right_subarticular_stenosis'\n",
    "]\n",
    "\n",
    "# Define the mapping for each level\n",
    "level_mapping = {\n",
    "    'L1/L2': 'l1_l2',\n",
    "    'L2/L3': 'l2_l3',\n",
    "    'L3/L4': 'l3_l4',\n",
    "    'L4/L5': 'l4_l5',\n",
    "    'L5/S1': 'l5_s1'\n",
    "}\n"
   ]
  },
  {
   "cell_type": "code",
   "execution_count": 7,
   "id": "5a6dc772",
   "metadata": {
    "execution": {
     "iopub.execute_input": "2024-10-07T01:23:14.913751Z",
     "iopub.status.busy": "2024-10-07T01:23:14.913472Z",
     "iopub.status.idle": "2024-10-07T01:23:14.918077Z",
     "shell.execute_reply": "2024-10-07T01:23:14.917226Z"
    },
    "papermill": {
     "duration": 0.016403,
     "end_time": "2024-10-07T01:23:14.919933",
     "exception": false,
     "start_time": "2024-10-07T01:23:14.903530",
     "status": "completed"
    },
    "tags": []
   },
   "outputs": [],
   "source": [
    "def atoi(text):\n",
    "    return int(text) if text.isdigit() else text\n",
    "\n",
    "def natural_keys(text):\n",
    "    return [ atoi(c) for c in re.split(r'(\\d+)', text) ]"
   ]
  },
  {
   "cell_type": "code",
   "execution_count": 8,
   "id": "202e34bc",
   "metadata": {
    "execution": {
     "iopub.execute_input": "2024-10-07T01:23:14.939661Z",
     "iopub.status.busy": "2024-10-07T01:23:14.939324Z",
     "iopub.status.idle": "2024-10-07T01:23:14.961233Z",
     "shell.execute_reply": "2024-10-07T01:23:14.959957Z"
    },
    "papermill": {
     "duration": 0.03411,
     "end_time": "2024-10-07T01:23:14.963265",
     "exception": false,
     "start_time": "2024-10-07T01:23:14.929155",
     "status": "completed"
    },
    "tags": []
   },
   "outputs": [
    {
     "name": "stdout",
     "output_type": "stream",
     "text": [
      "Sagittal T2 Metadata:\n",
      "                                                      L4/L5  \\\n",
      "st_id                                                         \n",
      "1176954132  /kaggle/working/sagittalT2/1176954132/L4_L5.npy   \n",
      "1737682527  /kaggle/working/sagittalT2/1737682527/L4_L5.npy   \n",
      "1891482189  /kaggle/working/sagittalT2/1891482189/L4_L5.npy   \n",
      "1972129014  /kaggle/working/sagittalT2/1972129014/L4_L5.npy   \n",
      "2676098721  /kaggle/working/sagittalT2/2676098721/L4_L5.npy   \n",
      "3004806533  /kaggle/working/sagittalT2/3004806533/L4_L5.npy   \n",
      "3429409220     /kaggle/working/axialT2/3429409220/L4_L5.npy   \n",
      "\n",
      "                                                      L3/L4  \\\n",
      "st_id                                                         \n",
      "1176954132  /kaggle/working/sagittalT2/1176954132/L3_L4.npy   \n",
      "1737682527  /kaggle/working/sagittalT2/1737682527/L3_L4.npy   \n",
      "1891482189  /kaggle/working/sagittalT2/1891482189/L3_L4.npy   \n",
      "1972129014  /kaggle/working/sagittalT2/1972129014/L3_L4.npy   \n",
      "2676098721  /kaggle/working/sagittalT2/2676098721/L3_L4.npy   \n",
      "3004806533  /kaggle/working/sagittalT2/3004806533/L3_L4.npy   \n",
      "3429409220     /kaggle/working/axialT2/3429409220/L3_L4.npy   \n",
      "\n",
      "                                                      L2/L3  \\\n",
      "st_id                                                         \n",
      "1176954132  /kaggle/working/sagittalT2/1176954132/L2_L3.npy   \n",
      "1737682527  /kaggle/working/sagittalT2/1737682527/L2_L3.npy   \n",
      "1891482189  /kaggle/working/sagittalT2/1891482189/L2_L3.npy   \n",
      "1972129014  /kaggle/working/sagittalT2/1972129014/L2_L3.npy   \n",
      "2676098721  /kaggle/working/sagittalT2/2676098721/L2_L3.npy   \n",
      "3004806533  /kaggle/working/sagittalT2/3004806533/L2_L3.npy   \n",
      "3429409220     /kaggle/working/axialT2/3429409220/L2_L3.npy   \n",
      "\n",
      "                                                      L1/L2  \\\n",
      "st_id                                                         \n",
      "1176954132  /kaggle/working/sagittalT2/1176954132/L1_L2.npy   \n",
      "1737682527  /kaggle/working/sagittalT2/1737682527/L1_L2.npy   \n",
      "1891482189  /kaggle/working/sagittalT2/1891482189/L1_L2.npy   \n",
      "1972129014  /kaggle/working/sagittalT2/1972129014/L1_L2.npy   \n",
      "2676098721  /kaggle/working/sagittalT2/2676098721/L1_L2.npy   \n",
      "3004806533  /kaggle/working/sagittalT2/3004806533/L1_L2.npy   \n",
      "3429409220     /kaggle/working/axialT2/3429409220/L1_L2.npy   \n",
      "\n",
      "                                                      L5/S1  \n",
      "st_id                                                        \n",
      "1176954132  /kaggle/working/sagittalT2/1176954132/L5_S1.npy  \n",
      "1737682527  /kaggle/working/sagittalT2/1737682527/L5_S1.npy  \n",
      "1891482189  /kaggle/working/sagittalT2/1891482189/L5_S1.npy  \n",
      "1972129014  /kaggle/working/sagittalT2/1972129014/L5_S1.npy  \n",
      "2676098721  /kaggle/working/sagittalT2/2676098721/L5_S1.npy  \n",
      "3004806533  /kaggle/working/sagittalT2/3004806533/L5_S1.npy  \n",
      "3429409220     /kaggle/working/axialT2/3429409220/L5_S1.npy  \n"
     ]
    }
   ],
   "source": [
    "# Define the paths to the CSV files\n",
    "csv_file_path_T2 = DATA_fromStage1 + '/sagittalT2/dataset_metadata.csv'\n",
    "csv_file_path_T1 = DATA_fromStage1 + '/sagittalT1/dataset_metadata.csv'\n",
    "csv_file_path_axial = DATA_fromStage1 + '/axialT2/dataset_metadata.csv'\n",
    "\n",
    "# Read the CSV files\n",
    "dataset_metadata_T2 = pd.read_csv(csv_file_path_T2)\n",
    "dataset_metadata_T1 = pd.read_csv(csv_file_path_T1)\n",
    "dataset_metadata_axial = pd.read_csv(csv_file_path_axial)\n",
    "\n",
    "\n",
    "# Rename columns and set index\n",
    "dataset_metadata_T2.rename(columns={'Unnamed: 0': 'st_id'}, inplace=True)\n",
    "dataset_metadata_T2.set_index('st_id', inplace=True)\n",
    "\n",
    "dataset_metadata_T1.rename(columns={'Unnamed: 0': 'st_id'}, inplace=True)\n",
    "dataset_metadata_T1.set_index('st_id', inplace=True)\n",
    "\n",
    "dataset_metadata_axial.rename(columns={'Unnamed: 0': 'st_id'}, inplace=True)\n",
    "dataset_metadata_axial.set_index('st_id', inplace=True)\n",
    "\n",
    "missing_st_id_axial = dataset_metadata_axial.index.difference(dataset_metadata_T2.index)\n",
    "missing_metadata_axial = dataset_metadata_axial.loc[missing_st_id_axial]\n",
    "# Concatenate the missing metadata to dataset_metadata_T2\n",
    "dataset_metadata_T2 = pd.concat([dataset_metadata_T2, missing_metadata_axial])\n",
    "\n",
    "# Print the DataFrames\n",
    "print(\"Sagittal T2 Metadata:\")\n",
    "print(dataset_metadata_T2)\n",
    "\n",
    "# print(\"\\nSagittal T1 Metadata:\")\n",
    "# print(dataset_metadata_T1)\n",
    "\n",
    "# print(\"\\nAxial T2 Metadata:\")\n",
    "# print(dataset_metadata_axial)\n"
   ]
  },
  {
   "cell_type": "code",
   "execution_count": 9,
   "id": "e59d9d37",
   "metadata": {
    "execution": {
     "iopub.execute_input": "2024-10-07T01:23:14.982958Z",
     "iopub.status.busy": "2024-10-07T01:23:14.982702Z",
     "iopub.status.idle": "2024-10-07T01:23:14.990128Z",
     "shell.execute_reply": "2024-10-07T01:23:14.989251Z"
    },
    "papermill": {
     "duration": 0.019565,
     "end_time": "2024-10-07T01:23:14.992049",
     "exception": false,
     "start_time": "2024-10-07T01:23:14.972484",
     "status": "completed"
    },
    "tags": []
   },
   "outputs": [
    {
     "data": {
      "text/plain": [
       "'# one npy file example\\nprint(\"--------------------- SagittalT2 samples -----------\")\\nexample_npy_fn = dataset_metadata[\\'L4/L5\\'][0]\\nexample_npy_fn = example_npy_fn.split(\\'/\\')\\n# Load the .npy file\\nexample_npy = np.load(os.path.join(DATA_fromStage1, *(example_npy_fn[-3:])))\\n# Print the structure of the data\\nprint(f\"Shape of the data: {example_npy.shape}\")\\nprint(f\"Data type: {example_npy.dtype}\")\\n# Show the 15 slices one by one\\nfor i in range(15):\\n    plt.imshow(example_npy[i], cmap=\\'gray\\')\\n    plt.title(f\\'Slice {i+1}\\')\\n    plt.axis(\\'off\\')\\n    plt.show()\\n\\nprint(\"--------------------- SagittalT1 samples -----------\")\\nexample_npy = np.load(os.path.join(DATA_fromStage1, \\'sagittalT1\\', *(example_npy_fn[-2:])))\\n# Print the structure of the data\\nprint(f\"Shape of the data: {example_npy.shape}\")\\nprint(f\"Data type: {example_npy.dtype}\")\\n# Show the 15 slices one by one\\nfor i in range(15):\\n    plt.imshow(example_npy[i], cmap=\\'gray\\')\\n    plt.title(f\\'Slice {i+1}\\')\\n    plt.axis(\\'off\\')\\n    plt.show()\\n\\nprint(\"--------------------- AxialT2 samples ----------\")\\n# Load the .npy file\\nexample_npy = np.load(os.path.join(DATA_fromStage1, \\'axialT2\\', *(example_npy_fn[-2:])))\\nprint(f\"Shape of the data: {example_npy.shape}\")\\nprint(f\"Data type: {example_npy.dtype}\")\\nfor i in range(6):\\n    img = example_npy[i]\\n    plt.imshow(img, cmap=\\'gray\\')\\n    plt.title(f\\'Slice {i+1}\\')\\n    plt.axis(\\'off\\')\\n    plt.show()\\n'"
      ]
     },
     "execution_count": 9,
     "metadata": {},
     "output_type": "execute_result"
    }
   ],
   "source": [
    "'''# one npy file example\n",
    "print(\"--------------------- SagittalT2 samples -----------\")\n",
    "example_npy_fn = dataset_metadata['L4/L5'][0]\n",
    "example_npy_fn = example_npy_fn.split('/')\n",
    "# Load the .npy file\n",
    "example_npy = np.load(os.path.join(DATA_fromStage1, *(example_npy_fn[-3:])))\n",
    "# Print the structure of the data\n",
    "print(f\"Shape of the data: {example_npy.shape}\")\n",
    "print(f\"Data type: {example_npy.dtype}\")\n",
    "# Show the 15 slices one by one\n",
    "for i in range(15):\n",
    "    plt.imshow(example_npy[i], cmap='gray')\n",
    "    plt.title(f'Slice {i+1}')\n",
    "    plt.axis('off')\n",
    "    plt.show()\n",
    "\n",
    "print(\"--------------------- SagittalT1 samples -----------\")\n",
    "example_npy = np.load(os.path.join(DATA_fromStage1, 'sagittalT1', *(example_npy_fn[-2:])))\n",
    "# Print the structure of the data\n",
    "print(f\"Shape of the data: {example_npy.shape}\")\n",
    "print(f\"Data type: {example_npy.dtype}\")\n",
    "# Show the 15 slices one by one\n",
    "for i in range(15):\n",
    "    plt.imshow(example_npy[i], cmap='gray')\n",
    "    plt.title(f'Slice {i+1}')\n",
    "    plt.axis('off')\n",
    "    plt.show()\n",
    "\n",
    "print(\"--------------------- AxialT2 samples ----------\")\n",
    "# Load the .npy file\n",
    "example_npy = np.load(os.path.join(DATA_fromStage1, 'axialT2', *(example_npy_fn[-2:])))\n",
    "print(f\"Shape of the data: {example_npy.shape}\")\n",
    "print(f\"Data type: {example_npy.dtype}\")\n",
    "for i in range(6):\n",
    "    img = example_npy[i]\n",
    "    plt.imshow(img, cmap='gray')\n",
    "    plt.title(f'Slice {i+1}')\n",
    "    plt.axis('off')\n",
    "    plt.show()\n",
    "'''\n"
   ]
  },
  {
   "cell_type": "markdown",
   "id": "bb88961b",
   "metadata": {
    "papermill": {
     "duration": 0.00914,
     "end_time": "2024-10-07T01:23:15.010685",
     "exception": false,
     "start_time": "2024-10-07T01:23:15.001545",
     "status": "completed"
    },
    "tags": []
   },
   "source": [
    "# Define Dataset"
   ]
  },
  {
   "cell_type": "code",
   "execution_count": 10,
   "id": "49dcb5c4",
   "metadata": {
    "execution": {
     "iopub.execute_input": "2024-10-07T01:23:15.031023Z",
     "iopub.status.busy": "2024-10-07T01:23:15.030761Z",
     "iopub.status.idle": "2024-10-07T01:23:15.052316Z",
     "shell.execute_reply": "2024-10-07T01:23:15.051401Z"
    },
    "papermill": {
     "duration": 0.033985,
     "end_time": "2024-10-07T01:23:15.054261",
     "exception": false,
     "start_time": "2024-10-07T01:23:15.020276",
     "status": "completed"
    },
    "tags": []
   },
   "outputs": [],
   "source": [
    "class RSNA24TestDataset(Dataset):\n",
    "    def __init__(self, df_fn, Slice_len_Sag=15, Slice_len_Axi=4, transform=None, trainsform_axis=None):\n",
    "        self.df_fn = df_fn\n",
    "        self.transform = transform\n",
    "        self.trainsform_axis = trainsform_axis\n",
    "        self.Slice_len_Sag = Slice_len_Sag\n",
    "        self.Slice_len_Axi = Slice_len_Axi\n",
    "        # Select all rows where the 'Name' column has the value 'Alice'\n",
    "    def __len__(self):\n",
    "        return len(self.df_fn)\n",
    "\n",
    "    def __getitem__(self, idx):\n",
    "        st_id = self.df_fn.index[idx]\n",
    "        row_idx = self.df_fn.iloc[idx]\n",
    "        levels = ['L1/L2', 'L2/L3', 'L3/L4', 'L4/L5', 'L5/S1']\n",
    "        filenames = [row_idx[level] for level in levels]\n",
    "        \n",
    "        npy_sagT2_list = []\n",
    "        npy_sagT1_list = []\n",
    "        npy_AxiT2_list = []\n",
    "    \n",
    "        for filename in filenames:\n",
    "            path_split = filename.split('/')\n",
    "            # Saggital T2 ------------  Load the .npy file\n",
    "            try:\n",
    "                npy_sagT2_path = os.path.join(DATA_fromStage1, \"sagittalT2\", path_split[4], path_split[5])\n",
    "                npy_sagT2 = np.load(npy_sagT2_path).astype(np.float32)\n",
    "                current_length = npy_sagT2.shape[0]\n",
    "                if current_length > self.Slice_len_Sag:\n",
    "                    indices = np.linspace(0, current_length - 1, self.Slice_len_Sag, dtype=int)\n",
    "                    npy_sagT2 = npy_sagT2[indices, :, :]\n",
    "                elif current_length < self.Slice_len_Sag:\n",
    "                    indices = np.linspace(0, current_length - 1, self.Slice_len_Sag, dtype=int)\n",
    "                    npy_sagT2 = npy_sagT2[indices, :, :]\n",
    "            except FileNotFoundError:\n",
    "                # If the file does not exist, append an empty array\n",
    "                npy_sagT2 = np.zeros((self.Slice_len_Sag, 84, 160), dtype=np.float32)  # Adjust the shape as needed\n",
    "            npy_sagT2_list.append(npy_sagT2)\n",
    "            # Saggital T1 ------------  Load the .npy file\n",
    "            try:\n",
    "                npy_sagT1_path = os.path.join(DATA_fromStage1, \"sagittalT1\", path_split[4], path_split[5])\n",
    "                npy_sagT1 = np.load(npy_sagT1_path).astype(np.float32)\n",
    "                current_length = npy_sagT1.shape[0]\n",
    "                if current_length > self.Slice_len_Sag:\n",
    "                    indices = np.linspace(0, current_length - 1, self.Slice_len_Sag, dtype=int)\n",
    "                    npy_sagT1 = npy_sagT1[indices, :, :]\n",
    "                elif current_length < self.Slice_len_Sag:\n",
    "                    indices = np.linspace(0, current_length - 1, self.Slice_len_Sag, dtype=int)\n",
    "                    npy_sagT1 = npy_sagT1[indices, :, :]\n",
    "            except FileNotFoundError:\n",
    "                # If the file does not exist, append an empty array\n",
    "                npy_sagT1 = np.zeros((self.Slice_len_Sag, 84, 160), dtype=np.float32)  # Adjust the shape as needed\n",
    "            npy_sagT1_list.append(npy_sagT1)\n",
    "            # Axial T2 ------------ Load the .npy file\n",
    "            try:\n",
    "                npy_AxiT2_path = os.path.join(DATA_fromStage1 , \"axialT2\", path_split[4], path_split[5])\n",
    "                npy_AxiT2 = np.load(npy_AxiT2_path).astype(np.float32)\n",
    "                current_length = npy_AxiT2.shape[0]\n",
    "                if current_length > self.Slice_len_Axi:\n",
    "                    indices = np.linspace(0, current_length - 1, self.Slice_len_Axi, dtype=int)\n",
    "                    npy_AxiT2 = npy_AxiT2[indices, :, :]\n",
    "                elif current_length < self.Slice_len_Axi:\n",
    "                    indices = np.linspace(0, current_length - 1, self.Slice_len_Axi, dtype=int)\n",
    "                    npy_AxiT2 = npy_AxiT2[indices, :, :]\n",
    "            except FileNotFoundError:\n",
    "                # If the file does not exist, append an empty array\n",
    "                npy_AxiT2 = np.zeros((self.Slice_len_Sag, 224, 224), dtype=np.float32)  # Adjust the shape as needed\n",
    "            npy_AxiT2_list.append(npy_AxiT2)\n",
    "            \n",
    "        # Transpose and transform the data\n",
    "        npy_sagT1_list = [np.transpose(npy, (1, 2, 0)) for npy in npy_sagT1_list]\n",
    "        npy_sagT2_list = [np.transpose(npy, (1, 2, 0)) for npy in npy_sagT2_list]\n",
    "        npy_AxiT2_list = [np.transpose(npy, (1, 2, 0)) for npy in npy_AxiT2_list]\n",
    "\n",
    "        if self.transform is not None:\n",
    "            npy_sagT1_list = [self.transform(image=npy)['image'] for npy in npy_sagT1_list]\n",
    "            npy_sagT2_list = [self.transform(image=npy)['image'] for npy in npy_sagT2_list]\n",
    "            npy_AxiT2_list = [self.trainsform_axis(image=npy)['image'] for npy in npy_AxiT2_list]\n",
    "\n",
    "        # Transpose back to the original format\n",
    "        npy_sagT1_list = [np.transpose(npy, (2, 0, 1)) for npy in npy_sagT1_list]\n",
    "        npy_sagT2_list = [np.transpose(npy, (2, 0, 1)) for npy in npy_sagT2_list]\n",
    "        npy_AxiT2_list = [np.transpose(npy, (2, 0, 1)) for npy in npy_AxiT2_list]\n",
    "\n",
    "        return st_id, npy_sagT1_list, npy_sagT2_list, npy_AxiT2_list, levels\n"
   ]
  },
  {
   "cell_type": "code",
   "execution_count": 11,
   "id": "8ea73ade",
   "metadata": {
    "execution": {
     "iopub.execute_input": "2024-10-07T01:23:15.074530Z",
     "iopub.status.busy": "2024-10-07T01:23:15.074204Z",
     "iopub.status.idle": "2024-10-07T01:23:15.079629Z",
     "shell.execute_reply": "2024-10-07T01:23:15.078723Z"
    },
    "papermill": {
     "duration": 0.017908,
     "end_time": "2024-10-07T01:23:15.081751",
     "exception": false,
     "start_time": "2024-10-07T01:23:15.063843",
     "status": "completed"
    },
    "tags": []
   },
   "outputs": [],
   "source": [
    "transforms_test_Sag = A.Compose([\n",
    "    A.Resize(84, 160),\n",
    "    A.Normalize(mean=0.5, std=0.5)\n",
    "])\n",
    "\n",
    "transforms_test = A.Compose([\n",
    "    A.Resize(IMG_SIZE[0], IMG_SIZE[1]),\n",
    "    A.Normalize(mean=0.5, std=0.5)\n",
    "])\n"
   ]
  },
  {
   "cell_type": "code",
   "execution_count": 12,
   "id": "59fa9595",
   "metadata": {
    "execution": {
     "iopub.execute_input": "2024-10-07T01:23:15.101714Z",
     "iopub.status.busy": "2024-10-07T01:23:15.101402Z",
     "iopub.status.idle": "2024-10-07T01:23:15.105935Z",
     "shell.execute_reply": "2024-10-07T01:23:15.105116Z"
    },
    "papermill": {
     "duration": 0.016686,
     "end_time": "2024-10-07T01:23:15.107874",
     "exception": false,
     "start_time": "2024-10-07T01:23:15.091188",
     "status": "completed"
    },
    "tags": []
   },
   "outputs": [],
   "source": [
    "test_ds = RSNA24TestDataset(dataset_metadata_T2, transform=transforms_test_Sag, trainsform_axis=transforms_test)\n",
    "test_dl = DataLoader(\n",
    "    test_ds, \n",
    "    batch_size=1, \n",
    "    shuffle=False,\n",
    "    num_workers=N_WORKERS,\n",
    "    pin_memory=True,\n",
    "    drop_last=False\n",
    ")\n"
   ]
  },
  {
   "cell_type": "code",
   "execution_count": 13,
   "id": "541ebc60",
   "metadata": {
    "execution": {
     "iopub.execute_input": "2024-10-07T01:23:15.127738Z",
     "iopub.status.busy": "2024-10-07T01:23:15.127450Z",
     "iopub.status.idle": "2024-10-07T01:23:15.133791Z",
     "shell.execute_reply": "2024-10-07T01:23:15.132954Z"
    },
    "papermill": {
     "duration": 0.018321,
     "end_time": "2024-10-07T01:23:15.135635",
     "exception": false,
     "start_time": "2024-10-07T01:23:15.117314",
     "status": "completed"
    },
    "tags": []
   },
   "outputs": [
    {
     "data": {
      "text/plain": [
       "'from collections import Counter\\n\\nsagT2_slicenum = []\\nAxiT2_slicenum = []\\n\\nprint(test_dl.__len__())\\n\\n# Iterate through the data loader and append slice numbers\\nfor idx, (st_id, npy_sagT1_list, npy_sagT2_list, npy_AxiT2_list, levels) in enumerate(test_dl):\\n    for npy_sagT2 in npy_sagT2_list:\\n        sagT2_slicenum.append(npy_sagT2.shape)\\n        assert not torch.isnan(npy_sagT2).any(), \"NaN values found in npy_sagT2\"\\n    \\n    for npy_AxiT2 in npy_AxiT2_list:\\n        AxiT2_slicenum.append(npy_AxiT2.shape)\\n        assert not torch.isnan(npy_AxiT2).any(), \"NaN values found in npy_AxiT2\"\\n    \\n    print(f\"Batch {idx + 1}: Levels - {levels}\")\\n\\n# Count the occurrences of each unique value in the lists\\nsagT2_counts = Counter(sagT2_slicenum)\\nAxiT2_counts = Counter(AxiT2_slicenum)\\n\\nprint(\"Occurrences of each unique value in sagT2_slicenum:\")\\nfor value, count in sagT2_counts.items():\\n    print(f\"Value: {value}, Count: {count}\")\\n\\nprint(\"Occurrences of each unique value in AxiT2_slicenum:\")\\nfor value, count in AxiT2_counts.items():\\n    print(f\"Value: {value}, Count: {count}\")'"
      ]
     },
     "execution_count": 13,
     "metadata": {},
     "output_type": "execute_result"
    }
   ],
   "source": [
    "'''from collections import Counter\n",
    "\n",
    "sagT2_slicenum = []\n",
    "AxiT2_slicenum = []\n",
    "\n",
    "print(test_dl.__len__())\n",
    "\n",
    "# Iterate through the data loader and append slice numbers\n",
    "for idx, (st_id, npy_sagT1_list, npy_sagT2_list, npy_AxiT2_list, levels) in enumerate(test_dl):\n",
    "    for npy_sagT2 in npy_sagT2_list:\n",
    "        sagT2_slicenum.append(npy_sagT2.shape)\n",
    "        assert not torch.isnan(npy_sagT2).any(), \"NaN values found in npy_sagT2\"\n",
    "    \n",
    "    for npy_AxiT2 in npy_AxiT2_list:\n",
    "        AxiT2_slicenum.append(npy_AxiT2.shape)\n",
    "        assert not torch.isnan(npy_AxiT2).any(), \"NaN values found in npy_AxiT2\"\n",
    "    \n",
    "    print(f\"Batch {idx + 1}: Levels - {levels}\")\n",
    "\n",
    "# Count the occurrences of each unique value in the lists\n",
    "sagT2_counts = Counter(sagT2_slicenum)\n",
    "AxiT2_counts = Counter(AxiT2_slicenum)\n",
    "\n",
    "print(\"Occurrences of each unique value in sagT2_slicenum:\")\n",
    "for value, count in sagT2_counts.items():\n",
    "    print(f\"Value: {value}, Count: {count}\")\n",
    "\n",
    "print(\"Occurrences of each unique value in AxiT2_slicenum:\")\n",
    "for value, count in AxiT2_counts.items():\n",
    "    print(f\"Value: {value}, Count: {count}\")'''\n"
   ]
  },
  {
   "cell_type": "markdown",
   "id": "52a5dfc0",
   "metadata": {
    "papermill": {
     "duration": 0.009618,
     "end_time": "2024-10-07T01:23:15.154591",
     "exception": false,
     "start_time": "2024-10-07T01:23:15.144973",
     "status": "completed"
    },
    "tags": []
   },
   "source": [
    "# Define Model"
   ]
  },
  {
   "cell_type": "code",
   "execution_count": 14,
   "id": "00175676",
   "metadata": {
    "execution": {
     "iopub.execute_input": "2024-10-07T01:23:15.175063Z",
     "iopub.status.busy": "2024-10-07T01:23:15.174533Z",
     "iopub.status.idle": "2024-10-07T01:23:15.188471Z",
     "shell.execute_reply": "2024-10-07T01:23:15.187603Z"
    },
    "papermill": {
     "duration": 0.026103,
     "end_time": "2024-10-07T01:23:15.190248",
     "exception": false,
     "start_time": "2024-10-07T01:23:15.164145",
     "status": "completed"
    },
    "tags": []
   },
   "outputs": [],
   "source": [
    "class LevelHead(nn.Module):\n",
    "    def __init__(self, input_dim, num_classes):\n",
    "        super(LevelHead, self).__init__()\n",
    "        self.fc1 = nn.Linear(input_dim, 512)\n",
    "        self.fc2 = nn.Linear(512, 128)\n",
    "        self.fc3 = nn.Linear(128, num_classes)\n",
    "        self.dropout = nn.Dropout(0.5)\n",
    "\n",
    "    def forward(self, x):\n",
    "        x = torch.relu(self.fc1(x))\n",
    "        x = self.dropout(x)\n",
    "        x = self.fc2(x)\n",
    "        x = self.dropout(x)\n",
    "        x = self.fc3(x)\n",
    "        return x\n",
    "\n",
    "class RSNA24Model_Hybrid(nn.Module):\n",
    "    def __init__(self, model_name_sag, model_name_axi, in_chans_sag, in_chans_axi, num_classes, level_names):\n",
    "        super(RSNA24Model_Hybrid, self).__init__()\n",
    "        self.model_sag = timm.create_model(model_name_sag, in_chans=in_chans_sag, global_pool='avg'\n",
    "                                           , pretrained=False, features_only=False)\n",
    "        self.model_axi = timm.create_model(model_name_axi, in_chans=in_chans_axi, global_pool='avg'\n",
    "                                           , pretrained=False, features_only=False)\n",
    "        \n",
    "        # Replace the last layer with an identity layer\n",
    "        if hasattr(self.model_sag, 'classifier'):\n",
    "            self.model_sag.classifier = nn.Identity()\n",
    "        elif hasattr(self.model_sag, 'fc'):\n",
    "            self.model_sag.fc = nn.Identity()\n",
    "        \n",
    "        if hasattr(self.model_axi, 'classifier'):\n",
    "            self.model_axi.classifier = nn.Identity()\n",
    "        elif hasattr(self.model_axi, 'fc'):\n",
    "            self.model_axi.fc = nn.Identity()\n",
    "        \n",
    "        # Get the output feature sizes\n",
    "        with torch.no_grad():\n",
    "            sample_input_sag = torch.randn(1, in_chans_sag, 84, 160)\n",
    "            sample_input_axi = torch.randn(1, in_chans_axi, 224, 224)\n",
    "            output_sag = self.model_sag(sample_input_sag)\n",
    "            output_axi = self.model_axi(sample_input_axi)\n",
    "        \n",
    "        # Define the final fully connected layers for each task\n",
    "        self.fc_heads = nn.ModuleDict({\n",
    "            level: LevelHead(output_sag.shape[1] + output_axi.shape[1], num_classes) for level in level_names\n",
    "        })\n",
    "        \n",
    "    def forward(self, x_sag, x_axi, level):\n",
    "        x_sag = self.model_sag(x_sag)\n",
    "        x_axi = self.model_axi(x_axi)\n",
    "        x = torch.cat((x_sag, x_axi), dim=1)\n",
    "        x = self.fc_heads[level[0]](x) # the input level is a array associated with batch size\n",
    "        return x\n"
   ]
  },
  {
   "cell_type": "markdown",
   "id": "260d96ba",
   "metadata": {
    "papermill": {
     "duration": 0.009385,
     "end_time": "2024-10-07T01:23:15.209290",
     "exception": false,
     "start_time": "2024-10-07T01:23:15.199905",
     "status": "completed"
    },
    "tags": []
   },
   "source": [
    "# Load Models"
   ]
  },
  {
   "cell_type": "code",
   "execution_count": 15,
   "id": "2b2bee03",
   "metadata": {
    "execution": {
     "iopub.execute_input": "2024-10-07T01:23:15.229749Z",
     "iopub.status.busy": "2024-10-07T01:23:15.229368Z",
     "iopub.status.idle": "2024-10-07T01:23:15.238665Z",
     "shell.execute_reply": "2024-10-07T01:23:15.237775Z"
    },
    "papermill": {
     "duration": 0.021664,
     "end_time": "2024-10-07T01:23:15.240507",
     "exception": false,
     "start_time": "2024-10-07T01:23:15.218843",
     "status": "completed"
    },
    "tags": []
   },
   "outputs": [],
   "source": [
    "CKPT_PATHS = glob.glob('/kaggle/input/tpu-rsna2024-training-baseline-2nd-stage/rsna24-results/best_wll_model_fold-*.pt')\n",
    "CKPT_PATHS = sorted(CKPT_PATHS)\n"
   ]
  },
  {
   "cell_type": "code",
   "execution_count": 16,
   "id": "6fc2483c",
   "metadata": {
    "execution": {
     "iopub.execute_input": "2024-10-07T01:23:15.260794Z",
     "iopub.status.busy": "2024-10-07T01:23:15.260211Z",
     "iopub.status.idle": "2024-10-07T01:23:24.353364Z",
     "shell.execute_reply": "2024-10-07T01:23:24.352331Z"
    },
    "papermill": {
     "duration": 9.105949,
     "end_time": "2024-10-07T01:23:24.355901",
     "exception": false,
     "start_time": "2024-10-07T01:23:15.249952",
     "status": "completed"
    },
    "tags": []
   },
   "outputs": [
    {
     "name": "stdout",
     "output_type": "stream",
     "text": [
      "loading /kaggle/input/tpu-rsna2024-training-baseline-2nd-stage/rsna24-results/best_wll_model_fold-0.pt...\n",
      "loading /kaggle/input/tpu-rsna2024-training-baseline-2nd-stage/rsna24-results/best_wll_model_fold-1.pt...\n",
      "loading /kaggle/input/tpu-rsna2024-training-baseline-2nd-stage/rsna24-results/best_wll_model_fold-2.pt...\n",
      "loading /kaggle/input/tpu-rsna2024-training-baseline-2nd-stage/rsna24-results/best_wll_model_fold-3.pt...\n",
      "loading /kaggle/input/tpu-rsna2024-training-baseline-2nd-stage/rsna24-results/best_wll_model_fold-4.pt...\n"
     ]
    },
    {
     "data": {
      "text/plain": [
       "'print(models)'"
      ]
     },
     "execution_count": 16,
     "metadata": {},
     "output_type": "execute_result"
    }
   ],
   "source": [
    "# Ensure device is set correctly\n",
    "device = torch.device('cuda' if torch.cuda.is_available() else 'cpu')\n",
    "\n",
    "models = []\n",
    "for i, cp in enumerate(CKPT_PATHS):\n",
    "    print(f'loading {cp}...')\n",
    "    model = RSNA24Model_Hybrid(model_name_sag, model_name_axi,\n",
    "                               in_chans_sag, in_chans_axi, \n",
    "                               num_classes=N_CLASSES, level_names=level_mapping.keys())\n",
    "    model.load_state_dict(torch.load(cp, map_location=device))\n",
    "    model.eval()\n",
    "    model.to(device)\n",
    "    models.append(model)\n",
    "\n",
    "'''print(models)'''\n",
    "    "
   ]
  },
  {
   "cell_type": "markdown",
   "id": "a248e2bc",
   "metadata": {
    "papermill": {
     "duration": 0.009873,
     "end_time": "2024-10-07T01:23:24.379274",
     "exception": false,
     "start_time": "2024-10-07T01:23:24.369401",
     "status": "completed"
    },
    "tags": []
   },
   "source": [
    "# Inference loop"
   ]
  },
  {
   "cell_type": "code",
   "execution_count": 17,
   "id": "e54aef95",
   "metadata": {
    "execution": {
     "iopub.execute_input": "2024-10-07T01:23:24.401024Z",
     "iopub.status.busy": "2024-10-07T01:23:24.400644Z",
     "iopub.status.idle": "2024-10-07T01:23:28.996531Z",
     "shell.execute_reply": "2024-10-07T01:23:28.995288Z"
    },
    "papermill": {
     "duration": 4.61056,
     "end_time": "2024-10-07T01:23:28.999858",
     "exception": false,
     "start_time": "2024-10-07T01:23:24.389298",
     "status": "completed"
    },
    "tags": []
   },
   "outputs": [
    {
     "name": "stderr",
     "output_type": "stream",
     "text": [
      "100%|██████████| 7/7 [00:04<00:00,  1.53it/s]"
     ]
    },
    {
     "name": "stdout",
     "output_type": "stream",
     "text": [
      "175\n",
      "175\n"
     ]
    },
    {
     "name": "stderr",
     "output_type": "stream",
     "text": [
      "\n"
     ]
    }
   ],
   "source": [
    "autocast = torch.cuda.amp.autocast(enabled=USE_AMP, dtype=torch.half)\n",
    "y_preds = []\n",
    "row_names = []\n",
    "\n",
    "seq_cond = [1, 3, 2, 4, 0]\n",
    "with tqdm(test_dl, leave=True) as pbar:\n",
    "    with torch.no_grad():\n",
    "        for idx, (st_id, npy_sagT1_list, npy_sagT2_list, npy_AxiT2_list, levels) in enumerate(pbar):\n",
    "            pred_per_study = np.zeros((25, 3))\n",
    "            index = 0  # Initialize the index counter\n",
    "            for npy_sagT1, npy_sagT2, npy_AxiT2, level in zip(npy_sagT1_list, npy_sagT2_list, npy_AxiT2_list, levels):        \n",
    "                pred_per_study_level = np.zeros((5, 3))  \n",
    "                npy_sagT1 = npy_sagT1.to(device)\n",
    "                npy_sagT2 = npy_sagT2.to(device)\n",
    "                npy_AxiT2 = npy_AxiT2.to(device)\n",
    "                with torch.cuda.amp.autocast(): \n",
    "                    for m in models:    \n",
    "                        y = m(torch.cat((npy_sagT1, npy_sagT2), axis=1), npy_AxiT2, level)[0]\n",
    "                        for col in range(N_LABELS):\n",
    "                            pred = y[col*3:col*3+3]\n",
    "                            y_pred = pred.float().softmax(0).cpu().numpy()\n",
    "                            pred_per_study_level[col] += y_pred / len(models)\n",
    "                    # pred_per_study_level (5, 3)\n",
    "                for i in range(5):\n",
    "                    pred_per_study[index + i*5, :] = pred_per_study_level[seq_cond[i], :]\n",
    "                index += 1  # Increment the index for the next iteration\n",
    "\n",
    "            # Add row names following the new sequence\n",
    "            for cond_idx in seq_cond:\n",
    "                cond = CONDITIONS[cond_idx]\n",
    "                for i in range(5):\n",
    "                    row_name = f\"{str(st_id.item())}_{cond}_{level_mapping[''.join(levels[i])]}\"\n",
    "                    row_names.append(row_name)\n",
    "            \n",
    "            y_preds.append(pred_per_study)\n",
    "        \n",
    "y_preds = np.concatenate(y_preds, axis=0)\n",
    "                    \n",
    "print(len(row_names))\n",
    "print(len(y_preds))\n",
    "\n",
    "CONDITIONS = [\n",
    "    'spinal_canal_stenosis', \n",
    "    'left_neural_foraminal_narrowing', \n",
    "    'right_neural_foraminal_narrowing',\n",
    "    'left_subarticular_stenosis',\n",
    "    'right_subarticular_stenosis'\n",
    "]\n"
   ]
  },
  {
   "cell_type": "code",
   "execution_count": 18,
   "id": "37465f29",
   "metadata": {
    "execution": {
     "iopub.execute_input": "2024-10-07T01:23:29.023766Z",
     "iopub.status.busy": "2024-10-07T01:23:29.023393Z",
     "iopub.status.idle": "2024-10-07T01:23:29.034560Z",
     "shell.execute_reply": "2024-10-07T01:23:29.033756Z"
    },
    "papermill": {
     "duration": 0.025169,
     "end_time": "2024-10-07T01:23:29.036531",
     "exception": false,
     "start_time": "2024-10-07T01:23:29.011362",
     "status": "completed"
    },
    "tags": []
   },
   "outputs": [],
   "source": [
    "sample_sub = pd.read_csv(f'{rd}/sample_submission.csv')\n",
    "LABELS = list(sample_sub.columns[1:])\n",
    "# print(sample_sub)"
   ]
  },
  {
   "cell_type": "markdown",
   "id": "4375230b",
   "metadata": {
    "papermill": {
     "duration": 0.010904,
     "end_time": "2024-10-07T01:23:29.058622",
     "exception": false,
     "start_time": "2024-10-07T01:23:29.047718",
     "status": "completed"
    },
    "tags": []
   },
   "source": [
    "# Make Submission"
   ]
  },
  {
   "cell_type": "code",
   "execution_count": 19,
   "id": "62b9c3e3",
   "metadata": {
    "execution": {
     "iopub.execute_input": "2024-10-07T01:23:29.081401Z",
     "iopub.status.busy": "2024-10-07T01:23:29.081081Z",
     "iopub.status.idle": "2024-10-07T01:23:29.097020Z",
     "shell.execute_reply": "2024-10-07T01:23:29.096137Z"
    },
    "papermill": {
     "duration": 0.029755,
     "end_time": "2024-10-07T01:23:29.099161",
     "exception": false,
     "start_time": "2024-10-07T01:23:29.069406",
     "status": "completed"
    },
    "tags": []
   },
   "outputs": [
    {
     "name": "stdout",
     "output_type": "stream",
     "text": [
      "                                               row_id  normal_mild  moderate  \\\n",
      "0    1176954132_left_neural_foraminal_narrowing_l1_l2     0.994171  0.005557   \n",
      "1    1176954132_left_neural_foraminal_narrowing_l2_l3     0.982910  0.016485   \n",
      "2    1176954132_left_neural_foraminal_narrowing_l3_l4     0.837307  0.156532   \n",
      "3    1176954132_left_neural_foraminal_narrowing_l4_l5     0.304500  0.443060   \n",
      "4    1176954132_left_neural_foraminal_narrowing_l5_s1     0.296858  0.361121   \n",
      "..                                                ...          ...       ...   \n",
      "170            3429409220_spinal_canal_stenosis_l1_l2     0.942231  0.038076   \n",
      "171            3429409220_spinal_canal_stenosis_l2_l3     0.823346  0.107323   \n",
      "172            3429409220_spinal_canal_stenosis_l3_l4     0.674437  0.165216   \n",
      "173            3429409220_spinal_canal_stenosis_l4_l5     0.524874  0.161087   \n",
      "174            3429409220_spinal_canal_stenosis_l5_s1     0.909814  0.049664   \n",
      "\n",
      "       severe  \n",
      "0    0.000273  \n",
      "1    0.000605  \n",
      "2    0.006161  \n",
      "3    0.252439  \n",
      "4    0.342021  \n",
      "..        ...  \n",
      "170  0.019693  \n",
      "171  0.069331  \n",
      "172  0.160346  \n",
      "173  0.314040  \n",
      "174  0.040521  \n",
      "\n",
      "[175 rows x 4 columns]\n"
     ]
    }
   ],
   "source": [
    "sub = pd.DataFrame()\n",
    "sub['row_id'] = row_names\n",
    "sub[LABELS] = y_preds\n",
    "# print(sub.index)\n",
    "print(sub)\n"
   ]
  },
  {
   "cell_type": "code",
   "execution_count": 20,
   "id": "ab6d9a60",
   "metadata": {
    "execution": {
     "iopub.execute_input": "2024-10-07T01:23:29.122476Z",
     "iopub.status.busy": "2024-10-07T01:23:29.122147Z",
     "iopub.status.idle": "2024-10-07T01:23:29.288299Z",
     "shell.execute_reply": "2024-10-07T01:23:29.287479Z"
    },
    "papermill": {
     "duration": 0.180507,
     "end_time": "2024-10-07T01:23:29.290723",
     "exception": false,
     "start_time": "2024-10-07T01:23:29.110216",
     "status": "completed"
    },
    "tags": []
   },
   "outputs": [],
   "source": [
    "for index, row in sample_sub.iterrows():\n",
    "    if row['row_id'] == sub.loc[index, 'row_id']:\n",
    "        sample_sub.loc[index] = sub.loc[index]\n"
   ]
  },
  {
   "cell_type": "code",
   "execution_count": 21,
   "id": "1ebe3658",
   "metadata": {
    "execution": {
     "iopub.execute_input": "2024-10-07T01:23:29.315355Z",
     "iopub.status.busy": "2024-10-07T01:23:29.315043Z",
     "iopub.status.idle": "2024-10-07T01:23:29.324298Z",
     "shell.execute_reply": "2024-10-07T01:23:29.323371Z"
    },
    "papermill": {
     "duration": 0.023664,
     "end_time": "2024-10-07T01:23:29.326285",
     "exception": false,
     "start_time": "2024-10-07T01:23:29.302621",
     "status": "completed"
    },
    "tags": []
   },
   "outputs": [],
   "source": [
    "sample_sub.to_csv('submission.csv', index=False)\n"
   ]
  }
 ],
 "metadata": {
  "kaggle": {
   "accelerator": "gpu",
   "dataSources": [
    {
     "databundleVersionId": 8561470,
     "sourceId": 71549,
     "sourceType": "competition"
    },
    {
     "datasetId": 5471909,
     "sourceId": 9529005,
     "sourceType": "datasetVersion"
    },
    {
     "sourceId": 198313435,
     "sourceType": "kernelVersion"
    },
    {
     "sourceId": 199192833,
     "sourceType": "kernelVersion"
    },
    {
     "sourceId": 199735585,
     "sourceType": "kernelVersion"
    }
   ],
   "dockerImageVersionId": 30733,
   "isGpuEnabled": true,
   "isInternetEnabled": false,
   "language": "python",
   "sourceType": "notebook"
  },
  "kernelspec": {
   "display_name": "Python 3",
   "language": "python",
   "name": "python3"
  },
  "language_info": {
   "codemirror_mode": {
    "name": "ipython",
    "version": 3
   },
   "file_extension": ".py",
   "mimetype": "text/x-python",
   "name": "python",
   "nbconvert_exporter": "python",
   "pygments_lexer": "ipython3",
   "version": "3.10.13"
  },
  "papermill": {
   "default_parameters": {},
   "duration": 61.045139,
   "end_time": "2024-10-07T01:23:30.860030",
   "environment_variables": {},
   "exception": null,
   "input_path": "__notebook__.ipynb",
   "output_path": "__notebook__.ipynb",
   "parameters": {},
   "start_time": "2024-10-07T01:22:29.814891",
   "version": "2.5.0"
  }
 },
 "nbformat": 4,
 "nbformat_minor": 5
}

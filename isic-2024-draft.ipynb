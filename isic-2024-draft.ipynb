{
 "cells": [
  {
   "cell_type": "markdown",
   "id": "b4879e36",
   "metadata": {
    "execution": {
     "iopub.execute_input": "2024-08-06T12:02:07.001047Z",
     "iopub.status.busy": "2024-08-06T12:02:07.000591Z",
     "iopub.status.idle": "2024-08-06T12:02:07.011022Z",
     "shell.execute_reply": "2024-08-06T12:02:07.009101Z",
     "shell.execute_reply.started": "2024-08-06T12:02:07.001014Z"
    },
    "papermill": {
     "duration": 0.006327,
     "end_time": "2024-08-07T09:01:07.545327",
     "exception": false,
     "start_time": "2024-08-07T09:01:07.539000",
     "status": "completed"
    },
    "tags": []
   },
   "source": [
    "## This notebook uses the ISIC dataset, which includes all images and metadata in the ISIC archive (https://www.kaggle.com/datasets/tomooinubushi/all-isic-data-20240629).\n",
    "\n",
    "### Dataset Details\n",
    "- **Dataset Name**: All ISIC Data 20240629\n",
    "- **Description**: All images and metadata in ISIC archive.\n",
    "- **Download Size**: 79 GB\n",
    "- **Source**: ISIC Archive\n",
    "\n",
    "### Image Formats\n",
    "- `image.hdf`: Images in hdf5 format with no postprocessing\n",
    "- `image_256sq.hdf`: Images in hdf5 format with square cropping and resizing to 256x256"
   ]
  },
  {
   "cell_type": "markdown",
   "id": "c2fd6613",
   "metadata": {
    "papermill": {
     "duration": 0.005483,
     "end_time": "2024-08-07T09:01:07.556711",
     "exception": false,
     "start_time": "2024-08-07T09:01:07.551228",
     "status": "completed"
    },
    "tags": []
   },
   "source": [
    "## This notebook is based on the work by motono0223, titled “ISIC: Tabular model + Image model features” (https://www.kaggle.com/code/motono0223/isic-tabular-model-image-model-features)\n",
    "The original notebook utilizes resources from the following datasets: “ISIC 2024 - Skin Cancer Detection with 3D-TBP,” “[ISIC] Pytorch Training Baseline (Image only),” and “[ISIC] Pytorch Training Baseline (EVA02).” The original work has been edited and adapted for this notebook."
   ]
  },
  {
   "cell_type": "code",
   "execution_count": 1,
   "id": "32a5f34b",
   "metadata": {
    "execution": {
     "iopub.execute_input": "2024-08-07T09:01:07.569246Z",
     "iopub.status.busy": "2024-08-07T09:01:07.568958Z",
     "iopub.status.idle": "2024-08-07T09:01:14.505231Z",
     "shell.execute_reply": "2024-08-07T09:01:14.504472Z"
    },
    "papermill": {
     "duration": 6.945224,
     "end_time": "2024-08-07T09:01:14.507583",
     "exception": false,
     "start_time": "2024-08-07T09:01:07.562359",
     "status": "completed"
    },
    "tags": []
   },
   "outputs": [],
   "source": [
    "import numpy as np\n",
    "import pandas as pd\n",
    "import pandas.api.types\n",
    "import matplotlib.pyplot as plt\n",
    "\n",
    "from sklearn.preprocessing import OrdinalEncoder\n",
    "from sklearn.metrics import roc_curve, auc, roc_auc_score\n",
    "from sklearn.model_selection import GroupKFold, StratifiedGroupKFold\n",
    "from sklearn.ensemble import VotingClassifier\n",
    "\n",
    "import catboost as cb\n",
    "import lightgbm as lgb\n",
    "import xgboost as xgb\n",
    "from tqdm.auto import tqdm\n",
    "import gc\n",
    "\n",
    "import os\n",
    "import joblib"
   ]
  },
  {
   "cell_type": "code",
   "execution_count": 2,
   "id": "aca61957",
   "metadata": {
    "execution": {
     "iopub.execute_input": "2024-08-07T09:01:14.521313Z",
     "iopub.status.busy": "2024-08-07T09:01:14.520773Z",
     "iopub.status.idle": "2024-08-07T09:01:14.524977Z",
     "shell.execute_reply": "2024-08-07T09:01:14.524116Z"
    },
    "papermill": {
     "duration": 0.012953,
     "end_time": "2024-08-07T09:01:14.526777",
     "exception": false,
     "start_time": "2024-08-07T09:01:14.513824",
     "status": "completed"
    },
    "tags": []
   },
   "outputs": [],
   "source": [
    "# image level predictions already generated\n",
    "\n",
    "# !python /kaggle/input/isic-script-inference-effnetv1b0-f313ae/main.py /kaggle/input/isic-pytorch-training-baseline-image-only/AUROC0.5171_Loss0.3476_epoch35.bin\n",
    "# !mv submission.csv submission_effnetv1b0.csv\n",
    "\n",
    "# !python /kaggle/input/isic-script-inference-eva02/main.py /kaggle/input/isic-pytorch-training-baseline-eva02/AUROC0.5177_Loss0.2829_epoch7.bin\n",
    "# !mv submission.csv submission_eva02.csv\n"
   ]
  },
  {
   "cell_type": "code",
   "execution_count": 3,
   "id": "fcefecf1",
   "metadata": {
    "execution": {
     "iopub.execute_input": "2024-08-07T09:01:14.539350Z",
     "iopub.status.busy": "2024-08-07T09:01:14.539040Z",
     "iopub.status.idle": "2024-08-07T09:01:28.904365Z",
     "shell.execute_reply": "2024-08-07T09:01:28.903510Z"
    },
    "papermill": {
     "duration": 14.3739,
     "end_time": "2024-08-07T09:01:28.906407",
     "exception": false,
     "start_time": "2024-08-07T09:01:14.532507",
     "status": "completed"
    },
    "tags": []
   },
   "outputs": [
    {
     "name": "stderr",
     "output_type": "stream",
     "text": [
      "/tmp/ipykernel_25/1251796677.py:2: DtypeWarning: Columns (51,52) have mixed types. Specify dtype option on import or set low_memory=False.\n",
      "  df_eff = pd.read_csv(\"/kaggle/input/isic-inference-effnetv1b0-for-training-data/train_effnetv1b0.csv\")\n",
      "/tmp/ipykernel_25/1251796677.py:5: DtypeWarning: Columns (51,52) have mixed types. Specify dtype option on import or set low_memory=False.\n",
      "  df_eva = pd.read_csv(\"/kaggle/input/isic-inference-eva02-for-training-data/train_eva02.csv\")\n"
     ]
    },
    {
     "data": {
      "text/plain": [
       "0"
      ]
     },
     "execution_count": 3,
     "metadata": {},
     "output_type": "execute_result"
    }
   ],
   "source": [
    "# # Image features (training data)\n",
    "df_eff = pd.read_csv(\"/kaggle/input/isic-inference-effnetv1b0-for-training-data/train_effnetv1b0.csv\")\n",
    "df_eff = df_eff[[\"target_effnetv1b0\"]]\n",
    "gc.collect()\n",
    "df_eva = pd.read_csv(\"/kaggle/input/isic-inference-eva02-for-training-data/train_eva02.csv\")\n",
    "df_eva = df_eva[[\"target_eva02\"]]\n",
    "gc.collect()"
   ]
  },
  {
   "cell_type": "code",
   "execution_count": 4,
   "id": "d5867b9c",
   "metadata": {
    "execution": {
     "iopub.execute_input": "2024-08-07T09:01:28.921152Z",
     "iopub.status.busy": "2024-08-07T09:01:28.920858Z",
     "iopub.status.idle": "2024-08-07T09:01:37.942592Z",
     "shell.execute_reply": "2024-08-07T09:01:37.941526Z"
    },
    "papermill": {
     "duration": 9.03227,
     "end_time": "2024-08-07T09:01:37.944963",
     "exception": false,
     "start_time": "2024-08-07T09:01:28.912693",
     "status": "completed"
    },
    "tags": []
   },
   "outputs": [
    {
     "name": "stderr",
     "output_type": "stream",
     "text": [
      "/tmp/ipykernel_25/2763990919.py:2: DtypeWarning: Columns (51,52) have mixed types. Specify dtype option on import or set low_memory=False.\n",
      "  df_train = pd.read_csv(\"/kaggle/input/isic-2024-challenge/train-metadata.csv\")\n"
     ]
    }
   ],
   "source": [
    "# Feature Engineering\n",
    "df_train = pd.read_csv(\"/kaggle/input/isic-2024-challenge/train-metadata.csv\")\n",
    "df_test = pd.read_csv(\"/kaggle/input/isic-2024-challenge/test-metadata.csv\")\n",
    "\n",
    "def feature_engineering(df):\n",
    "    # New features to try...\n",
    "    df[\"lesion_size_ratio\"] = df[\"tbp_lv_minorAxisMM\"] / df[\"clin_size_long_diam_mm\"]\n",
    "    df[\"lesion_shape_index\"] = df[\"tbp_lv_areaMM2\"] / (df[\"tbp_lv_perimeterMM\"] ** 2)\n",
    "    df[\"hue_contrast\"] = (df[\"tbp_lv_H\"] - df[\"tbp_lv_Hext\"]).abs()\n",
    "    df[\"luminance_contrast\"] = (df[\"tbp_lv_L\"] - df[\"tbp_lv_Lext\"]).abs()\n",
    "    df[\"lesion_color_difference\"] = np.sqrt(df[\"tbp_lv_deltaA\"] ** 2 + df[\"tbp_lv_deltaB\"] ** 2 + df[\"tbp_lv_deltaL\"] ** 2)\n",
    "    df[\"border_complexity\"] = df[\"tbp_lv_norm_border\"] + df[\"tbp_lv_symm_2axis\"]\n",
    "    df[\"color_uniformity\"] = df[\"tbp_lv_color_std_mean\"] / df[\"tbp_lv_radial_color_std_max\"]\n",
    "    df[\"3d_position_distance\"] = np.sqrt(df[\"tbp_lv_x\"] ** 2 + df[\"tbp_lv_y\"] ** 2 + df[\"tbp_lv_z\"] ** 2) \n",
    "    df[\"perimeter_to_area_ratio\"] = df[\"tbp_lv_perimeterMM\"] / df[\"tbp_lv_areaMM2\"]\n",
    "    df[\"lesion_visibility_score\"] = df[\"tbp_lv_deltaLBnorm\"] + df[\"tbp_lv_norm_color\"]\n",
    "    df[\"combined_anatomical_site\"] = df[\"anatom_site_general\"] + \"_\" + df[\"tbp_lv_location\"]\n",
    "    df[\"symmetry_border_consistency\"] = df[\"tbp_lv_symm_2axis\"] * df[\"tbp_lv_norm_border\"]\n",
    "    df[\"color_consistency\"] = df[\"tbp_lv_stdL\"] / df[\"tbp_lv_Lext\"]\n",
    "    \n",
    "    df[\"size_age_interaction\"] = df[\"clin_size_long_diam_mm\"] * df[\"age_approx\"]\n",
    "    df[\"hue_color_std_interaction\"] = df[\"tbp_lv_H\"] * df[\"tbp_lv_color_std_mean\"]\n",
    "    df[\"lesion_severity_index\"] = (df[\"tbp_lv_norm_border\"] + df[\"tbp_lv_norm_color\"] + df[\"tbp_lv_eccentricity\"]) / 3\n",
    "    df[\"shape_complexity_index\"] = df[\"border_complexity\"] + df[\"lesion_shape_index\"]\n",
    "    df[\"color_contrast_index\"] = df[\"tbp_lv_deltaA\"] + df[\"tbp_lv_deltaB\"] + df[\"tbp_lv_deltaL\"] + df[\"tbp_lv_deltaLBnorm\"]\n",
    "    df[\"log_lesion_area\"] = np.log(df[\"tbp_lv_areaMM2\"] + 1)\n",
    "    df[\"normalized_lesion_size\"] = df[\"clin_size_long_diam_mm\"] / df[\"age_approx\"]\n",
    "    df[\"mean_hue_difference\"] = (df[\"tbp_lv_H\"] + df[\"tbp_lv_Hext\"]) / 2\n",
    "    df[\"std_dev_contrast\"] = np.sqrt((df[\"tbp_lv_deltaA\"] ** 2 + df[\"tbp_lv_deltaB\"] ** 2 + df[\"tbp_lv_deltaL\"] ** 2) / 3)\n",
    "    df[\"color_shape_composite_index\"] = (df[\"tbp_lv_color_std_mean\"] + df[\"tbp_lv_area_perim_ratio\"] + df[\"tbp_lv_symm_2axis\"]) / 3\n",
    "    df[\"3d_lesion_orientation\"] = np.arctan2(df_train[\"tbp_lv_y\"], df_train[\"tbp_lv_x\"])\n",
    "    df[\"overall_color_difference\"] = (df[\"tbp_lv_deltaA\"] + df[\"tbp_lv_deltaB\"] + df[\"tbp_lv_deltaL\"]) / 3\n",
    "    df[\"symmetry_perimeter_interaction\"] = df[\"tbp_lv_symm_2axis\"] * df[\"tbp_lv_perimeterMM\"]\n",
    "    df[\"comprehensive_lesion_index\"] = (df[\"tbp_lv_area_perim_ratio\"] + df[\"tbp_lv_eccentricity\"] + df[\"tbp_lv_norm_color\"] + df[\"tbp_lv_symm_2axis\"]) / 4\n",
    "\n",
    "    # Taken from: https://www.kaggle.com/code/dschettler8845/isic-detect-skin-cancer-let-s-learn-together\n",
    "    df[\"color_variance_ratio\"] = df[\"tbp_lv_color_std_mean\"] / df[\"tbp_lv_stdLExt\"]\n",
    "    df[\"border_color_interaction\"] = df[\"tbp_lv_norm_border\"] * df[\"tbp_lv_norm_color\"]\n",
    "    df[\"size_color_contrast_ratio\"] = df[\"clin_size_long_diam_mm\"] / df[\"tbp_lv_deltaLBnorm\"]\n",
    "    df[\"age_normalized_nevi_confidence\"] = df[\"tbp_lv_nevi_confidence\"] / df[\"age_approx\"]\n",
    "    df[\"color_asymmetry_index\"] = df[\"tbp_lv_radial_color_std_max\"] * df[\"tbp_lv_symm_2axis\"]\n",
    "    df[\"3d_volume_approximation\"] = df[\"tbp_lv_areaMM2\"] * np.sqrt(df[\"tbp_lv_x\"]**2 + df[\"tbp_lv_y\"]**2 + df[\"tbp_lv_z\"]**2)\n",
    "    df[\"color_range\"] = (df[\"tbp_lv_L\"] - df[\"tbp_lv_Lext\"]).abs() + (df[\"tbp_lv_A\"] - df[\"tbp_lv_Aext\"]).abs() + (df[\"tbp_lv_B\"] - df[\"tbp_lv_Bext\"]).abs()\n",
    "    df[\"shape_color_consistency\"] = df[\"tbp_lv_eccentricity\"] * df[\"tbp_lv_color_std_mean\"]\n",
    "    df[\"border_length_ratio\"] = df[\"tbp_lv_perimeterMM\"] / (2 * np.pi * np.sqrt(df[\"tbp_lv_areaMM2\"] / np.pi))\n",
    "    df[\"age_size_symmetry_index\"] = df[\"age_approx\"] * df[\"clin_size_long_diam_mm\"] * df[\"tbp_lv_symm_2axis\"]\n",
    "    # Until here.\n",
    "    \n",
    "    new_num_cols = [\n",
    "        \"lesion_size_ratio\", \"lesion_shape_index\", \"hue_contrast\",\n",
    "        \"luminance_contrast\", \"lesion_color_difference\", \"border_complexity\",\n",
    "        \"color_uniformity\", \"3d_position_distance\", \"perimeter_to_area_ratio\",\n",
    "        \"lesion_visibility_score\", \"symmetry_border_consistency\", \"color_consistency\",\n",
    "\n",
    "        \"size_age_interaction\", \"hue_color_std_interaction\", \"lesion_severity_index\", \n",
    "        \"shape_complexity_index\", \"color_contrast_index\", \"log_lesion_area\",\n",
    "        \"normalized_lesion_size\", \"mean_hue_difference\", \"std_dev_contrast\",\n",
    "        \"color_shape_composite_index\", \"3d_lesion_orientation\", \"overall_color_difference\",\n",
    "        \"symmetry_perimeter_interaction\", \"comprehensive_lesion_index\",\n",
    "        \n",
    "        \"color_variance_ratio\", \"border_color_interaction\", \"size_color_contrast_ratio\",\n",
    "        \"age_normalized_nevi_confidence\", \"color_asymmetry_index\", \"3d_volume_approximation\",\n",
    "        \"color_range\", \"shape_color_consistency\", \"border_length_ratio\", \"age_size_symmetry_index\",\n",
    "    ]\n",
    "    new_cat_cols = [\"combined_anatomical_site\"]\n",
    "    return df, new_num_cols, new_cat_cols\n",
    "\n",
    "num_cols = [\n",
    "    'age_approx', 'clin_size_long_diam_mm', 'tbp_lv_A', 'tbp_lv_Aext', 'tbp_lv_B', 'tbp_lv_Bext', \n",
    "    'tbp_lv_C', 'tbp_lv_Cext', 'tbp_lv_H', 'tbp_lv_Hext', 'tbp_lv_L', \n",
    "    'tbp_lv_Lext', 'tbp_lv_areaMM2', 'tbp_lv_area_perim_ratio', 'tbp_lv_color_std_mean', \n",
    "    'tbp_lv_deltaA', 'tbp_lv_deltaB', 'tbp_lv_deltaL', 'tbp_lv_deltaLB',\n",
    "    'tbp_lv_deltaLBnorm', 'tbp_lv_eccentricity', 'tbp_lv_minorAxisMM',\n",
    "    'tbp_lv_nevi_confidence', 'tbp_lv_norm_border', 'tbp_lv_norm_color',\n",
    "    'tbp_lv_perimeterMM', 'tbp_lv_radial_color_std_max', 'tbp_lv_stdL',\n",
    "    'tbp_lv_stdLExt', 'tbp_lv_symm_2axis', 'tbp_lv_symm_2axis_angle',\n",
    "    'tbp_lv_x', 'tbp_lv_y', 'tbp_lv_z',\n",
    "]\n",
    "df_train[num_cols] = df_train[num_cols].fillna(df_train[num_cols].median())\n",
    "df_train, new_num_cols, new_cat_cols = feature_engineering(df_train.copy())\n",
    "df_test, _, _ = feature_engineering(df_test.copy())\n",
    "num_cols += new_num_cols\n",
    "# anatom_site_general\n",
    "cat_cols = [\"sex\", \"tbp_tile_type\", \"tbp_lv_location\", \"tbp_lv_location_simple\"] + new_cat_cols\n",
    "train_cols = num_cols + cat_cols\n",
    "\n",
    "df_train[\"target_effnetv1b0\"] = df_eff[\"target_effnetv1b0\"]\n",
    "df_train[\"target_eva02\"] = df_eva[\"target_eva02\"]\n",
    "train_cols += [\"target_effnetv1b0\", \"target_eva02\"]\n",
    "\n",
    "del df_eff, df_eva\n",
    "gc.collect()\n",
    "\n",
    "category_encoder = OrdinalEncoder(\n",
    "    categories='auto',\n",
    "    dtype=int,\n",
    "    handle_unknown='use_encoded_value',\n",
    "    unknown_value=-2,\n",
    "    encoded_missing_value=-1,\n",
    ")\n",
    "\n",
    "X_cat = category_encoder.fit_transform(df_train[cat_cols])\n",
    "for c, cat_col in enumerate(cat_cols):\n",
    "    df_train[cat_col] = X_cat[:, c]"
   ]
  },
  {
   "cell_type": "code",
   "execution_count": 5,
   "id": "150dfa57",
   "metadata": {
    "execution": {
     "iopub.execute_input": "2024-08-07T09:01:37.959238Z",
     "iopub.status.busy": "2024-08-07T09:01:37.958943Z",
     "iopub.status.idle": "2024-08-07T09:01:38.632719Z",
     "shell.execute_reply": "2024-08-07T09:01:38.631915Z"
    },
    "papermill": {
     "duration": 0.683489,
     "end_time": "2024-08-07T09:01:38.635116",
     "exception": false,
     "start_time": "2024-08-07T09:01:37.951627",
     "status": "completed"
    },
    "tags": []
   },
   "outputs": [],
   "source": [
    "# CV Setup\n",
    "N_SPLITS = 5\n",
    "gkf = GroupKFold(n_splits=N_SPLITS)\n",
    "\n",
    "df_train[\"fold\"] = -1\n",
    "for idx, (train_idx, val_idx) in enumerate(gkf.split(df_train, df_train[\"target\"], groups=df_train[\"patient_id\"])):\n",
    "    df_train.loc[val_idx, \"fold\"] = idx"
   ]
  },
  {
   "cell_type": "code",
   "execution_count": 6,
   "id": "5dde5823",
   "metadata": {
    "execution": {
     "iopub.execute_input": "2024-08-07T09:01:38.649217Z",
     "iopub.status.busy": "2024-08-07T09:01:38.648907Z",
     "iopub.status.idle": "2024-08-07T09:01:38.657450Z",
     "shell.execute_reply": "2024-08-07T09:01:38.656586Z"
    },
    "papermill": {
     "duration": 0.018004,
     "end_time": "2024-08-07T09:01:38.659642",
     "exception": false,
     "start_time": "2024-08-07T09:01:38.641638",
     "status": "completed"
    },
    "tags": []
   },
   "outputs": [],
   "source": [
    "# Competition Metric\n",
    "def comp_score(solution: pd.DataFrame, submission: pd.DataFrame, row_id_column_name: str, min_tpr: float=0.80):\n",
    "    v_gt = abs(np.asarray(solution.values)-1)\n",
    "    v_pred = np.array([1.0 - x for x in submission.values])\n",
    "    max_fpr = abs(1-min_tpr)\n",
    "    partial_auc_scaled = roc_auc_score(v_gt, v_pred, max_fpr=max_fpr)\n",
    "    # change scale from [0.5, 1.0] to [0.5 * max_fpr**2, max_fpr]\n",
    "    # https://math.stackexchange.com/questions/914823/shift-numbers-into-a-different-range\n",
    "    partial_auc = 0.5 * max_fpr**2 + (max_fpr - 0.5 * max_fpr**2) / (1.0 - 0.5) * (partial_auc_scaled - 0.5)\n",
    "    return partial_auc\n",
    "\n",
    "def custom_lgbm_metric(y_true, y_hat):\n",
    "    # TODO: Refactor with the above.\n",
    "    min_tpr = 0.80\n",
    "    v_gt = abs(y_true-1)\n",
    "    v_pred = np.array([1.0 - x for x in y_hat])\n",
    "    max_fpr = abs(1-min_tpr)\n",
    "    partial_auc_scaled = roc_auc_score(v_gt, v_pred, max_fpr=max_fpr)\n",
    "    # change scale from [0.5, 1.0] to [0.5 * max_fpr**2, max_fpr]\n",
    "    # https://math.stackexchange.com/questions/914823/shift-numbers-into-a-different-range\n",
    "    partial_auc = 0.5 * max_fpr**2 + (max_fpr - 0.5 * max_fpr**2) / (1.0 - 0.5) * (partial_auc_scaled - 0.5)\n",
    "    return \"pauc80\", partial_auc, True\n"
   ]
  },
  {
   "cell_type": "code",
   "execution_count": 7,
   "id": "a16c8f8d",
   "metadata": {
    "execution": {
     "iopub.execute_input": "2024-08-07T09:01:38.673442Z",
     "iopub.status.busy": "2024-08-07T09:01:38.673067Z",
     "iopub.status.idle": "2024-08-07T09:05:38.326147Z",
     "shell.execute_reply": "2024-08-07T09:05:38.324999Z"
    },
    "papermill": {
     "duration": 239.672719,
     "end_time": "2024-08-07T09:05:38.338576",
     "exception": false,
     "start_time": "2024-08-07T09:01:38.665857",
     "status": "completed"
    },
    "tags": []
   },
   "outputs": [
    {
     "data": {
      "application/vnd.jupyter.widget-view+json": {
       "model_id": "8529c68361a44a99bcc2887daf19d63f",
       "version_major": 2,
       "version_minor": 0
      },
      "text/plain": [
       "  0%|          | 0/5 [00:00<?, ?it/s]"
      ]
     },
     "metadata": {},
     "output_type": "display_data"
    },
    {
     "name": "stderr",
     "output_type": "stream",
     "text": [
      "1 warning generated.\n",
      "1 warning generated.\n",
      "1 warning generated.\n",
      "1 warning generated.\n",
      "1 warning generated.\n",
      "1 warning generated.\n",
      "1 warning generated.\n",
      "1 warning generated.\n",
      "1 warning generated.\n",
      "1 warning generated.\n",
      "1 warning generated.\n",
      "1 warning generated.\n",
      "1 warning generated.\n",
      "1 warning generated.\n",
      "1 warning generated.\n",
      "1 warning generated.\n",
      "1 warning generated.\n",
      "1 warning generated.\n",
      "1 warning generated.\n",
      "1 warning generated.\n",
      "1 warning generated.\n",
      "1 warning generated.\n",
      "1 warning generated.\n",
      "1 warning generated.\n",
      "1 warning generated.\n",
      "1 warning generated.\n",
      "1 warning generated.\n",
      "1 warning generated.\n",
      "1 warning generated.\n",
      "1 warning generated.\n",
      "1 warning generated.\n",
      "1 warning generated.\n",
      "1 warning generated.\n"
     ]
    },
    {
     "name": "stdout",
     "output_type": "stream",
     "text": [
      "fold: 0 - Partial AUC Score: 0.18789\n",
      "fold: 1 - Partial AUC Score: 0.18420\n",
      "fold: 2 - Partial AUC Score: 0.17507\n",
      "fold: 3 - Partial AUC Score: 0.18632\n",
      "fold: 4 - Partial AUC Score: 0.18284\n"
     ]
    }
   ],
   "source": [
    "# LGBM Model\n",
    "# lgb_params = {\n",
    "#     'objective': 'binary',\n",
    "#     # \"random_state\": 42,\n",
    "#     \"n_estimators\": 1500,\n",
    "#     'learning_rate': 0.001,\n",
    "#     'bagging_freq': 1,\n",
    "#     'pos_bagging_fraction': 0.75,\n",
    "#     'neg_bagging_fraction': 0.05,\n",
    "#     'feature_fraction': 0.6,\n",
    "#     'lambda_l1': 0.2,\n",
    "#     'lambda_l2': 0.7,\n",
    "#     'num_leaves': 35,\n",
    "#     \"min_data_in_leaf\": 50,\n",
    "#     \"verbosity\": -1,\n",
    "#     \"device\": \"gpu\"\n",
    "#     # \"extra_trees\": True\n",
    "# }\n",
    "new_params =  {\n",
    "    \"objective\": \"binary\",\n",
    "    \"verbosity\": -1,\n",
    "    \"boosting_type\": \"gbdt\",\n",
    "    \"n_estimators\": 200,\n",
    "    'learning_rate': 0.05,    \n",
    "    'lambda_l1': 0.0004681884533249742, \n",
    "    'lambda_l2': 8.765240856362274, \n",
    "    'num_leaves': 136, \n",
    "    'feature_fraction': 0.5392005444882538, \n",
    "    'bagging_fraction': 0.9577412548866563, \n",
    "    'bagging_freq': 6,\n",
    "    'min_child_samples': 60,\n",
    "    \"device\": \"gpu\"\n",
    "}\n",
    "lgb_scores = []\n",
    "lgb_models = []\n",
    "for fold in tqdm(range(N_SPLITS)):\n",
    "    _df_train = df_train[df_train[\"fold\"] != fold].reset_index(drop=True)\n",
    "    _df_valid = df_train[df_train[\"fold\"] == fold].reset_index(drop=True)\n",
    "    # model = lgb.LGBMClassifier(**new_params)\n",
    "    model = VotingClassifier([(f\"lgb_{i}\", lgb.LGBMClassifier(random_state=i, **new_params)) for i in range(3)], voting=\"soft\")\n",
    "    model.fit(_df_train[train_cols], _df_train[\"target\"])\n",
    "    preds = model.predict_proba(_df_valid[train_cols])[:, 1]\n",
    "    score = comp_score(_df_valid[[\"target\"]], pd.DataFrame(preds, columns=[\"prediction\"]), \"\")\n",
    "    print(f\"fold: {fold} - Partial AUC Score: {score:.5f}\")\n",
    "    lgb_scores.append(score)\n",
    "    lgb_models.append(model)"
   ]
  },
  {
   "cell_type": "code",
   "execution_count": 8,
   "id": "1d7a13fa",
   "metadata": {
    "execution": {
     "iopub.execute_input": "2024-08-07T09:05:38.355956Z",
     "iopub.status.busy": "2024-08-07T09:05:38.355653Z",
     "iopub.status.idle": "2024-08-07T09:05:39.310634Z",
     "shell.execute_reply": "2024-08-07T09:05:39.309348Z"
    },
    "papermill": {
     "duration": 0.966702,
     "end_time": "2024-08-07T09:05:39.313215",
     "exception": false,
     "start_time": "2024-08-07T09:05:38.346513",
     "status": "completed"
    },
    "tags": []
   },
   "outputs": [
    {
     "name": "stdout",
     "output_type": "stream",
     "text": [
      "LGBM Score: 0.18326\n",
      "Model saved to /kaggle/working/models/voting_classifier_lgb.joblib\n"
     ]
    }
   ],
   "source": [
    "lgbm_score = np.mean(lgb_scores)\n",
    "print(f\"LGBM Score: {lgbm_score:.5f}\")\n",
    "\n",
    "# Save the fitted model\n",
    "model_dir = '/kaggle/working/models'\n",
    "os.makedirs(model_dir, exist_ok=True)\n",
    "model_path = os.path.join(model_dir, 'voting_classifier_lgb.joblib')\n",
    "joblib.dump(lgb_models, model_path)\n",
    "print(f\"Model saved to {model_path}\")\n"
   ]
  },
  {
   "cell_type": "code",
   "execution_count": 9,
   "id": "b2d46334",
   "metadata": {
    "execution": {
     "iopub.execute_input": "2024-08-07T09:05:39.337536Z",
     "iopub.status.busy": "2024-08-07T09:05:39.335813Z",
     "iopub.status.idle": "2024-08-07T09:05:39.342450Z",
     "shell.execute_reply": "2024-08-07T09:05:39.341306Z"
    },
    "papermill": {
     "duration": 0.022502,
     "end_time": "2024-08-07T09:05:39.347436",
     "exception": false,
     "start_time": "2024-08-07T09:05:39.324934",
     "status": "completed"
    },
    "tags": []
   },
   "outputs": [],
   "source": [
    "# # LGBM Feature Importances\n",
    "# importances = np.mean([estimator.feature_importances_ for model in lgb_models for estimator in model.estimators_ ], 0)\n",
    "# df_imp = pd.DataFrame({\"feature\": lgb_models[0].estimators_[0].feature_name_, \"importance\": importances}).sort_values(\"importance\").reset_index(drop=True)\n",
    "# df_imp.to_csv(\"imp_lgbm.csv\", index=False)\n",
    "\n",
    "# plt.figure(figsize=(16, 12))\n",
    "# plt.barh(df_imp[\"feature\"], df_imp[\"importance\"])\n",
    "# plt.show()"
   ]
  },
  {
   "cell_type": "code",
   "execution_count": 10,
   "id": "475d490a",
   "metadata": {
    "execution": {
     "iopub.execute_input": "2024-08-07T09:05:39.368082Z",
     "iopub.status.busy": "2024-08-07T09:05:39.367730Z",
     "iopub.status.idle": "2024-08-07T09:28:19.462288Z",
     "shell.execute_reply": "2024-08-07T09:28:19.461341Z"
    },
    "papermill": {
     "duration": 1360.118672,
     "end_time": "2024-08-07T09:28:19.475729",
     "exception": false,
     "start_time": "2024-08-07T09:05:39.357057",
     "status": "completed"
    },
    "tags": []
   },
   "outputs": [
    {
     "data": {
      "application/vnd.jupyter.widget-view+json": {
       "model_id": "86497c0628974624b6b4208b0b6f6aa6",
       "version_major": 2,
       "version_minor": 0
      },
      "text/plain": [
       "  0%|          | 0/5 [00:00<?, ?it/s]"
      ]
     },
     "metadata": {},
     "output_type": "display_data"
    },
    {
     "name": "stdout",
     "output_type": "stream",
     "text": [
      "fold: 0 - Partial AUC Score: 0.18611\n",
      "fold: 1 - Partial AUC Score: 0.18385\n",
      "fold: 2 - Partial AUC Score: 0.17783\n",
      "fold: 3 - Partial AUC Score: 0.18364\n",
      "fold: 4 - Partial AUC Score: 0.18391\n"
     ]
    }
   ],
   "source": [
    "# Catboost Model\n",
    "cb_params = {\n",
    "    'objective': 'Logloss',\n",
    "    # \"random_state\": 42,\n",
    "    \"colsample_bylevel\": 0.3, # 0.01, 0.1\n",
    "    \"iterations\": 400,\n",
    "    \"learning_rate\": 0.05,\n",
    "    \"cat_features\": cat_cols,\n",
    "    \"max_depth\": 8,\n",
    "    \"l2_leaf_reg\": 5,\n",
    "    # \"task_type\": \"GPU\",\n",
    "    # \"scale_pos_weight\": 2,\n",
    "    \"verbose\": 0,\n",
    "}\n",
    "cb_scores = []\n",
    "cb_models = []\n",
    "for fold in tqdm(range(N_SPLITS)):\n",
    "    _df_train = df_train[df_train[\"fold\"] != fold].reset_index(drop=True)\n",
    "    _df_valid = df_train[df_train[\"fold\"] == fold].reset_index(drop=True)\n",
    "    model = cb.CatBoostClassifier(**cb_params)\n",
    "    model = VotingClassifier([(f\"cb_{i}\", cb.CatBoostClassifier(random_state=i, **cb_params)) for i in range(3)], voting=\"soft\")\n",
    "    # eval_set=(_df_valid[train_cols], _df_valid[\"target\"]), early_stopping_rounds=50\n",
    "    model.fit(_df_train[train_cols], _df_train[\"target\"])\n",
    "    preds = model.predict_proba(_df_valid[train_cols])[:, 1]\n",
    "    score = comp_score(_df_valid[[\"target\"]], pd.DataFrame(preds, columns=[\"prediction\"]), \"\")\n",
    "    print(f\"fold: {fold} - Partial AUC Score: {score:.5f}\")\n",
    "    cb_scores.append(score)\n",
    "    cb_models.append(model)\n"
   ]
  },
  {
   "cell_type": "code",
   "execution_count": 11,
   "id": "1de18910",
   "metadata": {
    "execution": {
     "iopub.execute_input": "2024-08-07T09:28:19.494949Z",
     "iopub.status.busy": "2024-08-07T09:28:19.494348Z",
     "iopub.status.idle": "2024-08-07T09:28:19.574120Z",
     "shell.execute_reply": "2024-08-07T09:28:19.573010Z"
    },
    "papermill": {
     "duration": 0.091484,
     "end_time": "2024-08-07T09:28:19.576202",
     "exception": false,
     "start_time": "2024-08-07T09:28:19.484718",
     "status": "completed"
    },
    "tags": []
   },
   "outputs": [
    {
     "name": "stdout",
     "output_type": "stream",
     "text": [
      "CatBoost Score: 0.18307\n",
      "Model saved to /kaggle/working/models/voting_classifier_cb.joblib\n"
     ]
    }
   ],
   "source": [
    "cb_score = np.mean(cb_scores)\n",
    "print(f\"CatBoost Score: {cb_score:.5f}\")\n",
    "\n",
    "# Save the fitted model\n",
    "model_dir = '/kaggle/working/models'\n",
    "os.makedirs(model_dir, exist_ok=True)\n",
    "model_path = os.path.join(model_dir, 'voting_classifier_cb.joblib')\n",
    "joblib.dump(cb_models, model_path)\n",
    "print(f\"Model saved to {model_path}\")\n"
   ]
  },
  {
   "cell_type": "code",
   "execution_count": 12,
   "id": "ce8ea665",
   "metadata": {
    "execution": {
     "iopub.execute_input": "2024-08-07T09:28:19.595729Z",
     "iopub.status.busy": "2024-08-07T09:28:19.595437Z",
     "iopub.status.idle": "2024-08-07T09:28:19.599307Z",
     "shell.execute_reply": "2024-08-07T09:28:19.598467Z"
    },
    "papermill": {
     "duration": 0.015597,
     "end_time": "2024-08-07T09:28:19.601165",
     "exception": false,
     "start_time": "2024-08-07T09:28:19.585568",
     "status": "completed"
    },
    "tags": []
   },
   "outputs": [],
   "source": [
    "# # CatBoost Feature Importances\n",
    "# importances = np.mean([estimator.feature_importances_ for model in cb_models for estimator in model.estimators_ ], 0)\n",
    "# df_imp = pd.DataFrame({\"feature\": cb_models[0].estimators_[0].feature_names_, \"importance\": importances}).sort_values(\"importance\").reset_index(drop=True)\n",
    "# df_imp.to_csv(\"imp_catb.csv\", index=False)\n",
    "\n",
    "# plt.figure(figsize=(16, 12))\n",
    "# plt.barh(df_imp[\"feature\"], df_imp[\"importance\"])\n",
    "# plt.show()"
   ]
  },
  {
   "cell_type": "code",
   "execution_count": 13,
   "id": "364b8b0b",
   "metadata": {
    "execution": {
     "iopub.execute_input": "2024-08-07T09:28:19.620181Z",
     "iopub.status.busy": "2024-08-07T09:28:19.619889Z",
     "iopub.status.idle": "2024-08-07T09:28:19.628360Z",
     "shell.execute_reply": "2024-08-07T09:28:19.627578Z"
    },
    "papermill": {
     "duration": 0.020027,
     "end_time": "2024-08-07T09:28:19.630454",
     "exception": false,
     "start_time": "2024-08-07T09:28:19.610427",
     "status": "completed"
    },
    "tags": []
   },
   "outputs": [],
   "source": [
    "X_cat = category_encoder.transform(df_test[cat_cols])\n",
    "for c, cat_col in enumerate(cat_cols):\n",
    "    df_test[cat_col] = X_cat[:, c]"
   ]
  },
  {
   "cell_type": "code",
   "execution_count": 14,
   "id": "b8471776",
   "metadata": {
    "execution": {
     "iopub.execute_input": "2024-08-07T09:28:19.650166Z",
     "iopub.status.busy": "2024-08-07T09:28:19.649912Z",
     "iopub.status.idle": "2024-08-07T09:28:19.858130Z",
     "shell.execute_reply": "2024-08-07T09:28:19.857279Z"
    },
    "papermill": {
     "duration": 0.220068,
     "end_time": "2024-08-07T09:28:19.860136",
     "exception": false,
     "start_time": "2024-08-07T09:28:19.640068",
     "status": "completed"
    },
    "tags": []
   },
   "outputs": [
    {
     "data": {
      "text/plain": [
       "0"
      ]
     },
     "execution_count": 14,
     "metadata": {},
     "output_type": "execute_result"
    }
   ],
   "source": [
    "# Ensembling\n",
    "# Image features (test data)\n",
    "df_eff = pd.read_csv(\"/kaggle/input/isic-tabular-model-image-model-features/submission_effnetv1b0.csv\")\n",
    "df_test[\"target_effnetv1b0\"] = df_eff[\"target\"]\n",
    "del df_eff\n",
    "gc.collect()\n",
    "\n",
    "df_eva = pd.read_csv(\"/kaggle/input/isic-tabular-model-image-model-features/submission_eva02.csv\")\n",
    "df_test[\"target_eva02\"] = df_eva[\"target\"]\n",
    "del df_eva\n",
    "gc.collect()"
   ]
  },
  {
   "cell_type": "code",
   "execution_count": 15,
   "id": "41f7b7fd",
   "metadata": {
    "execution": {
     "iopub.execute_input": "2024-08-07T09:28:19.879407Z",
     "iopub.status.busy": "2024-08-07T09:28:19.879096Z",
     "iopub.status.idle": "2024-08-07T09:28:19.991197Z",
     "shell.execute_reply": "2024-08-07T09:28:19.990217Z"
    },
    "papermill": {
     "duration": 0.124711,
     "end_time": "2024-08-07T09:28:19.994038",
     "exception": false,
     "start_time": "2024-08-07T09:28:19.869327",
     "status": "completed"
    },
    "tags": []
   },
   "outputs": [],
   "source": [
    "# inference\n",
    "lgb_preds = np.mean([model.predict_proba(df_test[train_cols])[:, 1] for model in lgb_models], 0)\n",
    "cb_preds = np.mean([model.predict_proba(df_test[train_cols])[:, 1] for model in cb_models], 0)\n",
    "preds = lgb_preds * 0.5 + cb_preds * 0.5"
   ]
  },
  {
   "cell_type": "code",
   "execution_count": 16,
   "id": "9a29e68c",
   "metadata": {
    "execution": {
     "iopub.execute_input": "2024-08-07T09:28:20.016713Z",
     "iopub.status.busy": "2024-08-07T09:28:20.016420Z",
     "iopub.status.idle": "2024-08-07T09:28:20.034445Z",
     "shell.execute_reply": "2024-08-07T09:28:20.033576Z"
    },
    "papermill": {
     "duration": 0.029798,
     "end_time": "2024-08-07T09:28:20.036389",
     "exception": false,
     "start_time": "2024-08-07T09:28:20.006591",
     "status": "completed"
    },
    "tags": []
   },
   "outputs": [
    {
     "data": {
      "text/html": [
       "<div>\n",
       "<style scoped>\n",
       "    .dataframe tbody tr th:only-of-type {\n",
       "        vertical-align: middle;\n",
       "    }\n",
       "\n",
       "    .dataframe tbody tr th {\n",
       "        vertical-align: top;\n",
       "    }\n",
       "\n",
       "    .dataframe thead th {\n",
       "        text-align: right;\n",
       "    }\n",
       "</style>\n",
       "<table border=\"1\" class=\"dataframe\">\n",
       "  <thead>\n",
       "    <tr style=\"text-align: right;\">\n",
       "      <th></th>\n",
       "      <th>isic_id</th>\n",
       "      <th>target</th>\n",
       "    </tr>\n",
       "  </thead>\n",
       "  <tbody>\n",
       "    <tr>\n",
       "      <th>0</th>\n",
       "      <td>ISIC_0015657</td>\n",
       "      <td>0.000031</td>\n",
       "    </tr>\n",
       "    <tr>\n",
       "      <th>1</th>\n",
       "      <td>ISIC_0015729</td>\n",
       "      <td>0.000013</td>\n",
       "    </tr>\n",
       "    <tr>\n",
       "      <th>2</th>\n",
       "      <td>ISIC_0015740</td>\n",
       "      <td>0.000010</td>\n",
       "    </tr>\n",
       "  </tbody>\n",
       "</table>\n",
       "</div>"
      ],
      "text/plain": [
       "        isic_id    target\n",
       "0  ISIC_0015657  0.000031\n",
       "1  ISIC_0015729  0.000013\n",
       "2  ISIC_0015740  0.000010"
      ]
     },
     "execution_count": 16,
     "metadata": {},
     "output_type": "execute_result"
    }
   ],
   "source": [
    "df_sub = pd.read_csv(\"/kaggle/input/isic-2024-challenge/sample_submission.csv\")\n",
    "df_sub[\"target\"] = preds\n",
    "df_sub"
   ]
  },
  {
   "cell_type": "code",
   "execution_count": 17,
   "id": "81ee3f33",
   "metadata": {
    "execution": {
     "iopub.execute_input": "2024-08-07T09:28:20.056022Z",
     "iopub.status.busy": "2024-08-07T09:28:20.055756Z",
     "iopub.status.idle": "2024-08-07T09:28:20.061145Z",
     "shell.execute_reply": "2024-08-07T09:28:20.060491Z"
    },
    "papermill": {
     "duration": 0.017121,
     "end_time": "2024-08-07T09:28:20.063027",
     "exception": false,
     "start_time": "2024-08-07T09:28:20.045906",
     "status": "completed"
    },
    "tags": []
   },
   "outputs": [],
   "source": [
    "df_sub.to_csv(\"submission.csv\", index=False)"
   ]
  }
 ],
 "metadata": {
  "kaggle": {
   "accelerator": "nvidiaTeslaT4",
   "dataSources": [
    {
     "databundleVersionId": 9094797,
     "sourceId": 63056,
     "sourceType": "competition"
    },
    {
     "sourceId": 188543089,
     "sourceType": "kernelVersion"
    },
    {
     "sourceId": 188543756,
     "sourceType": "kernelVersion"
    },
    {
     "sourceId": 188603902,
     "sourceType": "kernelVersion"
    }
   ],
   "dockerImageVersionId": 30746,
   "isGpuEnabled": true,
   "isInternetEnabled": true,
   "language": "python",
   "sourceType": "notebook"
  },
  "kernelspec": {
   "display_name": "Python 3",
   "language": "python",
   "name": "python3"
  },
  "language_info": {
   "codemirror_mode": {
    "name": "ipython",
    "version": 3
   },
   "file_extension": ".py",
   "mimetype": "text/x-python",
   "name": "python",
   "nbconvert_exporter": "python",
   "pygments_lexer": "ipython3",
   "version": "3.10.13"
  },
  "papermill": {
   "default_parameters": {},
   "duration": 1636.685806,
   "end_time": "2024-08-07T09:28:21.196261",
   "environment_variables": {},
   "exception": null,
   "input_path": "__notebook__.ipynb",
   "output_path": "__notebook__.ipynb",
   "parameters": {},
   "start_time": "2024-08-07T09:01:04.510455",
   "version": "2.5.0"
  },
  "widgets": {
   "application/vnd.jupyter.widget-state+json": {
    "state": {
     "211e0d7940d743f18565edbd4af5061e": {
      "model_module": "@jupyter-widgets/controls",
      "model_module_version": "1.5.0",
      "model_name": "HTMLModel",
      "state": {
       "_dom_classes": [],
       "_model_module": "@jupyter-widgets/controls",
       "_model_module_version": "1.5.0",
       "_model_name": "HTMLModel",
       "_view_count": null,
       "_view_module": "@jupyter-widgets/controls",
       "_view_module_version": "1.5.0",
       "_view_name": "HTMLView",
       "description": "",
       "description_tooltip": null,
       "layout": "IPY_MODEL_99a402eea00b45e193d89283c778bb41",
       "placeholder": "​",
       "style": "IPY_MODEL_f812c3e824014ddeb9bdfec67b1f4ce8",
       "value": "100%"
      }
     },
     "266915db0cfd4937a61a980d12c546a2": {
      "model_module": "@jupyter-widgets/controls",
      "model_module_version": "1.5.0",
      "model_name": "DescriptionStyleModel",
      "state": {
       "_model_module": "@jupyter-widgets/controls",
       "_model_module_version": "1.5.0",
       "_model_name": "DescriptionStyleModel",
       "_view_count": null,
       "_view_module": "@jupyter-widgets/base",
       "_view_module_version": "1.2.0",
       "_view_name": "StyleView",
       "description_width": ""
      }
     },
     "36d464cb75e0481f913a12680d2b0738": {
      "model_module": "@jupyter-widgets/base",
      "model_module_version": "1.2.0",
      "model_name": "LayoutModel",
      "state": {
       "_model_module": "@jupyter-widgets/base",
       "_model_module_version": "1.2.0",
       "_model_name": "LayoutModel",
       "_view_count": null,
       "_view_module": "@jupyter-widgets/base",
       "_view_module_version": "1.2.0",
       "_view_name": "LayoutView",
       "align_content": null,
       "align_items": null,
       "align_self": null,
       "border": null,
       "bottom": null,
       "display": null,
       "flex": null,
       "flex_flow": null,
       "grid_area": null,
       "grid_auto_columns": null,
       "grid_auto_flow": null,
       "grid_auto_rows": null,
       "grid_column": null,
       "grid_gap": null,
       "grid_row": null,
       "grid_template_areas": null,
       "grid_template_columns": null,
       "grid_template_rows": null,
       "height": null,
       "justify_content": null,
       "justify_items": null,
       "left": null,
       "margin": null,
       "max_height": null,
       "max_width": null,
       "min_height": null,
       "min_width": null,
       "object_fit": null,
       "object_position": null,
       "order": null,
       "overflow": null,
       "overflow_x": null,
       "overflow_y": null,
       "padding": null,
       "right": null,
       "top": null,
       "visibility": null,
       "width": null
      }
     },
     "3d4196d32e0f4f98991f0fd4843c206e": {
      "model_module": "@jupyter-widgets/base",
      "model_module_version": "1.2.0",
      "model_name": "LayoutModel",
      "state": {
       "_model_module": "@jupyter-widgets/base",
       "_model_module_version": "1.2.0",
       "_model_name": "LayoutModel",
       "_view_count": null,
       "_view_module": "@jupyter-widgets/base",
       "_view_module_version": "1.2.0",
       "_view_name": "LayoutView",
       "align_content": null,
       "align_items": null,
       "align_self": null,
       "border": null,
       "bottom": null,
       "display": null,
       "flex": null,
       "flex_flow": null,
       "grid_area": null,
       "grid_auto_columns": null,
       "grid_auto_flow": null,
       "grid_auto_rows": null,
       "grid_column": null,
       "grid_gap": null,
       "grid_row": null,
       "grid_template_areas": null,
       "grid_template_columns": null,
       "grid_template_rows": null,
       "height": null,
       "justify_content": null,
       "justify_items": null,
       "left": null,
       "margin": null,
       "max_height": null,
       "max_width": null,
       "min_height": null,
       "min_width": null,
       "object_fit": null,
       "object_position": null,
       "order": null,
       "overflow": null,
       "overflow_x": null,
       "overflow_y": null,
       "padding": null,
       "right": null,
       "top": null,
       "visibility": null,
       "width": null
      }
     },
     "6fae0ea13b6944ee9b8fed76257adafe": {
      "model_module": "@jupyter-widgets/controls",
      "model_module_version": "1.5.0",
      "model_name": "HTMLModel",
      "state": {
       "_dom_classes": [],
       "_model_module": "@jupyter-widgets/controls",
       "_model_module_version": "1.5.0",
       "_model_name": "HTMLModel",
       "_view_count": null,
       "_view_module": "@jupyter-widgets/controls",
       "_view_module_version": "1.5.0",
       "_view_name": "HTMLView",
       "description": "",
       "description_tooltip": null,
       "layout": "IPY_MODEL_fb4f7d70e1624ec7a2da9d53374c45fe",
       "placeholder": "​",
       "style": "IPY_MODEL_266915db0cfd4937a61a980d12c546a2",
       "value": " 5/5 [03:59&lt;00:00, 47.22s/it]"
      }
     },
     "7e3e239cc03348dc99aa1cae1a930035": {
      "model_module": "@jupyter-widgets/controls",
      "model_module_version": "1.5.0",
      "model_name": "ProgressStyleModel",
      "state": {
       "_model_module": "@jupyter-widgets/controls",
       "_model_module_version": "1.5.0",
       "_model_name": "ProgressStyleModel",
       "_view_count": null,
       "_view_module": "@jupyter-widgets/base",
       "_view_module_version": "1.2.0",
       "_view_name": "StyleView",
       "bar_color": null,
       "description_width": ""
      }
     },
     "8529c68361a44a99bcc2887daf19d63f": {
      "model_module": "@jupyter-widgets/controls",
      "model_module_version": "1.5.0",
      "model_name": "HBoxModel",
      "state": {
       "_dom_classes": [],
       "_model_module": "@jupyter-widgets/controls",
       "_model_module_version": "1.5.0",
       "_model_name": "HBoxModel",
       "_view_count": null,
       "_view_module": "@jupyter-widgets/controls",
       "_view_module_version": "1.5.0",
       "_view_name": "HBoxView",
       "box_style": "",
       "children": [
        "IPY_MODEL_211e0d7940d743f18565edbd4af5061e",
        "IPY_MODEL_f79127d479bd406db9c191cfd7c640dc",
        "IPY_MODEL_6fae0ea13b6944ee9b8fed76257adafe"
       ],
       "layout": "IPY_MODEL_ffb87bab9d2f468ebe177936506d76a3"
      }
     },
     "86497c0628974624b6b4208b0b6f6aa6": {
      "model_module": "@jupyter-widgets/controls",
      "model_module_version": "1.5.0",
      "model_name": "HBoxModel",
      "state": {
       "_dom_classes": [],
       "_model_module": "@jupyter-widgets/controls",
       "_model_module_version": "1.5.0",
       "_model_name": "HBoxModel",
       "_view_count": null,
       "_view_module": "@jupyter-widgets/controls",
       "_view_module_version": "1.5.0",
       "_view_name": "HBoxView",
       "box_style": "",
       "children": [
        "IPY_MODEL_fda30d30bdb34cb4b01313035831033e",
        "IPY_MODEL_d39c4b43e35d43fd986a45434157412d",
        "IPY_MODEL_d0d28b5f2f6d47d39804b3d04e7da069"
       ],
       "layout": "IPY_MODEL_ee06474d485e48debab1639c8efa9315"
      }
     },
     "873fe5c546e94413944bcb665ac54167": {
      "model_module": "@jupyter-widgets/base",
      "model_module_version": "1.2.0",
      "model_name": "LayoutModel",
      "state": {
       "_model_module": "@jupyter-widgets/base",
       "_model_module_version": "1.2.0",
       "_model_name": "LayoutModel",
       "_view_count": null,
       "_view_module": "@jupyter-widgets/base",
       "_view_module_version": "1.2.0",
       "_view_name": "LayoutView",
       "align_content": null,
       "align_items": null,
       "align_self": null,
       "border": null,
       "bottom": null,
       "display": null,
       "flex": null,
       "flex_flow": null,
       "grid_area": null,
       "grid_auto_columns": null,
       "grid_auto_flow": null,
       "grid_auto_rows": null,
       "grid_column": null,
       "grid_gap": null,
       "grid_row": null,
       "grid_template_areas": null,
       "grid_template_columns": null,
       "grid_template_rows": null,
       "height": null,
       "justify_content": null,
       "justify_items": null,
       "left": null,
       "margin": null,
       "max_height": null,
       "max_width": null,
       "min_height": null,
       "min_width": null,
       "object_fit": null,
       "object_position": null,
       "order": null,
       "overflow": null,
       "overflow_x": null,
       "overflow_y": null,
       "padding": null,
       "right": null,
       "top": null,
       "visibility": null,
       "width": null
      }
     },
     "88bf3d7103b2482dae14d110ef2ba39a": {
      "model_module": "@jupyter-widgets/controls",
      "model_module_version": "1.5.0",
      "model_name": "DescriptionStyleModel",
      "state": {
       "_model_module": "@jupyter-widgets/controls",
       "_model_module_version": "1.5.0",
       "_model_name": "DescriptionStyleModel",
       "_view_count": null,
       "_view_module": "@jupyter-widgets/base",
       "_view_module_version": "1.2.0",
       "_view_name": "StyleView",
       "description_width": ""
      }
     },
     "93a726e22b9449008ecb5a2bbd468afd": {
      "model_module": "@jupyter-widgets/base",
      "model_module_version": "1.2.0",
      "model_name": "LayoutModel",
      "state": {
       "_model_module": "@jupyter-widgets/base",
       "_model_module_version": "1.2.0",
       "_model_name": "LayoutModel",
       "_view_count": null,
       "_view_module": "@jupyter-widgets/base",
       "_view_module_version": "1.2.0",
       "_view_name": "LayoutView",
       "align_content": null,
       "align_items": null,
       "align_self": null,
       "border": null,
       "bottom": null,
       "display": null,
       "flex": null,
       "flex_flow": null,
       "grid_area": null,
       "grid_auto_columns": null,
       "grid_auto_flow": null,
       "grid_auto_rows": null,
       "grid_column": null,
       "grid_gap": null,
       "grid_row": null,
       "grid_template_areas": null,
       "grid_template_columns": null,
       "grid_template_rows": null,
       "height": null,
       "justify_content": null,
       "justify_items": null,
       "left": null,
       "margin": null,
       "max_height": null,
       "max_width": null,
       "min_height": null,
       "min_width": null,
       "object_fit": null,
       "object_position": null,
       "order": null,
       "overflow": null,
       "overflow_x": null,
       "overflow_y": null,
       "padding": null,
       "right": null,
       "top": null,
       "visibility": null,
       "width": null
      }
     },
     "99a402eea00b45e193d89283c778bb41": {
      "model_module": "@jupyter-widgets/base",
      "model_module_version": "1.2.0",
      "model_name": "LayoutModel",
      "state": {
       "_model_module": "@jupyter-widgets/base",
       "_model_module_version": "1.2.0",
       "_model_name": "LayoutModel",
       "_view_count": null,
       "_view_module": "@jupyter-widgets/base",
       "_view_module_version": "1.2.0",
       "_view_name": "LayoutView",
       "align_content": null,
       "align_items": null,
       "align_self": null,
       "border": null,
       "bottom": null,
       "display": null,
       "flex": null,
       "flex_flow": null,
       "grid_area": null,
       "grid_auto_columns": null,
       "grid_auto_flow": null,
       "grid_auto_rows": null,
       "grid_column": null,
       "grid_gap": null,
       "grid_row": null,
       "grid_template_areas": null,
       "grid_template_columns": null,
       "grid_template_rows": null,
       "height": null,
       "justify_content": null,
       "justify_items": null,
       "left": null,
       "margin": null,
       "max_height": null,
       "max_width": null,
       "min_height": null,
       "min_width": null,
       "object_fit": null,
       "object_position": null,
       "order": null,
       "overflow": null,
       "overflow_x": null,
       "overflow_y": null,
       "padding": null,
       "right": null,
       "top": null,
       "visibility": null,
       "width": null
      }
     },
     "c2afe3e57cd841d7b7a916d851919ca7": {
      "model_module": "@jupyter-widgets/controls",
      "model_module_version": "1.5.0",
      "model_name": "DescriptionStyleModel",
      "state": {
       "_model_module": "@jupyter-widgets/controls",
       "_model_module_version": "1.5.0",
       "_model_name": "DescriptionStyleModel",
       "_view_count": null,
       "_view_module": "@jupyter-widgets/base",
       "_view_module_version": "1.2.0",
       "_view_name": "StyleView",
       "description_width": ""
      }
     },
     "cf30d8665bfa4c0cb0202296b5c95eb3": {
      "model_module": "@jupyter-widgets/controls",
      "model_module_version": "1.5.0",
      "model_name": "ProgressStyleModel",
      "state": {
       "_model_module": "@jupyter-widgets/controls",
       "_model_module_version": "1.5.0",
       "_model_name": "ProgressStyleModel",
       "_view_count": null,
       "_view_module": "@jupyter-widgets/base",
       "_view_module_version": "1.2.0",
       "_view_name": "StyleView",
       "bar_color": null,
       "description_width": ""
      }
     },
     "d0d28b5f2f6d47d39804b3d04e7da069": {
      "model_module": "@jupyter-widgets/controls",
      "model_module_version": "1.5.0",
      "model_name": "HTMLModel",
      "state": {
       "_dom_classes": [],
       "_model_module": "@jupyter-widgets/controls",
       "_model_module_version": "1.5.0",
       "_model_name": "HTMLModel",
       "_view_count": null,
       "_view_module": "@jupyter-widgets/controls",
       "_view_module_version": "1.5.0",
       "_view_name": "HTMLView",
       "description": "",
       "description_tooltip": null,
       "layout": "IPY_MODEL_93a726e22b9449008ecb5a2bbd468afd",
       "placeholder": "​",
       "style": "IPY_MODEL_c2afe3e57cd841d7b7a916d851919ca7",
       "value": " 5/5 [22:40&lt;00:00, 271.84s/it]"
      }
     },
     "d39c4b43e35d43fd986a45434157412d": {
      "model_module": "@jupyter-widgets/controls",
      "model_module_version": "1.5.0",
      "model_name": "FloatProgressModel",
      "state": {
       "_dom_classes": [],
       "_model_module": "@jupyter-widgets/controls",
       "_model_module_version": "1.5.0",
       "_model_name": "FloatProgressModel",
       "_view_count": null,
       "_view_module": "@jupyter-widgets/controls",
       "_view_module_version": "1.5.0",
       "_view_name": "ProgressView",
       "bar_style": "success",
       "description": "",
       "description_tooltip": null,
       "layout": "IPY_MODEL_36d464cb75e0481f913a12680d2b0738",
       "max": 5.0,
       "min": 0.0,
       "orientation": "horizontal",
       "style": "IPY_MODEL_cf30d8665bfa4c0cb0202296b5c95eb3",
       "value": 5.0
      }
     },
     "ee06474d485e48debab1639c8efa9315": {
      "model_module": "@jupyter-widgets/base",
      "model_module_version": "1.2.0",
      "model_name": "LayoutModel",
      "state": {
       "_model_module": "@jupyter-widgets/base",
       "_model_module_version": "1.2.0",
       "_model_name": "LayoutModel",
       "_view_count": null,
       "_view_module": "@jupyter-widgets/base",
       "_view_module_version": "1.2.0",
       "_view_name": "LayoutView",
       "align_content": null,
       "align_items": null,
       "align_self": null,
       "border": null,
       "bottom": null,
       "display": null,
       "flex": null,
       "flex_flow": null,
       "grid_area": null,
       "grid_auto_columns": null,
       "grid_auto_flow": null,
       "grid_auto_rows": null,
       "grid_column": null,
       "grid_gap": null,
       "grid_row": null,
       "grid_template_areas": null,
       "grid_template_columns": null,
       "grid_template_rows": null,
       "height": null,
       "justify_content": null,
       "justify_items": null,
       "left": null,
       "margin": null,
       "max_height": null,
       "max_width": null,
       "min_height": null,
       "min_width": null,
       "object_fit": null,
       "object_position": null,
       "order": null,
       "overflow": null,
       "overflow_x": null,
       "overflow_y": null,
       "padding": null,
       "right": null,
       "top": null,
       "visibility": null,
       "width": null
      }
     },
     "f79127d479bd406db9c191cfd7c640dc": {
      "model_module": "@jupyter-widgets/controls",
      "model_module_version": "1.5.0",
      "model_name": "FloatProgressModel",
      "state": {
       "_dom_classes": [],
       "_model_module": "@jupyter-widgets/controls",
       "_model_module_version": "1.5.0",
       "_model_name": "FloatProgressModel",
       "_view_count": null,
       "_view_module": "@jupyter-widgets/controls",
       "_view_module_version": "1.5.0",
       "_view_name": "ProgressView",
       "bar_style": "success",
       "description": "",
       "description_tooltip": null,
       "layout": "IPY_MODEL_873fe5c546e94413944bcb665ac54167",
       "max": 5.0,
       "min": 0.0,
       "orientation": "horizontal",
       "style": "IPY_MODEL_7e3e239cc03348dc99aa1cae1a930035",
       "value": 5.0
      }
     },
     "f812c3e824014ddeb9bdfec67b1f4ce8": {
      "model_module": "@jupyter-widgets/controls",
      "model_module_version": "1.5.0",
      "model_name": "DescriptionStyleModel",
      "state": {
       "_model_module": "@jupyter-widgets/controls",
       "_model_module_version": "1.5.0",
       "_model_name": "DescriptionStyleModel",
       "_view_count": null,
       "_view_module": "@jupyter-widgets/base",
       "_view_module_version": "1.2.0",
       "_view_name": "StyleView",
       "description_width": ""
      }
     },
     "fb4f7d70e1624ec7a2da9d53374c45fe": {
      "model_module": "@jupyter-widgets/base",
      "model_module_version": "1.2.0",
      "model_name": "LayoutModel",
      "state": {
       "_model_module": "@jupyter-widgets/base",
       "_model_module_version": "1.2.0",
       "_model_name": "LayoutModel",
       "_view_count": null,
       "_view_module": "@jupyter-widgets/base",
       "_view_module_version": "1.2.0",
       "_view_name": "LayoutView",
       "align_content": null,
       "align_items": null,
       "align_self": null,
       "border": null,
       "bottom": null,
       "display": null,
       "flex": null,
       "flex_flow": null,
       "grid_area": null,
       "grid_auto_columns": null,
       "grid_auto_flow": null,
       "grid_auto_rows": null,
       "grid_column": null,
       "grid_gap": null,
       "grid_row": null,
       "grid_template_areas": null,
       "grid_template_columns": null,
       "grid_template_rows": null,
       "height": null,
       "justify_content": null,
       "justify_items": null,
       "left": null,
       "margin": null,
       "max_height": null,
       "max_width": null,
       "min_height": null,
       "min_width": null,
       "object_fit": null,
       "object_position": null,
       "order": null,
       "overflow": null,
       "overflow_x": null,
       "overflow_y": null,
       "padding": null,
       "right": null,
       "top": null,
       "visibility": null,
       "width": null
      }
     },
     "fda30d30bdb34cb4b01313035831033e": {
      "model_module": "@jupyter-widgets/controls",
      "model_module_version": "1.5.0",
      "model_name": "HTMLModel",
      "state": {
       "_dom_classes": [],
       "_model_module": "@jupyter-widgets/controls",
       "_model_module_version": "1.5.0",
       "_model_name": "HTMLModel",
       "_view_count": null,
       "_view_module": "@jupyter-widgets/controls",
       "_view_module_version": "1.5.0",
       "_view_name": "HTMLView",
       "description": "",
       "description_tooltip": null,
       "layout": "IPY_MODEL_3d4196d32e0f4f98991f0fd4843c206e",
       "placeholder": "​",
       "style": "IPY_MODEL_88bf3d7103b2482dae14d110ef2ba39a",
       "value": "100%"
      }
     },
     "ffb87bab9d2f468ebe177936506d76a3": {
      "model_module": "@jupyter-widgets/base",
      "model_module_version": "1.2.0",
      "model_name": "LayoutModel",
      "state": {
       "_model_module": "@jupyter-widgets/base",
       "_model_module_version": "1.2.0",
       "_model_name": "LayoutModel",
       "_view_count": null,
       "_view_module": "@jupyter-widgets/base",
       "_view_module_version": "1.2.0",
       "_view_name": "LayoutView",
       "align_content": null,
       "align_items": null,
       "align_self": null,
       "border": null,
       "bottom": null,
       "display": null,
       "flex": null,
       "flex_flow": null,
       "grid_area": null,
       "grid_auto_columns": null,
       "grid_auto_flow": null,
       "grid_auto_rows": null,
       "grid_column": null,
       "grid_gap": null,
       "grid_row": null,
       "grid_template_areas": null,
       "grid_template_columns": null,
       "grid_template_rows": null,
       "height": null,
       "justify_content": null,
       "justify_items": null,
       "left": null,
       "margin": null,
       "max_height": null,
       "max_width": null,
       "min_height": null,
       "min_width": null,
       "object_fit": null,
       "object_position": null,
       "order": null,
       "overflow": null,
       "overflow_x": null,
       "overflow_y": null,
       "padding": null,
       "right": null,
       "top": null,
       "visibility": null,
       "width": null
      }
     }
    },
    "version_major": 2,
    "version_minor": 0
   }
  }
 },
 "nbformat": 4,
 "nbformat_minor": 5
}

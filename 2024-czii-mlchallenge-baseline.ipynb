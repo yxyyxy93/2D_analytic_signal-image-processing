{
 "cells": [
  {
   "cell_type": "markdown",
   "id": "505fa801",
   "metadata": {
    "papermill": {
     "duration": 0.006164,
     "end_time": "2024-11-08T05:27:40.159703",
     "exception": false,
     "start_time": "2024-11-08T05:27:40.153539",
     "status": "completed"
    },
    "tags": []
   },
   "source": [
    "## Folk from https://github.com/czimaginginstitute/2024_czii_mlchallenge_notebooks\n",
    "3D Unet MONAI"
   ]
  },
  {
   "cell_type": "code",
   "execution_count": 1,
   "id": "3cdf12cf",
   "metadata": {
    "_cell_guid": "b1076dfc-b9ad-4769-8c92-a6c4dae69d19",
    "_uuid": "8f2839f25d086af736a60e9eeb907d3b93b6e0e5",
    "execution": {
     "iopub.execute_input": "2024-11-08T05:27:40.172091Z",
     "iopub.status.busy": "2024-11-08T05:27:40.171727Z",
     "iopub.status.idle": "2024-11-08T05:28:44.314696Z",
     "shell.execute_reply": "2024-11-08T05:28:44.313700Z"
    },
    "papermill": {
     "duration": 64.151988,
     "end_time": "2024-11-08T05:28:44.317205",
     "exception": false,
     "start_time": "2024-11-08T05:27:40.165217",
     "status": "completed"
    },
    "tags": []
   },
   "outputs": [
    {
     "name": "stdout",
     "output_type": "stream",
     "text": [
      "Collecting git+https://github.com/copick/copick-utils.git\r\n",
      "  Cloning https://github.com/copick/copick-utils.git to /tmp/pip-req-build-xzhikf00\r\n",
      "  Running command git clone --filter=blob:none --quiet https://github.com/copick/copick-utils.git /tmp/pip-req-build-xzhikf00\r\n",
      "  Resolved https://github.com/copick/copick-utils.git to commit 8936b5b9379bf4f58d49ac58a9669076baeeff5b\r\n",
      "  Installing build dependencies ... \u001b[?25l-\b \b\\\b \b|\b \b/\b \b-\b \b\\\b \b|\b \bdone\r\n",
      "\u001b[?25h  Getting requirements to build wheel ... \u001b[?25ldone\r\n",
      "\u001b[?25h  Preparing metadata (pyproject.toml) ... \u001b[?25ldone\r\n",
      "\u001b[?25hRequirement already satisfied: matplotlib in /opt/conda/lib/python3.10/site-packages (3.7.5)\r\n",
      "Requirement already satisfied: tqdm in /opt/conda/lib/python3.10/site-packages (4.66.4)\r\n",
      "Collecting copick\r\n",
      "  Downloading copick-0.6.0-py3-none-any.whl.metadata (7.3 kB)\r\n",
      "Requirement already satisfied: contourpy>=1.0.1 in /opt/conda/lib/python3.10/site-packages (from matplotlib) (1.2.1)\r\n",
      "Requirement already satisfied: cycler>=0.10 in /opt/conda/lib/python3.10/site-packages (from matplotlib) (0.12.1)\r\n",
      "Requirement already satisfied: fonttools>=4.22.0 in /opt/conda/lib/python3.10/site-packages (from matplotlib) (4.53.0)\r\n",
      "Requirement already satisfied: kiwisolver>=1.0.1 in /opt/conda/lib/python3.10/site-packages (from matplotlib) (1.4.5)\r\n",
      "Requirement already satisfied: numpy<2,>=1.20 in /opt/conda/lib/python3.10/site-packages (from matplotlib) (1.26.4)\r\n",
      "Requirement already satisfied: packaging>=20.0 in /opt/conda/lib/python3.10/site-packages (from matplotlib) (21.3)\r\n",
      "Requirement already satisfied: pillow>=6.2.0 in /opt/conda/lib/python3.10/site-packages (from matplotlib) (10.3.0)\r\n",
      "Requirement already satisfied: pyparsing>=2.3.1 in /opt/conda/lib/python3.10/site-packages (from matplotlib) (3.1.2)\r\n",
      "Requirement already satisfied: python-dateutil>=2.7 in /opt/conda/lib/python3.10/site-packages (from matplotlib) (2.9.0.post0)\r\n",
      "Requirement already satisfied: click in /opt/conda/lib/python3.10/site-packages (from copick) (8.1.7)\r\n",
      "Collecting cryoet-data-portal==4.0.0 (from copick)\r\n",
      "  Downloading cryoet_data_portal-4.0.0-py3-none-any.whl.metadata (2.0 kB)\r\n",
      "Requirement already satisfied: fsspec>=2024.6.0 in /opt/conda/lib/python3.10/site-packages (from copick) (2024.6.1)\r\n",
      "Collecting ome-zarr (from copick)\r\n",
      "  Downloading ome_zarr-0.9.0-py3-none-any.whl.metadata (3.4 kB)\r\n",
      "Requirement already satisfied: psutil in /opt/conda/lib/python3.10/site-packages (from copick) (5.9.3)\r\n",
      "Requirement already satisfied: pydantic>=2 in /opt/conda/lib/python3.10/site-packages (from copick) (2.9.2)\r\n",
      "Requirement already satisfied: s3fs in /opt/conda/lib/python3.10/site-packages (from copick) (2024.6.1)\r\n",
      "Requirement already satisfied: scikit-image in /opt/conda/lib/python3.10/site-packages (from copick) (0.23.2)\r\n",
      "Collecting trimesh (from copick)\r\n",
      "  Downloading trimesh-4.5.2-py3-none-any.whl.metadata (18 kB)\r\n",
      "Collecting zarr (from copick)\r\n",
      "  Downloading zarr-2.18.3-py3-none-any.whl.metadata (5.7 kB)\r\n",
      "Requirement already satisfied: requests in /opt/conda/lib/python3.10/site-packages (from cryoet-data-portal==4.0.0->copick) (2.32.3)\r\n",
      "Requirement already satisfied: boto3 in /opt/conda/lib/python3.10/site-packages (from cryoet-data-portal==4.0.0->copick) (1.26.100)\r\n",
      "Collecting deepmerge (from cryoet-data-portal==4.0.0->copick)\r\n",
      "  Downloading deepmerge-2.0-py3-none-any.whl.metadata (3.5 kB)\r\n",
      "Collecting gql[requests] (from cryoet-data-portal==4.0.0->copick)\r\n",
      "  Downloading gql-3.5.0-py2.py3-none-any.whl.metadata (9.2 kB)\r\n",
      "Collecting strcase (from cryoet-data-portal==4.0.0->copick)\r\n",
      "  Downloading strcase-1.0.0-py3-none-any.whl.metadata (1.2 kB)\r\n",
      "Requirement already satisfied: annotated-types>=0.6.0 in /opt/conda/lib/python3.10/site-packages (from pydantic>=2->copick) (0.7.0)\r\n",
      "Requirement already satisfied: pydantic-core==2.23.4 in /opt/conda/lib/python3.10/site-packages (from pydantic>=2->copick) (2.23.4)\r\n",
      "Requirement already satisfied: typing-extensions>=4.6.1 in /opt/conda/lib/python3.10/site-packages (from pydantic>=2->copick) (4.12.2)\r\n",
      "Requirement already satisfied: six>=1.5 in /opt/conda/lib/python3.10/site-packages (from python-dateutil>=2.7->matplotlib) (1.16.0)\r\n",
      "Requirement already satisfied: aiohttp<4 in /opt/conda/lib/python3.10/site-packages (from ome-zarr->copick) (3.9.5)\r\n",
      "Requirement already satisfied: dask in /opt/conda/lib/python3.10/site-packages (from ome-zarr->copick) (2024.9.1)\r\n",
      "Requirement already satisfied: distributed in /opt/conda/lib/python3.10/site-packages (from ome-zarr->copick) (2024.7.1)\r\n",
      "Requirement already satisfied: toolz in /opt/conda/lib/python3.10/site-packages (from ome-zarr->copick) (0.12.1)\r\n",
      "Collecting asciitree (from zarr->copick)\r\n",
      "  Downloading asciitree-0.3.3.tar.gz (4.0 kB)\r\n",
      "  Preparing metadata (setup.py) ... \u001b[?25l-\b \bdone\r\n",
      "\u001b[?25hCollecting numcodecs>=0.10.0 (from zarr->copick)\r\n",
      "  Downloading numcodecs-0.13.1-cp310-cp310-manylinux_2_17_x86_64.manylinux2014_x86_64.whl.metadata (2.9 kB)\r\n",
      "Requirement already satisfied: fasteners in /opt/conda/lib/python3.10/site-packages (from zarr->copick) (0.19)\r\n",
      "Requirement already satisfied: aiobotocore<3.0.0,>=2.5.4 in /opt/conda/lib/python3.10/site-packages (from s3fs->copick) (2.15.1)\r\n",
      "Requirement already satisfied: scipy>=1.9 in /opt/conda/lib/python3.10/site-packages (from scikit-image->copick) (1.14.1)\r\n",
      "Requirement already satisfied: networkx>=2.8 in /opt/conda/lib/python3.10/site-packages (from scikit-image->copick) (3.3)\r\n",
      "Requirement already satisfied: imageio>=2.33 in /opt/conda/lib/python3.10/site-packages (from scikit-image->copick) (2.34.1)\r\n",
      "Requirement already satisfied: tifffile>=2022.8.12 in /opt/conda/lib/python3.10/site-packages (from scikit-image->copick) (2024.5.22)\r\n",
      "Requirement already satisfied: lazy-loader>=0.4 in /opt/conda/lib/python3.10/site-packages (from scikit-image->copick) (0.4)\r\n",
      "Requirement already satisfied: botocore<1.35.24,>=1.35.16 in /opt/conda/lib/python3.10/site-packages (from aiobotocore<3.0.0,>=2.5.4->s3fs->copick) (1.35.23)\r\n",
      "Requirement already satisfied: wrapt<2.0.0,>=1.10.10 in /opt/conda/lib/python3.10/site-packages (from aiobotocore<3.0.0,>=2.5.4->s3fs->copick) (1.16.0)\r\n",
      "Requirement already satisfied: aioitertools<1.0.0,>=0.5.1 in /opt/conda/lib/python3.10/site-packages (from aiobotocore<3.0.0,>=2.5.4->s3fs->copick) (0.12.0)\r\n",
      "Requirement already satisfied: aiosignal>=1.1.2 in /opt/conda/lib/python3.10/site-packages (from aiohttp<4->ome-zarr->copick) (1.3.1)\r\n",
      "Requirement already satisfied: attrs>=17.3.0 in /opt/conda/lib/python3.10/site-packages (from aiohttp<4->ome-zarr->copick) (23.2.0)\r\n",
      "Requirement already satisfied: frozenlist>=1.1.1 in /opt/conda/lib/python3.10/site-packages (from aiohttp<4->ome-zarr->copick) (1.4.1)\r\n",
      "Requirement already satisfied: multidict<7.0,>=4.5 in /opt/conda/lib/python3.10/site-packages (from aiohttp<4->ome-zarr->copick) (6.0.5)\r\n",
      "Requirement already satisfied: yarl<2.0,>=1.0 in /opt/conda/lib/python3.10/site-packages (from aiohttp<4->ome-zarr->copick) (1.9.4)\r\n",
      "Requirement already satisfied: async-timeout<5.0,>=4.0 in /opt/conda/lib/python3.10/site-packages (from aiohttp<4->ome-zarr->copick) (4.0.3)\r\n",
      "INFO: pip is looking at multiple versions of boto3 to determine which version is compatible with other requirements. This could take a while.\r\n",
      "Collecting boto3 (from cryoet-data-portal==4.0.0->copick)\r\n",
      "  Downloading boto3-1.35.56-py3-none-any.whl.metadata (6.7 kB)\r\n",
      "  Downloading boto3-1.35.55-py3-none-any.whl.metadata (6.7 kB)\r\n",
      "  Downloading boto3-1.35.54-py3-none-any.whl.metadata (6.7 kB)\r\n",
      "  Downloading boto3-1.35.53-py3-none-any.whl.metadata (6.7 kB)\r\n",
      "  Downloading boto3-1.35.52-py3-none-any.whl.metadata (6.7 kB)\r\n",
      "  Downloading boto3-1.35.51-py3-none-any.whl.metadata (6.7 kB)\r\n",
      "  Downloading boto3-1.35.50-py3-none-any.whl.metadata (6.7 kB)\r\n",
      "INFO: pip is still looking at multiple versions of boto3 to determine which version is compatible with other requirements. This could take a while.\r\n",
      "  Downloading boto3-1.35.49-py3-none-any.whl.metadata (6.7 kB)\r\n",
      "  Downloading boto3-1.35.48-py3-none-any.whl.metadata (6.7 kB)\r\n",
      "  Downloading boto3-1.35.47-py3-none-any.whl.metadata (6.7 kB)\r\n",
      "  Downloading boto3-1.35.46-py3-none-any.whl.metadata (6.7 kB)\r\n",
      "  Downloading boto3-1.35.45-py3-none-any.whl.metadata (6.7 kB)\r\n",
      "INFO: This is taking longer than usual. You might need to provide the dependency resolver with stricter constraints to reduce runtime. See https://pip.pypa.io/warnings/backtracking for guidance. If you want to abort this run, press Ctrl + C.\r\n",
      "  Downloading boto3-1.35.44-py3-none-any.whl.metadata (6.7 kB)\r\n",
      "  Downloading boto3-1.35.43-py3-none-any.whl.metadata (6.7 kB)\r\n",
      "  Downloading boto3-1.35.42-py3-none-any.whl.metadata (6.7 kB)\r\n",
      "  Downloading boto3-1.35.41-py3-none-any.whl.metadata (6.7 kB)\r\n",
      "  Downloading boto3-1.35.40-py3-none-any.whl.metadata (6.7 kB)\r\n",
      "  Downloading boto3-1.35.39-py3-none-any.whl.metadata (6.7 kB)\r\n",
      "  Downloading boto3-1.35.38-py3-none-any.whl.metadata (6.7 kB)\r\n",
      "  Downloading boto3-1.35.37-py3-none-any.whl.metadata (6.7 kB)\r\n",
      "  Downloading boto3-1.35.36-py3-none-any.whl.metadata (6.7 kB)\r\n",
      "  Downloading boto3-1.35.35-py3-none-any.whl.metadata (6.6 kB)\r\n",
      "  Downloading boto3-1.35.34-py3-none-any.whl.metadata (6.6 kB)\r\n",
      "  Downloading boto3-1.35.33-py3-none-any.whl.metadata (6.6 kB)\r\n",
      "  Downloading boto3-1.35.32-py3-none-any.whl.metadata (6.6 kB)\r\n",
      "  Downloading boto3-1.35.31-py3-none-any.whl.metadata (6.6 kB)\r\n",
      "  Downloading boto3-1.35.30-py3-none-any.whl.metadata (6.6 kB)\r\n",
      "  Downloading boto3-1.35.29-py3-none-any.whl.metadata (6.6 kB)\r\n",
      "  Downloading boto3-1.35.28-py3-none-any.whl.metadata (6.6 kB)\r\n",
      "  Downloading boto3-1.35.27-py3-none-any.whl.metadata (6.6 kB)\r\n",
      "  Downloading boto3-1.35.26-py3-none-any.whl.metadata (6.6 kB)\r\n",
      "  Downloading boto3-1.35.25-py3-none-any.whl.metadata (6.6 kB)\r\n",
      "  Downloading boto3-1.35.24-py3-none-any.whl.metadata (6.6 kB)\r\n",
      "  Downloading boto3-1.35.23-py3-none-any.whl.metadata (6.6 kB)\r\n",
      "Requirement already satisfied: jmespath<2.0.0,>=0.7.1 in /opt/conda/lib/python3.10/site-packages (from boto3->cryoet-data-portal==4.0.0->copick) (1.0.1)\r\n",
      "Collecting s3transfer<0.11.0,>=0.10.0 (from boto3->cryoet-data-portal==4.0.0->copick)\r\n",
      "  Downloading s3transfer-0.10.3-py3-none-any.whl.metadata (1.7 kB)\r\n",
      "Requirement already satisfied: cloudpickle>=3.0.0 in /opt/conda/lib/python3.10/site-packages (from dask->ome-zarr->copick) (3.0.0)\r\n",
      "Requirement already satisfied: partd>=1.4.0 in /opt/conda/lib/python3.10/site-packages (from dask->ome-zarr->copick) (1.4.2)\r\n",
      "Requirement already satisfied: pyyaml>=5.3.1 in /opt/conda/lib/python3.10/site-packages (from dask->ome-zarr->copick) (6.0.2)\r\n",
      "Requirement already satisfied: importlib-metadata>=4.13.0 in /opt/conda/lib/python3.10/site-packages (from dask->ome-zarr->copick) (7.0.0)\r\n",
      "Collecting dask (from ome-zarr->copick)\r\n",
      "  Downloading dask-2024.7.1-py3-none-any.whl.metadata (3.8 kB)\r\n",
      "Requirement already satisfied: jinja2>=2.10.3 in /opt/conda/lib/python3.10/site-packages (from distributed->ome-zarr->copick) (3.1.4)\r\n",
      "Requirement already satisfied: locket>=1.0.0 in /opt/conda/lib/python3.10/site-packages (from distributed->ome-zarr->copick) (1.0.0)\r\n",
      "Requirement already satisfied: msgpack>=1.0.0 in /opt/conda/lib/python3.10/site-packages (from distributed->ome-zarr->copick) (1.0.8)\r\n",
      "Requirement already satisfied: sortedcontainers>=2.0.5 in /opt/conda/lib/python3.10/site-packages (from distributed->ome-zarr->copick) (2.4.0)\r\n",
      "Requirement already satisfied: tblib>=1.6.0 in /opt/conda/lib/python3.10/site-packages (from distributed->ome-zarr->copick) (3.0.0)\r\n",
      "Requirement already satisfied: tornado>=6.0.4 in /opt/conda/lib/python3.10/site-packages (from distributed->ome-zarr->copick) (6.4.1)\r\n",
      "Requirement already satisfied: urllib3>=1.24.3 in /opt/conda/lib/python3.10/site-packages (from distributed->ome-zarr->copick) (1.26.18)\r\n",
      "Requirement already satisfied: zict>=3.0.0 in /opt/conda/lib/python3.10/site-packages (from distributed->ome-zarr->copick) (3.0.0)\r\n",
      "Collecting graphql-core<3.3,>=3.2 (from gql[requests]->cryoet-data-portal==4.0.0->copick)\r\n",
      "  Downloading graphql_core-3.2.5-py3-none-any.whl.metadata (10 kB)\r\n",
      "Collecting backoff<3.0,>=1.11.1 (from gql[requests]->cryoet-data-portal==4.0.0->copick)\r\n",
      "  Downloading backoff-2.2.1-py3-none-any.whl.metadata (14 kB)\r\n",
      "Requirement already satisfied: anyio<5,>=3.0 in /opt/conda/lib/python3.10/site-packages (from gql[requests]->cryoet-data-portal==4.0.0->copick) (4.4.0)\r\n",
      "Collecting requests-toolbelt<2,>=1.0.0 (from gql[requests]->cryoet-data-portal==4.0.0->copick)\r\n",
      "  Downloading requests_toolbelt-1.0.0-py2.py3-none-any.whl.metadata (14 kB)\r\n",
      "Requirement already satisfied: charset-normalizer<4,>=2 in /opt/conda/lib/python3.10/site-packages (from requests->cryoet-data-portal==4.0.0->copick) (3.3.2)\r\n",
      "Requirement already satisfied: idna<4,>=2.5 in /opt/conda/lib/python3.10/site-packages (from requests->cryoet-data-portal==4.0.0->copick) (3.7)\r\n",
      "Requirement already satisfied: certifi>=2017.4.17 in /opt/conda/lib/python3.10/site-packages (from requests->cryoet-data-portal==4.0.0->copick) (2024.8.30)\r\n",
      "Requirement already satisfied: sniffio>=1.1 in /opt/conda/lib/python3.10/site-packages (from anyio<5,>=3.0->gql[requests]->cryoet-data-portal==4.0.0->copick) (1.3.1)\r\n",
      "Requirement already satisfied: exceptiongroup>=1.0.2 in /opt/conda/lib/python3.10/site-packages (from anyio<5,>=3.0->gql[requests]->cryoet-data-portal==4.0.0->copick) (1.2.0)\r\n",
      "Requirement already satisfied: zipp>=0.5 in /opt/conda/lib/python3.10/site-packages (from importlib-metadata>=4.13.0->dask->ome-zarr->copick) (3.19.2)\r\n",
      "Requirement already satisfied: MarkupSafe>=2.0 in /opt/conda/lib/python3.10/site-packages (from jinja2>=2.10.3->distributed->ome-zarr->copick) (2.1.5)\r\n",
      "Downloading copick-0.6.0-py3-none-any.whl (32 kB)\r\n",
      "Downloading cryoet_data_portal-4.0.0-py3-none-any.whl (46 kB)\r\n",
      "\u001b[2K   \u001b[90m━━━━━━━━━━━━━━━━━━━━━━━━━━━━━━━━━━━━━━━━\u001b[0m \u001b[32m46.7/46.7 kB\u001b[0m \u001b[31m3.3 MB/s\u001b[0m eta \u001b[36m0:00:00\u001b[0m\r\n",
      "\u001b[?25hDownloading ome_zarr-0.9.0-py3-none-any.whl (37 kB)\r\n",
      "Downloading zarr-2.18.3-py3-none-any.whl (210 kB)\r\n",
      "\u001b[2K   \u001b[90m━━━━━━━━━━━━━━━━━━━━━━━━━━━━━━━━━━━━━━━━\u001b[0m \u001b[32m210.7/210.7 kB\u001b[0m \u001b[31m7.7 MB/s\u001b[0m eta \u001b[36m0:00:00\u001b[0m\r\n",
      "\u001b[?25hDownloading trimesh-4.5.2-py3-none-any.whl (704 kB)\r\n",
      "\u001b[2K   \u001b[90m━━━━━━━━━━━━━━━━━━━━━━━━━━━━━━━━━━━━━━━━\u001b[0m \u001b[32m704.4/704.4 kB\u001b[0m \u001b[31m25.9 MB/s\u001b[0m eta \u001b[36m0:00:00\u001b[0m\r\n",
      "\u001b[?25hDownloading numcodecs-0.13.1-cp310-cp310-manylinux_2_17_x86_64.manylinux2014_x86_64.whl (8.6 MB)\r\n",
      "\u001b[2K   \u001b[90m━━━━━━━━━━━━━━━━━━━━━━━━━━━━━━━━━━━━━━━━\u001b[0m \u001b[32m8.6/8.6 MB\u001b[0m \u001b[31m71.3 MB/s\u001b[0m eta \u001b[36m0:00:00\u001b[0m\r\n",
      "\u001b[?25hDownloading boto3-1.35.23-py3-none-any.whl (139 kB)\r\n",
      "\u001b[2K   \u001b[90m━━━━━━━━━━━━━━━━━━━━━━━━━━━━━━━━━━━━━━━━\u001b[0m \u001b[32m139.2/139.2 kB\u001b[0m \u001b[31m13.4 MB/s\u001b[0m eta \u001b[36m0:00:00\u001b[0m\r\n",
      "\u001b[?25hDownloading deepmerge-2.0-py3-none-any.whl (13 kB)\r\n",
      "Downloading dask-2024.7.1-py3-none-any.whl (1.2 MB)\r\n",
      "\u001b[2K   \u001b[90m━━━━━━━━━━━━━━━━━━━━━━━━━━━━━━━━━━━━━━━━\u001b[0m \u001b[32m1.2/1.2 MB\u001b[0m \u001b[31m59.4 MB/s\u001b[0m eta \u001b[36m0:00:00\u001b[0m\r\n",
      "\u001b[?25hDownloading strcase-1.0.0-py3-none-any.whl (3.2 kB)\r\n",
      "Downloading backoff-2.2.1-py3-none-any.whl (15 kB)\r\n",
      "Downloading graphql_core-3.2.5-py3-none-any.whl (203 kB)\r\n",
      "\u001b[2K   \u001b[90m━━━━━━━━━━━━━━━━━━━━━━━━━━━━━━━━━━━━━━━━\u001b[0m \u001b[32m203.2/203.2 kB\u001b[0m \u001b[31m16.5 MB/s\u001b[0m eta \u001b[36m0:00:00\u001b[0m\r\n",
      "\u001b[?25hDownloading requests_toolbelt-1.0.0-py2.py3-none-any.whl (54 kB)\r\n",
      "\u001b[2K   \u001b[90m━━━━━━━━━━━━━━━━━━━━━━━━━━━━━━━━━━━━━━━━\u001b[0m \u001b[32m54.5/54.5 kB\u001b[0m \u001b[31m4.9 MB/s\u001b[0m eta \u001b[36m0:00:00\u001b[0m\r\n",
      "\u001b[?25hDownloading s3transfer-0.10.3-py3-none-any.whl (82 kB)\r\n",
      "\u001b[2K   \u001b[90m━━━━━━━━━━━━━━━━━━━━━━━━━━━━━━━━━━━━━━━━\u001b[0m \u001b[32m82.6/82.6 kB\u001b[0m \u001b[31m7.0 MB/s\u001b[0m eta \u001b[36m0:00:00\u001b[0m\r\n",
      "\u001b[?25hDownloading gql-3.5.0-py2.py3-none-any.whl (74 kB)\r\n",
      "\u001b[2K   \u001b[90m━━━━━━━━━━━━━━━━━━━━━━━━━━━━━━━━━━━━━━━━\u001b[0m \u001b[32m74.0/74.0 kB\u001b[0m \u001b[31m6.3 MB/s\u001b[0m eta \u001b[36m0:00:00\u001b[0m\r\n",
      "\u001b[?25hBuilding wheels for collected packages: copick-utils, asciitree\r\n",
      "  Building wheel for copick-utils (pyproject.toml) ... \u001b[?25ldone\r\n",
      "\u001b[?25h  Created wheel for copick-utils: filename=copick_utils-0.0.1-py3-none-any.whl size=10827 sha256=2f15064f0c3697dcecb19c227060a7c5554c2563961bbda5825207ee40a9d283\r\n",
      "  Stored in directory: /tmp/pip-ephem-wheel-cache-65797ax5/wheels/a6/a7/39/72b64bd4eecf4d57d5d4e1fcec96fdb0cd49ae7dbb336fcc4c\r\n",
      "  Building wheel for asciitree (setup.py) ... \u001b[?25l-\b \b\\\b \bdone\r\n",
      "\u001b[?25h  Created wheel for asciitree: filename=asciitree-0.3.3-py3-none-any.whl size=5034 sha256=e2c72baefaf31089a3ffe36fffbd82601c0b3db31954bf16d9ea83537602a996\r\n",
      "  Stored in directory: /root/.cache/pip/wheels/7f/4e/be/1171b40f43b918087657ec57cf3b81fa1a2e027d8755baa184\r\n",
      "Successfully built copick-utils asciitree\r\n",
      "Installing collected packages: strcase, asciitree, trimesh, numcodecs, graphql-core, deepmerge, copick-utils, backoff, zarr, requests-toolbelt, gql, dask, s3transfer, boto3, cryoet-data-portal, ome-zarr, copick\r\n",
      "  Attempting uninstall: requests-toolbelt\r\n",
      "    Found existing installation: requests-toolbelt 0.10.1\r\n",
      "    Uninstalling requests-toolbelt-0.10.1:\r\n",
      "      Successfully uninstalled requests-toolbelt-0.10.1\r\n",
      "  Attempting uninstall: dask\r\n",
      "    Found existing installation: dask 2024.9.1\r\n",
      "    Uninstalling dask-2024.9.1:\r\n",
      "      Successfully uninstalled dask-2024.9.1\r\n",
      "  Attempting uninstall: s3transfer\r\n",
      "    Found existing installation: s3transfer 0.6.2\r\n",
      "    Uninstalling s3transfer-0.6.2:\r\n",
      "      Successfully uninstalled s3transfer-0.6.2\r\n",
      "  Attempting uninstall: boto3\r\n",
      "    Found existing installation: boto3 1.26.100\r\n",
      "    Uninstalling boto3-1.26.100:\r\n",
      "      Successfully uninstalled boto3-1.26.100\r\n",
      "\u001b[31mERROR: pip's dependency resolver does not currently take into account all the packages that are installed. This behaviour is the source of the following dependency conflicts.\r\n",
      "cesium 0.12.3 requires numpy<3.0,>=2.0, but you have numpy 1.26.4 which is incompatible.\r\n",
      "dask-expr 1.1.15 requires dask==2024.9.1, but you have dask 2024.7.1 which is incompatible.\r\n",
      "kfp 2.5.0 requires google-cloud-storage<3,>=2.2.1, but you have google-cloud-storage 1.44.0 which is incompatible.\r\n",
      "kfp 2.5.0 requires requests-toolbelt<1,>=0.8.0, but you have requests-toolbelt 1.0.0 which is incompatible.\u001b[0m\u001b[31m\r\n",
      "\u001b[0mSuccessfully installed asciitree-0.3.3 backoff-2.2.1 boto3-1.35.23 copick-0.6.0 copick-utils-0.0.1 cryoet-data-portal-4.0.0 dask-2024.7.1 deepmerge-2.0 gql-3.5.0 graphql-core-3.2.5 numcodecs-0.13.1 ome-zarr-0.9.0 requests-toolbelt-1.0.0 s3transfer-0.10.3 strcase-1.0.0 trimesh-4.5.2 zarr-2.18.3\r\n",
      "\u001b[31mERROR: pip's dependency resolver does not currently take into account all the packages that are installed. This behaviour is the source of the following dependency conflicts.\r\n",
      "cudf 24.8.3 requires cubinlinker, which is not installed.\r\n",
      "cudf 24.8.3 requires cupy-cuda11x>=12.0.0, which is not installed.\r\n",
      "cudf 24.8.3 requires ptxcompiler, which is not installed.\r\n",
      "cuml 24.8.0 requires cupy-cuda11x>=12.0.0, which is not installed.\r\n",
      "dask-cudf 24.8.3 requires cupy-cuda11x>=12.0.0, which is not installed.\r\n",
      "cudf 24.8.3 requires cuda-python<12.0a0,>=11.7.1, but you have cuda-python 12.6.0 which is incompatible.\r\n",
      "dataproc-jupyter-plugin 0.1.79 requires pydantic~=1.10.0, but you have pydantic 2.9.2 which is incompatible.\r\n",
      "kfp 2.5.0 requires google-cloud-storage<3,>=2.2.1, but you have google-cloud-storage 1.44.0 which is incompatible.\r\n",
      "kfp 2.5.0 requires requests-toolbelt<1,>=0.8.0, but you have requests-toolbelt 1.0.0 which is incompatible.\u001b[0m\u001b[31m\r\n",
      "\u001b[0m"
     ]
    }
   ],
   "source": [
    "!pip install git+https://github.com/copick/copick-utils.git matplotlib tqdm copick \n",
    "!pip install -q \"monai-weekly[mlflow]\""
   ]
  },
  {
   "cell_type": "code",
   "execution_count": 2,
   "id": "a56247de",
   "metadata": {
    "execution": {
     "iopub.execute_input": "2024-11-08T05:28:44.348092Z",
     "iopub.status.busy": "2024-11-08T05:28:44.347276Z",
     "iopub.status.idle": "2024-11-08T05:28:44.598471Z",
     "shell.execute_reply": "2024-11-08T05:28:44.597386Z"
    },
    "papermill": {
     "duration": 0.268594,
     "end_time": "2024-11-08T05:28:44.600443",
     "exception": false,
     "start_time": "2024-11-08T05:28:44.331849",
     "status": "completed"
    },
    "tags": []
   },
   "outputs": [
    {
     "name": "stdout",
     "output_type": "stream",
     "text": [
      "Copied /kaggle/input/czii-cryo-et-object-identification/train/overlay/ExperimentRuns/TS_86_3/Picks/beta-amylase.json to /kaggle/working/overlay/ExperimentRuns/TS_86_3/Picks/curation_0_beta-amylase.json\n",
      "Copied /kaggle/input/czii-cryo-et-object-identification/train/overlay/ExperimentRuns/TS_86_3/Picks/beta-galactosidase.json to /kaggle/working/overlay/ExperimentRuns/TS_86_3/Picks/curation_0_beta-galactosidase.json\n",
      "Copied /kaggle/input/czii-cryo-et-object-identification/train/overlay/ExperimentRuns/TS_86_3/Picks/apo-ferritin.json to /kaggle/working/overlay/ExperimentRuns/TS_86_3/Picks/curation_0_apo-ferritin.json\n",
      "Copied /kaggle/input/czii-cryo-et-object-identification/train/overlay/ExperimentRuns/TS_86_3/Picks/virus-like-particle.json to /kaggle/working/overlay/ExperimentRuns/TS_86_3/Picks/curation_0_virus-like-particle.json\n",
      "Copied /kaggle/input/czii-cryo-et-object-identification/train/overlay/ExperimentRuns/TS_86_3/Picks/ribosome.json to /kaggle/working/overlay/ExperimentRuns/TS_86_3/Picks/curation_0_ribosome.json\n",
      "Copied /kaggle/input/czii-cryo-et-object-identification/train/overlay/ExperimentRuns/TS_86_3/Picks/thyroglobulin.json to /kaggle/working/overlay/ExperimentRuns/TS_86_3/Picks/curation_0_thyroglobulin.json\n",
      "Copied /kaggle/input/czii-cryo-et-object-identification/train/overlay/ExperimentRuns/TS_6_6/Picks/beta-amylase.json to /kaggle/working/overlay/ExperimentRuns/TS_6_6/Picks/curation_0_beta-amylase.json\n",
      "Copied /kaggle/input/czii-cryo-et-object-identification/train/overlay/ExperimentRuns/TS_6_6/Picks/beta-galactosidase.json to /kaggle/working/overlay/ExperimentRuns/TS_6_6/Picks/curation_0_beta-galactosidase.json\n",
      "Copied /kaggle/input/czii-cryo-et-object-identification/train/overlay/ExperimentRuns/TS_6_6/Picks/apo-ferritin.json to /kaggle/working/overlay/ExperimentRuns/TS_6_6/Picks/curation_0_apo-ferritin.json\n",
      "Copied /kaggle/input/czii-cryo-et-object-identification/train/overlay/ExperimentRuns/TS_6_6/Picks/virus-like-particle.json to /kaggle/working/overlay/ExperimentRuns/TS_6_6/Picks/curation_0_virus-like-particle.json\n",
      "Copied /kaggle/input/czii-cryo-et-object-identification/train/overlay/ExperimentRuns/TS_6_6/Picks/ribosome.json to /kaggle/working/overlay/ExperimentRuns/TS_6_6/Picks/curation_0_ribosome.json\n",
      "Copied /kaggle/input/czii-cryo-et-object-identification/train/overlay/ExperimentRuns/TS_6_6/Picks/thyroglobulin.json to /kaggle/working/overlay/ExperimentRuns/TS_6_6/Picks/curation_0_thyroglobulin.json\n",
      "Copied /kaggle/input/czii-cryo-et-object-identification/train/overlay/ExperimentRuns/TS_6_4/Picks/beta-amylase.json to /kaggle/working/overlay/ExperimentRuns/TS_6_4/Picks/curation_0_beta-amylase.json\n",
      "Copied /kaggle/input/czii-cryo-et-object-identification/train/overlay/ExperimentRuns/TS_6_4/Picks/beta-galactosidase.json to /kaggle/working/overlay/ExperimentRuns/TS_6_4/Picks/curation_0_beta-galactosidase.json\n",
      "Copied /kaggle/input/czii-cryo-et-object-identification/train/overlay/ExperimentRuns/TS_6_4/Picks/apo-ferritin.json to /kaggle/working/overlay/ExperimentRuns/TS_6_4/Picks/curation_0_apo-ferritin.json\n",
      "Copied /kaggle/input/czii-cryo-et-object-identification/train/overlay/ExperimentRuns/TS_6_4/Picks/virus-like-particle.json to /kaggle/working/overlay/ExperimentRuns/TS_6_4/Picks/curation_0_virus-like-particle.json\n",
      "Copied /kaggle/input/czii-cryo-et-object-identification/train/overlay/ExperimentRuns/TS_6_4/Picks/ribosome.json to /kaggle/working/overlay/ExperimentRuns/TS_6_4/Picks/curation_0_ribosome.json\n",
      "Copied /kaggle/input/czii-cryo-et-object-identification/train/overlay/ExperimentRuns/TS_6_4/Picks/thyroglobulin.json to /kaggle/working/overlay/ExperimentRuns/TS_6_4/Picks/curation_0_thyroglobulin.json\n",
      "Copied /kaggle/input/czii-cryo-et-object-identification/train/overlay/ExperimentRuns/TS_5_4/Picks/beta-amylase.json to /kaggle/working/overlay/ExperimentRuns/TS_5_4/Picks/curation_0_beta-amylase.json\n",
      "Copied /kaggle/input/czii-cryo-et-object-identification/train/overlay/ExperimentRuns/TS_5_4/Picks/beta-galactosidase.json to /kaggle/working/overlay/ExperimentRuns/TS_5_4/Picks/curation_0_beta-galactosidase.json\n",
      "Copied /kaggle/input/czii-cryo-et-object-identification/train/overlay/ExperimentRuns/TS_5_4/Picks/apo-ferritin.json to /kaggle/working/overlay/ExperimentRuns/TS_5_4/Picks/curation_0_apo-ferritin.json\n",
      "Copied /kaggle/input/czii-cryo-et-object-identification/train/overlay/ExperimentRuns/TS_5_4/Picks/virus-like-particle.json to /kaggle/working/overlay/ExperimentRuns/TS_5_4/Picks/curation_0_virus-like-particle.json\n",
      "Copied /kaggle/input/czii-cryo-et-object-identification/train/overlay/ExperimentRuns/TS_5_4/Picks/ribosome.json to /kaggle/working/overlay/ExperimentRuns/TS_5_4/Picks/curation_0_ribosome.json\n",
      "Copied /kaggle/input/czii-cryo-et-object-identification/train/overlay/ExperimentRuns/TS_5_4/Picks/thyroglobulin.json to /kaggle/working/overlay/ExperimentRuns/TS_5_4/Picks/curation_0_thyroglobulin.json\n",
      "Copied /kaggle/input/czii-cryo-et-object-identification/train/overlay/ExperimentRuns/TS_73_6/Picks/beta-amylase.json to /kaggle/working/overlay/ExperimentRuns/TS_73_6/Picks/curation_0_beta-amylase.json\n",
      "Copied /kaggle/input/czii-cryo-et-object-identification/train/overlay/ExperimentRuns/TS_73_6/Picks/beta-galactosidase.json to /kaggle/working/overlay/ExperimentRuns/TS_73_6/Picks/curation_0_beta-galactosidase.json\n",
      "Copied /kaggle/input/czii-cryo-et-object-identification/train/overlay/ExperimentRuns/TS_73_6/Picks/apo-ferritin.json to /kaggle/working/overlay/ExperimentRuns/TS_73_6/Picks/curation_0_apo-ferritin.json\n",
      "Copied /kaggle/input/czii-cryo-et-object-identification/train/overlay/ExperimentRuns/TS_73_6/Picks/virus-like-particle.json to /kaggle/working/overlay/ExperimentRuns/TS_73_6/Picks/curation_0_virus-like-particle.json\n",
      "Copied /kaggle/input/czii-cryo-et-object-identification/train/overlay/ExperimentRuns/TS_73_6/Picks/ribosome.json to /kaggle/working/overlay/ExperimentRuns/TS_73_6/Picks/curation_0_ribosome.json\n",
      "Copied /kaggle/input/czii-cryo-et-object-identification/train/overlay/ExperimentRuns/TS_73_6/Picks/thyroglobulin.json to /kaggle/working/overlay/ExperimentRuns/TS_73_6/Picks/curation_0_thyroglobulin.json\n",
      "Copied /kaggle/input/czii-cryo-et-object-identification/train/overlay/ExperimentRuns/TS_99_9/Picks/beta-amylase.json to /kaggle/working/overlay/ExperimentRuns/TS_99_9/Picks/curation_0_beta-amylase.json\n",
      "Copied /kaggle/input/czii-cryo-et-object-identification/train/overlay/ExperimentRuns/TS_99_9/Picks/beta-galactosidase.json to /kaggle/working/overlay/ExperimentRuns/TS_99_9/Picks/curation_0_beta-galactosidase.json\n",
      "Copied /kaggle/input/czii-cryo-et-object-identification/train/overlay/ExperimentRuns/TS_99_9/Picks/apo-ferritin.json to /kaggle/working/overlay/ExperimentRuns/TS_99_9/Picks/curation_0_apo-ferritin.json\n",
      "Copied /kaggle/input/czii-cryo-et-object-identification/train/overlay/ExperimentRuns/TS_99_9/Picks/virus-like-particle.json to /kaggle/working/overlay/ExperimentRuns/TS_99_9/Picks/curation_0_virus-like-particle.json\n",
      "Copied /kaggle/input/czii-cryo-et-object-identification/train/overlay/ExperimentRuns/TS_99_9/Picks/ribosome.json to /kaggle/working/overlay/ExperimentRuns/TS_99_9/Picks/curation_0_ribosome.json\n",
      "Copied /kaggle/input/czii-cryo-et-object-identification/train/overlay/ExperimentRuns/TS_99_9/Picks/thyroglobulin.json to /kaggle/working/overlay/ExperimentRuns/TS_99_9/Picks/curation_0_thyroglobulin.json\n",
      "Copied /kaggle/input/czii-cryo-et-object-identification/train/overlay/ExperimentRuns/TS_69_2/Picks/beta-amylase.json to /kaggle/working/overlay/ExperimentRuns/TS_69_2/Picks/curation_0_beta-amylase.json\n",
      "Copied /kaggle/input/czii-cryo-et-object-identification/train/overlay/ExperimentRuns/TS_69_2/Picks/beta-galactosidase.json to /kaggle/working/overlay/ExperimentRuns/TS_69_2/Picks/curation_0_beta-galactosidase.json\n",
      "Copied /kaggle/input/czii-cryo-et-object-identification/train/overlay/ExperimentRuns/TS_69_2/Picks/apo-ferritin.json to /kaggle/working/overlay/ExperimentRuns/TS_69_2/Picks/curation_0_apo-ferritin.json\n",
      "Copied /kaggle/input/czii-cryo-et-object-identification/train/overlay/ExperimentRuns/TS_69_2/Picks/virus-like-particle.json to /kaggle/working/overlay/ExperimentRuns/TS_69_2/Picks/curation_0_virus-like-particle.json\n",
      "Copied /kaggle/input/czii-cryo-et-object-identification/train/overlay/ExperimentRuns/TS_69_2/Picks/ribosome.json to /kaggle/working/overlay/ExperimentRuns/TS_69_2/Picks/curation_0_ribosome.json\n",
      "Copied /kaggle/input/czii-cryo-et-object-identification/train/overlay/ExperimentRuns/TS_69_2/Picks/thyroglobulin.json to /kaggle/working/overlay/ExperimentRuns/TS_69_2/Picks/curation_0_thyroglobulin.json\n"
     ]
    }
   ],
   "source": [
    "# Make a copick project\n",
    "import os\n",
    "import shutil\n",
    "\n",
    "config_blob = \"\"\"{\n",
    "    \"name\": \"czii_cryoet_mlchallenge_2024\",\n",
    "    \"description\": \"2024 CZII CryoET ML Challenge training data.\",\n",
    "    \"version\": \"1.0.0\",\n",
    "\n",
    "    \"pickable_objects\": [\n",
    "        {\n",
    "            \"name\": \"apo-ferritin\",\n",
    "            \"is_particle\": true,\n",
    "            \"pdb_id\": \"4V1W\",\n",
    "            \"label\": 1,\n",
    "            \"color\": [  0, 117, 220, 128],\n",
    "            \"radius\": 60,\n",
    "            \"map_threshold\": 0.0418\n",
    "        },\n",
    "        {\n",
    "            \"name\": \"beta-galactosidase\",\n",
    "            \"is_particle\": true,\n",
    "            \"pdb_id\": \"6X1Q\",\n",
    "            \"label\": 3,\n",
    "            \"color\": [ 76,   0,  92, 128],\n",
    "            \"radius\": 90,\n",
    "            \"map_threshold\": 0.0578\n",
    "        },\n",
    "        {\n",
    "            \"name\": \"ribosome\",\n",
    "            \"is_particle\": true,\n",
    "            \"pdb_id\": \"6EK0\",\n",
    "            \"label\": 4,\n",
    "            \"color\": [  0,  92,  49, 128],\n",
    "            \"radius\": 150,\n",
    "            \"map_threshold\": 0.0374\n",
    "        },\n",
    "        {\n",
    "            \"name\": \"thyroglobulin\",\n",
    "            \"is_particle\": true,\n",
    "            \"pdb_id\": \"6SCJ\",\n",
    "            \"label\": 5,\n",
    "            \"color\": [ 43, 206,  72, 128],\n",
    "            \"radius\": 130,\n",
    "            \"map_threshold\": 0.0278\n",
    "        },\n",
    "        {\n",
    "            \"name\": \"virus-like-particle\",\n",
    "            \"is_particle\": true,\n",
    "            \"label\": 6,\n",
    "            \"color\": [255, 204, 153, 128],\n",
    "            \"radius\": 135,\n",
    "            \"map_threshold\": 0.201\n",
    "        },\n",
    "        {\n",
    "            \"name\": \"membrane\",\n",
    "            \"is_particle\": false,\n",
    "            \"label\": 8,\n",
    "            \"color\": [100, 100, 100, 128]\n",
    "        },\n",
    "        {\n",
    "            \"name\": \"background\",\n",
    "            \"is_particle\": false,\n",
    "            \"label\": 9,\n",
    "            \"color\": [10, 150, 200, 128]\n",
    "        }\n",
    "    ],\n",
    "\n",
    "    \"overlay_root\": \"/kaggle/working/overlay\",\n",
    "\n",
    "    \"overlay_fs_args\": {\n",
    "        \"auto_mkdir\": true\n",
    "    },\n",
    "\n",
    "    \"static_root\": \"/kaggle/input/czii-cryo-et-object-identification/train/static\"\n",
    "}\"\"\"\n",
    "\n",
    "copick_config_path = \"/kaggle/working/copick.config\"\n",
    "output_overlay = \"/kaggle/working/overlay\"\n",
    "\n",
    "with open(copick_config_path, \"w\") as f:\n",
    "    f.write(config_blob)\n",
    "    \n",
    "# Update the overlay\n",
    "# Define source and destination directories\n",
    "source_dir = '/kaggle/input/czii-cryo-et-object-identification/train/overlay'\n",
    "destination_dir = '/kaggle/working/overlay'\n",
    "\n",
    "# Walk through the source directory\n",
    "for root, dirs, files in os.walk(source_dir):\n",
    "    # Create corresponding subdirectories in the destination\n",
    "    relative_path = os.path.relpath(root, source_dir)\n",
    "    target_dir = os.path.join(destination_dir, relative_path)\n",
    "    os.makedirs(target_dir, exist_ok=True)\n",
    "    \n",
    "    # Copy and rename each file\n",
    "    for file in files:\n",
    "        if file.startswith(\"curation_0_\"):\n",
    "            new_filename = file\n",
    "        else:\n",
    "            new_filename = f\"curation_0_{file}\"\n",
    "            \n",
    "        \n",
    "        # Define full paths for the source and destination files\n",
    "        source_file = os.path.join(root, file)\n",
    "        destination_file = os.path.join(target_dir, new_filename)\n",
    "        \n",
    "        # Copy the file with the new name\n",
    "        shutil.copy2(source_file, destination_file)\n",
    "        print(f\"Copied {source_file} to {destination_file}\")\n"
   ]
  },
  {
   "cell_type": "code",
   "execution_count": 3,
   "id": "a49917aa",
   "metadata": {
    "execution": {
     "iopub.execute_input": "2024-11-08T05:28:44.631328Z",
     "iopub.status.busy": "2024-11-08T05:28:44.631008Z",
     "iopub.status.idle": "2024-11-08T05:29:34.750657Z",
     "shell.execute_reply": "2024-11-08T05:29:34.749691Z"
    },
    "papermill": {
     "duration": 50.137731,
     "end_time": "2024-11-08T05:29:34.753132",
     "exception": false,
     "start_time": "2024-11-08T05:28:44.615401",
     "status": "completed"
    },
    "tags": []
   },
   "outputs": [],
   "source": [
    "import os\n",
    "import numpy as np\n",
    "from pathlib import Path\n",
    "import torch\n",
    "import torchinfo\n",
    "import zarr, copick\n",
    "from tqdm import tqdm\n",
    "from monai.data import DataLoader, Dataset, CacheDataset, decollate_batch\n",
    "from monai.transforms import (\n",
    "    Compose, \n",
    "    EnsureChannelFirstd, \n",
    "    Orientationd,  \n",
    "    AsDiscrete,  \n",
    "    RandFlipd, \n",
    "    RandRotate90d, \n",
    "    NormalizeIntensityd,\n",
    "    RandCropByLabelClassesd,\n",
    ")\n",
    "from monai.networks.nets import UNet\n",
    "from monai.losses import DiceLoss, FocalLoss, TverskyLoss\n",
    "from monai.metrics import DiceMetric, ConfusionMatrixMetric\n",
    "import mlflow\n",
    "import mlflow.pytorch"
   ]
  },
  {
   "cell_type": "markdown",
   "id": "4946718e",
   "metadata": {
    "papermill": {
     "duration": 0.01523,
     "end_time": "2024-11-08T05:29:34.788939",
     "exception": false,
     "start_time": "2024-11-08T05:29:34.773709",
     "status": "completed"
    },
    "tags": []
   },
   "source": [
    "## prepare the dataset"
   ]
  },
  {
   "cell_type": "markdown",
   "id": "52d43f44",
   "metadata": {
    "papermill": {
     "duration": 0.014385,
     "end_time": "2024-11-08T05:29:34.818005",
     "exception": false,
     "start_time": "2024-11-08T05:29:34.803620",
     "status": "completed"
    },
    "tags": []
   },
   "source": [
    "1. Get copick root"
   ]
  },
  {
   "cell_type": "code",
   "execution_count": 4,
   "id": "28d35546",
   "metadata": {
    "execution": {
     "iopub.execute_input": "2024-11-08T05:29:34.849843Z",
     "iopub.status.busy": "2024-11-08T05:29:34.848510Z",
     "iopub.status.idle": "2024-11-08T05:29:34.855580Z",
     "shell.execute_reply": "2024-11-08T05:29:34.854719Z"
    },
    "papermill": {
     "duration": 0.024755,
     "end_time": "2024-11-08T05:29:34.857648",
     "exception": false,
     "start_time": "2024-11-08T05:29:34.832893",
     "status": "completed"
    },
    "tags": []
   },
   "outputs": [
    {
     "name": "stderr",
     "output_type": "stream",
     "text": [
      "/tmp/ipykernel_23/1739253755.py:1: DeprecationWarning: config_type not found in config file, defaulting to filesystem\n",
      "  root = copick.from_file(copick_config_path)\n"
     ]
    }
   ],
   "source": [
    "root = copick.from_file(copick_config_path)\n",
    "\n",
    "copick_user_name = \"copickUtils\"\n",
    "copick_segmentation_name = \"paintedPicks\"\n",
    "voxel_size = 10\n",
    "tomo_type = \"denoised\""
   ]
  },
  {
   "cell_type": "markdown",
   "id": "4f68492e",
   "metadata": {
    "papermill": {
     "duration": 0.01439,
     "end_time": "2024-11-08T05:29:34.886544",
     "exception": false,
     "start_time": "2024-11-08T05:29:34.872154",
     "status": "completed"
    },
    "tags": []
   },
   "source": [
    "2. Generate multi-class segmentation masks from picks, and saved them to the copick overlay directory (one-time)"
   ]
  },
  {
   "cell_type": "code",
   "execution_count": 5,
   "id": "9de9c232",
   "metadata": {
    "execution": {
     "iopub.execute_input": "2024-11-08T05:29:34.916831Z",
     "iopub.status.busy": "2024-11-08T05:29:34.916498Z",
     "iopub.status.idle": "2024-11-08T05:29:48.783938Z",
     "shell.execute_reply": "2024-11-08T05:29:48.782945Z"
    },
    "papermill": {
     "duration": 13.885022,
     "end_time": "2024-11-08T05:29:48.786132",
     "exception": false,
     "start_time": "2024-11-08T05:29:34.901110",
     "status": "completed"
    },
    "tags": []
   },
   "outputs": [
    {
     "name": "stderr",
     "output_type": "stream",
     "text": [
      "100%|██████████| 7/7 [00:13<00:00,  1.98s/it]\n"
     ]
    }
   ],
   "source": [
    "from copick_utils.segmentation import segmentation_from_picks\n",
    "import copick_utils.writers.write as write\n",
    "from collections import defaultdict\n",
    "\n",
    "# Just do this once\n",
    "generate_masks = True\n",
    "\n",
    "if generate_masks:\n",
    "    target_objects = defaultdict(dict)\n",
    "    for object in root.pickable_objects:\n",
    "        if object.is_particle:\n",
    "            target_objects[object.name]['label'] = object.label\n",
    "            target_objects[object.name]['radius'] = object.radius\n",
    "\n",
    "\n",
    "    for run in tqdm(root.runs):\n",
    "        tomo = run.get_voxel_spacing(10)\n",
    "        tomo = tomo.get_tomogram(tomo_type).numpy()\n",
    "        target = np.zeros(tomo.shape, dtype=np.uint8)\n",
    "        for pickable_object in root.pickable_objects:\n",
    "            pick = run.get_picks(object_name=pickable_object.name, user_id=\"curation\")\n",
    "            if len(pick):  \n",
    "                target = segmentation_from_picks.from_picks(pick[0], \n",
    "                                                            target, \n",
    "                                                            target_objects[pickable_object.name]['radius'] * 0.8,\n",
    "                                                            target_objects[pickable_object.name]['label']\n",
    "                                                            )\n",
    "        write.segmentation(run, target, copick_user_name, name=copick_segmentation_name)\n",
    "        "
   ]
  },
  {
   "cell_type": "markdown",
   "id": "86abc112",
   "metadata": {
    "papermill": {
     "duration": 0.016185,
     "end_time": "2024-11-08T05:29:48.818022",
     "exception": false,
     "start_time": "2024-11-08T05:29:48.801837",
     "status": "completed"
    },
    "tags": []
   },
   "source": [
    "3. Get tomograms and their segmentaion masks (from picks) arrays\n",
    "\r\n",
    "This 10439 dataset contains 27 tomograms. We will use the first 5 tomograms for training, and the following 2 tomograms for validation. Therefore, we will get the first 7 tomograms from the cryoET data portal in this notebook, and we will use the rest 20 tomograms for inference in a different notebook."
   ]
  },
  {
   "cell_type": "code",
   "execution_count": 6,
   "id": "9d20362d",
   "metadata": {
    "execution": {
     "iopub.execute_input": "2024-11-08T05:29:48.850269Z",
     "iopub.status.busy": "2024-11-08T05:29:48.849472Z",
     "iopub.status.idle": "2024-11-08T05:29:55.419688Z",
     "shell.execute_reply": "2024-11-08T05:29:55.418720Z"
    },
    "papermill": {
     "duration": 6.588935,
     "end_time": "2024-11-08T05:29:55.422195",
     "exception": false,
     "start_time": "2024-11-08T05:29:48.833260",
     "status": "completed"
    },
    "tags": []
   },
   "outputs": [
    {
     "name": "stderr",
     "output_type": "stream",
     "text": [
      "100%|██████████| 7/7 [00:05<00:00,  1.40it/s]\n"
     ]
    },
    {
     "name": "stdout",
     "output_type": "stream",
     "text": [
      "[0 1 3 4 5 6]\n"
     ]
    }
   ],
   "source": [
    "data_dicts = []\n",
    "for run in tqdm(root.runs):\n",
    "    tomogram = run.get_voxel_spacing(voxel_size).get_tomogram(tomo_type).numpy()\n",
    "    segmentation = run.get_segmentations(name=copick_segmentation_name, user_id=copick_user_name, voxel_size=voxel_size, is_multilabel=True)[0].numpy()\n",
    "    data_dicts.append({\"image\": tomogram, \"label\": segmentation})\n",
    "    \n",
    "print(np.unique(data_dicts[0]['label']))"
   ]
  },
  {
   "cell_type": "markdown",
   "id": "a5cf8ea1",
   "metadata": {
    "papermill": {
     "duration": 0.015697,
     "end_time": "2024-11-08T05:29:55.454389",
     "exception": false,
     "start_time": "2024-11-08T05:29:55.438692",
     "status": "completed"
    },
    "tags": []
   },
   "source": [
    "\n",
    "4. Visualize the tomogram and painted segmentation from ground-truth picks"
   ]
  },
  {
   "cell_type": "code",
   "execution_count": 7,
   "id": "9c9476d4",
   "metadata": {
    "execution": {
     "iopub.execute_input": "2024-11-08T05:29:55.487852Z",
     "iopub.status.busy": "2024-11-08T05:29:55.487529Z",
     "iopub.status.idle": "2024-11-08T05:29:55.956098Z",
     "shell.execute_reply": "2024-11-08T05:29:55.955231Z"
    },
    "papermill": {
     "duration": 0.490631,
     "end_time": "2024-11-08T05:29:55.961128",
     "exception": false,
     "start_time": "2024-11-08T05:29:55.470497",
     "status": "completed"
    },
    "tags": []
   },
   "outputs": [
    {
     "data": {
      "image/png": "[encoded data removed]",
      "text/plain": [
       "<Figure size 1500x500 with 2 Axes>"
      ]
     },
     "metadata": {},
     "output_type": "display_data"
    }
   ],
   "source": [
    "import matplotlib.pyplot as plt\n",
    "\n",
    "# Plot the images\n",
    "plt.figure(figsize=(15, 5))\n",
    "\n",
    "plt.subplot(1, 2, 1)\n",
    "plt.title('Tomogram')\n",
    "plt.imshow(data_dicts[0]['image'][100],cmap='gray')\n",
    "plt.axis('off')\n",
    "\n",
    "plt.subplot(1, 2, 2)\n",
    "plt.title('Painted Segmentation from Picks')\n",
    "plt.imshow(data_dicts[0]['label'][100], cmap='viridis')\n",
    "plt.axis('off')\n",
    "\n",
    "plt.tight_layout()\n",
    "plt.show()\n"
   ]
  },
  {
   "cell_type": "markdown",
   "id": "55f8f5de",
   "metadata": {
    "papermill": {
     "duration": 0.020176,
     "end_time": "2024-11-08T05:29:56.002566",
     "exception": false,
     "start_time": "2024-11-08T05:29:55.982390",
     "status": "completed"
    },
    "tags": []
   },
   "source": [
    "5. Prepare dataloaders"
   ]
  },
  {
   "cell_type": "code",
   "execution_count": 8,
   "id": "ebd15354",
   "metadata": {
    "execution": {
     "iopub.execute_input": "2024-11-08T05:29:56.045560Z",
     "iopub.status.busy": "2024-11-08T05:29:56.045220Z",
     "iopub.status.idle": "2024-11-08T05:29:58.268259Z",
     "shell.execute_reply": "2024-11-08T05:29:58.267238Z"
    },
    "papermill": {
     "duration": 2.247307,
     "end_time": "2024-11-08T05:29:58.270447",
     "exception": false,
     "start_time": "2024-11-08T05:29:56.023140",
     "status": "completed"
    },
    "tags": []
   },
   "outputs": [
    {
     "name": "stdout",
     "output_type": "stream",
     "text": [
      "Number of training samples: 5\n",
      "Number of validation samples: 2\n"
     ]
    },
    {
     "name": "stderr",
     "output_type": "stream",
     "text": [
      "Loading dataset: 100%|██████████| 5/5 [00:01<00:00,  3.22it/s]\n",
      "Loading dataset: 100%|██████████| 2/2 [00:00<00:00,  3.34it/s]\n"
     ]
    }
   ],
   "source": [
    "my_num_samples = 16\n",
    "train_batch_size = 1\n",
    "val_batch_size = 1\n",
    "\n",
    "train_files, val_files = data_dicts[:5], data_dicts[5:7]\n",
    "print(f\"Number of training samples: {len(train_files)}\")\n",
    "print(f\"Number of validation samples: {len(val_files)}\")\n",
    "\n",
    "# Non-random transforms to be cached\n",
    "non_random_transforms = Compose([\n",
    "    EnsureChannelFirstd(keys=[\"image\", \"label\"], channel_dim=\"no_channel\"),\n",
    "    NormalizeIntensityd(keys=\"image\"),\n",
    "    Orientationd(keys=[\"image\", \"label\"], axcodes=\"RAS\")\n",
    "])\n",
    "\n",
    "# Random transforms to be applied during training\n",
    "random_transforms = Compose([\n",
    "    RandCropByLabelClassesd(\n",
    "        keys=[\"image\", \"label\"],\n",
    "        label_key=\"label\",\n",
    "        spatial_size=[96, 96, 96],\n",
    "        num_classes=8,\n",
    "        num_samples=my_num_samples\n",
    "    ),\n",
    "    RandRotate90d(keys=[\"image\", \"label\"], prob=0.5, spatial_axes=[0, 2]),\n",
    "    RandFlipd(keys=[\"image\", \"label\"], prob=0.5, spatial_axis=0),    \n",
    "])\n",
    "\n",
    "# Create the cached dataset with non-random transforms\n",
    "train_ds = CacheDataset(data=train_files, transform=non_random_transforms, cache_rate=1.0)\n",
    "\n",
    "# Wrap the cached dataset to apply random transforms during iteration\n",
    "train_ds = Dataset(data=train_ds, transform=random_transforms)\n",
    "\n",
    "# DataLoader remains the same\n",
    "train_loader = DataLoader(\n",
    "    train_ds,\n",
    "    batch_size=train_batch_size,\n",
    "    shuffle=True,\n",
    "    num_workers=4,\n",
    "    pin_memory=torch.cuda.is_available()\n",
    ")\n",
    "\n",
    "# Validation transforms\n",
    "val_transforms = Compose([\n",
    "    EnsureChannelFirstd(keys=[\"image\", \"label\"], channel_dim=\"no_channel\"),\n",
    "    NormalizeIntensityd(keys=\"image\"),\n",
    "    RandCropByLabelClassesd(\n",
    "        keys=[\"image\", \"label\"],\n",
    "        label_key=\"label\",\n",
    "        spatial_size=[96, 96, 96],\n",
    "        num_classes=8,\n",
    "        num_samples=my_num_samples,  # Use 1 to get a single, consistent crop per image\n",
    "    ),\n",
    "])\n",
    "\n",
    "# Create validation dataset\n",
    "val_ds = CacheDataset(data=val_files, transform=non_random_transforms, cache_rate=1.0)\n",
    "\n",
    "# Wrap the cached dataset to apply random transforms during iteration\n",
    "val_ds = Dataset(data=val_ds, transform=random_transforms)\n",
    "\n",
    "# Create validation DataLoader\n",
    "val_loader = DataLoader(\n",
    "    val_ds,\n",
    "    batch_size=val_batch_size,\n",
    "    num_workers=4,\n",
    "    pin_memory=torch.cuda.is_available(),\n",
    "    shuffle=False,  # Ensure the data order remains consistent\n",
    ")"
   ]
  },
  {
   "cell_type": "markdown",
   "id": "061c3c28",
   "metadata": {
    "papermill": {
     "duration": 0.020999,
     "end_time": "2024-11-08T05:29:58.315028",
     "exception": false,
     "start_time": "2024-11-08T05:29:58.294029",
     "status": "completed"
    },
    "tags": []
   },
   "source": [
    "## Model setup"
   ]
  },
  {
   "cell_type": "code",
   "execution_count": 9,
   "id": "ae47a946",
   "metadata": {
    "execution": {
     "iopub.execute_input": "2024-11-08T05:29:58.359731Z",
     "iopub.status.busy": "2024-11-08T05:29:58.358875Z",
     "iopub.status.idle": "2024-11-08T05:29:58.642792Z",
     "shell.execute_reply": "2024-11-08T05:29:58.642021Z"
    },
    "papermill": {
     "duration": 0.308619,
     "end_time": "2024-11-08T05:29:58.645005",
     "exception": false,
     "start_time": "2024-11-08T05:29:58.336386",
     "status": "completed"
    },
    "tags": []
   },
   "outputs": [
    {
     "name": "stdout",
     "output_type": "stream",
     "text": [
      "cuda\n"
     ]
    }
   ],
   "source": [
    "device = torch.device('cuda' if torch.cuda.is_available() else 'cpu')\n",
    "print(device)\n",
    "# Create UNet, DiceLoss and Adam optimizer\n",
    "model = UNet(\n",
    "    spatial_dims=3,\n",
    "    in_channels=1,\n",
    "    out_channels=len(root.pickable_objects)+1,\n",
    "    channels=(48, 64, 80, 80),\n",
    "    strides=(2, 2, 1),\n",
    "    num_res_units=1,\n",
    ").to(device)\n",
    "\n",
    "lr = 1e-3\n",
    "optimizer = torch.optim.Adam(model.parameters(), lr)\n",
    "#loss_function = DiceLoss(include_background=True, to_onehot_y=True, softmax=True)  # softmax=True for multiclass\n",
    "loss_function = TverskyLoss(include_background=True, to_onehot_y=True, softmax=True)  # softmax=True for multiclass\n",
    "dice_metric = DiceMetric(include_background=False, reduction=\"mean\", ignore_empty=True)  # must use onehot for multiclass\n",
    "recall_metric = ConfusionMatrixMetric(include_background=False, metric_name=\"recall\", reduction=\"None\")\n"
   ]
  },
  {
   "cell_type": "code",
   "execution_count": 10,
   "id": "950831b3",
   "metadata": {
    "execution": {
     "iopub.execute_input": "2024-11-08T05:29:58.689047Z",
     "iopub.status.busy": "2024-11-08T05:29:58.688734Z",
     "iopub.status.idle": "2024-11-08T05:29:58.703278Z",
     "shell.execute_reply": "2024-11-08T05:29:58.702391Z"
    },
    "papermill": {
     "duration": 0.038879,
     "end_time": "2024-11-08T05:29:58.705435",
     "exception": false,
     "start_time": "2024-11-08T05:29:58.666556",
     "status": "completed"
    },
    "tags": []
   },
   "outputs": [],
   "source": [
    "post_pred = AsDiscrete(argmax=True, to_onehot=len(root.pickable_objects)+1)\n",
    "post_label = AsDiscrete(to_onehot=len(root.pickable_objects)+1)\n",
    "\n",
    "def train(train_loader, model, loss_function, metrics_function, optimizer, max_epochs=100):\n",
    "    val_interval = 2\n",
    "    best_metric = -1\n",
    "    best_metric_epoch = -1\n",
    "    epoch_loss_values = []\n",
    "    metric_values = []\n",
    "    for epoch in range(max_epochs):\n",
    "        print(\"-\" * 10)\n",
    "        print(f\"epoch {epoch + 1}/{max_epochs}\")\n",
    "        model.train()\n",
    "        epoch_loss = 0\n",
    "        step = 0\n",
    "        for batch_data in train_loader:\n",
    "            step += 1\n",
    "            inputs = batch_data[\"image\"].to(device)\n",
    "            labels = batch_data[\"label\"].to(device)\n",
    "            optimizer.zero_grad()\n",
    "            outputs = model(inputs)\n",
    "            loss = loss_function(outputs, labels)\n",
    "            loss.backward()\n",
    "            optimizer.step()\n",
    "            epoch_loss += loss.item()\n",
    "            print(f\"batch {step}/{len(train_ds) // train_loader.batch_size}, \" f\"train_loss: {loss.item():.4f}\")\n",
    "        epoch_loss /= step\n",
    "        epoch_loss_values.append(epoch_loss)\n",
    "        print(f\"epoch {epoch + 1} average loss: {epoch_loss:.4f}\")\n",
    "        mlflow.log_metric(\"train_loss\", epoch_loss, step=epoch+1)\n",
    "\n",
    "        if (epoch + 1) % val_interval == 0:\n",
    "            model.eval()\n",
    "            with torch.no_grad():\n",
    "                for val_data in val_loader:\n",
    "                    val_inputs = val_data[\"image\"].to(device)\n",
    "                    val_labels = val_data[\"label\"].to(device)\n",
    "                    val_outputs = model(val_inputs)\n",
    "                    metric_val_outputs = [post_pred(i) for i in decollate_batch(val_outputs)]\n",
    "                    metric_val_labels = [post_label(i) for i in decollate_batch(val_labels)]\n",
    "                    \n",
    "                    \n",
    "                    # compute metric for current iteration\n",
    "                    metrics_function(y_pred=metric_val_outputs, y=metric_val_labels)\n",
    "\n",
    "                metrics = metrics_function.aggregate(reduction=\"mean_batch\")\n",
    "                metric_per_class = [\"{:.4g}\".format(x) for x in metrics]\n",
    "                metric = torch.mean(metrics).numpy(force=True)\n",
    "                mlflow.log_metric(\"validation metric\", metric, step=epoch+1)\n",
    "                for i,m in enumerate(metrics):\n",
    "                    mlflow.log_metric(f\"validation metric class {i+1}\", m, step=epoch+1)\n",
    "                metrics_function.reset()\n",
    "\n",
    "                metric_values.append(metric)\n",
    "                if metric > best_metric:\n",
    "                    best_metric = metric\n",
    "                    best_metric_epoch = epoch + 1\n",
    "                    torch.save(model.state_dict(), os.path.join('./', \"best_metric_model.pth\"))\n",
    "                    \n",
    "                    print(\"saved new best metric model\")\n",
    "                print(\n",
    "                    f\"current epoch: {epoch + 1} current mean recall per class: {', '.join(metric_per_class)}\"\n",
    "                    f\"\\nbest mean recall: {best_metric:.4f} \"\n",
    "                    f\"at epoch: {best_metric_epoch}\"\n",
    "                )"
   ]
  },
  {
   "cell_type": "markdown",
   "id": "152d1980",
   "metadata": {
    "papermill": {
     "duration": 0.020717,
     "end_time": "2024-11-08T05:29:58.746888",
     "exception": false,
     "start_time": "2024-11-08T05:29:58.726171",
     "status": "completed"
    },
    "tags": []
   },
   "source": [
    "## Training and tracking"
   ]
  },
  {
   "cell_type": "code",
   "execution_count": 11,
   "id": "fa0b7b0c",
   "metadata": {
    "execution": {
     "iopub.execute_input": "2024-11-08T05:29:58.790550Z",
     "iopub.status.busy": "2024-11-08T05:29:58.789877Z",
     "iopub.status.idle": "2024-11-08T06:19:59.380922Z",
     "shell.execute_reply": "2024-11-08T06:19:59.379893Z"
    },
    "papermill": {
     "duration": 3000.856374,
     "end_time": "2024-11-08T06:19:59.624292",
     "exception": false,
     "start_time": "2024-11-08T05:29:58.767918",
     "status": "completed"
    },
    "tags": []
   },
   "outputs": [
    {
     "name": "stderr",
     "output_type": "stream",
     "text": [
      "2024/11/08 05:29:58 INFO mlflow.tracking.fluent: Experiment with name 'training 3D U-Net model for the cryoET ML Challenge' does not exist. Creating a new experiment.\n"
     ]
    },
    {
     "name": "stdout",
     "output_type": "stream",
     "text": [
      "----------\n",
      "epoch 1/200\n"
     ]
    },
    {
     "name": "stderr",
     "output_type": "stream",
     "text": [
      "/opt/conda/lib/python3.10/multiprocessing/popen_fork.py:66: RuntimeWarning: os.fork() was called. os.fork() is incompatible with multithreaded code, and JAX is multithreaded, so this will likely lead to a deadlock.\n",
      "  self.pid = os.fork()\n",
      "/opt/conda/lib/python3.10/site-packages/monai/transforms/utils.py:743: UserWarning: no available indices of class 2 to crop, setting the crop ratio of this class to zero.\n",
      "  warnings.warn(\n",
      "/opt/conda/lib/python3.10/site-packages/monai/transforms/utils.py:743: UserWarning: no available indices of class 7 to crop, setting the crop ratio of this class to zero.\n",
      "  warnings.warn(\n",
      "/opt/conda/lib/python3.10/multiprocessing/popen_fork.py:66: RuntimeWarning: os.fork() was called. os.fork() is incompatible with multithreaded code, and JAX is multithreaded, so this will likely lead to a deadlock.\n",
      "  self.pid = os.fork()\n",
      "/opt/conda/lib/python3.10/site-packages/monai/transforms/utils.py:743: UserWarning: no available indices of class 2 to crop, setting the crop ratio of this class to zero.\n",
      "  warnings.warn(\n",
      "/opt/conda/lib/python3.10/site-packages/monai/transforms/utils.py:743: UserWarning: no available indices of class 7 to crop, setting the crop ratio of this class to zero.\n",
      "  warnings.warn(\n",
      "/opt/conda/lib/python3.10/site-packages/monai/transforms/utils.py:743: UserWarning: no available indices of class 2 to crop, setting the crop ratio of this class to zero.\n",
      "  warnings.warn(\n",
      "/opt/conda/lib/python3.10/site-packages/monai/transforms/utils.py:743: UserWarning: no available indices of class 7 to crop, setting the crop ratio of this class to zero.\n",
      "  warnings.warn(\n",
      "/opt/conda/lib/python3.10/site-packages/monai/transforms/utils.py:743: UserWarning: no available indices of class 2 to crop, setting the crop ratio of this class to zero.\n",
      "  warnings.warn(\n",
      "/opt/conda/lib/python3.10/site-packages/monai/transforms/utils.py:743: UserWarning: no available indices of class 7 to crop, setting the crop ratio of this class to zero.\n",
      "  warnings.warn(\n"
     ]
    },
    {
     "name": "stdout",
     "output_type": "stream",
     "text": [
      "batch 1/5, train_loss: 0.9682\n",
      "batch 2/5, train_loss: 0.9624\n",
      "batch 3/5, train_loss: 0.9557\n",
      "batch 4/5, train_loss: 0.9548\n",
      "batch 5/5, train_loss: 0.9442\n",
      "epoch 1 average loss: 0.9571\n",
      "----------\n",
      "epoch 2/200\n"
     ]
    },
    {
     "name": "stderr",
     "output_type": "stream",
     "text": [
      "/opt/conda/lib/python3.10/site-packages/monai/transforms/utils.py:743: UserWarning: no available indices of class 2 to crop, setting the crop ratio of this class to zero.\n",
      "  warnings.warn(\n",
      "/opt/conda/lib/python3.10/site-packages/monai/transforms/utils.py:743: UserWarning: no available indices of class 7 to crop, setting the crop ratio of this class to zero.\n",
      "  warnings.warn(\n",
      "/opt/conda/lib/python3.10/site-packages/monai/transforms/utils.py:743: UserWarning: no available indices of class 2 to crop, setting the crop ratio of this class to zero.\n",
      "  warnings.warn(\n",
      "/opt/conda/lib/python3.10/site-packages/monai/transforms/utils.py:743: UserWarning: no available indices of class 7 to crop, setting the crop ratio of this class to zero.\n",
      "  warnings.warn(\n",
      "/opt/conda/lib/python3.10/site-packages/monai/transforms/utils.py:743: UserWarning: no available indices of class 2 to crop, setting the crop ratio of this class to zero.\n",
      "  warnings.warn(\n",
      "/opt/conda/lib/python3.10/site-packages/monai/transforms/utils.py:743: UserWarning: no available indices of class 7 to crop, setting the crop ratio of this class to zero.\n",
      "  warnings.warn(\n",
      "/opt/conda/lib/python3.10/site-packages/monai/transforms/utils.py:743: UserWarning: no available indices of class 2 to crop, setting the crop ratio of this class to zero.\n",
      "  warnings.warn(\n",
      "/opt/conda/lib/python3.10/site-packages/monai/transforms/utils.py:743: UserWarning: no available indices of class 7 to crop, setting the crop ratio of this class to zero.\n",
      "  warnings.warn(\n"
     ]
    },
    {
     "name": "stdout",
     "output_type": "stream",
     "text": [
      "batch 1/5, train_loss: 0.9433\n",
      "batch 2/5, train_loss: 0.9350\n",
      "batch 3/5, train_loss: 0.9360\n",
      "batch 4/5, train_loss: 0.9285\n",
      "batch 5/5, train_loss: 0.9247\n",
      "epoch 2 average loss: 0.9335\n"
     ]
    },
    {
     "name": "stderr",
     "output_type": "stream",
     "text": [
      "/opt/conda/lib/python3.10/site-packages/monai/transforms/utils.py:743: UserWarning: no available indices of class 2 to crop, setting the crop ratio of this class to zero.\n",
      "  warnings.warn(\n",
      "/opt/conda/lib/python3.10/site-packages/monai/transforms/utils.py:743: UserWarning: no available indices of class 7 to crop, setting the crop ratio of this class to zero.\n",
      "  warnings.warn(\n",
      "/opt/conda/lib/python3.10/site-packages/monai/transforms/utils.py:743: UserWarning: no available indices of class 2 to crop, setting the crop ratio of this class to zero.\n",
      "  warnings.warn(\n",
      "/opt/conda/lib/python3.10/site-packages/monai/transforms/utils.py:743: UserWarning: no available indices of class 7 to crop, setting the crop ratio of this class to zero.\n",
      "  warnings.warn(\n"
     ]
    },
    {
     "name": "stdout",
     "output_type": "stream",
     "text": [
      "saved new best metric model\n",
      "current epoch: 2 current mean recall per class: 0.0003772, 0, 0.0008365, 0.1714, 0.01979, 0.0479, 0\n",
      "best mean recall: 0.0343 at epoch: 2\n",
      "----------\n",
      "epoch 3/200\n"
     ]
    },
    {
     "name": "stderr",
     "output_type": "stream",
     "text": [
      "/opt/conda/lib/python3.10/site-packages/monai/transforms/utils.py:743: UserWarning: no available indices of class 2 to crop, setting the crop ratio of this class to zero.\n",
      "  warnings.warn(\n",
      "/opt/conda/lib/python3.10/site-packages/monai/transforms/utils.py:743: UserWarning: no available indices of class 7 to crop, setting the crop ratio of this class to zero.\n",
      "  warnings.warn(\n",
      "/opt/conda/lib/python3.10/site-packages/monai/transforms/utils.py:743: UserWarning: no available indices of class 2 to crop, setting the crop ratio of this class to zero.\n",
      "  warnings.warn(\n",
      "/opt/conda/lib/python3.10/site-packages/monai/transforms/utils.py:743: UserWarning: no available indices of class 7 to crop, setting the crop ratio of this class to zero.\n",
      "  warnings.warn(\n",
      "/opt/conda/lib/python3.10/site-packages/monai/transforms/utils.py:743: UserWarning: no available indices of class 2 to crop, setting the crop ratio of this class to zero.\n",
      "  warnings.warn(\n",
      "/opt/conda/lib/python3.10/site-packages/monai/transforms/utils.py:743: UserWarning: no available indices of class 7 to crop, setting the crop ratio of this class to zero.\n",
      "  warnings.warn(\n",
      "/opt/conda/lib/python3.10/site-packages/monai/transforms/utils.py:743: UserWarning: no available indices of class 2 to crop, setting the crop ratio of this class to zero.\n",
      "  warnings.warn(\n",
      "/opt/conda/lib/python3.10/site-packages/monai/transforms/utils.py:743: UserWarning: no available indices of class 7 to crop, setting the crop ratio of this class to zero.\n",
      "  warnings.warn(\n"
     ]
    },
    {
     "name": "stdout",
     "output_type": "stream",
     "text": [
      "batch 1/5, train_loss: 0.9220\n",
      "batch 2/5, train_loss: 0.9212\n",
      "batch 3/5, train_loss: 0.9165\n",
      "batch 4/5, train_loss: 0.9089\n",
      "batch 5/5, train_loss: 0.9114\n",
      "epoch 3 average loss: 0.9160\n",
      "----------\n",
      "epoch 4/200\n"
     ]
    },
    {
     "name": "stderr",
     "output_type": "stream",
     "text": [
      "/opt/conda/lib/python3.10/site-packages/monai/transforms/utils.py:743: UserWarning: no available indices of class 2 to crop, setting the crop ratio of this class to zero.\n",
      "  warnings.warn(\n",
      "/opt/conda/lib/python3.10/site-packages/monai/transforms/utils.py:743: UserWarning: no available indices of class 7 to crop, setting the crop ratio of this class to zero.\n",
      "  warnings.warn(\n",
      "/opt/conda/lib/python3.10/site-packages/monai/transforms/utils.py:743: UserWarning: no available indices of class 2 to crop, setting the crop ratio of this class to zero.\n",
      "  warnings.warn(\n",
      "/opt/conda/lib/python3.10/site-packages/monai/transforms/utils.py:743: UserWarning: no available indices of class 7 to crop, setting the crop ratio of this class to zero.\n",
      "  warnings.warn(\n",
      "/opt/conda/lib/python3.10/site-packages/monai/transforms/utils.py:743: UserWarning: no available indices of class 2 to crop, setting the crop ratio of this class to zero.\n",
      "  warnings.warn(\n",
      "/opt/conda/lib/python3.10/site-packages/monai/transforms/utils.py:743: UserWarning: no available indices of class 7 to crop, setting the crop ratio of this class to zero.\n",
      "  warnings.warn(\n",
      "/opt/conda/lib/python3.10/site-packages/monai/transforms/utils.py:743: UserWarning: no available indices of class 2 to crop, setting the crop ratio of this class to zero.\n",
      "  warnings.warn(\n",
      "/opt/conda/lib/python3.10/site-packages/monai/transforms/utils.py:743: UserWarning: no available indices of class 7 to crop, setting the crop ratio of this class to zero.\n",
      "  warnings.warn(\n"
     ]
    },
    {
     "name": "stdout",
     "output_type": "stream",
     "text": [
      "batch 1/5, train_loss: 0.9009\n",
      "batch 2/5, train_loss: 0.9033\n",
      "batch 3/5, train_loss: 0.9027\n",
      "batch 4/5, train_loss: 0.8906\n",
      "batch 5/5, train_loss: 0.8950\n",
      "epoch 4 average loss: 0.8985\n"
     ]
    },
    {
     "name": "stderr",
     "output_type": "stream",
     "text": [
      "/opt/conda/lib/python3.10/site-packages/monai/transforms/utils.py:743: UserWarning: no available indices of class 2 to crop, setting the crop ratio of this class to zero.\n",
      "  warnings.warn(\n",
      "/opt/conda/lib/python3.10/site-packages/monai/transforms/utils.py:743: UserWarning: no available indices of class 7 to crop, setting the crop ratio of this class to zero.\n",
      "  warnings.warn(\n",
      "/opt/conda/lib/python3.10/site-packages/monai/transforms/utils.py:743: UserWarning: no available indices of class 2 to crop, setting the crop ratio of this class to zero.\n",
      "  warnings.warn(\n",
      "/opt/conda/lib/python3.10/site-packages/monai/transforms/utils.py:743: UserWarning: no available indices of class 7 to crop, setting the crop ratio of this class to zero.\n",
      "  warnings.warn(\n"
     ]
    },
    {
     "name": "stdout",
     "output_type": "stream",
     "text": [
      "saved new best metric model\n",
      "current epoch: 4 current mean recall per class: 0.0006203, 0, 0.001789, 0.3667, 0.01954, 0.0447, 0\n",
      "best mean recall: 0.0619 at epoch: 4\n",
      "----------\n",
      "epoch 5/200\n"
     ]
    },
    {
     "name": "stderr",
     "output_type": "stream",
     "text": [
      "/opt/conda/lib/python3.10/site-packages/monai/transforms/utils.py:743: UserWarning: no available indices of class 2 to crop, setting the crop ratio of this class to zero.\n",
      "  warnings.warn(\n",
      "/opt/conda/lib/python3.10/site-packages/monai/transforms/utils.py:743: UserWarning: no available indices of class 7 to crop, setting the crop ratio of this class to zero.\n",
      "  warnings.warn(\n",
      "/opt/conda/lib/python3.10/site-packages/monai/transforms/utils.py:743: UserWarning: no available indices of class 2 to crop, setting the crop ratio of this class to zero.\n",
      "  warnings.warn(\n",
      "/opt/conda/lib/python3.10/site-packages/monai/transforms/utils.py:743: UserWarning: no available indices of class 2 to crop, setting the crop ratio of this class to zero.\n",
      "  warnings.warn(\n",
      "/opt/conda/lib/python3.10/site-packages/monai/transforms/utils.py:743: UserWarning: no available indices of class 7 to crop, setting the crop ratio of this class to zero.\n",
      "  warnings.warn(\n",
      "/opt/conda/lib/python3.10/site-packages/monai/transforms/utils.py:743: UserWarning: no available indices of class 7 to crop, setting the crop ratio of this class to zero.\n",
      "  warnings.warn(\n",
      "/opt/conda/lib/python3.10/site-packages/monai/transforms/utils.py:743: UserWarning: no available indices of class 2 to crop, setting the crop ratio of this class to zero.\n",
      "  warnings.warn(\n",
      "/opt/conda/lib/python3.10/site-packages/monai/transforms/utils.py:743: UserWarning: no available indices of class 7 to crop, setting the crop ratio of this class to zero.\n",
      "  warnings.warn(\n"
     ]
    },
    {
     "name": "stdout",
     "output_type": "stream",
     "text": [
      "batch 1/5, train_loss: 0.8955\n",
      "batch 2/5, train_loss: 0.8849\n",
      "batch 3/5, train_loss: 0.8857\n",
      "batch 4/5, train_loss: 0.8848\n",
      "batch 5/5, train_loss: 0.8901\n",
      "epoch 5 average loss: 0.8882\n",
      "----------\n",
      "epoch 6/200\n"
     ]
    },
    {
     "name": "stderr",
     "output_type": "stream",
     "text": [
      "/opt/conda/lib/python3.10/site-packages/monai/transforms/utils.py:743: UserWarning: no available indices of class 2 to crop, setting the crop ratio of this class to zero.\n",
      "  warnings.warn(\n",
      "/opt/conda/lib/python3.10/site-packages/monai/transforms/utils.py:743: UserWarning: no available indices of class 7 to crop, setting the crop ratio of this class to zero.\n",
      "  warnings.warn(\n",
      "/opt/conda/lib/python3.10/site-packages/monai/transforms/utils.py:743: UserWarning: no available indices of class 2 to crop, setting the crop ratio of this class to zero.\n",
      "  warnings.warn(\n",
      "/opt/conda/lib/python3.10/site-packages/monai/transforms/utils.py:743: UserWarning: no available indices of class 7 to crop, setting the crop ratio of this class to zero.\n",
      "  warnings.warn(\n",
      "/opt/conda/lib/python3.10/site-packages/monai/transforms/utils.py:743: UserWarning: no available indices of class 2 to crop, setting the crop ratio of this class to zero.\n",
      "  warnings.warn(\n",
      "/opt/conda/lib/python3.10/site-packages/monai/transforms/utils.py:743: UserWarning: no available indices of class 7 to crop, setting the crop ratio of this class to zero.\n",
      "  warnings.warn(\n",
      "/opt/conda/lib/python3.10/site-packages/monai/transforms/utils.py:743: UserWarning: no available indices of class 2 to crop, setting the crop ratio of this class to zero.\n",
      "  warnings.warn(\n",
      "/opt/conda/lib/python3.10/site-packages/monai/transforms/utils.py:743: UserWarning: no available indices of class 7 to crop, setting the crop ratio of this class to zero.\n",
      "  warnings.warn(\n"
     ]
    },
    {
     "name": "stdout",
     "output_type": "stream",
     "text": [
      "batch 1/5, train_loss: 0.8761\n",
      "batch 2/5, train_loss: 0.8770\n",
      "batch 3/5, train_loss: 0.8737\n",
      "batch 4/5, train_loss: 0.8797\n",
      "batch 5/5, train_loss: 0.8861\n",
      "epoch 6 average loss: 0.8785\n"
     ]
    },
    {
     "name": "stderr",
     "output_type": "stream",
     "text": [
      "/opt/conda/lib/python3.10/site-packages/monai/transforms/utils.py:743: UserWarning: no available indices of class 2 to crop, setting the crop ratio of this class to zero.\n",
      "  warnings.warn(\n",
      "/opt/conda/lib/python3.10/site-packages/monai/transforms/utils.py:743: UserWarning: no available indices of class 7 to crop, setting the crop ratio of this class to zero.\n",
      "  warnings.warn(\n",
      "/opt/conda/lib/python3.10/site-packages/monai/transforms/utils.py:743: UserWarning: no available indices of class 2 to crop, setting the crop ratio of this class to zero.\n",
      "  warnings.warn(\n",
      "/opt/conda/lib/python3.10/site-packages/monai/transforms/utils.py:743: UserWarning: no available indices of class 7 to crop, setting the crop ratio of this class to zero.\n",
      "  warnings.warn(\n"
     ]
    },
    {
     "name": "stdout",
     "output_type": "stream",
     "text": [
      "saved new best metric model\n",
      "current epoch: 6 current mean recall per class: 0.0004582, 0, 0.004828, 0.4388, 0.03121, 0.1099, 0\n",
      "best mean recall: 0.0836 at epoch: 6\n",
      "----------\n",
      "epoch 7/200\n"
     ]
    },
    {
     "name": "stderr",
     "output_type": "stream",
     "text": [
      "/opt/conda/lib/python3.10/site-packages/monai/transforms/utils.py:743: UserWarning: no available indices of class 2 to crop, setting the crop ratio of this class to zero.\n",
      "  warnings.warn(\n",
      "/opt/conda/lib/python3.10/site-packages/monai/transforms/utils.py:743: UserWarning: no available indices of class 7 to crop, setting the crop ratio of this class to zero.\n",
      "  warnings.warn(\n",
      "/opt/conda/lib/python3.10/site-packages/monai/transforms/utils.py:743: UserWarning: no available indices of class 2 to crop, setting the crop ratio of this class to zero.\n",
      "  warnings.warn(\n",
      "/opt/conda/lib/python3.10/site-packages/monai/transforms/utils.py:743: UserWarning: no available indices of class 7 to crop, setting the crop ratio of this class to zero.\n",
      "  warnings.warn(\n",
      "/opt/conda/lib/python3.10/site-packages/monai/transforms/utils.py:743: UserWarning: no available indices of class 2 to crop, setting the crop ratio of this class to zero.\n",
      "  warnings.warn(\n",
      "/opt/conda/lib/python3.10/site-packages/monai/transforms/utils.py:743: UserWarning: no available indices of class 2 to crop, setting the crop ratio of this class to zero.\n",
      "  warnings.warn(\n",
      "/opt/conda/lib/python3.10/site-packages/monai/transforms/utils.py:743: UserWarning: no available indices of class 7 to crop, setting the crop ratio of this class to zero.\n",
      "  warnings.warn(\n",
      "/opt/conda/lib/python3.10/site-packages/monai/transforms/utils.py:743: UserWarning: no available indices of class 7 to crop, setting the crop ratio of this class to zero.\n",
      "  warnings.warn(\n"
     ]
    },
    {
     "name": "stdout",
     "output_type": "stream",
     "text": [
      "batch 1/5, train_loss: 0.8804\n",
      "batch 2/5, train_loss: 0.8669\n",
      "batch 3/5, train_loss: 0.8722\n",
      "batch 4/5, train_loss: 0.8632\n",
      "batch 5/5, train_loss: 0.8637\n",
      "epoch 7 average loss: 0.8693\n",
      "----------\n",
      "epoch 8/200\n"
     ]
    },
    {
     "name": "stderr",
     "output_type": "stream",
     "text": [
      "/opt/conda/lib/python3.10/site-packages/monai/transforms/utils.py:743: UserWarning: no available indices of class 2 to crop, setting the crop ratio of this class to zero.\n",
      "  warnings.warn(\n",
      "/opt/conda/lib/python3.10/site-packages/monai/transforms/utils.py:743: UserWarning: no available indices of class 7 to crop, setting the crop ratio of this class to zero.\n",
      "  warnings.warn(\n",
      "/opt/conda/lib/python3.10/site-packages/monai/transforms/utils.py:743: UserWarning: no available indices of class 2 to crop, setting the crop ratio of this class to zero.\n",
      "  warnings.warn(\n",
      "/opt/conda/lib/python3.10/site-packages/monai/transforms/utils.py:743: UserWarning: no available indices of class 7 to crop, setting the crop ratio of this class to zero.\n",
      "  warnings.warn(\n",
      "/opt/conda/lib/python3.10/site-packages/monai/transforms/utils.py:743: UserWarning: no available indices of class 2 to crop, setting the crop ratio of this class to zero.\n",
      "  warnings.warn(\n",
      "/opt/conda/lib/python3.10/site-packages/monai/transforms/utils.py:743: UserWarning: no available indices of class 7 to crop, setting the crop ratio of this class to zero.\n",
      "  warnings.warn(\n",
      "/opt/conda/lib/python3.10/site-packages/monai/transforms/utils.py:743: UserWarning: no available indices of class 2 to crop, setting the crop ratio of this class to zero.\n",
      "  warnings.warn(\n",
      "/opt/conda/lib/python3.10/site-packages/monai/transforms/utils.py:743: UserWarning: no available indices of class 7 to crop, setting the crop ratio of this class to zero.\n",
      "  warnings.warn(\n"
     ]
    },
    {
     "name": "stdout",
     "output_type": "stream",
     "text": [
      "batch 1/5, train_loss: 0.8588\n",
      "batch 2/5, train_loss: 0.8730\n",
      "batch 3/5, train_loss: 0.8610\n",
      "batch 4/5, train_loss: 0.8515\n",
      "batch 5/5, train_loss: 0.8539\n",
      "epoch 8 average loss: 0.8596\n"
     ]
    },
    {
     "name": "stderr",
     "output_type": "stream",
     "text": [
      "/opt/conda/lib/python3.10/site-packages/monai/transforms/utils.py:743: UserWarning: no available indices of class 2 to crop, setting the crop ratio of this class to zero.\n",
      "  warnings.warn(\n",
      "/opt/conda/lib/python3.10/site-packages/monai/transforms/utils.py:743: UserWarning: no available indices of class 7 to crop, setting the crop ratio of this class to zero.\n",
      "  warnings.warn(\n",
      "/opt/conda/lib/python3.10/site-packages/monai/transforms/utils.py:743: UserWarning: no available indices of class 2 to crop, setting the crop ratio of this class to zero.\n",
      "  warnings.warn(\n",
      "/opt/conda/lib/python3.10/site-packages/monai/transforms/utils.py:743: UserWarning: no available indices of class 7 to crop, setting the crop ratio of this class to zero.\n",
      "  warnings.warn(\n"
     ]
    },
    {
     "name": "stdout",
     "output_type": "stream",
     "text": [
      "saved new best metric model\n",
      "current epoch: 8 current mean recall per class: 0.0004907, 0, 0.01066, 0.4673, 0.06256, 0.1888, 0\n",
      "best mean recall: 0.1043 at epoch: 8\n",
      "----------\n",
      "epoch 9/200\n"
     ]
    },
    {
     "name": "stderr",
     "output_type": "stream",
     "text": [
      "/opt/conda/lib/python3.10/site-packages/monai/transforms/utils.py:743: UserWarning: no available indices of class 2 to crop, setting the crop ratio of this class to zero.\n",
      "  warnings.warn(\n",
      "/opt/conda/lib/python3.10/site-packages/monai/transforms/utils.py:743: UserWarning: no available indices of class 7 to crop, setting the crop ratio of this class to zero.\n",
      "  warnings.warn(\n",
      "/opt/conda/lib/python3.10/site-packages/monai/transforms/utils.py:743: UserWarning: no available indices of class 2 to crop, setting the crop ratio of this class to zero.\n",
      "  warnings.warn(\n",
      "/opt/conda/lib/python3.10/site-packages/monai/transforms/utils.py:743: UserWarning: no available indices of class 7 to crop, setting the crop ratio of this class to zero.\n",
      "  warnings.warn(\n",
      "/opt/conda/lib/python3.10/site-packages/monai/transforms/utils.py:743: UserWarning: no available indices of class 2 to crop, setting the crop ratio of this class to zero.\n",
      "  warnings.warn(\n",
      "/opt/conda/lib/python3.10/site-packages/monai/transforms/utils.py:743: UserWarning: no available indices of class 7 to crop, setting the crop ratio of this class to zero.\n",
      "  warnings.warn(\n",
      "/opt/conda/lib/python3.10/site-packages/monai/transforms/utils.py:743: UserWarning: no available indices of class 2 to crop, setting the crop ratio of this class to zero.\n",
      "  warnings.warn(\n",
      "/opt/conda/lib/python3.10/site-packages/monai/transforms/utils.py:743: UserWarning: no available indices of class 7 to crop, setting the crop ratio of this class to zero.\n",
      "  warnings.warn(\n"
     ]
    },
    {
     "name": "stdout",
     "output_type": "stream",
     "text": [
      "batch 1/5, train_loss: 0.8540\n",
      "batch 2/5, train_loss: 0.8718\n",
      "batch 3/5, train_loss: 0.8543\n",
      "batch 4/5, train_loss: 0.8646\n",
      "batch 5/5, train_loss: 0.8606\n",
      "epoch 9 average loss: 0.8610\n",
      "----------\n",
      "epoch 10/200\n"
     ]
    },
    {
     "name": "stderr",
     "output_type": "stream",
     "text": [
      "/opt/conda/lib/python3.10/site-packages/monai/transforms/utils.py:743: UserWarning: no available indices of class 2 to crop, setting the crop ratio of this class to zero.\n",
      "  warnings.warn(\n",
      "/opt/conda/lib/python3.10/site-packages/monai/transforms/utils.py:743: UserWarning: no available indices of class 7 to crop, setting the crop ratio of this class to zero.\n",
      "  warnings.warn(\n",
      "/opt/conda/lib/python3.10/site-packages/monai/transforms/utils.py:743: UserWarning: no available indices of class 2 to crop, setting the crop ratio of this class to zero.\n",
      "  warnings.warn(\n",
      "/opt/conda/lib/python3.10/site-packages/monai/transforms/utils.py:743: UserWarning: no available indices of class 7 to crop, setting the crop ratio of this class to zero.\n",
      "  warnings.warn(\n",
      "/opt/conda/lib/python3.10/site-packages/monai/transforms/utils.py:743: UserWarning: no available indices of class 2 to crop, setting the crop ratio of this class to zero.\n",
      "  warnings.warn(\n",
      "/opt/conda/lib/python3.10/site-packages/monai/transforms/utils.py:743: UserWarning: no available indices of class 7 to crop, setting the crop ratio of this class to zero.\n",
      "  warnings.warn(\n",
      "/opt/conda/lib/python3.10/site-packages/monai/transforms/utils.py:743: UserWarning: no available indices of class 2 to crop, setting the crop ratio of this class to zero.\n",
      "  warnings.warn(\n",
      "/opt/conda/lib/python3.10/site-packages/monai/transforms/utils.py:743: UserWarning: no available indices of class 7 to crop, setting the crop ratio of this class to zero.\n",
      "  warnings.warn(\n"
     ]
    },
    {
     "name": "stdout",
     "output_type": "stream",
     "text": [
      "batch 1/5, train_loss: 0.8638\n",
      "batch 2/5, train_loss: 0.8543\n",
      "batch 3/5, train_loss: 0.8622\n",
      "batch 4/5, train_loss: 0.8479\n",
      "batch 5/5, train_loss: 0.8588\n",
      "epoch 10 average loss: 0.8574\n"
     ]
    },
    {
     "name": "stderr",
     "output_type": "stream",
     "text": [
      "/opt/conda/lib/python3.10/site-packages/monai/transforms/utils.py:743: UserWarning: no available indices of class 2 to crop, setting the crop ratio of this class to zero.\n",
      "  warnings.warn(\n",
      "/opt/conda/lib/python3.10/site-packages/monai/transforms/utils.py:743: UserWarning: no available indices of class 2 to crop, setting the crop ratio of this class to zero.\n",
      "  warnings.warn(\n",
      "/opt/conda/lib/python3.10/site-packages/monai/transforms/utils.py:743: UserWarning: no available indices of class 7 to crop, setting the crop ratio of this class to zero.\n",
      "  warnings.warn(\n",
      "/opt/conda/lib/python3.10/site-packages/monai/transforms/utils.py:743: UserWarning: no available indices of class 7 to crop, setting the crop ratio of this class to zero.\n",
      "  warnings.warn(\n"
     ]
    },
    {
     "name": "stdout",
     "output_type": "stream",
     "text": [
      "saved new best metric model\n",
      "current epoch: 10 current mean recall per class: 0.0009733, 0, 0.01023, 0.4401, 0.08254, 0.2083, 0\n",
      "best mean recall: 0.1060 at epoch: 10\n",
      "----------\n",
      "epoch 11/200\n"
     ]
    },
    {
     "name": "stderr",
     "output_type": "stream",
     "text": [
      "/opt/conda/lib/python3.10/site-packages/monai/transforms/utils.py:743: UserWarning: no available indices of class 2 to crop, setting the crop ratio of this class to zero.\n",
      "  warnings.warn(\n",
      "/opt/conda/lib/python3.10/site-packages/monai/transforms/utils.py:743: UserWarning: no available indices of class 7 to crop, setting the crop ratio of this class to zero.\n",
      "  warnings.warn(\n",
      "/opt/conda/lib/python3.10/site-packages/monai/transforms/utils.py:743: UserWarning: no available indices of class 2 to crop, setting the crop ratio of this class to zero.\n",
      "  warnings.warn(\n",
      "/opt/conda/lib/python3.10/site-packages/monai/transforms/utils.py:743: UserWarning: no available indices of class 7 to crop, setting the crop ratio of this class to zero.\n",
      "  warnings.warn(\n",
      "/opt/conda/lib/python3.10/site-packages/monai/transforms/utils.py:743: UserWarning: no available indices of class 2 to crop, setting the crop ratio of this class to zero.\n",
      "  warnings.warn(\n",
      "/opt/conda/lib/python3.10/site-packages/monai/transforms/utils.py:743: UserWarning: no available indices of class 7 to crop, setting the crop ratio of this class to zero.\n",
      "  warnings.warn(\n",
      "/opt/conda/lib/python3.10/site-packages/monai/transforms/utils.py:743: UserWarning: no available indices of class 2 to crop, setting the crop ratio of this class to zero.\n",
      "  warnings.warn(\n",
      "/opt/conda/lib/python3.10/site-packages/monai/transforms/utils.py:743: UserWarning: no available indices of class 7 to crop, setting the crop ratio of this class to zero.\n",
      "  warnings.warn(\n"
     ]
    },
    {
     "name": "stdout",
     "output_type": "stream",
     "text": [
      "batch 1/5, train_loss: 0.8519\n",
      "batch 2/5, train_loss: 0.8573\n",
      "batch 3/5, train_loss: 0.8438\n",
      "batch 4/5, train_loss: 0.8663\n",
      "batch 5/5, train_loss: 0.8500\n",
      "epoch 11 average loss: 0.8539\n",
      "----------\n",
      "epoch 12/200\n"
     ]
    },
    {
     "name": "stderr",
     "output_type": "stream",
     "text": [
      "/opt/conda/lib/python3.10/site-packages/monai/transforms/utils.py:743: UserWarning: no available indices of class 2 to crop, setting the crop ratio of this class to zero.\n",
      "  warnings.warn(\n",
      "/opt/conda/lib/python3.10/site-packages/monai/transforms/utils.py:743: UserWarning: no available indices of class 7 to crop, setting the crop ratio of this class to zero.\n",
      "  warnings.warn(\n",
      "/opt/conda/lib/python3.10/site-packages/monai/transforms/utils.py:743: UserWarning: no available indices of class 2 to crop, setting the crop ratio of this class to zero.\n",
      "  warnings.warn(\n",
      "/opt/conda/lib/python3.10/site-packages/monai/transforms/utils.py:743: UserWarning: no available indices of class 7 to crop, setting the crop ratio of this class to zero.\n",
      "  warnings.warn(\n",
      "/opt/conda/lib/python3.10/site-packages/monai/transforms/utils.py:743: UserWarning: no available indices of class 2 to crop, setting the crop ratio of this class to zero.\n",
      "  warnings.warn(\n",
      "/opt/conda/lib/python3.10/site-packages/monai/transforms/utils.py:743: UserWarning: no available indices of class 7 to crop, setting the crop ratio of this class to zero.\n",
      "  warnings.warn(\n",
      "/opt/conda/lib/python3.10/site-packages/monai/transforms/utils.py:743: UserWarning: no available indices of class 2 to crop, setting the crop ratio of this class to zero.\n",
      "  warnings.warn(\n",
      "/opt/conda/lib/python3.10/site-packages/monai/transforms/utils.py:743: UserWarning: no available indices of class 7 to crop, setting the crop ratio of this class to zero.\n",
      "  warnings.warn(\n"
     ]
    },
    {
     "name": "stdout",
     "output_type": "stream",
     "text": [
      "batch 1/5, train_loss: 0.8444\n",
      "batch 2/5, train_loss: 0.8485\n",
      "batch 3/5, train_loss: 0.8511\n",
      "batch 4/5, train_loss: 0.8596\n",
      "batch 5/5, train_loss: 0.8368\n",
      "epoch 12 average loss: 0.8481\n"
     ]
    },
    {
     "name": "stderr",
     "output_type": "stream",
     "text": [
      "/opt/conda/lib/python3.10/site-packages/monai/transforms/utils.py:743: UserWarning: no available indices of class 2 to crop, setting the crop ratio of this class to zero.\n",
      "  warnings.warn(\n",
      "/opt/conda/lib/python3.10/site-packages/monai/transforms/utils.py:743: UserWarning: no available indices of class 7 to crop, setting the crop ratio of this class to zero.\n",
      "  warnings.warn(\n",
      "/opt/conda/lib/python3.10/site-packages/monai/transforms/utils.py:743: UserWarning: no available indices of class 2 to crop, setting the crop ratio of this class to zero.\n",
      "  warnings.warn(\n",
      "/opt/conda/lib/python3.10/site-packages/monai/transforms/utils.py:743: UserWarning: no available indices of class 7 to crop, setting the crop ratio of this class to zero.\n",
      "  warnings.warn(\n"
     ]
    },
    {
     "name": "stdout",
     "output_type": "stream",
     "text": [
      "current epoch: 12 current mean recall per class: 0.0005003, 0, 0.001887, 0.3539, 0.07906, 0.2654, 0\n",
      "best mean recall: 0.1060 at epoch: 10\n",
      "----------\n",
      "epoch 13/200\n"
     ]
    },
    {
     "name": "stderr",
     "output_type": "stream",
     "text": [
      "/opt/conda/lib/python3.10/site-packages/monai/transforms/utils.py:743: UserWarning: no available indices of class 2 to crop, setting the crop ratio of this class to zero.\n",
      "  warnings.warn(\n",
      "/opt/conda/lib/python3.10/site-packages/monai/transforms/utils.py:743: UserWarning: no available indices of class 7 to crop, setting the crop ratio of this class to zero.\n",
      "  warnings.warn(\n",
      "/opt/conda/lib/python3.10/site-packages/monai/transforms/utils.py:743: UserWarning: no available indices of class 2 to crop, setting the crop ratio of this class to zero.\n",
      "  warnings.warn(\n",
      "/opt/conda/lib/python3.10/site-packages/monai/transforms/utils.py:743: UserWarning: no available indices of class 7 to crop, setting the crop ratio of this class to zero.\n",
      "  warnings.warn(\n",
      "/opt/conda/lib/python3.10/site-packages/monai/transforms/utils.py:743: UserWarning: no available indices of class 2 to crop, setting the crop ratio of this class to zero.\n",
      "  warnings.warn(\n",
      "/opt/conda/lib/python3.10/site-packages/monai/transforms/utils.py:743: UserWarning: no available indices of class 7 to crop, setting the crop ratio of this class to zero.\n",
      "  warnings.warn(\n",
      "/opt/conda/lib/python3.10/site-packages/monai/transforms/utils.py:743: UserWarning: no available indices of class 2 to crop, setting the crop ratio of this class to zero.\n",
      "  warnings.warn(\n",
      "/opt/conda/lib/python3.10/site-packages/monai/transforms/utils.py:743: UserWarning: no available indices of class 7 to crop, setting the crop ratio of this class to zero.\n",
      "  warnings.warn(\n"
     ]
    },
    {
     "name": "stdout",
     "output_type": "stream",
     "text": [
      "batch 1/5, train_loss: 0.8488\n",
      "batch 2/5, train_loss: 0.8398\n",
      "batch 3/5, train_loss: 0.8456\n",
      "batch 4/5, train_loss: 0.8447\n",
      "batch 5/5, train_loss: 0.8397\n",
      "epoch 13 average loss: 0.8437\n",
      "----------\n",
      "epoch 14/200\n"
     ]
    },
    {
     "name": "stderr",
     "output_type": "stream",
     "text": [
      "/opt/conda/lib/python3.10/site-packages/monai/transforms/utils.py:743: UserWarning: no available indices of class 2 to crop, setting the crop ratio of this class to zero.\n",
      "  warnings.warn(\n",
      "/opt/conda/lib/python3.10/site-packages/monai/transforms/utils.py:743: UserWarning: no available indices of class 7 to crop, setting the crop ratio of this class to zero.\n",
      "  warnings.warn(\n",
      "/opt/conda/lib/python3.10/site-packages/monai/transforms/utils.py:743: UserWarning: no available indices of class 2 to crop, setting the crop ratio of this class to zero.\n",
      "  warnings.warn(\n",
      "/opt/conda/lib/python3.10/site-packages/monai/transforms/utils.py:743: UserWarning: no available indices of class 7 to crop, setting the crop ratio of this class to zero.\n",
      "  warnings.warn(\n",
      "/opt/conda/lib/python3.10/site-packages/monai/transforms/utils.py:743: UserWarning: no available indices of class 2 to crop, setting the crop ratio of this class to zero.\n",
      "  warnings.warn(\n",
      "/opt/conda/lib/python3.10/site-packages/monai/transforms/utils.py:743: UserWarning: no available indices of class 7 to crop, setting the crop ratio of this class to zero.\n",
      "  warnings.warn(\n",
      "/opt/conda/lib/python3.10/site-packages/monai/transforms/utils.py:743: UserWarning: no available indices of class 2 to crop, setting the crop ratio of this class to zero.\n",
      "  warnings.warn(\n",
      "/opt/conda/lib/python3.10/site-packages/monai/transforms/utils.py:743: UserWarning: no available indices of class 7 to crop, setting the crop ratio of this class to zero.\n",
      "  warnings.warn(\n"
     ]
    },
    {
     "name": "stdout",
     "output_type": "stream",
     "text": [
      "batch 1/5, train_loss: 0.8510\n",
      "batch 2/5, train_loss: 0.8390\n",
      "batch 3/5, train_loss: 0.8395\n",
      "batch 4/5, train_loss: 0.8520\n",
      "batch 5/5, train_loss: 0.8318\n",
      "epoch 14 average loss: 0.8427\n"
     ]
    },
    {
     "name": "stderr",
     "output_type": "stream",
     "text": [
      "/opt/conda/lib/python3.10/site-packages/monai/transforms/utils.py:743: UserWarning: no available indices of class 2 to crop, setting the crop ratio of this class to zero.\n",
      "  warnings.warn(\n",
      "/opt/conda/lib/python3.10/site-packages/monai/transforms/utils.py:743: UserWarning: no available indices of class 7 to crop, setting the crop ratio of this class to zero.\n",
      "  warnings.warn(\n",
      "/opt/conda/lib/python3.10/site-packages/monai/transforms/utils.py:743: UserWarning: no available indices of class 2 to crop, setting the crop ratio of this class to zero.\n",
      "  warnings.warn(\n",
      "/opt/conda/lib/python3.10/site-packages/monai/transforms/utils.py:743: UserWarning: no available indices of class 7 to crop, setting the crop ratio of this class to zero.\n",
      "  warnings.warn(\n"
     ]
    },
    {
     "name": "stdout",
     "output_type": "stream",
     "text": [
      "saved new best metric model\n",
      "current epoch: 14 current mean recall per class: 0.00178, 0, 0.0005126, 0.4927, 0.08727, 0.2628, 0\n",
      "best mean recall: 0.1207 at epoch: 14\n",
      "----------\n",
      "epoch 15/200\n"
     ]
    },
    {
     "name": "stderr",
     "output_type": "stream",
     "text": [
      "/opt/conda/lib/python3.10/site-packages/monai/transforms/utils.py:743: UserWarning: no available indices of class 2 to crop, setting the crop ratio of this class to zero.\n",
      "  warnings.warn(\n",
      "/opt/conda/lib/python3.10/site-packages/monai/transforms/utils.py:743: UserWarning: no available indices of class 7 to crop, setting the crop ratio of this class to zero.\n",
      "  warnings.warn(\n",
      "/opt/conda/lib/python3.10/site-packages/monai/transforms/utils.py:743: UserWarning: no available indices of class 2 to crop, setting the crop ratio of this class to zero.\n",
      "  warnings.warn(\n",
      "/opt/conda/lib/python3.10/site-packages/monai/transforms/utils.py:743: UserWarning: no available indices of class 7 to crop, setting the crop ratio of this class to zero.\n",
      "  warnings.warn(\n",
      "/opt/conda/lib/python3.10/site-packages/monai/transforms/utils.py:743: UserWarning: no available indices of class 2 to crop, setting the crop ratio of this class to zero.\n",
      "  warnings.warn(\n",
      "/opt/conda/lib/python3.10/site-packages/monai/transforms/utils.py:743: UserWarning: no available indices of class 7 to crop, setting the crop ratio of this class to zero.\n",
      "  warnings.warn(\n",
      "/opt/conda/lib/python3.10/site-packages/monai/transforms/utils.py:743: UserWarning: no available indices of class 2 to crop, setting the crop ratio of this class to zero.\n",
      "  warnings.warn(\n",
      "/opt/conda/lib/python3.10/site-packages/monai/transforms/utils.py:743: UserWarning: no available indices of class 7 to crop, setting the crop ratio of this class to zero.\n",
      "  warnings.warn(\n"
     ]
    },
    {
     "name": "stdout",
     "output_type": "stream",
     "text": [
      "batch 1/5, train_loss: 0.8456\n",
      "batch 2/5, train_loss: 0.8286\n",
      "batch 3/5, train_loss: 0.8479\n",
      "batch 4/5, train_loss: 0.8259\n",
      "batch 5/5, train_loss: 0.8377\n",
      "epoch 15 average loss: 0.8371\n",
      "----------\n",
      "epoch 16/200\n"
     ]
    },
    {
     "name": "stderr",
     "output_type": "stream",
     "text": [
      "/opt/conda/lib/python3.10/site-packages/monai/transforms/utils.py:743: UserWarning: no available indices of class 2 to crop, setting the crop ratio of this class to zero.\n",
      "  warnings.warn(\n",
      "/opt/conda/lib/python3.10/site-packages/monai/transforms/utils.py:743: UserWarning: no available indices of class 2 to crop, setting the crop ratio of this class to zero.\n",
      "  warnings.warn(\n",
      "/opt/conda/lib/python3.10/site-packages/monai/transforms/utils.py:743: UserWarning: no available indices of class 7 to crop, setting the crop ratio of this class to zero.\n",
      "  warnings.warn(\n",
      "/opt/conda/lib/python3.10/site-packages/monai/transforms/utils.py:743: UserWarning: no available indices of class 2 to crop, setting the crop ratio of this class to zero.\n",
      "  warnings.warn(\n",
      "/opt/conda/lib/python3.10/site-packages/monai/transforms/utils.py:743: UserWarning: no available indices of class 7 to crop, setting the crop ratio of this class to zero.\n",
      "  warnings.warn(\n",
      "/opt/conda/lib/python3.10/site-packages/monai/transforms/utils.py:743: UserWarning: no available indices of class 2 to crop, setting the crop ratio of this class to zero.\n",
      "  warnings.warn(\n",
      "/opt/conda/lib/python3.10/site-packages/monai/transforms/utils.py:743: UserWarning: no available indices of class 7 to crop, setting the crop ratio of this class to zero.\n",
      "  warnings.warn(\n",
      "/opt/conda/lib/python3.10/site-packages/monai/transforms/utils.py:743: UserWarning: no available indices of class 7 to crop, setting the crop ratio of this class to zero.\n",
      "  warnings.warn(\n"
     ]
    },
    {
     "name": "stdout",
     "output_type": "stream",
     "text": [
      "batch 1/5, train_loss: 0.8519\n",
      "batch 2/5, train_loss: 0.8542\n",
      "batch 3/5, train_loss: 0.8343\n",
      "batch 4/5, train_loss: 0.8325\n",
      "batch 5/5, train_loss: 0.8171\n",
      "epoch 16 average loss: 0.8380\n"
     ]
    },
    {
     "name": "stderr",
     "output_type": "stream",
     "text": [
      "/opt/conda/lib/python3.10/site-packages/monai/transforms/utils.py:743: UserWarning: no available indices of class 2 to crop, setting the crop ratio of this class to zero.\n",
      "  warnings.warn(\n",
      "/opt/conda/lib/python3.10/site-packages/monai/transforms/utils.py:743: UserWarning: no available indices of class 7 to crop, setting the crop ratio of this class to zero.\n",
      "  warnings.warn(\n",
      "/opt/conda/lib/python3.10/site-packages/monai/transforms/utils.py:743: UserWarning: no available indices of class 2 to crop, setting the crop ratio of this class to zero.\n",
      "  warnings.warn(\n",
      "/opt/conda/lib/python3.10/site-packages/monai/transforms/utils.py:743: UserWarning: no available indices of class 7 to crop, setting the crop ratio of this class to zero.\n",
      "  warnings.warn(\n"
     ]
    },
    {
     "name": "stdout",
     "output_type": "stream",
     "text": [
      "saved new best metric model\n",
      "current epoch: 16 current mean recall per class: 0.0009077, 0, 7.335e-05, 0.4223, 0.09047, 0.6336, 0\n",
      "best mean recall: 0.1639 at epoch: 16\n",
      "----------\n",
      "epoch 17/200\n"
     ]
    },
    {
     "name": "stderr",
     "output_type": "stream",
     "text": [
      "/opt/conda/lib/python3.10/site-packages/monai/transforms/utils.py:743: UserWarning: no available indices of class 2 to crop, setting the crop ratio of this class to zero.\n",
      "  warnings.warn(\n",
      "/opt/conda/lib/python3.10/site-packages/monai/transforms/utils.py:743: UserWarning: no available indices of class 7 to crop, setting the crop ratio of this class to zero.\n",
      "  warnings.warn(\n",
      "/opt/conda/lib/python3.10/site-packages/monai/transforms/utils.py:743: UserWarning: no available indices of class 2 to crop, setting the crop ratio of this class to zero.\n",
      "  warnings.warn(\n",
      "/opt/conda/lib/python3.10/site-packages/monai/transforms/utils.py:743: UserWarning: no available indices of class 7 to crop, setting the crop ratio of this class to zero.\n",
      "  warnings.warn(\n",
      "/opt/conda/lib/python3.10/site-packages/monai/transforms/utils.py:743: UserWarning: no available indices of class 2 to crop, setting the crop ratio of this class to zero.\n",
      "  warnings.warn(\n",
      "/opt/conda/lib/python3.10/site-packages/monai/transforms/utils.py:743: UserWarning: no available indices of class 7 to crop, setting the crop ratio of this class to zero.\n",
      "  warnings.warn(\n",
      "/opt/conda/lib/python3.10/site-packages/monai/transforms/utils.py:743: UserWarning: no available indices of class 2 to crop, setting the crop ratio of this class to zero.\n",
      "  warnings.warn(\n",
      "/opt/conda/lib/python3.10/site-packages/monai/transforms/utils.py:743: UserWarning: no available indices of class 7 to crop, setting the crop ratio of this class to zero.\n",
      "  warnings.warn(\n"
     ]
    },
    {
     "name": "stdout",
     "output_type": "stream",
     "text": [
      "batch 1/5, train_loss: 0.8590\n",
      "batch 2/5, train_loss: 0.8237\n",
      "batch 3/5, train_loss: 0.8335\n",
      "batch 4/5, train_loss: 0.8303\n",
      "batch 5/5, train_loss: 0.8473\n",
      "epoch 17 average loss: 0.8388\n",
      "----------\n",
      "epoch 18/200\n"
     ]
    },
    {
     "name": "stderr",
     "output_type": "stream",
     "text": [
      "/opt/conda/lib/python3.10/site-packages/monai/transforms/utils.py:743: UserWarning: no available indices of class 2 to crop, setting the crop ratio of this class to zero.\n",
      "  warnings.warn(\n",
      "/opt/conda/lib/python3.10/site-packages/monai/transforms/utils.py:743: UserWarning: no available indices of class 7 to crop, setting the crop ratio of this class to zero.\n",
      "  warnings.warn(\n",
      "/opt/conda/lib/python3.10/site-packages/monai/transforms/utils.py:743: UserWarning: no available indices of class 2 to crop, setting the crop ratio of this class to zero.\n",
      "  warnings.warn(\n",
      "/opt/conda/lib/python3.10/site-packages/monai/transforms/utils.py:743: UserWarning: no available indices of class 7 to crop, setting the crop ratio of this class to zero.\n",
      "  warnings.warn(\n",
      "/opt/conda/lib/python3.10/site-packages/monai/transforms/utils.py:743: UserWarning: no available indices of class 2 to crop, setting the crop ratio of this class to zero.\n",
      "  warnings.warn(\n",
      "/opt/conda/lib/python3.10/site-packages/monai/transforms/utils.py:743: UserWarning: no available indices of class 7 to crop, setting the crop ratio of this class to zero.\n",
      "  warnings.warn(\n",
      "/opt/conda/lib/python3.10/site-packages/monai/transforms/utils.py:743: UserWarning: no available indices of class 2 to crop, setting the crop ratio of this class to zero.\n",
      "  warnings.warn(\n",
      "/opt/conda/lib/python3.10/site-packages/monai/transforms/utils.py:743: UserWarning: no available indices of class 7 to crop, setting the crop ratio of this class to zero.\n",
      "  warnings.warn(\n"
     ]
    },
    {
     "name": "stdout",
     "output_type": "stream",
     "text": [
      "batch 1/5, train_loss: 0.8203\n",
      "batch 2/5, train_loss: 0.8085\n",
      "batch 3/5, train_loss: 0.8350\n",
      "batch 4/5, train_loss: 0.8389\n",
      "batch 5/5, train_loss: 0.8226\n",
      "epoch 18 average loss: 0.8251\n"
     ]
    },
    {
     "name": "stderr",
     "output_type": "stream",
     "text": [
      "/opt/conda/lib/python3.10/site-packages/monai/transforms/utils.py:743: UserWarning: no available indices of class 2 to crop, setting the crop ratio of this class to zero.\n",
      "  warnings.warn(\n",
      "/opt/conda/lib/python3.10/site-packages/monai/transforms/utils.py:743: UserWarning: no available indices of class 7 to crop, setting the crop ratio of this class to zero.\n",
      "  warnings.warn(\n",
      "/opt/conda/lib/python3.10/site-packages/monai/transforms/utils.py:743: UserWarning: no available indices of class 2 to crop, setting the crop ratio of this class to zero.\n",
      "  warnings.warn(\n",
      "/opt/conda/lib/python3.10/site-packages/monai/transforms/utils.py:743: UserWarning: no available indices of class 7 to crop, setting the crop ratio of this class to zero.\n",
      "  warnings.warn(\n"
     ]
    },
    {
     "name": "stdout",
     "output_type": "stream",
     "text": [
      "current epoch: 18 current mean recall per class: 0.0003468, 0, 0, 0.394, 0.09495, 0.4004, 0\n",
      "best mean recall: 0.1639 at epoch: 16\n",
      "----------\n",
      "epoch 19/200\n"
     ]
    },
    {
     "name": "stderr",
     "output_type": "stream",
     "text": [
      "/opt/conda/lib/python3.10/site-packages/monai/transforms/utils.py:743: UserWarning: no available indices of class 2 to crop, setting the crop ratio of this class to zero.\n",
      "  warnings.warn(\n",
      "/opt/conda/lib/python3.10/site-packages/monai/transforms/utils.py:743: UserWarning: no available indices of class 7 to crop, setting the crop ratio of this class to zero.\n",
      "  warnings.warn(\n",
      "/opt/conda/lib/python3.10/site-packages/monai/transforms/utils.py:743: UserWarning: no available indices of class 2 to crop, setting the crop ratio of this class to zero.\n",
      "  warnings.warn(\n",
      "/opt/conda/lib/python3.10/site-packages/monai/transforms/utils.py:743: UserWarning: no available indices of class 7 to crop, setting the crop ratio of this class to zero.\n",
      "  warnings.warn(\n",
      "/opt/conda/lib/python3.10/site-packages/monai/transforms/utils.py:743: UserWarning: no available indices of class 2 to crop, setting the crop ratio of this class to zero.\n",
      "  warnings.warn(\n",
      "/opt/conda/lib/python3.10/site-packages/monai/transforms/utils.py:743: UserWarning: no available indices of class 7 to crop, setting the crop ratio of this class to zero.\n",
      "  warnings.warn(\n",
      "/opt/conda/lib/python3.10/site-packages/monai/transforms/utils.py:743: UserWarning: no available indices of class 2 to crop, setting the crop ratio of this class to zero.\n",
      "  warnings.warn(\n",
      "/opt/conda/lib/python3.10/site-packages/monai/transforms/utils.py:743: UserWarning: no available indices of class 7 to crop, setting the crop ratio of this class to zero.\n",
      "  warnings.warn(\n"
     ]
    },
    {
     "name": "stdout",
     "output_type": "stream",
     "text": [
      "batch 1/5, train_loss: 0.8083\n",
      "batch 2/5, train_loss: 0.8177\n",
      "batch 3/5, train_loss: 0.8233\n",
      "batch 4/5, train_loss: 0.8192\n",
      "batch 5/5, train_loss: 0.8084\n",
      "epoch 19 average loss: 0.8154\n",
      "----------\n",
      "epoch 20/200\n"
     ]
    },
    {
     "name": "stderr",
     "output_type": "stream",
     "text": [
      "/opt/conda/lib/python3.10/site-packages/monai/transforms/utils.py:743: UserWarning: no available indices of class 2 to crop, setting the crop ratio of this class to zero.\n",
      "  warnings.warn(\n",
      "/opt/conda/lib/python3.10/site-packages/monai/transforms/utils.py:743: UserWarning: no available indices of class 7 to crop, setting the crop ratio of this class to zero.\n",
      "  warnings.warn(\n",
      "/opt/conda/lib/python3.10/site-packages/monai/transforms/utils.py:743: UserWarning: no available indices of class 2 to crop, setting the crop ratio of this class to zero.\n",
      "  warnings.warn(\n",
      "/opt/conda/lib/python3.10/site-packages/monai/transforms/utils.py:743: UserWarning: no available indices of class 7 to crop, setting the crop ratio of this class to zero.\n",
      "  warnings.warn(\n",
      "/opt/conda/lib/python3.10/site-packages/monai/transforms/utils.py:743: UserWarning: no available indices of class 2 to crop, setting the crop ratio of this class to zero.\n",
      "  warnings.warn(\n",
      "/opt/conda/lib/python3.10/site-packages/monai/transforms/utils.py:743: UserWarning: no available indices of class 7 to crop, setting the crop ratio of this class to zero.\n",
      "  warnings.warn(\n",
      "/opt/conda/lib/python3.10/site-packages/monai/transforms/utils.py:743: UserWarning: no available indices of class 2 to crop, setting the crop ratio of this class to zero.\n",
      "  warnings.warn(\n",
      "/opt/conda/lib/python3.10/site-packages/monai/transforms/utils.py:743: UserWarning: no available indices of class 7 to crop, setting the crop ratio of this class to zero.\n",
      "  warnings.warn(\n"
     ]
    },
    {
     "name": "stdout",
     "output_type": "stream",
     "text": [
      "batch 1/5, train_loss: 0.8186\n",
      "batch 2/5, train_loss: 0.8516\n",
      "batch 3/5, train_loss: 0.8185\n",
      "batch 4/5, train_loss: 0.8239\n",
      "batch 5/5, train_loss: 0.8057\n",
      "epoch 20 average loss: 0.8237\n"
     ]
    },
    {
     "name": "stderr",
     "output_type": "stream",
     "text": [
      "/opt/conda/lib/python3.10/site-packages/monai/transforms/utils.py:743: UserWarning: no available indices of class 2 to crop, setting the crop ratio of this class to zero.\n",
      "  warnings.warn(\n",
      "/opt/conda/lib/python3.10/site-packages/monai/transforms/utils.py:743: UserWarning: no available indices of class 2 to crop, setting the crop ratio of this class to zero.\n",
      "  warnings.warn(\n",
      "/opt/conda/lib/python3.10/site-packages/monai/transforms/utils.py:743: UserWarning: no available indices of class 7 to crop, setting the crop ratio of this class to zero.\n",
      "  warnings.warn(\n",
      "/opt/conda/lib/python3.10/site-packages/monai/transforms/utils.py:743: UserWarning: no available indices of class 7 to crop, setting the crop ratio of this class to zero.\n",
      "  warnings.warn(\n"
     ]
    },
    {
     "name": "stdout",
     "output_type": "stream",
     "text": [
      "current epoch: 20 current mean recall per class: 0, 0, 0, 0.4577, 0.06779, 0.2896, 0\n",
      "best mean recall: 0.1639 at epoch: 16\n",
      "----------\n",
      "epoch 21/200\n"
     ]
    },
    {
     "name": "stderr",
     "output_type": "stream",
     "text": [
      "/opt/conda/lib/python3.10/site-packages/monai/transforms/utils.py:743: UserWarning: no available indices of class 2 to crop, setting the crop ratio of this class to zero.\n",
      "  warnings.warn(\n",
      "/opt/conda/lib/python3.10/site-packages/monai/transforms/utils.py:743: UserWarning: no available indices of class 7 to crop, setting the crop ratio of this class to zero.\n",
      "  warnings.warn(\n",
      "/opt/conda/lib/python3.10/site-packages/monai/transforms/utils.py:743: UserWarning: no available indices of class 2 to crop, setting the crop ratio of this class to zero.\n",
      "  warnings.warn(\n",
      "/opt/conda/lib/python3.10/site-packages/monai/transforms/utils.py:743: UserWarning: no available indices of class 7 to crop, setting the crop ratio of this class to zero.\n",
      "  warnings.warn(\n",
      "/opt/conda/lib/python3.10/site-packages/monai/transforms/utils.py:743: UserWarning: no available indices of class 2 to crop, setting the crop ratio of this class to zero.\n",
      "  warnings.warn(\n",
      "/opt/conda/lib/python3.10/site-packages/monai/transforms/utils.py:743: UserWarning: no available indices of class 7 to crop, setting the crop ratio of this class to zero.\n",
      "  warnings.warn(\n",
      "/opt/conda/lib/python3.10/site-packages/monai/transforms/utils.py:743: UserWarning: no available indices of class 2 to crop, setting the crop ratio of this class to zero.\n",
      "  warnings.warn(\n",
      "/opt/conda/lib/python3.10/site-packages/monai/transforms/utils.py:743: UserWarning: no available indices of class 7 to crop, setting the crop ratio of this class to zero.\n",
      "  warnings.warn(\n"
     ]
    },
    {
     "name": "stdout",
     "output_type": "stream",
     "text": [
      "batch 1/5, train_loss: 0.8219\n",
      "batch 2/5, train_loss: 0.8124\n",
      "batch 3/5, train_loss: 0.8089\n",
      "batch 4/5, train_loss: 0.8236\n",
      "batch 5/5, train_loss: 0.7863\n",
      "epoch 21 average loss: 0.8106\n",
      "----------\n",
      "epoch 22/200\n"
     ]
    },
    {
     "name": "stderr",
     "output_type": "stream",
     "text": [
      "/opt/conda/lib/python3.10/site-packages/monai/transforms/utils.py:743: UserWarning: no available indices of class 2 to crop, setting the crop ratio of this class to zero.\n",
      "  warnings.warn(\n",
      "/opt/conda/lib/python3.10/site-packages/monai/transforms/utils.py:743: UserWarning: no available indices of class 7 to crop, setting the crop ratio of this class to zero.\n",
      "  warnings.warn(\n",
      "/opt/conda/lib/python3.10/site-packages/monai/transforms/utils.py:743: UserWarning: no available indices of class 2 to crop, setting the crop ratio of this class to zero.\n",
      "  warnings.warn(\n",
      "/opt/conda/lib/python3.10/site-packages/monai/transforms/utils.py:743: UserWarning: no available indices of class 7 to crop, setting the crop ratio of this class to zero.\n",
      "  warnings.warn(\n",
      "/opt/conda/lib/python3.10/site-packages/monai/transforms/utils.py:743: UserWarning: no available indices of class 2 to crop, setting the crop ratio of this class to zero.\n",
      "  warnings.warn(\n",
      "/opt/conda/lib/python3.10/site-packages/monai/transforms/utils.py:743: UserWarning: no available indices of class 7 to crop, setting the crop ratio of this class to zero.\n",
      "  warnings.warn(\n",
      "/opt/conda/lib/python3.10/site-packages/monai/transforms/utils.py:743: UserWarning: no available indices of class 2 to crop, setting the crop ratio of this class to zero.\n",
      "  warnings.warn(\n",
      "/opt/conda/lib/python3.10/site-packages/monai/transforms/utils.py:743: UserWarning: no available indices of class 7 to crop, setting the crop ratio of this class to zero.\n",
      "  warnings.warn(\n"
     ]
    },
    {
     "name": "stdout",
     "output_type": "stream",
     "text": [
      "batch 1/5, train_loss: 0.8168\n",
      "batch 2/5, train_loss: 0.8173\n",
      "batch 3/5, train_loss: 0.8112\n",
      "batch 4/5, train_loss: 0.8162\n",
      "batch 5/5, train_loss: 0.8099\n",
      "epoch 22 average loss: 0.8143\n"
     ]
    },
    {
     "name": "stderr",
     "output_type": "stream",
     "text": [
      "/opt/conda/lib/python3.10/site-packages/monai/transforms/utils.py:743: UserWarning: no available indices of class 2 to crop, setting the crop ratio of this class to zero.\n",
      "  warnings.warn(\n",
      "/opt/conda/lib/python3.10/site-packages/monai/transforms/utils.py:743: UserWarning: no available indices of class 7 to crop, setting the crop ratio of this class to zero.\n",
      "  warnings.warn(\n",
      "/opt/conda/lib/python3.10/site-packages/monai/transforms/utils.py:743: UserWarning: no available indices of class 2 to crop, setting the crop ratio of this class to zero.\n",
      "  warnings.warn(\n",
      "/opt/conda/lib/python3.10/site-packages/monai/transforms/utils.py:743: UserWarning: no available indices of class 7 to crop, setting the crop ratio of this class to zero.\n",
      "  warnings.warn(\n"
     ]
    },
    {
     "name": "stdout",
     "output_type": "stream",
     "text": [
      "current epoch: 22 current mean recall per class: 0, 0, 0, 0.4527, 0.1114, 0.4883, 0\n",
      "best mean recall: 0.1639 at epoch: 16\n",
      "----------\n",
      "epoch 23/200\n"
     ]
    },
    {
     "name": "stderr",
     "output_type": "stream",
     "text": [
      "/opt/conda/lib/python3.10/site-packages/monai/transforms/utils.py:743: UserWarning: no available indices of class 2 to crop, setting the crop ratio of this class to zero.\n",
      "  warnings.warn(\n",
      "/opt/conda/lib/python3.10/site-packages/monai/transforms/utils.py:743: UserWarning: no available indices of class 7 to crop, setting the crop ratio of this class to zero.\n",
      "  warnings.warn(\n",
      "/opt/conda/lib/python3.10/site-packages/monai/transforms/utils.py:743: UserWarning: no available indices of class 2 to crop, setting the crop ratio of this class to zero.\n",
      "  warnings.warn(\n",
      "/opt/conda/lib/python3.10/site-packages/monai/transforms/utils.py:743: UserWarning: no available indices of class 7 to crop, setting the crop ratio of this class to zero.\n",
      "  warnings.warn(\n",
      "/opt/conda/lib/python3.10/site-packages/monai/transforms/utils.py:743: UserWarning: no available indices of class 2 to crop, setting the crop ratio of this class to zero.\n",
      "  warnings.warn(\n",
      "/opt/conda/lib/python3.10/site-packages/monai/transforms/utils.py:743: UserWarning: no available indices of class 7 to crop, setting the crop ratio of this class to zero.\n",
      "  warnings.warn(\n",
      "/opt/conda/lib/python3.10/site-packages/monai/transforms/utils.py:743: UserWarning: no available indices of class 2 to crop, setting the crop ratio of this class to zero.\n",
      "  warnings.warn(\n",
      "/opt/conda/lib/python3.10/site-packages/monai/transforms/utils.py:743: UserWarning: no available indices of class 7 to crop, setting the crop ratio of this class to zero.\n",
      "  warnings.warn(\n"
     ]
    },
    {
     "name": "stdout",
     "output_type": "stream",
     "text": [
      "batch 1/5, train_loss: 0.8040\n",
      "batch 2/5, train_loss: 0.8233\n",
      "batch 3/5, train_loss: 0.8322\n",
      "batch 4/5, train_loss: 0.8204\n",
      "batch 5/5, train_loss: 0.8164\n",
      "epoch 23 average loss: 0.8193\n",
      "----------\n",
      "epoch 24/200\n"
     ]
    },
    {
     "name": "stderr",
     "output_type": "stream",
     "text": [
      "/opt/conda/lib/python3.10/site-packages/monai/transforms/utils.py:743: UserWarning: no available indices of class 2 to crop, setting the crop ratio of this class to zero.\n",
      "  warnings.warn(\n",
      "/opt/conda/lib/python3.10/site-packages/monai/transforms/utils.py:743: UserWarning: no available indices of class 7 to crop, setting the crop ratio of this class to zero.\n",
      "  warnings.warn(\n",
      "/opt/conda/lib/python3.10/site-packages/monai/transforms/utils.py:743: UserWarning: no available indices of class 2 to crop, setting the crop ratio of this class to zero.\n",
      "  warnings.warn(\n",
      "/opt/conda/lib/python3.10/site-packages/monai/transforms/utils.py:743: UserWarning: no available indices of class 7 to crop, setting the crop ratio of this class to zero.\n",
      "  warnings.warn(\n",
      "/opt/conda/lib/python3.10/site-packages/monai/transforms/utils.py:743: UserWarning: no available indices of class 2 to crop, setting the crop ratio of this class to zero.\n",
      "  warnings.warn(\n",
      "/opt/conda/lib/python3.10/site-packages/monai/transforms/utils.py:743: UserWarning: no available indices of class 7 to crop, setting the crop ratio of this class to zero.\n",
      "  warnings.warn(\n",
      "/opt/conda/lib/python3.10/site-packages/monai/transforms/utils.py:743: UserWarning: no available indices of class 2 to crop, setting the crop ratio of this class to zero.\n",
      "  warnings.warn(\n",
      "/opt/conda/lib/python3.10/site-packages/monai/transforms/utils.py:743: UserWarning: no available indices of class 7 to crop, setting the crop ratio of this class to zero.\n",
      "  warnings.warn(\n"
     ]
    },
    {
     "name": "stdout",
     "output_type": "stream",
     "text": [
      "batch 1/5, train_loss: 0.8158\n",
      "batch 2/5, train_loss: 0.8103\n",
      "batch 3/5, train_loss: 0.8123\n",
      "batch 4/5, train_loss: 0.7924\n",
      "batch 5/5, train_loss: 0.8166\n",
      "epoch 24 average loss: 0.8095\n"
     ]
    },
    {
     "name": "stderr",
     "output_type": "stream",
     "text": [
      "/opt/conda/lib/python3.10/site-packages/monai/transforms/utils.py:743: UserWarning: no available indices of class 2 to crop, setting the crop ratio of this class to zero.\n",
      "  warnings.warn(\n",
      "/opt/conda/lib/python3.10/site-packages/monai/transforms/utils.py:743: UserWarning: no available indices of class 7 to crop, setting the crop ratio of this class to zero.\n",
      "  warnings.warn(\n",
      "/opt/conda/lib/python3.10/site-packages/monai/transforms/utils.py:743: UserWarning: no available indices of class 2 to crop, setting the crop ratio of this class to zero.\n",
      "  warnings.warn(\n",
      "/opt/conda/lib/python3.10/site-packages/monai/transforms/utils.py:743: UserWarning: no available indices of class 7 to crop, setting the crop ratio of this class to zero.\n",
      "  warnings.warn(\n"
     ]
    },
    {
     "name": "stdout",
     "output_type": "stream",
     "text": [
      "saved new best metric model\n",
      "current epoch: 24 current mean recall per class: 0, 0, 0, 0.6003, 0.1098, 0.5172, 0\n",
      "best mean recall: 0.1753 at epoch: 24\n",
      "----------\n",
      "epoch 25/200\n"
     ]
    },
    {
     "name": "stderr",
     "output_type": "stream",
     "text": [
      "/opt/conda/lib/python3.10/site-packages/monai/transforms/utils.py:743: UserWarning: no available indices of class 2 to crop, setting the crop ratio of this class to zero.\n",
      "  warnings.warn(\n",
      "/opt/conda/lib/python3.10/site-packages/monai/transforms/utils.py:743: UserWarning: no available indices of class 2 to crop, setting the crop ratio of this class to zero.\n",
      "  warnings.warn(\n",
      "/opt/conda/lib/python3.10/site-packages/monai/transforms/utils.py:743: UserWarning: no available indices of class 7 to crop, setting the crop ratio of this class to zero.\n",
      "  warnings.warn(\n",
      "/opt/conda/lib/python3.10/site-packages/monai/transforms/utils.py:743: UserWarning: no available indices of class 7 to crop, setting the crop ratio of this class to zero.\n",
      "  warnings.warn(\n",
      "/opt/conda/lib/python3.10/site-packages/monai/transforms/utils.py:743: UserWarning: no available indices of class 2 to crop, setting the crop ratio of this class to zero.\n",
      "  warnings.warn(\n",
      "/opt/conda/lib/python3.10/site-packages/monai/transforms/utils.py:743: UserWarning: no available indices of class 7 to crop, setting the crop ratio of this class to zero.\n",
      "  warnings.warn(\n",
      "/opt/conda/lib/python3.10/site-packages/monai/transforms/utils.py:743: UserWarning: no available indices of class 2 to crop, setting the crop ratio of this class to zero.\n",
      "  warnings.warn(\n",
      "/opt/conda/lib/python3.10/site-packages/monai/transforms/utils.py:743: UserWarning: no available indices of class 7 to crop, setting the crop ratio of this class to zero.\n",
      "  warnings.warn(\n"
     ]
    },
    {
     "name": "stdout",
     "output_type": "stream",
     "text": [
      "batch 1/5, train_loss: 0.7976\n",
      "batch 2/5, train_loss: 0.8083\n",
      "batch 3/5, train_loss: 0.8172\n",
      "batch 4/5, train_loss: 0.8397\n",
      "batch 5/5, train_loss: 0.8086\n",
      "epoch 25 average loss: 0.8143\n",
      "----------\n",
      "epoch 26/200\n"
     ]
    },
    {
     "name": "stderr",
     "output_type": "stream",
     "text": [
      "/opt/conda/lib/python3.10/site-packages/monai/transforms/utils.py:743: UserWarning: no available indices of class 2 to crop, setting the crop ratio of this class to zero.\n",
      "  warnings.warn(\n",
      "/opt/conda/lib/python3.10/site-packages/monai/transforms/utils.py:743: UserWarning: no available indices of class 7 to crop, setting the crop ratio of this class to zero.\n",
      "  warnings.warn(\n",
      "/opt/conda/lib/python3.10/site-packages/monai/transforms/utils.py:743: UserWarning: no available indices of class 2 to crop, setting the crop ratio of this class to zero.\n",
      "  warnings.warn(\n",
      "/opt/conda/lib/python3.10/site-packages/monai/transforms/utils.py:743: UserWarning: no available indices of class 7 to crop, setting the crop ratio of this class to zero.\n",
      "  warnings.warn(\n",
      "/opt/conda/lib/python3.10/site-packages/monai/transforms/utils.py:743: UserWarning: no available indices of class 2 to crop, setting the crop ratio of this class to zero.\n",
      "  warnings.warn(\n",
      "/opt/conda/lib/python3.10/site-packages/monai/transforms/utils.py:743: UserWarning: no available indices of class 7 to crop, setting the crop ratio of this class to zero.\n",
      "  warnings.warn(\n",
      "/opt/conda/lib/python3.10/site-packages/monai/transforms/utils.py:743: UserWarning: no available indices of class 2 to crop, setting the crop ratio of this class to zero.\n",
      "  warnings.warn(\n",
      "/opt/conda/lib/python3.10/site-packages/monai/transforms/utils.py:743: UserWarning: no available indices of class 7 to crop, setting the crop ratio of this class to zero.\n",
      "  warnings.warn(\n"
     ]
    },
    {
     "name": "stdout",
     "output_type": "stream",
     "text": [
      "batch 1/5, train_loss: 0.8110\n",
      "batch 2/5, train_loss: 0.8401\n",
      "batch 3/5, train_loss: 0.8213\n",
      "batch 4/5, train_loss: 0.8232\n",
      "batch 5/5, train_loss: 0.8207\n",
      "epoch 26 average loss: 0.8233\n"
     ]
    },
    {
     "name": "stderr",
     "output_type": "stream",
     "text": [
      "/opt/conda/lib/python3.10/site-packages/monai/transforms/utils.py:743: UserWarning: no available indices of class 2 to crop, setting the crop ratio of this class to zero.\n",
      "  warnings.warn(\n",
      "/opt/conda/lib/python3.10/site-packages/monai/transforms/utils.py:743: UserWarning: no available indices of class 7 to crop, setting the crop ratio of this class to zero.\n",
      "  warnings.warn(\n",
      "/opt/conda/lib/python3.10/site-packages/monai/transforms/utils.py:743: UserWarning: no available indices of class 2 to crop, setting the crop ratio of this class to zero.\n",
      "  warnings.warn(\n",
      "/opt/conda/lib/python3.10/site-packages/monai/transforms/utils.py:743: UserWarning: no available indices of class 7 to crop, setting the crop ratio of this class to zero.\n",
      "  warnings.warn(\n"
     ]
    },
    {
     "name": "stdout",
     "output_type": "stream",
     "text": [
      "current epoch: 26 current mean recall per class: 0.0001274, 0, 0, 0.3768, 0.1962, 0.6374, 0\n",
      "best mean recall: 0.1753 at epoch: 24\n",
      "----------\n",
      "epoch 27/200\n"
     ]
    },
    {
     "name": "stderr",
     "output_type": "stream",
     "text": [
      "/opt/conda/lib/python3.10/site-packages/monai/transforms/utils.py:743: UserWarning: no available indices of class 2 to crop, setting the crop ratio of this class to zero.\n",
      "  warnings.warn(\n",
      "/opt/conda/lib/python3.10/site-packages/monai/transforms/utils.py:743: UserWarning: no available indices of class 7 to crop, setting the crop ratio of this class to zero.\n",
      "  warnings.warn(\n",
      "/opt/conda/lib/python3.10/site-packages/monai/transforms/utils.py:743: UserWarning: no available indices of class 2 to crop, setting the crop ratio of this class to zero.\n",
      "  warnings.warn(\n",
      "/opt/conda/lib/python3.10/site-packages/monai/transforms/utils.py:743: UserWarning: no available indices of class 7 to crop, setting the crop ratio of this class to zero.\n",
      "  warnings.warn(\n",
      "/opt/conda/lib/python3.10/site-packages/monai/transforms/utils.py:743: UserWarning: no available indices of class 2 to crop, setting the crop ratio of this class to zero.\n",
      "  warnings.warn(\n",
      "/opt/conda/lib/python3.10/site-packages/monai/transforms/utils.py:743: UserWarning: no available indices of class 7 to crop, setting the crop ratio of this class to zero.\n",
      "  warnings.warn(\n",
      "/opt/conda/lib/python3.10/site-packages/monai/transforms/utils.py:743: UserWarning: no available indices of class 2 to crop, setting the crop ratio of this class to zero.\n",
      "  warnings.warn(\n",
      "/opt/conda/lib/python3.10/site-packages/monai/transforms/utils.py:743: UserWarning: no available indices of class 7 to crop, setting the crop ratio of this class to zero.\n",
      "  warnings.warn(\n"
     ]
    },
    {
     "name": "stdout",
     "output_type": "stream",
     "text": [
      "batch 1/5, train_loss: 0.7942\n",
      "batch 2/5, train_loss: 0.8088\n",
      "batch 3/5, train_loss: 0.8073\n",
      "batch 4/5, train_loss: 0.8165\n",
      "batch 5/5, train_loss: 0.8174\n",
      "epoch 27 average loss: 0.8088\n",
      "----------\n",
      "epoch 28/200\n"
     ]
    },
    {
     "name": "stderr",
     "output_type": "stream",
     "text": [
      "/opt/conda/lib/python3.10/site-packages/monai/transforms/utils.py:743: UserWarning: no available indices of class 2 to crop, setting the crop ratio of this class to zero.\n",
      "  warnings.warn(\n",
      "/opt/conda/lib/python3.10/site-packages/monai/transforms/utils.py:743: UserWarning: no available indices of class 7 to crop, setting the crop ratio of this class to zero.\n",
      "  warnings.warn(\n",
      "/opt/conda/lib/python3.10/site-packages/monai/transforms/utils.py:743: UserWarning: no available indices of class 2 to crop, setting the crop ratio of this class to zero.\n",
      "  warnings.warn(\n",
      "/opt/conda/lib/python3.10/site-packages/monai/transforms/utils.py:743: UserWarning: no available indices of class 7 to crop, setting the crop ratio of this class to zero.\n",
      "  warnings.warn(\n",
      "/opt/conda/lib/python3.10/site-packages/monai/transforms/utils.py:743: UserWarning: no available indices of class 2 to crop, setting the crop ratio of this class to zero.\n",
      "  warnings.warn(\n",
      "/opt/conda/lib/python3.10/site-packages/monai/transforms/utils.py:743: UserWarning: no available indices of class 7 to crop, setting the crop ratio of this class to zero.\n",
      "  warnings.warn(\n",
      "/opt/conda/lib/python3.10/site-packages/monai/transforms/utils.py:743: UserWarning: no available indices of class 2 to crop, setting the crop ratio of this class to zero.\n",
      "  warnings.warn(\n",
      "/opt/conda/lib/python3.10/site-packages/monai/transforms/utils.py:743: UserWarning: no available indices of class 7 to crop, setting the crop ratio of this class to zero.\n",
      "  warnings.warn(\n"
     ]
    },
    {
     "name": "stdout",
     "output_type": "stream",
     "text": [
      "batch 1/5, train_loss: 0.8119\n",
      "batch 2/5, train_loss: 0.8362\n",
      "batch 3/5, train_loss: 0.8074\n",
      "batch 4/5, train_loss: 0.8052\n",
      "batch 5/5, train_loss: 0.8057\n",
      "epoch 28 average loss: 0.8133\n"
     ]
    },
    {
     "name": "stderr",
     "output_type": "stream",
     "text": [
      "/opt/conda/lib/python3.10/site-packages/monai/transforms/utils.py:743: UserWarning: no available indices of class 2 to crop, setting the crop ratio of this class to zero.\n",
      "  warnings.warn(\n",
      "/opt/conda/lib/python3.10/site-packages/monai/transforms/utils.py:743: UserWarning: no available indices of class 7 to crop, setting the crop ratio of this class to zero.\n",
      "  warnings.warn(\n",
      "/opt/conda/lib/python3.10/site-packages/monai/transforms/utils.py:743: UserWarning: no available indices of class 2 to crop, setting the crop ratio of this class to zero.\n",
      "  warnings.warn(\n",
      "/opt/conda/lib/python3.10/site-packages/monai/transforms/utils.py:743: UserWarning: no available indices of class 7 to crop, setting the crop ratio of this class to zero.\n",
      "  warnings.warn(\n"
     ]
    },
    {
     "name": "stdout",
     "output_type": "stream",
     "text": [
      "current epoch: 28 current mean recall per class: 0.001601, 0, 6.88e-05, 0.4529, 0.2021, 0.5673, 0\n",
      "best mean recall: 0.1753 at epoch: 24\n",
      "----------\n",
      "epoch 29/200\n"
     ]
    },
    {
     "name": "stderr",
     "output_type": "stream",
     "text": [
      "/opt/conda/lib/python3.10/site-packages/monai/transforms/utils.py:743: UserWarning: no available indices of class 2 to crop, setting the crop ratio of this class to zero.\n",
      "  warnings.warn(\n",
      "/opt/conda/lib/python3.10/site-packages/monai/transforms/utils.py:743: UserWarning: no available indices of class 7 to crop, setting the crop ratio of this class to zero.\n",
      "  warnings.warn(\n",
      "/opt/conda/lib/python3.10/site-packages/monai/transforms/utils.py:743: UserWarning: no available indices of class 2 to crop, setting the crop ratio of this class to zero.\n",
      "  warnings.warn(\n",
      "/opt/conda/lib/python3.10/site-packages/monai/transforms/utils.py:743: UserWarning: no available indices of class 7 to crop, setting the crop ratio of this class to zero.\n",
      "  warnings.warn(\n",
      "/opt/conda/lib/python3.10/site-packages/monai/transforms/utils.py:743: UserWarning: no available indices of class 2 to crop, setting the crop ratio of this class to zero.\n",
      "  warnings.warn(\n",
      "/opt/conda/lib/python3.10/site-packages/monai/transforms/utils.py:743: UserWarning: no available indices of class 2 to crop, setting the crop ratio of this class to zero.\n",
      "  warnings.warn(\n",
      "/opt/conda/lib/python3.10/site-packages/monai/transforms/utils.py:743: UserWarning: no available indices of class 7 to crop, setting the crop ratio of this class to zero.\n",
      "  warnings.warn(\n",
      "/opt/conda/lib/python3.10/site-packages/monai/transforms/utils.py:743: UserWarning: no available indices of class 7 to crop, setting the crop ratio of this class to zero.\n",
      "  warnings.warn(\n"
     ]
    },
    {
     "name": "stdout",
     "output_type": "stream",
     "text": [
      "batch 1/5, train_loss: 0.7963\n",
      "batch 2/5, train_loss: 0.8286\n",
      "batch 3/5, train_loss: 0.7865\n",
      "batch 4/5, train_loss: 0.8028\n",
      "batch 5/5, train_loss: 0.8143\n",
      "epoch 29 average loss: 0.8057\n",
      "----------\n",
      "epoch 30/200\n"
     ]
    },
    {
     "name": "stderr",
     "output_type": "stream",
     "text": [
      "/opt/conda/lib/python3.10/site-packages/monai/transforms/utils.py:743: UserWarning: no available indices of class 2 to crop, setting the crop ratio of this class to zero.\n",
      "  warnings.warn(\n",
      "/opt/conda/lib/python3.10/site-packages/monai/transforms/utils.py:743: UserWarning: no available indices of class 7 to crop, setting the crop ratio of this class to zero.\n",
      "  warnings.warn(\n",
      "/opt/conda/lib/python3.10/site-packages/monai/transforms/utils.py:743: UserWarning: no available indices of class 2 to crop, setting the crop ratio of this class to zero.\n",
      "  warnings.warn(\n",
      "/opt/conda/lib/python3.10/site-packages/monai/transforms/utils.py:743: UserWarning: no available indices of class 2 to crop, setting the crop ratio of this class to zero.\n",
      "  warnings.warn(\n",
      "/opt/conda/lib/python3.10/site-packages/monai/transforms/utils.py:743: UserWarning: no available indices of class 7 to crop, setting the crop ratio of this class to zero.\n",
      "  warnings.warn(\n",
      "/opt/conda/lib/python3.10/site-packages/monai/transforms/utils.py:743: UserWarning: no available indices of class 2 to crop, setting the crop ratio of this class to zero.\n",
      "  warnings.warn(\n",
      "/opt/conda/lib/python3.10/site-packages/monai/transforms/utils.py:743: UserWarning: no available indices of class 7 to crop, setting the crop ratio of this class to zero.\n",
      "  warnings.warn(\n",
      "/opt/conda/lib/python3.10/site-packages/monai/transforms/utils.py:743: UserWarning: no available indices of class 7 to crop, setting the crop ratio of this class to zero.\n",
      "  warnings.warn(\n"
     ]
    },
    {
     "name": "stdout",
     "output_type": "stream",
     "text": [
      "batch 1/5, train_loss: 0.7870\n",
      "batch 2/5, train_loss: 0.7930\n",
      "batch 3/5, train_loss: 0.8082\n",
      "batch 4/5, train_loss: 0.7733\n",
      "batch 5/5, train_loss: 0.7938\n",
      "epoch 30 average loss: 0.7911\n"
     ]
    },
    {
     "name": "stderr",
     "output_type": "stream",
     "text": [
      "/opt/conda/lib/python3.10/site-packages/monai/transforms/utils.py:743: UserWarning: no available indices of class 2 to crop, setting the crop ratio of this class to zero.\n",
      "  warnings.warn(\n",
      "/opt/conda/lib/python3.10/site-packages/monai/transforms/utils.py:743: UserWarning: no available indices of class 7 to crop, setting the crop ratio of this class to zero.\n",
      "  warnings.warn(\n",
      "/opt/conda/lib/python3.10/site-packages/monai/transforms/utils.py:743: UserWarning: no available indices of class 2 to crop, setting the crop ratio of this class to zero.\n",
      "  warnings.warn(\n",
      "/opt/conda/lib/python3.10/site-packages/monai/transforms/utils.py:743: UserWarning: no available indices of class 7 to crop, setting the crop ratio of this class to zero.\n",
      "  warnings.warn(\n"
     ]
    },
    {
     "name": "stdout",
     "output_type": "stream",
     "text": [
      "saved new best metric model\n",
      "current epoch: 30 current mean recall per class: 0.01246, 0, 0.005747, 0.3822, 0.2426, 0.675, 0\n",
      "best mean recall: 0.1883 at epoch: 30\n",
      "----------\n",
      "epoch 31/200\n"
     ]
    },
    {
     "name": "stderr",
     "output_type": "stream",
     "text": [
      "/opt/conda/lib/python3.10/site-packages/monai/transforms/utils.py:743: UserWarning: no available indices of class 2 to crop, setting the crop ratio of this class to zero.\n",
      "  warnings.warn(\n",
      "/opt/conda/lib/python3.10/site-packages/monai/transforms/utils.py:743: UserWarning: no available indices of class 7 to crop, setting the crop ratio of this class to zero.\n",
      "  warnings.warn(\n",
      "/opt/conda/lib/python3.10/site-packages/monai/transforms/utils.py:743: UserWarning: no available indices of class 2 to crop, setting the crop ratio of this class to zero.\n",
      "  warnings.warn(\n",
      "/opt/conda/lib/python3.10/site-packages/monai/transforms/utils.py:743: UserWarning: no available indices of class 7 to crop, setting the crop ratio of this class to zero.\n",
      "  warnings.warn(\n",
      "/opt/conda/lib/python3.10/site-packages/monai/transforms/utils.py:743: UserWarning: no available indices of class 2 to crop, setting the crop ratio of this class to zero.\n",
      "  warnings.warn(\n",
      "/opt/conda/lib/python3.10/site-packages/monai/transforms/utils.py:743: UserWarning: no available indices of class 7 to crop, setting the crop ratio of this class to zero.\n",
      "  warnings.warn(\n",
      "/opt/conda/lib/python3.10/site-packages/monai/transforms/utils.py:743: UserWarning: no available indices of class 2 to crop, setting the crop ratio of this class to zero.\n",
      "  warnings.warn(\n",
      "/opt/conda/lib/python3.10/site-packages/monai/transforms/utils.py:743: UserWarning: no available indices of class 7 to crop, setting the crop ratio of this class to zero.\n",
      "  warnings.warn(\n"
     ]
    },
    {
     "name": "stdout",
     "output_type": "stream",
     "text": [
      "batch 1/5, train_loss: 0.7926\n",
      "batch 2/5, train_loss: 0.7897\n",
      "batch 3/5, train_loss: 0.7988\n",
      "batch 4/5, train_loss: 0.7867\n",
      "batch 5/5, train_loss: 0.7809\n",
      "epoch 31 average loss: 0.7897\n",
      "----------\n",
      "epoch 32/200\n"
     ]
    },
    {
     "name": "stderr",
     "output_type": "stream",
     "text": [
      "/opt/conda/lib/python3.10/site-packages/monai/transforms/utils.py:743: UserWarning: no available indices of class 2 to crop, setting the crop ratio of this class to zero.\n",
      "  warnings.warn(\n",
      "/opt/conda/lib/python3.10/site-packages/monai/transforms/utils.py:743: UserWarning: no available indices of class 2 to crop, setting the crop ratio of this class to zero.\n",
      "  warnings.warn(\n",
      "/opt/conda/lib/python3.10/site-packages/monai/transforms/utils.py:743: UserWarning: no available indices of class 7 to crop, setting the crop ratio of this class to zero.\n",
      "  warnings.warn(\n",
      "/opt/conda/lib/python3.10/site-packages/monai/transforms/utils.py:743: UserWarning: no available indices of class 2 to crop, setting the crop ratio of this class to zero.\n",
      "  warnings.warn(\n",
      "/opt/conda/lib/python3.10/site-packages/monai/transforms/utils.py:743: UserWarning: no available indices of class 7 to crop, setting the crop ratio of this class to zero.\n",
      "  warnings.warn(\n",
      "/opt/conda/lib/python3.10/site-packages/monai/transforms/utils.py:743: UserWarning: no available indices of class 7 to crop, setting the crop ratio of this class to zero.\n",
      "  warnings.warn(\n",
      "/opt/conda/lib/python3.10/site-packages/monai/transforms/utils.py:743: UserWarning: no available indices of class 2 to crop, setting the crop ratio of this class to zero.\n",
      "  warnings.warn(\n",
      "/opt/conda/lib/python3.10/site-packages/monai/transforms/utils.py:743: UserWarning: no available indices of class 7 to crop, setting the crop ratio of this class to zero.\n",
      "  warnings.warn(\n"
     ]
    },
    {
     "name": "stdout",
     "output_type": "stream",
     "text": [
      "batch 1/5, train_loss: 0.7993\n",
      "batch 2/5, train_loss: 0.8001\n",
      "batch 3/5, train_loss: 0.8049\n",
      "batch 4/5, train_loss: 0.8117\n",
      "batch 5/5, train_loss: 0.7769\n",
      "epoch 32 average loss: 0.7986\n"
     ]
    },
    {
     "name": "stderr",
     "output_type": "stream",
     "text": [
      "/opt/conda/lib/python3.10/site-packages/monai/transforms/utils.py:743: UserWarning: no available indices of class 2 to crop, setting the crop ratio of this class to zero.\n",
      "  warnings.warn(\n",
      "/opt/conda/lib/python3.10/site-packages/monai/transforms/utils.py:743: UserWarning: no available indices of class 7 to crop, setting the crop ratio of this class to zero.\n",
      "  warnings.warn(\n",
      "/opt/conda/lib/python3.10/site-packages/monai/transforms/utils.py:743: UserWarning: no available indices of class 2 to crop, setting the crop ratio of this class to zero.\n",
      "  warnings.warn(\n",
      "/opt/conda/lib/python3.10/site-packages/monai/transforms/utils.py:743: UserWarning: no available indices of class 7 to crop, setting the crop ratio of this class to zero.\n",
      "  warnings.warn(\n"
     ]
    },
    {
     "name": "stdout",
     "output_type": "stream",
     "text": [
      "saved new best metric model\n",
      "current epoch: 32 current mean recall per class: 0.01908, 0, 0.007692, 0.4696, 0.2756, 0.6226, 0\n",
      "best mean recall: 0.1992 at epoch: 32\n",
      "----------\n",
      "epoch 33/200\n"
     ]
    },
    {
     "name": "stderr",
     "output_type": "stream",
     "text": [
      "/opt/conda/lib/python3.10/site-packages/monai/transforms/utils.py:743: UserWarning: no available indices of class 2 to crop, setting the crop ratio of this class to zero.\n",
      "  warnings.warn(\n",
      "/opt/conda/lib/python3.10/site-packages/monai/transforms/utils.py:743: UserWarning: no available indices of class 7 to crop, setting the crop ratio of this class to zero.\n",
      "  warnings.warn(\n",
      "/opt/conda/lib/python3.10/site-packages/monai/transforms/utils.py:743: UserWarning: no available indices of class 2 to crop, setting the crop ratio of this class to zero.\n",
      "  warnings.warn(\n",
      "/opt/conda/lib/python3.10/site-packages/monai/transforms/utils.py:743: UserWarning: no available indices of class 2 to crop, setting the crop ratio of this class to zero.\n",
      "  warnings.warn(\n",
      "/opt/conda/lib/python3.10/site-packages/monai/transforms/utils.py:743: UserWarning: no available indices of class 7 to crop, setting the crop ratio of this class to zero.\n",
      "  warnings.warn(\n",
      "/opt/conda/lib/python3.10/site-packages/monai/transforms/utils.py:743: UserWarning: no available indices of class 7 to crop, setting the crop ratio of this class to zero.\n",
      "  warnings.warn(\n",
      "/opt/conda/lib/python3.10/site-packages/monai/transforms/utils.py:743: UserWarning: no available indices of class 2 to crop, setting the crop ratio of this class to zero.\n",
      "  warnings.warn(\n",
      "/opt/conda/lib/python3.10/site-packages/monai/transforms/utils.py:743: UserWarning: no available indices of class 7 to crop, setting the crop ratio of this class to zero.\n",
      "  warnings.warn(\n"
     ]
    },
    {
     "name": "stdout",
     "output_type": "stream",
     "text": [
      "batch 1/5, train_loss: 0.7638\n",
      "batch 2/5, train_loss: 0.7896\n",
      "batch 3/5, train_loss: 0.7777\n",
      "batch 4/5, train_loss: 0.7940\n",
      "batch 5/5, train_loss: 0.7934\n",
      "epoch 33 average loss: 0.7837\n",
      "----------\n",
      "epoch 34/200\n"
     ]
    },
    {
     "name": "stderr",
     "output_type": "stream",
     "text": [
      "/opt/conda/lib/python3.10/site-packages/monai/transforms/utils.py:743: UserWarning: no available indices of class 2 to crop, setting the crop ratio of this class to zero.\n",
      "  warnings.warn(\n",
      "/opt/conda/lib/python3.10/site-packages/monai/transforms/utils.py:743: UserWarning: no available indices of class 7 to crop, setting the crop ratio of this class to zero.\n",
      "  warnings.warn(\n",
      "/opt/conda/lib/python3.10/site-packages/monai/transforms/utils.py:743: UserWarning: no available indices of class 2 to crop, setting the crop ratio of this class to zero.\n",
      "  warnings.warn(\n",
      "/opt/conda/lib/python3.10/site-packages/monai/transforms/utils.py:743: UserWarning: no available indices of class 7 to crop, setting the crop ratio of this class to zero.\n",
      "  warnings.warn(\n",
      "/opt/conda/lib/python3.10/site-packages/monai/transforms/utils.py:743: UserWarning: no available indices of class 2 to crop, setting the crop ratio of this class to zero.\n",
      "  warnings.warn(\n",
      "/opt/conda/lib/python3.10/site-packages/monai/transforms/utils.py:743: UserWarning: no available indices of class 7 to crop, setting the crop ratio of this class to zero.\n",
      "  warnings.warn(\n",
      "/opt/conda/lib/python3.10/site-packages/monai/transforms/utils.py:743: UserWarning: no available indices of class 2 to crop, setting the crop ratio of this class to zero.\n",
      "  warnings.warn(\n",
      "/opt/conda/lib/python3.10/site-packages/monai/transforms/utils.py:743: UserWarning: no available indices of class 7 to crop, setting the crop ratio of this class to zero.\n",
      "  warnings.warn(\n"
     ]
    },
    {
     "name": "stdout",
     "output_type": "stream",
     "text": [
      "batch 1/5, train_loss: 0.7920\n",
      "batch 2/5, train_loss: 0.7924\n",
      "batch 3/5, train_loss: 0.7839\n",
      "batch 4/5, train_loss: 0.7800\n",
      "batch 5/5, train_loss: 0.8138\n",
      "epoch 34 average loss: 0.7924\n"
     ]
    },
    {
     "name": "stderr",
     "output_type": "stream",
     "text": [
      "/opt/conda/lib/python3.10/site-packages/monai/transforms/utils.py:743: UserWarning: no available indices of class 2 to crop, setting the crop ratio of this class to zero.\n",
      "  warnings.warn(\n",
      "/opt/conda/lib/python3.10/site-packages/monai/transforms/utils.py:743: UserWarning: no available indices of class 7 to crop, setting the crop ratio of this class to zero.\n",
      "  warnings.warn(\n",
      "/opt/conda/lib/python3.10/site-packages/monai/transforms/utils.py:743: UserWarning: no available indices of class 2 to crop, setting the crop ratio of this class to zero.\n",
      "  warnings.warn(\n",
      "/opt/conda/lib/python3.10/site-packages/monai/transforms/utils.py:743: UserWarning: no available indices of class 7 to crop, setting the crop ratio of this class to zero.\n",
      "  warnings.warn(\n"
     ]
    },
    {
     "name": "stdout",
     "output_type": "stream",
     "text": [
      "saved new best metric model\n",
      "current epoch: 34 current mean recall per class: 0.03842, 0, 0.06296, 0.4802, 0.2302, 0.5968, 0\n",
      "best mean recall: 0.2012 at epoch: 34\n",
      "----------\n",
      "epoch 35/200\n"
     ]
    },
    {
     "name": "stderr",
     "output_type": "stream",
     "text": [
      "/opt/conda/lib/python3.10/site-packages/monai/transforms/utils.py:743: UserWarning: no available indices of class 2 to crop, setting the crop ratio of this class to zero.\n",
      "  warnings.warn(\n",
      "/opt/conda/lib/python3.10/site-packages/monai/transforms/utils.py:743: UserWarning: no available indices of class 2 to crop, setting the crop ratio of this class to zero.\n",
      "  warnings.warn(\n",
      "/opt/conda/lib/python3.10/site-packages/monai/transforms/utils.py:743: UserWarning: no available indices of class 2 to crop, setting the crop ratio of this class to zero.\n",
      "  warnings.warn(\n",
      "/opt/conda/lib/python3.10/site-packages/monai/transforms/utils.py:743: UserWarning: no available indices of class 7 to crop, setting the crop ratio of this class to zero.\n",
      "  warnings.warn(\n",
      "/opt/conda/lib/python3.10/site-packages/monai/transforms/utils.py:743: UserWarning: no available indices of class 2 to crop, setting the crop ratio of this class to zero.\n",
      "  warnings.warn(\n",
      "/opt/conda/lib/python3.10/site-packages/monai/transforms/utils.py:743: UserWarning: no available indices of class 7 to crop, setting the crop ratio of this class to zero.\n",
      "  warnings.warn(\n",
      "/opt/conda/lib/python3.10/site-packages/monai/transforms/utils.py:743: UserWarning: no available indices of class 7 to crop, setting the crop ratio of this class to zero.\n",
      "  warnings.warn(\n",
      "/opt/conda/lib/python3.10/site-packages/monai/transforms/utils.py:743: UserWarning: no available indices of class 7 to crop, setting the crop ratio of this class to zero.\n",
      "  warnings.warn(\n"
     ]
    },
    {
     "name": "stdout",
     "output_type": "stream",
     "text": [
      "batch 1/5, train_loss: 0.8080\n",
      "batch 2/5, train_loss: 0.7823\n",
      "batch 3/5, train_loss: 0.7705\n",
      "batch 4/5, train_loss: 0.7401\n",
      "batch 5/5, train_loss: 0.8071\n",
      "epoch 35 average loss: 0.7816\n",
      "----------\n",
      "epoch 36/200\n"
     ]
    },
    {
     "name": "stderr",
     "output_type": "stream",
     "text": [
      "/opt/conda/lib/python3.10/site-packages/monai/transforms/utils.py:743: UserWarning: no available indices of class 2 to crop, setting the crop ratio of this class to zero.\n",
      "  warnings.warn(\n",
      "/opt/conda/lib/python3.10/site-packages/monai/transforms/utils.py:743: UserWarning: no available indices of class 7 to crop, setting the crop ratio of this class to zero.\n",
      "  warnings.warn(\n",
      "/opt/conda/lib/python3.10/site-packages/monai/transforms/utils.py:743: UserWarning: no available indices of class 2 to crop, setting the crop ratio of this class to zero.\n",
      "  warnings.warn(\n",
      "/opt/conda/lib/python3.10/site-packages/monai/transforms/utils.py:743: UserWarning: no available indices of class 7 to crop, setting the crop ratio of this class to zero.\n",
      "  warnings.warn(\n",
      "/opt/conda/lib/python3.10/site-packages/monai/transforms/utils.py:743: UserWarning: no available indices of class 2 to crop, setting the crop ratio of this class to zero.\n",
      "  warnings.warn(\n",
      "/opt/conda/lib/python3.10/site-packages/monai/transforms/utils.py:743: UserWarning: no available indices of class 7 to crop, setting the crop ratio of this class to zero.\n",
      "  warnings.warn(\n",
      "/opt/conda/lib/python3.10/site-packages/monai/transforms/utils.py:743: UserWarning: no available indices of class 2 to crop, setting the crop ratio of this class to zero.\n",
      "  warnings.warn(\n",
      "/opt/conda/lib/python3.10/site-packages/monai/transforms/utils.py:743: UserWarning: no available indices of class 7 to crop, setting the crop ratio of this class to zero.\n",
      "  warnings.warn(\n"
     ]
    },
    {
     "name": "stdout",
     "output_type": "stream",
     "text": [
      "batch 1/5, train_loss: 0.7858\n",
      "batch 2/5, train_loss: 0.7709\n",
      "batch 3/5, train_loss: 0.7904\n",
      "batch 4/5, train_loss: 0.7828\n",
      "batch 5/5, train_loss: 0.7856\n",
      "epoch 36 average loss: 0.7831\n"
     ]
    },
    {
     "name": "stderr",
     "output_type": "stream",
     "text": [
      "/opt/conda/lib/python3.10/site-packages/monai/transforms/utils.py:743: UserWarning: no available indices of class 2 to crop, setting the crop ratio of this class to zero.\n",
      "  warnings.warn(\n",
      "/opt/conda/lib/python3.10/site-packages/monai/transforms/utils.py:743: UserWarning: no available indices of class 7 to crop, setting the crop ratio of this class to zero.\n",
      "  warnings.warn(\n",
      "/opt/conda/lib/python3.10/site-packages/monai/transforms/utils.py:743: UserWarning: no available indices of class 2 to crop, setting the crop ratio of this class to zero.\n",
      "  warnings.warn(\n",
      "/opt/conda/lib/python3.10/site-packages/monai/transforms/utils.py:743: UserWarning: no available indices of class 7 to crop, setting the crop ratio of this class to zero.\n",
      "  warnings.warn(\n"
     ]
    },
    {
     "name": "stdout",
     "output_type": "stream",
     "text": [
      "saved new best metric model\n",
      "current epoch: 36 current mean recall per class: 0.06391, 0, 0.08888, 0.6044, 0.2461, 0.5746, 0\n",
      "best mean recall: 0.2254 at epoch: 36\n",
      "----------\n",
      "epoch 37/200\n"
     ]
    },
    {
     "name": "stderr",
     "output_type": "stream",
     "text": [
      "/opt/conda/lib/python3.10/site-packages/monai/transforms/utils.py:743: UserWarning: no available indices of class 2 to crop, setting the crop ratio of this class to zero.\n",
      "  warnings.warn(\n",
      "/opt/conda/lib/python3.10/site-packages/monai/transforms/utils.py:743: UserWarning: no available indices of class 7 to crop, setting the crop ratio of this class to zero.\n",
      "  warnings.warn(\n",
      "/opt/conda/lib/python3.10/site-packages/monai/transforms/utils.py:743: UserWarning: no available indices of class 2 to crop, setting the crop ratio of this class to zero.\n",
      "  warnings.warn(\n",
      "/opt/conda/lib/python3.10/site-packages/monai/transforms/utils.py:743: UserWarning: no available indices of class 7 to crop, setting the crop ratio of this class to zero.\n",
      "  warnings.warn(\n",
      "/opt/conda/lib/python3.10/site-packages/monai/transforms/utils.py:743: UserWarning: no available indices of class 2 to crop, setting the crop ratio of this class to zero.\n",
      "  warnings.warn(\n",
      "/opt/conda/lib/python3.10/site-packages/monai/transforms/utils.py:743: UserWarning: no available indices of class 2 to crop, setting the crop ratio of this class to zero.\n",
      "  warnings.warn(\n",
      "/opt/conda/lib/python3.10/site-packages/monai/transforms/utils.py:743: UserWarning: no available indices of class 7 to crop, setting the crop ratio of this class to zero.\n",
      "  warnings.warn(\n",
      "/opt/conda/lib/python3.10/site-packages/monai/transforms/utils.py:743: UserWarning: no available indices of class 7 to crop, setting the crop ratio of this class to zero.\n",
      "  warnings.warn(\n"
     ]
    },
    {
     "name": "stdout",
     "output_type": "stream",
     "text": [
      "batch 1/5, train_loss: 0.8021\n",
      "batch 2/5, train_loss: 0.7540\n",
      "batch 3/5, train_loss: 0.7775\n",
      "batch 4/5, train_loss: 0.7657\n",
      "batch 5/5, train_loss: 0.7749\n",
      "epoch 37 average loss: 0.7749\n",
      "----------\n",
      "epoch 38/200\n"
     ]
    },
    {
     "name": "stderr",
     "output_type": "stream",
     "text": [
      "/opt/conda/lib/python3.10/site-packages/monai/transforms/utils.py:743: UserWarning: no available indices of class 2 to crop, setting the crop ratio of this class to zero.\n",
      "  warnings.warn(\n",
      "/opt/conda/lib/python3.10/site-packages/monai/transforms/utils.py:743: UserWarning: no available indices of class 2 to crop, setting the crop ratio of this class to zero.\n",
      "  warnings.warn(\n",
      "/opt/conda/lib/python3.10/site-packages/monai/transforms/utils.py:743: UserWarning: no available indices of class 7 to crop, setting the crop ratio of this class to zero.\n",
      "  warnings.warn(\n",
      "/opt/conda/lib/python3.10/site-packages/monai/transforms/utils.py:743: UserWarning: no available indices of class 7 to crop, setting the crop ratio of this class to zero.\n",
      "  warnings.warn(\n",
      "/opt/conda/lib/python3.10/site-packages/monai/transforms/utils.py:743: UserWarning: no available indices of class 2 to crop, setting the crop ratio of this class to zero.\n",
      "  warnings.warn(\n",
      "/opt/conda/lib/python3.10/site-packages/monai/transforms/utils.py:743: UserWarning: no available indices of class 7 to crop, setting the crop ratio of this class to zero.\n",
      "  warnings.warn(\n",
      "/opt/conda/lib/python3.10/site-packages/monai/transforms/utils.py:743: UserWarning: no available indices of class 2 to crop, setting the crop ratio of this class to zero.\n",
      "  warnings.warn(\n",
      "/opt/conda/lib/python3.10/site-packages/monai/transforms/utils.py:743: UserWarning: no available indices of class 7 to crop, setting the crop ratio of this class to zero.\n",
      "  warnings.warn(\n"
     ]
    },
    {
     "name": "stdout",
     "output_type": "stream",
     "text": [
      "batch 1/5, train_loss: 0.7693\n",
      "batch 2/5, train_loss: 0.7642\n",
      "batch 3/5, train_loss: 0.7691\n",
      "batch 4/5, train_loss: 0.7614\n",
      "batch 5/5, train_loss: 0.7760\n",
      "epoch 38 average loss: 0.7680\n"
     ]
    },
    {
     "name": "stderr",
     "output_type": "stream",
     "text": [
      "/opt/conda/lib/python3.10/site-packages/monai/transforms/utils.py:743: UserWarning: no available indices of class 2 to crop, setting the crop ratio of this class to zero.\n",
      "  warnings.warn(\n",
      "/opt/conda/lib/python3.10/site-packages/monai/transforms/utils.py:743: UserWarning: no available indices of class 7 to crop, setting the crop ratio of this class to zero.\n",
      "  warnings.warn(\n",
      "/opt/conda/lib/python3.10/site-packages/monai/transforms/utils.py:743: UserWarning: no available indices of class 2 to crop, setting the crop ratio of this class to zero.\n",
      "  warnings.warn(\n",
      "/opt/conda/lib/python3.10/site-packages/monai/transforms/utils.py:743: UserWarning: no available indices of class 7 to crop, setting the crop ratio of this class to zero.\n",
      "  warnings.warn(\n"
     ]
    },
    {
     "name": "stdout",
     "output_type": "stream",
     "text": [
      "current epoch: 38 current mean recall per class: 0.08039, 0, 0.118, 0.5136, 0.2385, 0.5525, 0\n",
      "best mean recall: 0.2254 at epoch: 36\n",
      "----------\n",
      "epoch 39/200\n"
     ]
    },
    {
     "name": "stderr",
     "output_type": "stream",
     "text": [
      "/opt/conda/lib/python3.10/site-packages/monai/transforms/utils.py:743: UserWarning: no available indices of class 2 to crop, setting the crop ratio of this class to zero.\n",
      "  warnings.warn(\n",
      "/opt/conda/lib/python3.10/site-packages/monai/transforms/utils.py:743: UserWarning: no available indices of class 7 to crop, setting the crop ratio of this class to zero.\n",
      "  warnings.warn(\n",
      "/opt/conda/lib/python3.10/site-packages/monai/transforms/utils.py:743: UserWarning: no available indices of class 2 to crop, setting the crop ratio of this class to zero.\n",
      "  warnings.warn(\n",
      "/opt/conda/lib/python3.10/site-packages/monai/transforms/utils.py:743: UserWarning: no available indices of class 7 to crop, setting the crop ratio of this class to zero.\n",
      "  warnings.warn(\n",
      "/opt/conda/lib/python3.10/site-packages/monai/transforms/utils.py:743: UserWarning: no available indices of class 2 to crop, setting the crop ratio of this class to zero.\n",
      "  warnings.warn(\n",
      "/opt/conda/lib/python3.10/site-packages/monai/transforms/utils.py:743: UserWarning: no available indices of class 7 to crop, setting the crop ratio of this class to zero.\n",
      "  warnings.warn(\n",
      "/opt/conda/lib/python3.10/site-packages/monai/transforms/utils.py:743: UserWarning: no available indices of class 2 to crop, setting the crop ratio of this class to zero.\n",
      "  warnings.warn(\n",
      "/opt/conda/lib/python3.10/site-packages/monai/transforms/utils.py:743: UserWarning: no available indices of class 7 to crop, setting the crop ratio of this class to zero.\n",
      "  warnings.warn(\n"
     ]
    },
    {
     "name": "stdout",
     "output_type": "stream",
     "text": [
      "batch 1/5, train_loss: 0.7784\n",
      "batch 2/5, train_loss: 0.7848\n",
      "batch 3/5, train_loss: 0.7727\n",
      "batch 4/5, train_loss: 0.7872\n",
      "batch 5/5, train_loss: 0.7562\n",
      "epoch 39 average loss: 0.7758\n",
      "----------\n",
      "epoch 40/200\n"
     ]
    },
    {
     "name": "stderr",
     "output_type": "stream",
     "text": [
      "/opt/conda/lib/python3.10/site-packages/monai/transforms/utils.py:743: UserWarning: no available indices of class 2 to crop, setting the crop ratio of this class to zero.\n",
      "  warnings.warn(\n",
      "/opt/conda/lib/python3.10/site-packages/monai/transforms/utils.py:743: UserWarning: no available indices of class 7 to crop, setting the crop ratio of this class to zero.\n",
      "  warnings.warn(\n",
      "/opt/conda/lib/python3.10/site-packages/monai/transforms/utils.py:743: UserWarning: no available indices of class 2 to crop, setting the crop ratio of this class to zero.\n",
      "  warnings.warn(\n",
      "/opt/conda/lib/python3.10/site-packages/monai/transforms/utils.py:743: UserWarning: no available indices of class 7 to crop, setting the crop ratio of this class to zero.\n",
      "  warnings.warn(\n",
      "/opt/conda/lib/python3.10/site-packages/monai/transforms/utils.py:743: UserWarning: no available indices of class 2 to crop, setting the crop ratio of this class to zero.\n",
      "  warnings.warn(\n",
      "/opt/conda/lib/python3.10/site-packages/monai/transforms/utils.py:743: UserWarning: no available indices of class 7 to crop, setting the crop ratio of this class to zero.\n",
      "  warnings.warn(\n",
      "/opt/conda/lib/python3.10/site-packages/monai/transforms/utils.py:743: UserWarning: no available indices of class 2 to crop, setting the crop ratio of this class to zero.\n",
      "  warnings.warn(\n",
      "/opt/conda/lib/python3.10/site-packages/monai/transforms/utils.py:743: UserWarning: no available indices of class 7 to crop, setting the crop ratio of this class to zero.\n",
      "  warnings.warn(\n"
     ]
    },
    {
     "name": "stdout",
     "output_type": "stream",
     "text": [
      "batch 1/5, train_loss: 0.7549\n",
      "batch 2/5, train_loss: 0.7835\n",
      "batch 3/5, train_loss: 0.7488\n",
      "batch 4/5, train_loss: 0.7657\n",
      "batch 5/5, train_loss: 0.7813\n",
      "epoch 40 average loss: 0.7668\n"
     ]
    },
    {
     "name": "stderr",
     "output_type": "stream",
     "text": [
      "/opt/conda/lib/python3.10/site-packages/monai/transforms/utils.py:743: UserWarning: no available indices of class 2 to crop, setting the crop ratio of this class to zero.\n",
      "  warnings.warn(\n",
      "/opt/conda/lib/python3.10/site-packages/monai/transforms/utils.py:743: UserWarning: no available indices of class 7 to crop, setting the crop ratio of this class to zero.\n",
      "  warnings.warn(\n",
      "/opt/conda/lib/python3.10/site-packages/monai/transforms/utils.py:743: UserWarning: no available indices of class 2 to crop, setting the crop ratio of this class to zero.\n",
      "  warnings.warn(\n",
      "/opt/conda/lib/python3.10/site-packages/monai/transforms/utils.py:743: UserWarning: no available indices of class 7 to crop, setting the crop ratio of this class to zero.\n",
      "  warnings.warn(\n"
     ]
    },
    {
     "name": "stdout",
     "output_type": "stream",
     "text": [
      "saved new best metric model\n",
      "current epoch: 40 current mean recall per class: 0.1181, 0, 0.1309, 0.5532, 0.252, 0.5818, 0\n",
      "best mean recall: 0.2337 at epoch: 40\n",
      "----------\n",
      "epoch 41/200\n"
     ]
    },
    {
     "name": "stderr",
     "output_type": "stream",
     "text": [
      "/opt/conda/lib/python3.10/site-packages/monai/transforms/utils.py:743: UserWarning: no available indices of class 2 to crop, setting the crop ratio of this class to zero.\n",
      "  warnings.warn(\n",
      "/opt/conda/lib/python3.10/site-packages/monai/transforms/utils.py:743: UserWarning: no available indices of class 7 to crop, setting the crop ratio of this class to zero.\n",
      "  warnings.warn(\n",
      "/opt/conda/lib/python3.10/site-packages/monai/transforms/utils.py:743: UserWarning: no available indices of class 2 to crop, setting the crop ratio of this class to zero.\n",
      "  warnings.warn(\n",
      "/opt/conda/lib/python3.10/site-packages/monai/transforms/utils.py:743: UserWarning: no available indices of class 2 to crop, setting the crop ratio of this class to zero.\n",
      "  warnings.warn(\n",
      "/opt/conda/lib/python3.10/site-packages/monai/transforms/utils.py:743: UserWarning: no available indices of class 7 to crop, setting the crop ratio of this class to zero.\n",
      "  warnings.warn(\n",
      "/opt/conda/lib/python3.10/site-packages/monai/transforms/utils.py:743: UserWarning: no available indices of class 2 to crop, setting the crop ratio of this class to zero.\n",
      "  warnings.warn(\n",
      "/opt/conda/lib/python3.10/site-packages/monai/transforms/utils.py:743: UserWarning: no available indices of class 7 to crop, setting the crop ratio of this class to zero.\n",
      "  warnings.warn(\n",
      "/opt/conda/lib/python3.10/site-packages/monai/transforms/utils.py:743: UserWarning: no available indices of class 7 to crop, setting the crop ratio of this class to zero.\n",
      "  warnings.warn(\n"
     ]
    },
    {
     "name": "stdout",
     "output_type": "stream",
     "text": [
      "batch 1/5, train_loss: 0.7980\n",
      "batch 2/5, train_loss: 0.7971\n",
      "batch 3/5, train_loss: 0.7867\n",
      "batch 4/5, train_loss: 0.7868\n",
      "batch 5/5, train_loss: 0.7689\n",
      "epoch 41 average loss: 0.7875\n",
      "----------\n",
      "epoch 42/200\n"
     ]
    },
    {
     "name": "stderr",
     "output_type": "stream",
     "text": [
      "/opt/conda/lib/python3.10/site-packages/monai/transforms/utils.py:743: UserWarning: no available indices of class 2 to crop, setting the crop ratio of this class to zero.\n",
      "  warnings.warn(\n",
      "/opt/conda/lib/python3.10/site-packages/monai/transforms/utils.py:743: UserWarning: no available indices of class 7 to crop, setting the crop ratio of this class to zero.\n",
      "  warnings.warn(\n",
      "/opt/conda/lib/python3.10/site-packages/monai/transforms/utils.py:743: UserWarning: no available indices of class 2 to crop, setting the crop ratio of this class to zero.\n",
      "  warnings.warn(\n",
      "/opt/conda/lib/python3.10/site-packages/monai/transforms/utils.py:743: UserWarning: no available indices of class 2 to crop, setting the crop ratio of this class to zero.\n",
      "  warnings.warn(\n",
      "/opt/conda/lib/python3.10/site-packages/monai/transforms/utils.py:743: UserWarning: no available indices of class 7 to crop, setting the crop ratio of this class to zero.\n",
      "  warnings.warn(\n",
      "/opt/conda/lib/python3.10/site-packages/monai/transforms/utils.py:743: UserWarning: no available indices of class 2 to crop, setting the crop ratio of this class to zero.\n",
      "  warnings.warn(\n",
      "/opt/conda/lib/python3.10/site-packages/monai/transforms/utils.py:743: UserWarning: no available indices of class 7 to crop, setting the crop ratio of this class to zero.\n",
      "  warnings.warn(\n",
      "/opt/conda/lib/python3.10/site-packages/monai/transforms/utils.py:743: UserWarning: no available indices of class 7 to crop, setting the crop ratio of this class to zero.\n",
      "  warnings.warn(\n"
     ]
    },
    {
     "name": "stdout",
     "output_type": "stream",
     "text": [
      "batch 1/5, train_loss: 0.7742\n",
      "batch 2/5, train_loss: 0.7736\n",
      "batch 3/5, train_loss: 0.7714\n",
      "batch 4/5, train_loss: 0.7774\n",
      "batch 5/5, train_loss: 0.7598\n",
      "epoch 42 average loss: 0.7713\n"
     ]
    },
    {
     "name": "stderr",
     "output_type": "stream",
     "text": [
      "/opt/conda/lib/python3.10/site-packages/monai/transforms/utils.py:743: UserWarning: no available indices of class 2 to crop, setting the crop ratio of this class to zero.\n",
      "  warnings.warn(\n",
      "/opt/conda/lib/python3.10/site-packages/monai/transforms/utils.py:743: UserWarning: no available indices of class 7 to crop, setting the crop ratio of this class to zero.\n",
      "  warnings.warn(\n",
      "/opt/conda/lib/python3.10/site-packages/monai/transforms/utils.py:743: UserWarning: no available indices of class 2 to crop, setting the crop ratio of this class to zero.\n",
      "  warnings.warn(\n",
      "/opt/conda/lib/python3.10/site-packages/monai/transforms/utils.py:743: UserWarning: no available indices of class 7 to crop, setting the crop ratio of this class to zero.\n",
      "  warnings.warn(\n"
     ]
    },
    {
     "name": "stdout",
     "output_type": "stream",
     "text": [
      "saved new best metric model\n",
      "current epoch: 42 current mean recall per class: 0.1091, 0, 0.1594, 0.5876, 0.2457, 0.646, 0\n",
      "best mean recall: 0.2497 at epoch: 42\n",
      "----------\n",
      "epoch 43/200\n"
     ]
    },
    {
     "name": "stderr",
     "output_type": "stream",
     "text": [
      "/opt/conda/lib/python3.10/site-packages/monai/transforms/utils.py:743: UserWarning: no available indices of class 2 to crop, setting the crop ratio of this class to zero.\n",
      "  warnings.warn(\n",
      "/opt/conda/lib/python3.10/site-packages/monai/transforms/utils.py:743: UserWarning: no available indices of class 7 to crop, setting the crop ratio of this class to zero.\n",
      "  warnings.warn(\n",
      "/opt/conda/lib/python3.10/site-packages/monai/transforms/utils.py:743: UserWarning: no available indices of class 2 to crop, setting the crop ratio of this class to zero.\n",
      "  warnings.warn(\n",
      "/opt/conda/lib/python3.10/site-packages/monai/transforms/utils.py:743: UserWarning: no available indices of class 7 to crop, setting the crop ratio of this class to zero.\n",
      "  warnings.warn(\n",
      "/opt/conda/lib/python3.10/site-packages/monai/transforms/utils.py:743: UserWarning: no available indices of class 2 to crop, setting the crop ratio of this class to zero.\n",
      "  warnings.warn(\n",
      "/opt/conda/lib/python3.10/site-packages/monai/transforms/utils.py:743: UserWarning: no available indices of class 2 to crop, setting the crop ratio of this class to zero.\n",
      "  warnings.warn(\n",
      "/opt/conda/lib/python3.10/site-packages/monai/transforms/utils.py:743: UserWarning: no available indices of class 7 to crop, setting the crop ratio of this class to zero.\n",
      "  warnings.warn(\n",
      "/opt/conda/lib/python3.10/site-packages/monai/transforms/utils.py:743: UserWarning: no available indices of class 7 to crop, setting the crop ratio of this class to zero.\n",
      "  warnings.warn(\n"
     ]
    },
    {
     "name": "stdout",
     "output_type": "stream",
     "text": [
      "batch 1/5, train_loss: 0.7716\n",
      "batch 2/5, train_loss: 0.7945\n",
      "batch 3/5, train_loss: 0.7654\n",
      "batch 4/5, train_loss: 0.7521\n",
      "batch 5/5, train_loss: 0.7754\n",
      "epoch 43 average loss: 0.7718\n",
      "----------\n",
      "epoch 44/200\n"
     ]
    },
    {
     "name": "stderr",
     "output_type": "stream",
     "text": [
      "/opt/conda/lib/python3.10/site-packages/monai/transforms/utils.py:743: UserWarning: no available indices of class 2 to crop, setting the crop ratio of this class to zero.\n",
      "  warnings.warn(\n",
      "/opt/conda/lib/python3.10/site-packages/monai/transforms/utils.py:743: UserWarning: no available indices of class 7 to crop, setting the crop ratio of this class to zero.\n",
      "  warnings.warn(\n",
      "/opt/conda/lib/python3.10/site-packages/monai/transforms/utils.py:743: UserWarning: no available indices of class 2 to crop, setting the crop ratio of this class to zero.\n",
      "  warnings.warn(\n",
      "/opt/conda/lib/python3.10/site-packages/monai/transforms/utils.py:743: UserWarning: no available indices of class 2 to crop, setting the crop ratio of this class to zero.\n",
      "  warnings.warn(\n",
      "/opt/conda/lib/python3.10/site-packages/monai/transforms/utils.py:743: UserWarning: no available indices of class 7 to crop, setting the crop ratio of this class to zero.\n",
      "  warnings.warn(\n",
      "/opt/conda/lib/python3.10/site-packages/monai/transforms/utils.py:743: UserWarning: no available indices of class 7 to crop, setting the crop ratio of this class to zero.\n",
      "  warnings.warn(\n",
      "/opt/conda/lib/python3.10/site-packages/monai/transforms/utils.py:743: UserWarning: no available indices of class 2 to crop, setting the crop ratio of this class to zero.\n",
      "  warnings.warn(\n",
      "/opt/conda/lib/python3.10/site-packages/monai/transforms/utils.py:743: UserWarning: no available indices of class 7 to crop, setting the crop ratio of this class to zero.\n",
      "  warnings.warn(\n"
     ]
    },
    {
     "name": "stdout",
     "output_type": "stream",
     "text": [
      "batch 1/5, train_loss: 0.7843\n",
      "batch 2/5, train_loss: 0.7800\n",
      "batch 3/5, train_loss: 0.7656\n",
      "batch 4/5, train_loss: 0.7646\n",
      "batch 5/5, train_loss: 0.7592\n",
      "epoch 44 average loss: 0.7708\n"
     ]
    },
    {
     "name": "stderr",
     "output_type": "stream",
     "text": [
      "/opt/conda/lib/python3.10/site-packages/monai/transforms/utils.py:743: UserWarning: no available indices of class 2 to crop, setting the crop ratio of this class to zero.\n",
      "  warnings.warn(\n",
      "/opt/conda/lib/python3.10/site-packages/monai/transforms/utils.py:743: UserWarning: no available indices of class 2 to crop, setting the crop ratio of this class to zero.\n",
      "  warnings.warn(\n",
      "/opt/conda/lib/python3.10/site-packages/monai/transforms/utils.py:743: UserWarning: no available indices of class 7 to crop, setting the crop ratio of this class to zero.\n",
      "  warnings.warn(\n",
      "/opt/conda/lib/python3.10/site-packages/monai/transforms/utils.py:743: UserWarning: no available indices of class 7 to crop, setting the crop ratio of this class to zero.\n",
      "  warnings.warn(\n"
     ]
    },
    {
     "name": "stdout",
     "output_type": "stream",
     "text": [
      "current epoch: 44 current mean recall per class: 0.1513, 0, 0.09639, 0.4187, 0.2469, 0.7235, 0\n",
      "best mean recall: 0.2497 at epoch: 42\n",
      "----------\n",
      "epoch 45/200\n"
     ]
    },
    {
     "name": "stderr",
     "output_type": "stream",
     "text": [
      "/opt/conda/lib/python3.10/site-packages/monai/transforms/utils.py:743: UserWarning: no available indices of class 2 to crop, setting the crop ratio of this class to zero.\n",
      "  warnings.warn(\n",
      "/opt/conda/lib/python3.10/site-packages/monai/transforms/utils.py:743: UserWarning: no available indices of class 7 to crop, setting the crop ratio of this class to zero.\n",
      "  warnings.warn(\n",
      "/opt/conda/lib/python3.10/site-packages/monai/transforms/utils.py:743: UserWarning: no available indices of class 2 to crop, setting the crop ratio of this class to zero.\n",
      "  warnings.warn(\n",
      "/opt/conda/lib/python3.10/site-packages/monai/transforms/utils.py:743: UserWarning: no available indices of class 7 to crop, setting the crop ratio of this class to zero.\n",
      "  warnings.warn(\n",
      "/opt/conda/lib/python3.10/site-packages/monai/transforms/utils.py:743: UserWarning: no available indices of class 2 to crop, setting the crop ratio of this class to zero.\n",
      "  warnings.warn(\n",
      "/opt/conda/lib/python3.10/site-packages/monai/transforms/utils.py:743: UserWarning: no available indices of class 7 to crop, setting the crop ratio of this class to zero.\n",
      "  warnings.warn(\n",
      "/opt/conda/lib/python3.10/site-packages/monai/transforms/utils.py:743: UserWarning: no available indices of class 2 to crop, setting the crop ratio of this class to zero.\n",
      "  warnings.warn(\n",
      "/opt/conda/lib/python3.10/site-packages/monai/transforms/utils.py:743: UserWarning: no available indices of class 7 to crop, setting the crop ratio of this class to zero.\n",
      "  warnings.warn(\n"
     ]
    },
    {
     "name": "stdout",
     "output_type": "stream",
     "text": [
      "batch 1/5, train_loss: 0.7661\n",
      "batch 2/5, train_loss: 0.7982\n",
      "batch 3/5, train_loss: 0.7552\n",
      "batch 4/5, train_loss: 0.8073\n",
      "batch 5/5, train_loss: 0.7756\n",
      "epoch 45 average loss: 0.7805\n",
      "----------\n",
      "epoch 46/200\n"
     ]
    },
    {
     "name": "stderr",
     "output_type": "stream",
     "text": [
      "/opt/conda/lib/python3.10/site-packages/monai/transforms/utils.py:743: UserWarning: no available indices of class 2 to crop, setting the crop ratio of this class to zero.\n",
      "  warnings.warn(\n",
      "/opt/conda/lib/python3.10/site-packages/monai/transforms/utils.py:743: UserWarning: no available indices of class 2 to crop, setting the crop ratio of this class to zero.\n",
      "  warnings.warn(\n",
      "/opt/conda/lib/python3.10/site-packages/monai/transforms/utils.py:743: UserWarning: no available indices of class 7 to crop, setting the crop ratio of this class to zero.\n",
      "  warnings.warn(\n",
      "/opt/conda/lib/python3.10/site-packages/monai/transforms/utils.py:743: UserWarning: no available indices of class 7 to crop, setting the crop ratio of this class to zero.\n",
      "  warnings.warn(\n",
      "/opt/conda/lib/python3.10/site-packages/monai/transforms/utils.py:743: UserWarning: no available indices of class 2 to crop, setting the crop ratio of this class to zero.\n",
      "  warnings.warn(\n",
      "/opt/conda/lib/python3.10/site-packages/monai/transforms/utils.py:743: UserWarning: no available indices of class 2 to crop, setting the crop ratio of this class to zero.\n",
      "  warnings.warn(\n",
      "/opt/conda/lib/python3.10/site-packages/monai/transforms/utils.py:743: UserWarning: no available indices of class 7 to crop, setting the crop ratio of this class to zero.\n",
      "  warnings.warn(\n",
      "/opt/conda/lib/python3.10/site-packages/monai/transforms/utils.py:743: UserWarning: no available indices of class 7 to crop, setting the crop ratio of this class to zero.\n",
      "  warnings.warn(\n"
     ]
    },
    {
     "name": "stdout",
     "output_type": "stream",
     "text": [
      "batch 1/5, train_loss: 0.7433\n",
      "batch 2/5, train_loss: 0.7857\n",
      "batch 3/5, train_loss: 0.7334\n",
      "batch 4/5, train_loss: 0.7652\n",
      "batch 5/5, train_loss: 0.7690\n",
      "epoch 46 average loss: 0.7593\n"
     ]
    },
    {
     "name": "stderr",
     "output_type": "stream",
     "text": [
      "/opt/conda/lib/python3.10/site-packages/monai/transforms/utils.py:743: UserWarning: no available indices of class 2 to crop, setting the crop ratio of this class to zero.\n",
      "  warnings.warn(\n",
      "/opt/conda/lib/python3.10/site-packages/monai/transforms/utils.py:743: UserWarning: no available indices of class 7 to crop, setting the crop ratio of this class to zero.\n",
      "  warnings.warn(\n",
      "/opt/conda/lib/python3.10/site-packages/monai/transforms/utils.py:743: UserWarning: no available indices of class 2 to crop, setting the crop ratio of this class to zero.\n",
      "  warnings.warn(\n",
      "/opt/conda/lib/python3.10/site-packages/monai/transforms/utils.py:743: UserWarning: no available indices of class 7 to crop, setting the crop ratio of this class to zero.\n",
      "  warnings.warn(\n"
     ]
    },
    {
     "name": "stdout",
     "output_type": "stream",
     "text": [
      "saved new best metric model\n",
      "current epoch: 46 current mean recall per class: 0.1984, 0, 0.1295, 0.5336, 0.2839, 0.671, 0\n",
      "best mean recall: 0.2595 at epoch: 46\n",
      "----------\n",
      "epoch 47/200\n"
     ]
    },
    {
     "name": "stderr",
     "output_type": "stream",
     "text": [
      "/opt/conda/lib/python3.10/site-packages/monai/transforms/utils.py:743: UserWarning: no available indices of class 2 to crop, setting the crop ratio of this class to zero.\n",
      "  warnings.warn(\n",
      "/opt/conda/lib/python3.10/site-packages/monai/transforms/utils.py:743: UserWarning: no available indices of class 7 to crop, setting the crop ratio of this class to zero.\n",
      "  warnings.warn(\n",
      "/opt/conda/lib/python3.10/site-packages/monai/transforms/utils.py:743: UserWarning: no available indices of class 2 to crop, setting the crop ratio of this class to zero.\n",
      "  warnings.warn(\n",
      "/opt/conda/lib/python3.10/site-packages/monai/transforms/utils.py:743: UserWarning: no available indices of class 7 to crop, setting the crop ratio of this class to zero.\n",
      "  warnings.warn(\n",
      "/opt/conda/lib/python3.10/site-packages/monai/transforms/utils.py:743: UserWarning: no available indices of class 2 to crop, setting the crop ratio of this class to zero.\n",
      "  warnings.warn(\n",
      "/opt/conda/lib/python3.10/site-packages/monai/transforms/utils.py:743: UserWarning: no available indices of class 7 to crop, setting the crop ratio of this class to zero.\n",
      "  warnings.warn(\n",
      "/opt/conda/lib/python3.10/site-packages/monai/transforms/utils.py:743: UserWarning: no available indices of class 2 to crop, setting the crop ratio of this class to zero.\n",
      "  warnings.warn(\n",
      "/opt/conda/lib/python3.10/site-packages/monai/transforms/utils.py:743: UserWarning: no available indices of class 7 to crop, setting the crop ratio of this class to zero.\n",
      "  warnings.warn(\n"
     ]
    },
    {
     "name": "stdout",
     "output_type": "stream",
     "text": [
      "batch 1/5, train_loss: 0.7585\n",
      "batch 2/5, train_loss: 0.7516\n",
      "batch 3/5, train_loss: 0.7669\n",
      "batch 4/5, train_loss: 0.7920\n",
      "batch 5/5, train_loss: 0.7744\n",
      "epoch 47 average loss: 0.7687\n",
      "----------\n",
      "epoch 48/200\n"
     ]
    },
    {
     "name": "stderr",
     "output_type": "stream",
     "text": [
      "/opt/conda/lib/python3.10/site-packages/monai/transforms/utils.py:743: UserWarning: no available indices of class 2 to crop, setting the crop ratio of this class to zero.\n",
      "  warnings.warn(\n",
      "/opt/conda/lib/python3.10/site-packages/monai/transforms/utils.py:743: UserWarning: no available indices of class 2 to crop, setting the crop ratio of this class to zero.\n",
      "  warnings.warn(\n",
      "/opt/conda/lib/python3.10/site-packages/monai/transforms/utils.py:743: UserWarning: no available indices of class 7 to crop, setting the crop ratio of this class to zero.\n",
      "  warnings.warn(\n",
      "/opt/conda/lib/python3.10/site-packages/monai/transforms/utils.py:743: UserWarning: no available indices of class 7 to crop, setting the crop ratio of this class to zero.\n",
      "  warnings.warn(\n",
      "/opt/conda/lib/python3.10/site-packages/monai/transforms/utils.py:743: UserWarning: no available indices of class 2 to crop, setting the crop ratio of this class to zero.\n",
      "  warnings.warn(\n",
      "/opt/conda/lib/python3.10/site-packages/monai/transforms/utils.py:743: UserWarning: no available indices of class 2 to crop, setting the crop ratio of this class to zero.\n",
      "  warnings.warn(\n",
      "/opt/conda/lib/python3.10/site-packages/monai/transforms/utils.py:743: UserWarning: no available indices of class 7 to crop, setting the crop ratio of this class to zero.\n",
      "  warnings.warn(\n",
      "/opt/conda/lib/python3.10/site-packages/monai/transforms/utils.py:743: UserWarning: no available indices of class 7 to crop, setting the crop ratio of this class to zero.\n",
      "  warnings.warn(\n"
     ]
    },
    {
     "name": "stdout",
     "output_type": "stream",
     "text": [
      "batch 1/5, train_loss: 0.7854\n",
      "batch 2/5, train_loss: 0.7397\n",
      "batch 3/5, train_loss: 0.7711\n",
      "batch 4/5, train_loss: 0.7551\n",
      "batch 5/5, train_loss: 0.7464\n",
      "epoch 48 average loss: 0.7595\n"
     ]
    },
    {
     "name": "stderr",
     "output_type": "stream",
     "text": [
      "/opt/conda/lib/python3.10/site-packages/monai/transforms/utils.py:743: UserWarning: no available indices of class 2 to crop, setting the crop ratio of this class to zero.\n",
      "  warnings.warn(\n",
      "/opt/conda/lib/python3.10/site-packages/monai/transforms/utils.py:743: UserWarning: no available indices of class 2 to crop, setting the crop ratio of this class to zero.\n",
      "  warnings.warn(\n",
      "/opt/conda/lib/python3.10/site-packages/monai/transforms/utils.py:743: UserWarning: no available indices of class 7 to crop, setting the crop ratio of this class to zero.\n",
      "  warnings.warn(\n",
      "/opt/conda/lib/python3.10/site-packages/monai/transforms/utils.py:743: UserWarning: no available indices of class 7 to crop, setting the crop ratio of this class to zero.\n",
      "  warnings.warn(\n"
     ]
    },
    {
     "name": "stdout",
     "output_type": "stream",
     "text": [
      "current epoch: 48 current mean recall per class: 0.1798, 0, 0.1343, 0.5587, 0.2302, 0.6862, 0\n",
      "best mean recall: 0.2595 at epoch: 46\n",
      "----------\n",
      "epoch 49/200\n"
     ]
    },
    {
     "name": "stderr",
     "output_type": "stream",
     "text": [
      "/opt/conda/lib/python3.10/site-packages/monai/transforms/utils.py:743: UserWarning: no available indices of class 2 to crop, setting the crop ratio of this class to zero.\n",
      "  warnings.warn(\n",
      "/opt/conda/lib/python3.10/site-packages/monai/transforms/utils.py:743: UserWarning: no available indices of class 7 to crop, setting the crop ratio of this class to zero.\n",
      "  warnings.warn(\n",
      "/opt/conda/lib/python3.10/site-packages/monai/transforms/utils.py:743: UserWarning: no available indices of class 2 to crop, setting the crop ratio of this class to zero.\n",
      "  warnings.warn(\n",
      "/opt/conda/lib/python3.10/site-packages/monai/transforms/utils.py:743: UserWarning: no available indices of class 7 to crop, setting the crop ratio of this class to zero.\n",
      "  warnings.warn(\n",
      "/opt/conda/lib/python3.10/site-packages/monai/transforms/utils.py:743: UserWarning: no available indices of class 2 to crop, setting the crop ratio of this class to zero.\n",
      "  warnings.warn(\n",
      "/opt/conda/lib/python3.10/site-packages/monai/transforms/utils.py:743: UserWarning: no available indices of class 7 to crop, setting the crop ratio of this class to zero.\n",
      "  warnings.warn(\n",
      "/opt/conda/lib/python3.10/site-packages/monai/transforms/utils.py:743: UserWarning: no available indices of class 2 to crop, setting the crop ratio of this class to zero.\n",
      "  warnings.warn(\n",
      "/opt/conda/lib/python3.10/site-packages/monai/transforms/utils.py:743: UserWarning: no available indices of class 7 to crop, setting the crop ratio of this class to zero.\n",
      "  warnings.warn(\n"
     ]
    },
    {
     "name": "stdout",
     "output_type": "stream",
     "text": [
      "batch 1/5, train_loss: 0.7639\n",
      "batch 2/5, train_loss: 0.7802\n",
      "batch 3/5, train_loss: 0.7494\n",
      "batch 4/5, train_loss: 0.7430\n",
      "batch 5/5, train_loss: 0.7460\n",
      "epoch 49 average loss: 0.7565\n",
      "----------\n",
      "epoch 50/200\n"
     ]
    },
    {
     "name": "stderr",
     "output_type": "stream",
     "text": [
      "/opt/conda/lib/python3.10/site-packages/monai/transforms/utils.py:743: UserWarning: no available indices of class 2 to crop, setting the crop ratio of this class to zero.\n",
      "  warnings.warn(\n",
      "/opt/conda/lib/python3.10/site-packages/monai/transforms/utils.py:743: UserWarning: no available indices of class 7 to crop, setting the crop ratio of this class to zero.\n",
      "  warnings.warn(\n",
      "/opt/conda/lib/python3.10/site-packages/monai/transforms/utils.py:743: UserWarning: no available indices of class 2 to crop, setting the crop ratio of this class to zero.\n",
      "  warnings.warn(\n",
      "/opt/conda/lib/python3.10/site-packages/monai/transforms/utils.py:743: UserWarning: no available indices of class 7 to crop, setting the crop ratio of this class to zero.\n",
      "  warnings.warn(\n",
      "/opt/conda/lib/python3.10/site-packages/monai/transforms/utils.py:743: UserWarning: no available indices of class 2 to crop, setting the crop ratio of this class to zero.\n",
      "  warnings.warn(\n",
      "/opt/conda/lib/python3.10/site-packages/monai/transforms/utils.py:743: UserWarning: no available indices of class 7 to crop, setting the crop ratio of this class to zero.\n",
      "  warnings.warn(\n",
      "/opt/conda/lib/python3.10/site-packages/monai/transforms/utils.py:743: UserWarning: no available indices of class 2 to crop, setting the crop ratio of this class to zero.\n",
      "  warnings.warn(\n",
      "/opt/conda/lib/python3.10/site-packages/monai/transforms/utils.py:743: UserWarning: no available indices of class 7 to crop, setting the crop ratio of this class to zero.\n",
      "  warnings.warn(\n"
     ]
    },
    {
     "name": "stdout",
     "output_type": "stream",
     "text": [
      "batch 1/5, train_loss: 0.7496\n",
      "batch 2/5, train_loss: 0.7894\n",
      "batch 3/5, train_loss: 0.7335\n",
      "batch 4/5, train_loss: 0.7570\n",
      "batch 5/5, train_loss: 0.7701\n",
      "epoch 50 average loss: 0.7599\n"
     ]
    },
    {
     "name": "stderr",
     "output_type": "stream",
     "text": [
      "/opt/conda/lib/python3.10/site-packages/monai/transforms/utils.py:743: UserWarning: no available indices of class 2 to crop, setting the crop ratio of this class to zero.\n",
      "  warnings.warn(\n",
      "/opt/conda/lib/python3.10/site-packages/monai/transforms/utils.py:743: UserWarning: no available indices of class 7 to crop, setting the crop ratio of this class to zero.\n",
      "  warnings.warn(\n",
      "/opt/conda/lib/python3.10/site-packages/monai/transforms/utils.py:743: UserWarning: no available indices of class 2 to crop, setting the crop ratio of this class to zero.\n",
      "  warnings.warn(\n",
      "/opt/conda/lib/python3.10/site-packages/monai/transforms/utils.py:743: UserWarning: no available indices of class 7 to crop, setting the crop ratio of this class to zero.\n",
      "  warnings.warn(\n"
     ]
    },
    {
     "name": "stdout",
     "output_type": "stream",
     "text": [
      "saved new best metric model\n",
      "current epoch: 50 current mean recall per class: 0.2488, 0, 0.1478, 0.5468, 0.3267, 0.7535, 0\n",
      "best mean recall: 0.2891 at epoch: 50\n",
      "----------\n",
      "epoch 51/200\n"
     ]
    },
    {
     "name": "stderr",
     "output_type": "stream",
     "text": [
      "/opt/conda/lib/python3.10/site-packages/monai/transforms/utils.py:743: UserWarning: no available indices of class 2 to crop, setting the crop ratio of this class to zero.\n",
      "  warnings.warn(\n",
      "/opt/conda/lib/python3.10/site-packages/monai/transforms/utils.py:743: UserWarning: no available indices of class 2 to crop, setting the crop ratio of this class to zero.\n",
      "  warnings.warn(\n",
      "/opt/conda/lib/python3.10/site-packages/monai/transforms/utils.py:743: UserWarning: no available indices of class 7 to crop, setting the crop ratio of this class to zero.\n",
      "  warnings.warn(\n",
      "/opt/conda/lib/python3.10/site-packages/monai/transforms/utils.py:743: UserWarning: no available indices of class 2 to crop, setting the crop ratio of this class to zero.\n",
      "  warnings.warn(\n",
      "/opt/conda/lib/python3.10/site-packages/monai/transforms/utils.py:743: UserWarning: no available indices of class 7 to crop, setting the crop ratio of this class to zero.\n",
      "  warnings.warn(\n",
      "/opt/conda/lib/python3.10/site-packages/monai/transforms/utils.py:743: UserWarning: no available indices of class 7 to crop, setting the crop ratio of this class to zero.\n",
      "  warnings.warn(\n",
      "/opt/conda/lib/python3.10/site-packages/monai/transforms/utils.py:743: UserWarning: no available indices of class 2 to crop, setting the crop ratio of this class to zero.\n",
      "  warnings.warn(\n",
      "/opt/conda/lib/python3.10/site-packages/monai/transforms/utils.py:743: UserWarning: no available indices of class 7 to crop, setting the crop ratio of this class to zero.\n",
      "  warnings.warn(\n"
     ]
    },
    {
     "name": "stdout",
     "output_type": "stream",
     "text": [
      "batch 1/5, train_loss: 0.7780\n",
      "batch 2/5, train_loss: 0.8083\n",
      "batch 3/5, train_loss: 0.7616\n",
      "batch 4/5, train_loss: 0.7678\n",
      "batch 5/5, train_loss: 0.7739\n",
      "epoch 51 average loss: 0.7779\n",
      "----------\n",
      "epoch 52/200\n"
     ]
    },
    {
     "name": "stderr",
     "output_type": "stream",
     "text": [
      "/opt/conda/lib/python3.10/site-packages/monai/transforms/utils.py:743: UserWarning: no available indices of class 2 to crop, setting the crop ratio of this class to zero.\n",
      "  warnings.warn(\n",
      "/opt/conda/lib/python3.10/site-packages/monai/transforms/utils.py:743: UserWarning: no available indices of class 7 to crop, setting the crop ratio of this class to zero.\n",
      "  warnings.warn(\n",
      "/opt/conda/lib/python3.10/site-packages/monai/transforms/utils.py:743: UserWarning: no available indices of class 2 to crop, setting the crop ratio of this class to zero.\n",
      "  warnings.warn(\n",
      "/opt/conda/lib/python3.10/site-packages/monai/transforms/utils.py:743: UserWarning: no available indices of class 7 to crop, setting the crop ratio of this class to zero.\n",
      "  warnings.warn(\n",
      "/opt/conda/lib/python3.10/site-packages/monai/transforms/utils.py:743: UserWarning: no available indices of class 2 to crop, setting the crop ratio of this class to zero.\n",
      "  warnings.warn(\n",
      "/opt/conda/lib/python3.10/site-packages/monai/transforms/utils.py:743: UserWarning: no available indices of class 7 to crop, setting the crop ratio of this class to zero.\n",
      "  warnings.warn(\n",
      "/opt/conda/lib/python3.10/site-packages/monai/transforms/utils.py:743: UserWarning: no available indices of class 2 to crop, setting the crop ratio of this class to zero.\n",
      "  warnings.warn(\n",
      "/opt/conda/lib/python3.10/site-packages/monai/transforms/utils.py:743: UserWarning: no available indices of class 7 to crop, setting the crop ratio of this class to zero.\n",
      "  warnings.warn(\n"
     ]
    },
    {
     "name": "stdout",
     "output_type": "stream",
     "text": [
      "batch 1/5, train_loss: 0.7320\n",
      "batch 2/5, train_loss: 0.7519\n",
      "batch 3/5, train_loss: 0.7912\n",
      "batch 4/5, train_loss: 0.7566\n",
      "batch 5/5, train_loss: 0.7468\n",
      "epoch 52 average loss: 0.7557\n"
     ]
    },
    {
     "name": "stderr",
     "output_type": "stream",
     "text": [
      "/opt/conda/lib/python3.10/site-packages/monai/transforms/utils.py:743: UserWarning: no available indices of class 2 to crop, setting the crop ratio of this class to zero.\n",
      "  warnings.warn(\n",
      "/opt/conda/lib/python3.10/site-packages/monai/transforms/utils.py:743: UserWarning: no available indices of class 7 to crop, setting the crop ratio of this class to zero.\n",
      "  warnings.warn(\n",
      "/opt/conda/lib/python3.10/site-packages/monai/transforms/utils.py:743: UserWarning: no available indices of class 2 to crop, setting the crop ratio of this class to zero.\n",
      "  warnings.warn(\n",
      "/opt/conda/lib/python3.10/site-packages/monai/transforms/utils.py:743: UserWarning: no available indices of class 7 to crop, setting the crop ratio of this class to zero.\n",
      "  warnings.warn(\n"
     ]
    },
    {
     "name": "stdout",
     "output_type": "stream",
     "text": [
      "current epoch: 52 current mean recall per class: 0.2554, 0, 0.1446, 0.4259, 0.2773, 0.7186, 0\n",
      "best mean recall: 0.2891 at epoch: 50\n",
      "----------\n",
      "epoch 53/200\n"
     ]
    },
    {
     "name": "stderr",
     "output_type": "stream",
     "text": [
      "/opt/conda/lib/python3.10/site-packages/monai/transforms/utils.py:743: UserWarning: no available indices of class 2 to crop, setting the crop ratio of this class to zero.\n",
      "  warnings.warn(\n",
      "/opt/conda/lib/python3.10/site-packages/monai/transforms/utils.py:743: UserWarning: no available indices of class 7 to crop, setting the crop ratio of this class to zero.\n",
      "  warnings.warn(\n",
      "/opt/conda/lib/python3.10/site-packages/monai/transforms/utils.py:743: UserWarning: no available indices of class 2 to crop, setting the crop ratio of this class to zero.\n",
      "  warnings.warn(\n",
      "/opt/conda/lib/python3.10/site-packages/monai/transforms/utils.py:743: UserWarning: no available indices of class 7 to crop, setting the crop ratio of this class to zero.\n",
      "  warnings.warn(\n",
      "/opt/conda/lib/python3.10/site-packages/monai/transforms/utils.py:743: UserWarning: no available indices of class 2 to crop, setting the crop ratio of this class to zero.\n",
      "  warnings.warn(\n",
      "/opt/conda/lib/python3.10/site-packages/monai/transforms/utils.py:743: UserWarning: no available indices of class 7 to crop, setting the crop ratio of this class to zero.\n",
      "  warnings.warn(\n",
      "/opt/conda/lib/python3.10/site-packages/monai/transforms/utils.py:743: UserWarning: no available indices of class 2 to crop, setting the crop ratio of this class to zero.\n",
      "  warnings.warn(\n",
      "/opt/conda/lib/python3.10/site-packages/monai/transforms/utils.py:743: UserWarning: no available indices of class 7 to crop, setting the crop ratio of this class to zero.\n",
      "  warnings.warn(\n"
     ]
    },
    {
     "name": "stdout",
     "output_type": "stream",
     "text": [
      "batch 1/5, train_loss: 0.7623\n",
      "batch 2/5, train_loss: 0.7668\n",
      "batch 3/5, train_loss: 0.7379\n",
      "batch 4/5, train_loss: 0.7564\n",
      "batch 5/5, train_loss: 0.7488\n",
      "epoch 53 average loss: 0.7544\n",
      "----------\n",
      "epoch 54/200\n"
     ]
    },
    {
     "name": "stderr",
     "output_type": "stream",
     "text": [
      "/opt/conda/lib/python3.10/site-packages/monai/transforms/utils.py:743: UserWarning: no available indices of class 2 to crop, setting the crop ratio of this class to zero.\n",
      "  warnings.warn(\n",
      "/opt/conda/lib/python3.10/site-packages/monai/transforms/utils.py:743: UserWarning: no available indices of class 7 to crop, setting the crop ratio of this class to zero.\n",
      "  warnings.warn(\n",
      "/opt/conda/lib/python3.10/site-packages/monai/transforms/utils.py:743: UserWarning: no available indices of class 2 to crop, setting the crop ratio of this class to zero.\n",
      "  warnings.warn(\n",
      "/opt/conda/lib/python3.10/site-packages/monai/transforms/utils.py:743: UserWarning: no available indices of class 2 to crop, setting the crop ratio of this class to zero.\n",
      "  warnings.warn(\n",
      "/opt/conda/lib/python3.10/site-packages/monai/transforms/utils.py:743: UserWarning: no available indices of class 2 to crop, setting the crop ratio of this class to zero.\n",
      "  warnings.warn(\n",
      "/opt/conda/lib/python3.10/site-packages/monai/transforms/utils.py:743: UserWarning: no available indices of class 7 to crop, setting the crop ratio of this class to zero.\n",
      "  warnings.warn(\n",
      "/opt/conda/lib/python3.10/site-packages/monai/transforms/utils.py:743: UserWarning: no available indices of class 7 to crop, setting the crop ratio of this class to zero.\n",
      "  warnings.warn(\n",
      "/opt/conda/lib/python3.10/site-packages/monai/transforms/utils.py:743: UserWarning: no available indices of class 7 to crop, setting the crop ratio of this class to zero.\n",
      "  warnings.warn(\n"
     ]
    },
    {
     "name": "stdout",
     "output_type": "stream",
     "text": [
      "batch 1/5, train_loss: 0.7354\n",
      "batch 2/5, train_loss: 0.7636\n",
      "batch 3/5, train_loss: 0.7645\n",
      "batch 4/5, train_loss: 0.7713\n",
      "batch 5/5, train_loss: 0.7529\n",
      "epoch 54 average loss: 0.7575\n"
     ]
    },
    {
     "name": "stderr",
     "output_type": "stream",
     "text": [
      "/opt/conda/lib/python3.10/site-packages/monai/transforms/utils.py:743: UserWarning: no available indices of class 2 to crop, setting the crop ratio of this class to zero.\n",
      "  warnings.warn(\n",
      "/opt/conda/lib/python3.10/site-packages/monai/transforms/utils.py:743: UserWarning: no available indices of class 2 to crop, setting the crop ratio of this class to zero.\n",
      "  warnings.warn(\n",
      "/opt/conda/lib/python3.10/site-packages/monai/transforms/utils.py:743: UserWarning: no available indices of class 7 to crop, setting the crop ratio of this class to zero.\n",
      "  warnings.warn(\n",
      "/opt/conda/lib/python3.10/site-packages/monai/transforms/utils.py:743: UserWarning: no available indices of class 7 to crop, setting the crop ratio of this class to zero.\n",
      "  warnings.warn(\n"
     ]
    },
    {
     "name": "stdout",
     "output_type": "stream",
     "text": [
      "current epoch: 54 current mean recall per class: 0.3247, 0, 0.1323, 0.5052, 0.2498, 0.6027, 0\n",
      "best mean recall: 0.2891 at epoch: 50\n",
      "----------\n",
      "epoch 55/200\n"
     ]
    },
    {
     "name": "stderr",
     "output_type": "stream",
     "text": [
      "/opt/conda/lib/python3.10/site-packages/monai/transforms/utils.py:743: UserWarning: no available indices of class 2 to crop, setting the crop ratio of this class to zero.\n",
      "  warnings.warn(\n",
      "/opt/conda/lib/python3.10/site-packages/monai/transforms/utils.py:743: UserWarning: no available indices of class 7 to crop, setting the crop ratio of this class to zero.\n",
      "  warnings.warn(\n",
      "/opt/conda/lib/python3.10/site-packages/monai/transforms/utils.py:743: UserWarning: no available indices of class 2 to crop, setting the crop ratio of this class to zero.\n",
      "  warnings.warn(\n",
      "/opt/conda/lib/python3.10/site-packages/monai/transforms/utils.py:743: UserWarning: no available indices of class 7 to crop, setting the crop ratio of this class to zero.\n",
      "  warnings.warn(\n",
      "/opt/conda/lib/python3.10/site-packages/monai/transforms/utils.py:743: UserWarning: no available indices of class 2 to crop, setting the crop ratio of this class to zero.\n",
      "  warnings.warn(\n",
      "/opt/conda/lib/python3.10/site-packages/monai/transforms/utils.py:743: UserWarning: no available indices of class 7 to crop, setting the crop ratio of this class to zero.\n",
      "  warnings.warn(\n",
      "/opt/conda/lib/python3.10/site-packages/monai/transforms/utils.py:743: UserWarning: no available indices of class 2 to crop, setting the crop ratio of this class to zero.\n",
      "  warnings.warn(\n",
      "/opt/conda/lib/python3.10/site-packages/monai/transforms/utils.py:743: UserWarning: no available indices of class 7 to crop, setting the crop ratio of this class to zero.\n",
      "  warnings.warn(\n"
     ]
    },
    {
     "name": "stdout",
     "output_type": "stream",
     "text": [
      "batch 1/5, train_loss: 0.7777\n",
      "batch 2/5, train_loss: 0.7658\n",
      "batch 3/5, train_loss: 0.7817\n",
      "batch 4/5, train_loss: 0.7972\n",
      "batch 5/5, train_loss: 0.7565\n",
      "epoch 55 average loss: 0.7758\n",
      "----------\n",
      "epoch 56/200\n"
     ]
    },
    {
     "name": "stderr",
     "output_type": "stream",
     "text": [
      "/opt/conda/lib/python3.10/site-packages/monai/transforms/utils.py:743: UserWarning: no available indices of class 2 to crop, setting the crop ratio of this class to zero.\n",
      "  warnings.warn(\n",
      "/opt/conda/lib/python3.10/site-packages/monai/transforms/utils.py:743: UserWarning: no available indices of class 2 to crop, setting the crop ratio of this class to zero.\n",
      "  warnings.warn(\n",
      "/opt/conda/lib/python3.10/site-packages/monai/transforms/utils.py:743: UserWarning: no available indices of class 7 to crop, setting the crop ratio of this class to zero.\n",
      "  warnings.warn(\n",
      "/opt/conda/lib/python3.10/site-packages/monai/transforms/utils.py:743: UserWarning: no available indices of class 7 to crop, setting the crop ratio of this class to zero.\n",
      "  warnings.warn(\n",
      "/opt/conda/lib/python3.10/site-packages/monai/transforms/utils.py:743: UserWarning: no available indices of class 2 to crop, setting the crop ratio of this class to zero.\n",
      "  warnings.warn(\n",
      "/opt/conda/lib/python3.10/site-packages/monai/transforms/utils.py:743: UserWarning: no available indices of class 7 to crop, setting the crop ratio of this class to zero.\n",
      "  warnings.warn(\n",
      "/opt/conda/lib/python3.10/site-packages/monai/transforms/utils.py:743: UserWarning: no available indices of class 2 to crop, setting the crop ratio of this class to zero.\n",
      "  warnings.warn(\n",
      "/opt/conda/lib/python3.10/site-packages/monai/transforms/utils.py:743: UserWarning: no available indices of class 7 to crop, setting the crop ratio of this class to zero.\n",
      "  warnings.warn(\n"
     ]
    },
    {
     "name": "stdout",
     "output_type": "stream",
     "text": [
      "batch 1/5, train_loss: 0.7599\n",
      "batch 2/5, train_loss: 0.7856\n",
      "batch 3/5, train_loss: 0.7644\n",
      "batch 4/5, train_loss: 0.7498\n",
      "batch 5/5, train_loss: 0.7466\n",
      "epoch 56 average loss: 0.7612\n"
     ]
    },
    {
     "name": "stderr",
     "output_type": "stream",
     "text": [
      "/opt/conda/lib/python3.10/site-packages/monai/transforms/utils.py:743: UserWarning: no available indices of class 2 to crop, setting the crop ratio of this class to zero.\n",
      "  warnings.warn(\n",
      "/opt/conda/lib/python3.10/site-packages/monai/transforms/utils.py:743: UserWarning: no available indices of class 7 to crop, setting the crop ratio of this class to zero.\n",
      "  warnings.warn(\n",
      "/opt/conda/lib/python3.10/site-packages/monai/transforms/utils.py:743: UserWarning: no available indices of class 2 to crop, setting the crop ratio of this class to zero.\n",
      "  warnings.warn(\n",
      "/opt/conda/lib/python3.10/site-packages/monai/transforms/utils.py:743: UserWarning: no available indices of class 7 to crop, setting the crop ratio of this class to zero.\n",
      "  warnings.warn(\n"
     ]
    },
    {
     "name": "stdout",
     "output_type": "stream",
     "text": [
      "current epoch: 56 current mean recall per class: 0.3186, 0, 0.1646, 0.3902, 0.2225, 0.7552, 0\n",
      "best mean recall: 0.2891 at epoch: 50\n",
      "----------\n",
      "epoch 57/200\n"
     ]
    },
    {
     "name": "stderr",
     "output_type": "stream",
     "text": [
      "/opt/conda/lib/python3.10/site-packages/monai/transforms/utils.py:743: UserWarning: no available indices of class 2 to crop, setting the crop ratio of this class to zero.\n",
      "  warnings.warn(\n",
      "/opt/conda/lib/python3.10/site-packages/monai/transforms/utils.py:743: UserWarning: no available indices of class 7 to crop, setting the crop ratio of this class to zero.\n",
      "  warnings.warn(\n",
      "/opt/conda/lib/python3.10/site-packages/monai/transforms/utils.py:743: UserWarning: no available indices of class 2 to crop, setting the crop ratio of this class to zero.\n",
      "  warnings.warn(\n",
      "/opt/conda/lib/python3.10/site-packages/monai/transforms/utils.py:743: UserWarning: no available indices of class 7 to crop, setting the crop ratio of this class to zero.\n",
      "  warnings.warn(\n",
      "/opt/conda/lib/python3.10/site-packages/monai/transforms/utils.py:743: UserWarning: no available indices of class 2 to crop, setting the crop ratio of this class to zero.\n",
      "  warnings.warn(\n",
      "/opt/conda/lib/python3.10/site-packages/monai/transforms/utils.py:743: UserWarning: no available indices of class 7 to crop, setting the crop ratio of this class to zero.\n",
      "  warnings.warn(\n",
      "/opt/conda/lib/python3.10/site-packages/monai/transforms/utils.py:743: UserWarning: no available indices of class 2 to crop, setting the crop ratio of this class to zero.\n",
      "  warnings.warn(\n",
      "/opt/conda/lib/python3.10/site-packages/monai/transforms/utils.py:743: UserWarning: no available indices of class 7 to crop, setting the crop ratio of this class to zero.\n",
      "  warnings.warn(\n"
     ]
    },
    {
     "name": "stdout",
     "output_type": "stream",
     "text": [
      "batch 1/5, train_loss: 0.7624\n",
      "batch 2/5, train_loss: 0.7410\n",
      "batch 3/5, train_loss: 0.7869\n",
      "batch 4/5, train_loss: 0.7828\n",
      "batch 5/5, train_loss: 0.7875\n",
      "epoch 57 average loss: 0.7721\n",
      "----------\n",
      "epoch 58/200\n"
     ]
    },
    {
     "name": "stderr",
     "output_type": "stream",
     "text": [
      "/opt/conda/lib/python3.10/site-packages/monai/transforms/utils.py:743: UserWarning: no available indices of class 2 to crop, setting the crop ratio of this class to zero.\n",
      "  warnings.warn(\n",
      "/opt/conda/lib/python3.10/site-packages/monai/transforms/utils.py:743: UserWarning: no available indices of class 7 to crop, setting the crop ratio of this class to zero.\n",
      "  warnings.warn(\n",
      "/opt/conda/lib/python3.10/site-packages/monai/transforms/utils.py:743: UserWarning: no available indices of class 2 to crop, setting the crop ratio of this class to zero.\n",
      "  warnings.warn(\n",
      "/opt/conda/lib/python3.10/site-packages/monai/transforms/utils.py:743: UserWarning: no available indices of class 2 to crop, setting the crop ratio of this class to zero.\n",
      "  warnings.warn(\n",
      "/opt/conda/lib/python3.10/site-packages/monai/transforms/utils.py:743: UserWarning: no available indices of class 7 to crop, setting the crop ratio of this class to zero.\n",
      "  warnings.warn(\n",
      "/opt/conda/lib/python3.10/site-packages/monai/transforms/utils.py:743: UserWarning: no available indices of class 7 to crop, setting the crop ratio of this class to zero.\n",
      "  warnings.warn(\n",
      "/opt/conda/lib/python3.10/site-packages/monai/transforms/utils.py:743: UserWarning: no available indices of class 2 to crop, setting the crop ratio of this class to zero.\n",
      "  warnings.warn(\n",
      "/opt/conda/lib/python3.10/site-packages/monai/transforms/utils.py:743: UserWarning: no available indices of class 7 to crop, setting the crop ratio of this class to zero.\n",
      "  warnings.warn(\n"
     ]
    },
    {
     "name": "stdout",
     "output_type": "stream",
     "text": [
      "batch 1/5, train_loss: 0.7713\n",
      "batch 2/5, train_loss: 0.7335\n",
      "batch 3/5, train_loss: 0.7262\n",
      "batch 4/5, train_loss: 0.7523\n",
      "batch 5/5, train_loss: 0.7638\n",
      "epoch 58 average loss: 0.7494\n"
     ]
    },
    {
     "name": "stderr",
     "output_type": "stream",
     "text": [
      "/opt/conda/lib/python3.10/site-packages/monai/transforms/utils.py:743: UserWarning: no available indices of class 2 to crop, setting the crop ratio of this class to zero.\n",
      "  warnings.warn(\n",
      "/opt/conda/lib/python3.10/site-packages/monai/transforms/utils.py:743: UserWarning: no available indices of class 7 to crop, setting the crop ratio of this class to zero.\n",
      "  warnings.warn(\n",
      "/opt/conda/lib/python3.10/site-packages/monai/transforms/utils.py:743: UserWarning: no available indices of class 2 to crop, setting the crop ratio of this class to zero.\n",
      "  warnings.warn(\n",
      "/opt/conda/lib/python3.10/site-packages/monai/transforms/utils.py:743: UserWarning: no available indices of class 7 to crop, setting the crop ratio of this class to zero.\n",
      "  warnings.warn(\n"
     ]
    },
    {
     "name": "stdout",
     "output_type": "stream",
     "text": [
      "current epoch: 58 current mean recall per class: 0.3172, 0, 0.185, 0.5032, 0.2411, 0.6235, 0\n",
      "best mean recall: 0.2891 at epoch: 50\n",
      "----------\n",
      "epoch 59/200\n"
     ]
    },
    {
     "name": "stderr",
     "output_type": "stream",
     "text": [
      "/opt/conda/lib/python3.10/site-packages/monai/transforms/utils.py:743: UserWarning: no available indices of class 2 to crop, setting the crop ratio of this class to zero.\n",
      "  warnings.warn(\n",
      "/opt/conda/lib/python3.10/site-packages/monai/transforms/utils.py:743: UserWarning: no available indices of class 2 to crop, setting the crop ratio of this class to zero.\n",
      "  warnings.warn(\n",
      "/opt/conda/lib/python3.10/site-packages/monai/transforms/utils.py:743: UserWarning: no available indices of class 7 to crop, setting the crop ratio of this class to zero.\n",
      "  warnings.warn(\n",
      "/opt/conda/lib/python3.10/site-packages/monai/transforms/utils.py:743: UserWarning: no available indices of class 7 to crop, setting the crop ratio of this class to zero.\n",
      "  warnings.warn(\n",
      "/opt/conda/lib/python3.10/site-packages/monai/transforms/utils.py:743: UserWarning: no available indices of class 2 to crop, setting the crop ratio of this class to zero.\n",
      "  warnings.warn(\n",
      "/opt/conda/lib/python3.10/site-packages/monai/transforms/utils.py:743: UserWarning: no available indices of class 7 to crop, setting the crop ratio of this class to zero.\n",
      "  warnings.warn(\n",
      "/opt/conda/lib/python3.10/site-packages/monai/transforms/utils.py:743: UserWarning: no available indices of class 2 to crop, setting the crop ratio of this class to zero.\n",
      "  warnings.warn(\n",
      "/opt/conda/lib/python3.10/site-packages/monai/transforms/utils.py:743: UserWarning: no available indices of class 7 to crop, setting the crop ratio of this class to zero.\n",
      "  warnings.warn(\n"
     ]
    },
    {
     "name": "stdout",
     "output_type": "stream",
     "text": [
      "batch 1/5, train_loss: 0.7706\n",
      "batch 2/5, train_loss: 0.7450\n",
      "batch 3/5, train_loss: 0.7877\n",
      "batch 4/5, train_loss: 0.7339\n",
      "batch 5/5, train_loss: 0.7775\n",
      "epoch 59 average loss: 0.7629\n",
      "----------\n",
      "epoch 60/200\n"
     ]
    },
    {
     "name": "stderr",
     "output_type": "stream",
     "text": [
      "/opt/conda/lib/python3.10/site-packages/monai/transforms/utils.py:743: UserWarning: no available indices of class 2 to crop, setting the crop ratio of this class to zero.\n",
      "  warnings.warn(\n",
      "/opt/conda/lib/python3.10/site-packages/monai/transforms/utils.py:743: UserWarning: no available indices of class 7 to crop, setting the crop ratio of this class to zero.\n",
      "  warnings.warn(\n",
      "/opt/conda/lib/python3.10/site-packages/monai/transforms/utils.py:743: UserWarning: no available indices of class 2 to crop, setting the crop ratio of this class to zero.\n",
      "  warnings.warn(\n",
      "/opt/conda/lib/python3.10/site-packages/monai/transforms/utils.py:743: UserWarning: no available indices of class 7 to crop, setting the crop ratio of this class to zero.\n",
      "  warnings.warn(\n",
      "/opt/conda/lib/python3.10/site-packages/monai/transforms/utils.py:743: UserWarning: no available indices of class 2 to crop, setting the crop ratio of this class to zero.\n",
      "  warnings.warn(\n",
      "/opt/conda/lib/python3.10/site-packages/monai/transforms/utils.py:743: UserWarning: no available indices of class 7 to crop, setting the crop ratio of this class to zero.\n",
      "  warnings.warn(\n",
      "/opt/conda/lib/python3.10/site-packages/monai/transforms/utils.py:743: UserWarning: no available indices of class 2 to crop, setting the crop ratio of this class to zero.\n",
      "  warnings.warn(\n",
      "/opt/conda/lib/python3.10/site-packages/monai/transforms/utils.py:743: UserWarning: no available indices of class 7 to crop, setting the crop ratio of this class to zero.\n",
      "  warnings.warn(\n"
     ]
    },
    {
     "name": "stdout",
     "output_type": "stream",
     "text": [
      "batch 1/5, train_loss: 0.7592\n",
      "batch 2/5, train_loss: 0.7681\n",
      "batch 3/5, train_loss: 0.7828\n",
      "batch 4/5, train_loss: 0.7619\n",
      "batch 5/5, train_loss: 0.7519\n",
      "epoch 60 average loss: 0.7648\n"
     ]
    },
    {
     "name": "stderr",
     "output_type": "stream",
     "text": [
      "/opt/conda/lib/python3.10/site-packages/monai/transforms/utils.py:743: UserWarning: no available indices of class 2 to crop, setting the crop ratio of this class to zero.\n",
      "  warnings.warn(\n",
      "/opt/conda/lib/python3.10/site-packages/monai/transforms/utils.py:743: UserWarning: no available indices of class 2 to crop, setting the crop ratio of this class to zero.\n",
      "  warnings.warn(\n",
      "/opt/conda/lib/python3.10/site-packages/monai/transforms/utils.py:743: UserWarning: no available indices of class 7 to crop, setting the crop ratio of this class to zero.\n",
      "  warnings.warn(\n",
      "/opt/conda/lib/python3.10/site-packages/monai/transforms/utils.py:743: UserWarning: no available indices of class 7 to crop, setting the crop ratio of this class to zero.\n",
      "  warnings.warn(\n"
     ]
    },
    {
     "name": "stdout",
     "output_type": "stream",
     "text": [
      "current epoch: 60 current mean recall per class: 0.3878, 0, 0.1476, 0.4577, 0.2465, 0.636, 0\n",
      "best mean recall: 0.2891 at epoch: 50\n",
      "----------\n",
      "epoch 61/200\n"
     ]
    },
    {
     "name": "stderr",
     "output_type": "stream",
     "text": [
      "/opt/conda/lib/python3.10/site-packages/monai/transforms/utils.py:743: UserWarning: no available indices of class 2 to crop, setting the crop ratio of this class to zero.\n",
      "  warnings.warn(\n",
      "/opt/conda/lib/python3.10/site-packages/monai/transforms/utils.py:743: UserWarning: no available indices of class 7 to crop, setting the crop ratio of this class to zero.\n",
      "  warnings.warn(\n",
      "/opt/conda/lib/python3.10/site-packages/monai/transforms/utils.py:743: UserWarning: no available indices of class 2 to crop, setting the crop ratio of this class to zero.\n",
      "  warnings.warn(\n",
      "/opt/conda/lib/python3.10/site-packages/monai/transforms/utils.py:743: UserWarning: no available indices of class 7 to crop, setting the crop ratio of this class to zero.\n",
      "  warnings.warn(\n",
      "/opt/conda/lib/python3.10/site-packages/monai/transforms/utils.py:743: UserWarning: no available indices of class 2 to crop, setting the crop ratio of this class to zero.\n",
      "  warnings.warn(\n",
      "/opt/conda/lib/python3.10/site-packages/monai/transforms/utils.py:743: UserWarning: no available indices of class 7 to crop, setting the crop ratio of this class to zero.\n",
      "  warnings.warn(\n",
      "/opt/conda/lib/python3.10/site-packages/monai/transforms/utils.py:743: UserWarning: no available indices of class 2 to crop, setting the crop ratio of this class to zero.\n",
      "  warnings.warn(\n",
      "/opt/conda/lib/python3.10/site-packages/monai/transforms/utils.py:743: UserWarning: no available indices of class 7 to crop, setting the crop ratio of this class to zero.\n",
      "  warnings.warn(\n"
     ]
    },
    {
     "name": "stdout",
     "output_type": "stream",
     "text": [
      "batch 1/5, train_loss: 0.7194\n",
      "batch 2/5, train_loss: 0.7464\n",
      "batch 3/5, train_loss: 0.7375\n",
      "batch 4/5, train_loss: 0.7496\n",
      "batch 5/5, train_loss: 0.7536\n",
      "epoch 61 average loss: 0.7413\n",
      "----------\n",
      "epoch 62/200\n"
     ]
    },
    {
     "name": "stderr",
     "output_type": "stream",
     "text": [
      "/opt/conda/lib/python3.10/site-packages/monai/transforms/utils.py:743: UserWarning: no available indices of class 2 to crop, setting the crop ratio of this class to zero.\n",
      "  warnings.warn(\n",
      "/opt/conda/lib/python3.10/site-packages/monai/transforms/utils.py:743: UserWarning: no available indices of class 7 to crop, setting the crop ratio of this class to zero.\n",
      "  warnings.warn(\n",
      "/opt/conda/lib/python3.10/site-packages/monai/transforms/utils.py:743: UserWarning: no available indices of class 2 to crop, setting the crop ratio of this class to zero.\n",
      "  warnings.warn(\n",
      "/opt/conda/lib/python3.10/site-packages/monai/transforms/utils.py:743: UserWarning: no available indices of class 7 to crop, setting the crop ratio of this class to zero.\n",
      "  warnings.warn(\n",
      "/opt/conda/lib/python3.10/site-packages/monai/transforms/utils.py:743: UserWarning: no available indices of class 2 to crop, setting the crop ratio of this class to zero.\n",
      "  warnings.warn(\n",
      "/opt/conda/lib/python3.10/site-packages/monai/transforms/utils.py:743: UserWarning: no available indices of class 7 to crop, setting the crop ratio of this class to zero.\n",
      "  warnings.warn(\n",
      "/opt/conda/lib/python3.10/site-packages/monai/transforms/utils.py:743: UserWarning: no available indices of class 2 to crop, setting the crop ratio of this class to zero.\n",
      "  warnings.warn(\n",
      "/opt/conda/lib/python3.10/site-packages/monai/transforms/utils.py:743: UserWarning: no available indices of class 7 to crop, setting the crop ratio of this class to zero.\n",
      "  warnings.warn(\n"
     ]
    },
    {
     "name": "stdout",
     "output_type": "stream",
     "text": [
      "batch 1/5, train_loss: 0.7314\n",
      "batch 2/5, train_loss: 0.7127\n",
      "batch 3/5, train_loss: 0.7647\n",
      "batch 4/5, train_loss: 0.7583\n",
      "batch 5/5, train_loss: 0.7044\n",
      "epoch 62 average loss: 0.7343\n"
     ]
    },
    {
     "name": "stderr",
     "output_type": "stream",
     "text": [
      "/opt/conda/lib/python3.10/site-packages/monai/transforms/utils.py:743: UserWarning: no available indices of class 2 to crop, setting the crop ratio of this class to zero.\n",
      "  warnings.warn(\n",
      "/opt/conda/lib/python3.10/site-packages/monai/transforms/utils.py:743: UserWarning: no available indices of class 7 to crop, setting the crop ratio of this class to zero.\n",
      "  warnings.warn(\n",
      "/opt/conda/lib/python3.10/site-packages/monai/transforms/utils.py:743: UserWarning: no available indices of class 2 to crop, setting the crop ratio of this class to zero.\n",
      "  warnings.warn(\n",
      "/opt/conda/lib/python3.10/site-packages/monai/transforms/utils.py:743: UserWarning: no available indices of class 7 to crop, setting the crop ratio of this class to zero.\n",
      "  warnings.warn(\n"
     ]
    },
    {
     "name": "stdout",
     "output_type": "stream",
     "text": [
      "saved new best metric model\n",
      "current epoch: 62 current mean recall per class: 0.4858, 0, 0.1911, 0.4622, 0.3027, 0.7325, 0\n",
      "best mean recall: 0.3106 at epoch: 62\n",
      "----------\n",
      "epoch 63/200\n"
     ]
    },
    {
     "name": "stderr",
     "output_type": "stream",
     "text": [
      "/opt/conda/lib/python3.10/site-packages/monai/transforms/utils.py:743: UserWarning: no available indices of class 2 to crop, setting the crop ratio of this class to zero.\n",
      "  warnings.warn(\n",
      "/opt/conda/lib/python3.10/site-packages/monai/transforms/utils.py:743: UserWarning: no available indices of class 7 to crop, setting the crop ratio of this class to zero.\n",
      "  warnings.warn(\n",
      "/opt/conda/lib/python3.10/site-packages/monai/transforms/utils.py:743: UserWarning: no available indices of class 2 to crop, setting the crop ratio of this class to zero.\n",
      "  warnings.warn(\n",
      "/opt/conda/lib/python3.10/site-packages/monai/transforms/utils.py:743: UserWarning: no available indices of class 2 to crop, setting the crop ratio of this class to zero.\n",
      "  warnings.warn(\n",
      "/opt/conda/lib/python3.10/site-packages/monai/transforms/utils.py:743: UserWarning: no available indices of class 7 to crop, setting the crop ratio of this class to zero.\n",
      "  warnings.warn(\n",
      "/opt/conda/lib/python3.10/site-packages/monai/transforms/utils.py:743: UserWarning: no available indices of class 7 to crop, setting the crop ratio of this class to zero.\n",
      "  warnings.warn(\n",
      "/opt/conda/lib/python3.10/site-packages/monai/transforms/utils.py:743: UserWarning: no available indices of class 2 to crop, setting the crop ratio of this class to zero.\n",
      "  warnings.warn(\n",
      "/opt/conda/lib/python3.10/site-packages/monai/transforms/utils.py:743: UserWarning: no available indices of class 7 to crop, setting the crop ratio of this class to zero.\n",
      "  warnings.warn(\n"
     ]
    },
    {
     "name": "stdout",
     "output_type": "stream",
     "text": [
      "batch 1/5, train_loss: 0.7735\n",
      "batch 2/5, train_loss: 0.7226\n",
      "batch 3/5, train_loss: 0.7544\n",
      "batch 4/5, train_loss: 0.7364\n",
      "batch 5/5, train_loss: 0.7486\n",
      "epoch 63 average loss: 0.7471\n",
      "----------\n",
      "epoch 64/200\n"
     ]
    },
    {
     "name": "stderr",
     "output_type": "stream",
     "text": [
      "/opt/conda/lib/python3.10/site-packages/monai/transforms/utils.py:743: UserWarning: no available indices of class 2 to crop, setting the crop ratio of this class to zero.\n",
      "  warnings.warn(\n",
      "/opt/conda/lib/python3.10/site-packages/monai/transforms/utils.py:743: UserWarning: no available indices of class 7 to crop, setting the crop ratio of this class to zero.\n",
      "  warnings.warn(\n",
      "/opt/conda/lib/python3.10/site-packages/monai/transforms/utils.py:743: UserWarning: no available indices of class 2 to crop, setting the crop ratio of this class to zero.\n",
      "  warnings.warn(\n",
      "/opt/conda/lib/python3.10/site-packages/monai/transforms/utils.py:743: UserWarning: no available indices of class 7 to crop, setting the crop ratio of this class to zero.\n",
      "  warnings.warn(\n",
      "/opt/conda/lib/python3.10/site-packages/monai/transforms/utils.py:743: UserWarning: no available indices of class 2 to crop, setting the crop ratio of this class to zero.\n",
      "  warnings.warn(\n",
      "/opt/conda/lib/python3.10/site-packages/monai/transforms/utils.py:743: UserWarning: no available indices of class 7 to crop, setting the crop ratio of this class to zero.\n",
      "  warnings.warn(\n",
      "/opt/conda/lib/python3.10/site-packages/monai/transforms/utils.py:743: UserWarning: no available indices of class 2 to crop, setting the crop ratio of this class to zero.\n",
      "  warnings.warn(\n",
      "/opt/conda/lib/python3.10/site-packages/monai/transforms/utils.py:743: UserWarning: no available indices of class 7 to crop, setting the crop ratio of this class to zero.\n",
      "  warnings.warn(\n"
     ]
    },
    {
     "name": "stdout",
     "output_type": "stream",
     "text": [
      "batch 1/5, train_loss: 0.7608\n",
      "batch 2/5, train_loss: 0.7585\n",
      "batch 3/5, train_loss: 0.7386\n",
      "batch 4/5, train_loss: 0.7284\n",
      "batch 5/5, train_loss: 0.7506\n",
      "epoch 64 average loss: 0.7474\n"
     ]
    },
    {
     "name": "stderr",
     "output_type": "stream",
     "text": [
      "/opt/conda/lib/python3.10/site-packages/monai/transforms/utils.py:743: UserWarning: no available indices of class 2 to crop, setting the crop ratio of this class to zero.\n",
      "  warnings.warn(\n",
      "/opt/conda/lib/python3.10/site-packages/monai/transforms/utils.py:743: UserWarning: no available indices of class 7 to crop, setting the crop ratio of this class to zero.\n",
      "  warnings.warn(\n",
      "/opt/conda/lib/python3.10/site-packages/monai/transforms/utils.py:743: UserWarning: no available indices of class 2 to crop, setting the crop ratio of this class to zero.\n",
      "  warnings.warn(\n",
      "/opt/conda/lib/python3.10/site-packages/monai/transforms/utils.py:743: UserWarning: no available indices of class 7 to crop, setting the crop ratio of this class to zero.\n",
      "  warnings.warn(\n"
     ]
    },
    {
     "name": "stdout",
     "output_type": "stream",
     "text": [
      "current epoch: 64 current mean recall per class: 0.4532, 0, 0.1462, 0.4787, 0.2686, 0.688, 0\n",
      "best mean recall: 0.3106 at epoch: 62\n",
      "----------\n",
      "epoch 65/200\n"
     ]
    },
    {
     "name": "stderr",
     "output_type": "stream",
     "text": [
      "/opt/conda/lib/python3.10/site-packages/monai/transforms/utils.py:743: UserWarning: no available indices of class 2 to crop, setting the crop ratio of this class to zero.\n",
      "  warnings.warn(\n",
      "/opt/conda/lib/python3.10/site-packages/monai/transforms/utils.py:743: UserWarning: no available indices of class 7 to crop, setting the crop ratio of this class to zero.\n",
      "  warnings.warn(\n",
      "/opt/conda/lib/python3.10/site-packages/monai/transforms/utils.py:743: UserWarning: no available indices of class 2 to crop, setting the crop ratio of this class to zero.\n",
      "  warnings.warn(\n",
      "/opt/conda/lib/python3.10/site-packages/monai/transforms/utils.py:743: UserWarning: no available indices of class 7 to crop, setting the crop ratio of this class to zero.\n",
      "  warnings.warn(\n",
      "/opt/conda/lib/python3.10/site-packages/monai/transforms/utils.py:743: UserWarning: no available indices of class 2 to crop, setting the crop ratio of this class to zero.\n",
      "  warnings.warn(\n",
      "/opt/conda/lib/python3.10/site-packages/monai/transforms/utils.py:743: UserWarning: no available indices of class 7 to crop, setting the crop ratio of this class to zero.\n",
      "  warnings.warn(\n",
      "/opt/conda/lib/python3.10/site-packages/monai/transforms/utils.py:743: UserWarning: no available indices of class 2 to crop, setting the crop ratio of this class to zero.\n",
      "  warnings.warn(\n",
      "/opt/conda/lib/python3.10/site-packages/monai/transforms/utils.py:743: UserWarning: no available indices of class 7 to crop, setting the crop ratio of this class to zero.\n",
      "  warnings.warn(\n"
     ]
    },
    {
     "name": "stdout",
     "output_type": "stream",
     "text": [
      "batch 1/5, train_loss: 0.7375\n",
      "batch 2/5, train_loss: 0.7676\n",
      "batch 3/5, train_loss: 0.7402\n",
      "batch 4/5, train_loss: 0.7256\n",
      "batch 5/5, train_loss: 0.7637\n",
      "epoch 65 average loss: 0.7469\n",
      "----------\n",
      "epoch 66/200\n"
     ]
    },
    {
     "name": "stderr",
     "output_type": "stream",
     "text": [
      "/opt/conda/lib/python3.10/site-packages/monai/transforms/utils.py:743: UserWarning: no available indices of class 2 to crop, setting the crop ratio of this class to zero.\n",
      "  warnings.warn(\n",
      "/opt/conda/lib/python3.10/site-packages/monai/transforms/utils.py:743: UserWarning: no available indices of class 7 to crop, setting the crop ratio of this class to zero.\n",
      "  warnings.warn(\n",
      "/opt/conda/lib/python3.10/site-packages/monai/transforms/utils.py:743: UserWarning: no available indices of class 2 to crop, setting the crop ratio of this class to zero.\n",
      "  warnings.warn(\n",
      "/opt/conda/lib/python3.10/site-packages/monai/transforms/utils.py:743: UserWarning: no available indices of class 7 to crop, setting the crop ratio of this class to zero.\n",
      "  warnings.warn(\n",
      "/opt/conda/lib/python3.10/site-packages/monai/transforms/utils.py:743: UserWarning: no available indices of class 2 to crop, setting the crop ratio of this class to zero.\n",
      "  warnings.warn(\n",
      "/opt/conda/lib/python3.10/site-packages/monai/transforms/utils.py:743: UserWarning: no available indices of class 7 to crop, setting the crop ratio of this class to zero.\n",
      "  warnings.warn(\n",
      "/opt/conda/lib/python3.10/site-packages/monai/transforms/utils.py:743: UserWarning: no available indices of class 2 to crop, setting the crop ratio of this class to zero.\n",
      "  warnings.warn(\n",
      "/opt/conda/lib/python3.10/site-packages/monai/transforms/utils.py:743: UserWarning: no available indices of class 7 to crop, setting the crop ratio of this class to zero.\n",
      "  warnings.warn(\n"
     ]
    },
    {
     "name": "stdout",
     "output_type": "stream",
     "text": [
      "batch 1/5, train_loss: 0.7430\n",
      "batch 2/5, train_loss: 0.7105\n",
      "batch 3/5, train_loss: 0.7310\n",
      "batch 4/5, train_loss: 0.7351\n",
      "batch 5/5, train_loss: 0.7730\n",
      "epoch 66 average loss: 0.7385\n"
     ]
    },
    {
     "name": "stderr",
     "output_type": "stream",
     "text": [
      "/opt/conda/lib/python3.10/site-packages/monai/transforms/utils.py:743: UserWarning: no available indices of class 2 to crop, setting the crop ratio of this class to zero.\n",
      "  warnings.warn(\n",
      "/opt/conda/lib/python3.10/site-packages/monai/transforms/utils.py:743: UserWarning: no available indices of class 7 to crop, setting the crop ratio of this class to zero.\n",
      "  warnings.warn(\n",
      "/opt/conda/lib/python3.10/site-packages/monai/transforms/utils.py:743: UserWarning: no available indices of class 2 to crop, setting the crop ratio of this class to zero.\n",
      "  warnings.warn(\n",
      "/opt/conda/lib/python3.10/site-packages/monai/transforms/utils.py:743: UserWarning: no available indices of class 7 to crop, setting the crop ratio of this class to zero.\n",
      "  warnings.warn(\n"
     ]
    },
    {
     "name": "stdout",
     "output_type": "stream",
     "text": [
      "current epoch: 66 current mean recall per class: 0.3716, 0, 0.1022, 0.4622, 0.2944, 0.5354, 0\n",
      "best mean recall: 0.3106 at epoch: 62\n",
      "----------\n",
      "epoch 67/200\n"
     ]
    },
    {
     "name": "stderr",
     "output_type": "stream",
     "text": [
      "/opt/conda/lib/python3.10/site-packages/monai/transforms/utils.py:743: UserWarning: no available indices of class 2 to crop, setting the crop ratio of this class to zero.\n",
      "  warnings.warn(\n",
      "/opt/conda/lib/python3.10/site-packages/monai/transforms/utils.py:743: UserWarning: no available indices of class 7 to crop, setting the crop ratio of this class to zero.\n",
      "  warnings.warn(\n",
      "/opt/conda/lib/python3.10/site-packages/monai/transforms/utils.py:743: UserWarning: no available indices of class 2 to crop, setting the crop ratio of this class to zero.\n",
      "  warnings.warn(\n",
      "/opt/conda/lib/python3.10/site-packages/monai/transforms/utils.py:743: UserWarning: no available indices of class 7 to crop, setting the crop ratio of this class to zero.\n",
      "  warnings.warn(\n",
      "/opt/conda/lib/python3.10/site-packages/monai/transforms/utils.py:743: UserWarning: no available indices of class 2 to crop, setting the crop ratio of this class to zero.\n",
      "  warnings.warn(\n",
      "/opt/conda/lib/python3.10/site-packages/monai/transforms/utils.py:743: UserWarning: no available indices of class 7 to crop, setting the crop ratio of this class to zero.\n",
      "  warnings.warn(\n",
      "/opt/conda/lib/python3.10/site-packages/monai/transforms/utils.py:743: UserWarning: no available indices of class 2 to crop, setting the crop ratio of this class to zero.\n",
      "  warnings.warn(\n",
      "/opt/conda/lib/python3.10/site-packages/monai/transforms/utils.py:743: UserWarning: no available indices of class 7 to crop, setting the crop ratio of this class to zero.\n",
      "  warnings.warn(\n"
     ]
    },
    {
     "name": "stdout",
     "output_type": "stream",
     "text": [
      "batch 1/5, train_loss: 0.7545\n",
      "batch 2/5, train_loss: 0.7083\n",
      "batch 3/5, train_loss: 0.7280\n",
      "batch 4/5, train_loss: 0.7530\n",
      "batch 5/5, train_loss: 0.7324\n",
      "epoch 67 average loss: 0.7352\n",
      "----------\n",
      "epoch 68/200\n"
     ]
    },
    {
     "name": "stderr",
     "output_type": "stream",
     "text": [
      "/opt/conda/lib/python3.10/site-packages/monai/transforms/utils.py:743: UserWarning: no available indices of class 2 to crop, setting the crop ratio of this class to zero.\n",
      "  warnings.warn(\n",
      "/opt/conda/lib/python3.10/site-packages/monai/transforms/utils.py:743: UserWarning: no available indices of class 7 to crop, setting the crop ratio of this class to zero.\n",
      "  warnings.warn(\n",
      "/opt/conda/lib/python3.10/site-packages/monai/transforms/utils.py:743: UserWarning: no available indices of class 2 to crop, setting the crop ratio of this class to zero.\n",
      "  warnings.warn(\n",
      "/opt/conda/lib/python3.10/site-packages/monai/transforms/utils.py:743: UserWarning: no available indices of class 7 to crop, setting the crop ratio of this class to zero.\n",
      "  warnings.warn(\n",
      "/opt/conda/lib/python3.10/site-packages/monai/transforms/utils.py:743: UserWarning: no available indices of class 2 to crop, setting the crop ratio of this class to zero.\n",
      "  warnings.warn(\n",
      "/opt/conda/lib/python3.10/site-packages/monai/transforms/utils.py:743: UserWarning: no available indices of class 7 to crop, setting the crop ratio of this class to zero.\n",
      "  warnings.warn(\n",
      "/opt/conda/lib/python3.10/site-packages/monai/transforms/utils.py:743: UserWarning: no available indices of class 2 to crop, setting the crop ratio of this class to zero.\n",
      "  warnings.warn(\n",
      "/opt/conda/lib/python3.10/site-packages/monai/transforms/utils.py:743: UserWarning: no available indices of class 7 to crop, setting the crop ratio of this class to zero.\n",
      "  warnings.warn(\n"
     ]
    },
    {
     "name": "stdout",
     "output_type": "stream",
     "text": [
      "batch 1/5, train_loss: 0.7438\n",
      "batch 2/5, train_loss: 0.7663\n",
      "batch 3/5, train_loss: 0.7183\n",
      "batch 4/5, train_loss: 0.7339\n",
      "batch 5/5, train_loss: 0.7543\n",
      "epoch 68 average loss: 0.7433\n"
     ]
    },
    {
     "name": "stderr",
     "output_type": "stream",
     "text": [
      "/opt/conda/lib/python3.10/site-packages/monai/transforms/utils.py:743: UserWarning: no available indices of class 2 to crop, setting the crop ratio of this class to zero.\n",
      "  warnings.warn(\n",
      "/opt/conda/lib/python3.10/site-packages/monai/transforms/utils.py:743: UserWarning: no available indices of class 7 to crop, setting the crop ratio of this class to zero.\n",
      "  warnings.warn(\n",
      "/opt/conda/lib/python3.10/site-packages/monai/transforms/utils.py:743: UserWarning: no available indices of class 2 to crop, setting the crop ratio of this class to zero.\n",
      "  warnings.warn(\n",
      "/opt/conda/lib/python3.10/site-packages/monai/transforms/utils.py:743: UserWarning: no available indices of class 7 to crop, setting the crop ratio of this class to zero.\n",
      "  warnings.warn(\n"
     ]
    },
    {
     "name": "stdout",
     "output_type": "stream",
     "text": [
      "current epoch: 68 current mean recall per class: 0.5367, 0, 0.1403, 0.4874, 0.417, 0.4724, 0\n",
      "best mean recall: 0.3106 at epoch: 62\n",
      "----------\n",
      "epoch 69/200\n"
     ]
    },
    {
     "name": "stderr",
     "output_type": "stream",
     "text": [
      "/opt/conda/lib/python3.10/site-packages/monai/transforms/utils.py:743: UserWarning: no available indices of class 2 to crop, setting the crop ratio of this class to zero.\n",
      "  warnings.warn(\n",
      "/opt/conda/lib/python3.10/site-packages/monai/transforms/utils.py:743: UserWarning: no available indices of class 7 to crop, setting the crop ratio of this class to zero.\n",
      "  warnings.warn(\n",
      "/opt/conda/lib/python3.10/site-packages/monai/transforms/utils.py:743: UserWarning: no available indices of class 2 to crop, setting the crop ratio of this class to zero.\n",
      "  warnings.warn(\n",
      "/opt/conda/lib/python3.10/site-packages/monai/transforms/utils.py:743: UserWarning: no available indices of class 7 to crop, setting the crop ratio of this class to zero.\n",
      "  warnings.warn(\n",
      "/opt/conda/lib/python3.10/site-packages/monai/transforms/utils.py:743: UserWarning: no available indices of class 2 to crop, setting the crop ratio of this class to zero.\n",
      "  warnings.warn(\n",
      "/opt/conda/lib/python3.10/site-packages/monai/transforms/utils.py:743: UserWarning: no available indices of class 7 to crop, setting the crop ratio of this class to zero.\n",
      "  warnings.warn(\n",
      "/opt/conda/lib/python3.10/site-packages/monai/transforms/utils.py:743: UserWarning: no available indices of class 2 to crop, setting the crop ratio of this class to zero.\n",
      "  warnings.warn(\n",
      "/opt/conda/lib/python3.10/site-packages/monai/transforms/utils.py:743: UserWarning: no available indices of class 7 to crop, setting the crop ratio of this class to zero.\n",
      "  warnings.warn(\n"
     ]
    },
    {
     "name": "stdout",
     "output_type": "stream",
     "text": [
      "batch 1/5, train_loss: 0.7704\n",
      "batch 2/5, train_loss: 0.7207\n",
      "batch 3/5, train_loss: 0.7278\n",
      "batch 4/5, train_loss: 0.7183\n",
      "batch 5/5, train_loss: 0.7463\n",
      "epoch 69 average loss: 0.7367\n",
      "----------\n",
      "epoch 70/200\n"
     ]
    },
    {
     "name": "stderr",
     "output_type": "stream",
     "text": [
      "/opt/conda/lib/python3.10/site-packages/monai/transforms/utils.py:743: UserWarning: no available indices of class 2 to crop, setting the crop ratio of this class to zero.\n",
      "  warnings.warn(\n",
      "/opt/conda/lib/python3.10/site-packages/monai/transforms/utils.py:743: UserWarning: no available indices of class 7 to crop, setting the crop ratio of this class to zero.\n",
      "  warnings.warn(\n",
      "/opt/conda/lib/python3.10/site-packages/monai/transforms/utils.py:743: UserWarning: no available indices of class 2 to crop, setting the crop ratio of this class to zero.\n",
      "  warnings.warn(\n",
      "/opt/conda/lib/python3.10/site-packages/monai/transforms/utils.py:743: UserWarning: no available indices of class 7 to crop, setting the crop ratio of this class to zero.\n",
      "  warnings.warn(\n",
      "/opt/conda/lib/python3.10/site-packages/monai/transforms/utils.py:743: UserWarning: no available indices of class 2 to crop, setting the crop ratio of this class to zero.\n",
      "  warnings.warn(\n",
      "/opt/conda/lib/python3.10/site-packages/monai/transforms/utils.py:743: UserWarning: no available indices of class 7 to crop, setting the crop ratio of this class to zero.\n",
      "  warnings.warn(\n",
      "/opt/conda/lib/python3.10/site-packages/monai/transforms/utils.py:743: UserWarning: no available indices of class 2 to crop, setting the crop ratio of this class to zero.\n",
      "  warnings.warn(\n",
      "/opt/conda/lib/python3.10/site-packages/monai/transforms/utils.py:743: UserWarning: no available indices of class 7 to crop, setting the crop ratio of this class to zero.\n",
      "  warnings.warn(\n"
     ]
    },
    {
     "name": "stdout",
     "output_type": "stream",
     "text": [
      "batch 1/5, train_loss: 0.6994\n",
      "batch 2/5, train_loss: 0.7056\n",
      "batch 3/5, train_loss: 0.7256\n",
      "batch 4/5, train_loss: 0.7631\n",
      "batch 5/5, train_loss: 0.7085\n",
      "epoch 70 average loss: 0.7204\n"
     ]
    },
    {
     "name": "stderr",
     "output_type": "stream",
     "text": [
      "/opt/conda/lib/python3.10/site-packages/monai/transforms/utils.py:743: UserWarning: no available indices of class 2 to crop, setting the crop ratio of this class to zero.\n",
      "  warnings.warn(\n",
      "/opt/conda/lib/python3.10/site-packages/monai/transforms/utils.py:743: UserWarning: no available indices of class 7 to crop, setting the crop ratio of this class to zero.\n",
      "  warnings.warn(\n",
      "/opt/conda/lib/python3.10/site-packages/monai/transforms/utils.py:743: UserWarning: no available indices of class 2 to crop, setting the crop ratio of this class to zero.\n",
      "  warnings.warn(\n",
      "/opt/conda/lib/python3.10/site-packages/monai/transforms/utils.py:743: UserWarning: no available indices of class 7 to crop, setting the crop ratio of this class to zero.\n",
      "  warnings.warn(\n"
     ]
    },
    {
     "name": "stdout",
     "output_type": "stream",
     "text": [
      "saved new best metric model\n",
      "current epoch: 70 current mean recall per class: 0.3543, 0, 0.1874, 0.6252, 0.3846, 0.6425, 0\n",
      "best mean recall: 0.3134 at epoch: 70\n",
      "----------\n",
      "epoch 71/200\n"
     ]
    },
    {
     "name": "stderr",
     "output_type": "stream",
     "text": [
      "/opt/conda/lib/python3.10/site-packages/monai/transforms/utils.py:743: UserWarning: no available indices of class 2 to crop, setting the crop ratio of this class to zero.\n",
      "  warnings.warn(\n",
      "/opt/conda/lib/python3.10/site-packages/monai/transforms/utils.py:743: UserWarning: no available indices of class 7 to crop, setting the crop ratio of this class to zero.\n",
      "  warnings.warn(\n",
      "/opt/conda/lib/python3.10/site-packages/monai/transforms/utils.py:743: UserWarning: no available indices of class 2 to crop, setting the crop ratio of this class to zero.\n",
      "  warnings.warn(\n",
      "/opt/conda/lib/python3.10/site-packages/monai/transforms/utils.py:743: UserWarning: no available indices of class 7 to crop, setting the crop ratio of this class to zero.\n",
      "  warnings.warn(\n",
      "/opt/conda/lib/python3.10/site-packages/monai/transforms/utils.py:743: UserWarning: no available indices of class 2 to crop, setting the crop ratio of this class to zero.\n",
      "  warnings.warn(\n",
      "/opt/conda/lib/python3.10/site-packages/monai/transforms/utils.py:743: UserWarning: no available indices of class 2 to crop, setting the crop ratio of this class to zero.\n",
      "  warnings.warn(\n",
      "/opt/conda/lib/python3.10/site-packages/monai/transforms/utils.py:743: UserWarning: no available indices of class 7 to crop, setting the crop ratio of this class to zero.\n",
      "  warnings.warn(\n",
      "/opt/conda/lib/python3.10/site-packages/monai/transforms/utils.py:743: UserWarning: no available indices of class 7 to crop, setting the crop ratio of this class to zero.\n",
      "  warnings.warn(\n"
     ]
    },
    {
     "name": "stdout",
     "output_type": "stream",
     "text": [
      "batch 1/5, train_loss: 0.7238\n",
      "batch 2/5, train_loss: 0.7174\n",
      "batch 3/5, train_loss: 0.7191\n",
      "batch 4/5, train_loss: 0.7328\n",
      "batch 5/5, train_loss: 0.7436\n",
      "epoch 71 average loss: 0.7273\n",
      "----------\n",
      "epoch 72/200\n"
     ]
    },
    {
     "name": "stderr",
     "output_type": "stream",
     "text": [
      "/opt/conda/lib/python3.10/site-packages/monai/transforms/utils.py:743: UserWarning: no available indices of class 2 to crop, setting the crop ratio of this class to zero.\n",
      "  warnings.warn(\n",
      "/opt/conda/lib/python3.10/site-packages/monai/transforms/utils.py:743: UserWarning: no available indices of class 7 to crop, setting the crop ratio of this class to zero.\n",
      "  warnings.warn(\n",
      "/opt/conda/lib/python3.10/site-packages/monai/transforms/utils.py:743: UserWarning: no available indices of class 2 to crop, setting the crop ratio of this class to zero.\n",
      "  warnings.warn(\n",
      "/opt/conda/lib/python3.10/site-packages/monai/transforms/utils.py:743: UserWarning: no available indices of class 7 to crop, setting the crop ratio of this class to zero.\n",
      "  warnings.warn(\n",
      "/opt/conda/lib/python3.10/site-packages/monai/transforms/utils.py:743: UserWarning: no available indices of class 2 to crop, setting the crop ratio of this class to zero.\n",
      "  warnings.warn(\n",
      "/opt/conda/lib/python3.10/site-packages/monai/transforms/utils.py:743: UserWarning: no available indices of class 7 to crop, setting the crop ratio of this class to zero.\n",
      "  warnings.warn(\n",
      "/opt/conda/lib/python3.10/site-packages/monai/transforms/utils.py:743: UserWarning: no available indices of class 2 to crop, setting the crop ratio of this class to zero.\n",
      "  warnings.warn(\n",
      "/opt/conda/lib/python3.10/site-packages/monai/transforms/utils.py:743: UserWarning: no available indices of class 7 to crop, setting the crop ratio of this class to zero.\n",
      "  warnings.warn(\n"
     ]
    },
    {
     "name": "stdout",
     "output_type": "stream",
     "text": [
      "batch 1/5, train_loss: 0.7631\n",
      "batch 2/5, train_loss: 0.7453\n",
      "batch 3/5, train_loss: 0.7389\n",
      "batch 4/5, train_loss: 0.7262\n",
      "batch 5/5, train_loss: 0.7489\n",
      "epoch 72 average loss: 0.7445\n"
     ]
    },
    {
     "name": "stderr",
     "output_type": "stream",
     "text": [
      "/opt/conda/lib/python3.10/site-packages/monai/transforms/utils.py:743: UserWarning: no available indices of class 2 to crop, setting the crop ratio of this class to zero.\n",
      "  warnings.warn(\n",
      "/opt/conda/lib/python3.10/site-packages/monai/transforms/utils.py:743: UserWarning: no available indices of class 7 to crop, setting the crop ratio of this class to zero.\n",
      "  warnings.warn(\n",
      "/opt/conda/lib/python3.10/site-packages/monai/transforms/utils.py:743: UserWarning: no available indices of class 2 to crop, setting the crop ratio of this class to zero.\n",
      "  warnings.warn(\n",
      "/opt/conda/lib/python3.10/site-packages/monai/transforms/utils.py:743: UserWarning: no available indices of class 7 to crop, setting the crop ratio of this class to zero.\n",
      "  warnings.warn(\n"
     ]
    },
    {
     "name": "stdout",
     "output_type": "stream",
     "text": [
      "saved new best metric model\n",
      "current epoch: 72 current mean recall per class: 0.4936, 0, 0.1915, 0.6051, 0.3003, 0.6854, 0\n",
      "best mean recall: 0.3251 at epoch: 72\n",
      "----------\n",
      "epoch 73/200\n"
     ]
    },
    {
     "name": "stderr",
     "output_type": "stream",
     "text": [
      "/opt/conda/lib/python3.10/site-packages/monai/transforms/utils.py:743: UserWarning: no available indices of class 2 to crop, setting the crop ratio of this class to zero.\n",
      "  warnings.warn(\n",
      "/opt/conda/lib/python3.10/site-packages/monai/transforms/utils.py:743: UserWarning: no available indices of class 2 to crop, setting the crop ratio of this class to zero.\n",
      "  warnings.warn(\n",
      "/opt/conda/lib/python3.10/site-packages/monai/transforms/utils.py:743: UserWarning: no available indices of class 7 to crop, setting the crop ratio of this class to zero.\n",
      "  warnings.warn(\n",
      "/opt/conda/lib/python3.10/site-packages/monai/transforms/utils.py:743: UserWarning: no available indices of class 7 to crop, setting the crop ratio of this class to zero.\n",
      "  warnings.warn(\n",
      "/opt/conda/lib/python3.10/site-packages/monai/transforms/utils.py:743: UserWarning: no available indices of class 2 to crop, setting the crop ratio of this class to zero.\n",
      "  warnings.warn(\n",
      "/opt/conda/lib/python3.10/site-packages/monai/transforms/utils.py:743: UserWarning: no available indices of class 7 to crop, setting the crop ratio of this class to zero.\n",
      "  warnings.warn(\n",
      "/opt/conda/lib/python3.10/site-packages/monai/transforms/utils.py:743: UserWarning: no available indices of class 2 to crop, setting the crop ratio of this class to zero.\n",
      "  warnings.warn(\n",
      "/opt/conda/lib/python3.10/site-packages/monai/transforms/utils.py:743: UserWarning: no available indices of class 7 to crop, setting the crop ratio of this class to zero.\n",
      "  warnings.warn(\n"
     ]
    },
    {
     "name": "stdout",
     "output_type": "stream",
     "text": [
      "batch 1/5, train_loss: 0.7549\n",
      "batch 2/5, train_loss: 0.7539\n",
      "batch 3/5, train_loss: 0.7418\n",
      "batch 4/5, train_loss: 0.6805\n",
      "batch 5/5, train_loss: 0.7314\n",
      "epoch 73 average loss: 0.7325\n",
      "----------\n",
      "epoch 74/200\n"
     ]
    },
    {
     "name": "stderr",
     "output_type": "stream",
     "text": [
      "/opt/conda/lib/python3.10/site-packages/monai/transforms/utils.py:743: UserWarning: no available indices of class 2 to crop, setting the crop ratio of this class to zero.\n",
      "  warnings.warn(\n",
      "/opt/conda/lib/python3.10/site-packages/monai/transforms/utils.py:743: UserWarning: no available indices of class 7 to crop, setting the crop ratio of this class to zero.\n",
      "  warnings.warn(\n",
      "/opt/conda/lib/python3.10/site-packages/monai/transforms/utils.py:743: UserWarning: no available indices of class 2 to crop, setting the crop ratio of this class to zero.\n",
      "  warnings.warn(\n",
      "/opt/conda/lib/python3.10/site-packages/monai/transforms/utils.py:743: UserWarning: no available indices of class 7 to crop, setting the crop ratio of this class to zero.\n",
      "  warnings.warn(\n",
      "/opt/conda/lib/python3.10/site-packages/monai/transforms/utils.py:743: UserWarning: no available indices of class 2 to crop, setting the crop ratio of this class to zero.\n",
      "  warnings.warn(\n",
      "/opt/conda/lib/python3.10/site-packages/monai/transforms/utils.py:743: UserWarning: no available indices of class 7 to crop, setting the crop ratio of this class to zero.\n",
      "  warnings.warn(\n",
      "/opt/conda/lib/python3.10/site-packages/monai/transforms/utils.py:743: UserWarning: no available indices of class 2 to crop, setting the crop ratio of this class to zero.\n",
      "  warnings.warn(\n",
      "/opt/conda/lib/python3.10/site-packages/monai/transforms/utils.py:743: UserWarning: no available indices of class 7 to crop, setting the crop ratio of this class to zero.\n",
      "  warnings.warn(\n"
     ]
    },
    {
     "name": "stdout",
     "output_type": "stream",
     "text": [
      "batch 1/5, train_loss: 0.6925\n",
      "batch 2/5, train_loss: 0.7203\n",
      "batch 3/5, train_loss: 0.7100\n",
      "batch 4/5, train_loss: 0.7415\n",
      "batch 5/5, train_loss: 0.7130\n",
      "epoch 74 average loss: 0.7155\n"
     ]
    },
    {
     "name": "stderr",
     "output_type": "stream",
     "text": [
      "/opt/conda/lib/python3.10/site-packages/monai/transforms/utils.py:743: UserWarning: no available indices of class 2 to crop, setting the crop ratio of this class to zero.\n",
      "  warnings.warn(\n",
      "/opt/conda/lib/python3.10/site-packages/monai/transforms/utils.py:743: UserWarning: no available indices of class 7 to crop, setting the crop ratio of this class to zero.\n",
      "  warnings.warn(\n",
      "/opt/conda/lib/python3.10/site-packages/monai/transforms/utils.py:743: UserWarning: no available indices of class 2 to crop, setting the crop ratio of this class to zero.\n",
      "  warnings.warn(\n",
      "/opt/conda/lib/python3.10/site-packages/monai/transforms/utils.py:743: UserWarning: no available indices of class 7 to crop, setting the crop ratio of this class to zero.\n",
      "  warnings.warn(\n"
     ]
    },
    {
     "name": "stdout",
     "output_type": "stream",
     "text": [
      "current epoch: 74 current mean recall per class: 0.4416, 0, 0.2084, 0.4187, 0.3522, 0.5962, 0\n",
      "best mean recall: 0.3251 at epoch: 72\n",
      "----------\n",
      "epoch 75/200\n"
     ]
    },
    {
     "name": "stderr",
     "output_type": "stream",
     "text": [
      "/opt/conda/lib/python3.10/site-packages/monai/transforms/utils.py:743: UserWarning: no available indices of class 2 to crop, setting the crop ratio of this class to zero.\n",
      "  warnings.warn(\n",
      "/opt/conda/lib/python3.10/site-packages/monai/transforms/utils.py:743: UserWarning: no available indices of class 7 to crop, setting the crop ratio of this class to zero.\n",
      "  warnings.warn(\n",
      "/opt/conda/lib/python3.10/site-packages/monai/transforms/utils.py:743: UserWarning: no available indices of class 2 to crop, setting the crop ratio of this class to zero.\n",
      "  warnings.warn(\n",
      "/opt/conda/lib/python3.10/site-packages/monai/transforms/utils.py:743: UserWarning: no available indices of class 7 to crop, setting the crop ratio of this class to zero.\n",
      "  warnings.warn(\n",
      "/opt/conda/lib/python3.10/site-packages/monai/transforms/utils.py:743: UserWarning: no available indices of class 2 to crop, setting the crop ratio of this class to zero.\n",
      "  warnings.warn(\n",
      "/opt/conda/lib/python3.10/site-packages/monai/transforms/utils.py:743: UserWarning: no available indices of class 7 to crop, setting the crop ratio of this class to zero.\n",
      "  warnings.warn(\n",
      "/opt/conda/lib/python3.10/site-packages/monai/transforms/utils.py:743: UserWarning: no available indices of class 2 to crop, setting the crop ratio of this class to zero.\n",
      "  warnings.warn(\n",
      "/opt/conda/lib/python3.10/site-packages/monai/transforms/utils.py:743: UserWarning: no available indices of class 7 to crop, setting the crop ratio of this class to zero.\n",
      "  warnings.warn(\n"
     ]
    },
    {
     "name": "stdout",
     "output_type": "stream",
     "text": [
      "batch 1/5, train_loss: 0.7317\n",
      "batch 2/5, train_loss: 0.7419\n",
      "batch 3/5, train_loss: 0.7684\n",
      "batch 4/5, train_loss: 0.7700\n",
      "batch 5/5, train_loss: 0.7222\n",
      "epoch 75 average loss: 0.7469\n",
      "----------\n",
      "epoch 76/200\n"
     ]
    },
    {
     "name": "stderr",
     "output_type": "stream",
     "text": [
      "/opt/conda/lib/python3.10/site-packages/monai/transforms/utils.py:743: UserWarning: no available indices of class 2 to crop, setting the crop ratio of this class to zero.\n",
      "  warnings.warn(\n",
      "/opt/conda/lib/python3.10/site-packages/monai/transforms/utils.py:743: UserWarning: no available indices of class 7 to crop, setting the crop ratio of this class to zero.\n",
      "  warnings.warn(\n",
      "/opt/conda/lib/python3.10/site-packages/monai/transforms/utils.py:743: UserWarning: no available indices of class 2 to crop, setting the crop ratio of this class to zero.\n",
      "  warnings.warn(\n",
      "/opt/conda/lib/python3.10/site-packages/monai/transforms/utils.py:743: UserWarning: no available indices of class 2 to crop, setting the crop ratio of this class to zero.\n",
      "  warnings.warn(\n",
      "/opt/conda/lib/python3.10/site-packages/monai/transforms/utils.py:743: UserWarning: no available indices of class 7 to crop, setting the crop ratio of this class to zero.\n",
      "  warnings.warn(\n",
      "/opt/conda/lib/python3.10/site-packages/monai/transforms/utils.py:743: UserWarning: no available indices of class 2 to crop, setting the crop ratio of this class to zero.\n",
      "  warnings.warn(\n",
      "/opt/conda/lib/python3.10/site-packages/monai/transforms/utils.py:743: UserWarning: no available indices of class 7 to crop, setting the crop ratio of this class to zero.\n",
      "  warnings.warn(\n",
      "/opt/conda/lib/python3.10/site-packages/monai/transforms/utils.py:743: UserWarning: no available indices of class 7 to crop, setting the crop ratio of this class to zero.\n",
      "  warnings.warn(\n"
     ]
    },
    {
     "name": "stdout",
     "output_type": "stream",
     "text": [
      "batch 1/5, train_loss: 0.7224\n",
      "batch 2/5, train_loss: 0.7148\n",
      "batch 3/5, train_loss: 0.7514\n",
      "batch 4/5, train_loss: 0.7360\n",
      "batch 5/5, train_loss: 0.7450\n",
      "epoch 76 average loss: 0.7339\n"
     ]
    },
    {
     "name": "stderr",
     "output_type": "stream",
     "text": [
      "/opt/conda/lib/python3.10/site-packages/monai/transforms/utils.py:743: UserWarning: no available indices of class 2 to crop, setting the crop ratio of this class to zero.\n",
      "  warnings.warn(\n",
      "/opt/conda/lib/python3.10/site-packages/monai/transforms/utils.py:743: UserWarning: no available indices of class 2 to crop, setting the crop ratio of this class to zero.\n",
      "  warnings.warn(\n",
      "/opt/conda/lib/python3.10/site-packages/monai/transforms/utils.py:743: UserWarning: no available indices of class 7 to crop, setting the crop ratio of this class to zero.\n",
      "  warnings.warn(\n",
      "/opt/conda/lib/python3.10/site-packages/monai/transforms/utils.py:743: UserWarning: no available indices of class 7 to crop, setting the crop ratio of this class to zero.\n",
      "  warnings.warn(\n"
     ]
    },
    {
     "name": "stdout",
     "output_type": "stream",
     "text": [
      "current epoch: 76 current mean recall per class: 0.5472, 0, 0.07935, 0.5085, 0.3188, 0.6551, 0\n",
      "best mean recall: 0.3251 at epoch: 72\n",
      "----------\n",
      "epoch 77/200\n"
     ]
    },
    {
     "name": "stderr",
     "output_type": "stream",
     "text": [
      "/opt/conda/lib/python3.10/site-packages/monai/transforms/utils.py:743: UserWarning: no available indices of class 2 to crop, setting the crop ratio of this class to zero.\n",
      "  warnings.warn(\n",
      "/opt/conda/lib/python3.10/site-packages/monai/transforms/utils.py:743: UserWarning: no available indices of class 7 to crop, setting the crop ratio of this class to zero.\n",
      "  warnings.warn(\n",
      "/opt/conda/lib/python3.10/site-packages/monai/transforms/utils.py:743: UserWarning: no available indices of class 2 to crop, setting the crop ratio of this class to zero.\n",
      "  warnings.warn(\n",
      "/opt/conda/lib/python3.10/site-packages/monai/transforms/utils.py:743: UserWarning: no available indices of class 7 to crop, setting the crop ratio of this class to zero.\n",
      "  warnings.warn(\n",
      "/opt/conda/lib/python3.10/site-packages/monai/transforms/utils.py:743: UserWarning: no available indices of class 2 to crop, setting the crop ratio of this class to zero.\n",
      "  warnings.warn(\n",
      "/opt/conda/lib/python3.10/site-packages/monai/transforms/utils.py:743: UserWarning: no available indices of class 7 to crop, setting the crop ratio of this class to zero.\n",
      "  warnings.warn(\n",
      "/opt/conda/lib/python3.10/site-packages/monai/transforms/utils.py:743: UserWarning: no available indices of class 2 to crop, setting the crop ratio of this class to zero.\n",
      "  warnings.warn(\n",
      "/opt/conda/lib/python3.10/site-packages/monai/transforms/utils.py:743: UserWarning: no available indices of class 7 to crop, setting the crop ratio of this class to zero.\n",
      "  warnings.warn(\n"
     ]
    },
    {
     "name": "stdout",
     "output_type": "stream",
     "text": [
      "batch 1/5, train_loss: 0.7559\n",
      "batch 2/5, train_loss: 0.7486\n",
      "batch 3/5, train_loss: 0.7481\n",
      "batch 4/5, train_loss: 0.7409\n",
      "batch 5/5, train_loss: 0.7267\n",
      "epoch 77 average loss: 0.7440\n",
      "----------\n",
      "epoch 78/200\n"
     ]
    },
    {
     "name": "stderr",
     "output_type": "stream",
     "text": [
      "/opt/conda/lib/python3.10/site-packages/monai/transforms/utils.py:743: UserWarning: no available indices of class 2 to crop, setting the crop ratio of this class to zero.\n",
      "  warnings.warn(\n",
      "/opt/conda/lib/python3.10/site-packages/monai/transforms/utils.py:743: UserWarning: no available indices of class 7 to crop, setting the crop ratio of this class to zero.\n",
      "  warnings.warn(\n",
      "/opt/conda/lib/python3.10/site-packages/monai/transforms/utils.py:743: UserWarning: no available indices of class 2 to crop, setting the crop ratio of this class to zero.\n",
      "  warnings.warn(\n",
      "/opt/conda/lib/python3.10/site-packages/monai/transforms/utils.py:743: UserWarning: no available indices of class 7 to crop, setting the crop ratio of this class to zero.\n",
      "  warnings.warn(\n",
      "/opt/conda/lib/python3.10/site-packages/monai/transforms/utils.py:743: UserWarning: no available indices of class 2 to crop, setting the crop ratio of this class to zero.\n",
      "  warnings.warn(\n",
      "/opt/conda/lib/python3.10/site-packages/monai/transforms/utils.py:743: UserWarning: no available indices of class 7 to crop, setting the crop ratio of this class to zero.\n",
      "  warnings.warn(\n",
      "/opt/conda/lib/python3.10/site-packages/monai/transforms/utils.py:743: UserWarning: no available indices of class 2 to crop, setting the crop ratio of this class to zero.\n",
      "  warnings.warn(\n",
      "/opt/conda/lib/python3.10/site-packages/monai/transforms/utils.py:743: UserWarning: no available indices of class 7 to crop, setting the crop ratio of this class to zero.\n",
      "  warnings.warn(\n"
     ]
    },
    {
     "name": "stdout",
     "output_type": "stream",
     "text": [
      "batch 1/5, train_loss: 0.7181\n",
      "batch 2/5, train_loss: 0.7506\n",
      "batch 3/5, train_loss: 0.7402\n",
      "batch 4/5, train_loss: 0.6970\n",
      "batch 5/5, train_loss: 0.7532\n",
      "epoch 78 average loss: 0.7318\n"
     ]
    },
    {
     "name": "stderr",
     "output_type": "stream",
     "text": [
      "/opt/conda/lib/python3.10/site-packages/monai/transforms/utils.py:743: UserWarning: no available indices of class 2 to crop, setting the crop ratio of this class to zero.\n",
      "  warnings.warn(\n",
      "/opt/conda/lib/python3.10/site-packages/monai/transforms/utils.py:743: UserWarning: no available indices of class 7 to crop, setting the crop ratio of this class to zero.\n",
      "  warnings.warn(\n",
      "/opt/conda/lib/python3.10/site-packages/monai/transforms/utils.py:743: UserWarning: no available indices of class 2 to crop, setting the crop ratio of this class to zero.\n",
      "  warnings.warn(\n",
      "/opt/conda/lib/python3.10/site-packages/monai/transforms/utils.py:743: UserWarning: no available indices of class 7 to crop, setting the crop ratio of this class to zero.\n",
      "  warnings.warn(\n"
     ]
    },
    {
     "name": "stdout",
     "output_type": "stream",
     "text": [
      "saved new best metric model\n",
      "current epoch: 78 current mean recall per class: 0.5079, 0, 0.1782, 0.4767, 0.3513, 0.7752, 0\n",
      "best mean recall: 0.3270 at epoch: 78\n",
      "----------\n",
      "epoch 79/200\n"
     ]
    },
    {
     "name": "stderr",
     "output_type": "stream",
     "text": [
      "/opt/conda/lib/python3.10/site-packages/monai/transforms/utils.py:743: UserWarning: no available indices of class 2 to crop, setting the crop ratio of this class to zero.\n",
      "  warnings.warn(\n",
      "/opt/conda/lib/python3.10/site-packages/monai/transforms/utils.py:743: UserWarning: no available indices of class 7 to crop, setting the crop ratio of this class to zero.\n",
      "  warnings.warn(\n",
      "/opt/conda/lib/python3.10/site-packages/monai/transforms/utils.py:743: UserWarning: no available indices of class 2 to crop, setting the crop ratio of this class to zero.\n",
      "  warnings.warn(\n",
      "/opt/conda/lib/python3.10/site-packages/monai/transforms/utils.py:743: UserWarning: no available indices of class 7 to crop, setting the crop ratio of this class to zero.\n",
      "  warnings.warn(\n",
      "/opt/conda/lib/python3.10/site-packages/monai/transforms/utils.py:743: UserWarning: no available indices of class 2 to crop, setting the crop ratio of this class to zero.\n",
      "  warnings.warn(\n",
      "/opt/conda/lib/python3.10/site-packages/monai/transforms/utils.py:743: UserWarning: no available indices of class 2 to crop, setting the crop ratio of this class to zero.\n",
      "  warnings.warn(\n",
      "/opt/conda/lib/python3.10/site-packages/monai/transforms/utils.py:743: UserWarning: no available indices of class 7 to crop, setting the crop ratio of this class to zero.\n",
      "  warnings.warn(\n",
      "/opt/conda/lib/python3.10/site-packages/monai/transforms/utils.py:743: UserWarning: no available indices of class 7 to crop, setting the crop ratio of this class to zero.\n",
      "  warnings.warn(\n"
     ]
    },
    {
     "name": "stdout",
     "output_type": "stream",
     "text": [
      "batch 1/5, train_loss: 0.7544\n",
      "batch 2/5, train_loss: 0.7610\n",
      "batch 3/5, train_loss: 0.7081\n",
      "batch 4/5, train_loss: 0.7524\n",
      "batch 5/5, train_loss: 0.7263\n",
      "epoch 79 average loss: 0.7404\n",
      "----------\n",
      "epoch 80/200\n"
     ]
    },
    {
     "name": "stderr",
     "output_type": "stream",
     "text": [
      "/opt/conda/lib/python3.10/site-packages/monai/transforms/utils.py:743: UserWarning: no available indices of class 2 to crop, setting the crop ratio of this class to zero.\n",
      "  warnings.warn(\n",
      "/opt/conda/lib/python3.10/site-packages/monai/transforms/utils.py:743: UserWarning: no available indices of class 7 to crop, setting the crop ratio of this class to zero.\n",
      "  warnings.warn(\n",
      "/opt/conda/lib/python3.10/site-packages/monai/transforms/utils.py:743: UserWarning: no available indices of class 2 to crop, setting the crop ratio of this class to zero.\n",
      "  warnings.warn(\n",
      "/opt/conda/lib/python3.10/site-packages/monai/transforms/utils.py:743: UserWarning: no available indices of class 7 to crop, setting the crop ratio of this class to zero.\n",
      "  warnings.warn(\n",
      "/opt/conda/lib/python3.10/site-packages/monai/transforms/utils.py:743: UserWarning: no available indices of class 2 to crop, setting the crop ratio of this class to zero.\n",
      "  warnings.warn(\n",
      "/opt/conda/lib/python3.10/site-packages/monai/transforms/utils.py:743: UserWarning: no available indices of class 7 to crop, setting the crop ratio of this class to zero.\n",
      "  warnings.warn(\n",
      "/opt/conda/lib/python3.10/site-packages/monai/transforms/utils.py:743: UserWarning: no available indices of class 2 to crop, setting the crop ratio of this class to zero.\n",
      "  warnings.warn(\n",
      "/opt/conda/lib/python3.10/site-packages/monai/transforms/utils.py:743: UserWarning: no available indices of class 7 to crop, setting the crop ratio of this class to zero.\n",
      "  warnings.warn(\n"
     ]
    },
    {
     "name": "stdout",
     "output_type": "stream",
     "text": [
      "batch 1/5, train_loss: 0.7253\n",
      "batch 2/5, train_loss: 0.7374\n",
      "batch 3/5, train_loss: 0.7156\n",
      "batch 4/5, train_loss: 0.7355\n",
      "batch 5/5, train_loss: 0.7348\n",
      "epoch 80 average loss: 0.7297\n"
     ]
    },
    {
     "name": "stderr",
     "output_type": "stream",
     "text": [
      "/opt/conda/lib/python3.10/site-packages/monai/transforms/utils.py:743: UserWarning: no available indices of class 2 to crop, setting the crop ratio of this class to zero.\n",
      "  warnings.warn(\n",
      "/opt/conda/lib/python3.10/site-packages/monai/transforms/utils.py:743: UserWarning: no available indices of class 7 to crop, setting the crop ratio of this class to zero.\n",
      "  warnings.warn(\n",
      "/opt/conda/lib/python3.10/site-packages/monai/transforms/utils.py:743: UserWarning: no available indices of class 2 to crop, setting the crop ratio of this class to zero.\n",
      "  warnings.warn(\n",
      "/opt/conda/lib/python3.10/site-packages/monai/transforms/utils.py:743: UserWarning: no available indices of class 7 to crop, setting the crop ratio of this class to zero.\n",
      "  warnings.warn(\n"
     ]
    },
    {
     "name": "stdout",
     "output_type": "stream",
     "text": [
      "saved new best metric model\n",
      "current epoch: 80 current mean recall per class: 0.6686, 0, 0.183, 0.5722, 0.3416, 0.6786, 0\n",
      "best mean recall: 0.3491 at epoch: 80\n",
      "----------\n",
      "epoch 81/200\n"
     ]
    },
    {
     "name": "stderr",
     "output_type": "stream",
     "text": [
      "/opt/conda/lib/python3.10/site-packages/monai/transforms/utils.py:743: UserWarning: no available indices of class 2 to crop, setting the crop ratio of this class to zero.\n",
      "  warnings.warn(\n",
      "/opt/conda/lib/python3.10/site-packages/monai/transforms/utils.py:743: UserWarning: no available indices of class 7 to crop, setting the crop ratio of this class to zero.\n",
      "  warnings.warn(\n",
      "/opt/conda/lib/python3.10/site-packages/monai/transforms/utils.py:743: UserWarning: no available indices of class 2 to crop, setting the crop ratio of this class to zero.\n",
      "  warnings.warn(\n",
      "/opt/conda/lib/python3.10/site-packages/monai/transforms/utils.py:743: UserWarning: no available indices of class 7 to crop, setting the crop ratio of this class to zero.\n",
      "  warnings.warn(\n",
      "/opt/conda/lib/python3.10/site-packages/monai/transforms/utils.py:743: UserWarning: no available indices of class 2 to crop, setting the crop ratio of this class to zero.\n",
      "  warnings.warn(\n",
      "/opt/conda/lib/python3.10/site-packages/monai/transforms/utils.py:743: UserWarning: no available indices of class 7 to crop, setting the crop ratio of this class to zero.\n",
      "  warnings.warn(\n",
      "/opt/conda/lib/python3.10/site-packages/monai/transforms/utils.py:743: UserWarning: no available indices of class 2 to crop, setting the crop ratio of this class to zero.\n",
      "  warnings.warn(\n",
      "/opt/conda/lib/python3.10/site-packages/monai/transforms/utils.py:743: UserWarning: no available indices of class 7 to crop, setting the crop ratio of this class to zero.\n",
      "  warnings.warn(\n"
     ]
    },
    {
     "name": "stdout",
     "output_type": "stream",
     "text": [
      "batch 1/5, train_loss: 0.7367\n",
      "batch 2/5, train_loss: 0.7497\n",
      "batch 3/5, train_loss: 0.7510\n",
      "batch 4/5, train_loss: 0.6950\n",
      "batch 5/5, train_loss: 0.6978\n",
      "epoch 81 average loss: 0.7261\n",
      "----------\n",
      "epoch 82/200\n"
     ]
    },
    {
     "name": "stderr",
     "output_type": "stream",
     "text": [
      "/opt/conda/lib/python3.10/site-packages/monai/transforms/utils.py:743: UserWarning: no available indices of class 2 to crop, setting the crop ratio of this class to zero.\n",
      "  warnings.warn(\n",
      "/opt/conda/lib/python3.10/site-packages/monai/transforms/utils.py:743: UserWarning: no available indices of class 7 to crop, setting the crop ratio of this class to zero.\n",
      "  warnings.warn(\n",
      "/opt/conda/lib/python3.10/site-packages/monai/transforms/utils.py:743: UserWarning: no available indices of class 2 to crop, setting the crop ratio of this class to zero.\n",
      "  warnings.warn(\n",
      "/opt/conda/lib/python3.10/site-packages/monai/transforms/utils.py:743: UserWarning: no available indices of class 7 to crop, setting the crop ratio of this class to zero.\n",
      "  warnings.warn(\n",
      "/opt/conda/lib/python3.10/site-packages/monai/transforms/utils.py:743: UserWarning: no available indices of class 2 to crop, setting the crop ratio of this class to zero.\n",
      "  warnings.warn(\n",
      "/opt/conda/lib/python3.10/site-packages/monai/transforms/utils.py:743: UserWarning: no available indices of class 7 to crop, setting the crop ratio of this class to zero.\n",
      "  warnings.warn(\n",
      "/opt/conda/lib/python3.10/site-packages/monai/transforms/utils.py:743: UserWarning: no available indices of class 2 to crop, setting the crop ratio of this class to zero.\n",
      "  warnings.warn(\n",
      "/opt/conda/lib/python3.10/site-packages/monai/transforms/utils.py:743: UserWarning: no available indices of class 7 to crop, setting the crop ratio of this class to zero.\n",
      "  warnings.warn(\n"
     ]
    },
    {
     "name": "stdout",
     "output_type": "stream",
     "text": [
      "batch 1/5, train_loss: 0.7350\n",
      "batch 2/5, train_loss: 0.7648\n",
      "batch 3/5, train_loss: 0.7467\n",
      "batch 4/5, train_loss: 0.7161\n",
      "batch 5/5, train_loss: 0.7625\n",
      "epoch 82 average loss: 0.7450\n"
     ]
    },
    {
     "name": "stderr",
     "output_type": "stream",
     "text": [
      "/opt/conda/lib/python3.10/site-packages/monai/transforms/utils.py:743: UserWarning: no available indices of class 2 to crop, setting the crop ratio of this class to zero.\n",
      "  warnings.warn(\n",
      "/opt/conda/lib/python3.10/site-packages/monai/transforms/utils.py:743: UserWarning: no available indices of class 7 to crop, setting the crop ratio of this class to zero.\n",
      "  warnings.warn(\n",
      "/opt/conda/lib/python3.10/site-packages/monai/transforms/utils.py:743: UserWarning: no available indices of class 2 to crop, setting the crop ratio of this class to zero.\n",
      "  warnings.warn(\n",
      "/opt/conda/lib/python3.10/site-packages/monai/transforms/utils.py:743: UserWarning: no available indices of class 7 to crop, setting the crop ratio of this class to zero.\n",
      "  warnings.warn(\n"
     ]
    },
    {
     "name": "stdout",
     "output_type": "stream",
     "text": [
      "current epoch: 82 current mean recall per class: 0.5383, 0, 0.281, 0.4537, 0.3064, 0.6503, 0\n",
      "best mean recall: 0.3491 at epoch: 80\n",
      "----------\n",
      "epoch 83/200\n"
     ]
    },
    {
     "name": "stderr",
     "output_type": "stream",
     "text": [
      "/opt/conda/lib/python3.10/site-packages/monai/transforms/utils.py:743: UserWarning: no available indices of class 2 to crop, setting the crop ratio of this class to zero.\n",
      "  warnings.warn(\n",
      "/opt/conda/lib/python3.10/site-packages/monai/transforms/utils.py:743: UserWarning: no available indices of class 7 to crop, setting the crop ratio of this class to zero.\n",
      "  warnings.warn(\n",
      "/opt/conda/lib/python3.10/site-packages/monai/transforms/utils.py:743: UserWarning: no available indices of class 2 to crop, setting the crop ratio of this class to zero.\n",
      "  warnings.warn(\n",
      "/opt/conda/lib/python3.10/site-packages/monai/transforms/utils.py:743: UserWarning: no available indices of class 2 to crop, setting the crop ratio of this class to zero.\n",
      "  warnings.warn(\n",
      "/opt/conda/lib/python3.10/site-packages/monai/transforms/utils.py:743: UserWarning: no available indices of class 7 to crop, setting the crop ratio of this class to zero.\n",
      "  warnings.warn(\n",
      "/opt/conda/lib/python3.10/site-packages/monai/transforms/utils.py:743: UserWarning: no available indices of class 7 to crop, setting the crop ratio of this class to zero.\n",
      "  warnings.warn(\n",
      "/opt/conda/lib/python3.10/site-packages/monai/transforms/utils.py:743: UserWarning: no available indices of class 2 to crop, setting the crop ratio of this class to zero.\n",
      "  warnings.warn(\n",
      "/opt/conda/lib/python3.10/site-packages/monai/transforms/utils.py:743: UserWarning: no available indices of class 7 to crop, setting the crop ratio of this class to zero.\n",
      "  warnings.warn(\n"
     ]
    },
    {
     "name": "stdout",
     "output_type": "stream",
     "text": [
      "batch 1/5, train_loss: 0.7188\n",
      "batch 2/5, train_loss: 0.7207\n",
      "batch 3/5, train_loss: 0.7068\n",
      "batch 4/5, train_loss: 0.7290\n",
      "batch 5/5, train_loss: 0.7229\n",
      "epoch 83 average loss: 0.7196\n",
      "----------\n",
      "epoch 84/200\n"
     ]
    },
    {
     "name": "stderr",
     "output_type": "stream",
     "text": [
      "/opt/conda/lib/python3.10/site-packages/monai/transforms/utils.py:743: UserWarning: no available indices of class 2 to crop, setting the crop ratio of this class to zero.\n",
      "  warnings.warn(\n",
      "/opt/conda/lib/python3.10/site-packages/monai/transforms/utils.py:743: UserWarning: no available indices of class 7 to crop, setting the crop ratio of this class to zero.\n",
      "  warnings.warn(\n",
      "/opt/conda/lib/python3.10/site-packages/monai/transforms/utils.py:743: UserWarning: no available indices of class 2 to crop, setting the crop ratio of this class to zero.\n",
      "  warnings.warn(\n",
      "/opt/conda/lib/python3.10/site-packages/monai/transforms/utils.py:743: UserWarning: no available indices of class 7 to crop, setting the crop ratio of this class to zero.\n",
      "  warnings.warn(\n",
      "/opt/conda/lib/python3.10/site-packages/monai/transforms/utils.py:743: UserWarning: no available indices of class 2 to crop, setting the crop ratio of this class to zero.\n",
      "  warnings.warn(\n",
      "/opt/conda/lib/python3.10/site-packages/monai/transforms/utils.py:743: UserWarning: no available indices of class 7 to crop, setting the crop ratio of this class to zero.\n",
      "  warnings.warn(\n",
      "/opt/conda/lib/python3.10/site-packages/monai/transforms/utils.py:743: UserWarning: no available indices of class 2 to crop, setting the crop ratio of this class to zero.\n",
      "  warnings.warn(\n",
      "/opt/conda/lib/python3.10/site-packages/monai/transforms/utils.py:743: UserWarning: no available indices of class 7 to crop, setting the crop ratio of this class to zero.\n",
      "  warnings.warn(\n"
     ]
    },
    {
     "name": "stdout",
     "output_type": "stream",
     "text": [
      "batch 1/5, train_loss: 0.7443\n",
      "batch 2/5, train_loss: 0.7210\n",
      "batch 3/5, train_loss: 0.6950\n",
      "batch 4/5, train_loss: 0.6974\n",
      "batch 5/5, train_loss: 0.7284\n",
      "epoch 84 average loss: 0.7172\n"
     ]
    },
    {
     "name": "stderr",
     "output_type": "stream",
     "text": [
      "/opt/conda/lib/python3.10/site-packages/monai/transforms/utils.py:743: UserWarning: no available indices of class 2 to crop, setting the crop ratio of this class to zero.\n",
      "  warnings.warn(\n",
      "/opt/conda/lib/python3.10/site-packages/monai/transforms/utils.py:743: UserWarning: no available indices of class 7 to crop, setting the crop ratio of this class to zero.\n",
      "  warnings.warn(\n",
      "/opt/conda/lib/python3.10/site-packages/monai/transforms/utils.py:743: UserWarning: no available indices of class 2 to crop, setting the crop ratio of this class to zero.\n",
      "  warnings.warn(\n",
      "/opt/conda/lib/python3.10/site-packages/monai/transforms/utils.py:743: UserWarning: no available indices of class 7 to crop, setting the crop ratio of this class to zero.\n",
      "  warnings.warn(\n"
     ]
    },
    {
     "name": "stdout",
     "output_type": "stream",
     "text": [
      "current epoch: 84 current mean recall per class: 0.5483, 0, 0.1509, 0.5416, 0.4652, 0.6995, 0\n",
      "best mean recall: 0.3491 at epoch: 80\n",
      "----------\n",
      "epoch 85/200\n"
     ]
    },
    {
     "name": "stderr",
     "output_type": "stream",
     "text": [
      "/opt/conda/lib/python3.10/site-packages/monai/transforms/utils.py:743: UserWarning: no available indices of class 2 to crop, setting the crop ratio of this class to zero.\n",
      "  warnings.warn(\n",
      "/opt/conda/lib/python3.10/site-packages/monai/transforms/utils.py:743: UserWarning: no available indices of class 7 to crop, setting the crop ratio of this class to zero.\n",
      "  warnings.warn(\n",
      "/opt/conda/lib/python3.10/site-packages/monai/transforms/utils.py:743: UserWarning: no available indices of class 2 to crop, setting the crop ratio of this class to zero.\n",
      "  warnings.warn(\n",
      "/opt/conda/lib/python3.10/site-packages/monai/transforms/utils.py:743: UserWarning: no available indices of class 7 to crop, setting the crop ratio of this class to zero.\n",
      "  warnings.warn(\n",
      "/opt/conda/lib/python3.10/site-packages/monai/transforms/utils.py:743: UserWarning: no available indices of class 2 to crop, setting the crop ratio of this class to zero.\n",
      "  warnings.warn(\n",
      "/opt/conda/lib/python3.10/site-packages/monai/transforms/utils.py:743: UserWarning: no available indices of class 7 to crop, setting the crop ratio of this class to zero.\n",
      "  warnings.warn(\n",
      "/opt/conda/lib/python3.10/site-packages/monai/transforms/utils.py:743: UserWarning: no available indices of class 2 to crop, setting the crop ratio of this class to zero.\n",
      "  warnings.warn(\n",
      "/opt/conda/lib/python3.10/site-packages/monai/transforms/utils.py:743: UserWarning: no available indices of class 7 to crop, setting the crop ratio of this class to zero.\n",
      "  warnings.warn(\n"
     ]
    },
    {
     "name": "stdout",
     "output_type": "stream",
     "text": [
      "batch 1/5, train_loss: 0.7109\n",
      "batch 2/5, train_loss: 0.7213\n",
      "batch 3/5, train_loss: 0.6842\n",
      "batch 4/5, train_loss: 0.7287\n",
      "batch 5/5, train_loss: 0.7324\n",
      "epoch 85 average loss: 0.7155\n",
      "----------\n",
      "epoch 86/200\n"
     ]
    },
    {
     "name": "stderr",
     "output_type": "stream",
     "text": [
      "/opt/conda/lib/python3.10/site-packages/monai/transforms/utils.py:743: UserWarning: no available indices of class 2 to crop, setting the crop ratio of this class to zero.\n",
      "  warnings.warn(\n",
      "/opt/conda/lib/python3.10/site-packages/monai/transforms/utils.py:743: UserWarning: no available indices of class 2 to crop, setting the crop ratio of this class to zero.\n",
      "  warnings.warn(\n",
      "/opt/conda/lib/python3.10/site-packages/monai/transforms/utils.py:743: UserWarning: no available indices of class 7 to crop, setting the crop ratio of this class to zero.\n",
      "  warnings.warn(\n",
      "/opt/conda/lib/python3.10/site-packages/monai/transforms/utils.py:743: UserWarning: no available indices of class 7 to crop, setting the crop ratio of this class to zero.\n",
      "  warnings.warn(\n",
      "/opt/conda/lib/python3.10/site-packages/monai/transforms/utils.py:743: UserWarning: no available indices of class 2 to crop, setting the crop ratio of this class to zero.\n",
      "  warnings.warn(\n",
      "/opt/conda/lib/python3.10/site-packages/monai/transforms/utils.py:743: UserWarning: no available indices of class 7 to crop, setting the crop ratio of this class to zero.\n",
      "  warnings.warn(\n",
      "/opt/conda/lib/python3.10/site-packages/monai/transforms/utils.py:743: UserWarning: no available indices of class 2 to crop, setting the crop ratio of this class to zero.\n",
      "  warnings.warn(\n",
      "/opt/conda/lib/python3.10/site-packages/monai/transforms/utils.py:743: UserWarning: no available indices of class 7 to crop, setting the crop ratio of this class to zero.\n",
      "  warnings.warn(\n"
     ]
    },
    {
     "name": "stdout",
     "output_type": "stream",
     "text": [
      "batch 1/5, train_loss: 0.7268\n",
      "batch 2/5, train_loss: 0.6979\n",
      "batch 3/5, train_loss: 0.7325\n",
      "batch 4/5, train_loss: 0.7115\n",
      "batch 5/5, train_loss: 0.7652\n",
      "epoch 86 average loss: 0.7268\n"
     ]
    },
    {
     "name": "stderr",
     "output_type": "stream",
     "text": [
      "/opt/conda/lib/python3.10/site-packages/monai/transforms/utils.py:743: UserWarning: no available indices of class 2 to crop, setting the crop ratio of this class to zero.\n",
      "  warnings.warn(\n",
      "/opt/conda/lib/python3.10/site-packages/monai/transforms/utils.py:743: UserWarning: no available indices of class 2 to crop, setting the crop ratio of this class to zero.\n",
      "  warnings.warn(\n",
      "/opt/conda/lib/python3.10/site-packages/monai/transforms/utils.py:743: UserWarning: no available indices of class 7 to crop, setting the crop ratio of this class to zero.\n",
      "  warnings.warn(\n",
      "/opt/conda/lib/python3.10/site-packages/monai/transforms/utils.py:743: UserWarning: no available indices of class 7 to crop, setting the crop ratio of this class to zero.\n",
      "  warnings.warn(\n"
     ]
    },
    {
     "name": "stdout",
     "output_type": "stream",
     "text": [
      "current epoch: 86 current mean recall per class: 0.4255, 0, 0.1885, 0.564, 0.1914, 0.7229, 0\n",
      "best mean recall: 0.3491 at epoch: 80\n",
      "----------\n",
      "epoch 87/200\n"
     ]
    },
    {
     "name": "stderr",
     "output_type": "stream",
     "text": [
      "/opt/conda/lib/python3.10/site-packages/monai/transforms/utils.py:743: UserWarning: no available indices of class 2 to crop, setting the crop ratio of this class to zero.\n",
      "  warnings.warn(\n",
      "/opt/conda/lib/python3.10/site-packages/monai/transforms/utils.py:743: UserWarning: no available indices of class 7 to crop, setting the crop ratio of this class to zero.\n",
      "  warnings.warn(\n",
      "/opt/conda/lib/python3.10/site-packages/monai/transforms/utils.py:743: UserWarning: no available indices of class 2 to crop, setting the crop ratio of this class to zero.\n",
      "  warnings.warn(\n",
      "/opt/conda/lib/python3.10/site-packages/monai/transforms/utils.py:743: UserWarning: no available indices of class 7 to crop, setting the crop ratio of this class to zero.\n",
      "  warnings.warn(\n",
      "/opt/conda/lib/python3.10/site-packages/monai/transforms/utils.py:743: UserWarning: no available indices of class 2 to crop, setting the crop ratio of this class to zero.\n",
      "  warnings.warn(\n",
      "/opt/conda/lib/python3.10/site-packages/monai/transforms/utils.py:743: UserWarning: no available indices of class 7 to crop, setting the crop ratio of this class to zero.\n",
      "  warnings.warn(\n",
      "/opt/conda/lib/python3.10/site-packages/monai/transforms/utils.py:743: UserWarning: no available indices of class 2 to crop, setting the crop ratio of this class to zero.\n",
      "  warnings.warn(\n",
      "/opt/conda/lib/python3.10/site-packages/monai/transforms/utils.py:743: UserWarning: no available indices of class 7 to crop, setting the crop ratio of this class to zero.\n",
      "  warnings.warn(\n"
     ]
    },
    {
     "name": "stdout",
     "output_type": "stream",
     "text": [
      "batch 1/5, train_loss: 0.7335\n",
      "batch 2/5, train_loss: 0.7798\n",
      "batch 3/5, train_loss: 0.6964\n",
      "batch 4/5, train_loss: 0.7326\n",
      "batch 5/5, train_loss: 0.7606\n",
      "epoch 87 average loss: 0.7406\n",
      "----------\n",
      "epoch 88/200\n"
     ]
    },
    {
     "name": "stderr",
     "output_type": "stream",
     "text": [
      "/opt/conda/lib/python3.10/site-packages/monai/transforms/utils.py:743: UserWarning: no available indices of class 2 to crop, setting the crop ratio of this class to zero.\n",
      "  warnings.warn(\n",
      "/opt/conda/lib/python3.10/site-packages/monai/transforms/utils.py:743: UserWarning: no available indices of class 7 to crop, setting the crop ratio of this class to zero.\n",
      "  warnings.warn(\n",
      "/opt/conda/lib/python3.10/site-packages/monai/transforms/utils.py:743: UserWarning: no available indices of class 2 to crop, setting the crop ratio of this class to zero.\n",
      "  warnings.warn(\n",
      "/opt/conda/lib/python3.10/site-packages/monai/transforms/utils.py:743: UserWarning: no available indices of class 7 to crop, setting the crop ratio of this class to zero.\n",
      "  warnings.warn(\n",
      "/opt/conda/lib/python3.10/site-packages/monai/transforms/utils.py:743: UserWarning: no available indices of class 2 to crop, setting the crop ratio of this class to zero.\n",
      "  warnings.warn(\n",
      "/opt/conda/lib/python3.10/site-packages/monai/transforms/utils.py:743: UserWarning: no available indices of class 7 to crop, setting the crop ratio of this class to zero.\n",
      "  warnings.warn(\n",
      "/opt/conda/lib/python3.10/site-packages/monai/transforms/utils.py:743: UserWarning: no available indices of class 2 to crop, setting the crop ratio of this class to zero.\n",
      "  warnings.warn(\n",
      "/opt/conda/lib/python3.10/site-packages/monai/transforms/utils.py:743: UserWarning: no available indices of class 7 to crop, setting the crop ratio of this class to zero.\n",
      "  warnings.warn(\n"
     ]
    },
    {
     "name": "stdout",
     "output_type": "stream",
     "text": [
      "batch 1/5, train_loss: 0.7059\n",
      "batch 2/5, train_loss: 0.7233\n",
      "batch 3/5, train_loss: 0.7499\n",
      "batch 4/5, train_loss: 0.7341\n",
      "batch 5/5, train_loss: 0.7512\n",
      "epoch 88 average loss: 0.7329\n"
     ]
    },
    {
     "name": "stderr",
     "output_type": "stream",
     "text": [
      "/opt/conda/lib/python3.10/site-packages/monai/transforms/utils.py:743: UserWarning: no available indices of class 2 to crop, setting the crop ratio of this class to zero.\n",
      "  warnings.warn(\n",
      "/opt/conda/lib/python3.10/site-packages/monai/transforms/utils.py:743: UserWarning: no available indices of class 7 to crop, setting the crop ratio of this class to zero.\n",
      "  warnings.warn(\n",
      "/opt/conda/lib/python3.10/site-packages/monai/transforms/utils.py:743: UserWarning: no available indices of class 2 to crop, setting the crop ratio of this class to zero.\n",
      "  warnings.warn(\n",
      "/opt/conda/lib/python3.10/site-packages/monai/transforms/utils.py:743: UserWarning: no available indices of class 7 to crop, setting the crop ratio of this class to zero.\n",
      "  warnings.warn(\n"
     ]
    },
    {
     "name": "stdout",
     "output_type": "stream",
     "text": [
      "current epoch: 88 current mean recall per class: 0.5457, 0, 0.215, 0.5166, 0.2724, 0.7089, 0\n",
      "best mean recall: 0.3491 at epoch: 80\n",
      "----------\n",
      "epoch 89/200\n"
     ]
    },
    {
     "name": "stderr",
     "output_type": "stream",
     "text": [
      "/opt/conda/lib/python3.10/site-packages/monai/transforms/utils.py:743: UserWarning: no available indices of class 2 to crop, setting the crop ratio of this class to zero.\n",
      "  warnings.warn(\n",
      "/opt/conda/lib/python3.10/site-packages/monai/transforms/utils.py:743: UserWarning: no available indices of class 7 to crop, setting the crop ratio of this class to zero.\n",
      "  warnings.warn(\n",
      "/opt/conda/lib/python3.10/site-packages/monai/transforms/utils.py:743: UserWarning: no available indices of class 2 to crop, setting the crop ratio of this class to zero.\n",
      "  warnings.warn(\n",
      "/opt/conda/lib/python3.10/site-packages/monai/transforms/utils.py:743: UserWarning: no available indices of class 7 to crop, setting the crop ratio of this class to zero.\n",
      "  warnings.warn(\n",
      "/opt/conda/lib/python3.10/site-packages/monai/transforms/utils.py:743: UserWarning: no available indices of class 2 to crop, setting the crop ratio of this class to zero.\n",
      "  warnings.warn(\n",
      "/opt/conda/lib/python3.10/site-packages/monai/transforms/utils.py:743: UserWarning: no available indices of class 2 to crop, setting the crop ratio of this class to zero.\n",
      "  warnings.warn(\n",
      "/opt/conda/lib/python3.10/site-packages/monai/transforms/utils.py:743: UserWarning: no available indices of class 7 to crop, setting the crop ratio of this class to zero.\n",
      "  warnings.warn(\n",
      "/opt/conda/lib/python3.10/site-packages/monai/transforms/utils.py:743: UserWarning: no available indices of class 7 to crop, setting the crop ratio of this class to zero.\n",
      "  warnings.warn(\n"
     ]
    },
    {
     "name": "stdout",
     "output_type": "stream",
     "text": [
      "batch 1/5, train_loss: 0.7235\n",
      "batch 2/5, train_loss: 0.7449\n",
      "batch 3/5, train_loss: 0.7427\n",
      "batch 4/5, train_loss: 0.7612\n",
      "batch 5/5, train_loss: 0.7194\n",
      "epoch 89 average loss: 0.7383\n",
      "----------\n",
      "epoch 90/200\n"
     ]
    },
    {
     "name": "stderr",
     "output_type": "stream",
     "text": [
      "/opt/conda/lib/python3.10/site-packages/monai/transforms/utils.py:743: UserWarning: no available indices of class 2 to crop, setting the crop ratio of this class to zero.\n",
      "  warnings.warn(\n",
      "/opt/conda/lib/python3.10/site-packages/monai/transforms/utils.py:743: UserWarning: no available indices of class 7 to crop, setting the crop ratio of this class to zero.\n",
      "  warnings.warn(\n",
      "/opt/conda/lib/python3.10/site-packages/monai/transforms/utils.py:743: UserWarning: no available indices of class 2 to crop, setting the crop ratio of this class to zero.\n",
      "  warnings.warn(\n",
      "/opt/conda/lib/python3.10/site-packages/monai/transforms/utils.py:743: UserWarning: no available indices of class 7 to crop, setting the crop ratio of this class to zero.\n",
      "  warnings.warn(\n",
      "/opt/conda/lib/python3.10/site-packages/monai/transforms/utils.py:743: UserWarning: no available indices of class 2 to crop, setting the crop ratio of this class to zero.\n",
      "  warnings.warn(\n",
      "/opt/conda/lib/python3.10/site-packages/monai/transforms/utils.py:743: UserWarning: no available indices of class 7 to crop, setting the crop ratio of this class to zero.\n",
      "  warnings.warn(\n",
      "/opt/conda/lib/python3.10/site-packages/monai/transforms/utils.py:743: UserWarning: no available indices of class 2 to crop, setting the crop ratio of this class to zero.\n",
      "  warnings.warn(\n",
      "/opt/conda/lib/python3.10/site-packages/monai/transforms/utils.py:743: UserWarning: no available indices of class 7 to crop, setting the crop ratio of this class to zero.\n",
      "  warnings.warn(\n"
     ]
    },
    {
     "name": "stdout",
     "output_type": "stream",
     "text": [
      "batch 1/5, train_loss: 0.7097\n",
      "batch 2/5, train_loss: 0.7200\n",
      "batch 3/5, train_loss: 0.7586\n",
      "batch 4/5, train_loss: 0.7175\n",
      "batch 5/5, train_loss: 0.7657\n",
      "epoch 90 average loss: 0.7343\n"
     ]
    },
    {
     "name": "stderr",
     "output_type": "stream",
     "text": [
      "/opt/conda/lib/python3.10/site-packages/monai/transforms/utils.py:743: UserWarning: no available indices of class 2 to crop, setting the crop ratio of this class to zero.\n",
      "  warnings.warn(\n",
      "/opt/conda/lib/python3.10/site-packages/monai/transforms/utils.py:743: UserWarning: no available indices of class 2 to crop, setting the crop ratio of this class to zero.\n",
      "  warnings.warn(\n",
      "/opt/conda/lib/python3.10/site-packages/monai/transforms/utils.py:743: UserWarning: no available indices of class 7 to crop, setting the crop ratio of this class to zero.\n",
      "  warnings.warn(\n",
      "/opt/conda/lib/python3.10/site-packages/monai/transforms/utils.py:743: UserWarning: no available indices of class 7 to crop, setting the crop ratio of this class to zero.\n",
      "  warnings.warn(\n"
     ]
    },
    {
     "name": "stdout",
     "output_type": "stream",
     "text": [
      "current epoch: 90 current mean recall per class: 0.5703, 0, 0.19, 0.5406, 0.3851, 0.6453, 0\n",
      "best mean recall: 0.3491 at epoch: 80\n",
      "----------\n",
      "epoch 91/200\n"
     ]
    },
    {
     "name": "stderr",
     "output_type": "stream",
     "text": [
      "/opt/conda/lib/python3.10/site-packages/monai/transforms/utils.py:743: UserWarning: no available indices of class 2 to crop, setting the crop ratio of this class to zero.\n",
      "  warnings.warn(\n",
      "/opt/conda/lib/python3.10/site-packages/monai/transforms/utils.py:743: UserWarning: no available indices of class 7 to crop, setting the crop ratio of this class to zero.\n",
      "  warnings.warn(\n",
      "/opt/conda/lib/python3.10/site-packages/monai/transforms/utils.py:743: UserWarning: no available indices of class 2 to crop, setting the crop ratio of this class to zero.\n",
      "  warnings.warn(\n",
      "/opt/conda/lib/python3.10/site-packages/monai/transforms/utils.py:743: UserWarning: no available indices of class 2 to crop, setting the crop ratio of this class to zero.\n",
      "  warnings.warn(\n",
      "/opt/conda/lib/python3.10/site-packages/monai/transforms/utils.py:743: UserWarning: no available indices of class 7 to crop, setting the crop ratio of this class to zero.\n",
      "  warnings.warn(\n",
      "/opt/conda/lib/python3.10/site-packages/monai/transforms/utils.py:743: UserWarning: no available indices of class 7 to crop, setting the crop ratio of this class to zero.\n",
      "  warnings.warn(\n",
      "/opt/conda/lib/python3.10/site-packages/monai/transforms/utils.py:743: UserWarning: no available indices of class 2 to crop, setting the crop ratio of this class to zero.\n",
      "  warnings.warn(\n",
      "/opt/conda/lib/python3.10/site-packages/monai/transforms/utils.py:743: UserWarning: no available indices of class 7 to crop, setting the crop ratio of this class to zero.\n",
      "  warnings.warn(\n"
     ]
    },
    {
     "name": "stdout",
     "output_type": "stream",
     "text": [
      "batch 1/5, train_loss: 0.7078\n",
      "batch 2/5, train_loss: 0.7279\n",
      "batch 3/5, train_loss: 0.7270\n",
      "batch 4/5, train_loss: 0.7127\n",
      "batch 5/5, train_loss: 0.7105\n",
      "epoch 91 average loss: 0.7172\n",
      "----------\n",
      "epoch 92/200\n"
     ]
    },
    {
     "name": "stderr",
     "output_type": "stream",
     "text": [
      "/opt/conda/lib/python3.10/site-packages/monai/transforms/utils.py:743: UserWarning: no available indices of class 2 to crop, setting the crop ratio of this class to zero.\n",
      "  warnings.warn(\n",
      "/opt/conda/lib/python3.10/site-packages/monai/transforms/utils.py:743: UserWarning: no available indices of class 7 to crop, setting the crop ratio of this class to zero.\n",
      "  warnings.warn(\n",
      "/opt/conda/lib/python3.10/site-packages/monai/transforms/utils.py:743: UserWarning: no available indices of class 2 to crop, setting the crop ratio of this class to zero.\n",
      "  warnings.warn(\n",
      "/opt/conda/lib/python3.10/site-packages/monai/transforms/utils.py:743: UserWarning: no available indices of class 7 to crop, setting the crop ratio of this class to zero.\n",
      "  warnings.warn(\n",
      "/opt/conda/lib/python3.10/site-packages/monai/transforms/utils.py:743: UserWarning: no available indices of class 2 to crop, setting the crop ratio of this class to zero.\n",
      "  warnings.warn(\n",
      "/opt/conda/lib/python3.10/site-packages/monai/transforms/utils.py:743: UserWarning: no available indices of class 2 to crop, setting the crop ratio of this class to zero.\n",
      "  warnings.warn(\n",
      "/opt/conda/lib/python3.10/site-packages/monai/transforms/utils.py:743: UserWarning: no available indices of class 7 to crop, setting the crop ratio of this class to zero.\n",
      "  warnings.warn(\n",
      "/opt/conda/lib/python3.10/site-packages/monai/transforms/utils.py:743: UserWarning: no available indices of class 7 to crop, setting the crop ratio of this class to zero.\n",
      "  warnings.warn(\n"
     ]
    },
    {
     "name": "stdout",
     "output_type": "stream",
     "text": [
      "batch 1/5, train_loss: 0.7252\n",
      "batch 2/5, train_loss: 0.7202\n",
      "batch 3/5, train_loss: 0.7433\n",
      "batch 4/5, train_loss: 0.7135\n",
      "batch 5/5, train_loss: 0.7279\n",
      "epoch 92 average loss: 0.7260\n"
     ]
    },
    {
     "name": "stderr",
     "output_type": "stream",
     "text": [
      "/opt/conda/lib/python3.10/site-packages/monai/transforms/utils.py:743: UserWarning: no available indices of class 2 to crop, setting the crop ratio of this class to zero.\n",
      "  warnings.warn(\n",
      "/opt/conda/lib/python3.10/site-packages/monai/transforms/utils.py:743: UserWarning: no available indices of class 7 to crop, setting the crop ratio of this class to zero.\n",
      "  warnings.warn(\n",
      "/opt/conda/lib/python3.10/site-packages/monai/transforms/utils.py:743: UserWarning: no available indices of class 2 to crop, setting the crop ratio of this class to zero.\n",
      "  warnings.warn(\n",
      "/opt/conda/lib/python3.10/site-packages/monai/transforms/utils.py:743: UserWarning: no available indices of class 7 to crop, setting the crop ratio of this class to zero.\n",
      "  warnings.warn(\n"
     ]
    },
    {
     "name": "stdout",
     "output_type": "stream",
     "text": [
      "current epoch: 92 current mean recall per class: 0.6085, 0, 0.1674, 0.4583, 0.4262, 0.6254, 0\n",
      "best mean recall: 0.3491 at epoch: 80\n",
      "----------\n",
      "epoch 93/200\n"
     ]
    },
    {
     "name": "stderr",
     "output_type": "stream",
     "text": [
      "/opt/conda/lib/python3.10/site-packages/monai/transforms/utils.py:743: UserWarning: no available indices of class 2 to crop, setting the crop ratio of this class to zero.\n",
      "  warnings.warn(\n",
      "/opt/conda/lib/python3.10/site-packages/monai/transforms/utils.py:743: UserWarning: no available indices of class 2 to crop, setting the crop ratio of this class to zero.\n",
      "  warnings.warn(\n",
      "/opt/conda/lib/python3.10/site-packages/monai/transforms/utils.py:743: UserWarning: no available indices of class 7 to crop, setting the crop ratio of this class to zero.\n",
      "  warnings.warn(\n",
      "/opt/conda/lib/python3.10/site-packages/monai/transforms/utils.py:743: UserWarning: no available indices of class 7 to crop, setting the crop ratio of this class to zero.\n",
      "  warnings.warn(\n",
      "/opt/conda/lib/python3.10/site-packages/monai/transforms/utils.py:743: UserWarning: no available indices of class 2 to crop, setting the crop ratio of this class to zero.\n",
      "  warnings.warn(\n",
      "/opt/conda/lib/python3.10/site-packages/monai/transforms/utils.py:743: UserWarning: no available indices of class 2 to crop, setting the crop ratio of this class to zero.\n",
      "  warnings.warn(\n",
      "/opt/conda/lib/python3.10/site-packages/monai/transforms/utils.py:743: UserWarning: no available indices of class 7 to crop, setting the crop ratio of this class to zero.\n",
      "  warnings.warn(\n",
      "/opt/conda/lib/python3.10/site-packages/monai/transforms/utils.py:743: UserWarning: no available indices of class 7 to crop, setting the crop ratio of this class to zero.\n",
      "  warnings.warn(\n"
     ]
    },
    {
     "name": "stdout",
     "output_type": "stream",
     "text": [
      "batch 1/5, train_loss: 0.7115\n",
      "batch 2/5, train_loss: 0.7113\n",
      "batch 3/5, train_loss: 0.7215\n",
      "batch 4/5, train_loss: 0.7287\n",
      "batch 5/5, train_loss: 0.7087\n",
      "epoch 93 average loss: 0.7163\n",
      "----------\n",
      "epoch 94/200\n"
     ]
    },
    {
     "name": "stderr",
     "output_type": "stream",
     "text": [
      "/opt/conda/lib/python3.10/site-packages/monai/transforms/utils.py:743: UserWarning: no available indices of class 2 to crop, setting the crop ratio of this class to zero.\n",
      "  warnings.warn(\n",
      "/opt/conda/lib/python3.10/site-packages/monai/transforms/utils.py:743: UserWarning: no available indices of class 7 to crop, setting the crop ratio of this class to zero.\n",
      "  warnings.warn(\n",
      "/opt/conda/lib/python3.10/site-packages/monai/transforms/utils.py:743: UserWarning: no available indices of class 2 to crop, setting the crop ratio of this class to zero.\n",
      "  warnings.warn(\n",
      "/opt/conda/lib/python3.10/site-packages/monai/transforms/utils.py:743: UserWarning: no available indices of class 7 to crop, setting the crop ratio of this class to zero.\n",
      "  warnings.warn(\n",
      "/opt/conda/lib/python3.10/site-packages/monai/transforms/utils.py:743: UserWarning: no available indices of class 2 to crop, setting the crop ratio of this class to zero.\n",
      "  warnings.warn(\n",
      "/opt/conda/lib/python3.10/site-packages/monai/transforms/utils.py:743: UserWarning: no available indices of class 7 to crop, setting the crop ratio of this class to zero.\n",
      "  warnings.warn(\n",
      "/opt/conda/lib/python3.10/site-packages/monai/transforms/utils.py:743: UserWarning: no available indices of class 2 to crop, setting the crop ratio of this class to zero.\n",
      "  warnings.warn(\n",
      "/opt/conda/lib/python3.10/site-packages/monai/transforms/utils.py:743: UserWarning: no available indices of class 7 to crop, setting the crop ratio of this class to zero.\n",
      "  warnings.warn(\n"
     ]
    },
    {
     "name": "stdout",
     "output_type": "stream",
     "text": [
      "batch 1/5, train_loss: 0.7027\n",
      "batch 2/5, train_loss: 0.6981\n",
      "batch 3/5, train_loss: 0.7448\n",
      "batch 4/5, train_loss: 0.7158\n",
      "batch 5/5, train_loss: 0.7175\n",
      "epoch 94 average loss: 0.7158\n"
     ]
    },
    {
     "name": "stderr",
     "output_type": "stream",
     "text": [
      "/opt/conda/lib/python3.10/site-packages/monai/transforms/utils.py:743: UserWarning: no available indices of class 2 to crop, setting the crop ratio of this class to zero.\n",
      "  warnings.warn(\n",
      "/opt/conda/lib/python3.10/site-packages/monai/transforms/utils.py:743: UserWarning: no available indices of class 7 to crop, setting the crop ratio of this class to zero.\n",
      "  warnings.warn(\n",
      "/opt/conda/lib/python3.10/site-packages/monai/transforms/utils.py:743: UserWarning: no available indices of class 2 to crop, setting the crop ratio of this class to zero.\n",
      "  warnings.warn(\n",
      "/opt/conda/lib/python3.10/site-packages/monai/transforms/utils.py:743: UserWarning: no available indices of class 7 to crop, setting the crop ratio of this class to zero.\n",
      "  warnings.warn(\n"
     ]
    },
    {
     "name": "stdout",
     "output_type": "stream",
     "text": [
      "current epoch: 94 current mean recall per class: 0.5587, 0, 0.2579, 0.5198, 0.3922, 0.6866, 0\n",
      "best mean recall: 0.3491 at epoch: 80\n",
      "----------\n",
      "epoch 95/200\n"
     ]
    },
    {
     "name": "stderr",
     "output_type": "stream",
     "text": [
      "/opt/conda/lib/python3.10/site-packages/monai/transforms/utils.py:743: UserWarning: no available indices of class 2 to crop, setting the crop ratio of this class to zero.\n",
      "  warnings.warn(\n",
      "/opt/conda/lib/python3.10/site-packages/monai/transforms/utils.py:743: UserWarning: no available indices of class 7 to crop, setting the crop ratio of this class to zero.\n",
      "  warnings.warn(\n",
      "/opt/conda/lib/python3.10/site-packages/monai/transforms/utils.py:743: UserWarning: no available indices of class 2 to crop, setting the crop ratio of this class to zero.\n",
      "  warnings.warn(\n",
      "/opt/conda/lib/python3.10/site-packages/monai/transforms/utils.py:743: UserWarning: no available indices of class 7 to crop, setting the crop ratio of this class to zero.\n",
      "  warnings.warn(\n",
      "/opt/conda/lib/python3.10/site-packages/monai/transforms/utils.py:743: UserWarning: no available indices of class 2 to crop, setting the crop ratio of this class to zero.\n",
      "  warnings.warn(\n",
      "/opt/conda/lib/python3.10/site-packages/monai/transforms/utils.py:743: UserWarning: no available indices of class 7 to crop, setting the crop ratio of this class to zero.\n",
      "  warnings.warn(\n",
      "/opt/conda/lib/python3.10/site-packages/monai/transforms/utils.py:743: UserWarning: no available indices of class 2 to crop, setting the crop ratio of this class to zero.\n",
      "  warnings.warn(\n",
      "/opt/conda/lib/python3.10/site-packages/monai/transforms/utils.py:743: UserWarning: no available indices of class 7 to crop, setting the crop ratio of this class to zero.\n",
      "  warnings.warn(\n"
     ]
    },
    {
     "name": "stdout",
     "output_type": "stream",
     "text": [
      "batch 1/5, train_loss: 0.6899\n",
      "batch 2/5, train_loss: 0.6714\n",
      "batch 3/5, train_loss: 0.7222\n",
      "batch 4/5, train_loss: 0.7045\n",
      "batch 5/5, train_loss: 0.7406\n",
      "epoch 95 average loss: 0.7057\n",
      "----------\n",
      "epoch 96/200\n"
     ]
    },
    {
     "name": "stderr",
     "output_type": "stream",
     "text": [
      "/opt/conda/lib/python3.10/site-packages/monai/transforms/utils.py:743: UserWarning: no available indices of class 2 to crop, setting the crop ratio of this class to zero.\n",
      "  warnings.warn(\n",
      "/opt/conda/lib/python3.10/site-packages/monai/transforms/utils.py:743: UserWarning: no available indices of class 7 to crop, setting the crop ratio of this class to zero.\n",
      "  warnings.warn(\n",
      "/opt/conda/lib/python3.10/site-packages/monai/transforms/utils.py:743: UserWarning: no available indices of class 2 to crop, setting the crop ratio of this class to zero.\n",
      "  warnings.warn(\n",
      "/opt/conda/lib/python3.10/site-packages/monai/transforms/utils.py:743: UserWarning: no available indices of class 2 to crop, setting the crop ratio of this class to zero.\n",
      "  warnings.warn(\n",
      "/opt/conda/lib/python3.10/site-packages/monai/transforms/utils.py:743: UserWarning: no available indices of class 2 to crop, setting the crop ratio of this class to zero.\n",
      "  warnings.warn(\n",
      "/opt/conda/lib/python3.10/site-packages/monai/transforms/utils.py:743: UserWarning: no available indices of class 7 to crop, setting the crop ratio of this class to zero.\n",
      "  warnings.warn(\n",
      "/opt/conda/lib/python3.10/site-packages/monai/transforms/utils.py:743: UserWarning: no available indices of class 7 to crop, setting the crop ratio of this class to zero.\n",
      "  warnings.warn(\n",
      "/opt/conda/lib/python3.10/site-packages/monai/transforms/utils.py:743: UserWarning: no available indices of class 7 to crop, setting the crop ratio of this class to zero.\n",
      "  warnings.warn(\n"
     ]
    },
    {
     "name": "stdout",
     "output_type": "stream",
     "text": [
      "batch 1/5, train_loss: 0.7141\n",
      "batch 2/5, train_loss: 0.7146\n",
      "batch 3/5, train_loss: 0.7115\n",
      "batch 4/5, train_loss: 0.7253\n",
      "batch 5/5, train_loss: 0.6959\n",
      "epoch 96 average loss: 0.7123\n"
     ]
    },
    {
     "name": "stderr",
     "output_type": "stream",
     "text": [
      "/opt/conda/lib/python3.10/site-packages/monai/transforms/utils.py:743: UserWarning: no available indices of class 2 to crop, setting the crop ratio of this class to zero.\n",
      "  warnings.warn(\n",
      "/opt/conda/lib/python3.10/site-packages/monai/transforms/utils.py:743: UserWarning: no available indices of class 7 to crop, setting the crop ratio of this class to zero.\n",
      "  warnings.warn(\n",
      "/opt/conda/lib/python3.10/site-packages/monai/transforms/utils.py:743: UserWarning: no available indices of class 2 to crop, setting the crop ratio of this class to zero.\n",
      "  warnings.warn(\n",
      "/opt/conda/lib/python3.10/site-packages/monai/transforms/utils.py:743: UserWarning: no available indices of class 7 to crop, setting the crop ratio of this class to zero.\n",
      "  warnings.warn(\n"
     ]
    },
    {
     "name": "stdout",
     "output_type": "stream",
     "text": [
      "saved new best metric model\n",
      "current epoch: 96 current mean recall per class: 0.6192, 0, 0.2047, 0.5595, 0.3758, 0.7471, 0\n",
      "best mean recall: 0.3580 at epoch: 96\n",
      "----------\n",
      "epoch 97/200\n"
     ]
    },
    {
     "name": "stderr",
     "output_type": "stream",
     "text": [
      "/opt/conda/lib/python3.10/site-packages/monai/transforms/utils.py:743: UserWarning: no available indices of class 2 to crop, setting the crop ratio of this class to zero.\n",
      "  warnings.warn(\n",
      "/opt/conda/lib/python3.10/site-packages/monai/transforms/utils.py:743: UserWarning: no available indices of class 7 to crop, setting the crop ratio of this class to zero.\n",
      "  warnings.warn(\n",
      "/opt/conda/lib/python3.10/site-packages/monai/transforms/utils.py:743: UserWarning: no available indices of class 2 to crop, setting the crop ratio of this class to zero.\n",
      "  warnings.warn(\n",
      "/opt/conda/lib/python3.10/site-packages/monai/transforms/utils.py:743: UserWarning: no available indices of class 7 to crop, setting the crop ratio of this class to zero.\n",
      "  warnings.warn(\n",
      "/opt/conda/lib/python3.10/site-packages/monai/transforms/utils.py:743: UserWarning: no available indices of class 2 to crop, setting the crop ratio of this class to zero.\n",
      "  warnings.warn(\n",
      "/opt/conda/lib/python3.10/site-packages/monai/transforms/utils.py:743: UserWarning: no available indices of class 7 to crop, setting the crop ratio of this class to zero.\n",
      "  warnings.warn(\n",
      "/opt/conda/lib/python3.10/site-packages/monai/transforms/utils.py:743: UserWarning: no available indices of class 2 to crop, setting the crop ratio of this class to zero.\n",
      "  warnings.warn(\n",
      "/opt/conda/lib/python3.10/site-packages/monai/transforms/utils.py:743: UserWarning: no available indices of class 7 to crop, setting the crop ratio of this class to zero.\n",
      "  warnings.warn(\n"
     ]
    },
    {
     "name": "stdout",
     "output_type": "stream",
     "text": [
      "batch 1/5, train_loss: 0.7383\n",
      "batch 2/5, train_loss: 0.6984\n",
      "batch 3/5, train_loss: 0.7117\n",
      "batch 4/5, train_loss: 0.7222\n",
      "batch 5/5, train_loss: 0.7018\n",
      "epoch 97 average loss: 0.7145\n",
      "----------\n",
      "epoch 98/200\n"
     ]
    },
    {
     "name": "stderr",
     "output_type": "stream",
     "text": [
      "/opt/conda/lib/python3.10/site-packages/monai/transforms/utils.py:743: UserWarning: no available indices of class 2 to crop, setting the crop ratio of this class to zero.\n",
      "  warnings.warn(\n",
      "/opt/conda/lib/python3.10/site-packages/monai/transforms/utils.py:743: UserWarning: no available indices of class 7 to crop, setting the crop ratio of this class to zero.\n",
      "  warnings.warn(\n",
      "/opt/conda/lib/python3.10/site-packages/monai/transforms/utils.py:743: UserWarning: no available indices of class 2 to crop, setting the crop ratio of this class to zero.\n",
      "  warnings.warn(\n",
      "/opt/conda/lib/python3.10/site-packages/monai/transforms/utils.py:743: UserWarning: no available indices of class 7 to crop, setting the crop ratio of this class to zero.\n",
      "  warnings.warn(\n",
      "/opt/conda/lib/python3.10/site-packages/monai/transforms/utils.py:743: UserWarning: no available indices of class 2 to crop, setting the crop ratio of this class to zero.\n",
      "  warnings.warn(\n",
      "/opt/conda/lib/python3.10/site-packages/monai/transforms/utils.py:743: UserWarning: no available indices of class 7 to crop, setting the crop ratio of this class to zero.\n",
      "  warnings.warn(\n",
      "/opt/conda/lib/python3.10/site-packages/monai/transforms/utils.py:743: UserWarning: no available indices of class 2 to crop, setting the crop ratio of this class to zero.\n",
      "  warnings.warn(\n",
      "/opt/conda/lib/python3.10/site-packages/monai/transforms/utils.py:743: UserWarning: no available indices of class 7 to crop, setting the crop ratio of this class to zero.\n",
      "  warnings.warn(\n"
     ]
    },
    {
     "name": "stdout",
     "output_type": "stream",
     "text": [
      "batch 1/5, train_loss: 0.6685\n",
      "batch 2/5, train_loss: 0.7184\n",
      "batch 3/5, train_loss: 0.6746\n",
      "batch 4/5, train_loss: 0.7690\n",
      "batch 5/5, train_loss: 0.6698\n",
      "epoch 98 average loss: 0.7000\n"
     ]
    },
    {
     "name": "stderr",
     "output_type": "stream",
     "text": [
      "/opt/conda/lib/python3.10/site-packages/monai/transforms/utils.py:743: UserWarning: no available indices of class 2 to crop, setting the crop ratio of this class to zero.\n",
      "  warnings.warn(\n",
      "/opt/conda/lib/python3.10/site-packages/monai/transforms/utils.py:743: UserWarning: no available indices of class 7 to crop, setting the crop ratio of this class to zero.\n",
      "  warnings.warn(\n",
      "/opt/conda/lib/python3.10/site-packages/monai/transforms/utils.py:743: UserWarning: no available indices of class 2 to crop, setting the crop ratio of this class to zero.\n",
      "  warnings.warn(\n",
      "/opt/conda/lib/python3.10/site-packages/monai/transforms/utils.py:743: UserWarning: no available indices of class 7 to crop, setting the crop ratio of this class to zero.\n",
      "  warnings.warn(\n"
     ]
    },
    {
     "name": "stdout",
     "output_type": "stream",
     "text": [
      "saved new best metric model\n",
      "current epoch: 98 current mean recall per class: 0.6299, 0, 0.1974, 0.5483, 0.4263, 0.717, 0\n",
      "best mean recall: 0.3598 at epoch: 98\n",
      "----------\n",
      "epoch 99/200\n"
     ]
    },
    {
     "name": "stderr",
     "output_type": "stream",
     "text": [
      "/opt/conda/lib/python3.10/site-packages/monai/transforms/utils.py:743: UserWarning: no available indices of class 2 to crop, setting the crop ratio of this class to zero.\n",
      "  warnings.warn(\n",
      "/opt/conda/lib/python3.10/site-packages/monai/transforms/utils.py:743: UserWarning: no available indices of class 7 to crop, setting the crop ratio of this class to zero.\n",
      "  warnings.warn(\n",
      "/opt/conda/lib/python3.10/site-packages/monai/transforms/utils.py:743: UserWarning: no available indices of class 2 to crop, setting the crop ratio of this class to zero.\n",
      "  warnings.warn(\n",
      "/opt/conda/lib/python3.10/site-packages/monai/transforms/utils.py:743: UserWarning: no available indices of class 7 to crop, setting the crop ratio of this class to zero.\n",
      "  warnings.warn(\n",
      "/opt/conda/lib/python3.10/site-packages/monai/transforms/utils.py:743: UserWarning: no available indices of class 2 to crop, setting the crop ratio of this class to zero.\n",
      "  warnings.warn(\n",
      "/opt/conda/lib/python3.10/site-packages/monai/transforms/utils.py:743: UserWarning: no available indices of class 2 to crop, setting the crop ratio of this class to zero.\n",
      "  warnings.warn(\n",
      "/opt/conda/lib/python3.10/site-packages/monai/transforms/utils.py:743: UserWarning: no available indices of class 7 to crop, setting the crop ratio of this class to zero.\n",
      "  warnings.warn(\n",
      "/opt/conda/lib/python3.10/site-packages/monai/transforms/utils.py:743: UserWarning: no available indices of class 7 to crop, setting the crop ratio of this class to zero.\n",
      "  warnings.warn(\n"
     ]
    },
    {
     "name": "stdout",
     "output_type": "stream",
     "text": [
      "batch 1/5, train_loss: 0.6728\n",
      "batch 2/5, train_loss: 0.6994\n",
      "batch 3/5, train_loss: 0.7328\n",
      "batch 4/5, train_loss: 0.7223\n",
      "batch 5/5, train_loss: 0.6903\n",
      "epoch 99 average loss: 0.7035\n",
      "----------\n",
      "epoch 100/200\n"
     ]
    },
    {
     "name": "stderr",
     "output_type": "stream",
     "text": [
      "/opt/conda/lib/python3.10/site-packages/monai/transforms/utils.py:743: UserWarning: no available indices of class 2 to crop, setting the crop ratio of this class to zero.\n",
      "  warnings.warn(\n",
      "/opt/conda/lib/python3.10/site-packages/monai/transforms/utils.py:743: UserWarning: no available indices of class 7 to crop, setting the crop ratio of this class to zero.\n",
      "  warnings.warn(\n",
      "/opt/conda/lib/python3.10/site-packages/monai/transforms/utils.py:743: UserWarning: no available indices of class 2 to crop, setting the crop ratio of this class to zero.\n",
      "  warnings.warn(\n",
      "/opt/conda/lib/python3.10/site-packages/monai/transforms/utils.py:743: UserWarning: no available indices of class 7 to crop, setting the crop ratio of this class to zero.\n",
      "  warnings.warn(\n",
      "/opt/conda/lib/python3.10/site-packages/monai/transforms/utils.py:743: UserWarning: no available indices of class 2 to crop, setting the crop ratio of this class to zero.\n",
      "  warnings.warn(\n",
      "/opt/conda/lib/python3.10/site-packages/monai/transforms/utils.py:743: UserWarning: no available indices of class 7 to crop, setting the crop ratio of this class to zero.\n",
      "  warnings.warn(\n",
      "/opt/conda/lib/python3.10/site-packages/monai/transforms/utils.py:743: UserWarning: no available indices of class 2 to crop, setting the crop ratio of this class to zero.\n",
      "  warnings.warn(\n",
      "/opt/conda/lib/python3.10/site-packages/monai/transforms/utils.py:743: UserWarning: no available indices of class 7 to crop, setting the crop ratio of this class to zero.\n",
      "  warnings.warn(\n"
     ]
    },
    {
     "name": "stdout",
     "output_type": "stream",
     "text": [
      "batch 1/5, train_loss: 0.7096\n",
      "batch 2/5, train_loss: 0.7172\n",
      "batch 3/5, train_loss: 0.7533\n",
      "batch 4/5, train_loss: 0.7390\n",
      "batch 5/5, train_loss: 0.7422\n",
      "epoch 100 average loss: 0.7322\n"
     ]
    },
    {
     "name": "stderr",
     "output_type": "stream",
     "text": [
      "/opt/conda/lib/python3.10/site-packages/monai/transforms/utils.py:743: UserWarning: no available indices of class 2 to crop, setting the crop ratio of this class to zero.\n",
      "  warnings.warn(\n",
      "/opt/conda/lib/python3.10/site-packages/monai/transforms/utils.py:743: UserWarning: no available indices of class 7 to crop, setting the crop ratio of this class to zero.\n",
      "  warnings.warn(\n",
      "/opt/conda/lib/python3.10/site-packages/monai/transforms/utils.py:743: UserWarning: no available indices of class 2 to crop, setting the crop ratio of this class to zero.\n",
      "  warnings.warn(\n",
      "/opt/conda/lib/python3.10/site-packages/monai/transforms/utils.py:743: UserWarning: no available indices of class 7 to crop, setting the crop ratio of this class to zero.\n",
      "  warnings.warn(\n"
     ]
    },
    {
     "name": "stdout",
     "output_type": "stream",
     "text": [
      "current epoch: 100 current mean recall per class: 0.4401, 0, 0.2473, 0.5172, 0.4189, 0.7771, 0\n",
      "best mean recall: 0.3598 at epoch: 98\n",
      "----------\n",
      "epoch 101/200\n"
     ]
    },
    {
     "name": "stderr",
     "output_type": "stream",
     "text": [
      "/opt/conda/lib/python3.10/site-packages/monai/transforms/utils.py:743: UserWarning: no available indices of class 2 to crop, setting the crop ratio of this class to zero.\n",
      "  warnings.warn(\n",
      "/opt/conda/lib/python3.10/site-packages/monai/transforms/utils.py:743: UserWarning: no available indices of class 7 to crop, setting the crop ratio of this class to zero.\n",
      "  warnings.warn(\n",
      "/opt/conda/lib/python3.10/site-packages/monai/transforms/utils.py:743: UserWarning: no available indices of class 2 to crop, setting the crop ratio of this class to zero.\n",
      "  warnings.warn(\n",
      "/opt/conda/lib/python3.10/site-packages/monai/transforms/utils.py:743: UserWarning: no available indices of class 7 to crop, setting the crop ratio of this class to zero.\n",
      "  warnings.warn(\n",
      "/opt/conda/lib/python3.10/site-packages/monai/transforms/utils.py:743: UserWarning: no available indices of class 2 to crop, setting the crop ratio of this class to zero.\n",
      "  warnings.warn(\n",
      "/opt/conda/lib/python3.10/site-packages/monai/transforms/utils.py:743: UserWarning: no available indices of class 7 to crop, setting the crop ratio of this class to zero.\n",
      "  warnings.warn(\n",
      "/opt/conda/lib/python3.10/site-packages/monai/transforms/utils.py:743: UserWarning: no available indices of class 2 to crop, setting the crop ratio of this class to zero.\n",
      "  warnings.warn(\n",
      "/opt/conda/lib/python3.10/site-packages/monai/transforms/utils.py:743: UserWarning: no available indices of class 7 to crop, setting the crop ratio of this class to zero.\n",
      "  warnings.warn(\n"
     ]
    },
    {
     "name": "stdout",
     "output_type": "stream",
     "text": [
      "batch 1/5, train_loss: 0.7466\n",
      "batch 2/5, train_loss: 0.6760\n",
      "batch 3/5, train_loss: 0.7034\n",
      "batch 4/5, train_loss: 0.6948\n",
      "batch 5/5, train_loss: 0.7091\n",
      "epoch 101 average loss: 0.7060\n",
      "----------\n",
      "epoch 102/200\n"
     ]
    },
    {
     "name": "stderr",
     "output_type": "stream",
     "text": [
      "/opt/conda/lib/python3.10/site-packages/monai/transforms/utils.py:743: UserWarning: no available indices of class 2 to crop, setting the crop ratio of this class to zero.\n",
      "  warnings.warn(\n",
      "/opt/conda/lib/python3.10/site-packages/monai/transforms/utils.py:743: UserWarning: no available indices of class 7 to crop, setting the crop ratio of this class to zero.\n",
      "  warnings.warn(\n",
      "/opt/conda/lib/python3.10/site-packages/monai/transforms/utils.py:743: UserWarning: no available indices of class 2 to crop, setting the crop ratio of this class to zero.\n",
      "  warnings.warn(\n",
      "/opt/conda/lib/python3.10/site-packages/monai/transforms/utils.py:743: UserWarning: no available indices of class 7 to crop, setting the crop ratio of this class to zero.\n",
      "  warnings.warn(\n",
      "/opt/conda/lib/python3.10/site-packages/monai/transforms/utils.py:743: UserWarning: no available indices of class 2 to crop, setting the crop ratio of this class to zero.\n",
      "  warnings.warn(\n",
      "/opt/conda/lib/python3.10/site-packages/monai/transforms/utils.py:743: UserWarning: no available indices of class 7 to crop, setting the crop ratio of this class to zero.\n",
      "  warnings.warn(\n",
      "/opt/conda/lib/python3.10/site-packages/monai/transforms/utils.py:743: UserWarning: no available indices of class 2 to crop, setting the crop ratio of this class to zero.\n",
      "  warnings.warn(\n",
      "/opt/conda/lib/python3.10/site-packages/monai/transforms/utils.py:743: UserWarning: no available indices of class 7 to crop, setting the crop ratio of this class to zero.\n",
      "  warnings.warn(\n"
     ]
    },
    {
     "name": "stdout",
     "output_type": "stream",
     "text": [
      "batch 1/5, train_loss: 0.7217\n",
      "batch 2/5, train_loss: 0.6663\n",
      "batch 3/5, train_loss: 0.7090\n",
      "batch 4/5, train_loss: 0.7139\n",
      "batch 5/5, train_loss: 0.6777\n",
      "epoch 102 average loss: 0.6977\n"
     ]
    },
    {
     "name": "stderr",
     "output_type": "stream",
     "text": [
      "/opt/conda/lib/python3.10/site-packages/monai/transforms/utils.py:743: UserWarning: no available indices of class 2 to crop, setting the crop ratio of this class to zero.\n",
      "  warnings.warn(\n",
      "/opt/conda/lib/python3.10/site-packages/monai/transforms/utils.py:743: UserWarning: no available indices of class 7 to crop, setting the crop ratio of this class to zero.\n",
      "  warnings.warn(\n",
      "/opt/conda/lib/python3.10/site-packages/monai/transforms/utils.py:743: UserWarning: no available indices of class 2 to crop, setting the crop ratio of this class to zero.\n",
      "  warnings.warn(\n",
      "/opt/conda/lib/python3.10/site-packages/monai/transforms/utils.py:743: UserWarning: no available indices of class 7 to crop, setting the crop ratio of this class to zero.\n",
      "  warnings.warn(\n"
     ]
    },
    {
     "name": "stdout",
     "output_type": "stream",
     "text": [
      "current epoch: 102 current mean recall per class: 0.5696, 0, 0.1806, 0.6, 0.3221, 0.7558, 0\n",
      "best mean recall: 0.3598 at epoch: 98\n",
      "----------\n",
      "epoch 103/200\n"
     ]
    },
    {
     "name": "stderr",
     "output_type": "stream",
     "text": [
      "/opt/conda/lib/python3.10/site-packages/monai/transforms/utils.py:743: UserWarning: no available indices of class 2 to crop, setting the crop ratio of this class to zero.\n",
      "  warnings.warn(\n",
      "/opt/conda/lib/python3.10/site-packages/monai/transforms/utils.py:743: UserWarning: no available indices of class 7 to crop, setting the crop ratio of this class to zero.\n",
      "  warnings.warn(\n",
      "/opt/conda/lib/python3.10/site-packages/monai/transforms/utils.py:743: UserWarning: no available indices of class 2 to crop, setting the crop ratio of this class to zero.\n",
      "  warnings.warn(\n",
      "/opt/conda/lib/python3.10/site-packages/monai/transforms/utils.py:743: UserWarning: no available indices of class 7 to crop, setting the crop ratio of this class to zero.\n",
      "  warnings.warn(\n",
      "/opt/conda/lib/python3.10/site-packages/monai/transforms/utils.py:743: UserWarning: no available indices of class 2 to crop, setting the crop ratio of this class to zero.\n",
      "  warnings.warn(\n",
      "/opt/conda/lib/python3.10/site-packages/monai/transforms/utils.py:743: UserWarning: no available indices of class 7 to crop, setting the crop ratio of this class to zero.\n",
      "  warnings.warn(\n",
      "/opt/conda/lib/python3.10/site-packages/monai/transforms/utils.py:743: UserWarning: no available indices of class 2 to crop, setting the crop ratio of this class to zero.\n",
      "  warnings.warn(\n",
      "/opt/conda/lib/python3.10/site-packages/monai/transforms/utils.py:743: UserWarning: no available indices of class 7 to crop, setting the crop ratio of this class to zero.\n",
      "  warnings.warn(\n"
     ]
    },
    {
     "name": "stdout",
     "output_type": "stream",
     "text": [
      "batch 1/5, train_loss: 0.6714\n",
      "batch 2/5, train_loss: 0.6979\n",
      "batch 3/5, train_loss: 0.6922\n",
      "batch 4/5, train_loss: 0.7152\n",
      "batch 5/5, train_loss: 0.7227\n",
      "epoch 103 average loss: 0.6999\n",
      "----------\n",
      "epoch 104/200\n"
     ]
    },
    {
     "name": "stderr",
     "output_type": "stream",
     "text": [
      "/opt/conda/lib/python3.10/site-packages/monai/transforms/utils.py:743: UserWarning: no available indices of class 2 to crop, setting the crop ratio of this class to zero.\n",
      "  warnings.warn(\n",
      "/opt/conda/lib/python3.10/site-packages/monai/transforms/utils.py:743: UserWarning: no available indices of class 7 to crop, setting the crop ratio of this class to zero.\n",
      "  warnings.warn(\n",
      "/opt/conda/lib/python3.10/site-packages/monai/transforms/utils.py:743: UserWarning: no available indices of class 2 to crop, setting the crop ratio of this class to zero.\n",
      "  warnings.warn(\n",
      "/opt/conda/lib/python3.10/site-packages/monai/transforms/utils.py:743: UserWarning: no available indices of class 2 to crop, setting the crop ratio of this class to zero.\n",
      "  warnings.warn(\n",
      "/opt/conda/lib/python3.10/site-packages/monai/transforms/utils.py:743: UserWarning: no available indices of class 7 to crop, setting the crop ratio of this class to zero.\n",
      "  warnings.warn(\n",
      "/opt/conda/lib/python3.10/site-packages/monai/transforms/utils.py:743: UserWarning: no available indices of class 7 to crop, setting the crop ratio of this class to zero.\n",
      "  warnings.warn(\n",
      "/opt/conda/lib/python3.10/site-packages/monai/transforms/utils.py:743: UserWarning: no available indices of class 2 to crop, setting the crop ratio of this class to zero.\n",
      "  warnings.warn(\n",
      "/opt/conda/lib/python3.10/site-packages/monai/transforms/utils.py:743: UserWarning: no available indices of class 7 to crop, setting the crop ratio of this class to zero.\n",
      "  warnings.warn(\n"
     ]
    },
    {
     "name": "stdout",
     "output_type": "stream",
     "text": [
      "batch 1/5, train_loss: 0.7091\n",
      "batch 2/5, train_loss: 0.6730\n",
      "batch 3/5, train_loss: 0.7350\n",
      "batch 4/5, train_loss: 0.7055\n",
      "batch 5/5, train_loss: 0.6855\n",
      "epoch 104 average loss: 0.7016\n"
     ]
    },
    {
     "name": "stderr",
     "output_type": "stream",
     "text": [
      "/opt/conda/lib/python3.10/site-packages/monai/transforms/utils.py:743: UserWarning: no available indices of class 2 to crop, setting the crop ratio of this class to zero.\n",
      "  warnings.warn(\n",
      "/opt/conda/lib/python3.10/site-packages/monai/transforms/utils.py:743: UserWarning: no available indices of class 7 to crop, setting the crop ratio of this class to zero.\n",
      "  warnings.warn(\n",
      "/opt/conda/lib/python3.10/site-packages/monai/transforms/utils.py:743: UserWarning: no available indices of class 2 to crop, setting the crop ratio of this class to zero.\n",
      "  warnings.warn(\n",
      "/opt/conda/lib/python3.10/site-packages/monai/transforms/utils.py:743: UserWarning: no available indices of class 7 to crop, setting the crop ratio of this class to zero.\n",
      "  warnings.warn(\n"
     ]
    },
    {
     "name": "stdout",
     "output_type": "stream",
     "text": [
      "current epoch: 104 current mean recall per class: 0.6357, 0, 0.2164, 0.5298, 0.3485, 0.6665, 0\n",
      "best mean recall: 0.3598 at epoch: 98\n",
      "----------\n",
      "epoch 105/200\n"
     ]
    },
    {
     "name": "stderr",
     "output_type": "stream",
     "text": [
      "/opt/conda/lib/python3.10/site-packages/monai/transforms/utils.py:743: UserWarning: no available indices of class 2 to crop, setting the crop ratio of this class to zero.\n",
      "  warnings.warn(\n",
      "/opt/conda/lib/python3.10/site-packages/monai/transforms/utils.py:743: UserWarning: no available indices of class 7 to crop, setting the crop ratio of this class to zero.\n",
      "  warnings.warn(\n",
      "/opt/conda/lib/python3.10/site-packages/monai/transforms/utils.py:743: UserWarning: no available indices of class 2 to crop, setting the crop ratio of this class to zero.\n",
      "  warnings.warn(\n",
      "/opt/conda/lib/python3.10/site-packages/monai/transforms/utils.py:743: UserWarning: no available indices of class 7 to crop, setting the crop ratio of this class to zero.\n",
      "  warnings.warn(\n",
      "/opt/conda/lib/python3.10/site-packages/monai/transforms/utils.py:743: UserWarning: no available indices of class 2 to crop, setting the crop ratio of this class to zero.\n",
      "  warnings.warn(\n",
      "/opt/conda/lib/python3.10/site-packages/monai/transforms/utils.py:743: UserWarning: no available indices of class 2 to crop, setting the crop ratio of this class to zero.\n",
      "  warnings.warn(\n",
      "/opt/conda/lib/python3.10/site-packages/monai/transforms/utils.py:743: UserWarning: no available indices of class 7 to crop, setting the crop ratio of this class to zero.\n",
      "  warnings.warn(\n",
      "/opt/conda/lib/python3.10/site-packages/monai/transforms/utils.py:743: UserWarning: no available indices of class 7 to crop, setting the crop ratio of this class to zero.\n",
      "  warnings.warn(\n"
     ]
    },
    {
     "name": "stdout",
     "output_type": "stream",
     "text": [
      "batch 1/5, train_loss: 0.7047\n",
      "batch 2/5, train_loss: 0.7108\n",
      "batch 3/5, train_loss: 0.7162\n",
      "batch 4/5, train_loss: 0.6958\n",
      "batch 5/5, train_loss: 0.7461\n",
      "epoch 105 average loss: 0.7147\n",
      "----------\n",
      "epoch 106/200\n"
     ]
    },
    {
     "name": "stderr",
     "output_type": "stream",
     "text": [
      "/opt/conda/lib/python3.10/site-packages/monai/transforms/utils.py:743: UserWarning: no available indices of class 2 to crop, setting the crop ratio of this class to zero.\n",
      "  warnings.warn(\n",
      "/opt/conda/lib/python3.10/site-packages/monai/transforms/utils.py:743: UserWarning: no available indices of class 7 to crop, setting the crop ratio of this class to zero.\n",
      "  warnings.warn(\n",
      "/opt/conda/lib/python3.10/site-packages/monai/transforms/utils.py:743: UserWarning: no available indices of class 2 to crop, setting the crop ratio of this class to zero.\n",
      "  warnings.warn(\n",
      "/opt/conda/lib/python3.10/site-packages/monai/transforms/utils.py:743: UserWarning: no available indices of class 7 to crop, setting the crop ratio of this class to zero.\n",
      "  warnings.warn(\n",
      "/opt/conda/lib/python3.10/site-packages/monai/transforms/utils.py:743: UserWarning: no available indices of class 2 to crop, setting the crop ratio of this class to zero.\n",
      "  warnings.warn(\n",
      "/opt/conda/lib/python3.10/site-packages/monai/transforms/utils.py:743: UserWarning: no available indices of class 7 to crop, setting the crop ratio of this class to zero.\n",
      "  warnings.warn(\n",
      "/opt/conda/lib/python3.10/site-packages/monai/transforms/utils.py:743: UserWarning: no available indices of class 2 to crop, setting the crop ratio of this class to zero.\n",
      "  warnings.warn(\n",
      "/opt/conda/lib/python3.10/site-packages/monai/transforms/utils.py:743: UserWarning: no available indices of class 7 to crop, setting the crop ratio of this class to zero.\n",
      "  warnings.warn(\n"
     ]
    },
    {
     "name": "stdout",
     "output_type": "stream",
     "text": [
      "batch 1/5, train_loss: 0.7163\n",
      "batch 2/5, train_loss: 0.7330\n",
      "batch 3/5, train_loss: 0.7496\n",
      "batch 4/5, train_loss: 0.7245\n",
      "batch 5/5, train_loss: 0.7106\n",
      "epoch 106 average loss: 0.7268\n"
     ]
    },
    {
     "name": "stderr",
     "output_type": "stream",
     "text": [
      "/opt/conda/lib/python3.10/site-packages/monai/transforms/utils.py:743: UserWarning: no available indices of class 2 to crop, setting the crop ratio of this class to zero.\n",
      "  warnings.warn(\n",
      "/opt/conda/lib/python3.10/site-packages/monai/transforms/utils.py:743: UserWarning: no available indices of class 7 to crop, setting the crop ratio of this class to zero.\n",
      "  warnings.warn(\n",
      "/opt/conda/lib/python3.10/site-packages/monai/transforms/utils.py:743: UserWarning: no available indices of class 2 to crop, setting the crop ratio of this class to zero.\n",
      "  warnings.warn(\n",
      "/opt/conda/lib/python3.10/site-packages/monai/transforms/utils.py:743: UserWarning: no available indices of class 7 to crop, setting the crop ratio of this class to zero.\n",
      "  warnings.warn(\n"
     ]
    },
    {
     "name": "stdout",
     "output_type": "stream",
     "text": [
      "current epoch: 106 current mean recall per class: 0.5809, 0, 0.2164, 0.5695, 0.3157, 0.6865, 0\n",
      "best mean recall: 0.3598 at epoch: 98\n",
      "----------\n",
      "epoch 107/200\n"
     ]
    },
    {
     "name": "stderr",
     "output_type": "stream",
     "text": [
      "/opt/conda/lib/python3.10/site-packages/monai/transforms/utils.py:743: UserWarning: no available indices of class 2 to crop, setting the crop ratio of this class to zero.\n",
      "  warnings.warn(\n",
      "/opt/conda/lib/python3.10/site-packages/monai/transforms/utils.py:743: UserWarning: no available indices of class 2 to crop, setting the crop ratio of this class to zero.\n",
      "  warnings.warn(\n",
      "/opt/conda/lib/python3.10/site-packages/monai/transforms/utils.py:743: UserWarning: no available indices of class 7 to crop, setting the crop ratio of this class to zero.\n",
      "  warnings.warn(\n",
      "/opt/conda/lib/python3.10/site-packages/monai/transforms/utils.py:743: UserWarning: no available indices of class 7 to crop, setting the crop ratio of this class to zero.\n",
      "  warnings.warn(\n",
      "/opt/conda/lib/python3.10/site-packages/monai/transforms/utils.py:743: UserWarning: no available indices of class 2 to crop, setting the crop ratio of this class to zero.\n",
      "  warnings.warn(\n",
      "/opt/conda/lib/python3.10/site-packages/monai/transforms/utils.py:743: UserWarning: no available indices of class 2 to crop, setting the crop ratio of this class to zero.\n",
      "  warnings.warn(\n",
      "/opt/conda/lib/python3.10/site-packages/monai/transforms/utils.py:743: UserWarning: no available indices of class 7 to crop, setting the crop ratio of this class to zero.\n",
      "  warnings.warn(\n",
      "/opt/conda/lib/python3.10/site-packages/monai/transforms/utils.py:743: UserWarning: no available indices of class 7 to crop, setting the crop ratio of this class to zero.\n",
      "  warnings.warn(\n"
     ]
    },
    {
     "name": "stdout",
     "output_type": "stream",
     "text": [
      "batch 1/5, train_loss: 0.7290\n",
      "batch 2/5, train_loss: 0.7571\n",
      "batch 3/5, train_loss: 0.6971\n",
      "batch 4/5, train_loss: 0.7053\n",
      "batch 5/5, train_loss: 0.7041\n",
      "epoch 107 average loss: 0.7185\n",
      "----------\n",
      "epoch 108/200\n"
     ]
    },
    {
     "name": "stderr",
     "output_type": "stream",
     "text": [
      "/opt/conda/lib/python3.10/site-packages/monai/transforms/utils.py:743: UserWarning: no available indices of class 2 to crop, setting the crop ratio of this class to zero.\n",
      "  warnings.warn(\n",
      "/opt/conda/lib/python3.10/site-packages/monai/transforms/utils.py:743: UserWarning: no available indices of class 7 to crop, setting the crop ratio of this class to zero.\n",
      "  warnings.warn(\n",
      "/opt/conda/lib/python3.10/site-packages/monai/transforms/utils.py:743: UserWarning: no available indices of class 2 to crop, setting the crop ratio of this class to zero.\n",
      "  warnings.warn(\n",
      "/opt/conda/lib/python3.10/site-packages/monai/transforms/utils.py:743: UserWarning: no available indices of class 7 to crop, setting the crop ratio of this class to zero.\n",
      "  warnings.warn(\n",
      "/opt/conda/lib/python3.10/site-packages/monai/transforms/utils.py:743: UserWarning: no available indices of class 2 to crop, setting the crop ratio of this class to zero.\n",
      "  warnings.warn(\n",
      "/opt/conda/lib/python3.10/site-packages/monai/transforms/utils.py:743: UserWarning: no available indices of class 7 to crop, setting the crop ratio of this class to zero.\n",
      "  warnings.warn(\n",
      "/opt/conda/lib/python3.10/site-packages/monai/transforms/utils.py:743: UserWarning: no available indices of class 2 to crop, setting the crop ratio of this class to zero.\n",
      "  warnings.warn(\n",
      "/opt/conda/lib/python3.10/site-packages/monai/transforms/utils.py:743: UserWarning: no available indices of class 7 to crop, setting the crop ratio of this class to zero.\n",
      "  warnings.warn(\n"
     ]
    },
    {
     "name": "stdout",
     "output_type": "stream",
     "text": [
      "batch 1/5, train_loss: 0.6962\n",
      "batch 2/5, train_loss: 0.7416\n",
      "batch 3/5, train_loss: 0.6944\n",
      "batch 4/5, train_loss: 0.7403\n",
      "batch 5/5, train_loss: 0.6909\n",
      "epoch 108 average loss: 0.7127\n"
     ]
    },
    {
     "name": "stderr",
     "output_type": "stream",
     "text": [
      "/opt/conda/lib/python3.10/site-packages/monai/transforms/utils.py:743: UserWarning: no available indices of class 2 to crop, setting the crop ratio of this class to zero.\n",
      "  warnings.warn(\n",
      "/opt/conda/lib/python3.10/site-packages/monai/transforms/utils.py:743: UserWarning: no available indices of class 2 to crop, setting the crop ratio of this class to zero.\n",
      "  warnings.warn(\n",
      "/opt/conda/lib/python3.10/site-packages/monai/transforms/utils.py:743: UserWarning: no available indices of class 7 to crop, setting the crop ratio of this class to zero.\n",
      "  warnings.warn(\n",
      "/opt/conda/lib/python3.10/site-packages/monai/transforms/utils.py:743: UserWarning: no available indices of class 7 to crop, setting the crop ratio of this class to zero.\n",
      "  warnings.warn(\n"
     ]
    },
    {
     "name": "stdout",
     "output_type": "stream",
     "text": [
      "saved new best metric model\n",
      "current epoch: 108 current mean recall per class: 0.6158, 0, 0.2055, 0.5687, 0.3967, 0.7511, 0\n",
      "best mean recall: 0.3625 at epoch: 108\n",
      "----------\n",
      "epoch 109/200\n"
     ]
    },
    {
     "name": "stderr",
     "output_type": "stream",
     "text": [
      "/opt/conda/lib/python3.10/site-packages/monai/transforms/utils.py:743: UserWarning: no available indices of class 2 to crop, setting the crop ratio of this class to zero.\n",
      "  warnings.warn(\n",
      "/opt/conda/lib/python3.10/site-packages/monai/transforms/utils.py:743: UserWarning: no available indices of class 7 to crop, setting the crop ratio of this class to zero.\n",
      "  warnings.warn(\n",
      "/opt/conda/lib/python3.10/site-packages/monai/transforms/utils.py:743: UserWarning: no available indices of class 2 to crop, setting the crop ratio of this class to zero.\n",
      "  warnings.warn(\n",
      "/opt/conda/lib/python3.10/site-packages/monai/transforms/utils.py:743: UserWarning: no available indices of class 7 to crop, setting the crop ratio of this class to zero.\n",
      "  warnings.warn(\n",
      "/opt/conda/lib/python3.10/site-packages/monai/transforms/utils.py:743: UserWarning: no available indices of class 2 to crop, setting the crop ratio of this class to zero.\n",
      "  warnings.warn(\n",
      "/opt/conda/lib/python3.10/site-packages/monai/transforms/utils.py:743: UserWarning: no available indices of class 7 to crop, setting the crop ratio of this class to zero.\n",
      "  warnings.warn(\n",
      "/opt/conda/lib/python3.10/site-packages/monai/transforms/utils.py:743: UserWarning: no available indices of class 2 to crop, setting the crop ratio of this class to zero.\n",
      "  warnings.warn(\n",
      "/opt/conda/lib/python3.10/site-packages/monai/transforms/utils.py:743: UserWarning: no available indices of class 7 to crop, setting the crop ratio of this class to zero.\n",
      "  warnings.warn(\n"
     ]
    },
    {
     "name": "stdout",
     "output_type": "stream",
     "text": [
      "batch 1/5, train_loss: 0.6834\n",
      "batch 2/5, train_loss: 0.6813\n",
      "batch 3/5, train_loss: 0.6964\n",
      "batch 4/5, train_loss: 0.7122\n",
      "batch 5/5, train_loss: 0.7229\n",
      "epoch 109 average loss: 0.6992\n",
      "----------\n",
      "epoch 110/200\n"
     ]
    },
    {
     "name": "stderr",
     "output_type": "stream",
     "text": [
      "/opt/conda/lib/python3.10/site-packages/monai/transforms/utils.py:743: UserWarning: no available indices of class 2 to crop, setting the crop ratio of this class to zero.\n",
      "  warnings.warn(\n",
      "/opt/conda/lib/python3.10/site-packages/monai/transforms/utils.py:743: UserWarning: no available indices of class 7 to crop, setting the crop ratio of this class to zero.\n",
      "  warnings.warn(\n",
      "/opt/conda/lib/python3.10/site-packages/monai/transforms/utils.py:743: UserWarning: no available indices of class 2 to crop, setting the crop ratio of this class to zero.\n",
      "  warnings.warn(\n",
      "/opt/conda/lib/python3.10/site-packages/monai/transforms/utils.py:743: UserWarning: no available indices of class 2 to crop, setting the crop ratio of this class to zero.\n",
      "  warnings.warn(\n",
      "/opt/conda/lib/python3.10/site-packages/monai/transforms/utils.py:743: UserWarning: no available indices of class 7 to crop, setting the crop ratio of this class to zero.\n",
      "  warnings.warn(\n",
      "/opt/conda/lib/python3.10/site-packages/monai/transforms/utils.py:743: UserWarning: no available indices of class 7 to crop, setting the crop ratio of this class to zero.\n",
      "  warnings.warn(\n",
      "/opt/conda/lib/python3.10/site-packages/monai/transforms/utils.py:743: UserWarning: no available indices of class 2 to crop, setting the crop ratio of this class to zero.\n",
      "  warnings.warn(\n",
      "/opt/conda/lib/python3.10/site-packages/monai/transforms/utils.py:743: UserWarning: no available indices of class 7 to crop, setting the crop ratio of this class to zero.\n",
      "  warnings.warn(\n"
     ]
    },
    {
     "name": "stdout",
     "output_type": "stream",
     "text": [
      "batch 1/5, train_loss: 0.7446\n",
      "batch 2/5, train_loss: 0.7044\n",
      "batch 3/5, train_loss: 0.7236\n",
      "batch 4/5, train_loss: 0.7129\n",
      "batch 5/5, train_loss: 0.7168\n",
      "epoch 110 average loss: 0.7204\n"
     ]
    },
    {
     "name": "stderr",
     "output_type": "stream",
     "text": [
      "/opt/conda/lib/python3.10/site-packages/monai/transforms/utils.py:743: UserWarning: no available indices of class 2 to crop, setting the crop ratio of this class to zero.\n",
      "  warnings.warn(\n",
      "/opt/conda/lib/python3.10/site-packages/monai/transforms/utils.py:743: UserWarning: no available indices of class 7 to crop, setting the crop ratio of this class to zero.\n",
      "  warnings.warn(\n",
      "/opt/conda/lib/python3.10/site-packages/monai/transforms/utils.py:743: UserWarning: no available indices of class 2 to crop, setting the crop ratio of this class to zero.\n",
      "  warnings.warn(\n",
      "/opt/conda/lib/python3.10/site-packages/monai/transforms/utils.py:743: UserWarning: no available indices of class 7 to crop, setting the crop ratio of this class to zero.\n",
      "  warnings.warn(\n"
     ]
    },
    {
     "name": "stdout",
     "output_type": "stream",
     "text": [
      "current epoch: 110 current mean recall per class: 0.5908, 0, 0.2036, 0.4762, 0.3185, 0.7233, 0\n",
      "best mean recall: 0.3625 at epoch: 108\n",
      "----------\n",
      "epoch 111/200\n"
     ]
    },
    {
     "name": "stderr",
     "output_type": "stream",
     "text": [
      "/opt/conda/lib/python3.10/site-packages/monai/transforms/utils.py:743: UserWarning: no available indices of class 2 to crop, setting the crop ratio of this class to zero.\n",
      "  warnings.warn(\n",
      "/opt/conda/lib/python3.10/site-packages/monai/transforms/utils.py:743: UserWarning: no available indices of class 7 to crop, setting the crop ratio of this class to zero.\n",
      "  warnings.warn(\n",
      "/opt/conda/lib/python3.10/site-packages/monai/transforms/utils.py:743: UserWarning: no available indices of class 2 to crop, setting the crop ratio of this class to zero.\n",
      "  warnings.warn(\n",
      "/opt/conda/lib/python3.10/site-packages/monai/transforms/utils.py:743: UserWarning: no available indices of class 7 to crop, setting the crop ratio of this class to zero.\n",
      "  warnings.warn(\n",
      "/opt/conda/lib/python3.10/site-packages/monai/transforms/utils.py:743: UserWarning: no available indices of class 2 to crop, setting the crop ratio of this class to zero.\n",
      "  warnings.warn(\n",
      "/opt/conda/lib/python3.10/site-packages/monai/transforms/utils.py:743: UserWarning: no available indices of class 7 to crop, setting the crop ratio of this class to zero.\n",
      "  warnings.warn(\n",
      "/opt/conda/lib/python3.10/site-packages/monai/transforms/utils.py:743: UserWarning: no available indices of class 2 to crop, setting the crop ratio of this class to zero.\n",
      "  warnings.warn(\n",
      "/opt/conda/lib/python3.10/site-packages/monai/transforms/utils.py:743: UserWarning: no available indices of class 7 to crop, setting the crop ratio of this class to zero.\n",
      "  warnings.warn(\n"
     ]
    },
    {
     "name": "stdout",
     "output_type": "stream",
     "text": [
      "batch 1/5, train_loss: 0.7098\n",
      "batch 2/5, train_loss: 0.7134\n",
      "batch 3/5, train_loss: 0.7848\n",
      "batch 4/5, train_loss: 0.7073\n",
      "batch 5/5, train_loss: 0.6981\n",
      "epoch 111 average loss: 0.7227\n",
      "----------\n",
      "epoch 112/200\n"
     ]
    },
    {
     "name": "stderr",
     "output_type": "stream",
     "text": [
      "/opt/conda/lib/python3.10/site-packages/monai/transforms/utils.py:743: UserWarning: no available indices of class 2 to crop, setting the crop ratio of this class to zero.\n",
      "  warnings.warn(\n",
      "/opt/conda/lib/python3.10/site-packages/monai/transforms/utils.py:743: UserWarning: no available indices of class 7 to crop, setting the crop ratio of this class to zero.\n",
      "  warnings.warn(\n",
      "/opt/conda/lib/python3.10/site-packages/monai/transforms/utils.py:743: UserWarning: no available indices of class 2 to crop, setting the crop ratio of this class to zero.\n",
      "  warnings.warn(\n",
      "/opt/conda/lib/python3.10/site-packages/monai/transforms/utils.py:743: UserWarning: no available indices of class 2 to crop, setting the crop ratio of this class to zero.\n",
      "  warnings.warn(\n",
      "/opt/conda/lib/python3.10/site-packages/monai/transforms/utils.py:743: UserWarning: no available indices of class 7 to crop, setting the crop ratio of this class to zero.\n",
      "  warnings.warn(\n",
      "/opt/conda/lib/python3.10/site-packages/monai/transforms/utils.py:743: UserWarning: no available indices of class 7 to crop, setting the crop ratio of this class to zero.\n",
      "  warnings.warn(\n",
      "/opt/conda/lib/python3.10/site-packages/monai/transforms/utils.py:743: UserWarning: no available indices of class 2 to crop, setting the crop ratio of this class to zero.\n",
      "  warnings.warn(\n",
      "/opt/conda/lib/python3.10/site-packages/monai/transforms/utils.py:743: UserWarning: no available indices of class 7 to crop, setting the crop ratio of this class to zero.\n",
      "  warnings.warn(\n"
     ]
    },
    {
     "name": "stdout",
     "output_type": "stream",
     "text": [
      "batch 1/5, train_loss: 0.6828\n",
      "batch 2/5, train_loss: 0.7369\n",
      "batch 3/5, train_loss: 0.6650\n",
      "batch 4/5, train_loss: 0.6950\n",
      "batch 5/5, train_loss: 0.6829\n",
      "epoch 112 average loss: 0.6925\n"
     ]
    },
    {
     "name": "stderr",
     "output_type": "stream",
     "text": [
      "/opt/conda/lib/python3.10/site-packages/monai/transforms/utils.py:743: UserWarning: no available indices of class 2 to crop, setting the crop ratio of this class to zero.\n",
      "  warnings.warn(\n",
      "/opt/conda/lib/python3.10/site-packages/monai/transforms/utils.py:743: UserWarning: no available indices of class 7 to crop, setting the crop ratio of this class to zero.\n",
      "  warnings.warn(\n",
      "/opt/conda/lib/python3.10/site-packages/monai/transforms/utils.py:743: UserWarning: no available indices of class 2 to crop, setting the crop ratio of this class to zero.\n",
      "  warnings.warn(\n",
      "/opt/conda/lib/python3.10/site-packages/monai/transforms/utils.py:743: UserWarning: no available indices of class 7 to crop, setting the crop ratio of this class to zero.\n",
      "  warnings.warn(\n"
     ]
    },
    {
     "name": "stdout",
     "output_type": "stream",
     "text": [
      "current epoch: 112 current mean recall per class: 0.6786, 0, 0.1503, 0.5463, 0.3648, 0.6837, 0\n",
      "best mean recall: 0.3625 at epoch: 108\n",
      "----------\n",
      "epoch 113/200\n"
     ]
    },
    {
     "name": "stderr",
     "output_type": "stream",
     "text": [
      "/opt/conda/lib/python3.10/site-packages/monai/transforms/utils.py:743: UserWarning: no available indices of class 2 to crop, setting the crop ratio of this class to zero.\n",
      "  warnings.warn(\n",
      "/opt/conda/lib/python3.10/site-packages/monai/transforms/utils.py:743: UserWarning: no available indices of class 2 to crop, setting the crop ratio of this class to zero.\n",
      "  warnings.warn(\n",
      "/opt/conda/lib/python3.10/site-packages/monai/transforms/utils.py:743: UserWarning: no available indices of class 7 to crop, setting the crop ratio of this class to zero.\n",
      "  warnings.warn(\n",
      "/opt/conda/lib/python3.10/site-packages/monai/transforms/utils.py:743: UserWarning: no available indices of class 7 to crop, setting the crop ratio of this class to zero.\n",
      "  warnings.warn(\n",
      "/opt/conda/lib/python3.10/site-packages/monai/transforms/utils.py:743: UserWarning: no available indices of class 2 to crop, setting the crop ratio of this class to zero.\n",
      "  warnings.warn(\n",
      "/opt/conda/lib/python3.10/site-packages/monai/transforms/utils.py:743: UserWarning: no available indices of class 7 to crop, setting the crop ratio of this class to zero.\n",
      "  warnings.warn(\n",
      "/opt/conda/lib/python3.10/site-packages/monai/transforms/utils.py:743: UserWarning: no available indices of class 2 to crop, setting the crop ratio of this class to zero.\n",
      "  warnings.warn(\n",
      "/opt/conda/lib/python3.10/site-packages/monai/transforms/utils.py:743: UserWarning: no available indices of class 7 to crop, setting the crop ratio of this class to zero.\n",
      "  warnings.warn(\n"
     ]
    },
    {
     "name": "stdout",
     "output_type": "stream",
     "text": [
      "batch 1/5, train_loss: 0.7563\n",
      "batch 2/5, train_loss: 0.7119\n",
      "batch 3/5, train_loss: 0.7255\n",
      "batch 4/5, train_loss: 0.6818\n",
      "batch 5/5, train_loss: 0.6965\n",
      "epoch 113 average loss: 0.7144\n",
      "----------\n",
      "epoch 114/200\n"
     ]
    },
    {
     "name": "stderr",
     "output_type": "stream",
     "text": [
      "/opt/conda/lib/python3.10/site-packages/monai/transforms/utils.py:743: UserWarning: no available indices of class 2 to crop, setting the crop ratio of this class to zero.\n",
      "  warnings.warn(\n",
      "/opt/conda/lib/python3.10/site-packages/monai/transforms/utils.py:743: UserWarning: no available indices of class 7 to crop, setting the crop ratio of this class to zero.\n",
      "  warnings.warn(\n",
      "/opt/conda/lib/python3.10/site-packages/monai/transforms/utils.py:743: UserWarning: no available indices of class 2 to crop, setting the crop ratio of this class to zero.\n",
      "  warnings.warn(\n",
      "/opt/conda/lib/python3.10/site-packages/monai/transforms/utils.py:743: UserWarning: no available indices of class 7 to crop, setting the crop ratio of this class to zero.\n",
      "  warnings.warn(\n",
      "/opt/conda/lib/python3.10/site-packages/monai/transforms/utils.py:743: UserWarning: no available indices of class 2 to crop, setting the crop ratio of this class to zero.\n",
      "  warnings.warn(\n",
      "/opt/conda/lib/python3.10/site-packages/monai/transforms/utils.py:743: UserWarning: no available indices of class 2 to crop, setting the crop ratio of this class to zero.\n",
      "  warnings.warn(\n",
      "/opt/conda/lib/python3.10/site-packages/monai/transforms/utils.py:743: UserWarning: no available indices of class 7 to crop, setting the crop ratio of this class to zero.\n",
      "  warnings.warn(\n",
      "/opt/conda/lib/python3.10/site-packages/monai/transforms/utils.py:743: UserWarning: no available indices of class 7 to crop, setting the crop ratio of this class to zero.\n",
      "  warnings.warn(\n"
     ]
    },
    {
     "name": "stdout",
     "output_type": "stream",
     "text": [
      "batch 1/5, train_loss: 0.6907\n",
      "batch 2/5, train_loss: 0.6977\n",
      "batch 3/5, train_loss: 0.7222\n",
      "batch 4/5, train_loss: 0.6814\n",
      "batch 5/5, train_loss: 0.7015\n",
      "epoch 114 average loss: 0.6987\n"
     ]
    },
    {
     "name": "stderr",
     "output_type": "stream",
     "text": [
      "/opt/conda/lib/python3.10/site-packages/monai/transforms/utils.py:743: UserWarning: no available indices of class 2 to crop, setting the crop ratio of this class to zero.\n",
      "  warnings.warn(\n",
      "/opt/conda/lib/python3.10/site-packages/monai/transforms/utils.py:743: UserWarning: no available indices of class 2 to crop, setting the crop ratio of this class to zero.\n",
      "  warnings.warn(\n",
      "/opt/conda/lib/python3.10/site-packages/monai/transforms/utils.py:743: UserWarning: no available indices of class 7 to crop, setting the crop ratio of this class to zero.\n",
      "  warnings.warn(\n",
      "/opt/conda/lib/python3.10/site-packages/monai/transforms/utils.py:743: UserWarning: no available indices of class 7 to crop, setting the crop ratio of this class to zero.\n",
      "  warnings.warn(\n"
     ]
    },
    {
     "name": "stdout",
     "output_type": "stream",
     "text": [
      "current epoch: 114 current mean recall per class: 0.5493, 0, 0.2423, 0.471, 0.299, 0.6809, 0\n",
      "best mean recall: 0.3625 at epoch: 108\n",
      "----------\n",
      "epoch 115/200\n"
     ]
    },
    {
     "name": "stderr",
     "output_type": "stream",
     "text": [
      "/opt/conda/lib/python3.10/site-packages/monai/transforms/utils.py:743: UserWarning: no available indices of class 2 to crop, setting the crop ratio of this class to zero.\n",
      "  warnings.warn(\n",
      "/opt/conda/lib/python3.10/site-packages/monai/transforms/utils.py:743: UserWarning: no available indices of class 7 to crop, setting the crop ratio of this class to zero.\n",
      "  warnings.warn(\n",
      "/opt/conda/lib/python3.10/site-packages/monai/transforms/utils.py:743: UserWarning: no available indices of class 2 to crop, setting the crop ratio of this class to zero.\n",
      "  warnings.warn(\n",
      "/opt/conda/lib/python3.10/site-packages/monai/transforms/utils.py:743: UserWarning: no available indices of class 7 to crop, setting the crop ratio of this class to zero.\n",
      "  warnings.warn(\n",
      "/opt/conda/lib/python3.10/site-packages/monai/transforms/utils.py:743: UserWarning: no available indices of class 2 to crop, setting the crop ratio of this class to zero.\n",
      "  warnings.warn(\n",
      "/opt/conda/lib/python3.10/site-packages/monai/transforms/utils.py:743: UserWarning: no available indices of class 7 to crop, setting the crop ratio of this class to zero.\n",
      "  warnings.warn(\n",
      "/opt/conda/lib/python3.10/site-packages/monai/transforms/utils.py:743: UserWarning: no available indices of class 2 to crop, setting the crop ratio of this class to zero.\n",
      "  warnings.warn(\n",
      "/opt/conda/lib/python3.10/site-packages/monai/transforms/utils.py:743: UserWarning: no available indices of class 7 to crop, setting the crop ratio of this class to zero.\n",
      "  warnings.warn(\n"
     ]
    },
    {
     "name": "stdout",
     "output_type": "stream",
     "text": [
      "batch 1/5, train_loss: 0.6926\n",
      "batch 2/5, train_loss: 0.7146\n",
      "batch 3/5, train_loss: 0.6961\n",
      "batch 4/5, train_loss: 0.7192\n",
      "batch 5/5, train_loss: 0.7011\n",
      "epoch 115 average loss: 0.7047\n",
      "----------\n",
      "epoch 116/200\n"
     ]
    },
    {
     "name": "stderr",
     "output_type": "stream",
     "text": [
      "/opt/conda/lib/python3.10/site-packages/monai/transforms/utils.py:743: UserWarning: no available indices of class 2 to crop, setting the crop ratio of this class to zero.\n",
      "  warnings.warn(\n",
      "/opt/conda/lib/python3.10/site-packages/monai/transforms/utils.py:743: UserWarning: no available indices of class 7 to crop, setting the crop ratio of this class to zero.\n",
      "  warnings.warn(\n",
      "/opt/conda/lib/python3.10/site-packages/monai/transforms/utils.py:743: UserWarning: no available indices of class 2 to crop, setting the crop ratio of this class to zero.\n",
      "  warnings.warn(\n",
      "/opt/conda/lib/python3.10/site-packages/monai/transforms/utils.py:743: UserWarning: no available indices of class 7 to crop, setting the crop ratio of this class to zero.\n",
      "  warnings.warn(\n",
      "/opt/conda/lib/python3.10/site-packages/monai/transforms/utils.py:743: UserWarning: no available indices of class 2 to crop, setting the crop ratio of this class to zero.\n",
      "  warnings.warn(\n",
      "/opt/conda/lib/python3.10/site-packages/monai/transforms/utils.py:743: UserWarning: no available indices of class 7 to crop, setting the crop ratio of this class to zero.\n",
      "  warnings.warn(\n",
      "/opt/conda/lib/python3.10/site-packages/monai/transforms/utils.py:743: UserWarning: no available indices of class 2 to crop, setting the crop ratio of this class to zero.\n",
      "  warnings.warn(\n",
      "/opt/conda/lib/python3.10/site-packages/monai/transforms/utils.py:743: UserWarning: no available indices of class 7 to crop, setting the crop ratio of this class to zero.\n",
      "  warnings.warn(\n"
     ]
    },
    {
     "name": "stdout",
     "output_type": "stream",
     "text": [
      "batch 1/5, train_loss: 0.7406\n",
      "batch 2/5, train_loss: 0.6967\n",
      "batch 3/5, train_loss: 0.6946\n",
      "batch 4/5, train_loss: 0.7409\n",
      "batch 5/5, train_loss: 0.6875\n",
      "epoch 116 average loss: 0.7121\n"
     ]
    },
    {
     "name": "stderr",
     "output_type": "stream",
     "text": [
      "/opt/conda/lib/python3.10/site-packages/monai/transforms/utils.py:743: UserWarning: no available indices of class 2 to crop, setting the crop ratio of this class to zero.\n",
      "  warnings.warn(\n",
      "/opt/conda/lib/python3.10/site-packages/monai/transforms/utils.py:743: UserWarning: no available indices of class 7 to crop, setting the crop ratio of this class to zero.\n",
      "  warnings.warn(\n",
      "/opt/conda/lib/python3.10/site-packages/monai/transforms/utils.py:743: UserWarning: no available indices of class 2 to crop, setting the crop ratio of this class to zero.\n",
      "  warnings.warn(\n",
      "/opt/conda/lib/python3.10/site-packages/monai/transforms/utils.py:743: UserWarning: no available indices of class 7 to crop, setting the crop ratio of this class to zero.\n",
      "  warnings.warn(\n"
     ]
    },
    {
     "name": "stdout",
     "output_type": "stream",
     "text": [
      "saved new best metric model\n",
      "current epoch: 116 current mean recall per class: 0.6363, 0, 0.1965, 0.5409, 0.4284, 0.8112, 0\n",
      "best mean recall: 0.3733 at epoch: 116\n",
      "----------\n",
      "epoch 117/200\n"
     ]
    },
    {
     "name": "stderr",
     "output_type": "stream",
     "text": [
      "/opt/conda/lib/python3.10/site-packages/monai/transforms/utils.py:743: UserWarning: no available indices of class 2 to crop, setting the crop ratio of this class to zero.\n",
      "  warnings.warn(\n",
      "/opt/conda/lib/python3.10/site-packages/monai/transforms/utils.py:743: UserWarning: no available indices of class 7 to crop, setting the crop ratio of this class to zero.\n",
      "  warnings.warn(\n",
      "/opt/conda/lib/python3.10/site-packages/monai/transforms/utils.py:743: UserWarning: no available indices of class 2 to crop, setting the crop ratio of this class to zero.\n",
      "  warnings.warn(\n",
      "/opt/conda/lib/python3.10/site-packages/monai/transforms/utils.py:743: UserWarning: no available indices of class 7 to crop, setting the crop ratio of this class to zero.\n",
      "  warnings.warn(\n",
      "/opt/conda/lib/python3.10/site-packages/monai/transforms/utils.py:743: UserWarning: no available indices of class 2 to crop, setting the crop ratio of this class to zero.\n",
      "  warnings.warn(\n",
      "/opt/conda/lib/python3.10/site-packages/monai/transforms/utils.py:743: UserWarning: no available indices of class 7 to crop, setting the crop ratio of this class to zero.\n",
      "  warnings.warn(\n",
      "/opt/conda/lib/python3.10/site-packages/monai/transforms/utils.py:743: UserWarning: no available indices of class 2 to crop, setting the crop ratio of this class to zero.\n",
      "  warnings.warn(\n",
      "/opt/conda/lib/python3.10/site-packages/monai/transforms/utils.py:743: UserWarning: no available indices of class 7 to crop, setting the crop ratio of this class to zero.\n",
      "  warnings.warn(\n"
     ]
    },
    {
     "name": "stdout",
     "output_type": "stream",
     "text": [
      "batch 1/5, train_loss: 0.7030\n",
      "batch 2/5, train_loss: 0.7316\n",
      "batch 3/5, train_loss: 0.7007\n",
      "batch 4/5, train_loss: 0.7242\n",
      "batch 5/5, train_loss: 0.7095\n",
      "epoch 117 average loss: 0.7138\n",
      "----------\n",
      "epoch 118/200\n"
     ]
    },
    {
     "name": "stderr",
     "output_type": "stream",
     "text": [
      "/opt/conda/lib/python3.10/site-packages/monai/transforms/utils.py:743: UserWarning: no available indices of class 2 to crop, setting the crop ratio of this class to zero.\n",
      "  warnings.warn(\n",
      "/opt/conda/lib/python3.10/site-packages/monai/transforms/utils.py:743: UserWarning: no available indices of class 7 to crop, setting the crop ratio of this class to zero.\n",
      "  warnings.warn(\n",
      "/opt/conda/lib/python3.10/site-packages/monai/transforms/utils.py:743: UserWarning: no available indices of class 2 to crop, setting the crop ratio of this class to zero.\n",
      "  warnings.warn(\n",
      "/opt/conda/lib/python3.10/site-packages/monai/transforms/utils.py:743: UserWarning: no available indices of class 7 to crop, setting the crop ratio of this class to zero.\n",
      "  warnings.warn(\n",
      "/opt/conda/lib/python3.10/site-packages/monai/transforms/utils.py:743: UserWarning: no available indices of class 2 to crop, setting the crop ratio of this class to zero.\n",
      "  warnings.warn(\n",
      "/opt/conda/lib/python3.10/site-packages/monai/transforms/utils.py:743: UserWarning: no available indices of class 7 to crop, setting the crop ratio of this class to zero.\n",
      "  warnings.warn(\n",
      "/opt/conda/lib/python3.10/site-packages/monai/transforms/utils.py:743: UserWarning: no available indices of class 2 to crop, setting the crop ratio of this class to zero.\n",
      "  warnings.warn(\n",
      "/opt/conda/lib/python3.10/site-packages/monai/transforms/utils.py:743: UserWarning: no available indices of class 7 to crop, setting the crop ratio of this class to zero.\n",
      "  warnings.warn(\n"
     ]
    },
    {
     "name": "stdout",
     "output_type": "stream",
     "text": [
      "batch 1/5, train_loss: 0.7134\n",
      "batch 2/5, train_loss: 0.7194\n",
      "batch 3/5, train_loss: 0.6774\n",
      "batch 4/5, train_loss: 0.7083\n",
      "batch 5/5, train_loss: 0.7416\n",
      "epoch 118 average loss: 0.7120\n"
     ]
    },
    {
     "name": "stderr",
     "output_type": "stream",
     "text": [
      "/opt/conda/lib/python3.10/site-packages/monai/transforms/utils.py:743: UserWarning: no available indices of class 2 to crop, setting the crop ratio of this class to zero.\n",
      "  warnings.warn(\n",
      "/opt/conda/lib/python3.10/site-packages/monai/transforms/utils.py:743: UserWarning: no available indices of class 7 to crop, setting the crop ratio of this class to zero.\n",
      "  warnings.warn(\n",
      "/opt/conda/lib/python3.10/site-packages/monai/transforms/utils.py:743: UserWarning: no available indices of class 2 to crop, setting the crop ratio of this class to zero.\n",
      "  warnings.warn(\n",
      "/opt/conda/lib/python3.10/site-packages/monai/transforms/utils.py:743: UserWarning: no available indices of class 7 to crop, setting the crop ratio of this class to zero.\n",
      "  warnings.warn(\n"
     ]
    },
    {
     "name": "stdout",
     "output_type": "stream",
     "text": [
      "current epoch: 118 current mean recall per class: 0.5408, 0, 0.2185, 0.5101, 0.3528, 0.7622, 0\n",
      "best mean recall: 0.3733 at epoch: 116\n",
      "----------\n",
      "epoch 119/200\n"
     ]
    },
    {
     "name": "stderr",
     "output_type": "stream",
     "text": [
      "/opt/conda/lib/python3.10/site-packages/monai/transforms/utils.py:743: UserWarning: no available indices of class 2 to crop, setting the crop ratio of this class to zero.\n",
      "  warnings.warn(\n",
      "/opt/conda/lib/python3.10/site-packages/monai/transforms/utils.py:743: UserWarning: no available indices of class 2 to crop, setting the crop ratio of this class to zero.\n",
      "  warnings.warn(\n",
      "/opt/conda/lib/python3.10/site-packages/monai/transforms/utils.py:743: UserWarning: no available indices of class 7 to crop, setting the crop ratio of this class to zero.\n",
      "  warnings.warn(\n",
      "/opt/conda/lib/python3.10/site-packages/monai/transforms/utils.py:743: UserWarning: no available indices of class 7 to crop, setting the crop ratio of this class to zero.\n",
      "  warnings.warn(\n",
      "/opt/conda/lib/python3.10/site-packages/monai/transforms/utils.py:743: UserWarning: no available indices of class 2 to crop, setting the crop ratio of this class to zero.\n",
      "  warnings.warn(\n",
      "/opt/conda/lib/python3.10/site-packages/monai/transforms/utils.py:743: UserWarning: no available indices of class 7 to crop, setting the crop ratio of this class to zero.\n",
      "  warnings.warn(\n",
      "/opt/conda/lib/python3.10/site-packages/monai/transforms/utils.py:743: UserWarning: no available indices of class 2 to crop, setting the crop ratio of this class to zero.\n",
      "  warnings.warn(\n",
      "/opt/conda/lib/python3.10/site-packages/monai/transforms/utils.py:743: UserWarning: no available indices of class 7 to crop, setting the crop ratio of this class to zero.\n",
      "  warnings.warn(\n"
     ]
    },
    {
     "name": "stdout",
     "output_type": "stream",
     "text": [
      "batch 1/5, train_loss: 0.6850\n",
      "batch 2/5, train_loss: 0.7207\n",
      "batch 3/5, train_loss: 0.7143\n",
      "batch 4/5, train_loss: 0.6898\n",
      "batch 5/5, train_loss: 0.7248\n",
      "epoch 119 average loss: 0.7069\n",
      "----------\n",
      "epoch 120/200\n"
     ]
    },
    {
     "name": "stderr",
     "output_type": "stream",
     "text": [
      "/opt/conda/lib/python3.10/site-packages/monai/transforms/utils.py:743: UserWarning: no available indices of class 2 to crop, setting the crop ratio of this class to zero.\n",
      "  warnings.warn(\n",
      "/opt/conda/lib/python3.10/site-packages/monai/transforms/utils.py:743: UserWarning: no available indices of class 7 to crop, setting the crop ratio of this class to zero.\n",
      "  warnings.warn(\n",
      "/opt/conda/lib/python3.10/site-packages/monai/transforms/utils.py:743: UserWarning: no available indices of class 2 to crop, setting the crop ratio of this class to zero.\n",
      "  warnings.warn(\n",
      "/opt/conda/lib/python3.10/site-packages/monai/transforms/utils.py:743: UserWarning: no available indices of class 7 to crop, setting the crop ratio of this class to zero.\n",
      "  warnings.warn(\n",
      "/opt/conda/lib/python3.10/site-packages/monai/transforms/utils.py:743: UserWarning: no available indices of class 2 to crop, setting the crop ratio of this class to zero.\n",
      "  warnings.warn(\n",
      "/opt/conda/lib/python3.10/site-packages/monai/transforms/utils.py:743: UserWarning: no available indices of class 7 to crop, setting the crop ratio of this class to zero.\n",
      "  warnings.warn(\n",
      "/opt/conda/lib/python3.10/site-packages/monai/transforms/utils.py:743: UserWarning: no available indices of class 2 to crop, setting the crop ratio of this class to zero.\n",
      "  warnings.warn(\n",
      "/opt/conda/lib/python3.10/site-packages/monai/transforms/utils.py:743: UserWarning: no available indices of class 7 to crop, setting the crop ratio of this class to zero.\n",
      "  warnings.warn(\n"
     ]
    },
    {
     "name": "stdout",
     "output_type": "stream",
     "text": [
      "batch 1/5, train_loss: 0.6789\n",
      "batch 2/5, train_loss: 0.7167\n",
      "batch 3/5, train_loss: 0.7130\n",
      "batch 4/5, train_loss: 0.6685\n",
      "batch 5/5, train_loss: 0.7338\n",
      "epoch 120 average loss: 0.7022\n"
     ]
    },
    {
     "name": "stderr",
     "output_type": "stream",
     "text": [
      "/opt/conda/lib/python3.10/site-packages/monai/transforms/utils.py:743: UserWarning: no available indices of class 2 to crop, setting the crop ratio of this class to zero.\n",
      "  warnings.warn(\n",
      "/opt/conda/lib/python3.10/site-packages/monai/transforms/utils.py:743: UserWarning: no available indices of class 7 to crop, setting the crop ratio of this class to zero.\n",
      "  warnings.warn(\n",
      "/opt/conda/lib/python3.10/site-packages/monai/transforms/utils.py:743: UserWarning: no available indices of class 2 to crop, setting the crop ratio of this class to zero.\n",
      "  warnings.warn(\n",
      "/opt/conda/lib/python3.10/site-packages/monai/transforms/utils.py:743: UserWarning: no available indices of class 7 to crop, setting the crop ratio of this class to zero.\n",
      "  warnings.warn(\n"
     ]
    },
    {
     "name": "stdout",
     "output_type": "stream",
     "text": [
      "current epoch: 120 current mean recall per class: 0.4495, 0, 0.2357, 0.6038, 0.443, 0.7619, 0\n",
      "best mean recall: 0.3733 at epoch: 116\n",
      "----------\n",
      "epoch 121/200\n"
     ]
    },
    {
     "name": "stderr",
     "output_type": "stream",
     "text": [
      "/opt/conda/lib/python3.10/site-packages/monai/transforms/utils.py:743: UserWarning: no available indices of class 2 to crop, setting the crop ratio of this class to zero.\n",
      "  warnings.warn(\n",
      "/opt/conda/lib/python3.10/site-packages/monai/transforms/utils.py:743: UserWarning: no available indices of class 7 to crop, setting the crop ratio of this class to zero.\n",
      "  warnings.warn(\n",
      "/opt/conda/lib/python3.10/site-packages/monai/transforms/utils.py:743: UserWarning: no available indices of class 2 to crop, setting the crop ratio of this class to zero.\n",
      "  warnings.warn(\n",
      "/opt/conda/lib/python3.10/site-packages/monai/transforms/utils.py:743: UserWarning: no available indices of class 7 to crop, setting the crop ratio of this class to zero.\n",
      "  warnings.warn(\n",
      "/opt/conda/lib/python3.10/site-packages/monai/transforms/utils.py:743: UserWarning: no available indices of class 2 to crop, setting the crop ratio of this class to zero.\n",
      "  warnings.warn(\n",
      "/opt/conda/lib/python3.10/site-packages/monai/transforms/utils.py:743: UserWarning: no available indices of class 7 to crop, setting the crop ratio of this class to zero.\n",
      "  warnings.warn(\n",
      "/opt/conda/lib/python3.10/site-packages/monai/transforms/utils.py:743: UserWarning: no available indices of class 2 to crop, setting the crop ratio of this class to zero.\n",
      "  warnings.warn(\n",
      "/opt/conda/lib/python3.10/site-packages/monai/transforms/utils.py:743: UserWarning: no available indices of class 7 to crop, setting the crop ratio of this class to zero.\n",
      "  warnings.warn(\n"
     ]
    },
    {
     "name": "stdout",
     "output_type": "stream",
     "text": [
      "batch 1/5, train_loss: 0.7370\n",
      "batch 2/5, train_loss: 0.7218\n",
      "batch 3/5, train_loss: 0.6874\n",
      "batch 4/5, train_loss: 0.7109\n",
      "batch 5/5, train_loss: 0.7502\n",
      "epoch 121 average loss: 0.7214\n",
      "----------\n",
      "epoch 122/200\n"
     ]
    },
    {
     "name": "stderr",
     "output_type": "stream",
     "text": [
      "/opt/conda/lib/python3.10/site-packages/monai/transforms/utils.py:743: UserWarning: no available indices of class 2 to crop, setting the crop ratio of this class to zero.\n",
      "  warnings.warn(\n",
      "/opt/conda/lib/python3.10/site-packages/monai/transforms/utils.py:743: UserWarning: no available indices of class 2 to crop, setting the crop ratio of this class to zero.\n",
      "  warnings.warn(\n",
      "/opt/conda/lib/python3.10/site-packages/monai/transforms/utils.py:743: UserWarning: no available indices of class 7 to crop, setting the crop ratio of this class to zero.\n",
      "  warnings.warn(\n",
      "/opt/conda/lib/python3.10/site-packages/monai/transforms/utils.py:743: UserWarning: no available indices of class 7 to crop, setting the crop ratio of this class to zero.\n",
      "  warnings.warn(\n",
      "/opt/conda/lib/python3.10/site-packages/monai/transforms/utils.py:743: UserWarning: no available indices of class 2 to crop, setting the crop ratio of this class to zero.\n",
      "  warnings.warn(\n",
      "/opt/conda/lib/python3.10/site-packages/monai/transforms/utils.py:743: UserWarning: no available indices of class 7 to crop, setting the crop ratio of this class to zero.\n",
      "  warnings.warn(\n",
      "/opt/conda/lib/python3.10/site-packages/monai/transforms/utils.py:743: UserWarning: no available indices of class 2 to crop, setting the crop ratio of this class to zero.\n",
      "  warnings.warn(\n",
      "/opt/conda/lib/python3.10/site-packages/monai/transforms/utils.py:743: UserWarning: no available indices of class 7 to crop, setting the crop ratio of this class to zero.\n",
      "  warnings.warn(\n"
     ]
    },
    {
     "name": "stdout",
     "output_type": "stream",
     "text": [
      "batch 1/5, train_loss: 0.7436\n",
      "batch 2/5, train_loss: 0.7019\n",
      "batch 3/5, train_loss: 0.7214\n",
      "batch 4/5, train_loss: 0.6992\n",
      "batch 5/5, train_loss: 0.6962\n",
      "epoch 122 average loss: 0.7125\n"
     ]
    },
    {
     "name": "stderr",
     "output_type": "stream",
     "text": [
      "/opt/conda/lib/python3.10/site-packages/monai/transforms/utils.py:743: UserWarning: no available indices of class 2 to crop, setting the crop ratio of this class to zero.\n",
      "  warnings.warn(\n",
      "/opt/conda/lib/python3.10/site-packages/monai/transforms/utils.py:743: UserWarning: no available indices of class 7 to crop, setting the crop ratio of this class to zero.\n",
      "  warnings.warn(\n",
      "/opt/conda/lib/python3.10/site-packages/monai/transforms/utils.py:743: UserWarning: no available indices of class 2 to crop, setting the crop ratio of this class to zero.\n",
      "  warnings.warn(\n",
      "/opt/conda/lib/python3.10/site-packages/monai/transforms/utils.py:743: UserWarning: no available indices of class 7 to crop, setting the crop ratio of this class to zero.\n",
      "  warnings.warn(\n"
     ]
    },
    {
     "name": "stdout",
     "output_type": "stream",
     "text": [
      "current epoch: 122 current mean recall per class: 0.7208, 0, 0.2352, 0.426, 0.3441, 0.7118, 0\n",
      "best mean recall: 0.3733 at epoch: 116\n",
      "----------\n",
      "epoch 123/200\n"
     ]
    },
    {
     "name": "stderr",
     "output_type": "stream",
     "text": [
      "/opt/conda/lib/python3.10/site-packages/monai/transforms/utils.py:743: UserWarning: no available indices of class 2 to crop, setting the crop ratio of this class to zero.\n",
      "  warnings.warn(\n",
      "/opt/conda/lib/python3.10/site-packages/monai/transforms/utils.py:743: UserWarning: no available indices of class 7 to crop, setting the crop ratio of this class to zero.\n",
      "  warnings.warn(\n",
      "/opt/conda/lib/python3.10/site-packages/monai/transforms/utils.py:743: UserWarning: no available indices of class 2 to crop, setting the crop ratio of this class to zero.\n",
      "  warnings.warn(\n",
      "/opt/conda/lib/python3.10/site-packages/monai/transforms/utils.py:743: UserWarning: no available indices of class 7 to crop, setting the crop ratio of this class to zero.\n",
      "  warnings.warn(\n",
      "/opt/conda/lib/python3.10/site-packages/monai/transforms/utils.py:743: UserWarning: no available indices of class 2 to crop, setting the crop ratio of this class to zero.\n",
      "  warnings.warn(\n",
      "/opt/conda/lib/python3.10/site-packages/monai/transforms/utils.py:743: UserWarning: no available indices of class 2 to crop, setting the crop ratio of this class to zero.\n",
      "  warnings.warn(\n",
      "/opt/conda/lib/python3.10/site-packages/monai/transforms/utils.py:743: UserWarning: no available indices of class 7 to crop, setting the crop ratio of this class to zero.\n",
      "  warnings.warn(\n",
      "/opt/conda/lib/python3.10/site-packages/monai/transforms/utils.py:743: UserWarning: no available indices of class 7 to crop, setting the crop ratio of this class to zero.\n",
      "  warnings.warn(\n"
     ]
    },
    {
     "name": "stdout",
     "output_type": "stream",
     "text": [
      "batch 1/5, train_loss: 0.6599\n",
      "batch 2/5, train_loss: 0.7008\n",
      "batch 3/5, train_loss: 0.6868\n",
      "batch 4/5, train_loss: 0.7038\n",
      "batch 5/5, train_loss: 0.7121\n",
      "epoch 123 average loss: 0.6927\n",
      "----------\n",
      "epoch 124/200\n"
     ]
    },
    {
     "name": "stderr",
     "output_type": "stream",
     "text": [
      "/opt/conda/lib/python3.10/site-packages/monai/transforms/utils.py:743: UserWarning: no available indices of class 2 to crop, setting the crop ratio of this class to zero.\n",
      "  warnings.warn(\n",
      "/opt/conda/lib/python3.10/site-packages/monai/transforms/utils.py:743: UserWarning: no available indices of class 7 to crop, setting the crop ratio of this class to zero.\n",
      "  warnings.warn(\n",
      "/opt/conda/lib/python3.10/site-packages/monai/transforms/utils.py:743: UserWarning: no available indices of class 2 to crop, setting the crop ratio of this class to zero.\n",
      "  warnings.warn(\n",
      "/opt/conda/lib/python3.10/site-packages/monai/transforms/utils.py:743: UserWarning: no available indices of class 7 to crop, setting the crop ratio of this class to zero.\n",
      "  warnings.warn(\n",
      "/opt/conda/lib/python3.10/site-packages/monai/transforms/utils.py:743: UserWarning: no available indices of class 2 to crop, setting the crop ratio of this class to zero.\n",
      "  warnings.warn(\n",
      "/opt/conda/lib/python3.10/site-packages/monai/transforms/utils.py:743: UserWarning: no available indices of class 7 to crop, setting the crop ratio of this class to zero.\n",
      "  warnings.warn(\n",
      "/opt/conda/lib/python3.10/site-packages/monai/transforms/utils.py:743: UserWarning: no available indices of class 2 to crop, setting the crop ratio of this class to zero.\n",
      "  warnings.warn(\n",
      "/opt/conda/lib/python3.10/site-packages/monai/transforms/utils.py:743: UserWarning: no available indices of class 7 to crop, setting the crop ratio of this class to zero.\n",
      "  warnings.warn(\n"
     ]
    },
    {
     "name": "stdout",
     "output_type": "stream",
     "text": [
      "batch 1/5, train_loss: 0.7310\n",
      "batch 2/5, train_loss: 0.6855\n",
      "batch 3/5, train_loss: 0.7130\n",
      "batch 4/5, train_loss: 0.7283\n",
      "batch 5/5, train_loss: 0.6981\n",
      "epoch 124 average loss: 0.7112\n"
     ]
    },
    {
     "name": "stderr",
     "output_type": "stream",
     "text": [
      "/opt/conda/lib/python3.10/site-packages/monai/transforms/utils.py:743: UserWarning: no available indices of class 2 to crop, setting the crop ratio of this class to zero.\n",
      "  warnings.warn(\n",
      "/opt/conda/lib/python3.10/site-packages/monai/transforms/utils.py:743: UserWarning: no available indices of class 7 to crop, setting the crop ratio of this class to zero.\n",
      "  warnings.warn(\n",
      "/opt/conda/lib/python3.10/site-packages/monai/transforms/utils.py:743: UserWarning: no available indices of class 2 to crop, setting the crop ratio of this class to zero.\n",
      "  warnings.warn(\n",
      "/opt/conda/lib/python3.10/site-packages/monai/transforms/utils.py:743: UserWarning: no available indices of class 7 to crop, setting the crop ratio of this class to zero.\n",
      "  warnings.warn(\n"
     ]
    },
    {
     "name": "stdout",
     "output_type": "stream",
     "text": [
      "current epoch: 124 current mean recall per class: 0.655, 0, 0.1441, 0.5706, 0.3718, 0.7504, 0\n",
      "best mean recall: 0.3733 at epoch: 116\n",
      "----------\n",
      "epoch 125/200\n"
     ]
    },
    {
     "name": "stderr",
     "output_type": "stream",
     "text": [
      "/opt/conda/lib/python3.10/site-packages/monai/transforms/utils.py:743: UserWarning: no available indices of class 2 to crop, setting the crop ratio of this class to zero.\n",
      "  warnings.warn(\n",
      "/opt/conda/lib/python3.10/site-packages/monai/transforms/utils.py:743: UserWarning: no available indices of class 7 to crop, setting the crop ratio of this class to zero.\n",
      "  warnings.warn(\n",
      "/opt/conda/lib/python3.10/site-packages/monai/transforms/utils.py:743: UserWarning: no available indices of class 2 to crop, setting the crop ratio of this class to zero.\n",
      "  warnings.warn(\n",
      "/opt/conda/lib/python3.10/site-packages/monai/transforms/utils.py:743: UserWarning: no available indices of class 7 to crop, setting the crop ratio of this class to zero.\n",
      "  warnings.warn(\n",
      "/opt/conda/lib/python3.10/site-packages/monai/transforms/utils.py:743: UserWarning: no available indices of class 2 to crop, setting the crop ratio of this class to zero.\n",
      "  warnings.warn(\n",
      "/opt/conda/lib/python3.10/site-packages/monai/transforms/utils.py:743: UserWarning: no available indices of class 2 to crop, setting the crop ratio of this class to zero.\n",
      "  warnings.warn(\n",
      "/opt/conda/lib/python3.10/site-packages/monai/transforms/utils.py:743: UserWarning: no available indices of class 7 to crop, setting the crop ratio of this class to zero.\n",
      "  warnings.warn(\n",
      "/opt/conda/lib/python3.10/site-packages/monai/transforms/utils.py:743: UserWarning: no available indices of class 7 to crop, setting the crop ratio of this class to zero.\n",
      "  warnings.warn(\n"
     ]
    },
    {
     "name": "stdout",
     "output_type": "stream",
     "text": [
      "batch 1/5, train_loss: 0.6977\n",
      "batch 2/5, train_loss: 0.7374\n",
      "batch 3/5, train_loss: 0.6525\n",
      "batch 4/5, train_loss: 0.7145\n",
      "batch 5/5, train_loss: 0.6753\n",
      "epoch 125 average loss: 0.6955\n",
      "----------\n",
      "epoch 126/200\n"
     ]
    },
    {
     "name": "stderr",
     "output_type": "stream",
     "text": [
      "/opt/conda/lib/python3.10/site-packages/monai/transforms/utils.py:743: UserWarning: no available indices of class 2 to crop, setting the crop ratio of this class to zero.\n",
      "  warnings.warn(\n",
      "/opt/conda/lib/python3.10/site-packages/monai/transforms/utils.py:743: UserWarning: no available indices of class 7 to crop, setting the crop ratio of this class to zero.\n",
      "  warnings.warn(\n",
      "/opt/conda/lib/python3.10/site-packages/monai/transforms/utils.py:743: UserWarning: no available indices of class 2 to crop, setting the crop ratio of this class to zero.\n",
      "  warnings.warn(\n",
      "/opt/conda/lib/python3.10/site-packages/monai/transforms/utils.py:743: UserWarning: no available indices of class 7 to crop, setting the crop ratio of this class to zero.\n",
      "  warnings.warn(\n",
      "/opt/conda/lib/python3.10/site-packages/monai/transforms/utils.py:743: UserWarning: no available indices of class 2 to crop, setting the crop ratio of this class to zero.\n",
      "  warnings.warn(\n",
      "/opt/conda/lib/python3.10/site-packages/monai/transforms/utils.py:743: UserWarning: no available indices of class 7 to crop, setting the crop ratio of this class to zero.\n",
      "  warnings.warn(\n",
      "/opt/conda/lib/python3.10/site-packages/monai/transforms/utils.py:743: UserWarning: no available indices of class 2 to crop, setting the crop ratio of this class to zero.\n",
      "  warnings.warn(\n",
      "/opt/conda/lib/python3.10/site-packages/monai/transforms/utils.py:743: UserWarning: no available indices of class 7 to crop, setting the crop ratio of this class to zero.\n",
      "  warnings.warn(\n"
     ]
    },
    {
     "name": "stdout",
     "output_type": "stream",
     "text": [
      "batch 1/5, train_loss: 0.6409\n",
      "batch 2/5, train_loss: 0.6880\n",
      "batch 3/5, train_loss: 0.6866\n",
      "batch 4/5, train_loss: 0.7000\n",
      "batch 5/5, train_loss: 0.7541\n",
      "epoch 126 average loss: 0.6939\n"
     ]
    },
    {
     "name": "stderr",
     "output_type": "stream",
     "text": [
      "/opt/conda/lib/python3.10/site-packages/monai/transforms/utils.py:743: UserWarning: no available indices of class 2 to crop, setting the crop ratio of this class to zero.\n",
      "  warnings.warn(\n",
      "/opt/conda/lib/python3.10/site-packages/monai/transforms/utils.py:743: UserWarning: no available indices of class 2 to crop, setting the crop ratio of this class to zero.\n",
      "  warnings.warn(\n",
      "/opt/conda/lib/python3.10/site-packages/monai/transforms/utils.py:743: UserWarning: no available indices of class 7 to crop, setting the crop ratio of this class to zero.\n",
      "  warnings.warn(\n",
      "/opt/conda/lib/python3.10/site-packages/monai/transforms/utils.py:743: UserWarning: no available indices of class 7 to crop, setting the crop ratio of this class to zero.\n",
      "  warnings.warn(\n"
     ]
    },
    {
     "name": "stdout",
     "output_type": "stream",
     "text": [
      "current epoch: 126 current mean recall per class: 0.7182, 0, 0.1713, 0.5595, 0.4158, 0.7342, 0\n",
      "best mean recall: 0.3733 at epoch: 116\n",
      "----------\n",
      "epoch 127/200\n"
     ]
    },
    {
     "name": "stderr",
     "output_type": "stream",
     "text": [
      "/opt/conda/lib/python3.10/site-packages/monai/transforms/utils.py:743: UserWarning: no available indices of class 2 to crop, setting the crop ratio of this class to zero.\n",
      "  warnings.warn(\n",
      "/opt/conda/lib/python3.10/site-packages/monai/transforms/utils.py:743: UserWarning: no available indices of class 7 to crop, setting the crop ratio of this class to zero.\n",
      "  warnings.warn(\n",
      "/opt/conda/lib/python3.10/site-packages/monai/transforms/utils.py:743: UserWarning: no available indices of class 2 to crop, setting the crop ratio of this class to zero.\n",
      "  warnings.warn(\n",
      "/opt/conda/lib/python3.10/site-packages/monai/transforms/utils.py:743: UserWarning: no available indices of class 7 to crop, setting the crop ratio of this class to zero.\n",
      "  warnings.warn(\n",
      "/opt/conda/lib/python3.10/site-packages/monai/transforms/utils.py:743: UserWarning: no available indices of class 2 to crop, setting the crop ratio of this class to zero.\n",
      "  warnings.warn(\n",
      "/opt/conda/lib/python3.10/site-packages/monai/transforms/utils.py:743: UserWarning: no available indices of class 7 to crop, setting the crop ratio of this class to zero.\n",
      "  warnings.warn(\n",
      "/opt/conda/lib/python3.10/site-packages/monai/transforms/utils.py:743: UserWarning: no available indices of class 2 to crop, setting the crop ratio of this class to zero.\n",
      "  warnings.warn(\n",
      "/opt/conda/lib/python3.10/site-packages/monai/transforms/utils.py:743: UserWarning: no available indices of class 7 to crop, setting the crop ratio of this class to zero.\n",
      "  warnings.warn(\n"
     ]
    },
    {
     "name": "stdout",
     "output_type": "stream",
     "text": [
      "batch 1/5, train_loss: 0.7419\n",
      "batch 2/5, train_loss: 0.7061\n",
      "batch 3/5, train_loss: 0.7132\n",
      "batch 4/5, train_loss: 0.6833\n",
      "batch 5/5, train_loss: 0.6923\n",
      "epoch 127 average loss: 0.7073\n",
      "----------\n",
      "epoch 128/200\n"
     ]
    },
    {
     "name": "stderr",
     "output_type": "stream",
     "text": [
      "/opt/conda/lib/python3.10/site-packages/monai/transforms/utils.py:743: UserWarning: no available indices of class 2 to crop, setting the crop ratio of this class to zero.\n",
      "  warnings.warn(\n",
      "/opt/conda/lib/python3.10/site-packages/monai/transforms/utils.py:743: UserWarning: no available indices of class 7 to crop, setting the crop ratio of this class to zero.\n",
      "  warnings.warn(\n",
      "/opt/conda/lib/python3.10/site-packages/monai/transforms/utils.py:743: UserWarning: no available indices of class 2 to crop, setting the crop ratio of this class to zero.\n",
      "  warnings.warn(\n",
      "/opt/conda/lib/python3.10/site-packages/monai/transforms/utils.py:743: UserWarning: no available indices of class 7 to crop, setting the crop ratio of this class to zero.\n",
      "  warnings.warn(\n",
      "/opt/conda/lib/python3.10/site-packages/monai/transforms/utils.py:743: UserWarning: no available indices of class 2 to crop, setting the crop ratio of this class to zero.\n",
      "  warnings.warn(\n",
      "/opt/conda/lib/python3.10/site-packages/monai/transforms/utils.py:743: UserWarning: no available indices of class 7 to crop, setting the crop ratio of this class to zero.\n",
      "  warnings.warn(\n",
      "/opt/conda/lib/python3.10/site-packages/monai/transforms/utils.py:743: UserWarning: no available indices of class 2 to crop, setting the crop ratio of this class to zero.\n",
      "  warnings.warn(\n",
      "/opt/conda/lib/python3.10/site-packages/monai/transforms/utils.py:743: UserWarning: no available indices of class 7 to crop, setting the crop ratio of this class to zero.\n",
      "  warnings.warn(\n"
     ]
    },
    {
     "name": "stdout",
     "output_type": "stream",
     "text": [
      "batch 1/5, train_loss: 0.6977\n",
      "batch 2/5, train_loss: 0.7034\n",
      "batch 3/5, train_loss: 0.6863\n",
      "batch 4/5, train_loss: 0.7516\n",
      "batch 5/5, train_loss: 0.6518\n",
      "epoch 128 average loss: 0.6981\n"
     ]
    },
    {
     "name": "stderr",
     "output_type": "stream",
     "text": [
      "/opt/conda/lib/python3.10/site-packages/monai/transforms/utils.py:743: UserWarning: no available indices of class 2 to crop, setting the crop ratio of this class to zero.\n",
      "  warnings.warn(\n",
      "/opt/conda/lib/python3.10/site-packages/monai/transforms/utils.py:743: UserWarning: no available indices of class 7 to crop, setting the crop ratio of this class to zero.\n",
      "  warnings.warn(\n",
      "/opt/conda/lib/python3.10/site-packages/monai/transforms/utils.py:743: UserWarning: no available indices of class 2 to crop, setting the crop ratio of this class to zero.\n",
      "  warnings.warn(\n",
      "/opt/conda/lib/python3.10/site-packages/monai/transforms/utils.py:743: UserWarning: no available indices of class 7 to crop, setting the crop ratio of this class to zero.\n",
      "  warnings.warn(\n"
     ]
    },
    {
     "name": "stdout",
     "output_type": "stream",
     "text": [
      "saved new best metric model\n",
      "current epoch: 128 current mean recall per class: 0.6721, 0, 0.2466, 0.6005, 0.4062, 0.7753, 0\n",
      "best mean recall: 0.3858 at epoch: 128\n",
      "----------\n",
      "epoch 129/200\n"
     ]
    },
    {
     "name": "stderr",
     "output_type": "stream",
     "text": [
      "/opt/conda/lib/python3.10/site-packages/monai/transforms/utils.py:743: UserWarning: no available indices of class 2 to crop, setting the crop ratio of this class to zero.\n",
      "  warnings.warn(\n",
      "/opt/conda/lib/python3.10/site-packages/monai/transforms/utils.py:743: UserWarning: no available indices of class 7 to crop, setting the crop ratio of this class to zero.\n",
      "  warnings.warn(\n",
      "/opt/conda/lib/python3.10/site-packages/monai/transforms/utils.py:743: UserWarning: no available indices of class 2 to crop, setting the crop ratio of this class to zero.\n",
      "  warnings.warn(\n",
      "/opt/conda/lib/python3.10/site-packages/monai/transforms/utils.py:743: UserWarning: no available indices of class 7 to crop, setting the crop ratio of this class to zero.\n",
      "  warnings.warn(\n",
      "/opt/conda/lib/python3.10/site-packages/monai/transforms/utils.py:743: UserWarning: no available indices of class 2 to crop, setting the crop ratio of this class to zero.\n",
      "  warnings.warn(\n",
      "/opt/conda/lib/python3.10/site-packages/monai/transforms/utils.py:743: UserWarning: no available indices of class 7 to crop, setting the crop ratio of this class to zero.\n",
      "  warnings.warn(\n",
      "/opt/conda/lib/python3.10/site-packages/monai/transforms/utils.py:743: UserWarning: no available indices of class 2 to crop, setting the crop ratio of this class to zero.\n",
      "  warnings.warn(\n",
      "/opt/conda/lib/python3.10/site-packages/monai/transforms/utils.py:743: UserWarning: no available indices of class 7 to crop, setting the crop ratio of this class to zero.\n",
      "  warnings.warn(\n"
     ]
    },
    {
     "name": "stdout",
     "output_type": "stream",
     "text": [
      "batch 1/5, train_loss: 0.7244\n",
      "batch 2/5, train_loss: 0.7125\n",
      "batch 3/5, train_loss: 0.7104\n",
      "batch 4/5, train_loss: 0.7445\n",
      "batch 5/5, train_loss: 0.6963\n",
      "epoch 129 average loss: 0.7176\n",
      "----------\n",
      "epoch 130/200\n"
     ]
    },
    {
     "name": "stderr",
     "output_type": "stream",
     "text": [
      "/opt/conda/lib/python3.10/site-packages/monai/transforms/utils.py:743: UserWarning: no available indices of class 2 to crop, setting the crop ratio of this class to zero.\n",
      "  warnings.warn(\n",
      "/opt/conda/lib/python3.10/site-packages/monai/transforms/utils.py:743: UserWarning: no available indices of class 7 to crop, setting the crop ratio of this class to zero.\n",
      "  warnings.warn(\n",
      "/opt/conda/lib/python3.10/site-packages/monai/transforms/utils.py:743: UserWarning: no available indices of class 2 to crop, setting the crop ratio of this class to zero.\n",
      "  warnings.warn(\n",
      "/opt/conda/lib/python3.10/site-packages/monai/transforms/utils.py:743: UserWarning: no available indices of class 7 to crop, setting the crop ratio of this class to zero.\n",
      "  warnings.warn(\n",
      "/opt/conda/lib/python3.10/site-packages/monai/transforms/utils.py:743: UserWarning: no available indices of class 2 to crop, setting the crop ratio of this class to zero.\n",
      "  warnings.warn(\n",
      "/opt/conda/lib/python3.10/site-packages/monai/transforms/utils.py:743: UserWarning: no available indices of class 7 to crop, setting the crop ratio of this class to zero.\n",
      "  warnings.warn(\n",
      "/opt/conda/lib/python3.10/site-packages/monai/transforms/utils.py:743: UserWarning: no available indices of class 2 to crop, setting the crop ratio of this class to zero.\n",
      "  warnings.warn(\n",
      "/opt/conda/lib/python3.10/site-packages/monai/transforms/utils.py:743: UserWarning: no available indices of class 7 to crop, setting the crop ratio of this class to zero.\n",
      "  warnings.warn(\n"
     ]
    },
    {
     "name": "stdout",
     "output_type": "stream",
     "text": [
      "batch 1/5, train_loss: 0.7217\n",
      "batch 2/5, train_loss: 0.7023\n",
      "batch 3/5, train_loss: 0.7590\n",
      "batch 4/5, train_loss: 0.6308\n",
      "batch 5/5, train_loss: 0.7093\n",
      "epoch 130 average loss: 0.7046\n"
     ]
    },
    {
     "name": "stderr",
     "output_type": "stream",
     "text": [
      "/opt/conda/lib/python3.10/site-packages/monai/transforms/utils.py:743: UserWarning: no available indices of class 2 to crop, setting the crop ratio of this class to zero.\n",
      "  warnings.warn(\n",
      "/opt/conda/lib/python3.10/site-packages/monai/transforms/utils.py:743: UserWarning: no available indices of class 7 to crop, setting the crop ratio of this class to zero.\n",
      "  warnings.warn(\n",
      "/opt/conda/lib/python3.10/site-packages/monai/transforms/utils.py:743: UserWarning: no available indices of class 2 to crop, setting the crop ratio of this class to zero.\n",
      "  warnings.warn(\n",
      "/opt/conda/lib/python3.10/site-packages/monai/transforms/utils.py:743: UserWarning: no available indices of class 7 to crop, setting the crop ratio of this class to zero.\n",
      "  warnings.warn(\n"
     ]
    },
    {
     "name": "stdout",
     "output_type": "stream",
     "text": [
      "current epoch: 130 current mean recall per class: 0.6217, 0, 0.2207, 0.5291, 0.4042, 0.7593, 0\n",
      "best mean recall: 0.3858 at epoch: 128\n",
      "----------\n",
      "epoch 131/200\n"
     ]
    },
    {
     "name": "stderr",
     "output_type": "stream",
     "text": [
      "/opt/conda/lib/python3.10/site-packages/monai/transforms/utils.py:743: UserWarning: no available indices of class 2 to crop, setting the crop ratio of this class to zero.\n",
      "  warnings.warn(\n",
      "/opt/conda/lib/python3.10/site-packages/monai/transforms/utils.py:743: UserWarning: no available indices of class 7 to crop, setting the crop ratio of this class to zero.\n",
      "  warnings.warn(\n",
      "/opt/conda/lib/python3.10/site-packages/monai/transforms/utils.py:743: UserWarning: no available indices of class 2 to crop, setting the crop ratio of this class to zero.\n",
      "  warnings.warn(\n",
      "/opt/conda/lib/python3.10/site-packages/monai/transforms/utils.py:743: UserWarning: no available indices of class 7 to crop, setting the crop ratio of this class to zero.\n",
      "  warnings.warn(\n",
      "/opt/conda/lib/python3.10/site-packages/monai/transforms/utils.py:743: UserWarning: no available indices of class 2 to crop, setting the crop ratio of this class to zero.\n",
      "  warnings.warn(\n",
      "/opt/conda/lib/python3.10/site-packages/monai/transforms/utils.py:743: UserWarning: no available indices of class 7 to crop, setting the crop ratio of this class to zero.\n",
      "  warnings.warn(\n",
      "/opt/conda/lib/python3.10/site-packages/monai/transforms/utils.py:743: UserWarning: no available indices of class 2 to crop, setting the crop ratio of this class to zero.\n",
      "  warnings.warn(\n",
      "/opt/conda/lib/python3.10/site-packages/monai/transforms/utils.py:743: UserWarning: no available indices of class 7 to crop, setting the crop ratio of this class to zero.\n",
      "  warnings.warn(\n"
     ]
    },
    {
     "name": "stdout",
     "output_type": "stream",
     "text": [
      "batch 1/5, train_loss: 0.6997\n",
      "batch 2/5, train_loss: 0.7018\n",
      "batch 3/5, train_loss: 0.6848\n",
      "batch 4/5, train_loss: 0.7586\n",
      "batch 5/5, train_loss: 0.7325\n",
      "epoch 131 average loss: 0.7155\n",
      "----------\n",
      "epoch 132/200\n"
     ]
    },
    {
     "name": "stderr",
     "output_type": "stream",
     "text": [
      "/opt/conda/lib/python3.10/site-packages/monai/transforms/utils.py:743: UserWarning: no available indices of class 2 to crop, setting the crop ratio of this class to zero.\n",
      "  warnings.warn(\n",
      "/opt/conda/lib/python3.10/site-packages/monai/transforms/utils.py:743: UserWarning: no available indices of class 7 to crop, setting the crop ratio of this class to zero.\n",
      "  warnings.warn(\n",
      "/opt/conda/lib/python3.10/site-packages/monai/transforms/utils.py:743: UserWarning: no available indices of class 2 to crop, setting the crop ratio of this class to zero.\n",
      "  warnings.warn(\n",
      "/opt/conda/lib/python3.10/site-packages/monai/transforms/utils.py:743: UserWarning: no available indices of class 7 to crop, setting the crop ratio of this class to zero.\n",
      "  warnings.warn(\n",
      "/opt/conda/lib/python3.10/site-packages/monai/transforms/utils.py:743: UserWarning: no available indices of class 2 to crop, setting the crop ratio of this class to zero.\n",
      "  warnings.warn(\n",
      "/opt/conda/lib/python3.10/site-packages/monai/transforms/utils.py:743: UserWarning: no available indices of class 7 to crop, setting the crop ratio of this class to zero.\n",
      "  warnings.warn(\n",
      "/opt/conda/lib/python3.10/site-packages/monai/transforms/utils.py:743: UserWarning: no available indices of class 2 to crop, setting the crop ratio of this class to zero.\n",
      "  warnings.warn(\n",
      "/opt/conda/lib/python3.10/site-packages/monai/transforms/utils.py:743: UserWarning: no available indices of class 7 to crop, setting the crop ratio of this class to zero.\n",
      "  warnings.warn(\n"
     ]
    },
    {
     "name": "stdout",
     "output_type": "stream",
     "text": [
      "batch 1/5, train_loss: 0.6550\n",
      "batch 2/5, train_loss: 0.7038\n",
      "batch 3/5, train_loss: 0.7158\n",
      "batch 4/5, train_loss: 0.7393\n",
      "batch 5/5, train_loss: 0.6918\n",
      "epoch 132 average loss: 0.7011\n"
     ]
    },
    {
     "name": "stderr",
     "output_type": "stream",
     "text": [
      "/opt/conda/lib/python3.10/site-packages/monai/transforms/utils.py:743: UserWarning: no available indices of class 2 to crop, setting the crop ratio of this class to zero.\n",
      "  warnings.warn(\n",
      "/opt/conda/lib/python3.10/site-packages/monai/transforms/utils.py:743: UserWarning: no available indices of class 7 to crop, setting the crop ratio of this class to zero.\n",
      "  warnings.warn(\n",
      "/opt/conda/lib/python3.10/site-packages/monai/transforms/utils.py:743: UserWarning: no available indices of class 2 to crop, setting the crop ratio of this class to zero.\n",
      "  warnings.warn(\n",
      "/opt/conda/lib/python3.10/site-packages/monai/transforms/utils.py:743: UserWarning: no available indices of class 7 to crop, setting the crop ratio of this class to zero.\n",
      "  warnings.warn(\n"
     ]
    },
    {
     "name": "stdout",
     "output_type": "stream",
     "text": [
      "current epoch: 132 current mean recall per class: 0.6826, 0, 0.1815, 0.5711, 0.4079, 0.757, 0\n",
      "best mean recall: 0.3858 at epoch: 128\n",
      "----------\n",
      "epoch 133/200\n"
     ]
    },
    {
     "name": "stderr",
     "output_type": "stream",
     "text": [
      "/opt/conda/lib/python3.10/site-packages/monai/transforms/utils.py:743: UserWarning: no available indices of class 2 to crop, setting the crop ratio of this class to zero.\n",
      "  warnings.warn(\n",
      "/opt/conda/lib/python3.10/site-packages/monai/transforms/utils.py:743: UserWarning: no available indices of class 7 to crop, setting the crop ratio of this class to zero.\n",
      "  warnings.warn(\n",
      "/opt/conda/lib/python3.10/site-packages/monai/transforms/utils.py:743: UserWarning: no available indices of class 2 to crop, setting the crop ratio of this class to zero.\n",
      "  warnings.warn(\n",
      "/opt/conda/lib/python3.10/site-packages/monai/transforms/utils.py:743: UserWarning: no available indices of class 7 to crop, setting the crop ratio of this class to zero.\n",
      "  warnings.warn(\n",
      "/opt/conda/lib/python3.10/site-packages/monai/transforms/utils.py:743: UserWarning: no available indices of class 2 to crop, setting the crop ratio of this class to zero.\n",
      "  warnings.warn(\n",
      "/opt/conda/lib/python3.10/site-packages/monai/transforms/utils.py:743: UserWarning: no available indices of class 7 to crop, setting the crop ratio of this class to zero.\n",
      "  warnings.warn(\n",
      "/opt/conda/lib/python3.10/site-packages/monai/transforms/utils.py:743: UserWarning: no available indices of class 2 to crop, setting the crop ratio of this class to zero.\n",
      "  warnings.warn(\n",
      "/opt/conda/lib/python3.10/site-packages/monai/transforms/utils.py:743: UserWarning: no available indices of class 7 to crop, setting the crop ratio of this class to zero.\n",
      "  warnings.warn(\n"
     ]
    },
    {
     "name": "stdout",
     "output_type": "stream",
     "text": [
      "batch 1/5, train_loss: 0.6993\n",
      "batch 2/5, train_loss: 0.7282\n",
      "batch 3/5, train_loss: 0.6667\n",
      "batch 4/5, train_loss: 0.6755\n",
      "batch 5/5, train_loss: 0.7325\n",
      "epoch 133 average loss: 0.7005\n",
      "----------\n",
      "epoch 134/200\n"
     ]
    },
    {
     "name": "stderr",
     "output_type": "stream",
     "text": [
      "/opt/conda/lib/python3.10/site-packages/monai/transforms/utils.py:743: UserWarning: no available indices of class 2 to crop, setting the crop ratio of this class to zero.\n",
      "  warnings.warn(\n",
      "/opt/conda/lib/python3.10/site-packages/monai/transforms/utils.py:743: UserWarning: no available indices of class 7 to crop, setting the crop ratio of this class to zero.\n",
      "  warnings.warn(\n",
      "/opt/conda/lib/python3.10/site-packages/monai/transforms/utils.py:743: UserWarning: no available indices of class 2 to crop, setting the crop ratio of this class to zero.\n",
      "  warnings.warn(\n",
      "/opt/conda/lib/python3.10/site-packages/monai/transforms/utils.py:743: UserWarning: no available indices of class 7 to crop, setting the crop ratio of this class to zero.\n",
      "  warnings.warn(\n",
      "/opt/conda/lib/python3.10/site-packages/monai/transforms/utils.py:743: UserWarning: no available indices of class 2 to crop, setting the crop ratio of this class to zero.\n",
      "  warnings.warn(\n",
      "/opt/conda/lib/python3.10/site-packages/monai/transforms/utils.py:743: UserWarning: no available indices of class 7 to crop, setting the crop ratio of this class to zero.\n",
      "  warnings.warn(\n",
      "/opt/conda/lib/python3.10/site-packages/monai/transforms/utils.py:743: UserWarning: no available indices of class 2 to crop, setting the crop ratio of this class to zero.\n",
      "  warnings.warn(\n",
      "/opt/conda/lib/python3.10/site-packages/monai/transforms/utils.py:743: UserWarning: no available indices of class 7 to crop, setting the crop ratio of this class to zero.\n",
      "  warnings.warn(\n"
     ]
    },
    {
     "name": "stdout",
     "output_type": "stream",
     "text": [
      "batch 1/5, train_loss: 0.6596\n",
      "batch 2/5, train_loss: 0.7137\n",
      "batch 3/5, train_loss: 0.6910\n",
      "batch 4/5, train_loss: 0.7336\n",
      "batch 5/5, train_loss: 0.6887\n",
      "epoch 134 average loss: 0.6973\n"
     ]
    },
    {
     "name": "stderr",
     "output_type": "stream",
     "text": [
      "/opt/conda/lib/python3.10/site-packages/monai/transforms/utils.py:743: UserWarning: no available indices of class 2 to crop, setting the crop ratio of this class to zero.\n",
      "  warnings.warn(\n",
      "/opt/conda/lib/python3.10/site-packages/monai/transforms/utils.py:743: UserWarning: no available indices of class 7 to crop, setting the crop ratio of this class to zero.\n",
      "  warnings.warn(\n",
      "/opt/conda/lib/python3.10/site-packages/monai/transforms/utils.py:743: UserWarning: no available indices of class 2 to crop, setting the crop ratio of this class to zero.\n",
      "  warnings.warn(\n",
      "/opt/conda/lib/python3.10/site-packages/monai/transforms/utils.py:743: UserWarning: no available indices of class 7 to crop, setting the crop ratio of this class to zero.\n",
      "  warnings.warn(\n"
     ]
    },
    {
     "name": "stdout",
     "output_type": "stream",
     "text": [
      "current epoch: 134 current mean recall per class: 0.7712, 0, 0.2284, 0.6169, 0.3661, 0.7053, 0\n",
      "best mean recall: 0.3858 at epoch: 128\n",
      "----------\n",
      "epoch 135/200\n"
     ]
    },
    {
     "name": "stderr",
     "output_type": "stream",
     "text": [
      "/opt/conda/lib/python3.10/site-packages/monai/transforms/utils.py:743: UserWarning: no available indices of class 2 to crop, setting the crop ratio of this class to zero.\n",
      "  warnings.warn(\n",
      "/opt/conda/lib/python3.10/site-packages/monai/transforms/utils.py:743: UserWarning: no available indices of class 2 to crop, setting the crop ratio of this class to zero.\n",
      "  warnings.warn(\n",
      "/opt/conda/lib/python3.10/site-packages/monai/transforms/utils.py:743: UserWarning: no available indices of class 7 to crop, setting the crop ratio of this class to zero.\n",
      "  warnings.warn(\n",
      "/opt/conda/lib/python3.10/site-packages/monai/transforms/utils.py:743: UserWarning: no available indices of class 7 to crop, setting the crop ratio of this class to zero.\n",
      "  warnings.warn(\n",
      "/opt/conda/lib/python3.10/site-packages/monai/transforms/utils.py:743: UserWarning: no available indices of class 2 to crop, setting the crop ratio of this class to zero.\n",
      "  warnings.warn(\n",
      "/opt/conda/lib/python3.10/site-packages/monai/transforms/utils.py:743: UserWarning: no available indices of class 7 to crop, setting the crop ratio of this class to zero.\n",
      "  warnings.warn(\n",
      "/opt/conda/lib/python3.10/site-packages/monai/transforms/utils.py:743: UserWarning: no available indices of class 2 to crop, setting the crop ratio of this class to zero.\n",
      "  warnings.warn(\n",
      "/opt/conda/lib/python3.10/site-packages/monai/transforms/utils.py:743: UserWarning: no available indices of class 7 to crop, setting the crop ratio of this class to zero.\n",
      "  warnings.warn(\n"
     ]
    },
    {
     "name": "stdout",
     "output_type": "stream",
     "text": [
      "batch 1/5, train_loss: 0.7356\n",
      "batch 2/5, train_loss: 0.7136\n",
      "batch 3/5, train_loss: 0.6988\n",
      "batch 4/5, train_loss: 0.6849\n",
      "batch 5/5, train_loss: 0.6759\n",
      "epoch 135 average loss: 0.7017\n",
      "----------\n",
      "epoch 136/200\n"
     ]
    },
    {
     "name": "stderr",
     "output_type": "stream",
     "text": [
      "/opt/conda/lib/python3.10/site-packages/monai/transforms/utils.py:743: UserWarning: no available indices of class 2 to crop, setting the crop ratio of this class to zero.\n",
      "  warnings.warn(\n",
      "/opt/conda/lib/python3.10/site-packages/monai/transforms/utils.py:743: UserWarning: no available indices of class 2 to crop, setting the crop ratio of this class to zero.\n",
      "  warnings.warn(\n",
      "/opt/conda/lib/python3.10/site-packages/monai/transforms/utils.py:743: UserWarning: no available indices of class 7 to crop, setting the crop ratio of this class to zero.\n",
      "  warnings.warn(\n",
      "/opt/conda/lib/python3.10/site-packages/monai/transforms/utils.py:743: UserWarning: no available indices of class 2 to crop, setting the crop ratio of this class to zero.\n",
      "  warnings.warn(\n",
      "/opt/conda/lib/python3.10/site-packages/monai/transforms/utils.py:743: UserWarning: no available indices of class 7 to crop, setting the crop ratio of this class to zero.\n",
      "  warnings.warn(\n",
      "/opt/conda/lib/python3.10/site-packages/monai/transforms/utils.py:743: UserWarning: no available indices of class 7 to crop, setting the crop ratio of this class to zero.\n",
      "  warnings.warn(\n",
      "/opt/conda/lib/python3.10/site-packages/monai/transforms/utils.py:743: UserWarning: no available indices of class 2 to crop, setting the crop ratio of this class to zero.\n",
      "  warnings.warn(\n",
      "/opt/conda/lib/python3.10/site-packages/monai/transforms/utils.py:743: UserWarning: no available indices of class 7 to crop, setting the crop ratio of this class to zero.\n",
      "  warnings.warn(\n"
     ]
    },
    {
     "name": "stdout",
     "output_type": "stream",
     "text": [
      "batch 1/5, train_loss: 0.6975\n",
      "batch 2/5, train_loss: 0.7517\n",
      "batch 3/5, train_loss: 0.6932\n",
      "batch 4/5, train_loss: 0.6906\n",
      "batch 5/5, train_loss: 0.6957\n",
      "epoch 136 average loss: 0.7057\n"
     ]
    },
    {
     "name": "stderr",
     "output_type": "stream",
     "text": [
      "/opt/conda/lib/python3.10/site-packages/monai/transforms/utils.py:743: UserWarning: no available indices of class 2 to crop, setting the crop ratio of this class to zero.\n",
      "  warnings.warn(\n",
      "/opt/conda/lib/python3.10/site-packages/monai/transforms/utils.py:743: UserWarning: no available indices of class 7 to crop, setting the crop ratio of this class to zero.\n",
      "  warnings.warn(\n",
      "/opt/conda/lib/python3.10/site-packages/monai/transforms/utils.py:743: UserWarning: no available indices of class 2 to crop, setting the crop ratio of this class to zero.\n",
      "  warnings.warn(\n",
      "/opt/conda/lib/python3.10/site-packages/monai/transforms/utils.py:743: UserWarning: no available indices of class 7 to crop, setting the crop ratio of this class to zero.\n",
      "  warnings.warn(\n"
     ]
    },
    {
     "name": "stdout",
     "output_type": "stream",
     "text": [
      "current epoch: 136 current mean recall per class: 0.6095, 0, 0.2163, 0.666, 0.3808, 0.7406, 0\n",
      "best mean recall: 0.3858 at epoch: 128\n",
      "----------\n",
      "epoch 137/200\n"
     ]
    },
    {
     "name": "stderr",
     "output_type": "stream",
     "text": [
      "/opt/conda/lib/python3.10/site-packages/monai/transforms/utils.py:743: UserWarning: no available indices of class 2 to crop, setting the crop ratio of this class to zero.\n",
      "  warnings.warn(\n",
      "/opt/conda/lib/python3.10/site-packages/monai/transforms/utils.py:743: UserWarning: no available indices of class 7 to crop, setting the crop ratio of this class to zero.\n",
      "  warnings.warn(\n",
      "/opt/conda/lib/python3.10/site-packages/monai/transforms/utils.py:743: UserWarning: no available indices of class 2 to crop, setting the crop ratio of this class to zero.\n",
      "  warnings.warn(\n",
      "/opt/conda/lib/python3.10/site-packages/monai/transforms/utils.py:743: UserWarning: no available indices of class 7 to crop, setting the crop ratio of this class to zero.\n",
      "  warnings.warn(\n",
      "/opt/conda/lib/python3.10/site-packages/monai/transforms/utils.py:743: UserWarning: no available indices of class 2 to crop, setting the crop ratio of this class to zero.\n",
      "  warnings.warn(\n",
      "/opt/conda/lib/python3.10/site-packages/monai/transforms/utils.py:743: UserWarning: no available indices of class 2 to crop, setting the crop ratio of this class to zero.\n",
      "  warnings.warn(\n",
      "/opt/conda/lib/python3.10/site-packages/monai/transforms/utils.py:743: UserWarning: no available indices of class 7 to crop, setting the crop ratio of this class to zero.\n",
      "  warnings.warn(\n",
      "/opt/conda/lib/python3.10/site-packages/monai/transforms/utils.py:743: UserWarning: no available indices of class 7 to crop, setting the crop ratio of this class to zero.\n",
      "  warnings.warn(\n"
     ]
    },
    {
     "name": "stdout",
     "output_type": "stream",
     "text": [
      "batch 1/5, train_loss: 0.6475\n",
      "batch 2/5, train_loss: 0.6781\n",
      "batch 3/5, train_loss: 0.7134\n",
      "batch 4/5, train_loss: 0.7116\n",
      "batch 5/5, train_loss: 0.7011\n",
      "epoch 137 average loss: 0.6903\n",
      "----------\n",
      "epoch 138/200\n"
     ]
    },
    {
     "name": "stderr",
     "output_type": "stream",
     "text": [
      "/opt/conda/lib/python3.10/site-packages/monai/transforms/utils.py:743: UserWarning: no available indices of class 2 to crop, setting the crop ratio of this class to zero.\n",
      "  warnings.warn(\n",
      "/opt/conda/lib/python3.10/site-packages/monai/transforms/utils.py:743: UserWarning: no available indices of class 2 to crop, setting the crop ratio of this class to zero.\n",
      "  warnings.warn(\n",
      "/opt/conda/lib/python3.10/site-packages/monai/transforms/utils.py:743: UserWarning: no available indices of class 7 to crop, setting the crop ratio of this class to zero.\n",
      "  warnings.warn(\n",
      "/opt/conda/lib/python3.10/site-packages/monai/transforms/utils.py:743: UserWarning: no available indices of class 7 to crop, setting the crop ratio of this class to zero.\n",
      "  warnings.warn(\n",
      "/opt/conda/lib/python3.10/site-packages/monai/transforms/utils.py:743: UserWarning: no available indices of class 2 to crop, setting the crop ratio of this class to zero.\n",
      "  warnings.warn(\n",
      "/opt/conda/lib/python3.10/site-packages/monai/transforms/utils.py:743: UserWarning: no available indices of class 7 to crop, setting the crop ratio of this class to zero.\n",
      "  warnings.warn(\n",
      "/opt/conda/lib/python3.10/site-packages/monai/transforms/utils.py:743: UserWarning: no available indices of class 2 to crop, setting the crop ratio of this class to zero.\n",
      "  warnings.warn(\n",
      "/opt/conda/lib/python3.10/site-packages/monai/transforms/utils.py:743: UserWarning: no available indices of class 7 to crop, setting the crop ratio of this class to zero.\n",
      "  warnings.warn(\n"
     ]
    },
    {
     "name": "stdout",
     "output_type": "stream",
     "text": [
      "batch 1/5, train_loss: 0.6900\n",
      "batch 2/5, train_loss: 0.6665\n",
      "batch 3/5, train_loss: 0.6810\n",
      "batch 4/5, train_loss: 0.6853\n",
      "batch 5/5, train_loss: 0.7273\n",
      "epoch 138 average loss: 0.6900\n"
     ]
    },
    {
     "name": "stderr",
     "output_type": "stream",
     "text": [
      "/opt/conda/lib/python3.10/site-packages/monai/transforms/utils.py:743: UserWarning: no available indices of class 2 to crop, setting the crop ratio of this class to zero.\n",
      "  warnings.warn(\n",
      "/opt/conda/lib/python3.10/site-packages/monai/transforms/utils.py:743: UserWarning: no available indices of class 7 to crop, setting the crop ratio of this class to zero.\n",
      "  warnings.warn(\n",
      "/opt/conda/lib/python3.10/site-packages/monai/transforms/utils.py:743: UserWarning: no available indices of class 2 to crop, setting the crop ratio of this class to zero.\n",
      "  warnings.warn(\n",
      "/opt/conda/lib/python3.10/site-packages/monai/transforms/utils.py:743: UserWarning: no available indices of class 7 to crop, setting the crop ratio of this class to zero.\n",
      "  warnings.warn(\n"
     ]
    },
    {
     "name": "stdout",
     "output_type": "stream",
     "text": [
      "current epoch: 138 current mean recall per class: 0.5863, 0, 0.2207, 0.5579, 0.3641, 0.7572, 0\n",
      "best mean recall: 0.3858 at epoch: 128\n",
      "----------\n",
      "epoch 139/200\n"
     ]
    },
    {
     "name": "stderr",
     "output_type": "stream",
     "text": [
      "/opt/conda/lib/python3.10/site-packages/monai/transforms/utils.py:743: UserWarning: no available indices of class 2 to crop, setting the crop ratio of this class to zero.\n",
      "  warnings.warn(\n",
      "/opt/conda/lib/python3.10/site-packages/monai/transforms/utils.py:743: UserWarning: no available indices of class 7 to crop, setting the crop ratio of this class to zero.\n",
      "  warnings.warn(\n",
      "/opt/conda/lib/python3.10/site-packages/monai/transforms/utils.py:743: UserWarning: no available indices of class 2 to crop, setting the crop ratio of this class to zero.\n",
      "  warnings.warn(\n",
      "/opt/conda/lib/python3.10/site-packages/monai/transforms/utils.py:743: UserWarning: no available indices of class 7 to crop, setting the crop ratio of this class to zero.\n",
      "  warnings.warn(\n",
      "/opt/conda/lib/python3.10/site-packages/monai/transforms/utils.py:743: UserWarning: no available indices of class 2 to crop, setting the crop ratio of this class to zero.\n",
      "  warnings.warn(\n",
      "/opt/conda/lib/python3.10/site-packages/monai/transforms/utils.py:743: UserWarning: no available indices of class 7 to crop, setting the crop ratio of this class to zero.\n",
      "  warnings.warn(\n",
      "/opt/conda/lib/python3.10/site-packages/monai/transforms/utils.py:743: UserWarning: no available indices of class 2 to crop, setting the crop ratio of this class to zero.\n",
      "  warnings.warn(\n",
      "/opt/conda/lib/python3.10/site-packages/monai/transforms/utils.py:743: UserWarning: no available indices of class 7 to crop, setting the crop ratio of this class to zero.\n",
      "  warnings.warn(\n"
     ]
    },
    {
     "name": "stdout",
     "output_type": "stream",
     "text": [
      "batch 1/5, train_loss: 0.7061\n",
      "batch 2/5, train_loss: 0.7562\n",
      "batch 3/5, train_loss: 0.6807\n",
      "batch 4/5, train_loss: 0.7010\n",
      "batch 5/5, train_loss: 0.7050\n",
      "epoch 139 average loss: 0.7098\n",
      "----------\n",
      "epoch 140/200\n"
     ]
    },
    {
     "name": "stderr",
     "output_type": "stream",
     "text": [
      "/opt/conda/lib/python3.10/site-packages/monai/transforms/utils.py:743: UserWarning: no available indices of class 2 to crop, setting the crop ratio of this class to zero.\n",
      "  warnings.warn(\n",
      "/opt/conda/lib/python3.10/site-packages/monai/transforms/utils.py:743: UserWarning: no available indices of class 7 to crop, setting the crop ratio of this class to zero.\n",
      "  warnings.warn(\n",
      "/opt/conda/lib/python3.10/site-packages/monai/transforms/utils.py:743: UserWarning: no available indices of class 2 to crop, setting the crop ratio of this class to zero.\n",
      "  warnings.warn(\n",
      "/opt/conda/lib/python3.10/site-packages/monai/transforms/utils.py:743: UserWarning: no available indices of class 7 to crop, setting the crop ratio of this class to zero.\n",
      "  warnings.warn(\n",
      "/opt/conda/lib/python3.10/site-packages/monai/transforms/utils.py:743: UserWarning: no available indices of class 2 to crop, setting the crop ratio of this class to zero.\n",
      "  warnings.warn(\n",
      "/opt/conda/lib/python3.10/site-packages/monai/transforms/utils.py:743: UserWarning: no available indices of class 7 to crop, setting the crop ratio of this class to zero.\n",
      "  warnings.warn(\n",
      "/opt/conda/lib/python3.10/site-packages/monai/transforms/utils.py:743: UserWarning: no available indices of class 2 to crop, setting the crop ratio of this class to zero.\n",
      "  warnings.warn(\n",
      "/opt/conda/lib/python3.10/site-packages/monai/transforms/utils.py:743: UserWarning: no available indices of class 7 to crop, setting the crop ratio of this class to zero.\n",
      "  warnings.warn(\n"
     ]
    },
    {
     "name": "stdout",
     "output_type": "stream",
     "text": [
      "batch 1/5, train_loss: 0.7014\n",
      "batch 2/5, train_loss: 0.7125\n",
      "batch 3/5, train_loss: 0.6842\n",
      "batch 4/5, train_loss: 0.6963\n",
      "batch 5/5, train_loss: 0.7599\n",
      "epoch 140 average loss: 0.7109\n"
     ]
    },
    {
     "name": "stderr",
     "output_type": "stream",
     "text": [
      "/opt/conda/lib/python3.10/site-packages/monai/transforms/utils.py:743: UserWarning: no available indices of class 2 to crop, setting the crop ratio of this class to zero.\n",
      "  warnings.warn(\n",
      "/opt/conda/lib/python3.10/site-packages/monai/transforms/utils.py:743: UserWarning: no available indices of class 7 to crop, setting the crop ratio of this class to zero.\n",
      "  warnings.warn(\n",
      "/opt/conda/lib/python3.10/site-packages/monai/transforms/utils.py:743: UserWarning: no available indices of class 2 to crop, setting the crop ratio of this class to zero.\n",
      "  warnings.warn(\n",
      "/opt/conda/lib/python3.10/site-packages/monai/transforms/utils.py:743: UserWarning: no available indices of class 7 to crop, setting the crop ratio of this class to zero.\n",
      "  warnings.warn(\n"
     ]
    },
    {
     "name": "stdout",
     "output_type": "stream",
     "text": [
      "saved new best metric model\n",
      "current epoch: 140 current mean recall per class: 0.732, 0, 0.1701, 0.5927, 0.4386, 0.785, 0\n",
      "best mean recall: 0.3884 at epoch: 140\n",
      "----------\n",
      "epoch 141/200\n"
     ]
    },
    {
     "name": "stderr",
     "output_type": "stream",
     "text": [
      "/opt/conda/lib/python3.10/site-packages/monai/transforms/utils.py:743: UserWarning: no available indices of class 2 to crop, setting the crop ratio of this class to zero.\n",
      "  warnings.warn(\n",
      "/opt/conda/lib/python3.10/site-packages/monai/transforms/utils.py:743: UserWarning: no available indices of class 7 to crop, setting the crop ratio of this class to zero.\n",
      "  warnings.warn(\n",
      "/opt/conda/lib/python3.10/site-packages/monai/transforms/utils.py:743: UserWarning: no available indices of class 2 to crop, setting the crop ratio of this class to zero.\n",
      "  warnings.warn(\n",
      "/opt/conda/lib/python3.10/site-packages/monai/transforms/utils.py:743: UserWarning: no available indices of class 7 to crop, setting the crop ratio of this class to zero.\n",
      "  warnings.warn(\n",
      "/opt/conda/lib/python3.10/site-packages/monai/transforms/utils.py:743: UserWarning: no available indices of class 2 to crop, setting the crop ratio of this class to zero.\n",
      "  warnings.warn(\n",
      "/opt/conda/lib/python3.10/site-packages/monai/transforms/utils.py:743: UserWarning: no available indices of class 7 to crop, setting the crop ratio of this class to zero.\n",
      "  warnings.warn(\n",
      "/opt/conda/lib/python3.10/site-packages/monai/transforms/utils.py:743: UserWarning: no available indices of class 2 to crop, setting the crop ratio of this class to zero.\n",
      "  warnings.warn(\n",
      "/opt/conda/lib/python3.10/site-packages/monai/transforms/utils.py:743: UserWarning: no available indices of class 7 to crop, setting the crop ratio of this class to zero.\n",
      "  warnings.warn(\n"
     ]
    },
    {
     "name": "stdout",
     "output_type": "stream",
     "text": [
      "batch 1/5, train_loss: 0.6689\n",
      "batch 2/5, train_loss: 0.7146\n",
      "batch 3/5, train_loss: 0.7148\n",
      "batch 4/5, train_loss: 0.7402\n",
      "batch 5/5, train_loss: 0.7065\n",
      "epoch 141 average loss: 0.7090\n",
      "----------\n",
      "epoch 142/200\n"
     ]
    },
    {
     "name": "stderr",
     "output_type": "stream",
     "text": [
      "/opt/conda/lib/python3.10/site-packages/monai/transforms/utils.py:743: UserWarning: no available indices of class 2 to crop, setting the crop ratio of this class to zero.\n",
      "  warnings.warn(\n",
      "/opt/conda/lib/python3.10/site-packages/monai/transforms/utils.py:743: UserWarning: no available indices of class 7 to crop, setting the crop ratio of this class to zero.\n",
      "  warnings.warn(\n",
      "/opt/conda/lib/python3.10/site-packages/monai/transforms/utils.py:743: UserWarning: no available indices of class 2 to crop, setting the crop ratio of this class to zero.\n",
      "  warnings.warn(\n",
      "/opt/conda/lib/python3.10/site-packages/monai/transforms/utils.py:743: UserWarning: no available indices of class 2 to crop, setting the crop ratio of this class to zero.\n",
      "  warnings.warn(\n",
      "/opt/conda/lib/python3.10/site-packages/monai/transforms/utils.py:743: UserWarning: no available indices of class 7 to crop, setting the crop ratio of this class to zero.\n",
      "  warnings.warn(\n",
      "/opt/conda/lib/python3.10/site-packages/monai/transforms/utils.py:743: UserWarning: no available indices of class 2 to crop, setting the crop ratio of this class to zero.\n",
      "  warnings.warn(\n",
      "/opt/conda/lib/python3.10/site-packages/monai/transforms/utils.py:743: UserWarning: no available indices of class 7 to crop, setting the crop ratio of this class to zero.\n",
      "  warnings.warn(\n",
      "/opt/conda/lib/python3.10/site-packages/monai/transforms/utils.py:743: UserWarning: no available indices of class 7 to crop, setting the crop ratio of this class to zero.\n",
      "  warnings.warn(\n"
     ]
    },
    {
     "name": "stdout",
     "output_type": "stream",
     "text": [
      "batch 1/5, train_loss: 0.7001\n",
      "batch 2/5, train_loss: 0.6411\n",
      "batch 3/5, train_loss: 0.7175\n",
      "batch 4/5, train_loss: 0.6980\n",
      "batch 5/5, train_loss: 0.6956\n",
      "epoch 142 average loss: 0.6905\n"
     ]
    },
    {
     "name": "stderr",
     "output_type": "stream",
     "text": [
      "/opt/conda/lib/python3.10/site-packages/monai/transforms/utils.py:743: UserWarning: no available indices of class 2 to crop, setting the crop ratio of this class to zero.\n",
      "  warnings.warn(\n",
      "/opt/conda/lib/python3.10/site-packages/monai/transforms/utils.py:743: UserWarning: no available indices of class 7 to crop, setting the crop ratio of this class to zero.\n",
      "  warnings.warn(\n",
      "/opt/conda/lib/python3.10/site-packages/monai/transforms/utils.py:743: UserWarning: no available indices of class 2 to crop, setting the crop ratio of this class to zero.\n",
      "  warnings.warn(\n",
      "/opt/conda/lib/python3.10/site-packages/monai/transforms/utils.py:743: UserWarning: no available indices of class 7 to crop, setting the crop ratio of this class to zero.\n",
      "  warnings.warn(\n"
     ]
    },
    {
     "name": "stdout",
     "output_type": "stream",
     "text": [
      "current epoch: 142 current mean recall per class: 0.599, 0, 0.2376, 0.5193, 0.361, 0.7655, 0\n",
      "best mean recall: 0.3884 at epoch: 140\n",
      "----------\n",
      "epoch 143/200\n"
     ]
    },
    {
     "name": "stderr",
     "output_type": "stream",
     "text": [
      "/opt/conda/lib/python3.10/site-packages/monai/transforms/utils.py:743: UserWarning: no available indices of class 2 to crop, setting the crop ratio of this class to zero.\n",
      "  warnings.warn(\n",
      "/opt/conda/lib/python3.10/site-packages/monai/transforms/utils.py:743: UserWarning: no available indices of class 7 to crop, setting the crop ratio of this class to zero.\n",
      "  warnings.warn(\n",
      "/opt/conda/lib/python3.10/site-packages/monai/transforms/utils.py:743: UserWarning: no available indices of class 2 to crop, setting the crop ratio of this class to zero.\n",
      "  warnings.warn(\n",
      "/opt/conda/lib/python3.10/site-packages/monai/transforms/utils.py:743: UserWarning: no available indices of class 7 to crop, setting the crop ratio of this class to zero.\n",
      "  warnings.warn(\n",
      "/opt/conda/lib/python3.10/site-packages/monai/transforms/utils.py:743: UserWarning: no available indices of class 2 to crop, setting the crop ratio of this class to zero.\n",
      "  warnings.warn(\n",
      "/opt/conda/lib/python3.10/site-packages/monai/transforms/utils.py:743: UserWarning: no available indices of class 2 to crop, setting the crop ratio of this class to zero.\n",
      "  warnings.warn(\n",
      "/opt/conda/lib/python3.10/site-packages/monai/transforms/utils.py:743: UserWarning: no available indices of class 7 to crop, setting the crop ratio of this class to zero.\n",
      "  warnings.warn(\n",
      "/opt/conda/lib/python3.10/site-packages/monai/transforms/utils.py:743: UserWarning: no available indices of class 7 to crop, setting the crop ratio of this class to zero.\n",
      "  warnings.warn(\n"
     ]
    },
    {
     "name": "stdout",
     "output_type": "stream",
     "text": [
      "batch 1/5, train_loss: 0.6658\n",
      "batch 2/5, train_loss: 0.7022\n",
      "batch 3/5, train_loss: 0.7468\n",
      "batch 4/5, train_loss: 0.6806\n",
      "batch 5/5, train_loss: 0.7131\n",
      "epoch 143 average loss: 0.7017\n",
      "----------\n",
      "epoch 144/200\n"
     ]
    },
    {
     "name": "stderr",
     "output_type": "stream",
     "text": [
      "/opt/conda/lib/python3.10/site-packages/monai/transforms/utils.py:743: UserWarning: no available indices of class 2 to crop, setting the crop ratio of this class to zero.\n",
      "  warnings.warn(\n",
      "/opt/conda/lib/python3.10/site-packages/monai/transforms/utils.py:743: UserWarning: no available indices of class 7 to crop, setting the crop ratio of this class to zero.\n",
      "  warnings.warn(\n",
      "/opt/conda/lib/python3.10/site-packages/monai/transforms/utils.py:743: UserWarning: no available indices of class 2 to crop, setting the crop ratio of this class to zero.\n",
      "  warnings.warn(\n",
      "/opt/conda/lib/python3.10/site-packages/monai/transforms/utils.py:743: UserWarning: no available indices of class 7 to crop, setting the crop ratio of this class to zero.\n",
      "  warnings.warn(\n",
      "/opt/conda/lib/python3.10/site-packages/monai/transforms/utils.py:743: UserWarning: no available indices of class 2 to crop, setting the crop ratio of this class to zero.\n",
      "  warnings.warn(\n",
      "/opt/conda/lib/python3.10/site-packages/monai/transforms/utils.py:743: UserWarning: no available indices of class 7 to crop, setting the crop ratio of this class to zero.\n",
      "  warnings.warn(\n",
      "/opt/conda/lib/python3.10/site-packages/monai/transforms/utils.py:743: UserWarning: no available indices of class 2 to crop, setting the crop ratio of this class to zero.\n",
      "  warnings.warn(\n",
      "/opt/conda/lib/python3.10/site-packages/monai/transforms/utils.py:743: UserWarning: no available indices of class 7 to crop, setting the crop ratio of this class to zero.\n",
      "  warnings.warn(\n"
     ]
    },
    {
     "name": "stdout",
     "output_type": "stream",
     "text": [
      "batch 1/5, train_loss: 0.6919\n",
      "batch 2/5, train_loss: 0.7096\n",
      "batch 3/5, train_loss: 0.7004\n",
      "batch 4/5, train_loss: 0.6962\n",
      "batch 5/5, train_loss: 0.6609\n",
      "epoch 144 average loss: 0.6918\n"
     ]
    },
    {
     "name": "stderr",
     "output_type": "stream",
     "text": [
      "/opt/conda/lib/python3.10/site-packages/monai/transforms/utils.py:743: UserWarning: no available indices of class 2 to crop, setting the crop ratio of this class to zero.\n",
      "  warnings.warn(\n",
      "/opt/conda/lib/python3.10/site-packages/monai/transforms/utils.py:743: UserWarning: no available indices of class 7 to crop, setting the crop ratio of this class to zero.\n",
      "  warnings.warn(\n",
      "/opt/conda/lib/python3.10/site-packages/monai/transforms/utils.py:743: UserWarning: no available indices of class 2 to crop, setting the crop ratio of this class to zero.\n",
      "  warnings.warn(\n",
      "/opt/conda/lib/python3.10/site-packages/monai/transforms/utils.py:743: UserWarning: no available indices of class 7 to crop, setting the crop ratio of this class to zero.\n",
      "  warnings.warn(\n"
     ]
    },
    {
     "name": "stdout",
     "output_type": "stream",
     "text": [
      "current epoch: 144 current mean recall per class: 0.6132, 0, 0.1963, 0.5394, 0.3245, 0.8201, 0\n",
      "best mean recall: 0.3884 at epoch: 140\n",
      "----------\n",
      "epoch 145/200\n"
     ]
    },
    {
     "name": "stderr",
     "output_type": "stream",
     "text": [
      "/opt/conda/lib/python3.10/site-packages/monai/transforms/utils.py:743: UserWarning: no available indices of class 2 to crop, setting the crop ratio of this class to zero.\n",
      "  warnings.warn(\n",
      "/opt/conda/lib/python3.10/site-packages/monai/transforms/utils.py:743: UserWarning: no available indices of class 7 to crop, setting the crop ratio of this class to zero.\n",
      "  warnings.warn(\n",
      "/opt/conda/lib/python3.10/site-packages/monai/transforms/utils.py:743: UserWarning: no available indices of class 2 to crop, setting the crop ratio of this class to zero.\n",
      "  warnings.warn(\n",
      "/opt/conda/lib/python3.10/site-packages/monai/transforms/utils.py:743: UserWarning: no available indices of class 7 to crop, setting the crop ratio of this class to zero.\n",
      "  warnings.warn(\n",
      "/opt/conda/lib/python3.10/site-packages/monai/transforms/utils.py:743: UserWarning: no available indices of class 2 to crop, setting the crop ratio of this class to zero.\n",
      "  warnings.warn(\n",
      "/opt/conda/lib/python3.10/site-packages/monai/transforms/utils.py:743: UserWarning: no available indices of class 7 to crop, setting the crop ratio of this class to zero.\n",
      "  warnings.warn(\n",
      "/opt/conda/lib/python3.10/site-packages/monai/transforms/utils.py:743: UserWarning: no available indices of class 2 to crop, setting the crop ratio of this class to zero.\n",
      "  warnings.warn(\n",
      "/opt/conda/lib/python3.10/site-packages/monai/transforms/utils.py:743: UserWarning: no available indices of class 7 to crop, setting the crop ratio of this class to zero.\n",
      "  warnings.warn(\n"
     ]
    },
    {
     "name": "stdout",
     "output_type": "stream",
     "text": [
      "batch 1/5, train_loss: 0.6931\n",
      "batch 2/5, train_loss: 0.7112\n",
      "batch 3/5, train_loss: 0.6723\n",
      "batch 4/5, train_loss: 0.7022\n",
      "batch 5/5, train_loss: 0.7181\n",
      "epoch 145 average loss: 0.6994\n",
      "----------\n",
      "epoch 146/200\n"
     ]
    },
    {
     "name": "stderr",
     "output_type": "stream",
     "text": [
      "/opt/conda/lib/python3.10/site-packages/monai/transforms/utils.py:743: UserWarning: no available indices of class 2 to crop, setting the crop ratio of this class to zero.\n",
      "  warnings.warn(\n",
      "/opt/conda/lib/python3.10/site-packages/monai/transforms/utils.py:743: UserWarning: no available indices of class 7 to crop, setting the crop ratio of this class to zero.\n",
      "  warnings.warn(\n",
      "/opt/conda/lib/python3.10/site-packages/monai/transforms/utils.py:743: UserWarning: no available indices of class 2 to crop, setting the crop ratio of this class to zero.\n",
      "  warnings.warn(\n",
      "/opt/conda/lib/python3.10/site-packages/monai/transforms/utils.py:743: UserWarning: no available indices of class 7 to crop, setting the crop ratio of this class to zero.\n",
      "  warnings.warn(\n",
      "/opt/conda/lib/python3.10/site-packages/monai/transforms/utils.py:743: UserWarning: no available indices of class 2 to crop, setting the crop ratio of this class to zero.\n",
      "  warnings.warn(\n",
      "/opt/conda/lib/python3.10/site-packages/monai/transforms/utils.py:743: UserWarning: no available indices of class 7 to crop, setting the crop ratio of this class to zero.\n",
      "  warnings.warn(\n",
      "/opt/conda/lib/python3.10/site-packages/monai/transforms/utils.py:743: UserWarning: no available indices of class 2 to crop, setting the crop ratio of this class to zero.\n",
      "  warnings.warn(\n",
      "/opt/conda/lib/python3.10/site-packages/monai/transforms/utils.py:743: UserWarning: no available indices of class 7 to crop, setting the crop ratio of this class to zero.\n",
      "  warnings.warn(\n"
     ]
    },
    {
     "name": "stdout",
     "output_type": "stream",
     "text": [
      "batch 1/5, train_loss: 0.6465\n",
      "batch 2/5, train_loss: 0.7196\n",
      "batch 3/5, train_loss: 0.7750\n",
      "batch 4/5, train_loss: 0.6796\n",
      "batch 5/5, train_loss: 0.6938\n",
      "epoch 146 average loss: 0.7029\n"
     ]
    },
    {
     "name": "stderr",
     "output_type": "stream",
     "text": [
      "/opt/conda/lib/python3.10/site-packages/monai/transforms/utils.py:743: UserWarning: no available indices of class 2 to crop, setting the crop ratio of this class to zero.\n",
      "  warnings.warn(\n",
      "/opt/conda/lib/python3.10/site-packages/monai/transforms/utils.py:743: UserWarning: no available indices of class 7 to crop, setting the crop ratio of this class to zero.\n",
      "  warnings.warn(\n",
      "/opt/conda/lib/python3.10/site-packages/monai/transforms/utils.py:743: UserWarning: no available indices of class 2 to crop, setting the crop ratio of this class to zero.\n",
      "  warnings.warn(\n",
      "/opt/conda/lib/python3.10/site-packages/monai/transforms/utils.py:743: UserWarning: no available indices of class 7 to crop, setting the crop ratio of this class to zero.\n",
      "  warnings.warn(\n"
     ]
    },
    {
     "name": "stdout",
     "output_type": "stream",
     "text": [
      "saved new best metric model\n",
      "current epoch: 146 current mean recall per class: 0.751, 0, 0.3263, 0.5886, 0.3569, 0.7478, 0\n",
      "best mean recall: 0.3958 at epoch: 146\n",
      "----------\n",
      "epoch 147/200\n"
     ]
    },
    {
     "name": "stderr",
     "output_type": "stream",
     "text": [
      "/opt/conda/lib/python3.10/site-packages/monai/transforms/utils.py:743: UserWarning: no available indices of class 2 to crop, setting the crop ratio of this class to zero.\n",
      "  warnings.warn(\n",
      "/opt/conda/lib/python3.10/site-packages/monai/transforms/utils.py:743: UserWarning: no available indices of class 7 to crop, setting the crop ratio of this class to zero.\n",
      "  warnings.warn(\n",
      "/opt/conda/lib/python3.10/site-packages/monai/transforms/utils.py:743: UserWarning: no available indices of class 2 to crop, setting the crop ratio of this class to zero.\n",
      "  warnings.warn(\n",
      "/opt/conda/lib/python3.10/site-packages/monai/transforms/utils.py:743: UserWarning: no available indices of class 7 to crop, setting the crop ratio of this class to zero.\n",
      "  warnings.warn(\n",
      "/opt/conda/lib/python3.10/site-packages/monai/transforms/utils.py:743: UserWarning: no available indices of class 2 to crop, setting the crop ratio of this class to zero.\n",
      "  warnings.warn(\n",
      "/opt/conda/lib/python3.10/site-packages/monai/transforms/utils.py:743: UserWarning: no available indices of class 7 to crop, setting the crop ratio of this class to zero.\n",
      "  warnings.warn(\n",
      "/opt/conda/lib/python3.10/site-packages/monai/transforms/utils.py:743: UserWarning: no available indices of class 2 to crop, setting the crop ratio of this class to zero.\n",
      "  warnings.warn(\n",
      "/opt/conda/lib/python3.10/site-packages/monai/transforms/utils.py:743: UserWarning: no available indices of class 7 to crop, setting the crop ratio of this class to zero.\n",
      "  warnings.warn(\n"
     ]
    },
    {
     "name": "stdout",
     "output_type": "stream",
     "text": [
      "batch 1/5, train_loss: 0.7314\n",
      "batch 2/5, train_loss: 0.6774\n",
      "batch 3/5, train_loss: 0.6928\n",
      "batch 4/5, train_loss: 0.6958\n",
      "batch 5/5, train_loss: 0.6829\n",
      "epoch 147 average loss: 0.6961\n",
      "----------\n",
      "epoch 148/200\n"
     ]
    },
    {
     "name": "stderr",
     "output_type": "stream",
     "text": [
      "/opt/conda/lib/python3.10/site-packages/monai/transforms/utils.py:743: UserWarning: no available indices of class 2 to crop, setting the crop ratio of this class to zero.\n",
      "  warnings.warn(\n",
      "/opt/conda/lib/python3.10/site-packages/monai/transforms/utils.py:743: UserWarning: no available indices of class 7 to crop, setting the crop ratio of this class to zero.\n",
      "  warnings.warn(\n",
      "/opt/conda/lib/python3.10/site-packages/monai/transforms/utils.py:743: UserWarning: no available indices of class 2 to crop, setting the crop ratio of this class to zero.\n",
      "  warnings.warn(\n",
      "/opt/conda/lib/python3.10/site-packages/monai/transforms/utils.py:743: UserWarning: no available indices of class 7 to crop, setting the crop ratio of this class to zero.\n",
      "  warnings.warn(\n",
      "/opt/conda/lib/python3.10/site-packages/monai/transforms/utils.py:743: UserWarning: no available indices of class 2 to crop, setting the crop ratio of this class to zero.\n",
      "  warnings.warn(\n",
      "/opt/conda/lib/python3.10/site-packages/monai/transforms/utils.py:743: UserWarning: no available indices of class 7 to crop, setting the crop ratio of this class to zero.\n",
      "  warnings.warn(\n",
      "/opt/conda/lib/python3.10/site-packages/monai/transforms/utils.py:743: UserWarning: no available indices of class 2 to crop, setting the crop ratio of this class to zero.\n",
      "  warnings.warn(\n",
      "/opt/conda/lib/python3.10/site-packages/monai/transforms/utils.py:743: UserWarning: no available indices of class 7 to crop, setting the crop ratio of this class to zero.\n",
      "  warnings.warn(\n"
     ]
    },
    {
     "name": "stdout",
     "output_type": "stream",
     "text": [
      "batch 1/5, train_loss: 0.7066\n",
      "batch 2/5, train_loss: 0.7215\n",
      "batch 3/5, train_loss: 0.7256\n",
      "batch 4/5, train_loss: 0.7143\n",
      "batch 5/5, train_loss: 0.6917\n",
      "epoch 148 average loss: 0.7119\n"
     ]
    },
    {
     "name": "stderr",
     "output_type": "stream",
     "text": [
      "/opt/conda/lib/python3.10/site-packages/monai/transforms/utils.py:743: UserWarning: no available indices of class 2 to crop, setting the crop ratio of this class to zero.\n",
      "  warnings.warn(\n",
      "/opt/conda/lib/python3.10/site-packages/monai/transforms/utils.py:743: UserWarning: no available indices of class 2 to crop, setting the crop ratio of this class to zero.\n",
      "  warnings.warn(\n",
      "/opt/conda/lib/python3.10/site-packages/monai/transforms/utils.py:743: UserWarning: no available indices of class 7 to crop, setting the crop ratio of this class to zero.\n",
      "  warnings.warn(\n",
      "/opt/conda/lib/python3.10/site-packages/monai/transforms/utils.py:743: UserWarning: no available indices of class 7 to crop, setting the crop ratio of this class to zero.\n",
      "  warnings.warn(\n"
     ]
    },
    {
     "name": "stdout",
     "output_type": "stream",
     "text": [
      "current epoch: 148 current mean recall per class: 0.6881, 0, 0.2781, 0.5549, 0.3966, 0.6992, 0\n",
      "best mean recall: 0.3958 at epoch: 146\n",
      "----------\n",
      "epoch 149/200\n"
     ]
    },
    {
     "name": "stderr",
     "output_type": "stream",
     "text": [
      "/opt/conda/lib/python3.10/site-packages/monai/transforms/utils.py:743: UserWarning: no available indices of class 2 to crop, setting the crop ratio of this class to zero.\n",
      "  warnings.warn(\n",
      "/opt/conda/lib/python3.10/site-packages/monai/transforms/utils.py:743: UserWarning: no available indices of class 7 to crop, setting the crop ratio of this class to zero.\n",
      "  warnings.warn(\n",
      "/opt/conda/lib/python3.10/site-packages/monai/transforms/utils.py:743: UserWarning: no available indices of class 2 to crop, setting the crop ratio of this class to zero.\n",
      "  warnings.warn(\n",
      "/opt/conda/lib/python3.10/site-packages/monai/transforms/utils.py:743: UserWarning: no available indices of class 2 to crop, setting the crop ratio of this class to zero.\n",
      "  warnings.warn(\n",
      "/opt/conda/lib/python3.10/site-packages/monai/transforms/utils.py:743: UserWarning: no available indices of class 7 to crop, setting the crop ratio of this class to zero.\n",
      "  warnings.warn(\n",
      "/opt/conda/lib/python3.10/site-packages/monai/transforms/utils.py:743: UserWarning: no available indices of class 7 to crop, setting the crop ratio of this class to zero.\n",
      "  warnings.warn(\n",
      "/opt/conda/lib/python3.10/site-packages/monai/transforms/utils.py:743: UserWarning: no available indices of class 2 to crop, setting the crop ratio of this class to zero.\n",
      "  warnings.warn(\n",
      "/opt/conda/lib/python3.10/site-packages/monai/transforms/utils.py:743: UserWarning: no available indices of class 7 to crop, setting the crop ratio of this class to zero.\n",
      "  warnings.warn(\n"
     ]
    },
    {
     "name": "stdout",
     "output_type": "stream",
     "text": [
      "batch 1/5, train_loss: 0.7332\n",
      "batch 2/5, train_loss: 0.6915\n",
      "batch 3/5, train_loss: 0.7158\n",
      "batch 4/5, train_loss: 0.6370\n",
      "batch 5/5, train_loss: 0.7420\n",
      "epoch 149 average loss: 0.7039\n",
      "----------\n",
      "epoch 150/200\n"
     ]
    },
    {
     "name": "stderr",
     "output_type": "stream",
     "text": [
      "/opt/conda/lib/python3.10/site-packages/monai/transforms/utils.py:743: UserWarning: no available indices of class 2 to crop, setting the crop ratio of this class to zero.\n",
      "  warnings.warn(\n",
      "/opt/conda/lib/python3.10/site-packages/monai/transforms/utils.py:743: UserWarning: no available indices of class 2 to crop, setting the crop ratio of this class to zero.\n",
      "  warnings.warn(\n",
      "/opt/conda/lib/python3.10/site-packages/monai/transforms/utils.py:743: UserWarning: no available indices of class 7 to crop, setting the crop ratio of this class to zero.\n",
      "  warnings.warn(\n",
      "/opt/conda/lib/python3.10/site-packages/monai/transforms/utils.py:743: UserWarning: no available indices of class 7 to crop, setting the crop ratio of this class to zero.\n",
      "  warnings.warn(\n",
      "/opt/conda/lib/python3.10/site-packages/monai/transforms/utils.py:743: UserWarning: no available indices of class 2 to crop, setting the crop ratio of this class to zero.\n",
      "  warnings.warn(\n",
      "/opt/conda/lib/python3.10/site-packages/monai/transforms/utils.py:743: UserWarning: no available indices of class 2 to crop, setting the crop ratio of this class to zero.\n",
      "  warnings.warn(\n",
      "/opt/conda/lib/python3.10/site-packages/monai/transforms/utils.py:743: UserWarning: no available indices of class 7 to crop, setting the crop ratio of this class to zero.\n",
      "  warnings.warn(\n",
      "/opt/conda/lib/python3.10/site-packages/monai/transforms/utils.py:743: UserWarning: no available indices of class 7 to crop, setting the crop ratio of this class to zero.\n",
      "  warnings.warn(\n"
     ]
    },
    {
     "name": "stdout",
     "output_type": "stream",
     "text": [
      "batch 1/5, train_loss: 0.7315\n",
      "batch 2/5, train_loss: 0.6968\n",
      "batch 3/5, train_loss: 0.7311\n",
      "batch 4/5, train_loss: 0.6922\n",
      "batch 5/5, train_loss: 0.7062\n",
      "epoch 150 average loss: 0.7116\n"
     ]
    },
    {
     "name": "stderr",
     "output_type": "stream",
     "text": [
      "/opt/conda/lib/python3.10/site-packages/monai/transforms/utils.py:743: UserWarning: no available indices of class 2 to crop, setting the crop ratio of this class to zero.\n",
      "  warnings.warn(\n",
      "/opt/conda/lib/python3.10/site-packages/monai/transforms/utils.py:743: UserWarning: no available indices of class 7 to crop, setting the crop ratio of this class to zero.\n",
      "  warnings.warn(\n",
      "/opt/conda/lib/python3.10/site-packages/monai/transforms/utils.py:743: UserWarning: no available indices of class 2 to crop, setting the crop ratio of this class to zero.\n",
      "  warnings.warn(\n",
      "/opt/conda/lib/python3.10/site-packages/monai/transforms/utils.py:743: UserWarning: no available indices of class 7 to crop, setting the crop ratio of this class to zero.\n",
      "  warnings.warn(\n"
     ]
    },
    {
     "name": "stdout",
     "output_type": "stream",
     "text": [
      "current epoch: 150 current mean recall per class: 0.6436, 0, 0.2128, 0.5841, 0.4203, 0.7218, 0\n",
      "best mean recall: 0.3958 at epoch: 146\n",
      "----------\n",
      "epoch 151/200\n"
     ]
    },
    {
     "name": "stderr",
     "output_type": "stream",
     "text": [
      "/opt/conda/lib/python3.10/site-packages/monai/transforms/utils.py:743: UserWarning: no available indices of class 2 to crop, setting the crop ratio of this class to zero.\n",
      "  warnings.warn(\n",
      "/opt/conda/lib/python3.10/site-packages/monai/transforms/utils.py:743: UserWarning: no available indices of class 7 to crop, setting the crop ratio of this class to zero.\n",
      "  warnings.warn(\n",
      "/opt/conda/lib/python3.10/site-packages/monai/transforms/utils.py:743: UserWarning: no available indices of class 2 to crop, setting the crop ratio of this class to zero.\n",
      "  warnings.warn(\n",
      "/opt/conda/lib/python3.10/site-packages/monai/transforms/utils.py:743: UserWarning: no available indices of class 2 to crop, setting the crop ratio of this class to zero.\n",
      "  warnings.warn(\n",
      "/opt/conda/lib/python3.10/site-packages/monai/transforms/utils.py:743: UserWarning: no available indices of class 7 to crop, setting the crop ratio of this class to zero.\n",
      "  warnings.warn(\n",
      "/opt/conda/lib/python3.10/site-packages/monai/transforms/utils.py:743: UserWarning: no available indices of class 7 to crop, setting the crop ratio of this class to zero.\n",
      "  warnings.warn(\n",
      "/opt/conda/lib/python3.10/site-packages/monai/transforms/utils.py:743: UserWarning: no available indices of class 2 to crop, setting the crop ratio of this class to zero.\n",
      "  warnings.warn(\n",
      "/opt/conda/lib/python3.10/site-packages/monai/transforms/utils.py:743: UserWarning: no available indices of class 7 to crop, setting the crop ratio of this class to zero.\n",
      "  warnings.warn(\n"
     ]
    },
    {
     "name": "stdout",
     "output_type": "stream",
     "text": [
      "batch 1/5, train_loss: 0.7255\n",
      "batch 2/5, train_loss: 0.6914\n",
      "batch 3/5, train_loss: 0.7026\n",
      "batch 4/5, train_loss: 0.7090\n",
      "batch 5/5, train_loss: 0.7246\n",
      "epoch 151 average loss: 0.7106\n",
      "----------\n",
      "epoch 152/200\n"
     ]
    },
    {
     "name": "stderr",
     "output_type": "stream",
     "text": [
      "/opt/conda/lib/python3.10/site-packages/monai/transforms/utils.py:743: UserWarning: no available indices of class 2 to crop, setting the crop ratio of this class to zero.\n",
      "  warnings.warn(\n",
      "/opt/conda/lib/python3.10/site-packages/monai/transforms/utils.py:743: UserWarning: no available indices of class 7 to crop, setting the crop ratio of this class to zero.\n",
      "  warnings.warn(\n",
      "/opt/conda/lib/python3.10/site-packages/monai/transforms/utils.py:743: UserWarning: no available indices of class 2 to crop, setting the crop ratio of this class to zero.\n",
      "  warnings.warn(\n",
      "/opt/conda/lib/python3.10/site-packages/monai/transforms/utils.py:743: UserWarning: no available indices of class 7 to crop, setting the crop ratio of this class to zero.\n",
      "  warnings.warn(\n",
      "/opt/conda/lib/python3.10/site-packages/monai/transforms/utils.py:743: UserWarning: no available indices of class 2 to crop, setting the crop ratio of this class to zero.\n",
      "  warnings.warn(\n",
      "/opt/conda/lib/python3.10/site-packages/monai/transforms/utils.py:743: UserWarning: no available indices of class 7 to crop, setting the crop ratio of this class to zero.\n",
      "  warnings.warn(\n",
      "/opt/conda/lib/python3.10/site-packages/monai/transforms/utils.py:743: UserWarning: no available indices of class 2 to crop, setting the crop ratio of this class to zero.\n",
      "  warnings.warn(\n",
      "/opt/conda/lib/python3.10/site-packages/monai/transforms/utils.py:743: UserWarning: no available indices of class 7 to crop, setting the crop ratio of this class to zero.\n",
      "  warnings.warn(\n"
     ]
    },
    {
     "name": "stdout",
     "output_type": "stream",
     "text": [
      "batch 1/5, train_loss: 0.6877\n",
      "batch 2/5, train_loss: 0.6523\n",
      "batch 3/5, train_loss: 0.6944\n",
      "batch 4/5, train_loss: 0.7031\n",
      "batch 5/5, train_loss: 0.6758\n",
      "epoch 152 average loss: 0.6827\n"
     ]
    },
    {
     "name": "stderr",
     "output_type": "stream",
     "text": [
      "/opt/conda/lib/python3.10/site-packages/monai/transforms/utils.py:743: UserWarning: no available indices of class 2 to crop, setting the crop ratio of this class to zero.\n",
      "  warnings.warn(\n",
      "/opt/conda/lib/python3.10/site-packages/monai/transforms/utils.py:743: UserWarning: no available indices of class 7 to crop, setting the crop ratio of this class to zero.\n",
      "  warnings.warn(\n",
      "/opt/conda/lib/python3.10/site-packages/monai/transforms/utils.py:743: UserWarning: no available indices of class 2 to crop, setting the crop ratio of this class to zero.\n",
      "  warnings.warn(\n",
      "/opt/conda/lib/python3.10/site-packages/monai/transforms/utils.py:743: UserWarning: no available indices of class 7 to crop, setting the crop ratio of this class to zero.\n",
      "  warnings.warn(\n"
     ]
    },
    {
     "name": "stdout",
     "output_type": "stream",
     "text": [
      "current epoch: 152 current mean recall per class: 0.6121, 0, 0.1889, 0.5188, 0.3113, 0.7917, 0\n",
      "best mean recall: 0.3958 at epoch: 146\n",
      "----------\n",
      "epoch 153/200\n"
     ]
    },
    {
     "name": "stderr",
     "output_type": "stream",
     "text": [
      "/opt/conda/lib/python3.10/site-packages/monai/transforms/utils.py:743: UserWarning: no available indices of class 2 to crop, setting the crop ratio of this class to zero.\n",
      "  warnings.warn(\n",
      "/opt/conda/lib/python3.10/site-packages/monai/transforms/utils.py:743: UserWarning: no available indices of class 2 to crop, setting the crop ratio of this class to zero.\n",
      "  warnings.warn(\n",
      "/opt/conda/lib/python3.10/site-packages/monai/transforms/utils.py:743: UserWarning: no available indices of class 7 to crop, setting the crop ratio of this class to zero.\n",
      "  warnings.warn(\n",
      "/opt/conda/lib/python3.10/site-packages/monai/transforms/utils.py:743: UserWarning: no available indices of class 7 to crop, setting the crop ratio of this class to zero.\n",
      "  warnings.warn(\n",
      "/opt/conda/lib/python3.10/site-packages/monai/transforms/utils.py:743: UserWarning: no available indices of class 2 to crop, setting the crop ratio of this class to zero.\n",
      "  warnings.warn(\n",
      "/opt/conda/lib/python3.10/site-packages/monai/transforms/utils.py:743: UserWarning: no available indices of class 7 to crop, setting the crop ratio of this class to zero.\n",
      "  warnings.warn(\n",
      "/opt/conda/lib/python3.10/site-packages/monai/transforms/utils.py:743: UserWarning: no available indices of class 2 to crop, setting the crop ratio of this class to zero.\n",
      "  warnings.warn(\n",
      "/opt/conda/lib/python3.10/site-packages/monai/transforms/utils.py:743: UserWarning: no available indices of class 7 to crop, setting the crop ratio of this class to zero.\n",
      "  warnings.warn(\n"
     ]
    },
    {
     "name": "stdout",
     "output_type": "stream",
     "text": [
      "batch 1/5, train_loss: 0.6910\n",
      "batch 2/5, train_loss: 0.7129\n",
      "batch 3/5, train_loss: 0.7244\n",
      "batch 4/5, train_loss: 0.7103\n",
      "batch 5/5, train_loss: 0.7332\n",
      "epoch 153 average loss: 0.7144\n",
      "----------\n",
      "epoch 154/200\n"
     ]
    },
    {
     "name": "stderr",
     "output_type": "stream",
     "text": [
      "/opt/conda/lib/python3.10/site-packages/monai/transforms/utils.py:743: UserWarning: no available indices of class 2 to crop, setting the crop ratio of this class to zero.\n",
      "  warnings.warn(\n",
      "/opt/conda/lib/python3.10/site-packages/monai/transforms/utils.py:743: UserWarning: no available indices of class 2 to crop, setting the crop ratio of this class to zero.\n",
      "  warnings.warn(\n",
      "/opt/conda/lib/python3.10/site-packages/monai/transforms/utils.py:743: UserWarning: no available indices of class 7 to crop, setting the crop ratio of this class to zero.\n",
      "  warnings.warn(\n",
      "/opt/conda/lib/python3.10/site-packages/monai/transforms/utils.py:743: UserWarning: no available indices of class 7 to crop, setting the crop ratio of this class to zero.\n",
      "  warnings.warn(\n",
      "/opt/conda/lib/python3.10/site-packages/monai/transforms/utils.py:743: UserWarning: no available indices of class 2 to crop, setting the crop ratio of this class to zero.\n",
      "  warnings.warn(\n",
      "/opt/conda/lib/python3.10/site-packages/monai/transforms/utils.py:743: UserWarning: no available indices of class 7 to crop, setting the crop ratio of this class to zero.\n",
      "  warnings.warn(\n",
      "/opt/conda/lib/python3.10/site-packages/monai/transforms/utils.py:743: UserWarning: no available indices of class 2 to crop, setting the crop ratio of this class to zero.\n",
      "  warnings.warn(\n",
      "/opt/conda/lib/python3.10/site-packages/monai/transforms/utils.py:743: UserWarning: no available indices of class 7 to crop, setting the crop ratio of this class to zero.\n",
      "  warnings.warn(\n"
     ]
    },
    {
     "name": "stdout",
     "output_type": "stream",
     "text": [
      "batch 1/5, train_loss: 0.7162\n",
      "batch 2/5, train_loss: 0.7173\n",
      "batch 3/5, train_loss: 0.7045\n",
      "batch 4/5, train_loss: 0.7310\n",
      "batch 5/5, train_loss: 0.6943\n",
      "epoch 154 average loss: 0.7127\n"
     ]
    },
    {
     "name": "stderr",
     "output_type": "stream",
     "text": [
      "/opt/conda/lib/python3.10/site-packages/monai/transforms/utils.py:743: UserWarning: no available indices of class 2 to crop, setting the crop ratio of this class to zero.\n",
      "  warnings.warn(\n",
      "/opt/conda/lib/python3.10/site-packages/monai/transforms/utils.py:743: UserWarning: no available indices of class 7 to crop, setting the crop ratio of this class to zero.\n",
      "  warnings.warn(\n",
      "/opt/conda/lib/python3.10/site-packages/monai/transforms/utils.py:743: UserWarning: no available indices of class 2 to crop, setting the crop ratio of this class to zero.\n",
      "  warnings.warn(\n",
      "/opt/conda/lib/python3.10/site-packages/monai/transforms/utils.py:743: UserWarning: no available indices of class 7 to crop, setting the crop ratio of this class to zero.\n",
      "  warnings.warn(\n"
     ]
    },
    {
     "name": "stdout",
     "output_type": "stream",
     "text": [
      "saved new best metric model\n",
      "current epoch: 154 current mean recall per class: 0.6888, 0, 0.2519, 0.5924, 0.4335, 0.8145, 0\n",
      "best mean recall: 0.3973 at epoch: 154\n",
      "----------\n",
      "epoch 155/200\n"
     ]
    },
    {
     "name": "stderr",
     "output_type": "stream",
     "text": [
      "/opt/conda/lib/python3.10/site-packages/monai/transforms/utils.py:743: UserWarning: no available indices of class 2 to crop, setting the crop ratio of this class to zero.\n",
      "  warnings.warn(\n",
      "/opt/conda/lib/python3.10/site-packages/monai/transforms/utils.py:743: UserWarning: no available indices of class 7 to crop, setting the crop ratio of this class to zero.\n",
      "  warnings.warn(\n",
      "/opt/conda/lib/python3.10/site-packages/monai/transforms/utils.py:743: UserWarning: no available indices of class 2 to crop, setting the crop ratio of this class to zero.\n",
      "  warnings.warn(\n",
      "/opt/conda/lib/python3.10/site-packages/monai/transforms/utils.py:743: UserWarning: no available indices of class 7 to crop, setting the crop ratio of this class to zero.\n",
      "  warnings.warn(\n",
      "/opt/conda/lib/python3.10/site-packages/monai/transforms/utils.py:743: UserWarning: no available indices of class 2 to crop, setting the crop ratio of this class to zero.\n",
      "  warnings.warn(\n",
      "/opt/conda/lib/python3.10/site-packages/monai/transforms/utils.py:743: UserWarning: no available indices of class 7 to crop, setting the crop ratio of this class to zero.\n",
      "  warnings.warn(\n",
      "/opt/conda/lib/python3.10/site-packages/monai/transforms/utils.py:743: UserWarning: no available indices of class 2 to crop, setting the crop ratio of this class to zero.\n",
      "  warnings.warn(\n",
      "/opt/conda/lib/python3.10/site-packages/monai/transforms/utils.py:743: UserWarning: no available indices of class 7 to crop, setting the crop ratio of this class to zero.\n",
      "  warnings.warn(\n"
     ]
    },
    {
     "name": "stdout",
     "output_type": "stream",
     "text": [
      "batch 1/5, train_loss: 0.7059\n",
      "batch 2/5, train_loss: 0.6483\n",
      "batch 3/5, train_loss: 0.7231\n",
      "batch 4/5, train_loss: 0.7214\n",
      "batch 5/5, train_loss: 0.6851\n",
      "epoch 155 average loss: 0.6967\n",
      "----------\n",
      "epoch 156/200\n"
     ]
    },
    {
     "name": "stderr",
     "output_type": "stream",
     "text": [
      "/opt/conda/lib/python3.10/site-packages/monai/transforms/utils.py:743: UserWarning: no available indices of class 2 to crop, setting the crop ratio of this class to zero.\n",
      "  warnings.warn(\n",
      "/opt/conda/lib/python3.10/site-packages/monai/transforms/utils.py:743: UserWarning: no available indices of class 7 to crop, setting the crop ratio of this class to zero.\n",
      "  warnings.warn(\n",
      "/opt/conda/lib/python3.10/site-packages/monai/transforms/utils.py:743: UserWarning: no available indices of class 2 to crop, setting the crop ratio of this class to zero.\n",
      "  warnings.warn(\n",
      "/opt/conda/lib/python3.10/site-packages/monai/transforms/utils.py:743: UserWarning: no available indices of class 7 to crop, setting the crop ratio of this class to zero.\n",
      "  warnings.warn(\n",
      "/opt/conda/lib/python3.10/site-packages/monai/transforms/utils.py:743: UserWarning: no available indices of class 2 to crop, setting the crop ratio of this class to zero.\n",
      "  warnings.warn(\n",
      "/opt/conda/lib/python3.10/site-packages/monai/transforms/utils.py:743: UserWarning: no available indices of class 7 to crop, setting the crop ratio of this class to zero.\n",
      "  warnings.warn(\n",
      "/opt/conda/lib/python3.10/site-packages/monai/transforms/utils.py:743: UserWarning: no available indices of class 2 to crop, setting the crop ratio of this class to zero.\n",
      "  warnings.warn(\n",
      "/opt/conda/lib/python3.10/site-packages/monai/transforms/utils.py:743: UserWarning: no available indices of class 7 to crop, setting the crop ratio of this class to zero.\n",
      "  warnings.warn(\n"
     ]
    },
    {
     "name": "stdout",
     "output_type": "stream",
     "text": [
      "batch 1/5, train_loss: 0.6743\n",
      "batch 2/5, train_loss: 0.7369\n",
      "batch 3/5, train_loss: 0.7139\n",
      "batch 4/5, train_loss: 0.6567\n",
      "batch 5/5, train_loss: 0.6989\n",
      "epoch 156 average loss: 0.6961\n"
     ]
    },
    {
     "name": "stderr",
     "output_type": "stream",
     "text": [
      "/opt/conda/lib/python3.10/site-packages/monai/transforms/utils.py:743: UserWarning: no available indices of class 2 to crop, setting the crop ratio of this class to zero.\n",
      "  warnings.warn(\n",
      "/opt/conda/lib/python3.10/site-packages/monai/transforms/utils.py:743: UserWarning: no available indices of class 7 to crop, setting the crop ratio of this class to zero.\n",
      "  warnings.warn(\n",
      "/opt/conda/lib/python3.10/site-packages/monai/transforms/utils.py:743: UserWarning: no available indices of class 2 to crop, setting the crop ratio of this class to zero.\n",
      "  warnings.warn(\n",
      "/opt/conda/lib/python3.10/site-packages/monai/transforms/utils.py:743: UserWarning: no available indices of class 7 to crop, setting the crop ratio of this class to zero.\n",
      "  warnings.warn(\n"
     ]
    },
    {
     "name": "stdout",
     "output_type": "stream",
     "text": [
      "current epoch: 156 current mean recall per class: 0.7371, 0, 0.2383, 0.5668, 0.4422, 0.7732, 0\n",
      "best mean recall: 0.3973 at epoch: 154\n",
      "----------\n",
      "epoch 157/200\n"
     ]
    },
    {
     "name": "stderr",
     "output_type": "stream",
     "text": [
      "/opt/conda/lib/python3.10/site-packages/monai/transforms/utils.py:743: UserWarning: no available indices of class 2 to crop, setting the crop ratio of this class to zero.\n",
      "  warnings.warn(\n",
      "/opt/conda/lib/python3.10/site-packages/monai/transforms/utils.py:743: UserWarning: no available indices of class 7 to crop, setting the crop ratio of this class to zero.\n",
      "  warnings.warn(\n",
      "/opt/conda/lib/python3.10/site-packages/monai/transforms/utils.py:743: UserWarning: no available indices of class 2 to crop, setting the crop ratio of this class to zero.\n",
      "  warnings.warn(\n",
      "/opt/conda/lib/python3.10/site-packages/monai/transforms/utils.py:743: UserWarning: no available indices of class 7 to crop, setting the crop ratio of this class to zero.\n",
      "  warnings.warn(\n",
      "/opt/conda/lib/python3.10/site-packages/monai/transforms/utils.py:743: UserWarning: no available indices of class 2 to crop, setting the crop ratio of this class to zero.\n",
      "  warnings.warn(\n",
      "/opt/conda/lib/python3.10/site-packages/monai/transforms/utils.py:743: UserWarning: no available indices of class 7 to crop, setting the crop ratio of this class to zero.\n",
      "  warnings.warn(\n",
      "/opt/conda/lib/python3.10/site-packages/monai/transforms/utils.py:743: UserWarning: no available indices of class 2 to crop, setting the crop ratio of this class to zero.\n",
      "  warnings.warn(\n",
      "/opt/conda/lib/python3.10/site-packages/monai/transforms/utils.py:743: UserWarning: no available indices of class 7 to crop, setting the crop ratio of this class to zero.\n",
      "  warnings.warn(\n"
     ]
    },
    {
     "name": "stdout",
     "output_type": "stream",
     "text": [
      "batch 1/5, train_loss: 0.7288\n",
      "batch 2/5, train_loss: 0.7049\n",
      "batch 3/5, train_loss: 0.7032\n",
      "batch 4/5, train_loss: 0.7006\n",
      "batch 5/5, train_loss: 0.6857\n",
      "epoch 157 average loss: 0.7046\n",
      "----------\n",
      "epoch 158/200\n"
     ]
    },
    {
     "name": "stderr",
     "output_type": "stream",
     "text": [
      "/opt/conda/lib/python3.10/site-packages/monai/transforms/utils.py:743: UserWarning: no available indices of class 2 to crop, setting the crop ratio of this class to zero.\n",
      "  warnings.warn(\n",
      "/opt/conda/lib/python3.10/site-packages/monai/transforms/utils.py:743: UserWarning: no available indices of class 7 to crop, setting the crop ratio of this class to zero.\n",
      "  warnings.warn(\n",
      "/opt/conda/lib/python3.10/site-packages/monai/transforms/utils.py:743: UserWarning: no available indices of class 2 to crop, setting the crop ratio of this class to zero.\n",
      "  warnings.warn(\n",
      "/opt/conda/lib/python3.10/site-packages/monai/transforms/utils.py:743: UserWarning: no available indices of class 7 to crop, setting the crop ratio of this class to zero.\n",
      "  warnings.warn(\n",
      "/opt/conda/lib/python3.10/site-packages/monai/transforms/utils.py:743: UserWarning: no available indices of class 2 to crop, setting the crop ratio of this class to zero.\n",
      "  warnings.warn(\n",
      "/opt/conda/lib/python3.10/site-packages/monai/transforms/utils.py:743: UserWarning: no available indices of class 7 to crop, setting the crop ratio of this class to zero.\n",
      "  warnings.warn(\n",
      "/opt/conda/lib/python3.10/site-packages/monai/transforms/utils.py:743: UserWarning: no available indices of class 2 to crop, setting the crop ratio of this class to zero.\n",
      "  warnings.warn(\n",
      "/opt/conda/lib/python3.10/site-packages/monai/transforms/utils.py:743: UserWarning: no available indices of class 7 to crop, setting the crop ratio of this class to zero.\n",
      "  warnings.warn(\n"
     ]
    },
    {
     "name": "stdout",
     "output_type": "stream",
     "text": [
      "batch 1/5, train_loss: 0.7004\n",
      "batch 2/5, train_loss: 0.6734\n",
      "batch 3/5, train_loss: 0.7066\n",
      "batch 4/5, train_loss: 0.7119\n",
      "batch 5/5, train_loss: 0.6886\n",
      "epoch 158 average loss: 0.6962\n"
     ]
    },
    {
     "name": "stderr",
     "output_type": "stream",
     "text": [
      "/opt/conda/lib/python3.10/site-packages/monai/transforms/utils.py:743: UserWarning: no available indices of class 2 to crop, setting the crop ratio of this class to zero.\n",
      "  warnings.warn(\n",
      "/opt/conda/lib/python3.10/site-packages/monai/transforms/utils.py:743: UserWarning: no available indices of class 2 to crop, setting the crop ratio of this class to zero.\n",
      "  warnings.warn(\n",
      "/opt/conda/lib/python3.10/site-packages/monai/transforms/utils.py:743: UserWarning: no available indices of class 7 to crop, setting the crop ratio of this class to zero.\n",
      "  warnings.warn(\n",
      "/opt/conda/lib/python3.10/site-packages/monai/transforms/utils.py:743: UserWarning: no available indices of class 7 to crop, setting the crop ratio of this class to zero.\n",
      "  warnings.warn(\n"
     ]
    },
    {
     "name": "stdout",
     "output_type": "stream",
     "text": [
      "current epoch: 158 current mean recall per class: 0.6665, 0, 0.2271, 0.5246, 0.3882, 0.7769, 0\n",
      "best mean recall: 0.3973 at epoch: 154\n",
      "----------\n",
      "epoch 159/200\n"
     ]
    },
    {
     "name": "stderr",
     "output_type": "stream",
     "text": [
      "/opt/conda/lib/python3.10/site-packages/monai/transforms/utils.py:743: UserWarning: no available indices of class 2 to crop, setting the crop ratio of this class to zero.\n",
      "  warnings.warn(\n",
      "/opt/conda/lib/python3.10/site-packages/monai/transforms/utils.py:743: UserWarning: no available indices of class 7 to crop, setting the crop ratio of this class to zero.\n",
      "  warnings.warn(\n",
      "/opt/conda/lib/python3.10/site-packages/monai/transforms/utils.py:743: UserWarning: no available indices of class 2 to crop, setting the crop ratio of this class to zero.\n",
      "  warnings.warn(\n",
      "/opt/conda/lib/python3.10/site-packages/monai/transforms/utils.py:743: UserWarning: no available indices of class 7 to crop, setting the crop ratio of this class to zero.\n",
      "  warnings.warn(\n",
      "/opt/conda/lib/python3.10/site-packages/monai/transforms/utils.py:743: UserWarning: no available indices of class 2 to crop, setting the crop ratio of this class to zero.\n",
      "  warnings.warn(\n",
      "/opt/conda/lib/python3.10/site-packages/monai/transforms/utils.py:743: UserWarning: no available indices of class 7 to crop, setting the crop ratio of this class to zero.\n",
      "  warnings.warn(\n",
      "/opt/conda/lib/python3.10/site-packages/monai/transforms/utils.py:743: UserWarning: no available indices of class 2 to crop, setting the crop ratio of this class to zero.\n",
      "  warnings.warn(\n",
      "/opt/conda/lib/python3.10/site-packages/monai/transforms/utils.py:743: UserWarning: no available indices of class 7 to crop, setting the crop ratio of this class to zero.\n",
      "  warnings.warn(\n"
     ]
    },
    {
     "name": "stdout",
     "output_type": "stream",
     "text": [
      "batch 1/5, train_loss: 0.7147\n",
      "batch 2/5, train_loss: 0.6866\n",
      "batch 3/5, train_loss: 0.6739\n",
      "batch 4/5, train_loss: 0.6810\n",
      "batch 5/5, train_loss: 0.6981\n",
      "epoch 159 average loss: 0.6909\n",
      "----------\n",
      "epoch 160/200\n"
     ]
    },
    {
     "name": "stderr",
     "output_type": "stream",
     "text": [
      "/opt/conda/lib/python3.10/site-packages/monai/transforms/utils.py:743: UserWarning: no available indices of class 2 to crop, setting the crop ratio of this class to zero.\n",
      "  warnings.warn(\n",
      "/opt/conda/lib/python3.10/site-packages/monai/transforms/utils.py:743: UserWarning: no available indices of class 7 to crop, setting the crop ratio of this class to zero.\n",
      "  warnings.warn(\n",
      "/opt/conda/lib/python3.10/site-packages/monai/transforms/utils.py:743: UserWarning: no available indices of class 2 to crop, setting the crop ratio of this class to zero.\n",
      "  warnings.warn(\n",
      "/opt/conda/lib/python3.10/site-packages/monai/transforms/utils.py:743: UserWarning: no available indices of class 7 to crop, setting the crop ratio of this class to zero.\n",
      "  warnings.warn(\n",
      "/opt/conda/lib/python3.10/site-packages/monai/transforms/utils.py:743: UserWarning: no available indices of class 2 to crop, setting the crop ratio of this class to zero.\n",
      "  warnings.warn(\n",
      "/opt/conda/lib/python3.10/site-packages/monai/transforms/utils.py:743: UserWarning: no available indices of class 7 to crop, setting the crop ratio of this class to zero.\n",
      "  warnings.warn(\n",
      "/opt/conda/lib/python3.10/site-packages/monai/transforms/utils.py:743: UserWarning: no available indices of class 2 to crop, setting the crop ratio of this class to zero.\n",
      "  warnings.warn(\n",
      "/opt/conda/lib/python3.10/site-packages/monai/transforms/utils.py:743: UserWarning: no available indices of class 7 to crop, setting the crop ratio of this class to zero.\n",
      "  warnings.warn(\n"
     ]
    },
    {
     "name": "stdout",
     "output_type": "stream",
     "text": [
      "batch 1/5, train_loss: 0.6851\n",
      "batch 2/5, train_loss: 0.7116\n",
      "batch 3/5, train_loss: 0.6998\n",
      "batch 4/5, train_loss: 0.6741\n",
      "batch 5/5, train_loss: 0.7733\n",
      "epoch 160 average loss: 0.7088\n"
     ]
    },
    {
     "name": "stderr",
     "output_type": "stream",
     "text": [
      "/opt/conda/lib/python3.10/site-packages/monai/transforms/utils.py:743: UserWarning: no available indices of class 2 to crop, setting the crop ratio of this class to zero.\n",
      "  warnings.warn(\n",
      "/opt/conda/lib/python3.10/site-packages/monai/transforms/utils.py:743: UserWarning: no available indices of class 2 to crop, setting the crop ratio of this class to zero.\n",
      "  warnings.warn(\n",
      "/opt/conda/lib/python3.10/site-packages/monai/transforms/utils.py:743: UserWarning: no available indices of class 7 to crop, setting the crop ratio of this class to zero.\n",
      "  warnings.warn(\n",
      "/opt/conda/lib/python3.10/site-packages/monai/transforms/utils.py:743: UserWarning: no available indices of class 7 to crop, setting the crop ratio of this class to zero.\n",
      "  warnings.warn(\n"
     ]
    },
    {
     "name": "stdout",
     "output_type": "stream",
     "text": [
      "current epoch: 160 current mean recall per class: 0.6497, 0, 0.2661, 0.692, 0.3628, 0.777, 0\n",
      "best mean recall: 0.3973 at epoch: 154\n",
      "----------\n",
      "epoch 161/200\n"
     ]
    },
    {
     "name": "stderr",
     "output_type": "stream",
     "text": [
      "/opt/conda/lib/python3.10/site-packages/monai/transforms/utils.py:743: UserWarning: no available indices of class 2 to crop, setting the crop ratio of this class to zero.\n",
      "  warnings.warn(\n",
      "/opt/conda/lib/python3.10/site-packages/monai/transforms/utils.py:743: UserWarning: no available indices of class 7 to crop, setting the crop ratio of this class to zero.\n",
      "  warnings.warn(\n",
      "/opt/conda/lib/python3.10/site-packages/monai/transforms/utils.py:743: UserWarning: no available indices of class 2 to crop, setting the crop ratio of this class to zero.\n",
      "  warnings.warn(\n",
      "/opt/conda/lib/python3.10/site-packages/monai/transforms/utils.py:743: UserWarning: no available indices of class 7 to crop, setting the crop ratio of this class to zero.\n",
      "  warnings.warn(\n",
      "/opt/conda/lib/python3.10/site-packages/monai/transforms/utils.py:743: UserWarning: no available indices of class 2 to crop, setting the crop ratio of this class to zero.\n",
      "  warnings.warn(\n",
      "/opt/conda/lib/python3.10/site-packages/monai/transforms/utils.py:743: UserWarning: no available indices of class 7 to crop, setting the crop ratio of this class to zero.\n",
      "  warnings.warn(\n",
      "/opt/conda/lib/python3.10/site-packages/monai/transforms/utils.py:743: UserWarning: no available indices of class 2 to crop, setting the crop ratio of this class to zero.\n",
      "  warnings.warn(\n",
      "/opt/conda/lib/python3.10/site-packages/monai/transforms/utils.py:743: UserWarning: no available indices of class 7 to crop, setting the crop ratio of this class to zero.\n",
      "  warnings.warn(\n"
     ]
    },
    {
     "name": "stdout",
     "output_type": "stream",
     "text": [
      "batch 1/5, train_loss: 0.6667\n",
      "batch 2/5, train_loss: 0.6878\n",
      "batch 3/5, train_loss: 0.7106\n",
      "batch 4/5, train_loss: 0.6842\n",
      "batch 5/5, train_loss: 0.6888\n",
      "epoch 161 average loss: 0.6876\n",
      "----------\n",
      "epoch 162/200\n"
     ]
    },
    {
     "name": "stderr",
     "output_type": "stream",
     "text": [
      "/opt/conda/lib/python3.10/site-packages/monai/transforms/utils.py:743: UserWarning: no available indices of class 2 to crop, setting the crop ratio of this class to zero.\n",
      "  warnings.warn(\n",
      "/opt/conda/lib/python3.10/site-packages/monai/transforms/utils.py:743: UserWarning: no available indices of class 7 to crop, setting the crop ratio of this class to zero.\n",
      "  warnings.warn(\n",
      "/opt/conda/lib/python3.10/site-packages/monai/transforms/utils.py:743: UserWarning: no available indices of class 2 to crop, setting the crop ratio of this class to zero.\n",
      "  warnings.warn(\n",
      "/opt/conda/lib/python3.10/site-packages/monai/transforms/utils.py:743: UserWarning: no available indices of class 2 to crop, setting the crop ratio of this class to zero.\n",
      "  warnings.warn(\n",
      "/opt/conda/lib/python3.10/site-packages/monai/transforms/utils.py:743: UserWarning: no available indices of class 7 to crop, setting the crop ratio of this class to zero.\n",
      "  warnings.warn(\n",
      "/opt/conda/lib/python3.10/site-packages/monai/transforms/utils.py:743: UserWarning: no available indices of class 7 to crop, setting the crop ratio of this class to zero.\n",
      "  warnings.warn(\n",
      "/opt/conda/lib/python3.10/site-packages/monai/transforms/utils.py:743: UserWarning: no available indices of class 2 to crop, setting the crop ratio of this class to zero.\n",
      "  warnings.warn(\n",
      "/opt/conda/lib/python3.10/site-packages/monai/transforms/utils.py:743: UserWarning: no available indices of class 7 to crop, setting the crop ratio of this class to zero.\n",
      "  warnings.warn(\n"
     ]
    },
    {
     "name": "stdout",
     "output_type": "stream",
     "text": [
      "batch 1/5, train_loss: 0.7003\n",
      "batch 2/5, train_loss: 0.7120\n",
      "batch 3/5, train_loss: 0.6810\n",
      "batch 4/5, train_loss: 0.6861\n",
      "batch 5/5, train_loss: 0.7116\n",
      "epoch 162 average loss: 0.6982\n"
     ]
    },
    {
     "name": "stderr",
     "output_type": "stream",
     "text": [
      "/opt/conda/lib/python3.10/site-packages/monai/transforms/utils.py:743: UserWarning: no available indices of class 2 to crop, setting the crop ratio of this class to zero.\n",
      "  warnings.warn(\n",
      "/opt/conda/lib/python3.10/site-packages/monai/transforms/utils.py:743: UserWarning: no available indices of class 2 to crop, setting the crop ratio of this class to zero.\n",
      "  warnings.warn(\n",
      "/opt/conda/lib/python3.10/site-packages/monai/transforms/utils.py:743: UserWarning: no available indices of class 7 to crop, setting the crop ratio of this class to zero.\n",
      "  warnings.warn(\n",
      "/opt/conda/lib/python3.10/site-packages/monai/transforms/utils.py:743: UserWarning: no available indices of class 7 to crop, setting the crop ratio of this class to zero.\n",
      "  warnings.warn(\n"
     ]
    },
    {
     "name": "stdout",
     "output_type": "stream",
     "text": [
      "current epoch: 162 current mean recall per class: 0.7129, 0, 0.2095, 0.5313, 0.4808, 0.7226, 0\n",
      "best mean recall: 0.3973 at epoch: 154\n",
      "----------\n",
      "epoch 163/200\n"
     ]
    },
    {
     "name": "stderr",
     "output_type": "stream",
     "text": [
      "/opt/conda/lib/python3.10/site-packages/monai/transforms/utils.py:743: UserWarning: no available indices of class 2 to crop, setting the crop ratio of this class to zero.\n",
      "  warnings.warn(\n",
      "/opt/conda/lib/python3.10/site-packages/monai/transforms/utils.py:743: UserWarning: no available indices of class 7 to crop, setting the crop ratio of this class to zero.\n",
      "  warnings.warn(\n",
      "/opt/conda/lib/python3.10/site-packages/monai/transforms/utils.py:743: UserWarning: no available indices of class 2 to crop, setting the crop ratio of this class to zero.\n",
      "  warnings.warn(\n",
      "/opt/conda/lib/python3.10/site-packages/monai/transforms/utils.py:743: UserWarning: no available indices of class 7 to crop, setting the crop ratio of this class to zero.\n",
      "  warnings.warn(\n",
      "/opt/conda/lib/python3.10/site-packages/monai/transforms/utils.py:743: UserWarning: no available indices of class 2 to crop, setting the crop ratio of this class to zero.\n",
      "  warnings.warn(\n",
      "/opt/conda/lib/python3.10/site-packages/monai/transforms/utils.py:743: UserWarning: no available indices of class 2 to crop, setting the crop ratio of this class to zero.\n",
      "  warnings.warn(\n",
      "/opt/conda/lib/python3.10/site-packages/monai/transforms/utils.py:743: UserWarning: no available indices of class 7 to crop, setting the crop ratio of this class to zero.\n",
      "  warnings.warn(\n",
      "/opt/conda/lib/python3.10/site-packages/monai/transforms/utils.py:743: UserWarning: no available indices of class 7 to crop, setting the crop ratio of this class to zero.\n",
      "  warnings.warn(\n"
     ]
    },
    {
     "name": "stdout",
     "output_type": "stream",
     "text": [
      "batch 1/5, train_loss: 0.6875\n",
      "batch 2/5, train_loss: 0.7296\n",
      "batch 3/5, train_loss: 0.6810\n",
      "batch 4/5, train_loss: 0.7441\n",
      "batch 5/5, train_loss: 0.6719\n",
      "epoch 163 average loss: 0.7028\n",
      "----------\n",
      "epoch 164/200\n"
     ]
    },
    {
     "name": "stderr",
     "output_type": "stream",
     "text": [
      "/opt/conda/lib/python3.10/site-packages/monai/transforms/utils.py:743: UserWarning: no available indices of class 2 to crop, setting the crop ratio of this class to zero.\n",
      "  warnings.warn(\n",
      "/opt/conda/lib/python3.10/site-packages/monai/transforms/utils.py:743: UserWarning: no available indices of class 7 to crop, setting the crop ratio of this class to zero.\n",
      "  warnings.warn(\n",
      "/opt/conda/lib/python3.10/site-packages/monai/transforms/utils.py:743: UserWarning: no available indices of class 2 to crop, setting the crop ratio of this class to zero.\n",
      "  warnings.warn(\n",
      "/opt/conda/lib/python3.10/site-packages/monai/transforms/utils.py:743: UserWarning: no available indices of class 7 to crop, setting the crop ratio of this class to zero.\n",
      "  warnings.warn(\n",
      "/opt/conda/lib/python3.10/site-packages/monai/transforms/utils.py:743: UserWarning: no available indices of class 2 to crop, setting the crop ratio of this class to zero.\n",
      "  warnings.warn(\n",
      "/opt/conda/lib/python3.10/site-packages/monai/transforms/utils.py:743: UserWarning: no available indices of class 7 to crop, setting the crop ratio of this class to zero.\n",
      "  warnings.warn(\n",
      "/opt/conda/lib/python3.10/site-packages/monai/transforms/utils.py:743: UserWarning: no available indices of class 2 to crop, setting the crop ratio of this class to zero.\n",
      "  warnings.warn(\n",
      "/opt/conda/lib/python3.10/site-packages/monai/transforms/utils.py:743: UserWarning: no available indices of class 7 to crop, setting the crop ratio of this class to zero.\n",
      "  warnings.warn(\n"
     ]
    },
    {
     "name": "stdout",
     "output_type": "stream",
     "text": [
      "batch 1/5, train_loss: 0.7017\n",
      "batch 2/5, train_loss: 0.6693\n",
      "batch 3/5, train_loss: 0.6902\n",
      "batch 4/5, train_loss: 0.6812\n",
      "batch 5/5, train_loss: 0.7074\n",
      "epoch 164 average loss: 0.6900\n"
     ]
    },
    {
     "name": "stderr",
     "output_type": "stream",
     "text": [
      "/opt/conda/lib/python3.10/site-packages/monai/transforms/utils.py:743: UserWarning: no available indices of class 2 to crop, setting the crop ratio of this class to zero.\n",
      "  warnings.warn(\n",
      "/opt/conda/lib/python3.10/site-packages/monai/transforms/utils.py:743: UserWarning: no available indices of class 7 to crop, setting the crop ratio of this class to zero.\n",
      "  warnings.warn(\n",
      "/opt/conda/lib/python3.10/site-packages/monai/transforms/utils.py:743: UserWarning: no available indices of class 2 to crop, setting the crop ratio of this class to zero.\n",
      "  warnings.warn(\n",
      "/opt/conda/lib/python3.10/site-packages/monai/transforms/utils.py:743: UserWarning: no available indices of class 7 to crop, setting the crop ratio of this class to zero.\n",
      "  warnings.warn(\n"
     ]
    },
    {
     "name": "stdout",
     "output_type": "stream",
     "text": [
      "current epoch: 164 current mean recall per class: 0.7021, 0, 0.2835, 0.5748, 0.4022, 0.7901, 0\n",
      "best mean recall: 0.3973 at epoch: 154\n",
      "----------\n",
      "epoch 165/200\n"
     ]
    },
    {
     "name": "stderr",
     "output_type": "stream",
     "text": [
      "/opt/conda/lib/python3.10/site-packages/monai/transforms/utils.py:743: UserWarning: no available indices of class 2 to crop, setting the crop ratio of this class to zero.\n",
      "  warnings.warn(\n",
      "/opt/conda/lib/python3.10/site-packages/monai/transforms/utils.py:743: UserWarning: no available indices of class 7 to crop, setting the crop ratio of this class to zero.\n",
      "  warnings.warn(\n",
      "/opt/conda/lib/python3.10/site-packages/monai/transforms/utils.py:743: UserWarning: no available indices of class 2 to crop, setting the crop ratio of this class to zero.\n",
      "  warnings.warn(\n",
      "/opt/conda/lib/python3.10/site-packages/monai/transforms/utils.py:743: UserWarning: no available indices of class 7 to crop, setting the crop ratio of this class to zero.\n",
      "  warnings.warn(\n",
      "/opt/conda/lib/python3.10/site-packages/monai/transforms/utils.py:743: UserWarning: no available indices of class 2 to crop, setting the crop ratio of this class to zero.\n",
      "  warnings.warn(\n",
      "/opt/conda/lib/python3.10/site-packages/monai/transforms/utils.py:743: UserWarning: no available indices of class 2 to crop, setting the crop ratio of this class to zero.\n",
      "  warnings.warn(\n",
      "/opt/conda/lib/python3.10/site-packages/monai/transforms/utils.py:743: UserWarning: no available indices of class 7 to crop, setting the crop ratio of this class to zero.\n",
      "  warnings.warn(\n",
      "/opt/conda/lib/python3.10/site-packages/monai/transforms/utils.py:743: UserWarning: no available indices of class 7 to crop, setting the crop ratio of this class to zero.\n",
      "  warnings.warn(\n"
     ]
    },
    {
     "name": "stdout",
     "output_type": "stream",
     "text": [
      "batch 1/5, train_loss: 0.6479\n",
      "batch 2/5, train_loss: 0.6580\n",
      "batch 3/5, train_loss: 0.6572\n",
      "batch 4/5, train_loss: 0.6839\n",
      "batch 5/5, train_loss: 0.6972\n",
      "epoch 165 average loss: 0.6689\n",
      "----------\n",
      "epoch 166/200\n"
     ]
    },
    {
     "name": "stderr",
     "output_type": "stream",
     "text": [
      "/opt/conda/lib/python3.10/site-packages/monai/transforms/utils.py:743: UserWarning: no available indices of class 2 to crop, setting the crop ratio of this class to zero.\n",
      "  warnings.warn(\n",
      "/opt/conda/lib/python3.10/site-packages/monai/transforms/utils.py:743: UserWarning: no available indices of class 7 to crop, setting the crop ratio of this class to zero.\n",
      "  warnings.warn(\n",
      "/opt/conda/lib/python3.10/site-packages/monai/transforms/utils.py:743: UserWarning: no available indices of class 2 to crop, setting the crop ratio of this class to zero.\n",
      "  warnings.warn(\n",
      "/opt/conda/lib/python3.10/site-packages/monai/transforms/utils.py:743: UserWarning: no available indices of class 2 to crop, setting the crop ratio of this class to zero.\n",
      "  warnings.warn(\n",
      "/opt/conda/lib/python3.10/site-packages/monai/transforms/utils.py:743: UserWarning: no available indices of class 7 to crop, setting the crop ratio of this class to zero.\n",
      "  warnings.warn(\n",
      "/opt/conda/lib/python3.10/site-packages/monai/transforms/utils.py:743: UserWarning: no available indices of class 2 to crop, setting the crop ratio of this class to zero.\n",
      "  warnings.warn(\n",
      "/opt/conda/lib/python3.10/site-packages/monai/transforms/utils.py:743: UserWarning: no available indices of class 7 to crop, setting the crop ratio of this class to zero.\n",
      "  warnings.warn(\n",
      "/opt/conda/lib/python3.10/site-packages/monai/transforms/utils.py:743: UserWarning: no available indices of class 7 to crop, setting the crop ratio of this class to zero.\n",
      "  warnings.warn(\n"
     ]
    },
    {
     "name": "stdout",
     "output_type": "stream",
     "text": [
      "batch 1/5, train_loss: 0.6849\n",
      "batch 2/5, train_loss: 0.6998\n",
      "batch 3/5, train_loss: 0.7121\n",
      "batch 4/5, train_loss: 0.6615\n",
      "batch 5/5, train_loss: 0.7095\n",
      "epoch 166 average loss: 0.6936\n"
     ]
    },
    {
     "name": "stderr",
     "output_type": "stream",
     "text": [
      "/opt/conda/lib/python3.10/site-packages/monai/transforms/utils.py:743: UserWarning: no available indices of class 2 to crop, setting the crop ratio of this class to zero.\n",
      "  warnings.warn(\n",
      "/opt/conda/lib/python3.10/site-packages/monai/transforms/utils.py:743: UserWarning: no available indices of class 7 to crop, setting the crop ratio of this class to zero.\n",
      "  warnings.warn(\n",
      "/opt/conda/lib/python3.10/site-packages/monai/transforms/utils.py:743: UserWarning: no available indices of class 2 to crop, setting the crop ratio of this class to zero.\n",
      "  warnings.warn(\n",
      "/opt/conda/lib/python3.10/site-packages/monai/transforms/utils.py:743: UserWarning: no available indices of class 7 to crop, setting the crop ratio of this class to zero.\n",
      "  warnings.warn(\n"
     ]
    },
    {
     "name": "stdout",
     "output_type": "stream",
     "text": [
      "saved new best metric model\n",
      "current epoch: 166 current mean recall per class: 0.6862, 0, 0.3332, 0.6052, 0.4772, 0.8484, 0\n",
      "best mean recall: 0.4214 at epoch: 166\n",
      "----------\n",
      "epoch 167/200\n"
     ]
    },
    {
     "name": "stderr",
     "output_type": "stream",
     "text": [
      "/opt/conda/lib/python3.10/site-packages/monai/transforms/utils.py:743: UserWarning: no available indices of class 2 to crop, setting the crop ratio of this class to zero.\n",
      "  warnings.warn(\n",
      "/opt/conda/lib/python3.10/site-packages/monai/transforms/utils.py:743: UserWarning: no available indices of class 7 to crop, setting the crop ratio of this class to zero.\n",
      "  warnings.warn(\n",
      "/opt/conda/lib/python3.10/site-packages/monai/transforms/utils.py:743: UserWarning: no available indices of class 2 to crop, setting the crop ratio of this class to zero.\n",
      "  warnings.warn(\n",
      "/opt/conda/lib/python3.10/site-packages/monai/transforms/utils.py:743: UserWarning: no available indices of class 7 to crop, setting the crop ratio of this class to zero.\n",
      "  warnings.warn(\n",
      "/opt/conda/lib/python3.10/site-packages/monai/transforms/utils.py:743: UserWarning: no available indices of class 2 to crop, setting the crop ratio of this class to zero.\n",
      "  warnings.warn(\n",
      "/opt/conda/lib/python3.10/site-packages/monai/transforms/utils.py:743: UserWarning: no available indices of class 2 to crop, setting the crop ratio of this class to zero.\n",
      "  warnings.warn(\n",
      "/opt/conda/lib/python3.10/site-packages/monai/transforms/utils.py:743: UserWarning: no available indices of class 7 to crop, setting the crop ratio of this class to zero.\n",
      "  warnings.warn(\n",
      "/opt/conda/lib/python3.10/site-packages/monai/transforms/utils.py:743: UserWarning: no available indices of class 7 to crop, setting the crop ratio of this class to zero.\n",
      "  warnings.warn(\n"
     ]
    },
    {
     "name": "stdout",
     "output_type": "stream",
     "text": [
      "batch 1/5, train_loss: 0.6920\n",
      "batch 2/5, train_loss: 0.6891\n",
      "batch 3/5, train_loss: 0.7293\n",
      "batch 4/5, train_loss: 0.6785\n",
      "batch 5/5, train_loss: 0.5972\n",
      "epoch 167 average loss: 0.6772\n",
      "----------\n",
      "epoch 168/200\n"
     ]
    },
    {
     "name": "stderr",
     "output_type": "stream",
     "text": [
      "/opt/conda/lib/python3.10/site-packages/monai/transforms/utils.py:743: UserWarning: no available indices of class 2 to crop, setting the crop ratio of this class to zero.\n",
      "  warnings.warn(\n",
      "/opt/conda/lib/python3.10/site-packages/monai/transforms/utils.py:743: UserWarning: no available indices of class 7 to crop, setting the crop ratio of this class to zero.\n",
      "  warnings.warn(\n",
      "/opt/conda/lib/python3.10/site-packages/monai/transforms/utils.py:743: UserWarning: no available indices of class 2 to crop, setting the crop ratio of this class to zero.\n",
      "  warnings.warn(\n",
      "/opt/conda/lib/python3.10/site-packages/monai/transforms/utils.py:743: UserWarning: no available indices of class 7 to crop, setting the crop ratio of this class to zero.\n",
      "  warnings.warn(\n",
      "/opt/conda/lib/python3.10/site-packages/monai/transforms/utils.py:743: UserWarning: no available indices of class 2 to crop, setting the crop ratio of this class to zero.\n",
      "  warnings.warn(\n",
      "/opt/conda/lib/python3.10/site-packages/monai/transforms/utils.py:743: UserWarning: no available indices of class 2 to crop, setting the crop ratio of this class to zero.\n",
      "  warnings.warn(\n",
      "/opt/conda/lib/python3.10/site-packages/monai/transforms/utils.py:743: UserWarning: no available indices of class 7 to crop, setting the crop ratio of this class to zero.\n",
      "  warnings.warn(\n",
      "/opt/conda/lib/python3.10/site-packages/monai/transforms/utils.py:743: UserWarning: no available indices of class 7 to crop, setting the crop ratio of this class to zero.\n",
      "  warnings.warn(\n"
     ]
    },
    {
     "name": "stdout",
     "output_type": "stream",
     "text": [
      "batch 1/5, train_loss: 0.6777\n",
      "batch 2/5, train_loss: 0.6857\n",
      "batch 3/5, train_loss: 0.6760\n",
      "batch 4/5, train_loss: 0.7003\n",
      "batch 5/5, train_loss: 0.7139\n",
      "epoch 168 average loss: 0.6907\n"
     ]
    },
    {
     "name": "stderr",
     "output_type": "stream",
     "text": [
      "/opt/conda/lib/python3.10/site-packages/monai/transforms/utils.py:743: UserWarning: no available indices of class 2 to crop, setting the crop ratio of this class to zero.\n",
      "  warnings.warn(\n",
      "/opt/conda/lib/python3.10/site-packages/monai/transforms/utils.py:743: UserWarning: no available indices of class 2 to crop, setting the crop ratio of this class to zero.\n",
      "  warnings.warn(\n",
      "/opt/conda/lib/python3.10/site-packages/monai/transforms/utils.py:743: UserWarning: no available indices of class 7 to crop, setting the crop ratio of this class to zero.\n",
      "  warnings.warn(\n",
      "/opt/conda/lib/python3.10/site-packages/monai/transforms/utils.py:743: UserWarning: no available indices of class 7 to crop, setting the crop ratio of this class to zero.\n",
      "  warnings.warn(\n"
     ]
    },
    {
     "name": "stdout",
     "output_type": "stream",
     "text": [
      "current epoch: 168 current mean recall per class: 0.7651, 0, 0.2216, 0.6162, 0.3702, 0.8272, 0\n",
      "best mean recall: 0.4214 at epoch: 166\n",
      "----------\n",
      "epoch 169/200\n"
     ]
    },
    {
     "name": "stderr",
     "output_type": "stream",
     "text": [
      "/opt/conda/lib/python3.10/site-packages/monai/transforms/utils.py:743: UserWarning: no available indices of class 2 to crop, setting the crop ratio of this class to zero.\n",
      "  warnings.warn(\n",
      "/opt/conda/lib/python3.10/site-packages/monai/transforms/utils.py:743: UserWarning: no available indices of class 7 to crop, setting the crop ratio of this class to zero.\n",
      "  warnings.warn(\n",
      "/opt/conda/lib/python3.10/site-packages/monai/transforms/utils.py:743: UserWarning: no available indices of class 2 to crop, setting the crop ratio of this class to zero.\n",
      "  warnings.warn(\n",
      "/opt/conda/lib/python3.10/site-packages/monai/transforms/utils.py:743: UserWarning: no available indices of class 7 to crop, setting the crop ratio of this class to zero.\n",
      "  warnings.warn(\n",
      "/opt/conda/lib/python3.10/site-packages/monai/transforms/utils.py:743: UserWarning: no available indices of class 2 to crop, setting the crop ratio of this class to zero.\n",
      "  warnings.warn(\n",
      "/opt/conda/lib/python3.10/site-packages/monai/transforms/utils.py:743: UserWarning: no available indices of class 2 to crop, setting the crop ratio of this class to zero.\n",
      "  warnings.warn(\n",
      "/opt/conda/lib/python3.10/site-packages/monai/transforms/utils.py:743: UserWarning: no available indices of class 7 to crop, setting the crop ratio of this class to zero.\n",
      "  warnings.warn(\n",
      "/opt/conda/lib/python3.10/site-packages/monai/transforms/utils.py:743: UserWarning: no available indices of class 7 to crop, setting the crop ratio of this class to zero.\n",
      "  warnings.warn(\n"
     ]
    },
    {
     "name": "stdout",
     "output_type": "stream",
     "text": [
      "batch 1/5, train_loss: 0.6605\n",
      "batch 2/5, train_loss: 0.6910\n",
      "batch 3/5, train_loss: 0.6721\n",
      "batch 4/5, train_loss: 0.6854\n",
      "batch 5/5, train_loss: 0.6624\n",
      "epoch 169 average loss: 0.6743\n",
      "----------\n",
      "epoch 170/200\n"
     ]
    },
    {
     "name": "stderr",
     "output_type": "stream",
     "text": [
      "/opt/conda/lib/python3.10/site-packages/monai/transforms/utils.py:743: UserWarning: no available indices of class 2 to crop, setting the crop ratio of this class to zero.\n",
      "  warnings.warn(\n",
      "/opt/conda/lib/python3.10/site-packages/monai/transforms/utils.py:743: UserWarning: no available indices of class 7 to crop, setting the crop ratio of this class to zero.\n",
      "  warnings.warn(\n",
      "/opt/conda/lib/python3.10/site-packages/monai/transforms/utils.py:743: UserWarning: no available indices of class 2 to crop, setting the crop ratio of this class to zero.\n",
      "  warnings.warn(\n",
      "/opt/conda/lib/python3.10/site-packages/monai/transforms/utils.py:743: UserWarning: no available indices of class 2 to crop, setting the crop ratio of this class to zero.\n",
      "  warnings.warn(\n",
      "/opt/conda/lib/python3.10/site-packages/monai/transforms/utils.py:743: UserWarning: no available indices of class 7 to crop, setting the crop ratio of this class to zero.\n",
      "  warnings.warn(\n",
      "/opt/conda/lib/python3.10/site-packages/monai/transforms/utils.py:743: UserWarning: no available indices of class 7 to crop, setting the crop ratio of this class to zero.\n",
      "  warnings.warn(\n",
      "/opt/conda/lib/python3.10/site-packages/monai/transforms/utils.py:743: UserWarning: no available indices of class 2 to crop, setting the crop ratio of this class to zero.\n",
      "  warnings.warn(\n",
      "/opt/conda/lib/python3.10/site-packages/monai/transforms/utils.py:743: UserWarning: no available indices of class 7 to crop, setting the crop ratio of this class to zero.\n",
      "  warnings.warn(\n"
     ]
    },
    {
     "name": "stdout",
     "output_type": "stream",
     "text": [
      "batch 1/5, train_loss: 0.7117\n",
      "batch 2/5, train_loss: 0.6752\n",
      "batch 3/5, train_loss: 0.6631\n",
      "batch 4/5, train_loss: 0.6593\n",
      "batch 5/5, train_loss: 0.7260\n",
      "epoch 170 average loss: 0.6871\n"
     ]
    },
    {
     "name": "stderr",
     "output_type": "stream",
     "text": [
      "/opt/conda/lib/python3.10/site-packages/monai/transforms/utils.py:743: UserWarning: no available indices of class 2 to crop, setting the crop ratio of this class to zero.\n",
      "  warnings.warn(\n",
      "/opt/conda/lib/python3.10/site-packages/monai/transforms/utils.py:743: UserWarning: no available indices of class 7 to crop, setting the crop ratio of this class to zero.\n",
      "  warnings.warn(\n",
      "/opt/conda/lib/python3.10/site-packages/monai/transforms/utils.py:743: UserWarning: no available indices of class 2 to crop, setting the crop ratio of this class to zero.\n",
      "  warnings.warn(\n",
      "/opt/conda/lib/python3.10/site-packages/monai/transforms/utils.py:743: UserWarning: no available indices of class 7 to crop, setting the crop ratio of this class to zero.\n",
      "  warnings.warn(\n"
     ]
    },
    {
     "name": "stdout",
     "output_type": "stream",
     "text": [
      "current epoch: 170 current mean recall per class: 0.6926, 0, 0.2363, 0.5658, 0.4017, 0.7959, 0\n",
      "best mean recall: 0.4214 at epoch: 166\n",
      "----------\n",
      "epoch 171/200\n"
     ]
    },
    {
     "name": "stderr",
     "output_type": "stream",
     "text": [
      "/opt/conda/lib/python3.10/site-packages/monai/transforms/utils.py:743: UserWarning: no available indices of class 2 to crop, setting the crop ratio of this class to zero.\n",
      "  warnings.warn(\n",
      "/opt/conda/lib/python3.10/site-packages/monai/transforms/utils.py:743: UserWarning: no available indices of class 7 to crop, setting the crop ratio of this class to zero.\n",
      "  warnings.warn(\n",
      "/opt/conda/lib/python3.10/site-packages/monai/transforms/utils.py:743: UserWarning: no available indices of class 2 to crop, setting the crop ratio of this class to zero.\n",
      "  warnings.warn(\n",
      "/opt/conda/lib/python3.10/site-packages/monai/transforms/utils.py:743: UserWarning: no available indices of class 7 to crop, setting the crop ratio of this class to zero.\n",
      "  warnings.warn(\n",
      "/opt/conda/lib/python3.10/site-packages/monai/transforms/utils.py:743: UserWarning: no available indices of class 2 to crop, setting the crop ratio of this class to zero.\n",
      "  warnings.warn(\n",
      "/opt/conda/lib/python3.10/site-packages/monai/transforms/utils.py:743: UserWarning: no available indices of class 7 to crop, setting the crop ratio of this class to zero.\n",
      "  warnings.warn(\n",
      "/opt/conda/lib/python3.10/site-packages/monai/transforms/utils.py:743: UserWarning: no available indices of class 2 to crop, setting the crop ratio of this class to zero.\n",
      "  warnings.warn(\n",
      "/opt/conda/lib/python3.10/site-packages/monai/transforms/utils.py:743: UserWarning: no available indices of class 7 to crop, setting the crop ratio of this class to zero.\n",
      "  warnings.warn(\n"
     ]
    },
    {
     "name": "stdout",
     "output_type": "stream",
     "text": [
      "batch 1/5, train_loss: 0.7025\n",
      "batch 2/5, train_loss: 0.6817\n",
      "batch 3/5, train_loss: 0.6946\n",
      "batch 4/5, train_loss: 0.6882\n",
      "batch 5/5, train_loss: 0.6919\n",
      "epoch 171 average loss: 0.6918\n",
      "----------\n",
      "epoch 172/200\n"
     ]
    },
    {
     "name": "stderr",
     "output_type": "stream",
     "text": [
      "/opt/conda/lib/python3.10/site-packages/monai/transforms/utils.py:743: UserWarning: no available indices of class 2 to crop, setting the crop ratio of this class to zero.\n",
      "  warnings.warn(\n",
      "/opt/conda/lib/python3.10/site-packages/monai/transforms/utils.py:743: UserWarning: no available indices of class 7 to crop, setting the crop ratio of this class to zero.\n",
      "  warnings.warn(\n",
      "/opt/conda/lib/python3.10/site-packages/monai/transforms/utils.py:743: UserWarning: no available indices of class 2 to crop, setting the crop ratio of this class to zero.\n",
      "  warnings.warn(\n",
      "/opt/conda/lib/python3.10/site-packages/monai/transforms/utils.py:743: UserWarning: no available indices of class 7 to crop, setting the crop ratio of this class to zero.\n",
      "  warnings.warn(\n",
      "/opt/conda/lib/python3.10/site-packages/monai/transforms/utils.py:743: UserWarning: no available indices of class 2 to crop, setting the crop ratio of this class to zero.\n",
      "  warnings.warn(\n",
      "/opt/conda/lib/python3.10/site-packages/monai/transforms/utils.py:743: UserWarning: no available indices of class 2 to crop, setting the crop ratio of this class to zero.\n",
      "  warnings.warn(\n",
      "/opt/conda/lib/python3.10/site-packages/monai/transforms/utils.py:743: UserWarning: no available indices of class 7 to crop, setting the crop ratio of this class to zero.\n",
      "  warnings.warn(\n",
      "/opt/conda/lib/python3.10/site-packages/monai/transforms/utils.py:743: UserWarning: no available indices of class 7 to crop, setting the crop ratio of this class to zero.\n",
      "  warnings.warn(\n"
     ]
    },
    {
     "name": "stdout",
     "output_type": "stream",
     "text": [
      "batch 1/5, train_loss: 0.6766\n",
      "batch 2/5, train_loss: 0.7025\n",
      "batch 3/5, train_loss: 0.6614\n",
      "batch 4/5, train_loss: 0.7295\n",
      "batch 5/5, train_loss: 0.7234\n",
      "epoch 172 average loss: 0.6987\n"
     ]
    },
    {
     "name": "stderr",
     "output_type": "stream",
     "text": [
      "/opt/conda/lib/python3.10/site-packages/monai/transforms/utils.py:743: UserWarning: no available indices of class 2 to crop, setting the crop ratio of this class to zero.\n",
      "  warnings.warn(\n",
      "/opt/conda/lib/python3.10/site-packages/monai/transforms/utils.py:743: UserWarning: no available indices of class 7 to crop, setting the crop ratio of this class to zero.\n",
      "  warnings.warn(\n",
      "/opt/conda/lib/python3.10/site-packages/monai/transforms/utils.py:743: UserWarning: no available indices of class 2 to crop, setting the crop ratio of this class to zero.\n",
      "  warnings.warn(\n",
      "/opt/conda/lib/python3.10/site-packages/monai/transforms/utils.py:743: UserWarning: no available indices of class 7 to crop, setting the crop ratio of this class to zero.\n",
      "  warnings.warn(\n"
     ]
    },
    {
     "name": "stdout",
     "output_type": "stream",
     "text": [
      "current epoch: 172 current mean recall per class: 0.6045, 0, 0.2476, 0.5909, 0.3998, 0.7668, 0\n",
      "best mean recall: 0.4214 at epoch: 166\n",
      "----------\n",
      "epoch 173/200\n"
     ]
    },
    {
     "name": "stderr",
     "output_type": "stream",
     "text": [
      "/opt/conda/lib/python3.10/site-packages/monai/transforms/utils.py:743: UserWarning: no available indices of class 2 to crop, setting the crop ratio of this class to zero.\n",
      "  warnings.warn(\n",
      "/opt/conda/lib/python3.10/site-packages/monai/transforms/utils.py:743: UserWarning: no available indices of class 7 to crop, setting the crop ratio of this class to zero.\n",
      "  warnings.warn(\n",
      "/opt/conda/lib/python3.10/site-packages/monai/transforms/utils.py:743: UserWarning: no available indices of class 2 to crop, setting the crop ratio of this class to zero.\n",
      "  warnings.warn(\n",
      "/opt/conda/lib/python3.10/site-packages/monai/transforms/utils.py:743: UserWarning: no available indices of class 7 to crop, setting the crop ratio of this class to zero.\n",
      "  warnings.warn(\n",
      "/opt/conda/lib/python3.10/site-packages/monai/transforms/utils.py:743: UserWarning: no available indices of class 2 to crop, setting the crop ratio of this class to zero.\n",
      "  warnings.warn(\n",
      "/opt/conda/lib/python3.10/site-packages/monai/transforms/utils.py:743: UserWarning: no available indices of class 7 to crop, setting the crop ratio of this class to zero.\n",
      "  warnings.warn(\n",
      "/opt/conda/lib/python3.10/site-packages/monai/transforms/utils.py:743: UserWarning: no available indices of class 2 to crop, setting the crop ratio of this class to zero.\n",
      "  warnings.warn(\n",
      "/opt/conda/lib/python3.10/site-packages/monai/transforms/utils.py:743: UserWarning: no available indices of class 7 to crop, setting the crop ratio of this class to zero.\n",
      "  warnings.warn(\n"
     ]
    },
    {
     "name": "stdout",
     "output_type": "stream",
     "text": [
      "batch 1/5, train_loss: 0.7103\n",
      "batch 2/5, train_loss: 0.6672\n",
      "batch 3/5, train_loss: 0.7064\n",
      "batch 4/5, train_loss: 0.6523\n",
      "batch 5/5, train_loss: 0.6719\n",
      "epoch 173 average loss: 0.6816\n",
      "----------\n",
      "epoch 174/200\n"
     ]
    },
    {
     "name": "stderr",
     "output_type": "stream",
     "text": [
      "/opt/conda/lib/python3.10/site-packages/monai/transforms/utils.py:743: UserWarning: no available indices of class 2 to crop, setting the crop ratio of this class to zero.\n",
      "  warnings.warn(\n",
      "/opt/conda/lib/python3.10/site-packages/monai/transforms/utils.py:743: UserWarning: no available indices of class 2 to crop, setting the crop ratio of this class to zero.\n",
      "  warnings.warn(\n",
      "/opt/conda/lib/python3.10/site-packages/monai/transforms/utils.py:743: UserWarning: no available indices of class 7 to crop, setting the crop ratio of this class to zero.\n",
      "  warnings.warn(\n",
      "/opt/conda/lib/python3.10/site-packages/monai/transforms/utils.py:743: UserWarning: no available indices of class 2 to crop, setting the crop ratio of this class to zero.\n",
      "  warnings.warn(\n",
      "/opt/conda/lib/python3.10/site-packages/monai/transforms/utils.py:743: UserWarning: no available indices of class 7 to crop, setting the crop ratio of this class to zero.\n",
      "  warnings.warn(\n",
      "/opt/conda/lib/python3.10/site-packages/monai/transforms/utils.py:743: UserWarning: no available indices of class 7 to crop, setting the crop ratio of this class to zero.\n",
      "  warnings.warn(\n",
      "/opt/conda/lib/python3.10/site-packages/monai/transforms/utils.py:743: UserWarning: no available indices of class 2 to crop, setting the crop ratio of this class to zero.\n",
      "  warnings.warn(\n",
      "/opt/conda/lib/python3.10/site-packages/monai/transforms/utils.py:743: UserWarning: no available indices of class 7 to crop, setting the crop ratio of this class to zero.\n",
      "  warnings.warn(\n"
     ]
    },
    {
     "name": "stdout",
     "output_type": "stream",
     "text": [
      "batch 1/5, train_loss: 0.6710\n",
      "batch 2/5, train_loss: 0.6707\n",
      "batch 3/5, train_loss: 0.7292\n",
      "batch 4/5, train_loss: 0.7359\n",
      "batch 5/5, train_loss: 0.6790\n",
      "epoch 174 average loss: 0.6972\n"
     ]
    },
    {
     "name": "stderr",
     "output_type": "stream",
     "text": [
      "/opt/conda/lib/python3.10/site-packages/monai/transforms/utils.py:743: UserWarning: no available indices of class 2 to crop, setting the crop ratio of this class to zero.\n",
      "  warnings.warn(\n",
      "/opt/conda/lib/python3.10/site-packages/monai/transforms/utils.py:743: UserWarning: no available indices of class 7 to crop, setting the crop ratio of this class to zero.\n",
      "  warnings.warn(\n",
      "/opt/conda/lib/python3.10/site-packages/monai/transforms/utils.py:743: UserWarning: no available indices of class 2 to crop, setting the crop ratio of this class to zero.\n",
      "  warnings.warn(\n",
      "/opt/conda/lib/python3.10/site-packages/monai/transforms/utils.py:743: UserWarning: no available indices of class 7 to crop, setting the crop ratio of this class to zero.\n",
      "  warnings.warn(\n"
     ]
    },
    {
     "name": "stdout",
     "output_type": "stream",
     "text": [
      "current epoch: 174 current mean recall per class: 0.6409, 0, 0.1487, 0.6665, 0.397, 0.6554, 0\n",
      "best mean recall: 0.4214 at epoch: 166\n",
      "----------\n",
      "epoch 175/200\n"
     ]
    },
    {
     "name": "stderr",
     "output_type": "stream",
     "text": [
      "/opt/conda/lib/python3.10/site-packages/monai/transforms/utils.py:743: UserWarning: no available indices of class 2 to crop, setting the crop ratio of this class to zero.\n",
      "  warnings.warn(\n",
      "/opt/conda/lib/python3.10/site-packages/monai/transforms/utils.py:743: UserWarning: no available indices of class 7 to crop, setting the crop ratio of this class to zero.\n",
      "  warnings.warn(\n",
      "/opt/conda/lib/python3.10/site-packages/monai/transforms/utils.py:743: UserWarning: no available indices of class 2 to crop, setting the crop ratio of this class to zero.\n",
      "  warnings.warn(\n",
      "/opt/conda/lib/python3.10/site-packages/monai/transforms/utils.py:743: UserWarning: no available indices of class 7 to crop, setting the crop ratio of this class to zero.\n",
      "  warnings.warn(\n",
      "/opt/conda/lib/python3.10/site-packages/monai/transforms/utils.py:743: UserWarning: no available indices of class 2 to crop, setting the crop ratio of this class to zero.\n",
      "  warnings.warn(\n",
      "/opt/conda/lib/python3.10/site-packages/monai/transforms/utils.py:743: UserWarning: no available indices of class 7 to crop, setting the crop ratio of this class to zero.\n",
      "  warnings.warn(\n",
      "/opt/conda/lib/python3.10/site-packages/monai/transforms/utils.py:743: UserWarning: no available indices of class 2 to crop, setting the crop ratio of this class to zero.\n",
      "  warnings.warn(\n",
      "/opt/conda/lib/python3.10/site-packages/monai/transforms/utils.py:743: UserWarning: no available indices of class 7 to crop, setting the crop ratio of this class to zero.\n",
      "  warnings.warn(\n"
     ]
    },
    {
     "name": "stdout",
     "output_type": "stream",
     "text": [
      "batch 1/5, train_loss: 0.7145\n",
      "batch 2/5, train_loss: 0.7077\n",
      "batch 3/5, train_loss: 0.7158\n",
      "batch 4/5, train_loss: 0.7095\n",
      "batch 5/5, train_loss: 0.6949\n",
      "epoch 175 average loss: 0.7085\n",
      "----------\n",
      "epoch 176/200\n"
     ]
    },
    {
     "name": "stderr",
     "output_type": "stream",
     "text": [
      "/opt/conda/lib/python3.10/site-packages/monai/transforms/utils.py:743: UserWarning: no available indices of class 2 to crop, setting the crop ratio of this class to zero.\n",
      "  warnings.warn(\n",
      "/opt/conda/lib/python3.10/site-packages/monai/transforms/utils.py:743: UserWarning: no available indices of class 7 to crop, setting the crop ratio of this class to zero.\n",
      "  warnings.warn(\n",
      "/opt/conda/lib/python3.10/site-packages/monai/transforms/utils.py:743: UserWarning: no available indices of class 2 to crop, setting the crop ratio of this class to zero.\n",
      "  warnings.warn(\n",
      "/opt/conda/lib/python3.10/site-packages/monai/transforms/utils.py:743: UserWarning: no available indices of class 7 to crop, setting the crop ratio of this class to zero.\n",
      "  warnings.warn(\n",
      "/opt/conda/lib/python3.10/site-packages/monai/transforms/utils.py:743: UserWarning: no available indices of class 2 to crop, setting the crop ratio of this class to zero.\n",
      "  warnings.warn(\n",
      "/opt/conda/lib/python3.10/site-packages/monai/transforms/utils.py:743: UserWarning: no available indices of class 7 to crop, setting the crop ratio of this class to zero.\n",
      "  warnings.warn(\n",
      "/opt/conda/lib/python3.10/site-packages/monai/transforms/utils.py:743: UserWarning: no available indices of class 2 to crop, setting the crop ratio of this class to zero.\n",
      "  warnings.warn(\n",
      "/opt/conda/lib/python3.10/site-packages/monai/transforms/utils.py:743: UserWarning: no available indices of class 7 to crop, setting the crop ratio of this class to zero.\n",
      "  warnings.warn(\n"
     ]
    },
    {
     "name": "stdout",
     "output_type": "stream",
     "text": [
      "batch 1/5, train_loss: 0.6913\n",
      "batch 2/5, train_loss: 0.7204\n",
      "batch 3/5, train_loss: 0.6979\n",
      "batch 4/5, train_loss: 0.7206\n",
      "batch 5/5, train_loss: 0.7111\n",
      "epoch 176 average loss: 0.7083\n"
     ]
    },
    {
     "name": "stderr",
     "output_type": "stream",
     "text": [
      "/opt/conda/lib/python3.10/site-packages/monai/transforms/utils.py:743: UserWarning: no available indices of class 2 to crop, setting the crop ratio of this class to zero.\n",
      "  warnings.warn(\n",
      "/opt/conda/lib/python3.10/site-packages/monai/transforms/utils.py:743: UserWarning: no available indices of class 7 to crop, setting the crop ratio of this class to zero.\n",
      "  warnings.warn(\n",
      "/opt/conda/lib/python3.10/site-packages/monai/transforms/utils.py:743: UserWarning: no available indices of class 2 to crop, setting the crop ratio of this class to zero.\n",
      "  warnings.warn(\n",
      "/opt/conda/lib/python3.10/site-packages/monai/transforms/utils.py:743: UserWarning: no available indices of class 7 to crop, setting the crop ratio of this class to zero.\n",
      "  warnings.warn(\n"
     ]
    },
    {
     "name": "stdout",
     "output_type": "stream",
     "text": [
      "current epoch: 176 current mean recall per class: 0.6881, 0, 0.2859, 0.7294, 0.3837, 0.6929, 0\n",
      "best mean recall: 0.4214 at epoch: 166\n",
      "----------\n",
      "epoch 177/200\n"
     ]
    },
    {
     "name": "stderr",
     "output_type": "stream",
     "text": [
      "/opt/conda/lib/python3.10/site-packages/monai/transforms/utils.py:743: UserWarning: no available indices of class 2 to crop, setting the crop ratio of this class to zero.\n",
      "  warnings.warn(\n",
      "/opt/conda/lib/python3.10/site-packages/monai/transforms/utils.py:743: UserWarning: no available indices of class 7 to crop, setting the crop ratio of this class to zero.\n",
      "  warnings.warn(\n",
      "/opt/conda/lib/python3.10/site-packages/monai/transforms/utils.py:743: UserWarning: no available indices of class 2 to crop, setting the crop ratio of this class to zero.\n",
      "  warnings.warn(\n",
      "/opt/conda/lib/python3.10/site-packages/monai/transforms/utils.py:743: UserWarning: no available indices of class 7 to crop, setting the crop ratio of this class to zero.\n",
      "  warnings.warn(\n",
      "/opt/conda/lib/python3.10/site-packages/monai/transforms/utils.py:743: UserWarning: no available indices of class 2 to crop, setting the crop ratio of this class to zero.\n",
      "  warnings.warn(\n",
      "/opt/conda/lib/python3.10/site-packages/monai/transforms/utils.py:743: UserWarning: no available indices of class 7 to crop, setting the crop ratio of this class to zero.\n",
      "  warnings.warn(\n",
      "/opt/conda/lib/python3.10/site-packages/monai/transforms/utils.py:743: UserWarning: no available indices of class 2 to crop, setting the crop ratio of this class to zero.\n",
      "  warnings.warn(\n",
      "/opt/conda/lib/python3.10/site-packages/monai/transforms/utils.py:743: UserWarning: no available indices of class 7 to crop, setting the crop ratio of this class to zero.\n",
      "  warnings.warn(\n"
     ]
    },
    {
     "name": "stdout",
     "output_type": "stream",
     "text": [
      "batch 1/5, train_loss: 0.7075\n",
      "batch 2/5, train_loss: 0.7214\n",
      "batch 3/5, train_loss: 0.6601\n",
      "batch 4/5, train_loss: 0.6908\n",
      "batch 5/5, train_loss: 0.6905\n",
      "epoch 177 average loss: 0.6940\n",
      "----------\n",
      "epoch 178/200\n"
     ]
    },
    {
     "name": "stderr",
     "output_type": "stream",
     "text": [
      "/opt/conda/lib/python3.10/site-packages/monai/transforms/utils.py:743: UserWarning: no available indices of class 2 to crop, setting the crop ratio of this class to zero.\n",
      "  warnings.warn(\n",
      "/opt/conda/lib/python3.10/site-packages/monai/transforms/utils.py:743: UserWarning: no available indices of class 7 to crop, setting the crop ratio of this class to zero.\n",
      "  warnings.warn(\n",
      "/opt/conda/lib/python3.10/site-packages/monai/transforms/utils.py:743: UserWarning: no available indices of class 2 to crop, setting the crop ratio of this class to zero.\n",
      "  warnings.warn(\n",
      "/opt/conda/lib/python3.10/site-packages/monai/transforms/utils.py:743: UserWarning: no available indices of class 7 to crop, setting the crop ratio of this class to zero.\n",
      "  warnings.warn(\n",
      "/opt/conda/lib/python3.10/site-packages/monai/transforms/utils.py:743: UserWarning: no available indices of class 2 to crop, setting the crop ratio of this class to zero.\n",
      "  warnings.warn(\n",
      "/opt/conda/lib/python3.10/site-packages/monai/transforms/utils.py:743: UserWarning: no available indices of class 7 to crop, setting the crop ratio of this class to zero.\n",
      "  warnings.warn(\n",
      "/opt/conda/lib/python3.10/site-packages/monai/transforms/utils.py:743: UserWarning: no available indices of class 2 to crop, setting the crop ratio of this class to zero.\n",
      "  warnings.warn(\n",
      "/opt/conda/lib/python3.10/site-packages/monai/transforms/utils.py:743: UserWarning: no available indices of class 7 to crop, setting the crop ratio of this class to zero.\n",
      "  warnings.warn(\n"
     ]
    },
    {
     "name": "stdout",
     "output_type": "stream",
     "text": [
      "batch 1/5, train_loss: 0.6690\n",
      "batch 2/5, train_loss: 0.6512\n",
      "batch 3/5, train_loss: 0.7244\n",
      "batch 4/5, train_loss: 0.6936\n",
      "batch 5/5, train_loss: 0.6600\n",
      "epoch 178 average loss: 0.6796\n"
     ]
    },
    {
     "name": "stderr",
     "output_type": "stream",
     "text": [
      "/opt/conda/lib/python3.10/site-packages/monai/transforms/utils.py:743: UserWarning: no available indices of class 2 to crop, setting the crop ratio of this class to zero.\n",
      "  warnings.warn(\n",
      "/opt/conda/lib/python3.10/site-packages/monai/transforms/utils.py:743: UserWarning: no available indices of class 2 to crop, setting the crop ratio of this class to zero.\n",
      "  warnings.warn(\n",
      "/opt/conda/lib/python3.10/site-packages/monai/transforms/utils.py:743: UserWarning: no available indices of class 7 to crop, setting the crop ratio of this class to zero.\n",
      "  warnings.warn(\n",
      "/opt/conda/lib/python3.10/site-packages/monai/transforms/utils.py:743: UserWarning: no available indices of class 7 to crop, setting the crop ratio of this class to zero.\n",
      "  warnings.warn(\n"
     ]
    },
    {
     "name": "stdout",
     "output_type": "stream",
     "text": [
      "current epoch: 178 current mean recall per class: 0.649, 0, 0.2489, 0.6617, 0.3526, 0.8287, 0\n",
      "best mean recall: 0.4214 at epoch: 166\n",
      "----------\n",
      "epoch 179/200\n"
     ]
    },
    {
     "name": "stderr",
     "output_type": "stream",
     "text": [
      "/opt/conda/lib/python3.10/site-packages/monai/transforms/utils.py:743: UserWarning: no available indices of class 2 to crop, setting the crop ratio of this class to zero.\n",
      "  warnings.warn(\n",
      "/opt/conda/lib/python3.10/site-packages/monai/transforms/utils.py:743: UserWarning: no available indices of class 7 to crop, setting the crop ratio of this class to zero.\n",
      "  warnings.warn(\n",
      "/opt/conda/lib/python3.10/site-packages/monai/transforms/utils.py:743: UserWarning: no available indices of class 2 to crop, setting the crop ratio of this class to zero.\n",
      "  warnings.warn(\n",
      "/opt/conda/lib/python3.10/site-packages/monai/transforms/utils.py:743: UserWarning: no available indices of class 7 to crop, setting the crop ratio of this class to zero.\n",
      "  warnings.warn(\n",
      "/opt/conda/lib/python3.10/site-packages/monai/transforms/utils.py:743: UserWarning: no available indices of class 2 to crop, setting the crop ratio of this class to zero.\n",
      "  warnings.warn(\n",
      "/opt/conda/lib/python3.10/site-packages/monai/transforms/utils.py:743: UserWarning: no available indices of class 7 to crop, setting the crop ratio of this class to zero.\n",
      "  warnings.warn(\n",
      "/opt/conda/lib/python3.10/site-packages/monai/transforms/utils.py:743: UserWarning: no available indices of class 2 to crop, setting the crop ratio of this class to zero.\n",
      "  warnings.warn(\n",
      "/opt/conda/lib/python3.10/site-packages/monai/transforms/utils.py:743: UserWarning: no available indices of class 7 to crop, setting the crop ratio of this class to zero.\n",
      "  warnings.warn(\n"
     ]
    },
    {
     "name": "stdout",
     "output_type": "stream",
     "text": [
      "batch 1/5, train_loss: 0.6907\n",
      "batch 2/5, train_loss: 0.6237\n",
      "batch 3/5, train_loss: 0.6507\n",
      "batch 4/5, train_loss: 0.7375\n",
      "batch 5/5, train_loss: 0.7125\n",
      "epoch 179 average loss: 0.6830\n",
      "----------\n",
      "epoch 180/200\n"
     ]
    },
    {
     "name": "stderr",
     "output_type": "stream",
     "text": [
      "/opt/conda/lib/python3.10/site-packages/monai/transforms/utils.py:743: UserWarning: no available indices of class 2 to crop, setting the crop ratio of this class to zero.\n",
      "  warnings.warn(\n",
      "/opt/conda/lib/python3.10/site-packages/monai/transforms/utils.py:743: UserWarning: no available indices of class 2 to crop, setting the crop ratio of this class to zero.\n",
      "  warnings.warn(\n",
      "/opt/conda/lib/python3.10/site-packages/monai/transforms/utils.py:743: UserWarning: no available indices of class 7 to crop, setting the crop ratio of this class to zero.\n",
      "  warnings.warn(\n",
      "/opt/conda/lib/python3.10/site-packages/monai/transforms/utils.py:743: UserWarning: no available indices of class 7 to crop, setting the crop ratio of this class to zero.\n",
      "  warnings.warn(\n",
      "/opt/conda/lib/python3.10/site-packages/monai/transforms/utils.py:743: UserWarning: no available indices of class 2 to crop, setting the crop ratio of this class to zero.\n",
      "  warnings.warn(\n",
      "/opt/conda/lib/python3.10/site-packages/monai/transforms/utils.py:743: UserWarning: no available indices of class 7 to crop, setting the crop ratio of this class to zero.\n",
      "  warnings.warn(\n",
      "/opt/conda/lib/python3.10/site-packages/monai/transforms/utils.py:743: UserWarning: no available indices of class 2 to crop, setting the crop ratio of this class to zero.\n",
      "  warnings.warn(\n",
      "/opt/conda/lib/python3.10/site-packages/monai/transforms/utils.py:743: UserWarning: no available indices of class 7 to crop, setting the crop ratio of this class to zero.\n",
      "  warnings.warn(\n"
     ]
    },
    {
     "name": "stdout",
     "output_type": "stream",
     "text": [
      "batch 1/5, train_loss: 0.7012\n",
      "batch 2/5, train_loss: 0.6774\n",
      "batch 3/5, train_loss: 0.6992\n",
      "batch 4/5, train_loss: 0.7342\n",
      "batch 5/5, train_loss: 0.7190\n",
      "epoch 180 average loss: 0.7062\n"
     ]
    },
    {
     "name": "stderr",
     "output_type": "stream",
     "text": [
      "/opt/conda/lib/python3.10/site-packages/monai/transforms/utils.py:743: UserWarning: no available indices of class 2 to crop, setting the crop ratio of this class to zero.\n",
      "  warnings.warn(\n",
      "/opt/conda/lib/python3.10/site-packages/monai/transforms/utils.py:743: UserWarning: no available indices of class 2 to crop, setting the crop ratio of this class to zero.\n",
      "  warnings.warn(\n",
      "/opt/conda/lib/python3.10/site-packages/monai/transforms/utils.py:743: UserWarning: no available indices of class 7 to crop, setting the crop ratio of this class to zero.\n",
      "  warnings.warn(\n",
      "/opt/conda/lib/python3.10/site-packages/monai/transforms/utils.py:743: UserWarning: no available indices of class 7 to crop, setting the crop ratio of this class to zero.\n",
      "  warnings.warn(\n"
     ]
    },
    {
     "name": "stdout",
     "output_type": "stream",
     "text": [
      "current epoch: 180 current mean recall per class: 0.5658, 0, 0.3242, 0.6496, 0.3664, 0.8479, 0\n",
      "best mean recall: 0.4214 at epoch: 166\n",
      "----------\n",
      "epoch 181/200\n"
     ]
    },
    {
     "name": "stderr",
     "output_type": "stream",
     "text": [
      "/opt/conda/lib/python3.10/site-packages/monai/transforms/utils.py:743: UserWarning: no available indices of class 2 to crop, setting the crop ratio of this class to zero.\n",
      "  warnings.warn(\n",
      "/opt/conda/lib/python3.10/site-packages/monai/transforms/utils.py:743: UserWarning: no available indices of class 7 to crop, setting the crop ratio of this class to zero.\n",
      "  warnings.warn(\n",
      "/opt/conda/lib/python3.10/site-packages/monai/transforms/utils.py:743: UserWarning: no available indices of class 2 to crop, setting the crop ratio of this class to zero.\n",
      "  warnings.warn(\n",
      "/opt/conda/lib/python3.10/site-packages/monai/transforms/utils.py:743: UserWarning: no available indices of class 7 to crop, setting the crop ratio of this class to zero.\n",
      "  warnings.warn(\n",
      "/opt/conda/lib/python3.10/site-packages/monai/transforms/utils.py:743: UserWarning: no available indices of class 2 to crop, setting the crop ratio of this class to zero.\n",
      "  warnings.warn(\n",
      "/opt/conda/lib/python3.10/site-packages/monai/transforms/utils.py:743: UserWarning: no available indices of class 7 to crop, setting the crop ratio of this class to zero.\n",
      "  warnings.warn(\n",
      "/opt/conda/lib/python3.10/site-packages/monai/transforms/utils.py:743: UserWarning: no available indices of class 2 to crop, setting the crop ratio of this class to zero.\n",
      "  warnings.warn(\n",
      "/opt/conda/lib/python3.10/site-packages/monai/transforms/utils.py:743: UserWarning: no available indices of class 7 to crop, setting the crop ratio of this class to zero.\n",
      "  warnings.warn(\n"
     ]
    },
    {
     "name": "stdout",
     "output_type": "stream",
     "text": [
      "batch 1/5, train_loss: 0.6702\n",
      "batch 2/5, train_loss: 0.6959\n",
      "batch 3/5, train_loss: 0.6840\n",
      "batch 4/5, train_loss: 0.7225\n",
      "batch 5/5, train_loss: 0.6727\n",
      "epoch 181 average loss: 0.6891\n",
      "----------\n",
      "epoch 182/200\n"
     ]
    },
    {
     "name": "stderr",
     "output_type": "stream",
     "text": [
      "/opt/conda/lib/python3.10/site-packages/monai/transforms/utils.py:743: UserWarning: no available indices of class 2 to crop, setting the crop ratio of this class to zero.\n",
      "  warnings.warn(\n",
      "/opt/conda/lib/python3.10/site-packages/monai/transforms/utils.py:743: UserWarning: no available indices of class 2 to crop, setting the crop ratio of this class to zero.\n",
      "  warnings.warn(\n",
      "/opt/conda/lib/python3.10/site-packages/monai/transforms/utils.py:743: UserWarning: no available indices of class 7 to crop, setting the crop ratio of this class to zero.\n",
      "  warnings.warn(\n",
      "/opt/conda/lib/python3.10/site-packages/monai/transforms/utils.py:743: UserWarning: no available indices of class 7 to crop, setting the crop ratio of this class to zero.\n",
      "  warnings.warn(\n",
      "/opt/conda/lib/python3.10/site-packages/monai/transforms/utils.py:743: UserWarning: no available indices of class 2 to crop, setting the crop ratio of this class to zero.\n",
      "  warnings.warn(\n",
      "/opt/conda/lib/python3.10/site-packages/monai/transforms/utils.py:743: UserWarning: no available indices of class 7 to crop, setting the crop ratio of this class to zero.\n",
      "  warnings.warn(\n",
      "/opt/conda/lib/python3.10/site-packages/monai/transforms/utils.py:743: UserWarning: no available indices of class 2 to crop, setting the crop ratio of this class to zero.\n",
      "  warnings.warn(\n",
      "/opt/conda/lib/python3.10/site-packages/monai/transforms/utils.py:743: UserWarning: no available indices of class 7 to crop, setting the crop ratio of this class to zero.\n",
      "  warnings.warn(\n"
     ]
    },
    {
     "name": "stdout",
     "output_type": "stream",
     "text": [
      "batch 1/5, train_loss: 0.7080\n",
      "batch 2/5, train_loss: 0.7426\n",
      "batch 3/5, train_loss: 0.6573\n",
      "batch 4/5, train_loss: 0.6717\n",
      "batch 5/5, train_loss: 0.6842\n",
      "epoch 182 average loss: 0.6928\n"
     ]
    },
    {
     "name": "stderr",
     "output_type": "stream",
     "text": [
      "/opt/conda/lib/python3.10/site-packages/monai/transforms/utils.py:743: UserWarning: no available indices of class 2 to crop, setting the crop ratio of this class to zero.\n",
      "  warnings.warn(\n",
      "/opt/conda/lib/python3.10/site-packages/monai/transforms/utils.py:743: UserWarning: no available indices of class 7 to crop, setting the crop ratio of this class to zero.\n",
      "  warnings.warn(\n",
      "/opt/conda/lib/python3.10/site-packages/monai/transforms/utils.py:743: UserWarning: no available indices of class 2 to crop, setting the crop ratio of this class to zero.\n",
      "  warnings.warn(\n",
      "/opt/conda/lib/python3.10/site-packages/monai/transforms/utils.py:743: UserWarning: no available indices of class 7 to crop, setting the crop ratio of this class to zero.\n",
      "  warnings.warn(\n"
     ]
    },
    {
     "name": "stdout",
     "output_type": "stream",
     "text": [
      "current epoch: 182 current mean recall per class: 0.6539, 0, 0.2704, 0.5986, 0.4813, 0.8273, 0\n",
      "best mean recall: 0.4214 at epoch: 166\n",
      "----------\n",
      "epoch 183/200\n"
     ]
    },
    {
     "name": "stderr",
     "output_type": "stream",
     "text": [
      "/opt/conda/lib/python3.10/site-packages/monai/transforms/utils.py:743: UserWarning: no available indices of class 2 to crop, setting the crop ratio of this class to zero.\n",
      "  warnings.warn(\n",
      "/opt/conda/lib/python3.10/site-packages/monai/transforms/utils.py:743: UserWarning: no available indices of class 2 to crop, setting the crop ratio of this class to zero.\n",
      "  warnings.warn(\n",
      "/opt/conda/lib/python3.10/site-packages/monai/transforms/utils.py:743: UserWarning: no available indices of class 7 to crop, setting the crop ratio of this class to zero.\n",
      "  warnings.warn(\n",
      "/opt/conda/lib/python3.10/site-packages/monai/transforms/utils.py:743: UserWarning: no available indices of class 2 to crop, setting the crop ratio of this class to zero.\n",
      "  warnings.warn(\n",
      "/opt/conda/lib/python3.10/site-packages/monai/transforms/utils.py:743: UserWarning: no available indices of class 7 to crop, setting the crop ratio of this class to zero.\n",
      "  warnings.warn(\n",
      "/opt/conda/lib/python3.10/site-packages/monai/transforms/utils.py:743: UserWarning: no available indices of class 7 to crop, setting the crop ratio of this class to zero.\n",
      "  warnings.warn(\n",
      "/opt/conda/lib/python3.10/site-packages/monai/transforms/utils.py:743: UserWarning: no available indices of class 2 to crop, setting the crop ratio of this class to zero.\n",
      "  warnings.warn(\n",
      "/opt/conda/lib/python3.10/site-packages/monai/transforms/utils.py:743: UserWarning: no available indices of class 7 to crop, setting the crop ratio of this class to zero.\n",
      "  warnings.warn(\n"
     ]
    },
    {
     "name": "stdout",
     "output_type": "stream",
     "text": [
      "batch 1/5, train_loss: 0.6709\n",
      "batch 2/5, train_loss: 0.6755\n",
      "batch 3/5, train_loss: 0.6781\n",
      "batch 4/5, train_loss: 0.6712\n",
      "batch 5/5, train_loss: 0.6186\n",
      "epoch 183 average loss: 0.6629\n",
      "----------\n",
      "epoch 184/200\n"
     ]
    },
    {
     "name": "stderr",
     "output_type": "stream",
     "text": [
      "/opt/conda/lib/python3.10/site-packages/monai/transforms/utils.py:743: UserWarning: no available indices of class 2 to crop, setting the crop ratio of this class to zero.\n",
      "  warnings.warn(\n",
      "/opt/conda/lib/python3.10/site-packages/monai/transforms/utils.py:743: UserWarning: no available indices of class 7 to crop, setting the crop ratio of this class to zero.\n",
      "  warnings.warn(\n",
      "/opt/conda/lib/python3.10/site-packages/monai/transforms/utils.py:743: UserWarning: no available indices of class 2 to crop, setting the crop ratio of this class to zero.\n",
      "  warnings.warn(\n",
      "/opt/conda/lib/python3.10/site-packages/monai/transforms/utils.py:743: UserWarning: no available indices of class 7 to crop, setting the crop ratio of this class to zero.\n",
      "  warnings.warn(\n",
      "/opt/conda/lib/python3.10/site-packages/monai/transforms/utils.py:743: UserWarning: no available indices of class 2 to crop, setting the crop ratio of this class to zero.\n",
      "  warnings.warn(\n",
      "/opt/conda/lib/python3.10/site-packages/monai/transforms/utils.py:743: UserWarning: no available indices of class 7 to crop, setting the crop ratio of this class to zero.\n",
      "  warnings.warn(\n",
      "/opt/conda/lib/python3.10/site-packages/monai/transforms/utils.py:743: UserWarning: no available indices of class 2 to crop, setting the crop ratio of this class to zero.\n",
      "  warnings.warn(\n",
      "/opt/conda/lib/python3.10/site-packages/monai/transforms/utils.py:743: UserWarning: no available indices of class 7 to crop, setting the crop ratio of this class to zero.\n",
      "  warnings.warn(\n"
     ]
    },
    {
     "name": "stdout",
     "output_type": "stream",
     "text": [
      "batch 1/5, train_loss: 0.7375\n",
      "batch 2/5, train_loss: 0.6693\n",
      "batch 3/5, train_loss: 0.6749\n",
      "batch 4/5, train_loss: 0.6630\n",
      "batch 5/5, train_loss: 0.6621\n",
      "epoch 184 average loss: 0.6814\n"
     ]
    },
    {
     "name": "stderr",
     "output_type": "stream",
     "text": [
      "/opt/conda/lib/python3.10/site-packages/monai/transforms/utils.py:743: UserWarning: no available indices of class 2 to crop, setting the crop ratio of this class to zero.\n",
      "  warnings.warn(\n",
      "/opt/conda/lib/python3.10/site-packages/monai/transforms/utils.py:743: UserWarning: no available indices of class 7 to crop, setting the crop ratio of this class to zero.\n",
      "  warnings.warn(\n",
      "/opt/conda/lib/python3.10/site-packages/monai/transforms/utils.py:743: UserWarning: no available indices of class 2 to crop, setting the crop ratio of this class to zero.\n",
      "  warnings.warn(\n",
      "/opt/conda/lib/python3.10/site-packages/monai/transforms/utils.py:743: UserWarning: no available indices of class 7 to crop, setting the crop ratio of this class to zero.\n",
      "  warnings.warn(\n"
     ]
    },
    {
     "name": "stdout",
     "output_type": "stream",
     "text": [
      "current epoch: 184 current mean recall per class: 0.6322, 0, 0.2364, 0.4546, 0.4546, 0.7786, 0\n",
      "best mean recall: 0.4214 at epoch: 166\n",
      "----------\n",
      "epoch 185/200\n"
     ]
    },
    {
     "name": "stderr",
     "output_type": "stream",
     "text": [
      "/opt/conda/lib/python3.10/site-packages/monai/transforms/utils.py:743: UserWarning: no available indices of class 2 to crop, setting the crop ratio of this class to zero.\n",
      "  warnings.warn(\n",
      "/opt/conda/lib/python3.10/site-packages/monai/transforms/utils.py:743: UserWarning: no available indices of class 7 to crop, setting the crop ratio of this class to zero.\n",
      "  warnings.warn(\n",
      "/opt/conda/lib/python3.10/site-packages/monai/transforms/utils.py:743: UserWarning: no available indices of class 2 to crop, setting the crop ratio of this class to zero.\n",
      "  warnings.warn(\n",
      "/opt/conda/lib/python3.10/site-packages/monai/transforms/utils.py:743: UserWarning: no available indices of class 7 to crop, setting the crop ratio of this class to zero.\n",
      "  warnings.warn(\n",
      "/opt/conda/lib/python3.10/site-packages/monai/transforms/utils.py:743: UserWarning: no available indices of class 2 to crop, setting the crop ratio of this class to zero.\n",
      "  warnings.warn(\n",
      "/opt/conda/lib/python3.10/site-packages/monai/transforms/utils.py:743: UserWarning: no available indices of class 7 to crop, setting the crop ratio of this class to zero.\n",
      "  warnings.warn(\n",
      "/opt/conda/lib/python3.10/site-packages/monai/transforms/utils.py:743: UserWarning: no available indices of class 2 to crop, setting the crop ratio of this class to zero.\n",
      "  warnings.warn(\n",
      "/opt/conda/lib/python3.10/site-packages/monai/transforms/utils.py:743: UserWarning: no available indices of class 7 to crop, setting the crop ratio of this class to zero.\n",
      "  warnings.warn(\n"
     ]
    },
    {
     "name": "stdout",
     "output_type": "stream",
     "text": [
      "batch 1/5, train_loss: 0.7126\n",
      "batch 2/5, train_loss: 0.7205\n",
      "batch 3/5, train_loss: 0.6664\n",
      "batch 4/5, train_loss: 0.6516\n",
      "batch 5/5, train_loss: 0.7189\n",
      "epoch 185 average loss: 0.6940\n",
      "----------\n",
      "epoch 186/200\n"
     ]
    },
    {
     "name": "stderr",
     "output_type": "stream",
     "text": [
      "/opt/conda/lib/python3.10/site-packages/monai/transforms/utils.py:743: UserWarning: no available indices of class 2 to crop, setting the crop ratio of this class to zero.\n",
      "  warnings.warn(\n",
      "/opt/conda/lib/python3.10/site-packages/monai/transforms/utils.py:743: UserWarning: no available indices of class 7 to crop, setting the crop ratio of this class to zero.\n",
      "  warnings.warn(\n",
      "/opt/conda/lib/python3.10/site-packages/monai/transforms/utils.py:743: UserWarning: no available indices of class 2 to crop, setting the crop ratio of this class to zero.\n",
      "  warnings.warn(\n",
      "/opt/conda/lib/python3.10/site-packages/monai/transforms/utils.py:743: UserWarning: no available indices of class 7 to crop, setting the crop ratio of this class to zero.\n",
      "  warnings.warn(\n",
      "/opt/conda/lib/python3.10/site-packages/monai/transforms/utils.py:743: UserWarning: no available indices of class 2 to crop, setting the crop ratio of this class to zero.\n",
      "  warnings.warn(\n",
      "/opt/conda/lib/python3.10/site-packages/monai/transforms/utils.py:743: UserWarning: no available indices of class 2 to crop, setting the crop ratio of this class to zero.\n",
      "  warnings.warn(\n",
      "/opt/conda/lib/python3.10/site-packages/monai/transforms/utils.py:743: UserWarning: no available indices of class 7 to crop, setting the crop ratio of this class to zero.\n",
      "  warnings.warn(\n",
      "/opt/conda/lib/python3.10/site-packages/monai/transforms/utils.py:743: UserWarning: no available indices of class 7 to crop, setting the crop ratio of this class to zero.\n",
      "  warnings.warn(\n"
     ]
    },
    {
     "name": "stdout",
     "output_type": "stream",
     "text": [
      "batch 1/5, train_loss: 0.6469\n",
      "batch 2/5, train_loss: 0.7330\n",
      "batch 3/5, train_loss: 0.6734\n",
      "batch 4/5, train_loss: 0.7270\n",
      "batch 5/5, train_loss: 0.6625\n",
      "epoch 186 average loss: 0.6886\n"
     ]
    },
    {
     "name": "stderr",
     "output_type": "stream",
     "text": [
      "/opt/conda/lib/python3.10/site-packages/monai/transforms/utils.py:743: UserWarning: no available indices of class 2 to crop, setting the crop ratio of this class to zero.\n",
      "  warnings.warn(\n",
      "/opt/conda/lib/python3.10/site-packages/monai/transforms/utils.py:743: UserWarning: no available indices of class 7 to crop, setting the crop ratio of this class to zero.\n",
      "  warnings.warn(\n",
      "/opt/conda/lib/python3.10/site-packages/monai/transforms/utils.py:743: UserWarning: no available indices of class 2 to crop, setting the crop ratio of this class to zero.\n",
      "  warnings.warn(\n",
      "/opt/conda/lib/python3.10/site-packages/monai/transforms/utils.py:743: UserWarning: no available indices of class 7 to crop, setting the crop ratio of this class to zero.\n",
      "  warnings.warn(\n"
     ]
    },
    {
     "name": "stdout",
     "output_type": "stream",
     "text": [
      "current epoch: 186 current mean recall per class: 0.8017, 0, 0.2396, 0.5353, 0.4347, 0.7824, 0\n",
      "best mean recall: 0.4214 at epoch: 166\n",
      "----------\n",
      "epoch 187/200\n"
     ]
    },
    {
     "name": "stderr",
     "output_type": "stream",
     "text": [
      "/opt/conda/lib/python3.10/site-packages/monai/transforms/utils.py:743: UserWarning: no available indices of class 2 to crop, setting the crop ratio of this class to zero.\n",
      "  warnings.warn(\n",
      "/opt/conda/lib/python3.10/site-packages/monai/transforms/utils.py:743: UserWarning: no available indices of class 7 to crop, setting the crop ratio of this class to zero.\n",
      "  warnings.warn(\n",
      "/opt/conda/lib/python3.10/site-packages/monai/transforms/utils.py:743: UserWarning: no available indices of class 2 to crop, setting the crop ratio of this class to zero.\n",
      "  warnings.warn(\n",
      "/opt/conda/lib/python3.10/site-packages/monai/transforms/utils.py:743: UserWarning: no available indices of class 2 to crop, setting the crop ratio of this class to zero.\n",
      "  warnings.warn(\n",
      "/opt/conda/lib/python3.10/site-packages/monai/transforms/utils.py:743: UserWarning: no available indices of class 2 to crop, setting the crop ratio of this class to zero.\n",
      "  warnings.warn(\n",
      "/opt/conda/lib/python3.10/site-packages/monai/transforms/utils.py:743: UserWarning: no available indices of class 7 to crop, setting the crop ratio of this class to zero.\n",
      "  warnings.warn(\n",
      "/opt/conda/lib/python3.10/site-packages/monai/transforms/utils.py:743: UserWarning: no available indices of class 7 to crop, setting the crop ratio of this class to zero.\n",
      "  warnings.warn(\n",
      "/opt/conda/lib/python3.10/site-packages/monai/transforms/utils.py:743: UserWarning: no available indices of class 7 to crop, setting the crop ratio of this class to zero.\n",
      "  warnings.warn(\n"
     ]
    },
    {
     "name": "stdout",
     "output_type": "stream",
     "text": [
      "batch 1/5, train_loss: 0.7001\n",
      "batch 2/5, train_loss: 0.7100\n",
      "batch 3/5, train_loss: 0.7056\n",
      "batch 4/5, train_loss: 0.6861\n",
      "batch 5/5, train_loss: 0.6872\n",
      "epoch 187 average loss: 0.6978\n",
      "----------\n",
      "epoch 188/200\n"
     ]
    },
    {
     "name": "stderr",
     "output_type": "stream",
     "text": [
      "/opt/conda/lib/python3.10/site-packages/monai/transforms/utils.py:743: UserWarning: no available indices of class 2 to crop, setting the crop ratio of this class to zero.\n",
      "  warnings.warn(\n",
      "/opt/conda/lib/python3.10/site-packages/monai/transforms/utils.py:743: UserWarning: no available indices of class 7 to crop, setting the crop ratio of this class to zero.\n",
      "  warnings.warn(\n",
      "/opt/conda/lib/python3.10/site-packages/monai/transforms/utils.py:743: UserWarning: no available indices of class 2 to crop, setting the crop ratio of this class to zero.\n",
      "  warnings.warn(\n",
      "/opt/conda/lib/python3.10/site-packages/monai/transforms/utils.py:743: UserWarning: no available indices of class 2 to crop, setting the crop ratio of this class to zero.\n",
      "  warnings.warn(\n",
      "/opt/conda/lib/python3.10/site-packages/monai/transforms/utils.py:743: UserWarning: no available indices of class 7 to crop, setting the crop ratio of this class to zero.\n",
      "  warnings.warn(\n",
      "/opt/conda/lib/python3.10/site-packages/monai/transforms/utils.py:743: UserWarning: no available indices of class 7 to crop, setting the crop ratio of this class to zero.\n",
      "  warnings.warn(\n",
      "/opt/conda/lib/python3.10/site-packages/monai/transforms/utils.py:743: UserWarning: no available indices of class 2 to crop, setting the crop ratio of this class to zero.\n",
      "  warnings.warn(\n",
      "/opt/conda/lib/python3.10/site-packages/monai/transforms/utils.py:743: UserWarning: no available indices of class 7 to crop, setting the crop ratio of this class to zero.\n",
      "  warnings.warn(\n"
     ]
    },
    {
     "name": "stdout",
     "output_type": "stream",
     "text": [
      "batch 1/5, train_loss: 0.7075\n",
      "batch 2/5, train_loss: 0.6550\n",
      "batch 3/5, train_loss: 0.6581\n",
      "batch 4/5, train_loss: 0.6862\n",
      "batch 5/5, train_loss: 0.6926\n",
      "epoch 188 average loss: 0.6799\n"
     ]
    },
    {
     "name": "stderr",
     "output_type": "stream",
     "text": [
      "/opt/conda/lib/python3.10/site-packages/monai/transforms/utils.py:743: UserWarning: no available indices of class 2 to crop, setting the crop ratio of this class to zero.\n",
      "  warnings.warn(\n",
      "/opt/conda/lib/python3.10/site-packages/monai/transforms/utils.py:743: UserWarning: no available indices of class 7 to crop, setting the crop ratio of this class to zero.\n",
      "  warnings.warn(\n",
      "/opt/conda/lib/python3.10/site-packages/monai/transforms/utils.py:743: UserWarning: no available indices of class 2 to crop, setting the crop ratio of this class to zero.\n",
      "  warnings.warn(\n",
      "/opt/conda/lib/python3.10/site-packages/monai/transforms/utils.py:743: UserWarning: no available indices of class 7 to crop, setting the crop ratio of this class to zero.\n",
      "  warnings.warn(\n"
     ]
    },
    {
     "name": "stdout",
     "output_type": "stream",
     "text": [
      "current epoch: 188 current mean recall per class: 0.6889, 0, 0.2129, 0.5264, 0.4827, 0.7692, 0\n",
      "best mean recall: 0.4214 at epoch: 166\n",
      "----------\n",
      "epoch 189/200\n"
     ]
    },
    {
     "name": "stderr",
     "output_type": "stream",
     "text": [
      "/opt/conda/lib/python3.10/site-packages/monai/transforms/utils.py:743: UserWarning: no available indices of class 2 to crop, setting the crop ratio of this class to zero.\n",
      "  warnings.warn(\n",
      "/opt/conda/lib/python3.10/site-packages/monai/transforms/utils.py:743: UserWarning: no available indices of class 7 to crop, setting the crop ratio of this class to zero.\n",
      "  warnings.warn(\n",
      "/opt/conda/lib/python3.10/site-packages/monai/transforms/utils.py:743: UserWarning: no available indices of class 2 to crop, setting the crop ratio of this class to zero.\n",
      "  warnings.warn(\n",
      "/opt/conda/lib/python3.10/site-packages/monai/transforms/utils.py:743: UserWarning: no available indices of class 7 to crop, setting the crop ratio of this class to zero.\n",
      "  warnings.warn(\n",
      "/opt/conda/lib/python3.10/site-packages/monai/transforms/utils.py:743: UserWarning: no available indices of class 2 to crop, setting the crop ratio of this class to zero.\n",
      "  warnings.warn(\n",
      "/opt/conda/lib/python3.10/site-packages/monai/transforms/utils.py:743: UserWarning: no available indices of class 7 to crop, setting the crop ratio of this class to zero.\n",
      "  warnings.warn(\n",
      "/opt/conda/lib/python3.10/site-packages/monai/transforms/utils.py:743: UserWarning: no available indices of class 2 to crop, setting the crop ratio of this class to zero.\n",
      "  warnings.warn(\n",
      "/opt/conda/lib/python3.10/site-packages/monai/transforms/utils.py:743: UserWarning: no available indices of class 7 to crop, setting the crop ratio of this class to zero.\n",
      "  warnings.warn(\n"
     ]
    },
    {
     "name": "stdout",
     "output_type": "stream",
     "text": [
      "batch 1/5, train_loss: 0.6682\n",
      "batch 2/5, train_loss: 0.6839\n",
      "batch 3/5, train_loss: 0.6649\n",
      "batch 4/5, train_loss: 0.7067\n",
      "batch 5/5, train_loss: 0.6827\n",
      "epoch 189 average loss: 0.6813\n",
      "----------\n",
      "epoch 190/200\n"
     ]
    },
    {
     "name": "stderr",
     "output_type": "stream",
     "text": [
      "/opt/conda/lib/python3.10/site-packages/monai/transforms/utils.py:743: UserWarning: no available indices of class 2 to crop, setting the crop ratio of this class to zero.\n",
      "  warnings.warn(\n",
      "/opt/conda/lib/python3.10/site-packages/monai/transforms/utils.py:743: UserWarning: no available indices of class 7 to crop, setting the crop ratio of this class to zero.\n",
      "  warnings.warn(\n",
      "/opt/conda/lib/python3.10/site-packages/monai/transforms/utils.py:743: UserWarning: no available indices of class 2 to crop, setting the crop ratio of this class to zero.\n",
      "  warnings.warn(\n",
      "/opt/conda/lib/python3.10/site-packages/monai/transforms/utils.py:743: UserWarning: no available indices of class 7 to crop, setting the crop ratio of this class to zero.\n",
      "  warnings.warn(\n",
      "/opt/conda/lib/python3.10/site-packages/monai/transforms/utils.py:743: UserWarning: no available indices of class 2 to crop, setting the crop ratio of this class to zero.\n",
      "  warnings.warn(\n",
      "/opt/conda/lib/python3.10/site-packages/monai/transforms/utils.py:743: UserWarning: no available indices of class 7 to crop, setting the crop ratio of this class to zero.\n",
      "  warnings.warn(\n",
      "/opt/conda/lib/python3.10/site-packages/monai/transforms/utils.py:743: UserWarning: no available indices of class 2 to crop, setting the crop ratio of this class to zero.\n",
      "  warnings.warn(\n",
      "/opt/conda/lib/python3.10/site-packages/monai/transforms/utils.py:743: UserWarning: no available indices of class 7 to crop, setting the crop ratio of this class to zero.\n",
      "  warnings.warn(\n"
     ]
    },
    {
     "name": "stdout",
     "output_type": "stream",
     "text": [
      "batch 1/5, train_loss: 0.6817\n",
      "batch 2/5, train_loss: 0.7093\n",
      "batch 3/5, train_loss: 0.6716\n",
      "batch 4/5, train_loss: 0.7111\n",
      "batch 5/5, train_loss: 0.6846\n",
      "epoch 190 average loss: 0.6916\n"
     ]
    },
    {
     "name": "stderr",
     "output_type": "stream",
     "text": [
      "/opt/conda/lib/python3.10/site-packages/monai/transforms/utils.py:743: UserWarning: no available indices of class 2 to crop, setting the crop ratio of this class to zero.\n",
      "  warnings.warn(\n",
      "/opt/conda/lib/python3.10/site-packages/monai/transforms/utils.py:743: UserWarning: no available indices of class 7 to crop, setting the crop ratio of this class to zero.\n",
      "  warnings.warn(\n",
      "/opt/conda/lib/python3.10/site-packages/monai/transforms/utils.py:743: UserWarning: no available indices of class 2 to crop, setting the crop ratio of this class to zero.\n",
      "  warnings.warn(\n",
      "/opt/conda/lib/python3.10/site-packages/monai/transforms/utils.py:743: UserWarning: no available indices of class 7 to crop, setting the crop ratio of this class to zero.\n",
      "  warnings.warn(\n"
     ]
    },
    {
     "name": "stdout",
     "output_type": "stream",
     "text": [
      "current epoch: 190 current mean recall per class: 0.659, 0, 0.1882, 0.556, 0.3973, 0.8295, 0\n",
      "best mean recall: 0.4214 at epoch: 166\n",
      "----------\n",
      "epoch 191/200\n"
     ]
    },
    {
     "name": "stderr",
     "output_type": "stream",
     "text": [
      "/opt/conda/lib/python3.10/site-packages/monai/transforms/utils.py:743: UserWarning: no available indices of class 2 to crop, setting the crop ratio of this class to zero.\n",
      "  warnings.warn(\n",
      "/opt/conda/lib/python3.10/site-packages/monai/transforms/utils.py:743: UserWarning: no available indices of class 7 to crop, setting the crop ratio of this class to zero.\n",
      "  warnings.warn(\n",
      "/opt/conda/lib/python3.10/site-packages/monai/transforms/utils.py:743: UserWarning: no available indices of class 2 to crop, setting the crop ratio of this class to zero.\n",
      "  warnings.warn(\n",
      "/opt/conda/lib/python3.10/site-packages/monai/transforms/utils.py:743: UserWarning: no available indices of class 7 to crop, setting the crop ratio of this class to zero.\n",
      "  warnings.warn(\n",
      "/opt/conda/lib/python3.10/site-packages/monai/transforms/utils.py:743: UserWarning: no available indices of class 2 to crop, setting the crop ratio of this class to zero.\n",
      "  warnings.warn(\n",
      "/opt/conda/lib/python3.10/site-packages/monai/transforms/utils.py:743: UserWarning: no available indices of class 2 to crop, setting the crop ratio of this class to zero.\n",
      "  warnings.warn(\n",
      "/opt/conda/lib/python3.10/site-packages/monai/transforms/utils.py:743: UserWarning: no available indices of class 7 to crop, setting the crop ratio of this class to zero.\n",
      "  warnings.warn(\n",
      "/opt/conda/lib/python3.10/site-packages/monai/transforms/utils.py:743: UserWarning: no available indices of class 7 to crop, setting the crop ratio of this class to zero.\n",
      "  warnings.warn(\n"
     ]
    },
    {
     "name": "stdout",
     "output_type": "stream",
     "text": [
      "batch 1/5, train_loss: 0.6906\n",
      "batch 2/5, train_loss: 0.7535\n",
      "batch 3/5, train_loss: 0.6791\n",
      "batch 4/5, train_loss: 0.6419\n",
      "batch 5/5, train_loss: 0.7116\n",
      "epoch 191 average loss: 0.6954\n",
      "----------\n",
      "epoch 192/200\n"
     ]
    },
    {
     "name": "stderr",
     "output_type": "stream",
     "text": [
      "/opt/conda/lib/python3.10/site-packages/monai/transforms/utils.py:743: UserWarning: no available indices of class 2 to crop, setting the crop ratio of this class to zero.\n",
      "  warnings.warn(\n",
      "/opt/conda/lib/python3.10/site-packages/monai/transforms/utils.py:743: UserWarning: no available indices of class 7 to crop, setting the crop ratio of this class to zero.\n",
      "  warnings.warn(\n",
      "/opt/conda/lib/python3.10/site-packages/monai/transforms/utils.py:743: UserWarning: no available indices of class 2 to crop, setting the crop ratio of this class to zero.\n",
      "  warnings.warn(\n",
      "/opt/conda/lib/python3.10/site-packages/monai/transforms/utils.py:743: UserWarning: no available indices of class 7 to crop, setting the crop ratio of this class to zero.\n",
      "  warnings.warn(\n",
      "/opt/conda/lib/python3.10/site-packages/monai/transforms/utils.py:743: UserWarning: no available indices of class 2 to crop, setting the crop ratio of this class to zero.\n",
      "  warnings.warn(\n",
      "/opt/conda/lib/python3.10/site-packages/monai/transforms/utils.py:743: UserWarning: no available indices of class 7 to crop, setting the crop ratio of this class to zero.\n",
      "  warnings.warn(\n",
      "/opt/conda/lib/python3.10/site-packages/monai/transforms/utils.py:743: UserWarning: no available indices of class 2 to crop, setting the crop ratio of this class to zero.\n",
      "  warnings.warn(\n",
      "/opt/conda/lib/python3.10/site-packages/monai/transforms/utils.py:743: UserWarning: no available indices of class 7 to crop, setting the crop ratio of this class to zero.\n",
      "  warnings.warn(\n"
     ]
    },
    {
     "name": "stdout",
     "output_type": "stream",
     "text": [
      "batch 1/5, train_loss: 0.7157\n",
      "batch 2/5, train_loss: 0.6557\n",
      "batch 3/5, train_loss: 0.6806\n",
      "batch 4/5, train_loss: 0.7015\n",
      "batch 5/5, train_loss: 0.6659\n",
      "epoch 192 average loss: 0.6839\n"
     ]
    },
    {
     "name": "stderr",
     "output_type": "stream",
     "text": [
      "/opt/conda/lib/python3.10/site-packages/monai/transforms/utils.py:743: UserWarning: no available indices of class 2 to crop, setting the crop ratio of this class to zero.\n",
      "  warnings.warn(\n",
      "/opt/conda/lib/python3.10/site-packages/monai/transforms/utils.py:743: UserWarning: no available indices of class 2 to crop, setting the crop ratio of this class to zero.\n",
      "  warnings.warn(\n",
      "/opt/conda/lib/python3.10/site-packages/monai/transforms/utils.py:743: UserWarning: no available indices of class 7 to crop, setting the crop ratio of this class to zero.\n",
      "  warnings.warn(\n",
      "/opt/conda/lib/python3.10/site-packages/monai/transforms/utils.py:743: UserWarning: no available indices of class 7 to crop, setting the crop ratio of this class to zero.\n",
      "  warnings.warn(\n"
     ]
    },
    {
     "name": "stdout",
     "output_type": "stream",
     "text": [
      "current epoch: 192 current mean recall per class: 0.7227, 0, 0.2622, 0.5904, 0.3851, 0.8305, 0\n",
      "best mean recall: 0.4214 at epoch: 166\n",
      "----------\n",
      "epoch 193/200\n"
     ]
    },
    {
     "name": "stderr",
     "output_type": "stream",
     "text": [
      "/opt/conda/lib/python3.10/site-packages/monai/transforms/utils.py:743: UserWarning: no available indices of class 2 to crop, setting the crop ratio of this class to zero.\n",
      "  warnings.warn(\n",
      "/opt/conda/lib/python3.10/site-packages/monai/transforms/utils.py:743: UserWarning: no available indices of class 7 to crop, setting the crop ratio of this class to zero.\n",
      "  warnings.warn(\n",
      "/opt/conda/lib/python3.10/site-packages/monai/transforms/utils.py:743: UserWarning: no available indices of class 2 to crop, setting the crop ratio of this class to zero.\n",
      "  warnings.warn(\n",
      "/opt/conda/lib/python3.10/site-packages/monai/transforms/utils.py:743: UserWarning: no available indices of class 7 to crop, setting the crop ratio of this class to zero.\n",
      "  warnings.warn(\n",
      "/opt/conda/lib/python3.10/site-packages/monai/transforms/utils.py:743: UserWarning: no available indices of class 2 to crop, setting the crop ratio of this class to zero.\n",
      "  warnings.warn(\n",
      "/opt/conda/lib/python3.10/site-packages/monai/transforms/utils.py:743: UserWarning: no available indices of class 7 to crop, setting the crop ratio of this class to zero.\n",
      "  warnings.warn(\n",
      "/opt/conda/lib/python3.10/site-packages/monai/transforms/utils.py:743: UserWarning: no available indices of class 2 to crop, setting the crop ratio of this class to zero.\n",
      "  warnings.warn(\n",
      "/opt/conda/lib/python3.10/site-packages/monai/transforms/utils.py:743: UserWarning: no available indices of class 7 to crop, setting the crop ratio of this class to zero.\n",
      "  warnings.warn(\n"
     ]
    },
    {
     "name": "stdout",
     "output_type": "stream",
     "text": [
      "batch 1/5, train_loss: 0.7196\n",
      "batch 2/5, train_loss: 0.6552\n",
      "batch 3/5, train_loss: 0.6922\n",
      "batch 4/5, train_loss: 0.6840\n",
      "batch 5/5, train_loss: 0.7054\n",
      "epoch 193 average loss: 0.6913\n",
      "----------\n",
      "epoch 194/200\n"
     ]
    },
    {
     "name": "stderr",
     "output_type": "stream",
     "text": [
      "/opt/conda/lib/python3.10/site-packages/monai/transforms/utils.py:743: UserWarning: no available indices of class 2 to crop, setting the crop ratio of this class to zero.\n",
      "  warnings.warn(\n",
      "/opt/conda/lib/python3.10/site-packages/monai/transforms/utils.py:743: UserWarning: no available indices of class 7 to crop, setting the crop ratio of this class to zero.\n",
      "  warnings.warn(\n",
      "/opt/conda/lib/python3.10/site-packages/monai/transforms/utils.py:743: UserWarning: no available indices of class 2 to crop, setting the crop ratio of this class to zero.\n",
      "  warnings.warn(\n",
      "/opt/conda/lib/python3.10/site-packages/monai/transforms/utils.py:743: UserWarning: no available indices of class 7 to crop, setting the crop ratio of this class to zero.\n",
      "  warnings.warn(\n",
      "/opt/conda/lib/python3.10/site-packages/monai/transforms/utils.py:743: UserWarning: no available indices of class 2 to crop, setting the crop ratio of this class to zero.\n",
      "  warnings.warn(\n",
      "/opt/conda/lib/python3.10/site-packages/monai/transforms/utils.py:743: UserWarning: no available indices of class 2 to crop, setting the crop ratio of this class to zero.\n",
      "  warnings.warn(\n",
      "/opt/conda/lib/python3.10/site-packages/monai/transforms/utils.py:743: UserWarning: no available indices of class 7 to crop, setting the crop ratio of this class to zero.\n",
      "  warnings.warn(\n",
      "/opt/conda/lib/python3.10/site-packages/monai/transforms/utils.py:743: UserWarning: no available indices of class 7 to crop, setting the crop ratio of this class to zero.\n",
      "  warnings.warn(\n"
     ]
    },
    {
     "name": "stdout",
     "output_type": "stream",
     "text": [
      "batch 1/5, train_loss: 0.6882\n",
      "batch 2/5, train_loss: 0.6980\n",
      "batch 3/5, train_loss: 0.7011\n",
      "batch 4/5, train_loss: 0.6846\n",
      "batch 5/5, train_loss: 0.6819\n",
      "epoch 194 average loss: 0.6908\n"
     ]
    },
    {
     "name": "stderr",
     "output_type": "stream",
     "text": [
      "/opt/conda/lib/python3.10/site-packages/monai/transforms/utils.py:743: UserWarning: no available indices of class 2 to crop, setting the crop ratio of this class to zero.\n",
      "  warnings.warn(\n",
      "/opt/conda/lib/python3.10/site-packages/monai/transforms/utils.py:743: UserWarning: no available indices of class 7 to crop, setting the crop ratio of this class to zero.\n",
      "  warnings.warn(\n",
      "/opt/conda/lib/python3.10/site-packages/monai/transforms/utils.py:743: UserWarning: no available indices of class 2 to crop, setting the crop ratio of this class to zero.\n",
      "  warnings.warn(\n",
      "/opt/conda/lib/python3.10/site-packages/monai/transforms/utils.py:743: UserWarning: no available indices of class 7 to crop, setting the crop ratio of this class to zero.\n",
      "  warnings.warn(\n"
     ]
    },
    {
     "name": "stdout",
     "output_type": "stream",
     "text": [
      "current epoch: 194 current mean recall per class: 0.6173, 0, 0.254, 0.5435, 0.3924, 0.7121, 0\n",
      "best mean recall: 0.4214 at epoch: 166\n",
      "----------\n",
      "epoch 195/200\n"
     ]
    },
    {
     "name": "stderr",
     "output_type": "stream",
     "text": [
      "/opt/conda/lib/python3.10/site-packages/monai/transforms/utils.py:743: UserWarning: no available indices of class 2 to crop, setting the crop ratio of this class to zero.\n",
      "  warnings.warn(\n",
      "/opt/conda/lib/python3.10/site-packages/monai/transforms/utils.py:743: UserWarning: no available indices of class 7 to crop, setting the crop ratio of this class to zero.\n",
      "  warnings.warn(\n",
      "/opt/conda/lib/python3.10/site-packages/monai/transforms/utils.py:743: UserWarning: no available indices of class 2 to crop, setting the crop ratio of this class to zero.\n",
      "  warnings.warn(\n",
      "/opt/conda/lib/python3.10/site-packages/monai/transforms/utils.py:743: UserWarning: no available indices of class 7 to crop, setting the crop ratio of this class to zero.\n",
      "  warnings.warn(\n",
      "/opt/conda/lib/python3.10/site-packages/monai/transforms/utils.py:743: UserWarning: no available indices of class 2 to crop, setting the crop ratio of this class to zero.\n",
      "  warnings.warn(\n",
      "/opt/conda/lib/python3.10/site-packages/monai/transforms/utils.py:743: UserWarning: no available indices of class 7 to crop, setting the crop ratio of this class to zero.\n",
      "  warnings.warn(\n",
      "/opt/conda/lib/python3.10/site-packages/monai/transforms/utils.py:743: UserWarning: no available indices of class 2 to crop, setting the crop ratio of this class to zero.\n",
      "  warnings.warn(\n",
      "/opt/conda/lib/python3.10/site-packages/monai/transforms/utils.py:743: UserWarning: no available indices of class 7 to crop, setting the crop ratio of this class to zero.\n",
      "  warnings.warn(\n"
     ]
    },
    {
     "name": "stdout",
     "output_type": "stream",
     "text": [
      "batch 1/5, train_loss: 0.7066\n",
      "batch 2/5, train_loss: 0.7049\n",
      "batch 3/5, train_loss: 0.7109\n",
      "batch 4/5, train_loss: 0.7196\n",
      "batch 5/5, train_loss: 0.7000\n",
      "epoch 195 average loss: 0.7084\n",
      "----------\n",
      "epoch 196/200\n"
     ]
    },
    {
     "name": "stderr",
     "output_type": "stream",
     "text": [
      "/opt/conda/lib/python3.10/site-packages/monai/transforms/utils.py:743: UserWarning: no available indices of class 2 to crop, setting the crop ratio of this class to zero.\n",
      "  warnings.warn(\n",
      "/opt/conda/lib/python3.10/site-packages/monai/transforms/utils.py:743: UserWarning: no available indices of class 7 to crop, setting the crop ratio of this class to zero.\n",
      "  warnings.warn(\n",
      "/opt/conda/lib/python3.10/site-packages/monai/transforms/utils.py:743: UserWarning: no available indices of class 2 to crop, setting the crop ratio of this class to zero.\n",
      "  warnings.warn(\n",
      "/opt/conda/lib/python3.10/site-packages/monai/transforms/utils.py:743: UserWarning: no available indices of class 7 to crop, setting the crop ratio of this class to zero.\n",
      "  warnings.warn(\n",
      "/opt/conda/lib/python3.10/site-packages/monai/transforms/utils.py:743: UserWarning: no available indices of class 2 to crop, setting the crop ratio of this class to zero.\n",
      "  warnings.warn(\n",
      "/opt/conda/lib/python3.10/site-packages/monai/transforms/utils.py:743: UserWarning: no available indices of class 7 to crop, setting the crop ratio of this class to zero.\n",
      "  warnings.warn(\n",
      "/opt/conda/lib/python3.10/site-packages/monai/transforms/utils.py:743: UserWarning: no available indices of class 2 to crop, setting the crop ratio of this class to zero.\n",
      "  warnings.warn(\n",
      "/opt/conda/lib/python3.10/site-packages/monai/transforms/utils.py:743: UserWarning: no available indices of class 7 to crop, setting the crop ratio of this class to zero.\n",
      "  warnings.warn(\n"
     ]
    },
    {
     "name": "stdout",
     "output_type": "stream",
     "text": [
      "batch 1/5, train_loss: 0.6915\n",
      "batch 2/5, train_loss: 0.6693\n",
      "batch 3/5, train_loss: 0.6216\n",
      "batch 4/5, train_loss: 0.7110\n",
      "batch 5/5, train_loss: 0.7039\n",
      "epoch 196 average loss: 0.6795\n"
     ]
    },
    {
     "name": "stderr",
     "output_type": "stream",
     "text": [
      "/opt/conda/lib/python3.10/site-packages/monai/transforms/utils.py:743: UserWarning: no available indices of class 2 to crop, setting the crop ratio of this class to zero.\n",
      "  warnings.warn(\n",
      "/opt/conda/lib/python3.10/site-packages/monai/transforms/utils.py:743: UserWarning: no available indices of class 2 to crop, setting the crop ratio of this class to zero.\n",
      "  warnings.warn(\n",
      "/opt/conda/lib/python3.10/site-packages/monai/transforms/utils.py:743: UserWarning: no available indices of class 7 to crop, setting the crop ratio of this class to zero.\n",
      "  warnings.warn(\n",
      "/opt/conda/lib/python3.10/site-packages/monai/transforms/utils.py:743: UserWarning: no available indices of class 7 to crop, setting the crop ratio of this class to zero.\n",
      "  warnings.warn(\n"
     ]
    },
    {
     "name": "stdout",
     "output_type": "stream",
     "text": [
      "current epoch: 196 current mean recall per class: 0.7389, 0, 0.2857, 0.5628, 0.3908, 0.8604, 0\n",
      "best mean recall: 0.4214 at epoch: 166\n",
      "----------\n",
      "epoch 197/200\n"
     ]
    },
    {
     "name": "stderr",
     "output_type": "stream",
     "text": [
      "/opt/conda/lib/python3.10/site-packages/monai/transforms/utils.py:743: UserWarning: no available indices of class 2 to crop, setting the crop ratio of this class to zero.\n",
      "  warnings.warn(\n",
      "/opt/conda/lib/python3.10/site-packages/monai/transforms/utils.py:743: UserWarning: no available indices of class 7 to crop, setting the crop ratio of this class to zero.\n",
      "  warnings.warn(\n",
      "/opt/conda/lib/python3.10/site-packages/monai/transforms/utils.py:743: UserWarning: no available indices of class 2 to crop, setting the crop ratio of this class to zero.\n",
      "  warnings.warn(\n",
      "/opt/conda/lib/python3.10/site-packages/monai/transforms/utils.py:743: UserWarning: no available indices of class 7 to crop, setting the crop ratio of this class to zero.\n",
      "  warnings.warn(\n",
      "/opt/conda/lib/python3.10/site-packages/monai/transforms/utils.py:743: UserWarning: no available indices of class 2 to crop, setting the crop ratio of this class to zero.\n",
      "  warnings.warn(\n",
      "/opt/conda/lib/python3.10/site-packages/monai/transforms/utils.py:743: UserWarning: no available indices of class 7 to crop, setting the crop ratio of this class to zero.\n",
      "  warnings.warn(\n",
      "/opt/conda/lib/python3.10/site-packages/monai/transforms/utils.py:743: UserWarning: no available indices of class 2 to crop, setting the crop ratio of this class to zero.\n",
      "  warnings.warn(\n",
      "/opt/conda/lib/python3.10/site-packages/monai/transforms/utils.py:743: UserWarning: no available indices of class 7 to crop, setting the crop ratio of this class to zero.\n",
      "  warnings.warn(\n"
     ]
    },
    {
     "name": "stdout",
     "output_type": "stream",
     "text": [
      "batch 1/5, train_loss: 0.7142\n",
      "batch 2/5, train_loss: 0.7086\n",
      "batch 3/5, train_loss: 0.6866\n",
      "batch 4/5, train_loss: 0.6477\n",
      "batch 5/5, train_loss: 0.6745\n",
      "epoch 197 average loss: 0.6863\n",
      "----------\n",
      "epoch 198/200\n"
     ]
    },
    {
     "name": "stderr",
     "output_type": "stream",
     "text": [
      "/opt/conda/lib/python3.10/site-packages/monai/transforms/utils.py:743: UserWarning: no available indices of class 2 to crop, setting the crop ratio of this class to zero.\n",
      "  warnings.warn(\n",
      "/opt/conda/lib/python3.10/site-packages/monai/transforms/utils.py:743: UserWarning: no available indices of class 7 to crop, setting the crop ratio of this class to zero.\n",
      "  warnings.warn(\n",
      "/opt/conda/lib/python3.10/site-packages/monai/transforms/utils.py:743: UserWarning: no available indices of class 2 to crop, setting the crop ratio of this class to zero.\n",
      "  warnings.warn(\n",
      "/opt/conda/lib/python3.10/site-packages/monai/transforms/utils.py:743: UserWarning: no available indices of class 7 to crop, setting the crop ratio of this class to zero.\n",
      "  warnings.warn(\n",
      "/opt/conda/lib/python3.10/site-packages/monai/transforms/utils.py:743: UserWarning: no available indices of class 2 to crop, setting the crop ratio of this class to zero.\n",
      "  warnings.warn(\n",
      "/opt/conda/lib/python3.10/site-packages/monai/transforms/utils.py:743: UserWarning: no available indices of class 7 to crop, setting the crop ratio of this class to zero.\n",
      "  warnings.warn(\n",
      "/opt/conda/lib/python3.10/site-packages/monai/transforms/utils.py:743: UserWarning: no available indices of class 2 to crop, setting the crop ratio of this class to zero.\n",
      "  warnings.warn(\n",
      "/opt/conda/lib/python3.10/site-packages/monai/transforms/utils.py:743: UserWarning: no available indices of class 7 to crop, setting the crop ratio of this class to zero.\n",
      "  warnings.warn(\n"
     ]
    },
    {
     "name": "stdout",
     "output_type": "stream",
     "text": [
      "batch 1/5, train_loss: 0.7385\n",
      "batch 2/5, train_loss: 0.6888\n",
      "batch 3/5, train_loss: 0.6655\n",
      "batch 4/5, train_loss: 0.6526\n",
      "batch 5/5, train_loss: 0.7191\n",
      "epoch 198 average loss: 0.6929\n"
     ]
    },
    {
     "name": "stderr",
     "output_type": "stream",
     "text": [
      "/opt/conda/lib/python3.10/site-packages/monai/transforms/utils.py:743: UserWarning: no available indices of class 2 to crop, setting the crop ratio of this class to zero.\n",
      "  warnings.warn(\n",
      "/opt/conda/lib/python3.10/site-packages/monai/transforms/utils.py:743: UserWarning: no available indices of class 7 to crop, setting the crop ratio of this class to zero.\n",
      "  warnings.warn(\n",
      "/opt/conda/lib/python3.10/site-packages/monai/transforms/utils.py:743: UserWarning: no available indices of class 2 to crop, setting the crop ratio of this class to zero.\n",
      "  warnings.warn(\n",
      "/opt/conda/lib/python3.10/site-packages/monai/transforms/utils.py:743: UserWarning: no available indices of class 7 to crop, setting the crop ratio of this class to zero.\n",
      "  warnings.warn(\n"
     ]
    },
    {
     "name": "stdout",
     "output_type": "stream",
     "text": [
      "current epoch: 198 current mean recall per class: 0.7934, 0, 0.2582, 0.6516, 0.3609, 0.85, 0\n",
      "best mean recall: 0.4214 at epoch: 166\n",
      "----------\n",
      "epoch 199/200\n"
     ]
    },
    {
     "name": "stderr",
     "output_type": "stream",
     "text": [
      "/opt/conda/lib/python3.10/site-packages/monai/transforms/utils.py:743: UserWarning: no available indices of class 2 to crop, setting the crop ratio of this class to zero.\n",
      "  warnings.warn(\n",
      "/opt/conda/lib/python3.10/site-packages/monai/transforms/utils.py:743: UserWarning: no available indices of class 7 to crop, setting the crop ratio of this class to zero.\n",
      "  warnings.warn(\n",
      "/opt/conda/lib/python3.10/site-packages/monai/transforms/utils.py:743: UserWarning: no available indices of class 2 to crop, setting the crop ratio of this class to zero.\n",
      "  warnings.warn(\n",
      "/opt/conda/lib/python3.10/site-packages/monai/transforms/utils.py:743: UserWarning: no available indices of class 7 to crop, setting the crop ratio of this class to zero.\n",
      "  warnings.warn(\n",
      "/opt/conda/lib/python3.10/site-packages/monai/transforms/utils.py:743: UserWarning: no available indices of class 2 to crop, setting the crop ratio of this class to zero.\n",
      "  warnings.warn(\n",
      "/opt/conda/lib/python3.10/site-packages/monai/transforms/utils.py:743: UserWarning: no available indices of class 2 to crop, setting the crop ratio of this class to zero.\n",
      "  warnings.warn(\n",
      "/opt/conda/lib/python3.10/site-packages/monai/transforms/utils.py:743: UserWarning: no available indices of class 7 to crop, setting the crop ratio of this class to zero.\n",
      "  warnings.warn(\n",
      "/opt/conda/lib/python3.10/site-packages/monai/transforms/utils.py:743: UserWarning: no available indices of class 7 to crop, setting the crop ratio of this class to zero.\n",
      "  warnings.warn(\n"
     ]
    },
    {
     "name": "stdout",
     "output_type": "stream",
     "text": [
      "batch 1/5, train_loss: 0.6474\n",
      "batch 2/5, train_loss: 0.7472\n",
      "batch 3/5, train_loss: 0.6783\n",
      "batch 4/5, train_loss: 0.6474\n",
      "batch 5/5, train_loss: 0.7072\n",
      "epoch 199 average loss: 0.6855\n",
      "----------\n",
      "epoch 200/200\n"
     ]
    },
    {
     "name": "stderr",
     "output_type": "stream",
     "text": [
      "/opt/conda/lib/python3.10/site-packages/monai/transforms/utils.py:743: UserWarning: no available indices of class 2 to crop, setting the crop ratio of this class to zero.\n",
      "  warnings.warn(\n",
      "/opt/conda/lib/python3.10/site-packages/monai/transforms/utils.py:743: UserWarning: no available indices of class 7 to crop, setting the crop ratio of this class to zero.\n",
      "  warnings.warn(\n",
      "/opt/conda/lib/python3.10/site-packages/monai/transforms/utils.py:743: UserWarning: no available indices of class 2 to crop, setting the crop ratio of this class to zero.\n",
      "  warnings.warn(\n",
      "/opt/conda/lib/python3.10/site-packages/monai/transforms/utils.py:743: UserWarning: no available indices of class 2 to crop, setting the crop ratio of this class to zero.\n",
      "  warnings.warn(\n",
      "/opt/conda/lib/python3.10/site-packages/monai/transforms/utils.py:743: UserWarning: no available indices of class 7 to crop, setting the crop ratio of this class to zero.\n",
      "  warnings.warn(\n",
      "/opt/conda/lib/python3.10/site-packages/monai/transforms/utils.py:743: UserWarning: no available indices of class 7 to crop, setting the crop ratio of this class to zero.\n",
      "  warnings.warn(\n",
      "/opt/conda/lib/python3.10/site-packages/monai/transforms/utils.py:743: UserWarning: no available indices of class 2 to crop, setting the crop ratio of this class to zero.\n",
      "  warnings.warn(\n",
      "/opt/conda/lib/python3.10/site-packages/monai/transforms/utils.py:743: UserWarning: no available indices of class 7 to crop, setting the crop ratio of this class to zero.\n",
      "  warnings.warn(\n"
     ]
    },
    {
     "name": "stdout",
     "output_type": "stream",
     "text": [
      "batch 1/5, train_loss: 0.7145\n",
      "batch 2/5, train_loss: 0.6669\n",
      "batch 3/5, train_loss: 0.6878\n",
      "batch 4/5, train_loss: 0.7377\n",
      "batch 5/5, train_loss: 0.6602\n",
      "epoch 200 average loss: 0.6934\n"
     ]
    },
    {
     "name": "stderr",
     "output_type": "stream",
     "text": [
      "/opt/conda/lib/python3.10/site-packages/monai/transforms/utils.py:743: UserWarning: no available indices of class 2 to crop, setting the crop ratio of this class to zero.\n",
      "  warnings.warn(\n",
      "/opt/conda/lib/python3.10/site-packages/monai/transforms/utils.py:743: UserWarning: no available indices of class 2 to crop, setting the crop ratio of this class to zero.\n",
      "  warnings.warn(\n",
      "/opt/conda/lib/python3.10/site-packages/monai/transforms/utils.py:743: UserWarning: no available indices of class 7 to crop, setting the crop ratio of this class to zero.\n",
      "  warnings.warn(\n",
      "/opt/conda/lib/python3.10/site-packages/monai/transforms/utils.py:743: UserWarning: no available indices of class 7 to crop, setting the crop ratio of this class to zero.\n",
      "  warnings.warn(\n"
     ]
    },
    {
     "name": "stdout",
     "output_type": "stream",
     "text": [
      "current epoch: 200 current mean recall per class: 0.7069, 0, 0.2296, 0.667, 0.3891, 0.86, 0\n",
      "best mean recall: 0.4214 at epoch: 166\n"
     ]
    },
    {
     "name": "stderr",
     "output_type": "stream",
     "text": [
      "2024/11/08 06:19:59 WARNING mlflow.utils.environment: Encountered an unexpected error while inferring pip requirements (model URI: /tmp/tmpp7stw5_2/model/data, flavor: pytorch). Fall back to return ['torch==2.4.0', 'cloudpickle==3.0.0']. Set logging level to DEBUG to see the full traceback. \n",
      "2024/11/08 06:19:59 WARNING mlflow.models.model: Model logged without a signature and input example. Please set `input_example` parameter when logging the model to auto infer the model signature.\n"
     ]
    }
   ],
   "source": [
    "from torchinfo import summary\n",
    "\n",
    "mlflow.end_run()\n",
    "mlflow.set_experiment('training 3D U-Net model for the cryoET ML Challenge')\n",
    "epochs = 200\n",
    "with mlflow.start_run():\n",
    "    params = {\n",
    "        \"epochs\": epochs,\n",
    "        \"learning_rate\": lr,\n",
    "        \"loss_function\": loss_function.__class__.__name__,\n",
    "        \"metric_function\": recall_metric.__class__.__name__,\n",
    "        \"optimizer\": \"Adam\",\n",
    "    }\n",
    "    # Log training parameters.\n",
    "    mlflow.log_params(params)\n",
    "\n",
    "    # Log model summary.\n",
    "    with open(\"model_summary.txt\", \"w\") as f:\n",
    "        f.write(str(summary(model)))\n",
    "    mlflow.log_artifact(\"model_summary.txt\")\n",
    "\n",
    "    train(train_loader, model, loss_function, dice_metric, optimizer, max_epochs=epochs)\n",
    "\n",
    "    # Save the trained model to MLflow.\n",
    "    mlflow.pytorch.log_model(model, \"model\")"
   ]
  }
 ],
 "metadata": {
  "kaggle": {
   "accelerator": "nvidiaTeslaT4",
   "dataSources": [
    {
     "databundleVersionId": 10033515,
     "sourceId": 84969,
     "sourceType": "competition"
    }
   ],
   "dockerImageVersionId": 30787,
   "isGpuEnabled": true,
   "isInternetEnabled": true,
   "language": "python",
   "sourceType": "notebook"
  },
  "kernelspec": {
   "display_name": "Python 3",
   "language": "python",
   "name": "python3"
  },
  "language_info": {
   "codemirror_mode": {
    "name": "ipython",
    "version": 3
   },
   "file_extension": ".py",
   "mimetype": "text/x-python",
   "name": "python",
   "nbconvert_exporter": "python",
   "pygments_lexer": "ipython3",
   "version": "3.10.14"
  },
  "papermill": {
   "default_parameters": {},
   "duration": 3146.165657,
   "end_time": "2024-11-08T06:20:03.566092",
   "environment_variables": {},
   "exception": null,
   "input_path": "__notebook__.ipynb",
   "output_path": "__notebook__.ipynb",
   "parameters": {},
   "start_time": "2024-11-08T05:27:37.400435",
   "version": "2.6.0"
  }
 },
 "nbformat": 4,
 "nbformat_minor": 5
}
